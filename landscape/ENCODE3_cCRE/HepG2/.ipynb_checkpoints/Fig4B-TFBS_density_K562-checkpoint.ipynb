{
 "cells": [
  {
   "cell_type": "code",
   "execution_count": 1,
   "metadata": {},
   "outputs": [
    {
     "data": {
      "text/plain": [
       "'0.11.2'"
      ]
     },
     "execution_count": 1,
     "metadata": {},
     "output_type": "execute_result"
    }
   ],
   "source": [
    "import matplotlib.pyplot as plt\n",
    "import numpy as np\n",
    "import os\n",
    "import pandas as pd\n",
    "from scipy import stats\n",
    "import seaborn as sns\n",
    "\n",
    "import statsmodels\n",
    "import statsmodels.api as sm\n",
    "import subprocess\n",
    "sns.__version__ "
   ]
  },
  {
   "cell_type": "markdown",
   "metadata": {},
   "source": [
    "# paths and files"
   ]
  },
  {
   "cell_type": "code",
   "execution_count": 2,
   "metadata": {},
   "outputs": [
    {
     "data": {
      "image/png": "[encoded data removed]",
      "text/plain": [
       "<Figure size 216x72 with 1 Axes>"
      ]
     },
     "metadata": {
      "needs_background": "light"
     },
     "output_type": "display_data"
    },
    {
     "data": {
      "image/png": "[encoded data removed]",
      "text/plain": [
       "<Figure size 72x72 with 1 Axes>"
      ]
     },
     "metadata": {
      "needs_background": "light"
     },
     "output_type": "display_data"
    }
   ],
   "source": [
    "ENHBASE = \"/dors/capra_lab/projects/enhancer_ages/encode/data/\"\n",
    "\n",
    "ENCODEPATH = \"/dors/capra_lab/data/encode/encode3_hg38/TF/\"\n",
    "\n",
    "RE = \"/dors/capra_lab/projects/enhancer_ages/landscape/results/cCRE_x_tfbs_encode3/K562/\"\n",
    "RE_DATA = RE + \"data/\"\n",
    "\n",
    "if os.path.exists(RE_DATA) == False:\n",
    "    os.mkdir(RE_DATA)\n",
    "\n",
    "colors = [ \"amber\", \"dusty purple\", \"windows blue\"]\n",
    "PAL = sns.xkcd_palette(colors)\n",
    "sns.palplot(PAL)\n",
    "\n",
    "colors = [ \"windows blue\"]\n",
    "DERPAL = sns.xkcd_palette(colors)\n",
    "sns.palplot(DERPAL)\n",
    "#%% Functions"
   ]
  },
  {
   "cell_type": "markdown",
   "metadata": {},
   "source": [
    "# Functions"
   ]
  },
  {
   "cell_type": "markdown",
   "metadata": {},
   "source": [
    "## set up variables, paths, format df"
   ]
  },
  {
   "cell_type": "code",
   "execution_count": 3,
   "metadata": {},
   "outputs": [],
   "source": [
    "def get_cell_lines():\n",
    "    sample_dict = {\n",
    "    \"K562\": \"ELS_combined_K562\",\n",
    "    }\n",
    "\n",
    "    return sample_dict\n",
    "\n",
    "\n",
    "def get_paths(cell_line, file_tag, fantombase, encodepath):\n",
    "\n",
    "    FANTOMPATH = os.path.join(fantombase, file_tag, \"ages\")\n",
    "    FANTOMFILE = \"syn_breaks_%s_ages.bed\" % file_tag\n",
    "    FANTOM = os.path.join(FANTOMPATH, FANTOMFILE)\n",
    "\n",
    "    if \"CL\" in cell_line:\n",
    "        ENCODEFILE = \"cells/\" + cell_line.split(\"_CL\")[0] + \".bed.gz\"\n",
    "    elif cell_line == \"all_fantom_enh\":\n",
    "        ENCODEFILE = \"trimmed_encRegTfbsClusteredWithCells.bed\"\n",
    "    else:\n",
    "        ENCODEFILE = \"cells/\" + cell_line + \".bed.gz\"\n",
    "\n",
    "    ENCODE = os.path.join(encodepath, ENCODEFILE)\n",
    "\n",
    "\n",
    "    INTERSECTIONPATH = os.path.join(fantombase, file_tag)\n",
    "    INTERSECTIONFILE = \"%s_x_ENCODE.bed\" % file_tag\n",
    "    INTERSECTION = os.path.join(INTERSECTIONPATH, INTERSECTIONFILE)\n",
    "\n",
    "    return FANTOM, ENCODE, INTERSECTION\n",
    "\n",
    "\n",
    "def bed_intersect(fantom, encode, intersection):\n",
    "\n",
    "    if os.path.exists(intersection) == False:\n",
    "        cmd = \"bedtools intersect -a %s -b %s -wao > %s\" % (fantom, encode, intersection)\n",
    "\n",
    "        subprocess.call(cmd, shell = True)\n",
    "\n",
    "        print(cmd)\n",
    "    else:\n",
    "        print(\"previously done enh x encode intersection\")\n",
    "\n",
    "\n",
    "def get_core_age(df):\n",
    "    core = df.groupby(\"enh_id\")[\"mrca_2\"].max().reset_index()\n",
    "    core.columns = [\"enh_id\", 'core_mrca_2']\n",
    "    df = pd.merge(df, core, how = \"left\")\n",
    "\n",
    "    return df\n",
    "\n",
    "\n",
    "def reEval_PrimComplex(enh):\n",
    "\n",
    "    # get all the complex enhancers w/ primate core ages\n",
    "    prComEnhID = enh.loc[(enh.core ==1) &\n",
    "    (enh.core_remodeling ==1) &\n",
    "    (enh.taxon2.str.contains(\"Primate\"))][\"enh_id\"].unique()\n",
    "\n",
    "    # get all the complex enhancer ids where there is a real human derived sequence\n",
    "    pr_complex = enh.loc[(enh.enh_id.isin(prComEnhID)) &\n",
    "    (enh.core_remodeling == 1) &\n",
    "    (enh.core ==0) &\n",
    "    (enh.mrca ==0),\n",
    "    ][\"enh_id\"]\n",
    "\n",
    "\n",
    "    # i'm going to reassign any primate complex enhancer\n",
    "    # where derived regions are from other primates\n",
    "    # get the set of primate complex enhancers w/ primate derived sequences\n",
    "    # and rename them as simple enhancers\n",
    "    pr_simple = set(prComEnhID) - set(pr_complex)\n",
    "\n",
    "    # reassign core and core remodeling columns\n",
    "    enh.loc[enh.enh_id.isin(pr_simple), \"core\"] = 1\n",
    "    enh.loc[enh.enh_id.isin(pr_simple), \"core_remodeling\"] = 0\n",
    "    return enh\n",
    "\n",
    "\n",
    "def format_df(intersection_file):\n",
    "\n",
    "    SYN_GROUP = \"/dors/capra_lab/projects/enhancer_ages/hg38_syn_taxon.bed\"\n",
    "    syn = pd.read_csv(SYN_GROUP, sep = '\\t')\n",
    "\n",
    "    # round all values\n",
    "    syn[[\"mrca\", \"mrca_2\"]] = syn[[\"mrca\", \"mrca_2\"]].round(3)\n",
    "\n",
    "    # do the dance - add mrca_2 column, get mrca_2 core age, drop mrca_2 column, then add it back, but this time to reflect the core_age and core taxon, instead of the syntenic age.\n",
    "    \n",
    "    cols = [\"chr_syn\", \"start_syn\", \"end_syn\",\n",
    "    \"enh_id\",\"chr\", \"start\", \"end\",\n",
    "    \"seg_index\", \"core_remodeling\", \"core\",\n",
    "    \"mrca\",\n",
    "    \"chr_tf\", \"start_tf\", \"end_tf\",\n",
    "    \"tf_id\", \"peak_len\",\n",
    "    \"tf\", \"cell_line\" , \"overlap\"\n",
    "    ]\n",
    "\n",
    "    df = pd.read_csv(intersection_file,\n",
    "    sep = '\\t',\n",
    "    header = None).drop_duplicates()\n",
    "\n",
    "    df.columns = cols # add column names\n",
    "    df = pd.merge(df, syn[[\"mrca\", \"mrca_2\"]], how = \"left\")\n",
    "    df[\"tf\"] = df[\"tf_id\"].apply(lambda x: x.split(\"_\")[0])\n",
    "\n",
    "    # add architecture label - core, derived, simple\n",
    "    df[\"arch\"] = \"simple\"\n",
    "    df.loc[(df.core_remodeling ==1) & (df.core ==1), \"arch\"] = \"complex_core\"\n",
    "    df.loc[(df.core_remodeling ==1) & (df.core ==0), \"arch\"] = \"complex_derived\"\n",
    "    df.mrca = df.mrca.round(3)\n",
    "    df = pd.merge(df, syn[[\"mrca\", \"mrca_2\", \"taxon2\"]], how = \"left\")\n",
    "    df = reEval_PrimComplex(df)\n",
    "\n",
    "    # add architecture label - complex, simple\n",
    "    df[\"overallarch\"] = \"simple\"\n",
    "    df.loc[df.core_remodeling ==1, \"overallarch\"] = \"complex\"\n",
    "\n",
    "    # add syn identifier\n",
    "    df[\"syn_id\"] = df.chr_syn + \":\" + df.start_syn.map(str) + \"-\" + df.end_syn.map(str)\n",
    "\n",
    "    #calculate enhancer and syntenic block length\n",
    "    df[\"enh_len\"] = df.end - df.start\n",
    "    df[\"syn_len\"] = df.end_syn - df.start_syn\n",
    "    df.loc[df.syn_len <6, \"syn_len\"] = 0\n",
    "\n",
    "\n",
    "    # binary for TF overlap, any TF that overlaps less than 6bp is not counted.\n",
    "    df[\"tfoverlap_bin\"] = 1\n",
    "    df.loc[df.tf == \".\", \"tfoverlap_bin\"] = 0\n",
    "    df.loc[df.overlap <6 , \"tfoverlap_bin\"] = 0\n",
    "\n",
    "\n",
    "    return df"
   ]
  },
  {
   "cell_type": "markdown",
   "metadata": {},
   "source": [
    "## count enhancers"
   ]
  },
  {
   "cell_type": "code",
   "execution_count": 4,
   "metadata": {},
   "outputs": [],
   "source": [
    "def count_enhancers(df, arch):\n",
    "\n",
    "    if arch == \"enh\":\n",
    "        enh_df = df.groupby([\"enh_id\", \"core_remodeling\", \"overallarch\"])[[\"mrca\", \"seg_index\"]].max().reset_index()\n",
    "\n",
    "        totalenh_n = len(enh_df) #30279 enhancers total\n",
    "        simpleenh_n = len(enh_df.loc[enh_df.overallarch == \"simple\"]) #14098 simple enhancers\n",
    "        complexenh_n = len(enh_df.loc[enh_df.overallarch != \"simple\"]) # 8744 complex enhancers\n",
    "\n",
    "\n",
    "        return totalenh_n, simpleenh_n, complexenh_n\n",
    "\n",
    "    elif arch == \"syn\":\n",
    "\n",
    "        total = len(df)\n",
    "        core_n = df.loc[df.arch == \"complex_core\"][\"syn_id\"].count()\n",
    "        derived_n = df.loc[df.arch == \"complex_derived\"][\"syn_id\"].count()\n",
    "        simple_n = df.loc[df.arch == \"simple\"][\"syn_id\"].count()\n",
    "\n",
    "        return total, core_n, derived_n, simple_n\n",
    "\n",
    "\n",
    "def just_get_df(cell_line, val, fantombase, encodepath,):\n",
    "    print(cell_line, val)\n",
    "    fantom, encode, intersection = get_paths(cell_line, val, fantombase, encodepath)\n",
    "\n",
    "    #Bed command\n",
    "    bed_intersect(fantom, encode, intersection)\n",
    "\n",
    "    #dataframe\n",
    "    df = format_df(intersection)\n",
    "\n",
    "    return df"
   ]
  },
  {
   "cell_type": "markdown",
   "metadata": {},
   "source": [
    "## plot summarized tf density"
   ]
  },
  {
   "cell_type": "code",
   "execution_count": 5,
   "metadata": {},
   "outputs": [],
   "source": [
    "def plot_summarized_TFden(cplx, zeros):\n",
    "    if zeros == True:\n",
    "        outf = f\"{RE}complex_arch_den_w_zeros.pdf\"\n",
    "    else:\n",
    "        outf = f\"{RE}complex_arch_den_wo_zeros.pdf\"\n",
    "\n",
    "    cplx_der = cplx.loc[cplx.arch == \"complex_derived\", \"tf_density\"]\n",
    "    cplx_core = cplx.loc[cplx.arch == \"complex_core\", \"tf_density\"]\n",
    "    print(\"mwu\", stats.mannwhitneyu(cplx_der, cplx_core))\n",
    "    print(\"der median TFBS density\", cplx_der.median(), \"core median TFBS density\",cplx_core.median())\n",
    "    sns.barplot(x = \"arch\", y = \"tf_density\", data = cplx, estimator = np.median)\n",
    "     # when summarizing at the whole sequence level, derived and core sequences have similar tfbs densities.\n",
    "\n",
    "    plt.savefig(outf, bbox_inches = \"tight\")"
   ]
  },
  {
   "cell_type": "markdown",
   "metadata": {},
   "source": [
    "## joint plot function"
   ]
  },
  {
   "cell_type": "markdown",
   "metadata": {},
   "source": [
    "## linear regression function"
   ]
  },
  {
   "cell_type": "code",
   "execution_count": 6,
   "metadata": {},
   "outputs": [],
   "source": [
    "def lin_regress(table):\n",
    "    cplx_der = table[\"complex_derived\"]\n",
    "    cplx_core = table[\"complex_core\"]\n",
    "    print(\"der median\", cplx_der.median(), \"core median\", cplx_core.median()) #0.021 0.024\n",
    "    print(stats.linregress(cplx_der,cplx_core))"
   ]
  },
  {
   "cell_type": "markdown",
   "metadata": {},
   "source": [
    "# get the dataframe"
   ]
  },
  {
   "cell_type": "code",
   "execution_count": 7,
   "metadata": {},
   "outputs": [
    {
     "name": "stdout",
     "output_type": "stream",
     "text": [
      "K562 ELS_combined_K562\n",
      "previously done enh x encode intersection\n"
     ]
    }
   ],
   "source": [
    "#%%\n",
    "\n",
    "sample_dict = get_cell_lines()\n",
    "\n",
    "#%%\n",
    "cell_line = \"K562\"\n",
    "val = f\"ELS_combined_{cell_line}\"\n",
    "\n",
    "df_file = f\"{RE_DATA}{cell_line}_df.tsv\"\n",
    "\n",
    "df = just_get_df(cell_line, val, ENHBASE, ENCODEPATH,)"
   ]
  },
  {
   "cell_type": "markdown",
   "metadata": {},
   "source": [
    "# calculate TFBS density\n",
    "- divide syntenic length by TFBS count (center 30bp of ChIP-peak)\n",
    "- exclude syntenic blocks that are less than 6bp in length"
   ]
  },
  {
   "cell_type": "code",
   "execution_count": 8,
   "metadata": {},
   "outputs": [
    {
     "name": "stdout",
     "output_type": "stream",
     "text": [
      "3795\n"
     ]
    }
   ],
   "source": [
    "#%% group all der and core regions together and assess tfbs density.\n",
    "\n",
    "# count the number of TFBS per core/derived region. Not core/derived syntenic block .\n",
    "# Lumps multiple derived/ core sequences into one derived/ core region with one summed TFBS count.\n",
    "tfden = df.groupby([\"enh_id\",  \"arch\", \"core\"])[[\"tfoverlap_bin\"]].sum().reset_index()\n",
    "\n",
    "# summarize how long the core, derived regions are.\n",
    "# Lumps multiple derived/ core sequences into one derived/ core region.\n",
    "lens = df[['enh_id', \"core\", \"syn_id\", \"syn_len\"]].drop_duplicates()\n",
    "\n",
    "seg_lens = lens.groupby([\"enh_id\", \"core\"])[\"syn_len\"].sum().reset_index()\n",
    "tfden = pd.merge(tfden, seg_lens)\n",
    "tfden[\"tf_density\"] = tfden[\"tfoverlap_bin\"].divide(tfden.syn_len)\n",
    "\n",
    "\n",
    "# 6 bp filter\n",
    "\n",
    "# remove any complex enhancers that are shorter than 6 bp in length\n",
    "black_list = tfden.loc[tfden[\"syn_len\"] == 0, \"enh_id\"].unique() # removes 4295 complex enhancers.\n",
    "print(len(black_list))\n",
    "tfden = tfden.loc[~tfden.enh_id.isin(black_list)]"
   ]
  },
  {
   "cell_type": "markdown",
   "metadata": {},
   "source": [
    "## plot tfbs density"
   ]
  },
  {
   "cell_type": "code",
   "execution_count": 9,
   "metadata": {},
   "outputs": [
    {
     "name": "stdout",
     "output_type": "stream",
     "text": [
      "mwu MannwhitneyuResult(statistic=196344286.5, pvalue=1.0869451097572751e-10)\n",
      "der median TFBS density 0.04 core median TFBS density 0.043478260869565216\n",
      "mwu MannwhitneyuResult(statistic=136125014.5, pvalue=0.018031231060662234)\n",
      "der median TFBS density 0.06 core median TFBS density 0.05859375\n"
     ]
    },
    {
     "data": {
      "text/plain": [
       "(14142, 3)"
      ]
     },
     "execution_count": 9,
     "metadata": {},
     "output_type": "execute_result"
    },
    {
     "data": {
      "image/png": "[encoded data removed]",
      "text/plain": [
       "<Figure size 432x288 with 1 Axes>"
      ]
     },
     "metadata": {
      "needs_background": "light"
     },
     "output_type": "display_data"
    }
   ],
   "source": [
    "#%% only complex enhancers\n",
    "cplx = tfden.loc[tfden.arch != 'simple']\n",
    "zeros = True\n",
    "plot_summarized_TFden(cplx, zeros)\n",
    "\n",
    "#%% complex enhancer without core | der elements w/ no TFBS\n",
    "cplx_ = cplx.loc[cplx.tf_density >0]\n",
    "zeros = False\n",
    "plot_summarized_TFden(cplx_, zeros)\n",
    "\n",
    "#%%\n",
    "table = cplx.pivot(index = \"enh_id\", columns = \"arch\", values = \"tf_density\")\n",
    "table[\"sum\"] = table.sum(axis = 1)\n",
    "\n",
    "# make a table where enhancer must have TFBS evidence\n",
    "# in core OR derived\n",
    "table_ = table.loc[table[\"sum\"]>0] # 20263 complex enhancers bind a TF\n",
    "table_.shape\n",
    "\n",
    "# in core AND derived TFBS evidence\n",
    "table_nonzerosyn = table_.loc[\n",
    "(table_[\"complex_core\"] > 0)\n",
    "& (table_[\"complex_derived\"] > 0)\n",
    "]\n",
    "\n",
    "table_nonzerosyn.shape # (11899, 3)"
   ]
  },
  {
   "cell_type": "markdown",
   "metadata": {},
   "source": [
    "# plot joint plot"
   ]
  },
  {
   "cell_type": "code",
   "execution_count": 10,
   "metadata": {},
   "outputs": [],
   "source": [
    "def plot_jointplots(table, zeros, quant, kind):\n",
    "    x, y = \"complex_core\",\"complex_derived\",\n",
    "\n",
    "\n",
    "\n",
    "    # plot 95% quantile of data\n",
    "    dq = table[\"complex_derived\"].quantile(quant)\n",
    "    cq = table[\"complex_core\"].quantile(quant)\n",
    "    q = max([dq,cq])\n",
    "\n",
    "    # subset table to 95% of data\n",
    "    table_ = table.loc[(table[\"complex_derived\"] <= q)\n",
    "    & (table[\"complex_core\"]<=q)]\n",
    "    \n",
    "    # set axis limits to max quantile of data\n",
    "    lim = (0,q)\n",
    "\n",
    "    if zeros == True:\n",
    "        outf = f\"{RE}sum_complex_core_v_der_den_w_zeros\"\n",
    "    else:\n",
    "        outf = f\"{RE}sum_complex_core_v_der_den_wo_zeros\"\n",
    "\n",
    "    g = sns.JointGrid(x=x, y=y, data = table_, marginal_ticks=True)\n",
    "    \n",
    "    g.plot_joint(sns.histplot, color = '#31a354', alpha = 0.7)\n",
    "\n",
    "    g.plot_marginals(sns.histplot,\n",
    "    edgecolor=\".2\", linewidth=.5,\n",
    "    color = \"#31a354\",\n",
    "    )\n",
    "\n",
    "    # set derived histogram color\n",
    "    plt.setp(g.ax_marg_y.patches, color=\"#addd8e\", edgecolor=\".2\", linewidth=.5)\n",
    "\n",
    "    t = [0, 0.05, 0.1, 0.15, 0.20]\n",
    "    g.ax_joint.set_xticks(t)\n",
    "    g.ax_joint.set_yticks(t)\n",
    "    g.ax_joint.set_xlabel(\"Core TFBS density\")\n",
    "    g.ax_joint.set_ylabel(\"Derived TFBS density\")\n",
    "\n",
    "    # add KDE plot\n",
    "    g.plot_joint(sns.regplot, color=\"k\",\n",
    "    marker=\"+\", scatter_kws ={\"s\":0},\n",
    "    )\n",
    "\n",
    "    lin_regress(table_)\n",
    "\n",
    "    outf_ = outf + f\"_{quant}_{kind}.pdf\"\n",
    "    plt.savefig(outf_, bbox_inches = \"tight\", dpi = 60)\n",
    "    plt.show()"
   ]
  },
  {
   "cell_type": "code",
   "execution_count": 11,
   "metadata": {},
   "outputs": [
    {
     "name": "stdout",
     "output_type": "stream",
     "text": [
      "der median 0.03816793893129771 core median 0.041666666666666664\n",
      "LinregressResult(slope=0.4312216419896674, intercept=0.04000006601694993, rvalue=0.4299684702216631, pvalue=0.0, stderr=0.006870513567089545)\n"
     ]
    },
    {
     "data": {
      "image/png": "[encoded data removed]",
      "text/plain": [
       "<Figure size 432x432 with 3 Axes>"
      ]
     },
     "metadata": {
      "needs_background": "light"
     },
     "output_type": "display_data"
    }
   ],
   "source": [
    "#%% core OR derived joint plot\n",
    "\n",
    "#quants = [0.95, 0.75]\n",
    "\n",
    "#kinds = [\"hex\", \"hist\", \"kde\", \"reg\", \"resid\"]\n",
    "\n",
    "kind = \"hist\"\n",
    "quant = 0.95\n",
    "\n",
    "zeros, tble = True, table_\n",
    "plot_jointplots(tble, zeros, quant, kind)"
   ]
  },
  {
   "cell_type": "code",
   "execution_count": 12,
   "metadata": {
    "code_folding": []
   },
   "outputs": [
    {
     "name": "stdout",
     "output_type": "stream",
     "text": [
      "2933\n",
      "2017\n",
      "der median 0.06060606060606061 core median 0.06333571046532359\n",
      "LinregressResult(slope=0.39280243002571, intercept=0.05641213095094309, rvalue=0.3856789809699336, pvalue=0.0, stderr=0.008277218757858328)\n"
     ]
    },
    {
     "data": {
      "image/png": "[encoded data removed]",
      "text/plain": [
       "<Figure size 432x432 with 3 Axes>"
      ]
     },
     "metadata": {
      "needs_background": "light"
     },
     "output_type": "display_data"
    },
    {
     "data": {
      "text/plain": [
       "'\\n# 95%\\nw/0\\nder median 0.01639344262295082 core median 0.022026431718061675\\nLinregressResult(slope=0.2740493364285827, intercept=0.025857669889984305, rvalue=0.2730234869080214, pvalue=0.0, stderr=0.007106889008775947)\\n\\nw/o0\\nder median 0.03636363636363636 core median 0.03937007874015748\\nLinregressResult(slope=0.23408839183624733, intercept=0.04017769440564996, rvalue=0.23803829671851803, pvalue=5.113126292512663e-140, stderr=0.009157399629014606)\\n\\n'"
      ]
     },
     "execution_count": 12,
     "metadata": {},
     "output_type": "execute_result"
    }
   ],
   "source": [
    "#LinregressResult(slope=0.22504764240874248, intercept=0.03395466305726717, rvalue=0.28536843920172467, pvalue=0.0, stderr=0.005310243521041514)\n",
    "\n",
    "#\n",
    "print(len(tble.loc[tble[\"complex_derived\"] == 0])) # 5211 = 26% of enhancers have derived sequence with no tfbs\n",
    "print(len(tble.loc[tble[\"complex_core\"] == 0])) # 3153 = 16% of enhancers have core sequence with no tfbs\n",
    "\n",
    "# core AND derived joint plot\n",
    "\n",
    "zeros, tble = False, table_nonzerosyn\n",
    "plot_jointplots(tble, zeros, quant, kind)\n",
    "#lin_regress(tble)\n",
    "\n",
    "#%%\n",
    "\"\"\"\n",
    "# 95%\n",
    "w/0\n",
    "der median 0.01639344262295082 core median 0.022026431718061675\n",
    "LinregressResult(slope=0.2740493364285827, intercept=0.025857669889984305, rvalue=0.2730234869080214, pvalue=0.0, stderr=0.007106889008775947)\n",
    "\n",
    "w/o0\n",
    "der median 0.03636363636363636 core median 0.03937007874015748\n",
    "LinregressResult(slope=0.23408839183624733, intercept=0.04017769440564996, rvalue=0.23803829671851803, pvalue=5.113126292512663e-140, stderr=0.009157399629014606)\n",
    "\n",
    "\"\"\"\n",
    "#LinregressResult(slope=0.15, intercept=0.052, rvalue=0.20, pvalue=3.85e-104, stderr=0.007)\n",
    "#%%"
   ]
  },
  {
   "cell_type": "code",
   "execution_count": null,
   "metadata": {},
   "outputs": [],
   "source": []
  },
  {
   "cell_type": "code",
   "execution_count": null,
   "metadata": {
    "collapsed": true
   },
   "outputs": [],
   "source": []
  }
 ],
 "metadata": {
  "kernelspec": {
   "display_name": "Python (sfenv)",
   "language": "python",
   "name": "sfenv"
  },
  "language_info": {
   "codemirror_mode": {
    "name": "ipython",
    "version": 3
   },
   "file_extension": ".py",
   "mimetype": "text/x-python",
   "name": "python",
   "nbconvert_exporter": "python",
   "pygments_lexer": "ipython3",
   "version": "3.6.6"
  },
  "toc": {
   "base_numbering": 1,
   "nav_menu": {},
   "number_sections": true,
   "sideBar": true,
   "skip_h1_title": false,
   "title_cell": "Table of Contents",
   "title_sidebar": "Contents",
   "toc_cell": false,
   "toc_position": {
    "height": "calc(100% - 180px)",
    "left": "10px",
    "top": "150px",
    "width": "410px"
   },
   "toc_section_display": true,
   "toc_window_display": true
  }
 },
 "nbformat": 4,
 "nbformat_minor": 2
}
