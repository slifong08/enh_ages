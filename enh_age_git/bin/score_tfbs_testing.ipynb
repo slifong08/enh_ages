{
 "cells": [
  {
   "cell_type": "code",
   "execution_count": 3,
   "metadata": {},
   "outputs": [],
   "source": [
    "import os\n",
    "import sys, traceback\n",
    "import argparse\n",
    "import csv\n",
    "from datetime import datetime\n",
    "from functools import reduce\n",
    "import glob\n",
    "from itertools import groupby\n",
    "import numpy as np\n",
    "import pandas as pd\n",
    "from functools import partial\n",
    "from multiprocessing import Pool\n",
    "from pybedtools import BedTool\n",
    "import subprocess\n",
    "\n"
   ]
  },
  {
   "cell_type": "code",
   "execution_count": 4,
   "metadata": {},
   "outputs": [],
   "source": [
    "core_breaksFs = glob.glob(\"/dors/capra_lab/projects/enhancer_ages/fantom/data/shuffle/breaks/*age_breaks.bed\")\n",
    "\n",
    "test_path = \"/dors/capra_lab/projects/enhancer_ages/fantom/data/download\""
   ]
  },
  {
   "cell_type": "code",
   "execution_count": 5,
   "metadata": {},
   "outputs": [
    {
     "data": {
      "text/plain": [
       "['/dors/capra_lab/projects/enhancer_ages/fantom/data/shuffle/breaks/shuf-all_fantom_enh_112_tissues-54_age_breaks.bed',\n",
       " '/dors/capra_lab/projects/enhancer_ages/fantom/data/shuffle/breaks/shuf-all_fantom_enh_112_tissues-64_age_breaks.bed',\n",
       " '/dors/capra_lab/projects/enhancer_ages/fantom/data/shuffle/breaks/shuf-all_fantom_enh_112_tissues-49_age_breaks.bed',\n",
       " '/dors/capra_lab/projects/enhancer_ages/fantom/data/shuffle/breaks/shuf-all_fantom_enh_112_tissues-17_age_breaks.bed',\n",
       " '/dors/capra_lab/projects/enhancer_ages/fantom/data/shuffle/breaks/shuf-all_fantom_enh_112_tissues-14_age_breaks.bed',\n",
       " '/dors/capra_lab/projects/enhancer_ages/fantom/data/shuffle/breaks/shuf-all_fantom_enh_112_tissues-89_age_breaks.bed',\n",
       " '/dors/capra_lab/projects/enhancer_ages/fantom/data/shuffle/breaks/shuf-all_fantom_enh_112_tissues-15_age_breaks.bed',\n",
       " '/dors/capra_lab/projects/enhancer_ages/fantom/data/shuffle/breaks/shuf-all_fantom_enh_112_tissues-37_age_breaks.bed',\n",
       " '/dors/capra_lab/projects/enhancer_ages/fantom/data/shuffle/breaks/shuf-all_fantom_enh_112_tissues-78_age_breaks.bed',\n",
       " '/dors/capra_lab/projects/enhancer_ages/fantom/data/shuffle/breaks/shuf-all_fantom_enh_112_tissues-47_age_breaks.bed',\n",
       " '/dors/capra_lab/projects/enhancer_ages/fantom/data/shuffle/breaks/shuf-all_fantom_enh_112_tissues-28_age_breaks.bed',\n",
       " '/dors/capra_lab/projects/enhancer_ages/fantom/data/shuffle/breaks/shuf-all_fantom_enh_112_tissues-63_age_breaks.bed',\n",
       " '/dors/capra_lab/projects/enhancer_ages/fantom/data/shuffle/breaks/shuf-all_fantom_enh_112_tissues-66_age_breaks.bed',\n",
       " '/dors/capra_lab/projects/enhancer_ages/fantom/data/shuffle/breaks/shuf-all_fantom_enh_112_tissues-36_age_breaks.bed',\n",
       " '/dors/capra_lab/projects/enhancer_ages/fantom/data/shuffle/breaks/shuf-all_fantom_enh_112_tissues-43_age_breaks.bed',\n",
       " '/dors/capra_lab/projects/enhancer_ages/fantom/data/shuffle/breaks/shuf-all_fantom_enh_112_tissues-34_age_breaks.bed',\n",
       " '/dors/capra_lab/projects/enhancer_ages/fantom/data/shuffle/breaks/shuf-all_fantom_enh_112_tissues-6_age_breaks.bed',\n",
       " '/dors/capra_lab/projects/enhancer_ages/fantom/data/shuffle/breaks/shuf-all_fantom_enh_112_tissues-9_age_breaks.bed',\n",
       " '/dors/capra_lab/projects/enhancer_ages/fantom/data/shuffle/breaks/shuf-all_fantom_enh_112_tissues-60_age_breaks.bed',\n",
       " '/dors/capra_lab/projects/enhancer_ages/fantom/data/shuffle/breaks/shuf-all_fantom_enh_112_tissues-13_age_breaks.bed',\n",
       " '/dors/capra_lab/projects/enhancer_ages/fantom/data/shuffle/breaks/shuf-all_fantom_enh_112_tissues-91_age_breaks.bed',\n",
       " '/dors/capra_lab/projects/enhancer_ages/fantom/data/shuffle/breaks/shuf-all_fantom_enh_112_tissues-42_age_breaks.bed',\n",
       " '/dors/capra_lab/projects/enhancer_ages/fantom/data/shuffle/breaks/shuf-all_fantom_enh_112_tissues-40_age_breaks.bed',\n",
       " '/dors/capra_lab/projects/enhancer_ages/fantom/data/shuffle/breaks/shuf-all_fantom_enh_112_tissues-35_age_breaks.bed',\n",
       " '/dors/capra_lab/projects/enhancer_ages/fantom/data/shuffle/breaks/shuf-all_fantom_enh_112_tissues-97_age_breaks.bed',\n",
       " '/dors/capra_lab/projects/enhancer_ages/fantom/data/shuffle/breaks/shuf-all_fantom_enh_112_tissues-20_age_breaks.bed',\n",
       " '/dors/capra_lab/projects/enhancer_ages/fantom/data/shuffle/breaks/shuf-all_fantom_enh_112_tissues-21_age_breaks.bed',\n",
       " '/dors/capra_lab/projects/enhancer_ages/fantom/data/shuffle/breaks/shuf-all_fantom_enh_112_tissues-53_age_breaks.bed',\n",
       " '/dors/capra_lab/projects/enhancer_ages/fantom/data/shuffle/breaks/shuf-all_fantom_enh_112_tissues-16_age_breaks.bed',\n",
       " '/dors/capra_lab/projects/enhancer_ages/fantom/data/shuffle/breaks/shuf-all_fantom_enh_112_tissues-44_age_breaks.bed',\n",
       " '/dors/capra_lab/projects/enhancer_ages/fantom/data/shuffle/breaks/shuf-all_fantom_enh_112_tissues-7_age_breaks.bed',\n",
       " '/dors/capra_lab/projects/enhancer_ages/fantom/data/shuffle/breaks/shuf-all_fantom_enh_112_tissues-26_age_breaks.bed',\n",
       " '/dors/capra_lab/projects/enhancer_ages/fantom/data/shuffle/breaks/shuf-all_fantom_enh_112_tissues-59_age_breaks.bed',\n",
       " '/dors/capra_lab/projects/enhancer_ages/fantom/data/shuffle/breaks/shuf-all_fantom_enh_112_tissues-88_age_breaks.bed',\n",
       " '/dors/capra_lab/projects/enhancer_ages/fantom/data/shuffle/breaks/shuf-all_fantom_enh_112_tissues-23_age_breaks.bed',\n",
       " '/dors/capra_lab/projects/enhancer_ages/fantom/data/shuffle/breaks/shuf-all_fantom_enh_112_tissues-19_age_breaks.bed',\n",
       " '/dors/capra_lab/projects/enhancer_ages/fantom/data/shuffle/breaks/shuf-all_fantom_enh_112_tissues-25_age_breaks.bed',\n",
       " '/dors/capra_lab/projects/enhancer_ages/fantom/data/shuffle/breaks/shuf-all_fantom_enh_112_tissues-96_age_breaks.bed',\n",
       " '/dors/capra_lab/projects/enhancer_ages/fantom/data/shuffle/breaks/shuf-all_fantom_enh_112_tissues-86_age_breaks.bed',\n",
       " '/dors/capra_lab/projects/enhancer_ages/fantom/data/shuffle/breaks/shuf-all_fantom_enh_112_tissues-67_age_breaks.bed',\n",
       " '/dors/capra_lab/projects/enhancer_ages/fantom/data/shuffle/breaks/shuf-all_fantom_enh_112_tissues-10_age_breaks.bed',\n",
       " '/dors/capra_lab/projects/enhancer_ages/fantom/data/shuffle/breaks/shuf-all_fantom_enh_112_tissues-93_age_breaks.bed',\n",
       " '/dors/capra_lab/projects/enhancer_ages/fantom/data/shuffle/breaks/shuf-all_fantom_enh_112_tissues-11_age_breaks.bed',\n",
       " '/dors/capra_lab/projects/enhancer_ages/fantom/data/shuffle/breaks/shuf-all_fantom_enh_112_tissues-62_age_breaks.bed',\n",
       " '/dors/capra_lab/projects/enhancer_ages/fantom/data/shuffle/breaks/shuf-all_fantom_enh_112_tissues-87_age_breaks.bed',\n",
       " '/dors/capra_lab/projects/enhancer_ages/fantom/data/shuffle/breaks/shuf-all_fantom_enh_112_tissues-3_age_breaks.bed',\n",
       " '/dors/capra_lab/projects/enhancer_ages/fantom/data/shuffle/breaks/shuf-all_fantom_enh_112_tissues-5_age_breaks.bed',\n",
       " '/dors/capra_lab/projects/enhancer_ages/fantom/data/shuffle/breaks/shuf-all_fantom_enh_112_tissues-55_age_breaks.bed',\n",
       " '/dors/capra_lab/projects/enhancer_ages/fantom/data/shuffle/breaks/shuf-all_fantom_enh_112_tissues-80_age_breaks.bed',\n",
       " '/dors/capra_lab/projects/enhancer_ages/fantom/data/shuffle/breaks/shuf-all_fantom_enh_112_tissues-1_age_breaks.bed',\n",
       " '/dors/capra_lab/projects/enhancer_ages/fantom/data/shuffle/breaks/shuf-all_fantom_enh_112_tissues-30_age_breaks.bed',\n",
       " '/dors/capra_lab/projects/enhancer_ages/fantom/data/shuffle/breaks/shuf-all_fantom_enh_112_tissues-38_age_breaks.bed',\n",
       " '/dors/capra_lab/projects/enhancer_ages/fantom/data/shuffle/breaks/shuf-all_fantom_enh_112_tissues-65_age_breaks.bed',\n",
       " '/dors/capra_lab/projects/enhancer_ages/fantom/data/shuffle/breaks/shuf-all_fantom_enh_112_tissues-46_age_breaks.bed',\n",
       " '/dors/capra_lab/projects/enhancer_ages/fantom/data/shuffle/breaks/shuf-all_fantom_enh_112_tissues-94_age_breaks.bed',\n",
       " '/dors/capra_lab/projects/enhancer_ages/fantom/data/shuffle/breaks/shuf-all_fantom_enh_112_tissues-12_age_breaks.bed',\n",
       " '/dors/capra_lab/projects/enhancer_ages/fantom/data/shuffle/breaks/shuf-all_fantom_enh_112_tissues-77_age_breaks.bed',\n",
       " '/dors/capra_lab/projects/enhancer_ages/fantom/data/shuffle/breaks/shuf-all_fantom_enh_112_tissues-72_age_breaks.bed',\n",
       " '/dors/capra_lab/projects/enhancer_ages/fantom/data/shuffle/breaks/shuf-all_fantom_enh_112_tissues-22_age_breaks.bed',\n",
       " '/dors/capra_lab/projects/enhancer_ages/fantom/data/shuffle/breaks/shuf-all_fantom_enh_112_tissues-50_age_breaks.bed',\n",
       " '/dors/capra_lab/projects/enhancer_ages/fantom/data/shuffle/breaks/shuf-all_fantom_enh_112_tissues-48_age_breaks.bed',\n",
       " '/dors/capra_lab/projects/enhancer_ages/fantom/data/shuffle/breaks/shuf-all_fantom_enh_112_tissues-61_age_breaks.bed',\n",
       " '/dors/capra_lab/projects/enhancer_ages/fantom/data/shuffle/breaks/shuf-all_fantom_enh_112_tissues-52_age_breaks.bed',\n",
       " '/dors/capra_lab/projects/enhancer_ages/fantom/data/shuffle/breaks/shuf-all_fantom_enh_112_tissues-92_age_breaks.bed',\n",
       " '/dors/capra_lab/projects/enhancer_ages/fantom/data/shuffle/breaks/shuf-all_fantom_enh_112_tissues-18_age_breaks.bed',\n",
       " '/dors/capra_lab/projects/enhancer_ages/fantom/data/shuffle/breaks/shuf-all_fantom_enh_112_tissues-71_age_breaks.bed',\n",
       " '/dors/capra_lab/projects/enhancer_ages/fantom/data/shuffle/breaks/shuf-all_fantom_enh_112_tissues-74_age_breaks.bed',\n",
       " '/dors/capra_lab/projects/enhancer_ages/fantom/data/shuffle/breaks/shuf-all_fantom_enh_112_tissues-56_age_breaks.bed',\n",
       " '/dors/capra_lab/projects/enhancer_ages/fantom/data/shuffle/breaks/shuf-all_fantom_enh_112_tissues-82_age_breaks.bed',\n",
       " '/dors/capra_lab/projects/enhancer_ages/fantom/data/shuffle/breaks/shuf-all_fantom_enh_112_tissues-76_age_breaks.bed',\n",
       " '/dors/capra_lab/projects/enhancer_ages/fantom/data/shuffle/breaks/shuf-all_fantom_enh_112_tissues-2_age_breaks.bed',\n",
       " '/dors/capra_lab/projects/enhancer_ages/fantom/data/shuffle/breaks/shuf-all_fantom_enh_112_tissues-41_age_breaks.bed',\n",
       " '/dors/capra_lab/projects/enhancer_ages/fantom/data/shuffle/breaks/shuf-all_fantom_enh_112_tissues-85_age_breaks.bed',\n",
       " '/dors/capra_lab/projects/enhancer_ages/fantom/data/shuffle/breaks/shuf-all_fantom_enh_112_tissues-90_age_breaks.bed',\n",
       " '/dors/capra_lab/projects/enhancer_ages/fantom/data/shuffle/breaks/shuf-all_fantom_enh_112_tissues-4_age_breaks.bed',\n",
       " '/dors/capra_lab/projects/enhancer_ages/fantom/data/shuffle/breaks/shuf-all_fantom_enh_112_tissues-45_age_breaks.bed',\n",
       " '/dors/capra_lab/projects/enhancer_ages/fantom/data/shuffle/breaks/shuf-all_fantom_enh_112_tissues-8_age_breaks.bed',\n",
       " '/dors/capra_lab/projects/enhancer_ages/fantom/data/shuffle/breaks/shuf-all_fantom_enh_112_tissues-32_age_breaks.bed',\n",
       " '/dors/capra_lab/projects/enhancer_ages/fantom/data/shuffle/breaks/shuf-all_fantom_enh_112_tissues-58_age_breaks.bed',\n",
       " '/dors/capra_lab/projects/enhancer_ages/fantom/data/shuffle/breaks/shuf-all_fantom_enh_112_tissues-29_age_breaks.bed',\n",
       " '/dors/capra_lab/projects/enhancer_ages/fantom/data/shuffle/breaks/shuf-all_fantom_enh_112_tissues-84_age_breaks.bed',\n",
       " '/dors/capra_lab/projects/enhancer_ages/fantom/data/shuffle/breaks/shuf-all_fantom_enh_112_tissues-75_age_breaks.bed',\n",
       " '/dors/capra_lab/projects/enhancer_ages/fantom/data/shuffle/breaks/shuf-all_fantom_enh_112_tissues-69_age_breaks.bed',\n",
       " '/dors/capra_lab/projects/enhancer_ages/fantom/data/shuffle/breaks/shuf-all_fantom_enh_112_tissues-24_age_breaks.bed',\n",
       " '/dors/capra_lab/projects/enhancer_ages/fantom/data/shuffle/breaks/shuf-all_fantom_enh_112_tissues-98_age_breaks.bed',\n",
       " '/dors/capra_lab/projects/enhancer_ages/fantom/data/shuffle/breaks/shuf-all_fantom_enh_112_tissues-83_age_breaks.bed',\n",
       " '/dors/capra_lab/projects/enhancer_ages/fantom/data/shuffle/breaks/shuf-all_fantom_enh_112_tissues-73_age_breaks.bed',\n",
       " '/dors/capra_lab/projects/enhancer_ages/fantom/data/shuffle/breaks/shuf-all_fantom_enh_112_tissues-95_age_breaks.bed',\n",
       " '/dors/capra_lab/projects/enhancer_ages/fantom/data/shuffle/breaks/shuf-all_fantom_enh_112_tissues-31_age_breaks.bed',\n",
       " '/dors/capra_lab/projects/enhancer_ages/fantom/data/shuffle/breaks/shuf-all_fantom_enh_112_tissues-68_age_breaks.bed',\n",
       " '/dors/capra_lab/projects/enhancer_ages/fantom/data/shuffle/breaks/shuf-all_fantom_enh_112_tissues-33_age_breaks.bed',\n",
       " '/dors/capra_lab/projects/enhancer_ages/fantom/data/shuffle/breaks/shuf-all_fantom_enh_112_tissues-79_age_breaks.bed',\n",
       " '/dors/capra_lab/projects/enhancer_ages/fantom/data/shuffle/breaks/shuf-all_fantom_enh_112_tissues-57_age_breaks.bed',\n",
       " '/dors/capra_lab/projects/enhancer_ages/fantom/data/shuffle/breaks/shuf-all_fantom_enh_112_tissues-81_age_breaks.bed']"
      ]
     },
     "execution_count": 5,
     "metadata": {},
     "output_type": "execute_result"
    }
   ],
   "source": [
    "core_breaksFs"
   ]
  },
  {
   "cell_type": "code",
   "execution_count": 6,
   "metadata": {},
   "outputs": [],
   "source": [
    "\n",
    "def loadConstants(species):  # note chrom.sizes not used in current implementation | 2018.10.29\n",
    "    return {'hg19': (\"/dors/capra_lab/users/bentonml/data/dna/hg19/hg19_blacklist_gap.bed\", \"/dors/capra_lab/data/dna/human/hg19/hg19_trim.chrom.sizes\"),\n",
    "            'hg38': (\"/dorvs/capra_lab/users/bentonml/data/dna/hg38/hg38_blacklist_gap.bed\", \"/dors/capra_lab/data/dna/human/hg38/hg38_trim.chrom.sizes\"),\n",
    "            'mm10': (\"/dors/capra_lab/users/bentonml/data/dna/mm10/mm10_blacklist_gap.bed\", \"/dors/capra_lab/data/dna/mouse/mm10/mm10_trim.chrom.sizes\")\n",
    "            }[species]\n",
    "\n",
    "def mkdir(path):\n",
    "    if os.path.isdir(path) == False:\n",
    "        cmd = \"mkdir %s\" % path\n",
    "        os.system(cmd)\n",
    "        \n",
    "def os_remove(files):\n",
    "    cmd = \"rm %s\" % files\n",
    "    os.system(cmd)\n",
    "\n",
    "def stripTabs(infile, tempfile):\n",
    "    cmd = '''tr -s \" \\t\" < %s > %s && mv %s %s''' % (infile, tempfile, tempfile, infile)\n",
    "    os.system(cmd)\n",
    "    \n",
    "    rm_cmd = \"rm %s\" % tempfile\n",
    "    os.system(cmd)\n",
    "    "
   ]
  },
  {
   "cell_type": "code",
   "execution_count": 14,
   "metadata": {},
   "outputs": [
    {
     "name": "stdout",
     "output_type": "stream",
     "text": [
      "/dors/capra_lab/projects/enhancer_ages/fantom/data/download/tfbs/shuf-all_fantom_enh_112_tissues-54_age_breaks_syn_tfbs_density.bed\n",
      "2654 raw df len\n",
      "the number syntenic blocks that did not overlap TFBS 1797\n",
      "the number of unique enhancers 1200\n"
     ]
    },
    {
     "name": "stderr",
     "output_type": "stream",
     "text": [
      "/dors/capra_lab/users/fongsl/sfenv/lib/python3.6/site-packages/pandas/core/indexing.py:205: SettingWithCopyWarning: \n",
      "A value is trying to be set on a copy of a slice from a DataFrame\n",
      "\n",
      "See the caveats in the documentation: http://pandas.pydata.org/pandas-docs/stable/user_guide/indexing.html#returning-a-view-versus-a-copy\n",
      "  self._setitem_with_indexer(indexer, value)\n"
     ]
    },
    {
     "name": "stdout",
     "output_type": "stream",
     "text": [
      "Finished calculating SYN TFBS density 2020-03-11 14:09:44.464857\n",
      "/dors/capra_lab/projects/enhancer_ages/fantom/data/download/tfbs/shuf-all_fantom_enh_112_tissues-64_age_breaks_syn_tfbs_density.bed\n",
      "92108 raw df len\n",
      "the number syntenic blocks that did not overlap TFBS 66507\n",
      "the number of unique enhancers 42235\n"
     ]
    },
    {
     "name": "stderr",
     "output_type": "stream",
     "text": [
      "/dors/capra_lab/users/fongsl/sfenv/lib/python3.6/site-packages/pandas/core/indexing.py:205: SettingWithCopyWarning: \n",
      "A value is trying to be set on a copy of a slice from a DataFrame\n",
      "\n",
      "See the caveats in the documentation: http://pandas.pydata.org/pandas-docs/stable/user_guide/indexing.html#returning-a-view-versus-a-copy\n",
      "  self._setitem_with_indexer(indexer, value)\n"
     ]
    },
    {
     "name": "stdout",
     "output_type": "stream",
     "text": [
      "Finished calculating SYN TFBS density 2020-03-11 14:10:54.379251\n",
      "/dors/capra_lab/projects/enhancer_ages/fantom/data/download/tfbs/shuf-all_fantom_enh_112_tissues-49_age_breaks_syn_tfbs_density.bed\n",
      "65713 raw df len\n",
      "the number syntenic blocks that did not overlap TFBS 47748\n",
      "the number of unique enhancers 30472\n"
     ]
    },
    {
     "name": "stderr",
     "output_type": "stream",
     "text": [
      "/dors/capra_lab/users/fongsl/sfenv/lib/python3.6/site-packages/pandas/core/indexing.py:205: SettingWithCopyWarning: \n",
      "A value is trying to be set on a copy of a slice from a DataFrame\n",
      "\n",
      "See the caveats in the documentation: http://pandas.pydata.org/pandas-docs/stable/user_guide/indexing.html#returning-a-view-versus-a-copy\n",
      "  self._setitem_with_indexer(indexer, value)\n"
     ]
    },
    {
     "name": "stdout",
     "output_type": "stream",
     "text": [
      "Finished calculating SYN TFBS density 2020-03-11 14:12:00.151695\n",
      "/dors/capra_lab/projects/enhancer_ages/fantom/data/download/tfbs/shuf-all_fantom_enh_112_tissues-17_age_breaks_syn_tfbs_density.bed\n",
      "65657 raw df len\n",
      "the number syntenic blocks that did not overlap TFBS 47810\n",
      "the number of unique enhancers 30469\n"
     ]
    },
    {
     "name": "stderr",
     "output_type": "stream",
     "text": [
      "/dors/capra_lab/users/fongsl/sfenv/lib/python3.6/site-packages/pandas/core/indexing.py:205: SettingWithCopyWarning: \n",
      "A value is trying to be set on a copy of a slice from a DataFrame\n",
      "\n",
      "See the caveats in the documentation: http://pandas.pydata.org/pandas-docs/stable/user_guide/indexing.html#returning-a-view-versus-a-copy\n",
      "  self._setitem_with_indexer(indexer, value)\n"
     ]
    },
    {
     "name": "stdout",
     "output_type": "stream",
     "text": [
      "Finished calculating SYN TFBS density 2020-03-11 14:13:09.973310\n",
      "/dors/capra_lab/projects/enhancer_ages/fantom/data/download/tfbs/shuf-all_fantom_enh_112_tissues-14_age_breaks_syn_tfbs_density.bed\n",
      "66469 raw df len\n",
      "the number syntenic blocks that did not overlap TFBS 47433\n",
      "the number of unique enhancers 30471\n"
     ]
    },
    {
     "name": "stderr",
     "output_type": "stream",
     "text": [
      "/dors/capra_lab/users/fongsl/sfenv/lib/python3.6/site-packages/pandas/core/indexing.py:205: SettingWithCopyWarning: \n",
      "A value is trying to be set on a copy of a slice from a DataFrame\n",
      "\n",
      "See the caveats in the documentation: http://pandas.pydata.org/pandas-docs/stable/user_guide/indexing.html#returning-a-view-versus-a-copy\n",
      "  self._setitem_with_indexer(indexer, value)\n"
     ]
    },
    {
     "name": "stdout",
     "output_type": "stream",
     "text": [
      "Finished calculating SYN TFBS density 2020-03-11 14:14:16.615972\n",
      "/dors/capra_lab/projects/enhancer_ages/fantom/data/download/tfbs/shuf-all_fantom_enh_112_tissues-89_age_breaks_syn_tfbs_density.bed\n",
      "66100 raw df len\n",
      "the number syntenic blocks that did not overlap TFBS 47645\n",
      "the number of unique enhancers 30470\n"
     ]
    },
    {
     "name": "stderr",
     "output_type": "stream",
     "text": [
      "/dors/capra_lab/users/fongsl/sfenv/lib/python3.6/site-packages/pandas/core/indexing.py:205: SettingWithCopyWarning: \n",
      "A value is trying to be set on a copy of a slice from a DataFrame\n",
      "\n",
      "See the caveats in the documentation: http://pandas.pydata.org/pandas-docs/stable/user_guide/indexing.html#returning-a-view-versus-a-copy\n",
      "  self._setitem_with_indexer(indexer, value)\n"
     ]
    },
    {
     "name": "stdout",
     "output_type": "stream",
     "text": [
      "Finished calculating SYN TFBS density 2020-03-11 14:15:45.432827\n",
      "/dors/capra_lab/projects/enhancer_ages/fantom/data/download/tfbs/shuf-all_fantom_enh_112_tissues-15_age_breaks_syn_tfbs_density.bed\n",
      "66515 raw df len\n",
      "the number syntenic blocks that did not overlap TFBS 47746\n",
      "the number of unique enhancers 30469\n"
     ]
    },
    {
     "name": "stderr",
     "output_type": "stream",
     "text": [
      "/dors/capra_lab/users/fongsl/sfenv/lib/python3.6/site-packages/pandas/core/indexing.py:205: SettingWithCopyWarning: \n",
      "A value is trying to be set on a copy of a slice from a DataFrame\n",
      "\n",
      "See the caveats in the documentation: http://pandas.pydata.org/pandas-docs/stable/user_guide/indexing.html#returning-a-view-versus-a-copy\n",
      "  self._setitem_with_indexer(indexer, value)\n"
     ]
    },
    {
     "name": "stdout",
     "output_type": "stream",
     "text": [
      "Finished calculating SYN TFBS density 2020-03-11 14:16:53.622074\n",
      "/dors/capra_lab/projects/enhancer_ages/fantom/data/download/tfbs/shuf-all_fantom_enh_112_tissues-37_age_breaks_syn_tfbs_density.bed\n",
      "8958 raw df len\n",
      "the number syntenic blocks that did not overlap TFBS 6232\n",
      "the number of unique enhancers 3899\n"
     ]
    },
    {
     "name": "stderr",
     "output_type": "stream",
     "text": [
      "/dors/capra_lab/users/fongsl/sfenv/lib/python3.6/site-packages/pandas/core/indexing.py:205: SettingWithCopyWarning: \n",
      "A value is trying to be set on a copy of a slice from a DataFrame\n",
      "\n",
      "See the caveats in the documentation: http://pandas.pydata.org/pandas-docs/stable/user_guide/indexing.html#returning-a-view-versus-a-copy\n",
      "  self._setitem_with_indexer(indexer, value)\n"
     ]
    },
    {
     "name": "stdout",
     "output_type": "stream",
     "text": [
      "Finished calculating SYN TFBS density 2020-03-11 14:17:58.671794\n",
      "/dors/capra_lab/projects/enhancer_ages/fantom/data/download/tfbs/shuf-all_fantom_enh_112_tissues-78_age_breaks_syn_tfbs_density.bed\n",
      "67010 raw df len\n",
      "the number syntenic blocks that did not overlap TFBS 47470\n",
      "the number of unique enhancers 30473\n"
     ]
    },
    {
     "name": "stderr",
     "output_type": "stream",
     "text": [
      "/dors/capra_lab/users/fongsl/sfenv/lib/python3.6/site-packages/pandas/core/indexing.py:205: SettingWithCopyWarning: \n",
      "A value is trying to be set on a copy of a slice from a DataFrame\n",
      "\n",
      "See the caveats in the documentation: http://pandas.pydata.org/pandas-docs/stable/user_guide/indexing.html#returning-a-view-versus-a-copy\n",
      "  self._setitem_with_indexer(indexer, value)\n"
     ]
    },
    {
     "name": "stdout",
     "output_type": "stream",
     "text": [
      "Finished calculating SYN TFBS density 2020-03-11 14:19:37.827506\n",
      "/dors/capra_lab/projects/enhancer_ages/fantom/data/download/tfbs/shuf-all_fantom_enh_112_tissues-47_age_breaks_syn_tfbs_density.bed\n",
      "66699 raw df len\n",
      "the number syntenic blocks that did not overlap TFBS 47444\n",
      "the number of unique enhancers 30472\n"
     ]
    },
    {
     "name": "stderr",
     "output_type": "stream",
     "text": [
      "/dors/capra_lab/users/fongsl/sfenv/lib/python3.6/site-packages/pandas/core/indexing.py:205: SettingWithCopyWarning: \n",
      "A value is trying to be set on a copy of a slice from a DataFrame\n",
      "\n",
      "See the caveats in the documentation: http://pandas.pydata.org/pandas-docs/stable/user_guide/indexing.html#returning-a-view-versus-a-copy\n",
      "  self._setitem_with_indexer(indexer, value)\n"
     ]
    },
    {
     "name": "stdout",
     "output_type": "stream",
     "text": [
      "Finished calculating SYN TFBS density 2020-03-11 14:20:43.429368\n",
      "/dors/capra_lab/projects/enhancer_ages/fantom/data/download/tfbs/shuf-all_fantom_enh_112_tissues-28_age_breaks_syn_tfbs_density.bed\n",
      "65236 raw df len\n",
      "the number syntenic blocks that did not overlap TFBS 47662\n",
      "the number of unique enhancers 30472\n"
     ]
    },
    {
     "name": "stderr",
     "output_type": "stream",
     "text": [
      "/dors/capra_lab/users/fongsl/sfenv/lib/python3.6/site-packages/pandas/core/indexing.py:205: SettingWithCopyWarning: \n",
      "A value is trying to be set on a copy of a slice from a DataFrame\n",
      "\n",
      "See the caveats in the documentation: http://pandas.pydata.org/pandas-docs/stable/user_guide/indexing.html#returning-a-view-versus-a-copy\n",
      "  self._setitem_with_indexer(indexer, value)\n"
     ]
    },
    {
     "name": "stdout",
     "output_type": "stream",
     "text": [
      "Finished calculating SYN TFBS density 2020-03-11 14:21:48.526541\n",
      "/dors/capra_lab/projects/enhancer_ages/fantom/data/download/tfbs/shuf-all_fantom_enh_112_tissues-63_age_breaks_syn_tfbs_density.bed\n",
      "66296 raw df len\n",
      "the number syntenic blocks that did not overlap TFBS 47522\n",
      "the number of unique enhancers 30470\n"
     ]
    },
    {
     "name": "stderr",
     "output_type": "stream",
     "text": [
      "/dors/capra_lab/users/fongsl/sfenv/lib/python3.6/site-packages/pandas/core/indexing.py:205: SettingWithCopyWarning: \n",
      "A value is trying to be set on a copy of a slice from a DataFrame\n",
      "\n",
      "See the caveats in the documentation: http://pandas.pydata.org/pandas-docs/stable/user_guide/indexing.html#returning-a-view-versus-a-copy\n",
      "  self._setitem_with_indexer(indexer, value)\n"
     ]
    },
    {
     "name": "stdout",
     "output_type": "stream",
     "text": [
      "Finished calculating SYN TFBS density 2020-03-11 14:22:57.233354\n",
      "/dors/capra_lab/projects/enhancer_ages/fantom/data/download/tfbs/shuf-all_fantom_enh_112_tissues-66_age_breaks_syn_tfbs_density.bed\n",
      "66502 raw df len\n",
      "the number syntenic blocks that did not overlap TFBS 47567\n",
      "the number of unique enhancers 30473\n"
     ]
    },
    {
     "name": "stderr",
     "output_type": "stream",
     "text": [
      "/dors/capra_lab/users/fongsl/sfenv/lib/python3.6/site-packages/pandas/core/indexing.py:205: SettingWithCopyWarning: \n",
      "A value is trying to be set on a copy of a slice from a DataFrame\n",
      "\n",
      "See the caveats in the documentation: http://pandas.pydata.org/pandas-docs/stable/user_guide/indexing.html#returning-a-view-versus-a-copy\n",
      "  self._setitem_with_indexer(indexer, value)\n"
     ]
    },
    {
     "name": "stdout",
     "output_type": "stream",
     "text": [
      "Finished calculating SYN TFBS density 2020-03-11 14:24:14.613587\n",
      "/dors/capra_lab/projects/enhancer_ages/fantom/data/download/tfbs/shuf-all_fantom_enh_112_tissues-36_age_breaks_syn_tfbs_density.bed\n",
      "70961 raw df len\n",
      "the number syntenic blocks that did not overlap TFBS 50234\n",
      "the number of unique enhancers 32072\n"
     ]
    },
    {
     "name": "stderr",
     "output_type": "stream",
     "text": [
      "/dors/capra_lab/users/fongsl/sfenv/lib/python3.6/site-packages/pandas/core/indexing.py:205: SettingWithCopyWarning: \n",
      "A value is trying to be set on a copy of a slice from a DataFrame\n",
      "\n",
      "See the caveats in the documentation: http://pandas.pydata.org/pandas-docs/stable/user_guide/indexing.html#returning-a-view-versus-a-copy\n",
      "  self._setitem_with_indexer(indexer, value)\n"
     ]
    },
    {
     "name": "stdout",
     "output_type": "stream",
     "text": [
      "Finished calculating SYN TFBS density 2020-03-11 14:25:23.623909\n",
      "/dors/capra_lab/projects/enhancer_ages/fantom/data/download/tfbs/shuf-all_fantom_enh_112_tissues-43_age_breaks_syn_tfbs_density.bed\n",
      "65877 raw df len\n",
      "the number syntenic blocks that did not overlap TFBS 47359\n",
      "the number of unique enhancers 30473\n"
     ]
    },
    {
     "name": "stderr",
     "output_type": "stream",
     "text": [
      "/dors/capra_lab/users/fongsl/sfenv/lib/python3.6/site-packages/pandas/core/indexing.py:205: SettingWithCopyWarning: \n",
      "A value is trying to be set on a copy of a slice from a DataFrame\n",
      "\n",
      "See the caveats in the documentation: http://pandas.pydata.org/pandas-docs/stable/user_guide/indexing.html#returning-a-view-versus-a-copy\n",
      "  self._setitem_with_indexer(indexer, value)\n"
     ]
    },
    {
     "name": "stdout",
     "output_type": "stream",
     "text": [
      "Finished calculating SYN TFBS density 2020-03-11 14:26:51.160681\n",
      "/dors/capra_lab/projects/enhancer_ages/fantom/data/download/tfbs/shuf-all_fantom_enh_112_tissues-34_age_breaks_syn_tfbs_density.bed\n",
      "66635 raw df len\n",
      "the number syntenic blocks that did not overlap TFBS 47514\n",
      "the number of unique enhancers 30471\n"
     ]
    },
    {
     "name": "stderr",
     "output_type": "stream",
     "text": [
      "/dors/capra_lab/users/fongsl/sfenv/lib/python3.6/site-packages/pandas/core/indexing.py:205: SettingWithCopyWarning: \n",
      "A value is trying to be set on a copy of a slice from a DataFrame\n",
      "\n",
      "See the caveats in the documentation: http://pandas.pydata.org/pandas-docs/stable/user_guide/indexing.html#returning-a-view-versus-a-copy\n",
      "  self._setitem_with_indexer(indexer, value)\n"
     ]
    },
    {
     "name": "stdout",
     "output_type": "stream",
     "text": [
      "Finished calculating SYN TFBS density 2020-03-11 14:27:59.430145\n",
      "/dors/capra_lab/projects/enhancer_ages/fantom/data/download/tfbs/shuf-all_fantom_enh_112_tissues-6_age_breaks_syn_tfbs_density.bed\n",
      "66150 raw df len\n",
      "the number syntenic blocks that did not overlap TFBS 47532\n",
      "the number of unique enhancers 30472\n"
     ]
    },
    {
     "name": "stderr",
     "output_type": "stream",
     "text": [
      "/dors/capra_lab/users/fongsl/sfenv/lib/python3.6/site-packages/pandas/core/indexing.py:205: SettingWithCopyWarning: \n",
      "A value is trying to be set on a copy of a slice from a DataFrame\n",
      "\n",
      "See the caveats in the documentation: http://pandas.pydata.org/pandas-docs/stable/user_guide/indexing.html#returning-a-view-versus-a-copy\n",
      "  self._setitem_with_indexer(indexer, value)\n"
     ]
    },
    {
     "name": "stdout",
     "output_type": "stream",
     "text": [
      "Finished calculating SYN TFBS density 2020-03-11 14:29:08.442978\n",
      "/dors/capra_lab/projects/enhancer_ages/fantom/data/download/tfbs/shuf-all_fantom_enh_112_tissues-9_age_breaks_syn_tfbs_density.bed\n",
      "66556 raw df len\n",
      "the number syntenic blocks that did not overlap TFBS 47628\n",
      "the number of unique enhancers 30469\n"
     ]
    },
    {
     "name": "stderr",
     "output_type": "stream",
     "text": [
      "/dors/capra_lab/users/fongsl/sfenv/lib/python3.6/site-packages/pandas/core/indexing.py:205: SettingWithCopyWarning: \n",
      "A value is trying to be set on a copy of a slice from a DataFrame\n",
      "\n",
      "See the caveats in the documentation: http://pandas.pydata.org/pandas-docs/stable/user_guide/indexing.html#returning-a-view-versus-a-copy\n",
      "  self._setitem_with_indexer(indexer, value)\n"
     ]
    },
    {
     "name": "stdout",
     "output_type": "stream",
     "text": [
      "Finished calculating SYN TFBS density 2020-03-11 14:30:15.843698\n",
      "/dors/capra_lab/projects/enhancer_ages/fantom/data/download/tfbs/shuf-all_fantom_enh_112_tissues-60_age_breaks_syn_tfbs_density.bed\n",
      "72406 raw df len\n",
      "the number syntenic blocks that did not overlap TFBS 51981\n",
      "the number of unique enhancers 33070\n"
     ]
    },
    {
     "name": "stderr",
     "output_type": "stream",
     "text": [
      "/dors/capra_lab/users/fongsl/sfenv/lib/python3.6/site-packages/pandas/core/indexing.py:205: SettingWithCopyWarning: \n",
      "A value is trying to be set on a copy of a slice from a DataFrame\n",
      "\n",
      "See the caveats in the documentation: http://pandas.pydata.org/pandas-docs/stable/user_guide/indexing.html#returning-a-view-versus-a-copy\n",
      "  self._setitem_with_indexer(indexer, value)\n"
     ]
    },
    {
     "name": "stdout",
     "output_type": "stream",
     "text": [
      "Finished calculating SYN TFBS density 2020-03-11 14:31:27.691088\n",
      "/dors/capra_lab/projects/enhancer_ages/fantom/data/download/tfbs/shuf-all_fantom_enh_112_tissues-13_age_breaks_syn_tfbs_density.bed\n",
      "66144 raw df len\n",
      "the number syntenic blocks that did not overlap TFBS 47976\n",
      "the number of unique enhancers 30672\n"
     ]
    },
    {
     "name": "stderr",
     "output_type": "stream",
     "text": [
      "/dors/capra_lab/users/fongsl/sfenv/lib/python3.6/site-packages/pandas/core/indexing.py:205: SettingWithCopyWarning: \n",
      "A value is trying to be set on a copy of a slice from a DataFrame\n",
      "\n",
      "See the caveats in the documentation: http://pandas.pydata.org/pandas-docs/stable/user_guide/indexing.html#returning-a-view-versus-a-copy\n",
      "  self._setitem_with_indexer(indexer, value)\n"
     ]
    },
    {
     "name": "stdout",
     "output_type": "stream",
     "text": [
      "Finished calculating SYN TFBS density 2020-03-11 14:32:59.646608\n",
      "/dors/capra_lab/projects/enhancer_ages/fantom/data/download/tfbs/shuf-all_fantom_enh_112_tissues-91_age_breaks_syn_tfbs_density.bed\n",
      "77922 raw df len\n",
      "the number syntenic blocks that did not overlap TFBS 54281\n",
      "the number of unique enhancers 34753\n"
     ]
    },
    {
     "name": "stderr",
     "output_type": "stream",
     "text": [
      "/dors/capra_lab/users/fongsl/sfenv/lib/python3.6/site-packages/pandas/core/indexing.py:205: SettingWithCopyWarning: \n",
      "A value is trying to be set on a copy of a slice from a DataFrame\n",
      "\n",
      "See the caveats in the documentation: http://pandas.pydata.org/pandas-docs/stable/user_guide/indexing.html#returning-a-view-versus-a-copy\n",
      "  self._setitem_with_indexer(indexer, value)\n"
     ]
    },
    {
     "name": "stdout",
     "output_type": "stream",
     "text": [
      "Finished calculating SYN TFBS density 2020-03-11 14:34:08.697923\n",
      "/dors/capra_lab/projects/enhancer_ages/fantom/data/download/tfbs/shuf-all_fantom_enh_112_tissues-42_age_breaks_syn_tfbs_density.bed\n",
      "66686 raw df len\n",
      "the number syntenic blocks that did not overlap TFBS 47167\n",
      "the number of unique enhancers 30474\n"
     ]
    },
    {
     "name": "stderr",
     "output_type": "stream",
     "text": [
      "/dors/capra_lab/users/fongsl/sfenv/lib/python3.6/site-packages/pandas/core/indexing.py:205: SettingWithCopyWarning: \n",
      "A value is trying to be set on a copy of a slice from a DataFrame\n",
      "\n",
      "See the caveats in the documentation: http://pandas.pydata.org/pandas-docs/stable/user_guide/indexing.html#returning-a-view-versus-a-copy\n",
      "  self._setitem_with_indexer(indexer, value)\n"
     ]
    },
    {
     "name": "stdout",
     "output_type": "stream",
     "text": [
      "Finished calculating SYN TFBS density 2020-03-11 14:35:21.124931\n",
      "/dors/capra_lab/projects/enhancer_ages/fantom/data/download/tfbs/shuf-all_fantom_enh_112_tissues-40_age_breaks_syn_tfbs_density.bed\n",
      "65818 raw df len\n",
      "the number syntenic blocks that did not overlap TFBS 47801\n",
      "the number of unique enhancers 30471\n"
     ]
    },
    {
     "name": "stderr",
     "output_type": "stream",
     "text": [
      "/dors/capra_lab/users/fongsl/sfenv/lib/python3.6/site-packages/pandas/core/indexing.py:205: SettingWithCopyWarning: \n",
      "A value is trying to be set on a copy of a slice from a DataFrame\n",
      "\n",
      "See the caveats in the documentation: http://pandas.pydata.org/pandas-docs/stable/user_guide/indexing.html#returning-a-view-versus-a-copy\n",
      "  self._setitem_with_indexer(indexer, value)\n"
     ]
    },
    {
     "name": "stdout",
     "output_type": "stream",
     "text": [
      "Finished calculating SYN TFBS density 2020-03-11 14:36:27.041225\n",
      "/dors/capra_lab/projects/enhancer_ages/fantom/data/download/tfbs/shuf-all_fantom_enh_112_tissues-35_age_breaks_syn_tfbs_density.bed\n",
      "66488 raw df len\n",
      "the number syntenic blocks that did not overlap TFBS 47726\n",
      "the number of unique enhancers 30470\n"
     ]
    },
    {
     "name": "stderr",
     "output_type": "stream",
     "text": [
      "/dors/capra_lab/users/fongsl/sfenv/lib/python3.6/site-packages/pandas/core/indexing.py:205: SettingWithCopyWarning: \n",
      "A value is trying to be set on a copy of a slice from a DataFrame\n",
      "\n",
      "See the caveats in the documentation: http://pandas.pydata.org/pandas-docs/stable/user_guide/indexing.html#returning-a-view-versus-a-copy\n",
      "  self._setitem_with_indexer(indexer, value)\n"
     ]
    },
    {
     "name": "stdout",
     "output_type": "stream",
     "text": [
      "Finished calculating SYN TFBS density 2020-03-11 14:38:12.234236\n",
      "/dors/capra_lab/projects/enhancer_ages/fantom/data/download/tfbs/shuf-all_fantom_enh_112_tissues-97_age_breaks_syn_tfbs_density.bed\n",
      "66470 raw df len\n",
      "the number syntenic blocks that did not overlap TFBS 47762\n",
      "the number of unique enhancers 30468\n"
     ]
    },
    {
     "name": "stderr",
     "output_type": "stream",
     "text": [
      "/dors/capra_lab/users/fongsl/sfenv/lib/python3.6/site-packages/pandas/core/indexing.py:205: SettingWithCopyWarning: \n",
      "A value is trying to be set on a copy of a slice from a DataFrame\n",
      "\n",
      "See the caveats in the documentation: http://pandas.pydata.org/pandas-docs/stable/user_guide/indexing.html#returning-a-view-versus-a-copy\n",
      "  self._setitem_with_indexer(indexer, value)\n"
     ]
    },
    {
     "name": "stdout",
     "output_type": "stream",
     "text": [
      "Finished calculating SYN TFBS density 2020-03-11 14:39:44.886338\n",
      "/dors/capra_lab/projects/enhancer_ages/fantom/data/download/tfbs/shuf-all_fantom_enh_112_tissues-20_age_breaks_syn_tfbs_density.bed\n",
      "66419 raw df len\n",
      "the number syntenic blocks that did not overlap TFBS 47850\n",
      "the number of unique enhancers 30473\n"
     ]
    },
    {
     "name": "stderr",
     "output_type": "stream",
     "text": [
      "/dors/capra_lab/users/fongsl/sfenv/lib/python3.6/site-packages/pandas/core/indexing.py:205: SettingWithCopyWarning: \n",
      "A value is trying to be set on a copy of a slice from a DataFrame\n",
      "\n",
      "See the caveats in the documentation: http://pandas.pydata.org/pandas-docs/stable/user_guide/indexing.html#returning-a-view-versus-a-copy\n",
      "  self._setitem_with_indexer(indexer, value)\n"
     ]
    },
    {
     "name": "stdout",
     "output_type": "stream",
     "text": [
      "Finished calculating SYN TFBS density 2020-03-11 14:40:57.170403\n",
      "/dors/capra_lab/projects/enhancer_ages/fantom/data/download/tfbs/shuf-all_fantom_enh_112_tissues-21_age_breaks_syn_tfbs_density.bed\n",
      "72733 raw df len\n",
      "the number syntenic blocks that did not overlap TFBS 51603\n",
      "the number of unique enhancers 32872\n"
     ]
    },
    {
     "name": "stderr",
     "output_type": "stream",
     "text": [
      "/dors/capra_lab/users/fongsl/sfenv/lib/python3.6/site-packages/pandas/core/indexing.py:205: SettingWithCopyWarning: \n",
      "A value is trying to be set on a copy of a slice from a DataFrame\n",
      "\n",
      "See the caveats in the documentation: http://pandas.pydata.org/pandas-docs/stable/user_guide/indexing.html#returning-a-view-versus-a-copy\n",
      "  self._setitem_with_indexer(indexer, value)\n"
     ]
    },
    {
     "name": "stdout",
     "output_type": "stream",
     "text": [
      "Finished calculating SYN TFBS density 2020-03-11 14:42:17.820260\n",
      "/dors/capra_lab/projects/enhancer_ages/fantom/data/download/tfbs/shuf-all_fantom_enh_112_tissues-53_age_breaks_syn_tfbs_density.bed\n",
      "4350 raw df len\n",
      "the number syntenic blocks that did not overlap TFBS 3307\n",
      "the number of unique enhancers 2100\n"
     ]
    },
    {
     "name": "stderr",
     "output_type": "stream",
     "text": [
      "/dors/capra_lab/users/fongsl/sfenv/lib/python3.6/site-packages/pandas/core/indexing.py:205: SettingWithCopyWarning: \n",
      "A value is trying to be set on a copy of a slice from a DataFrame\n",
      "\n",
      "See the caveats in the documentation: http://pandas.pydata.org/pandas-docs/stable/user_guide/indexing.html#returning-a-view-versus-a-copy\n",
      "  self._setitem_with_indexer(indexer, value)\n"
     ]
    },
    {
     "name": "stdout",
     "output_type": "stream",
     "text": [
      "Finished calculating SYN TFBS density 2020-03-11 14:43:51.260810\n",
      "/dors/capra_lab/projects/enhancer_ages/fantom/data/download/tfbs/shuf-all_fantom_enh_112_tissues-16_age_breaks_syn_tfbs_density.bed\n",
      "65940 raw df len\n",
      "the number syntenic blocks that did not overlap TFBS 47465\n",
      "the number of unique enhancers 30470\n"
     ]
    },
    {
     "name": "stderr",
     "output_type": "stream",
     "text": [
      "/dors/capra_lab/users/fongsl/sfenv/lib/python3.6/site-packages/pandas/core/indexing.py:205: SettingWithCopyWarning: \n",
      "A value is trying to be set on a copy of a slice from a DataFrame\n",
      "\n",
      "See the caveats in the documentation: http://pandas.pydata.org/pandas-docs/stable/user_guide/indexing.html#returning-a-view-versus-a-copy\n",
      "  self._setitem_with_indexer(indexer, value)\n"
     ]
    },
    {
     "name": "stdout",
     "output_type": "stream",
     "text": [
      "Finished calculating SYN TFBS density 2020-03-11 14:45:08.609242\n",
      "/dors/capra_lab/projects/enhancer_ages/fantom/data/download/tfbs/shuf-all_fantom_enh_112_tissues-44_age_breaks_syn_tfbs_density.bed\n",
      "66036 raw df len\n",
      "the number syntenic blocks that did not overlap TFBS 47498\n",
      "the number of unique enhancers 30472\n"
     ]
    },
    {
     "name": "stderr",
     "output_type": "stream",
     "text": [
      "/dors/capra_lab/users/fongsl/sfenv/lib/python3.6/site-packages/pandas/core/indexing.py:205: SettingWithCopyWarning: \n",
      "A value is trying to be set on a copy of a slice from a DataFrame\n",
      "\n",
      "See the caveats in the documentation: http://pandas.pydata.org/pandas-docs/stable/user_guide/indexing.html#returning-a-view-versus-a-copy\n",
      "  self._setitem_with_indexer(indexer, value)\n"
     ]
    },
    {
     "name": "stdout",
     "output_type": "stream",
     "text": [
      "Finished calculating SYN TFBS density 2020-03-11 14:46:17.826670\n",
      "/dors/capra_lab/projects/enhancer_ages/fantom/data/download/tfbs/shuf-all_fantom_enh_112_tissues-7_age_breaks_syn_tfbs_density.bed\n",
      "65112 raw df len\n",
      "the number syntenic blocks that did not overlap TFBS 47453\n",
      "the number of unique enhancers 30468\n"
     ]
    },
    {
     "name": "stderr",
     "output_type": "stream",
     "text": [
      "/dors/capra_lab/users/fongsl/sfenv/lib/python3.6/site-packages/pandas/core/indexing.py:205: SettingWithCopyWarning: \n",
      "A value is trying to be set on a copy of a slice from a DataFrame\n",
      "\n",
      "See the caveats in the documentation: http://pandas.pydata.org/pandas-docs/stable/user_guide/indexing.html#returning-a-view-versus-a-copy\n",
      "  self._setitem_with_indexer(indexer, value)\n"
     ]
    },
    {
     "name": "stdout",
     "output_type": "stream",
     "text": [
      "Finished calculating SYN TFBS density 2020-03-11 14:49:06.243101\n",
      "/dors/capra_lab/projects/enhancer_ages/fantom/data/download/tfbs/shuf-all_fantom_enh_112_tissues-26_age_breaks_syn_tfbs_density.bed\n",
      "73579 raw df len\n",
      "the number syntenic blocks that did not overlap TFBS 52793\n",
      "the number of unique enhancers 33659\n"
     ]
    },
    {
     "name": "stderr",
     "output_type": "stream",
     "text": [
      "/dors/capra_lab/users/fongsl/sfenv/lib/python3.6/site-packages/pandas/core/indexing.py:205: SettingWithCopyWarning: \n",
      "A value is trying to be set on a copy of a slice from a DataFrame\n",
      "\n",
      "See the caveats in the documentation: http://pandas.pydata.org/pandas-docs/stable/user_guide/indexing.html#returning-a-view-versus-a-copy\n",
      "  self._setitem_with_indexer(indexer, value)\n"
     ]
    },
    {
     "name": "stdout",
     "output_type": "stream",
     "text": [
      "Finished calculating SYN TFBS density 2020-03-11 14:50:42.150176\n",
      "/dors/capra_lab/projects/enhancer_ages/fantom/data/download/tfbs/shuf-all_fantom_enh_112_tissues-59_age_breaks_syn_tfbs_density.bed\n",
      "66170 raw df len\n",
      "the number syntenic blocks that did not overlap TFBS 47675\n",
      "the number of unique enhancers 30473\n"
     ]
    },
    {
     "name": "stderr",
     "output_type": "stream",
     "text": [
      "/dors/capra_lab/users/fongsl/sfenv/lib/python3.6/site-packages/pandas/core/indexing.py:205: SettingWithCopyWarning: \n",
      "A value is trying to be set on a copy of a slice from a DataFrame\n",
      "\n",
      "See the caveats in the documentation: http://pandas.pydata.org/pandas-docs/stable/user_guide/indexing.html#returning-a-view-versus-a-copy\n",
      "  self._setitem_with_indexer(indexer, value)\n"
     ]
    },
    {
     "name": "stdout",
     "output_type": "stream",
     "text": [
      "Finished calculating SYN TFBS density 2020-03-11 14:52:17.892455\n",
      "/dors/capra_lab/projects/enhancer_ages/fantom/data/download/tfbs/shuf-all_fantom_enh_112_tissues-88_age_breaks_syn_tfbs_density.bed\n",
      "75223 raw df len\n",
      "the number syntenic blocks that did not overlap TFBS 53883\n",
      "the number of unique enhancers 34471\n"
     ]
    },
    {
     "name": "stderr",
     "output_type": "stream",
     "text": [
      "/dors/capra_lab/users/fongsl/sfenv/lib/python3.6/site-packages/pandas/core/indexing.py:205: SettingWithCopyWarning: \n",
      "A value is trying to be set on a copy of a slice from a DataFrame\n",
      "\n",
      "See the caveats in the documentation: http://pandas.pydata.org/pandas-docs/stable/user_guide/indexing.html#returning-a-view-versus-a-copy\n",
      "  self._setitem_with_indexer(indexer, value)\n"
     ]
    },
    {
     "name": "stdout",
     "output_type": "stream",
     "text": [
      "Finished calculating SYN TFBS density 2020-03-11 14:53:49.191212\n",
      "/dors/capra_lab/projects/enhancer_ages/fantom/data/download/tfbs/shuf-all_fantom_enh_112_tissues-23_age_breaks_syn_tfbs_density.bed\n",
      "65698 raw df len\n",
      "the number syntenic blocks that did not overlap TFBS 47742\n",
      "the number of unique enhancers 30473\n"
     ]
    },
    {
     "name": "stderr",
     "output_type": "stream",
     "text": [
      "/dors/capra_lab/users/fongsl/sfenv/lib/python3.6/site-packages/pandas/core/indexing.py:205: SettingWithCopyWarning: \n",
      "A value is trying to be set on a copy of a slice from a DataFrame\n",
      "\n",
      "See the caveats in the documentation: http://pandas.pydata.org/pandas-docs/stable/user_guide/indexing.html#returning-a-view-versus-a-copy\n",
      "  self._setitem_with_indexer(indexer, value)\n"
     ]
    },
    {
     "name": "stdout",
     "output_type": "stream",
     "text": [
      "Finished calculating SYN TFBS density 2020-03-11 14:55:25.946177\n",
      "/dors/capra_lab/projects/enhancer_ages/fantom/data/download/tfbs/shuf-all_fantom_enh_112_tissues-19_age_breaks_syn_tfbs_density.bed\n",
      "66499 raw df len\n",
      "the number syntenic blocks that did not overlap TFBS 47798\n",
      "the number of unique enhancers 30474\n"
     ]
    },
    {
     "name": "stderr",
     "output_type": "stream",
     "text": [
      "/dors/capra_lab/users/fongsl/sfenv/lib/python3.6/site-packages/pandas/core/indexing.py:205: SettingWithCopyWarning: \n",
      "A value is trying to be set on a copy of a slice from a DataFrame\n",
      "\n",
      "See the caveats in the documentation: http://pandas.pydata.org/pandas-docs/stable/user_guide/indexing.html#returning-a-view-versus-a-copy\n",
      "  self._setitem_with_indexer(indexer, value)\n"
     ]
    },
    {
     "name": "stdout",
     "output_type": "stream",
     "text": [
      "Finished calculating SYN TFBS density 2020-03-11 14:56:35.243616\n",
      "/dors/capra_lab/projects/enhancer_ages/fantom/data/download/tfbs/shuf-all_fantom_enh_112_tissues-25_age_breaks_syn_tfbs_density.bed\n",
      "65407 raw df len\n",
      "the number syntenic blocks that did not overlap TFBS 47500\n",
      "the number of unique enhancers 30470\n"
     ]
    },
    {
     "name": "stderr",
     "output_type": "stream",
     "text": [
      "/dors/capra_lab/users/fongsl/sfenv/lib/python3.6/site-packages/pandas/core/indexing.py:205: SettingWithCopyWarning: \n",
      "A value is trying to be set on a copy of a slice from a DataFrame\n",
      "\n",
      "See the caveats in the documentation: http://pandas.pydata.org/pandas-docs/stable/user_guide/indexing.html#returning-a-view-versus-a-copy\n",
      "  self._setitem_with_indexer(indexer, value)\n"
     ]
    },
    {
     "name": "stdout",
     "output_type": "stream",
     "text": [
      "Finished calculating SYN TFBS density 2020-03-11 14:57:52.760472\n",
      "/dors/capra_lab/projects/enhancer_ages/fantom/data/download/tfbs/shuf-all_fantom_enh_112_tissues-96_age_breaks_syn_tfbs_density.bed\n",
      "67109 raw df len\n",
      "the number syntenic blocks that did not overlap TFBS 47768\n",
      "the number of unique enhancers 30473\n"
     ]
    },
    {
     "name": "stderr",
     "output_type": "stream",
     "text": [
      "/dors/capra_lab/users/fongsl/sfenv/lib/python3.6/site-packages/pandas/core/indexing.py:205: SettingWithCopyWarning: \n",
      "A value is trying to be set on a copy of a slice from a DataFrame\n",
      "\n",
      "See the caveats in the documentation: http://pandas.pydata.org/pandas-docs/stable/user_guide/indexing.html#returning-a-view-versus-a-copy\n",
      "  self._setitem_with_indexer(indexer, value)\n"
     ]
    },
    {
     "name": "stdout",
     "output_type": "stream",
     "text": [
      "Finished calculating SYN TFBS density 2020-03-11 14:59:18.690667\n",
      "/dors/capra_lab/projects/enhancer_ages/fantom/data/download/tfbs/shuf-all_fantom_enh_112_tissues-86_age_breaks_syn_tfbs_density.bed\n",
      "65284 raw df len\n",
      "the number syntenic blocks that did not overlap TFBS 47897\n",
      "the number of unique enhancers 30471\n"
     ]
    },
    {
     "name": "stderr",
     "output_type": "stream",
     "text": [
      "/dors/capra_lab/users/fongsl/sfenv/lib/python3.6/site-packages/pandas/core/indexing.py:205: SettingWithCopyWarning: \n",
      "A value is trying to be set on a copy of a slice from a DataFrame\n",
      "\n",
      "See the caveats in the documentation: http://pandas.pydata.org/pandas-docs/stable/user_guide/indexing.html#returning-a-view-versus-a-copy\n",
      "  self._setitem_with_indexer(indexer, value)\n"
     ]
    },
    {
     "name": "stdout",
     "output_type": "stream",
     "text": [
      "Finished calculating SYN TFBS density 2020-03-11 15:00:34.064101\n",
      "/dors/capra_lab/projects/enhancer_ages/fantom/data/download/tfbs/shuf-all_fantom_enh_112_tissues-67_age_breaks_syn_tfbs_density.bed\n",
      "75946 raw df len\n",
      "the number syntenic blocks that did not overlap TFBS 54088\n",
      "the number of unique enhancers 34569\n"
     ]
    },
    {
     "name": "stderr",
     "output_type": "stream",
     "text": [
      "/dors/capra_lab/users/fongsl/sfenv/lib/python3.6/site-packages/pandas/core/indexing.py:205: SettingWithCopyWarning: \n",
      "A value is trying to be set on a copy of a slice from a DataFrame\n",
      "\n",
      "See the caveats in the documentation: http://pandas.pydata.org/pandas-docs/stable/user_guide/indexing.html#returning-a-view-versus-a-copy\n",
      "  self._setitem_with_indexer(indexer, value)\n"
     ]
    },
    {
     "name": "stdout",
     "output_type": "stream",
     "text": [
      "Finished calculating SYN TFBS density 2020-03-11 15:02:01.302450\n",
      "/dors/capra_lab/projects/enhancer_ages/fantom/data/download/tfbs/shuf-all_fantom_enh_112_tissues-10_age_breaks_syn_tfbs_density.bed\n",
      "66150 raw df len\n",
      "the number syntenic blocks that did not overlap TFBS 47532\n",
      "the number of unique enhancers 30472\n"
     ]
    },
    {
     "name": "stderr",
     "output_type": "stream",
     "text": [
      "/dors/capra_lab/users/fongsl/sfenv/lib/python3.6/site-packages/pandas/core/indexing.py:205: SettingWithCopyWarning: \n",
      "A value is trying to be set on a copy of a slice from a DataFrame\n",
      "\n",
      "See the caveats in the documentation: http://pandas.pydata.org/pandas-docs/stable/user_guide/indexing.html#returning-a-view-versus-a-copy\n",
      "  self._setitem_with_indexer(indexer, value)\n"
     ]
    },
    {
     "name": "stdout",
     "output_type": "stream",
     "text": [
      "Finished calculating SYN TFBS density 2020-03-11 15:03:08.252022\n",
      "/dors/capra_lab/projects/enhancer_ages/fantom/data/download/tfbs/shuf-all_fantom_enh_112_tissues-93_age_breaks_syn_tfbs_density.bed\n",
      "66367 raw df len\n",
      "the number syntenic blocks that did not overlap TFBS 47700\n",
      "the number of unique enhancers 30471\n"
     ]
    },
    {
     "name": "stderr",
     "output_type": "stream",
     "text": [
      "/dors/capra_lab/users/fongsl/sfenv/lib/python3.6/site-packages/pandas/core/indexing.py:205: SettingWithCopyWarning: \n",
      "A value is trying to be set on a copy of a slice from a DataFrame\n",
      "\n",
      "See the caveats in the documentation: http://pandas.pydata.org/pandas-docs/stable/user_guide/indexing.html#returning-a-view-versus-a-copy\n",
      "  self._setitem_with_indexer(indexer, value)\n"
     ]
    },
    {
     "name": "stdout",
     "output_type": "stream",
     "text": [
      "Finished calculating SYN TFBS density 2020-03-11 15:04:25.851082\n",
      "/dors/capra_lab/projects/enhancer_ages/fantom/data/download/tfbs/shuf-all_fantom_enh_112_tissues-11_age_breaks_syn_tfbs_density.bed\n",
      "66223 raw df len\n",
      "the number syntenic blocks that did not overlap TFBS 47473\n",
      "the number of unique enhancers 30473\n"
     ]
    },
    {
     "name": "stderr",
     "output_type": "stream",
     "text": [
      "/dors/capra_lab/users/fongsl/sfenv/lib/python3.6/site-packages/pandas/core/indexing.py:205: SettingWithCopyWarning: \n",
      "A value is trying to be set on a copy of a slice from a DataFrame\n",
      "\n",
      "See the caveats in the documentation: http://pandas.pydata.org/pandas-docs/stable/user_guide/indexing.html#returning-a-view-versus-a-copy\n",
      "  self._setitem_with_indexer(indexer, value)\n"
     ]
    },
    {
     "name": "stdout",
     "output_type": "stream",
     "text": [
      "Finished calculating SYN TFBS density 2020-03-11 15:06:01.727485\n",
      "/dors/capra_lab/projects/enhancer_ages/fantom/data/download/tfbs/shuf-all_fantom_enh_112_tissues-62_age_breaks_syn_tfbs_density.bed\n",
      "67023 raw df len\n",
      "the number syntenic blocks that did not overlap TFBS 47394\n",
      "the number of unique enhancers 30470\n"
     ]
    },
    {
     "name": "stderr",
     "output_type": "stream",
     "text": [
      "/dors/capra_lab/users/fongsl/sfenv/lib/python3.6/site-packages/pandas/core/indexing.py:205: SettingWithCopyWarning: \n",
      "A value is trying to be set on a copy of a slice from a DataFrame\n",
      "\n",
      "See the caveats in the documentation: http://pandas.pydata.org/pandas-docs/stable/user_guide/indexing.html#returning-a-view-versus-a-copy\n",
      "  self._setitem_with_indexer(indexer, value)\n"
     ]
    },
    {
     "name": "stdout",
     "output_type": "stream",
     "text": [
      "Finished calculating SYN TFBS density 2020-03-11 15:07:27.165752\n",
      "/dors/capra_lab/projects/enhancer_ages/fantom/data/download/tfbs/shuf-all_fantom_enh_112_tissues-87_age_breaks_syn_tfbs_density.bed\n",
      "65707 raw df len\n",
      "the number syntenic blocks that did not overlap TFBS 47483\n",
      "the number of unique enhancers 30472\n"
     ]
    },
    {
     "name": "stderr",
     "output_type": "stream",
     "text": [
      "/dors/capra_lab/users/fongsl/sfenv/lib/python3.6/site-packages/pandas/core/indexing.py:205: SettingWithCopyWarning: \n",
      "A value is trying to be set on a copy of a slice from a DataFrame\n",
      "\n",
      "See the caveats in the documentation: http://pandas.pydata.org/pandas-docs/stable/user_guide/indexing.html#returning-a-view-versus-a-copy\n",
      "  self._setitem_with_indexer(indexer, value)\n"
     ]
    },
    {
     "name": "stdout",
     "output_type": "stream",
     "text": [
      "Finished calculating SYN TFBS density 2020-03-11 15:09:30.180460\n",
      "/dors/capra_lab/projects/enhancer_ages/fantom/data/download/tfbs/shuf-all_fantom_enh_112_tissues-3_age_breaks_syn_tfbs_density.bed\n",
      "65878 raw df len\n",
      "the number syntenic blocks that did not overlap TFBS 47326\n",
      "the number of unique enhancers 30470\n"
     ]
    },
    {
     "name": "stderr",
     "output_type": "stream",
     "text": [
      "/dors/capra_lab/users/fongsl/sfenv/lib/python3.6/site-packages/pandas/core/indexing.py:205: SettingWithCopyWarning: \n",
      "A value is trying to be set on a copy of a slice from a DataFrame\n",
      "\n",
      "See the caveats in the documentation: http://pandas.pydata.org/pandas-docs/stable/user_guide/indexing.html#returning-a-view-versus-a-copy\n",
      "  self._setitem_with_indexer(indexer, value)\n"
     ]
    },
    {
     "name": "stdout",
     "output_type": "stream",
     "text": [
      "Finished calculating SYN TFBS density 2020-03-11 15:11:52.045887\n",
      "/dors/capra_lab/projects/enhancer_ages/fantom/data/download/tfbs/shuf-all_fantom_enh_112_tissues-5_age_breaks_syn_tfbs_density.bed\n",
      "65991 raw df len\n",
      "the number syntenic blocks that did not overlap TFBS 47836\n",
      "the number of unique enhancers 30471\n"
     ]
    },
    {
     "name": "stderr",
     "output_type": "stream",
     "text": [
      "/dors/capra_lab/users/fongsl/sfenv/lib/python3.6/site-packages/pandas/core/indexing.py:205: SettingWithCopyWarning: \n",
      "A value is trying to be set on a copy of a slice from a DataFrame\n",
      "\n",
      "See the caveats in the documentation: http://pandas.pydata.org/pandas-docs/stable/user_guide/indexing.html#returning-a-view-versus-a-copy\n",
      "  self._setitem_with_indexer(indexer, value)\n"
     ]
    },
    {
     "name": "stdout",
     "output_type": "stream",
     "text": [
      "Finished calculating SYN TFBS density 2020-03-11 15:13:05.649055\n",
      "/dors/capra_lab/projects/enhancer_ages/fantom/data/download/tfbs/shuf-all_fantom_enh_112_tissues-55_age_breaks_syn_tfbs_density.bed\n",
      "66661 raw df len\n",
      "the number syntenic blocks that did not overlap TFBS 47812\n",
      "the number of unique enhancers 30469\n"
     ]
    },
    {
     "name": "stderr",
     "output_type": "stream",
     "text": [
      "/dors/capra_lab/users/fongsl/sfenv/lib/python3.6/site-packages/pandas/core/indexing.py:205: SettingWithCopyWarning: \n",
      "A value is trying to be set on a copy of a slice from a DataFrame\n",
      "\n",
      "See the caveats in the documentation: http://pandas.pydata.org/pandas-docs/stable/user_guide/indexing.html#returning-a-view-versus-a-copy\n",
      "  self._setitem_with_indexer(indexer, value)\n"
     ]
    },
    {
     "name": "stdout",
     "output_type": "stream",
     "text": [
      "Finished calculating SYN TFBS density 2020-03-11 15:14:08.473252\n",
      "/dors/capra_lab/projects/enhancer_ages/fantom/data/download/tfbs/shuf-all_fantom_enh_112_tissues-80_age_breaks_syn_tfbs_density.bed\n",
      "65911 raw df len\n",
      "the number syntenic blocks that did not overlap TFBS 47683\n",
      "the number of unique enhancers 30471\n"
     ]
    },
    {
     "name": "stderr",
     "output_type": "stream",
     "text": [
      "/dors/capra_lab/users/fongsl/sfenv/lib/python3.6/site-packages/pandas/core/indexing.py:205: SettingWithCopyWarning: \n",
      "A value is trying to be set on a copy of a slice from a DataFrame\n",
      "\n",
      "See the caveats in the documentation: http://pandas.pydata.org/pandas-docs/stable/user_guide/indexing.html#returning-a-view-versus-a-copy\n",
      "  self._setitem_with_indexer(indexer, value)\n"
     ]
    },
    {
     "name": "stdout",
     "output_type": "stream",
     "text": [
      "Finished calculating SYN TFBS density 2020-03-11 15:14:50.491250\n",
      "/dors/capra_lab/projects/enhancer_ages/fantom/data/download/tfbs/shuf-all_fantom_enh_112_tissues-1_age_breaks_syn_tfbs_density.bed\n",
      "65794 raw df len\n",
      "the number syntenic blocks that did not overlap TFBS 47805\n",
      "the number of unique enhancers 30469\n"
     ]
    },
    {
     "name": "stderr",
     "output_type": "stream",
     "text": [
      "/dors/capra_lab/users/fongsl/sfenv/lib/python3.6/site-packages/pandas/core/indexing.py:205: SettingWithCopyWarning: \n",
      "A value is trying to be set on a copy of a slice from a DataFrame\n",
      "\n",
      "See the caveats in the documentation: http://pandas.pydata.org/pandas-docs/stable/user_guide/indexing.html#returning-a-view-versus-a-copy\n",
      "  self._setitem_with_indexer(indexer, value)\n"
     ]
    },
    {
     "name": "stdout",
     "output_type": "stream",
     "text": [
      "Finished calculating SYN TFBS density 2020-03-11 15:15:42.478476\n",
      "/dors/capra_lab/projects/enhancer_ages/fantom/data/download/tfbs/shuf-all_fantom_enh_112_tissues-30_age_breaks_syn_tfbs_density.bed\n",
      "66341 raw df len\n",
      "the number syntenic blocks that did not overlap TFBS 47570\n",
      "the number of unique enhancers 30470\n"
     ]
    },
    {
     "name": "stderr",
     "output_type": "stream",
     "text": [
      "/dors/capra_lab/users/fongsl/sfenv/lib/python3.6/site-packages/pandas/core/indexing.py:205: SettingWithCopyWarning: \n",
      "A value is trying to be set on a copy of a slice from a DataFrame\n",
      "\n",
      "See the caveats in the documentation: http://pandas.pydata.org/pandas-docs/stable/user_guide/indexing.html#returning-a-view-versus-a-copy\n",
      "  self._setitem_with_indexer(indexer, value)\n"
     ]
    },
    {
     "name": "stdout",
     "output_type": "stream",
     "text": [
      "Finished calculating SYN TFBS density 2020-03-11 15:16:27.011794\n",
      "/dors/capra_lab/projects/enhancer_ages/fantom/data/download/tfbs/shuf-all_fantom_enh_112_tissues-38_age_breaks_syn_tfbs_density.bed\n",
      "66649 raw df len\n",
      "the number syntenic blocks that did not overlap TFBS 47756\n",
      "the number of unique enhancers 30572\n"
     ]
    },
    {
     "name": "stderr",
     "output_type": "stream",
     "text": [
      "/dors/capra_lab/users/fongsl/sfenv/lib/python3.6/site-packages/pandas/core/indexing.py:205: SettingWithCopyWarning: \n",
      "A value is trying to be set on a copy of a slice from a DataFrame\n",
      "\n",
      "See the caveats in the documentation: http://pandas.pydata.org/pandas-docs/stable/user_guide/indexing.html#returning-a-view-versus-a-copy\n",
      "  self._setitem_with_indexer(indexer, value)\n"
     ]
    },
    {
     "name": "stdout",
     "output_type": "stream",
     "text": [
      "Finished calculating SYN TFBS density 2020-03-11 15:17:22.684775\n",
      "/dors/capra_lab/projects/enhancer_ages/fantom/data/download/tfbs/shuf-all_fantom_enh_112_tissues-65_age_breaks_syn_tfbs_density.bed\n",
      "65335 raw df len\n",
      "the number syntenic blocks that did not overlap TFBS 47685\n",
      "the number of unique enhancers 30472\n"
     ]
    },
    {
     "name": "stderr",
     "output_type": "stream",
     "text": [
      "/dors/capra_lab/users/fongsl/sfenv/lib/python3.6/site-packages/pandas/core/indexing.py:205: SettingWithCopyWarning: \n",
      "A value is trying to be set on a copy of a slice from a DataFrame\n",
      "\n",
      "See the caveats in the documentation: http://pandas.pydata.org/pandas-docs/stable/user_guide/indexing.html#returning-a-view-versus-a-copy\n",
      "  self._setitem_with_indexer(indexer, value)\n"
     ]
    },
    {
     "name": "stdout",
     "output_type": "stream",
     "text": [
      "Finished calculating SYN TFBS density 2020-03-11 15:18:16.976511\n",
      "/dors/capra_lab/projects/enhancer_ages/fantom/data/download/tfbs/shuf-all_fantom_enh_112_tissues-46_age_breaks_syn_tfbs_density.bed\n",
      "66030 raw df len\n",
      "the number syntenic blocks that did not overlap TFBS 47299\n",
      "the number of unique enhancers 30469\n"
     ]
    },
    {
     "name": "stderr",
     "output_type": "stream",
     "text": [
      "/dors/capra_lab/users/fongsl/sfenv/lib/python3.6/site-packages/pandas/core/indexing.py:205: SettingWithCopyWarning: \n",
      "A value is trying to be set on a copy of a slice from a DataFrame\n",
      "\n",
      "See the caveats in the documentation: http://pandas.pydata.org/pandas-docs/stable/user_guide/indexing.html#returning-a-view-versus-a-copy\n",
      "  self._setitem_with_indexer(indexer, value)\n"
     ]
    },
    {
     "name": "stdout",
     "output_type": "stream",
     "text": [
      "Finished calculating SYN TFBS density 2020-03-11 15:19:13.574359\n",
      "/dors/capra_lab/projects/enhancer_ages/fantom/data/download/tfbs/shuf-all_fantom_enh_112_tissues-94_age_breaks_syn_tfbs_density.bed\n",
      "65655 raw df len\n",
      "the number syntenic blocks that did not overlap TFBS 47637\n",
      "the number of unique enhancers 30473\n"
     ]
    },
    {
     "name": "stderr",
     "output_type": "stream",
     "text": [
      "/dors/capra_lab/users/fongsl/sfenv/lib/python3.6/site-packages/pandas/core/indexing.py:205: SettingWithCopyWarning: \n",
      "A value is trying to be set on a copy of a slice from a DataFrame\n",
      "\n",
      "See the caveats in the documentation: http://pandas.pydata.org/pandas-docs/stable/user_guide/indexing.html#returning-a-view-versus-a-copy\n",
      "  self._setitem_with_indexer(indexer, value)\n"
     ]
    },
    {
     "name": "stdout",
     "output_type": "stream",
     "text": [
      "Finished calculating SYN TFBS density 2020-03-11 15:20:02.638283\n",
      "/dors/capra_lab/projects/enhancer_ages/fantom/data/download/tfbs/shuf-all_fantom_enh_112_tissues-12_age_breaks_syn_tfbs_density.bed\n",
      "66552 raw df len\n",
      "the number syntenic blocks that did not overlap TFBS 47441\n",
      "the number of unique enhancers 30473\n"
     ]
    },
    {
     "name": "stderr",
     "output_type": "stream",
     "text": [
      "/dors/capra_lab/users/fongsl/sfenv/lib/python3.6/site-packages/pandas/core/indexing.py:205: SettingWithCopyWarning: \n",
      "A value is trying to be set on a copy of a slice from a DataFrame\n",
      "\n",
      "See the caveats in the documentation: http://pandas.pydata.org/pandas-docs/stable/user_guide/indexing.html#returning-a-view-versus-a-copy\n",
      "  self._setitem_with_indexer(indexer, value)\n"
     ]
    },
    {
     "name": "stdout",
     "output_type": "stream",
     "text": [
      "Finished calculating SYN TFBS density 2020-03-11 15:20:55.191693\n",
      "/dors/capra_lab/projects/enhancer_ages/fantom/data/download/tfbs/shuf-all_fantom_enh_112_tissues-77_age_breaks_syn_tfbs_density.bed\n",
      "65232 raw df len\n",
      "the number syntenic blocks that did not overlap TFBS 47691\n",
      "the number of unique enhancers 30470\n"
     ]
    },
    {
     "name": "stderr",
     "output_type": "stream",
     "text": [
      "/dors/capra_lab/users/fongsl/sfenv/lib/python3.6/site-packages/pandas/core/indexing.py:205: SettingWithCopyWarning: \n",
      "A value is trying to be set on a copy of a slice from a DataFrame\n",
      "\n",
      "See the caveats in the documentation: http://pandas.pydata.org/pandas-docs/stable/user_guide/indexing.html#returning-a-view-versus-a-copy\n",
      "  self._setitem_with_indexer(indexer, value)\n"
     ]
    },
    {
     "name": "stdout",
     "output_type": "stream",
     "text": [
      "Finished calculating SYN TFBS density 2020-03-11 15:21:49.207961\n",
      "/dors/capra_lab/projects/enhancer_ages/fantom/data/download/tfbs/shuf-all_fantom_enh_112_tissues-72_age_breaks_syn_tfbs_density.bed\n",
      "67041 raw df len\n",
      "the number syntenic blocks that did not overlap TFBS 47858\n",
      "the number of unique enhancers 30470\n"
     ]
    },
    {
     "name": "stderr",
     "output_type": "stream",
     "text": [
      "/dors/capra_lab/users/fongsl/sfenv/lib/python3.6/site-packages/pandas/core/indexing.py:205: SettingWithCopyWarning: \n",
      "A value is trying to be set on a copy of a slice from a DataFrame\n",
      "\n",
      "See the caveats in the documentation: http://pandas.pydata.org/pandas-docs/stable/user_guide/indexing.html#returning-a-view-versus-a-copy\n",
      "  self._setitem_with_indexer(indexer, value)\n"
     ]
    },
    {
     "name": "stdout",
     "output_type": "stream",
     "text": [
      "Finished calculating SYN TFBS density 2020-03-11 15:22:42.798065\n",
      "/dors/capra_lab/projects/enhancer_ages/fantom/data/download/tfbs/shuf-all_fantom_enh_112_tissues-22_age_breaks_syn_tfbs_density.bed\n",
      "66428 raw df len\n",
      "the number syntenic blocks that did not overlap TFBS 47299\n",
      "the number of unique enhancers 30472\n"
     ]
    },
    {
     "name": "stderr",
     "output_type": "stream",
     "text": [
      "/dors/capra_lab/users/fongsl/sfenv/lib/python3.6/site-packages/pandas/core/indexing.py:205: SettingWithCopyWarning: \n",
      "A value is trying to be set on a copy of a slice from a DataFrame\n",
      "\n",
      "See the caveats in the documentation: http://pandas.pydata.org/pandas-docs/stable/user_guide/indexing.html#returning-a-view-versus-a-copy\n",
      "  self._setitem_with_indexer(indexer, value)\n"
     ]
    },
    {
     "name": "stdout",
     "output_type": "stream",
     "text": [
      "Finished calculating SYN TFBS density 2020-03-11 15:23:25.728569\n",
      "/dors/capra_lab/projects/enhancer_ages/fantom/data/download/tfbs/shuf-all_fantom_enh_112_tissues-50_age_breaks_syn_tfbs_density.bed\n",
      "71504 raw df len\n",
      "the number syntenic blocks that did not overlap TFBS 51191\n",
      "the number of unique enhancers 32668\n"
     ]
    },
    {
     "name": "stderr",
     "output_type": "stream",
     "text": [
      "/dors/capra_lab/users/fongsl/sfenv/lib/python3.6/site-packages/pandas/core/indexing.py:205: SettingWithCopyWarning: \n",
      "A value is trying to be set on a copy of a slice from a DataFrame\n",
      "\n",
      "See the caveats in the documentation: http://pandas.pydata.org/pandas-docs/stable/user_guide/indexing.html#returning-a-view-versus-a-copy\n",
      "  self._setitem_with_indexer(indexer, value)\n"
     ]
    },
    {
     "name": "stdout",
     "output_type": "stream",
     "text": [
      "Finished calculating SYN TFBS density 2020-03-11 15:24:12.668468\n",
      "/dors/capra_lab/projects/enhancer_ages/fantom/data/download/tfbs/shuf-all_fantom_enh_112_tissues-48_age_breaks_syn_tfbs_density.bed\n",
      "67289 raw df len\n",
      "the number syntenic blocks that did not overlap TFBS 47906\n",
      "the number of unique enhancers 30471\n"
     ]
    },
    {
     "name": "stderr",
     "output_type": "stream",
     "text": [
      "/dors/capra_lab/users/fongsl/sfenv/lib/python3.6/site-packages/pandas/core/indexing.py:205: SettingWithCopyWarning: \n",
      "A value is trying to be set on a copy of a slice from a DataFrame\n",
      "\n",
      "See the caveats in the documentation: http://pandas.pydata.org/pandas-docs/stable/user_guide/indexing.html#returning-a-view-versus-a-copy\n",
      "  self._setitem_with_indexer(indexer, value)\n"
     ]
    },
    {
     "name": "stdout",
     "output_type": "stream",
     "text": [
      "Finished calculating SYN TFBS density 2020-03-11 15:24:53.958972\n",
      "/dors/capra_lab/projects/enhancer_ages/fantom/data/download/tfbs/shuf-all_fantom_enh_112_tissues-61_age_breaks_syn_tfbs_density.bed\n",
      "66354 raw df len\n",
      "the number syntenic blocks that did not overlap TFBS 47731\n",
      "the number of unique enhancers 30470\n"
     ]
    },
    {
     "name": "stderr",
     "output_type": "stream",
     "text": [
      "/dors/capra_lab/users/fongsl/sfenv/lib/python3.6/site-packages/pandas/core/indexing.py:205: SettingWithCopyWarning: \n",
      "A value is trying to be set on a copy of a slice from a DataFrame\n",
      "\n",
      "See the caveats in the documentation: http://pandas.pydata.org/pandas-docs/stable/user_guide/indexing.html#returning-a-view-versus-a-copy\n",
      "  self._setitem_with_indexer(indexer, value)\n"
     ]
    },
    {
     "name": "stdout",
     "output_type": "stream",
     "text": [
      "Finished calculating SYN TFBS density 2020-03-11 15:25:44.840300\n",
      "/dors/capra_lab/projects/enhancer_ages/fantom/data/download/tfbs/shuf-all_fantom_enh_112_tissues-52_age_breaks_syn_tfbs_density.bed\n",
      "67149 raw df len\n",
      "the number syntenic blocks that did not overlap TFBS 48273\n",
      "the number of unique enhancers 30869\n"
     ]
    },
    {
     "name": "stderr",
     "output_type": "stream",
     "text": [
      "/dors/capra_lab/users/fongsl/sfenv/lib/python3.6/site-packages/pandas/core/indexing.py:205: SettingWithCopyWarning: \n",
      "A value is trying to be set on a copy of a slice from a DataFrame\n",
      "\n",
      "See the caveats in the documentation: http://pandas.pydata.org/pandas-docs/stable/user_guide/indexing.html#returning-a-view-versus-a-copy\n",
      "  self._setitem_with_indexer(indexer, value)\n"
     ]
    },
    {
     "name": "stdout",
     "output_type": "stream",
     "text": [
      "Finished calculating SYN TFBS density 2020-03-11 15:26:38.322870\n",
      "/dors/capra_lab/projects/enhancer_ages/fantom/data/download/tfbs/shuf-all_fantom_enh_112_tissues-92_age_breaks_syn_tfbs_density.bed\n",
      "67084 raw df len\n",
      "the number syntenic blocks that did not overlap TFBS 47271\n",
      "the number of unique enhancers 30471\n"
     ]
    },
    {
     "name": "stderr",
     "output_type": "stream",
     "text": [
      "/dors/capra_lab/users/fongsl/sfenv/lib/python3.6/site-packages/pandas/core/indexing.py:205: SettingWithCopyWarning: \n",
      "A value is trying to be set on a copy of a slice from a DataFrame\n",
      "\n",
      "See the caveats in the documentation: http://pandas.pydata.org/pandas-docs/stable/user_guide/indexing.html#returning-a-view-versus-a-copy\n",
      "  self._setitem_with_indexer(indexer, value)\n"
     ]
    },
    {
     "name": "stdout",
     "output_type": "stream",
     "text": [
      "Finished calculating SYN TFBS density 2020-03-11 15:27:33.292546\n",
      "/dors/capra_lab/projects/enhancer_ages/fantom/data/download/tfbs/shuf-all_fantom_enh_112_tissues-18_age_breaks_syn_tfbs_density.bed\n",
      "66662 raw df len\n",
      "the number syntenic blocks that did not overlap TFBS 47277\n",
      "the number of unique enhancers 30472\n"
     ]
    },
    {
     "name": "stderr",
     "output_type": "stream",
     "text": [
      "/dors/capra_lab/users/fongsl/sfenv/lib/python3.6/site-packages/pandas/core/indexing.py:205: SettingWithCopyWarning: \n",
      "A value is trying to be set on a copy of a slice from a DataFrame\n",
      "\n",
      "See the caveats in the documentation: http://pandas.pydata.org/pandas-docs/stable/user_guide/indexing.html#returning-a-view-versus-a-copy\n",
      "  self._setitem_with_indexer(indexer, value)\n"
     ]
    },
    {
     "name": "stdout",
     "output_type": "stream",
     "text": [
      "Finished calculating SYN TFBS density 2020-03-11 15:28:28.680627\n",
      "/dors/capra_lab/projects/enhancer_ages/fantom/data/download/tfbs/shuf-all_fantom_enh_112_tissues-71_age_breaks_syn_tfbs_density.bed\n",
      "66244 raw df len\n",
      "the number syntenic blocks that did not overlap TFBS 47431\n",
      "the number of unique enhancers 30472\n"
     ]
    },
    {
     "name": "stderr",
     "output_type": "stream",
     "text": [
      "/dors/capra_lab/users/fongsl/sfenv/lib/python3.6/site-packages/pandas/core/indexing.py:205: SettingWithCopyWarning: \n",
      "A value is trying to be set on a copy of a slice from a DataFrame\n",
      "\n",
      "See the caveats in the documentation: http://pandas.pydata.org/pandas-docs/stable/user_guide/indexing.html#returning-a-view-versus-a-copy\n",
      "  self._setitem_with_indexer(indexer, value)\n"
     ]
    },
    {
     "name": "stdout",
     "output_type": "stream",
     "text": [
      "Finished calculating SYN TFBS density 2020-03-11 15:29:19.360566\n",
      "/dors/capra_lab/projects/enhancer_ages/fantom/data/download/tfbs/shuf-all_fantom_enh_112_tissues-74_age_breaks_syn_tfbs_density.bed\n",
      "65997 raw df len\n",
      "the number syntenic blocks that did not overlap TFBS 47600\n",
      "the number of unique enhancers 30471\n"
     ]
    },
    {
     "name": "stderr",
     "output_type": "stream",
     "text": [
      "/dors/capra_lab/users/fongsl/sfenv/lib/python3.6/site-packages/pandas/core/indexing.py:205: SettingWithCopyWarning: \n",
      "A value is trying to be set on a copy of a slice from a DataFrame\n",
      "\n",
      "See the caveats in the documentation: http://pandas.pydata.org/pandas-docs/stable/user_guide/indexing.html#returning-a-view-versus-a-copy\n",
      "  self._setitem_with_indexer(indexer, value)\n"
     ]
    },
    {
     "name": "stdout",
     "output_type": "stream",
     "text": [
      "Finished calculating SYN TFBS density 2020-03-11 15:30:14.347554\n",
      "/dors/capra_lab/projects/enhancer_ages/fantom/data/download/tfbs/shuf-all_fantom_enh_112_tissues-56_age_breaks_syn_tfbs_density.bed\n",
      "66094 raw df len\n",
      "the number syntenic blocks that did not overlap TFBS 47541\n",
      "the number of unique enhancers 30467\n"
     ]
    },
    {
     "name": "stderr",
     "output_type": "stream",
     "text": [
      "/dors/capra_lab/users/fongsl/sfenv/lib/python3.6/site-packages/pandas/core/indexing.py:205: SettingWithCopyWarning: \n",
      "A value is trying to be set on a copy of a slice from a DataFrame\n",
      "\n",
      "See the caveats in the documentation: http://pandas.pydata.org/pandas-docs/stable/user_guide/indexing.html#returning-a-view-versus-a-copy\n",
      "  self._setitem_with_indexer(indexer, value)\n"
     ]
    },
    {
     "name": "stdout",
     "output_type": "stream",
     "text": [
      "Finished calculating SYN TFBS density 2020-03-11 15:31:06.903812\n",
      "/dors/capra_lab/projects/enhancer_ages/fantom/data/download/tfbs/shuf-all_fantom_enh_112_tissues-82_age_breaks_syn_tfbs_density.bed\n",
      "66753 raw df len\n",
      "the number syntenic blocks that did not overlap TFBS 47340\n",
      "the number of unique enhancers 30470\n"
     ]
    },
    {
     "name": "stderr",
     "output_type": "stream",
     "text": [
      "/dors/capra_lab/users/fongsl/sfenv/lib/python3.6/site-packages/pandas/core/indexing.py:205: SettingWithCopyWarning: \n",
      "A value is trying to be set on a copy of a slice from a DataFrame\n",
      "\n",
      "See the caveats in the documentation: http://pandas.pydata.org/pandas-docs/stable/user_guide/indexing.html#returning-a-view-versus-a-copy\n",
      "  self._setitem_with_indexer(indexer, value)\n"
     ]
    },
    {
     "name": "stdout",
     "output_type": "stream",
     "text": [
      "Finished calculating SYN TFBS density 2020-03-11 15:31:55.473799\n",
      "/dors/capra_lab/projects/enhancer_ages/fantom/data/download/tfbs/shuf-all_fantom_enh_112_tissues-76_age_breaks_syn_tfbs_density.bed\n",
      "67024 raw df len\n",
      "the number syntenic blocks that did not overlap TFBS 47593\n",
      "the number of unique enhancers 30470\n"
     ]
    },
    {
     "name": "stderr",
     "output_type": "stream",
     "text": [
      "/dors/capra_lab/users/fongsl/sfenv/lib/python3.6/site-packages/pandas/core/indexing.py:205: SettingWithCopyWarning: \n",
      "A value is trying to be set on a copy of a slice from a DataFrame\n",
      "\n",
      "See the caveats in the documentation: http://pandas.pydata.org/pandas-docs/stable/user_guide/indexing.html#returning-a-view-versus-a-copy\n",
      "  self._setitem_with_indexer(indexer, value)\n"
     ]
    },
    {
     "name": "stdout",
     "output_type": "stream",
     "text": [
      "Finished calculating SYN TFBS density 2020-03-11 15:32:44.344031\n",
      "/dors/capra_lab/projects/enhancer_ages/fantom/data/download/tfbs/shuf-all_fantom_enh_112_tissues-2_age_breaks_syn_tfbs_density.bed\n",
      "65915 raw df len\n",
      "the number syntenic blocks that did not overlap TFBS 47659\n",
      "the number of unique enhancers 30469\n"
     ]
    },
    {
     "name": "stderr",
     "output_type": "stream",
     "text": [
      "/dors/capra_lab/users/fongsl/sfenv/lib/python3.6/site-packages/pandas/core/indexing.py:205: SettingWithCopyWarning: \n",
      "A value is trying to be set on a copy of a slice from a DataFrame\n",
      "\n",
      "See the caveats in the documentation: http://pandas.pydata.org/pandas-docs/stable/user_guide/indexing.html#returning-a-view-versus-a-copy\n",
      "  self._setitem_with_indexer(indexer, value)\n"
     ]
    },
    {
     "name": "stdout",
     "output_type": "stream",
     "text": [
      "Finished calculating SYN TFBS density 2020-03-11 15:33:37.062296\n",
      "/dors/capra_lab/projects/enhancer_ages/fantom/data/download/tfbs/shuf-all_fantom_enh_112_tissues-41_age_breaks_syn_tfbs_density.bed\n",
      "66259 raw df len\n",
      "the number syntenic blocks that did not overlap TFBS 47994\n",
      "the number of unique enhancers 30471\n"
     ]
    },
    {
     "name": "stderr",
     "output_type": "stream",
     "text": [
      "/dors/capra_lab/users/fongsl/sfenv/lib/python3.6/site-packages/pandas/core/indexing.py:205: SettingWithCopyWarning: \n",
      "A value is trying to be set on a copy of a slice from a DataFrame\n",
      "\n",
      "See the caveats in the documentation: http://pandas.pydata.org/pandas-docs/stable/user_guide/indexing.html#returning-a-view-versus-a-copy\n",
      "  self._setitem_with_indexer(indexer, value)\n"
     ]
    },
    {
     "name": "stdout",
     "output_type": "stream",
     "text": [
      "Finished calculating SYN TFBS density 2020-03-11 15:34:20.565789\n",
      "/dors/capra_lab/projects/enhancer_ages/fantom/data/download/tfbs/shuf-all_fantom_enh_112_tissues-85_age_breaks_syn_tfbs_density.bed\n",
      "67003 raw df len\n",
      "the number syntenic blocks that did not overlap TFBS 47291\n",
      "the number of unique enhancers 30471\n"
     ]
    },
    {
     "name": "stderr",
     "output_type": "stream",
     "text": [
      "/dors/capra_lab/users/fongsl/sfenv/lib/python3.6/site-packages/pandas/core/indexing.py:205: SettingWithCopyWarning: \n",
      "A value is trying to be set on a copy of a slice from a DataFrame\n",
      "\n",
      "See the caveats in the documentation: http://pandas.pydata.org/pandas-docs/stable/user_guide/indexing.html#returning-a-view-versus-a-copy\n",
      "  self._setitem_with_indexer(indexer, value)\n"
     ]
    },
    {
     "name": "stdout",
     "output_type": "stream",
     "text": [
      "Finished calculating SYN TFBS density 2020-03-11 15:35:17.249137\n",
      "/dors/capra_lab/projects/enhancer_ages/fantom/data/download/tfbs/shuf-all_fantom_enh_112_tissues-90_age_breaks_syn_tfbs_density.bed\n",
      "75492 raw df len\n",
      "the number syntenic blocks that did not overlap TFBS 53610\n",
      "the number of unique enhancers 34069\n"
     ]
    },
    {
     "name": "stderr",
     "output_type": "stream",
     "text": [
      "/dors/capra_lab/users/fongsl/sfenv/lib/python3.6/site-packages/pandas/core/indexing.py:205: SettingWithCopyWarning: \n",
      "A value is trying to be set on a copy of a slice from a DataFrame\n",
      "\n",
      "See the caveats in the documentation: http://pandas.pydata.org/pandas-docs/stable/user_guide/indexing.html#returning-a-view-versus-a-copy\n",
      "  self._setitem_with_indexer(indexer, value)\n"
     ]
    },
    {
     "name": "stdout",
     "output_type": "stream",
     "text": [
      "Finished calculating SYN TFBS density 2020-03-11 15:36:01.267254\n",
      "/dors/capra_lab/projects/enhancer_ages/fantom/data/download/tfbs/shuf-all_fantom_enh_112_tissues-4_age_breaks_syn_tfbs_density.bed\n",
      "67260 raw df len\n",
      "the number syntenic blocks that did not overlap TFBS 49026\n",
      "the number of unique enhancers 31272\n"
     ]
    },
    {
     "name": "stderr",
     "output_type": "stream",
     "text": [
      "/dors/capra_lab/users/fongsl/sfenv/lib/python3.6/site-packages/pandas/core/indexing.py:205: SettingWithCopyWarning: \n",
      "A value is trying to be set on a copy of a slice from a DataFrame\n",
      "\n",
      "See the caveats in the documentation: http://pandas.pydata.org/pandas-docs/stable/user_guide/indexing.html#returning-a-view-versus-a-copy\n",
      "  self._setitem_with_indexer(indexer, value)\n"
     ]
    },
    {
     "name": "stdout",
     "output_type": "stream",
     "text": [
      "Finished calculating SYN TFBS density 2020-03-11 15:36:43.715928\n",
      "/dors/capra_lab/projects/enhancer_ages/fantom/data/download/tfbs/shuf-all_fantom_enh_112_tissues-45_age_breaks_syn_tfbs_density.bed\n",
      "66555 raw df len\n",
      "the number syntenic blocks that did not overlap TFBS 47629\n",
      "the number of unique enhancers 30471\n"
     ]
    },
    {
     "name": "stderr",
     "output_type": "stream",
     "text": [
      "/dors/capra_lab/users/fongsl/sfenv/lib/python3.6/site-packages/pandas/core/indexing.py:205: SettingWithCopyWarning: \n",
      "A value is trying to be set on a copy of a slice from a DataFrame\n",
      "\n",
      "See the caveats in the documentation: http://pandas.pydata.org/pandas-docs/stable/user_guide/indexing.html#returning-a-view-versus-a-copy\n",
      "  self._setitem_with_indexer(indexer, value)\n"
     ]
    },
    {
     "name": "stdout",
     "output_type": "stream",
     "text": [
      "Finished calculating SYN TFBS density 2020-03-11 15:37:31.192536\n",
      "/dors/capra_lab/projects/enhancer_ages/fantom/data/download/tfbs/shuf-all_fantom_enh_112_tissues-8_age_breaks_syn_tfbs_density.bed\n",
      "66782 raw df len\n",
      "the number syntenic blocks that did not overlap TFBS 47896\n",
      "the number of unique enhancers 30470\n"
     ]
    },
    {
     "name": "stderr",
     "output_type": "stream",
     "text": [
      "/dors/capra_lab/users/fongsl/sfenv/lib/python3.6/site-packages/pandas/core/indexing.py:205: SettingWithCopyWarning: \n",
      "A value is trying to be set on a copy of a slice from a DataFrame\n",
      "\n",
      "See the caveats in the documentation: http://pandas.pydata.org/pandas-docs/stable/user_guide/indexing.html#returning-a-view-versus-a-copy\n",
      "  self._setitem_with_indexer(indexer, value)\n"
     ]
    },
    {
     "name": "stdout",
     "output_type": "stream",
     "text": [
      "Finished calculating SYN TFBS density 2020-03-11 15:38:21.227673\n",
      "/dors/capra_lab/projects/enhancer_ages/fantom/data/download/tfbs/shuf-all_fantom_enh_112_tissues-32_age_breaks_syn_tfbs_density.bed\n",
      "66084 raw df len\n",
      "the number syntenic blocks that did not overlap TFBS 47957\n",
      "the number of unique enhancers 30467\n"
     ]
    },
    {
     "name": "stderr",
     "output_type": "stream",
     "text": [
      "/dors/capra_lab/users/fongsl/sfenv/lib/python3.6/site-packages/pandas/core/indexing.py:205: SettingWithCopyWarning: \n",
      "A value is trying to be set on a copy of a slice from a DataFrame\n",
      "\n",
      "See the caveats in the documentation: http://pandas.pydata.org/pandas-docs/stable/user_guide/indexing.html#returning-a-view-versus-a-copy\n",
      "  self._setitem_with_indexer(indexer, value)\n"
     ]
    },
    {
     "name": "stdout",
     "output_type": "stream",
     "text": [
      "Finished calculating SYN TFBS density 2020-03-11 15:39:14.146112\n",
      "/dors/capra_lab/projects/enhancer_ages/fantom/data/download/tfbs/shuf-all_fantom_enh_112_tissues-58_age_breaks_syn_tfbs_density.bed\n",
      "65203 raw df len\n",
      "the number syntenic blocks that did not overlap TFBS 47551\n",
      "the number of unique enhancers 30471\n"
     ]
    },
    {
     "name": "stderr",
     "output_type": "stream",
     "text": [
      "/dors/capra_lab/users/fongsl/sfenv/lib/python3.6/site-packages/pandas/core/indexing.py:205: SettingWithCopyWarning: \n",
      "A value is trying to be set on a copy of a slice from a DataFrame\n",
      "\n",
      "See the caveats in the documentation: http://pandas.pydata.org/pandas-docs/stable/user_guide/indexing.html#returning-a-view-versus-a-copy\n",
      "  self._setitem_with_indexer(indexer, value)\n"
     ]
    },
    {
     "name": "stdout",
     "output_type": "stream",
     "text": [
      "Finished calculating SYN TFBS density 2020-03-11 15:40:03.617449\n",
      "/dors/capra_lab/projects/enhancer_ages/fantom/data/download/tfbs/shuf-all_fantom_enh_112_tissues-29_age_breaks_syn_tfbs_density.bed\n",
      "5486 raw df len\n",
      "the number syntenic blocks that did not overlap TFBS 3881\n",
      "the number of unique enhancers 2400\n"
     ]
    },
    {
     "name": "stderr",
     "output_type": "stream",
     "text": [
      "/dors/capra_lab/users/fongsl/sfenv/lib/python3.6/site-packages/pandas/core/indexing.py:205: SettingWithCopyWarning: \n",
      "A value is trying to be set on a copy of a slice from a DataFrame\n",
      "\n",
      "See the caveats in the documentation: http://pandas.pydata.org/pandas-docs/stable/user_guide/indexing.html#returning-a-view-versus-a-copy\n",
      "  self._setitem_with_indexer(indexer, value)\n"
     ]
    },
    {
     "name": "stdout",
     "output_type": "stream",
     "text": [
      "Finished calculating SYN TFBS density 2020-03-11 15:40:48.763718\n",
      "/dors/capra_lab/projects/enhancer_ages/fantom/data/download/tfbs/shuf-all_fantom_enh_112_tissues-84_age_breaks_syn_tfbs_density.bed\n",
      "66711 raw df len\n",
      "the number syntenic blocks that did not overlap TFBS 47685\n",
      "the number of unique enhancers 30470\n"
     ]
    },
    {
     "name": "stderr",
     "output_type": "stream",
     "text": [
      "/dors/capra_lab/users/fongsl/sfenv/lib/python3.6/site-packages/pandas/core/indexing.py:205: SettingWithCopyWarning: \n",
      "A value is trying to be set on a copy of a slice from a DataFrame\n",
      "\n",
      "See the caveats in the documentation: http://pandas.pydata.org/pandas-docs/stable/user_guide/indexing.html#returning-a-view-versus-a-copy\n",
      "  self._setitem_with_indexer(indexer, value)\n"
     ]
    },
    {
     "name": "stdout",
     "output_type": "stream",
     "text": [
      "Finished calculating SYN TFBS density 2020-03-11 15:41:30.328113\n",
      "/dors/capra_lab/projects/enhancer_ages/fantom/data/download/tfbs/shuf-all_fantom_enh_112_tissues-75_age_breaks_syn_tfbs_density.bed\n",
      "66779 raw df len\n",
      "the number syntenic blocks that did not overlap TFBS 47684\n",
      "the number of unique enhancers 30471\n"
     ]
    },
    {
     "name": "stderr",
     "output_type": "stream",
     "text": [
      "/dors/capra_lab/users/fongsl/sfenv/lib/python3.6/site-packages/pandas/core/indexing.py:205: SettingWithCopyWarning: \n",
      "A value is trying to be set on a copy of a slice from a DataFrame\n",
      "\n",
      "See the caveats in the documentation: http://pandas.pydata.org/pandas-docs/stable/user_guide/indexing.html#returning-a-view-versus-a-copy\n",
      "  self._setitem_with_indexer(indexer, value)\n"
     ]
    },
    {
     "name": "stdout",
     "output_type": "stream",
     "text": [
      "Finished calculating SYN TFBS density 2020-03-11 15:42:15.856870\n",
      "/dors/capra_lab/projects/enhancer_ages/fantom/data/download/tfbs/shuf-all_fantom_enh_112_tissues-69_age_breaks_syn_tfbs_density.bed\n",
      "67091 raw df len\n",
      "the number syntenic blocks that did not overlap TFBS 47737\n",
      "the number of unique enhancers 30471\n"
     ]
    },
    {
     "name": "stderr",
     "output_type": "stream",
     "text": [
      "/dors/capra_lab/users/fongsl/sfenv/lib/python3.6/site-packages/pandas/core/indexing.py:205: SettingWithCopyWarning: \n",
      "A value is trying to be set on a copy of a slice from a DataFrame\n",
      "\n",
      "See the caveats in the documentation: http://pandas.pydata.org/pandas-docs/stable/user_guide/indexing.html#returning-a-view-versus-a-copy\n",
      "  self._setitem_with_indexer(indexer, value)\n"
     ]
    },
    {
     "name": "stdout",
     "output_type": "stream",
     "text": [
      "Finished calculating SYN TFBS density 2020-03-11 15:43:06.373762\n",
      "/dors/capra_lab/projects/enhancer_ages/fantom/data/download/tfbs/shuf-all_fantom_enh_112_tissues-24_age_breaks_syn_tfbs_density.bed\n",
      "66766 raw df len\n",
      "the number syntenic blocks that did not overlap TFBS 47555\n",
      "the number of unique enhancers 30474\n"
     ]
    },
    {
     "name": "stderr",
     "output_type": "stream",
     "text": [
      "/dors/capra_lab/users/fongsl/sfenv/lib/python3.6/site-packages/pandas/core/indexing.py:205: SettingWithCopyWarning: \n",
      "A value is trying to be set on a copy of a slice from a DataFrame\n",
      "\n",
      "See the caveats in the documentation: http://pandas.pydata.org/pandas-docs/stable/user_guide/indexing.html#returning-a-view-versus-a-copy\n",
      "  self._setitem_with_indexer(indexer, value)\n"
     ]
    },
    {
     "name": "stdout",
     "output_type": "stream",
     "text": [
      "Finished calculating SYN TFBS density 2020-03-11 15:43:58.315973\n",
      "/dors/capra_lab/projects/enhancer_ages/fantom/data/download/tfbs/shuf-all_fantom_enh_112_tissues-98_age_breaks_syn_tfbs_density.bed\n",
      "65971 raw df len\n",
      "the number syntenic blocks that did not overlap TFBS 47428\n",
      "the number of unique enhancers 30472\n"
     ]
    },
    {
     "name": "stderr",
     "output_type": "stream",
     "text": [
      "/dors/capra_lab/users/fongsl/sfenv/lib/python3.6/site-packages/pandas/core/indexing.py:205: SettingWithCopyWarning: \n",
      "A value is trying to be set on a copy of a slice from a DataFrame\n",
      "\n",
      "See the caveats in the documentation: http://pandas.pydata.org/pandas-docs/stable/user_guide/indexing.html#returning-a-view-versus-a-copy\n",
      "  self._setitem_with_indexer(indexer, value)\n"
     ]
    },
    {
     "name": "stdout",
     "output_type": "stream",
     "text": [
      "Finished calculating SYN TFBS density 2020-03-11 15:44:43.557407\n",
      "/dors/capra_lab/projects/enhancer_ages/fantom/data/download/tfbs/shuf-all_fantom_enh_112_tissues-83_age_breaks_syn_tfbs_density.bed\n",
      "66000 raw df len\n",
      "the number syntenic blocks that did not overlap TFBS 47747\n",
      "the number of unique enhancers 30470\n"
     ]
    },
    {
     "name": "stderr",
     "output_type": "stream",
     "text": [
      "/dors/capra_lab/users/fongsl/sfenv/lib/python3.6/site-packages/pandas/core/indexing.py:205: SettingWithCopyWarning: \n",
      "A value is trying to be set on a copy of a slice from a DataFrame\n",
      "\n",
      "See the caveats in the documentation: http://pandas.pydata.org/pandas-docs/stable/user_guide/indexing.html#returning-a-view-versus-a-copy\n",
      "  self._setitem_with_indexer(indexer, value)\n"
     ]
    },
    {
     "name": "stdout",
     "output_type": "stream",
     "text": [
      "Finished calculating SYN TFBS density 2020-03-11 15:45:30.413945\n",
      "/dors/capra_lab/projects/enhancer_ages/fantom/data/download/tfbs/shuf-all_fantom_enh_112_tissues-73_age_breaks_syn_tfbs_density.bed\n",
      "66015 raw df len\n",
      "the number syntenic blocks that did not overlap TFBS 47911\n",
      "the number of unique enhancers 30473\n"
     ]
    },
    {
     "name": "stderr",
     "output_type": "stream",
     "text": [
      "/dors/capra_lab/users/fongsl/sfenv/lib/python3.6/site-packages/pandas/core/indexing.py:205: SettingWithCopyWarning: \n",
      "A value is trying to be set on a copy of a slice from a DataFrame\n",
      "\n",
      "See the caveats in the documentation: http://pandas.pydata.org/pandas-docs/stable/user_guide/indexing.html#returning-a-view-versus-a-copy\n",
      "  self._setitem_with_indexer(indexer, value)\n"
     ]
    },
    {
     "name": "stdout",
     "output_type": "stream",
     "text": [
      "Finished calculating SYN TFBS density 2020-03-11 15:46:14.709341\n",
      "/dors/capra_lab/projects/enhancer_ages/fantom/data/download/tfbs/shuf-all_fantom_enh_112_tissues-95_age_breaks_syn_tfbs_density.bed\n",
      "66848 raw df len\n",
      "the number syntenic blocks that did not overlap TFBS 48102\n",
      "the number of unique enhancers 30469\n"
     ]
    },
    {
     "name": "stderr",
     "output_type": "stream",
     "text": [
      "/dors/capra_lab/users/fongsl/sfenv/lib/python3.6/site-packages/pandas/core/indexing.py:205: SettingWithCopyWarning: \n",
      "A value is trying to be set on a copy of a slice from a DataFrame\n",
      "\n",
      "See the caveats in the documentation: http://pandas.pydata.org/pandas-docs/stable/user_guide/indexing.html#returning-a-view-versus-a-copy\n",
      "  self._setitem_with_indexer(indexer, value)\n"
     ]
    },
    {
     "name": "stdout",
     "output_type": "stream",
     "text": [
      "Finished calculating SYN TFBS density 2020-03-11 15:46:59.777656\n",
      "/dors/capra_lab/projects/enhancer_ages/fantom/data/download/tfbs/shuf-all_fantom_enh_112_tissues-31_age_breaks_syn_tfbs_density.bed\n",
      "66301 raw df len\n",
      "the number syntenic blocks that did not overlap TFBS 47649\n",
      "the number of unique enhancers 30468\n"
     ]
    },
    {
     "name": "stderr",
     "output_type": "stream",
     "text": [
      "/dors/capra_lab/users/fongsl/sfenv/lib/python3.6/site-packages/pandas/core/indexing.py:205: SettingWithCopyWarning: \n",
      "A value is trying to be set on a copy of a slice from a DataFrame\n",
      "\n",
      "See the caveats in the documentation: http://pandas.pydata.org/pandas-docs/stable/user_guide/indexing.html#returning-a-view-versus-a-copy\n",
      "  self._setitem_with_indexer(indexer, value)\n"
     ]
    },
    {
     "name": "stdout",
     "output_type": "stream",
     "text": [
      "Finished calculating SYN TFBS density 2020-03-11 15:47:41.552221\n",
      "/dors/capra_lab/projects/enhancer_ages/fantom/data/download/tfbs/shuf-all_fantom_enh_112_tissues-68_age_breaks_syn_tfbs_density.bed\n",
      "66651 raw df len\n",
      "the number syntenic blocks that did not overlap TFBS 47791\n",
      "the number of unique enhancers 30471\n"
     ]
    },
    {
     "name": "stderr",
     "output_type": "stream",
     "text": [
      "/dors/capra_lab/users/fongsl/sfenv/lib/python3.6/site-packages/pandas/core/indexing.py:205: SettingWithCopyWarning: \n",
      "A value is trying to be set on a copy of a slice from a DataFrame\n",
      "\n",
      "See the caveats in the documentation: http://pandas.pydata.org/pandas-docs/stable/user_guide/indexing.html#returning-a-view-versus-a-copy\n",
      "  self._setitem_with_indexer(indexer, value)\n"
     ]
    },
    {
     "name": "stdout",
     "output_type": "stream",
     "text": [
      "Finished calculating SYN TFBS density 2020-03-11 15:48:32.001496\n",
      "/dors/capra_lab/projects/enhancer_ages/fantom/data/download/tfbs/shuf-all_fantom_enh_112_tissues-33_age_breaks_syn_tfbs_density.bed\n",
      "1454 raw df len\n",
      "the number syntenic blocks that did not overlap TFBS 1165\n",
      "the number of unique enhancers 700\n",
      "Finished calculating SYN TFBS density 2020-03-11 15:49:20.483267\n",
      "/dors/capra_lab/projects/enhancer_ages/fantom/data/download/tfbs/shuf-all_fantom_enh_112_tissues-79_age_breaks_syn_tfbs_density.bed\n"
     ]
    },
    {
     "name": "stderr",
     "output_type": "stream",
     "text": [
      "/dors/capra_lab/users/fongsl/sfenv/lib/python3.6/site-packages/pandas/core/indexing.py:205: SettingWithCopyWarning: \n",
      "A value is trying to be set on a copy of a slice from a DataFrame\n",
      "\n",
      "See the caveats in the documentation: http://pandas.pydata.org/pandas-docs/stable/user_guide/indexing.html#returning-a-view-versus-a-copy\n",
      "  self._setitem_with_indexer(indexer, value)\n"
     ]
    },
    {
     "name": "stdout",
     "output_type": "stream",
     "text": [
      "10786 raw df len\n",
      "the number syntenic blocks that did not overlap TFBS 7280\n",
      "the number of unique enhancers 4504\n"
     ]
    },
    {
     "name": "stderr",
     "output_type": "stream",
     "text": [
      "/dors/capra_lab/users/fongsl/sfenv/lib/python3.6/site-packages/pandas/core/indexing.py:205: SettingWithCopyWarning: \n",
      "A value is trying to be set on a copy of a slice from a DataFrame\n",
      "\n",
      "See the caveats in the documentation: http://pandas.pydata.org/pandas-docs/stable/user_guide/indexing.html#returning-a-view-versus-a-copy\n",
      "  self._setitem_with_indexer(indexer, value)\n"
     ]
    },
    {
     "name": "stdout",
     "output_type": "stream",
     "text": [
      "Finished calculating SYN TFBS density 2020-03-11 15:50:10.165018\n",
      "/dors/capra_lab/projects/enhancer_ages/fantom/data/download/tfbs/shuf-all_fantom_enh_112_tissues-57_age_breaks_syn_tfbs_density.bed\n",
      "79622 raw df len\n",
      "the number syntenic blocks that did not overlap TFBS 56830\n",
      "the number of unique enhancers 36396\n"
     ]
    },
    {
     "name": "stderr",
     "output_type": "stream",
     "text": [
      "/dors/capra_lab/users/fongsl/sfenv/lib/python3.6/site-packages/pandas/core/indexing.py:205: SettingWithCopyWarning: \n",
      "A value is trying to be set on a copy of a slice from a DataFrame\n",
      "\n",
      "See the caveats in the documentation: http://pandas.pydata.org/pandas-docs/stable/user_guide/indexing.html#returning-a-view-versus-a-copy\n",
      "  self._setitem_with_indexer(indexer, value)\n"
     ]
    },
    {
     "name": "stdout",
     "output_type": "stream",
     "text": [
      "Finished calculating SYN TFBS density 2020-03-11 15:51:02.207285\n",
      "/dors/capra_lab/projects/enhancer_ages/fantom/data/download/tfbs/shuf-all_fantom_enh_112_tissues-81_age_breaks_syn_tfbs_density.bed\n",
      "66679 raw df len\n",
      "the number syntenic blocks that did not overlap TFBS 47830\n",
      "the number of unique enhancers 30470\n"
     ]
    },
    {
     "name": "stderr",
     "output_type": "stream",
     "text": [
      "/dors/capra_lab/users/fongsl/sfenv/lib/python3.6/site-packages/pandas/core/indexing.py:205: SettingWithCopyWarning: \n",
      "A value is trying to be set on a copy of a slice from a DataFrame\n",
      "\n",
      "See the caveats in the documentation: http://pandas.pydata.org/pandas-docs/stable/user_guide/indexing.html#returning-a-view-versus-a-copy\n",
      "  self._setitem_with_indexer(indexer, value)\n"
     ]
    },
    {
     "name": "stdout",
     "output_type": "stream",
     "text": [
      "Finished calculating SYN TFBS density 2020-03-11 15:52:02.463912\n"
     ]
    }
   ],
   "source": [
    "for core_breaks_file in core_breaksFs:\n",
    "    sample_id = (core_breaks_file.split(\"/\")[-1]).split(\".\")[0]\n",
    "    inpath = \"%s/breaks/\" % test_path \n",
    "    mkdir(inpath)\n",
    "\n",
    "    outpath = \"%s/tfbs/\"% test_path\n",
    "    mkdir(outpath)\n",
    "    #####\n",
    "    # prepare workspace\n",
    "    #####\n",
    "\n",
    "    outfile_wao = \"%s%s_x_raw_tfbs_midpeak.bed\"% (outpath, sample_id)\n",
    "    outfile_waoTemp = \"%stemp.bed\"% (outpath)\n",
    "\n",
    "    enh_out = \"%s%s_enh_tfbs_density.bed\" % (outpath, sample_id)\n",
    "    syn_out = \"%s%s_syn_tfbs_density.bed\" % (outpath, sample_id)\n",
    "    print(syn_out)\n",
    "    tfbs_file = \"/dors/capra_lab/data/encode/midpeaks_wgEncodeRegTfbsClusteredV3.bed\" # TFBS data, 30bp trimmed ChIP-Peaks\n",
    "\n",
    "    mkdir(outpath) # make directory\n",
    "\n",
    "    ########\n",
    "    # PART 1 - sort bed file\n",
    "    ########\n",
    "    c = BedTool(core_breaks_file).sort()\n",
    "\n",
    "    ########\n",
    "    # PART 2 - Bed intersect file with TFBS\n",
    "    ########\n",
    "    t = BedTool(tfbs_file).sort()\n",
    "    c.intersect(t, wao =True).saveas(outfile_wao)\n",
    "\n",
    "    stripTabs(outfile_wao, outfile_waoTemp)\n",
    "\n",
    "    ########\n",
    "    # open the sample_id file\n",
    "    ########\n",
    "\n",
    "    enh = pd.read_csv(outfile_wao, header= None, sep= '\\t',low_memory = False)\n",
    "    print(len(enh), \"raw df len\")\n",
    "\n",
    "    ########\n",
    "    # reformat file to get columns/data you want\n",
    "    ########\n",
    "\n",
    "    print(\"the number syntenic blocks that did not overlap TFBS\" ,\\\n",
    "          len(enh.iloc[:,-1].loc[enh[20]==0]))\n",
    "\n",
    "    #select the columns you want for analyzing break density\n",
    "    enh = enh[[0, 1, 2, 3, 4, 5, 6, 7, 8, 9, 10, 11, 12, 13, 14, 20]].drop_duplicates()\n",
    "\n",
    "    # rename the columns\n",
    "    enh.columns = [\"chr_syn\", \"start_syn\", \"end_syn\", \"enh_id\", \n",
    "                   \"chr_enh\", \"start_enh\", \"end_enh\",\"seg_index\", \n",
    "                   \"core_remodeling\", \"core\", \"mrca\",\"chr_tf\", \n",
    "                   \"start_tf\", \"end_tf\", \"tf\", \"len_tfbs_overlap\"]\n",
    "\n",
    "    # assign unique tf_id\n",
    "\n",
    "    enh[\"tf_id\"] = enh[\"chr_tf\"] + \":\" + enh[\"start_tf\"].map(str) + \"-\" + enh[\"end_tf\"].map(str) +\"_\"+ enh[\"tf\"]\n",
    "\n",
    "    print(\"the number of unique enhancers\", len(enh[\"enh_id\"].unique()))\n",
    "\n",
    "    enh_tf_list = enh[\"enh_id\"].unique() # make a list of unique enhancer ids\n",
    "\n",
    "    enh_tf_list = enh_tf_list\n",
    "    val = 0\n",
    "\n",
    "    # int transform\n",
    "    enh[[\"start_enh\", \"end_enh\", \"start_tf\", \"start_syn\",\"end_syn\",\"end_tf\", \"seg_index\", \"core_remodeling\",       \"core\",\"len_tfbs_overlap\"]] = enh[[\"start_enh\",  \"end_enh\", \"start_tf\",\"start_syn\", \"end_syn\", \n",
    "         \"end_tf\", \"seg_index\", \"core_remodeling\", \"core\",\"len_tfbs_overlap\"]].astype(int)\n",
    "\n",
    "    enh[\"mrca\"] = enh[\"mrca\"].astype(float).round(3)\n",
    "\n",
    "    enh[\"enh_len\"]= enh[\"end_enh\"]- enh[\"start_enh\"] # enhancer lengths\n",
    "    enh[\"syn_len\"]= enh[\"end_syn\"]- enh[\"start_syn\"] # syntenic lengths\n",
    "    enh[\"syn_id\"] = enh[\"chr_syn\"]+ \":\" + enh[\"start_syn\"].map(str) + \"-\" + enh[\"end_syn\"].map(str)\n",
    "\n",
    "    ########\n",
    "    # calculate TFBS density\n",
    "    #\n",
    "    # count tfs associated with enhancers\n",
    "    # count uniq tfs associated with enhancers\n",
    "    # count syn tfs associated with syntenic blocks\n",
    "    # count uniq syn tfs associated with syntenic blocks\n",
    "    ########\n",
    "\n",
    "    enh[\"tf_bin\"] = 0\n",
    "    enh[\"tf_bin\"].loc[enh.len_tfbs_overlap >5] = 1\n",
    "\n",
    "    # syn_tf_den\n",
    "\n",
    "    syntf_count = enh.groupby(['enh_id','syn_id', 'mrca', 'seg_index', \n",
    "                               'core', 'core_remodeling', 'syn_len'])[\"tf_bin\"].sum().reset_index()\n",
    "\n",
    "    syntf_count[\"syn_tf_den\"] = syntf_count.tf_bin.divide(syntf_count.syn_len) # calculate syn_density\n",
    "\n",
    "    syntf_count.columns = ['enh_id','syn_id', 'mrca', 'seg_index', \n",
    "                               'core', 'core_remodeling', 'syn_len', 'syn_tf_count', 'syn_tf_den'] # rename columns\n",
    "\n",
    "    # syn_tf_u_den\n",
    "\n",
    "    syntfu_count = enh[['enh_id','syn_id', 'seg_index', 'enh_len', 'syn_len', 'tf', 'tf_bin']]\\\n",
    "    .drop_duplicates().reset_index() # get unique tf density\n",
    "\n",
    "    syntfu_count = syntfu_count.groupby(['enh_id','syn_id', 'seg_index', 'enh_len', 'syn_len'])[\"tf_bin\"]\\\n",
    "    .sum().reset_index()\n",
    "\n",
    "    syntfu_count[\"syn_tf_u_den\"] = syntfu_count.tf_bin.divide(syntfu_count.syn_len) # calculate syn_density\n",
    "\n",
    "    syntfu_count.columns = ['enh_id','syn_id', 'seg_index', 'enh_len', 'syn_len', 'syn_tf_u_count', 'syn_tf_u_den'] # rename columns\n",
    "\n",
    "    # enh_tf_den\n",
    "\n",
    "    enhtf_count = enh.groupby(['enh_id','core_remodeling', 'enh_len'])[\"tf_bin\"].sum().reset_index()\n",
    "\n",
    "    enhtf_count[\"enh_tf_den\"] = enhtf_count.tf_bin.divide(enhtf_count.enh_len) # calculate syn_density\n",
    "\n",
    "    enhtf_count.columns = ['enh_id','core_remodeling', 'enh_len', 'enh_tf_count', 'enh_tf_den'] # rename columns\n",
    "\n",
    "    enh_mrca = enh.groupby(['enh_id'])['mrca'].max().reset_index()\n",
    "\n",
    "    enhtf_count = pd.merge(enhtf_count, enh_mrca, how = \"left\", on = \"enh_id\") # get max age\n",
    "\n",
    "    # enh_tf_u_den\n",
    "\n",
    "    enhtfu_count = enh[['enh_id','enh_len', 'tf', \"tf_bin\"]].drop_duplicates().reset_index() # get unique tf density\n",
    "\n",
    "    enhtfu_count = enhtfu_count.groupby(['enh_id','enh_len'])[\"tf_bin\"].sum().reset_index()\n",
    "\n",
    "    enhtfu_count[\"enh_tf_u_den\"] = enhtfu_count.tf_bin.divide(enhtfu_count.enh_len) # calculate syn_density\n",
    "\n",
    "    enhtfu_count.columns = ['enh_id', 'enh_len', 'enh_tf_u_count', 'enh_tf_u_den'] # rename columns\n",
    "\n",
    "    enh = pd.merge(enhtf_count, enhtfu_count, how = \"left\", on = (['enh_id','enh_len']))\n",
    "\n",
    "    syn = pd.merge(syntf_count, syntfu_count, how = \"left\", on =(['enh_id','syn_id', 'seg_index', 'syn_len']))\n",
    "\n",
    "    with open(syn_out, 'a') as f:\n",
    "        syn.to_csv(f, sep = '\\t', header = True, index = False) # write last enhancers  \n",
    "\n",
    "    with open(enh_out, 'a') as f:\n",
    "        enh.to_csv(f, sep = '\\t', header = True, index = False) # write last enhancers  \n",
    "\n",
    "    print(\"Finished calculating SYN TFBS density\", datetime.now())  "
   ]
  },
  {
   "cell_type": "code",
   "execution_count": 48,
   "metadata": {},
   "outputs": [
    {
     "data": {
      "text/plain": [
       "'/dors/capra_lab/projects/enhancer_ages/fantom/data/download/tfbs/CL0000047_syn_tfbs_density.bed'"
      ]
     },
     "execution_count": 48,
     "metadata": {},
     "output_type": "execute_result"
    }
   ],
   "source": [
    "syn_out"
   ]
  },
  {
   "cell_type": "code",
   "execution_count": 54,
   "metadata": {},
   "outputs": [
    {
     "data": {
      "text/html": [
       "<div>\n",
       "<style scoped>\n",
       "    .dataframe tbody tr th:only-of-type {\n",
       "        vertical-align: middle;\n",
       "    }\n",
       "\n",
       "    .dataframe tbody tr th {\n",
       "        vertical-align: top;\n",
       "    }\n",
       "\n",
       "    .dataframe thead th {\n",
       "        text-align: right;\n",
       "    }\n",
       "</style>\n",
       "<table border=\"1\" class=\"dataframe\">\n",
       "  <thead>\n",
       "    <tr style=\"text-align: right;\">\n",
       "      <th></th>\n",
       "      <th>enh_id</th>\n",
       "      <th>core_remodeling</th>\n",
       "      <th>enh_len</th>\n",
       "      <th>enh_tf_count</th>\n",
       "      <th>enh_tf_den</th>\n",
       "      <th>mrca</th>\n",
       "      <th>enh_tf_u_count</th>\n",
       "      <th>enh_tf_u_den</th>\n",
       "    </tr>\n",
       "  </thead>\n",
       "  <tbody>\n",
       "    <tr>\n",
       "      <th>0</th>\n",
       "      <td>chr10:101475394-101475766</td>\n",
       "      <td>1</td>\n",
       "      <td>372</td>\n",
       "      <td>2</td>\n",
       "      <td>0.005376</td>\n",
       "      <td>0.175</td>\n",
       "      <td>2</td>\n",
       "      <td>0.005376</td>\n",
       "    </tr>\n",
       "    <tr>\n",
       "      <th>1</th>\n",
       "      <td>chr10:104545681-104545915</td>\n",
       "      <td>0</td>\n",
       "      <td>234</td>\n",
       "      <td>1</td>\n",
       "      <td>0.004274</td>\n",
       "      <td>0.175</td>\n",
       "      <td>1</td>\n",
       "      <td>0.004274</td>\n",
       "    </tr>\n",
       "    <tr>\n",
       "      <th>2</th>\n",
       "      <td>chr10:104556220-104556459</td>\n",
       "      <td>1</td>\n",
       "      <td>239</td>\n",
       "      <td>20</td>\n",
       "      <td>0.083682</td>\n",
       "      <td>0.308</td>\n",
       "      <td>19</td>\n",
       "      <td>0.079498</td>\n",
       "    </tr>\n",
       "    <tr>\n",
       "      <th>3</th>\n",
       "      <td>chr10:105302775-105302952</td>\n",
       "      <td>1</td>\n",
       "      <td>177</td>\n",
       "      <td>9</td>\n",
       "      <td>0.050847</td>\n",
       "      <td>0.380</td>\n",
       "      <td>9</td>\n",
       "      <td>0.050847</td>\n",
       "    </tr>\n",
       "    <tr>\n",
       "      <th>4</th>\n",
       "      <td>chr10:105307461-105307595</td>\n",
       "      <td>0</td>\n",
       "      <td>134</td>\n",
       "      <td>2</td>\n",
       "      <td>0.014925</td>\n",
       "      <td>0.175</td>\n",
       "      <td>2</td>\n",
       "      <td>0.014925</td>\n",
       "    </tr>\n",
       "  </tbody>\n",
       "</table>\n",
       "</div>"
      ],
      "text/plain": [
       "                      enh_id  core_remodeling  enh_len  enh_tf_count  \\\n",
       "0  chr10:101475394-101475766                1      372             2   \n",
       "1  chr10:104545681-104545915                0      234             1   \n",
       "2  chr10:104556220-104556459                1      239            20   \n",
       "3  chr10:105302775-105302952                1      177             9   \n",
       "4  chr10:105307461-105307595                0      134             2   \n",
       "\n",
       "   enh_tf_den   mrca  enh_tf_u_count  enh_tf_u_den  \n",
       "0    0.005376  0.175               2      0.005376  \n",
       "1    0.004274  0.175               1      0.004274  \n",
       "2    0.083682  0.308              19      0.079498  \n",
       "3    0.050847  0.380               9      0.050847  \n",
       "4    0.014925  0.175               2      0.014925  "
      ]
     },
     "execution_count": 54,
     "metadata": {},
     "output_type": "execute_result"
    }
   ],
   "source": [
    "enh.head()"
   ]
  },
  {
   "cell_type": "code",
   "execution_count": 50,
   "metadata": {},
   "outputs": [
    {
     "data": {
      "text/html": [
       "<div>\n",
       "<style scoped>\n",
       "    .dataframe tbody tr th:only-of-type {\n",
       "        vertical-align: middle;\n",
       "    }\n",
       "\n",
       "    .dataframe tbody tr th {\n",
       "        vertical-align: top;\n",
       "    }\n",
       "\n",
       "    .dataframe thead th {\n",
       "        text-align: right;\n",
       "    }\n",
       "</style>\n",
       "<table border=\"1\" class=\"dataframe\">\n",
       "  <thead>\n",
       "    <tr style=\"text-align: right;\">\n",
       "      <th></th>\n",
       "      <th>enh_id</th>\n",
       "      <th>syn_id</th>\n",
       "      <th>mrca</th>\n",
       "      <th>seg_index</th>\n",
       "      <th>core</th>\n",
       "      <th>core_remodeling</th>\n",
       "      <th>syn_len</th>\n",
       "      <th>syn_tf_count</th>\n",
       "      <th>syn_tf_den</th>\n",
       "      <th>enh_len</th>\n",
       "      <th>syn_tf_u_count</th>\n",
       "      <th>syn_tf_u_den</th>\n",
       "    </tr>\n",
       "  </thead>\n",
       "  <tbody>\n",
       "    <tr>\n",
       "      <th>0</th>\n",
       "      <td>chr10:101475394-101475766</td>\n",
       "      <td>chr10:101475394-101475765</td>\n",
       "      <td>0.175</td>\n",
       "      <td>0</td>\n",
       "      <td>1</td>\n",
       "      <td>1</td>\n",
       "      <td>371</td>\n",
       "      <td>2</td>\n",
       "      <td>0.005391</td>\n",
       "      <td>372</td>\n",
       "      <td>2</td>\n",
       "      <td>0.005391</td>\n",
       "    </tr>\n",
       "    <tr>\n",
       "      <th>1</th>\n",
       "      <td>chr10:101475394-101475766</td>\n",
       "      <td>chr10:101475765-101475766</td>\n",
       "      <td>0.152</td>\n",
       "      <td>1</td>\n",
       "      <td>0</td>\n",
       "      <td>1</td>\n",
       "      <td>1</td>\n",
       "      <td>0</td>\n",
       "      <td>0.000000</td>\n",
       "      <td>372</td>\n",
       "      <td>0</td>\n",
       "      <td>0.000000</td>\n",
       "    </tr>\n",
       "    <tr>\n",
       "      <th>2</th>\n",
       "      <td>chr10:104545681-104545915</td>\n",
       "      <td>chr10:104545681-104545915</td>\n",
       "      <td>0.175</td>\n",
       "      <td>0</td>\n",
       "      <td>1</td>\n",
       "      <td>0</td>\n",
       "      <td>234</td>\n",
       "      <td>1</td>\n",
       "      <td>0.004274</td>\n",
       "      <td>234</td>\n",
       "      <td>1</td>\n",
       "      <td>0.004274</td>\n",
       "    </tr>\n",
       "    <tr>\n",
       "      <th>3</th>\n",
       "      <td>chr10:104556220-104556459</td>\n",
       "      <td>chr10:104556220-104556413</td>\n",
       "      <td>0.308</td>\n",
       "      <td>0</td>\n",
       "      <td>1</td>\n",
       "      <td>1</td>\n",
       "      <td>193</td>\n",
       "      <td>18</td>\n",
       "      <td>0.093264</td>\n",
       "      <td>239</td>\n",
       "      <td>18</td>\n",
       "      <td>0.093264</td>\n",
       "    </tr>\n",
       "    <tr>\n",
       "      <th>4</th>\n",
       "      <td>chr10:104556220-104556459</td>\n",
       "      <td>chr10:104556413-104556459</td>\n",
       "      <td>0.175</td>\n",
       "      <td>1</td>\n",
       "      <td>0</td>\n",
       "      <td>1</td>\n",
       "      <td>46</td>\n",
       "      <td>2</td>\n",
       "      <td>0.043478</td>\n",
       "      <td>239</td>\n",
       "      <td>2</td>\n",
       "      <td>0.043478</td>\n",
       "    </tr>\n",
       "  </tbody>\n",
       "</table>\n",
       "</div>"
      ],
      "text/plain": [
       "                      enh_id                     syn_id   mrca  seg_index  \\\n",
       "0  chr10:101475394-101475766  chr10:101475394-101475765  0.175          0   \n",
       "1  chr10:101475394-101475766  chr10:101475765-101475766  0.152          1   \n",
       "2  chr10:104545681-104545915  chr10:104545681-104545915  0.175          0   \n",
       "3  chr10:104556220-104556459  chr10:104556220-104556413  0.308          0   \n",
       "4  chr10:104556220-104556459  chr10:104556413-104556459  0.175          1   \n",
       "\n",
       "   core  core_remodeling  syn_len  syn_tf_count  syn_tf_den  enh_len  \\\n",
       "0     1                1      371             2    0.005391      372   \n",
       "1     0                1        1             0    0.000000      372   \n",
       "2     1                0      234             1    0.004274      234   \n",
       "3     1                1      193            18    0.093264      239   \n",
       "4     0                1       46             2    0.043478      239   \n",
       "\n",
       "   syn_tf_u_count  syn_tf_u_den  \n",
       "0               2      0.005391  \n",
       "1               0      0.000000  \n",
       "2               1      0.004274  \n",
       "3              18      0.093264  \n",
       "4               2      0.043478  "
      ]
     },
     "execution_count": 50,
     "metadata": {},
     "output_type": "execute_result"
    }
   ],
   "source": [
    "syn.head()"
   ]
  },
  {
   "cell_type": "code",
   "execution_count": null,
   "metadata": {},
   "outputs": [],
   "source": []
  }
 ],
 "metadata": {
  "kernelspec": {
   "display_name": "Python (sfenv)",
   "language": "python",
   "name": "sfenv"
  },
  "language_info": {
   "codemirror_mode": {
    "name": "ipython",
    "version": 3
   },
   "file_extension": ".py",
   "mimetype": "text/x-python",
   "name": "python",
   "nbconvert_exporter": "python",
   "pygments_lexer": "ipython3",
   "version": "3.6.9"
  }
 },
 "nbformat": 4,
 "nbformat_minor": 2
}
