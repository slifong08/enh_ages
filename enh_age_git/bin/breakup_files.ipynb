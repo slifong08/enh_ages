{
 "cells": [
  {
   "cell_type": "code",
   "execution_count": 1,
   "metadata": {},
   "outputs": [],
   "source": [
    "import os, sys\n",
    "import pandas as pd\n",
    "import glob"
   ]
  },
  {
   "cell_type": "code",
   "execution_count": 3,
   "metadata": {},
   "outputs": [],
   "source": [
    "path = \"/dors/capra_lab/projects/enhancer_ages/roadmap_encode/data/hg19_roadmap_samples_enh_age/download/h3k27ac_plus_h3k4me3_minus_peaks/trimmed/shuffle/ages/\"\n",
    "fs = glob.glob(\"%sshuf-trimmed-310_E*_enh_ages.bed\" %path)"
   ]
  },
  {
   "cell_type": "code",
   "execution_count": null,
   "metadata": {},
   "outputs": [],
   "source": [
    "# break up the files by shuffle number\n",
    "for f in fs:\n",
    "    os.chdir(path)\n",
    "    cmd = '''awk '{print >$4\".bed\"}' %s''' % f\n",
    "    os.system(cmd)\n",
    "    \n",
    "    cmd = \"rm %s\" % f\n",
    "    os.system(cmd)"
   ]
  },
  {
   "cell_type": "code",
   "execution_count": 2,
   "metadata": {},
   "outputs": [],
   "source": [
    "path = \"/dors/capra_lab/projects/enhancer_ages/roadmap_encode/data/hg19_roadmap_samples_enh_age/download/h3k27ac_plus_h3k4me3_minus_peaks/trimmed/shuffle/ages/\"\n",
    "fs = glob.glob(\"%ssecond_run/rand_file_shuf-E*.bed\" %path)\n",
    "done =glob.glob(\"%sshuf-trimmed-310_*_*_parallel_breaks.bed\" %path)\n",
    "\n",
    "done_list = []\n",
    "\n",
    "for f in done:\n",
    "    fid = \"_\".join((f.split(\"/\")[-1]).split(\"_\")[1:3])\n",
    "    done_list.append(fid)\n",
    "\n",
    "for f in fs:\n",
    "    fid = ((f.split(\"/\")[-1]).split(\"-\")[1]).split(\".\")[0]\n",
    "\n",
    "    if fid in done_list:\n",
    "        cmd = \"rm %s\" %f\n",
    "        os.system(cmd)"
   ]
  },
  {
   "cell_type": "code",
   "execution_count": 18,
   "metadata": {},
   "outputs": [
    {
     "name": "stdout",
     "output_type": "stream",
     "text": [
      "gunzip /dors/capra_lab/projects/enhancer_ages/roadmap_encode/data/hg19_roadmap_samples_enh_age/download/h3k27ac_plus_h3k4me3_minus_peaks/trimmed/shuffle/ages/shuf-trimmed-310_E021_parallel_breaks.bed.gz\n",
      "gunzip /dors/capra_lab/projects/enhancer_ages/roadmap_encode/data/hg19_roadmap_samples_enh_age/download/h3k27ac_plus_h3k4me3_minus_peaks/trimmed/shuffle/ages/shuf-trimmed-310_E071_parallel_breaks.bed.gz\n",
      "gunzip /dors/capra_lab/projects/enhancer_ages/roadmap_encode/data/hg19_roadmap_samples_enh_age/download/h3k27ac_plus_h3k4me3_minus_peaks/trimmed/shuffle/ages/shuf-trimmed-310_E048_parallel_breaks.bed.gz\n",
      "gunzip /dors/capra_lab/projects/enhancer_ages/roadmap_encode/data/hg19_roadmap_samples_enh_age/download/h3k27ac_plus_h3k4me3_minus_peaks/trimmed/shuffle/ages/shuf-trimmed-310_E122_parallel_breaks.bed.gz\n",
      "gunzip /dors/capra_lab/projects/enhancer_ages/roadmap_encode/data/hg19_roadmap_samples_enh_age/download/h3k27ac_plus_h3k4me3_minus_peaks/trimmed/shuffle/ages/shuf-trimmed-310_E091_parallel_breaks.bed.gz\n",
      "gunzip /dors/capra_lab/projects/enhancer_ages/roadmap_encode/data/hg19_roadmap_samples_enh_age/download/h3k27ac_plus_h3k4me3_minus_peaks/trimmed/shuffle/ages/shuf-trimmed-310_E013_parallel_breaks.bed.gz\n",
      "gunzip /dors/capra_lab/projects/enhancer_ages/roadmap_encode/data/hg19_roadmap_samples_enh_age/download/h3k27ac_plus_h3k4me3_minus_peaks/trimmed/shuffle/ages/shuf-trimmed-310_E066_parallel_breaks.bed.gz\n",
      "gunzip /dors/capra_lab/projects/enhancer_ages/roadmap_encode/data/hg19_roadmap_samples_enh_age/download/h3k27ac_plus_h3k4me3_minus_peaks/trimmed/shuffle/ages/shuf-trimmed-310_E016_parallel_breaks.bed.gz\n",
      "gunzip /dors/capra_lab/projects/enhancer_ages/roadmap_encode/data/hg19_roadmap_samples_enh_age/download/h3k27ac_plus_h3k4me3_minus_peaks/trimmed/shuffle/ages/shuf-trimmed-310_E101_parallel_breaks.bed.gz\n",
      "gunzip /dors/capra_lab/projects/enhancer_ages/roadmap_encode/data/hg19_roadmap_samples_enh_age/download/h3k27ac_plus_h3k4me3_minus_peaks/trimmed/shuffle/ages/shuf-trimmed-310_E097_parallel_breaks.bed.gz\n",
      "gunzip /dors/capra_lab/projects/enhancer_ages/roadmap_encode/data/hg19_roadmap_samples_enh_age/download/h3k27ac_plus_h3k4me3_minus_peaks/trimmed/shuffle/ages/shuf-trimmed-310_E103_parallel_breaks.bed.gz\n",
      "gunzip /dors/capra_lab/projects/enhancer_ages/roadmap_encode/data/hg19_roadmap_samples_enh_age/download/h3k27ac_plus_h3k4me3_minus_peaks/trimmed/shuffle/ages/shuf-trimmed-310_E040_parallel_breaks.bed.gz\n",
      "gunzip /dors/capra_lab/projects/enhancer_ages/roadmap_encode/data/hg19_roadmap_samples_enh_age/download/h3k27ac_plus_h3k4me3_minus_peaks/trimmed/shuffle/ages/shuf-trimmed-310_E073_parallel_breaks.bed.gz\n",
      "gunzip /dors/capra_lab/projects/enhancer_ages/roadmap_encode/data/hg19_roadmap_samples_enh_age/download/h3k27ac_plus_h3k4me3_minus_peaks/trimmed/shuffle/ages/shuf-trimmed-310_E095_parallel_breaks.bed.gz\n",
      "gunzip /dors/capra_lab/projects/enhancer_ages/roadmap_encode/data/hg19_roadmap_samples_enh_age/download/h3k27ac_plus_h3k4me3_minus_peaks/trimmed/shuffle/ages/shuf-trimmed-310_E032_parallel_breaks.bed.gz\n",
      "gunzip /dors/capra_lab/projects/enhancer_ages/roadmap_encode/data/hg19_roadmap_samples_enh_age/download/h3k27ac_plus_h3k4me3_minus_peaks/trimmed/shuffle/ages/shuf-trimmed-310_E108_parallel_breaks.bed.gz\n",
      "gunzip /dors/capra_lab/projects/enhancer_ages/roadmap_encode/data/hg19_roadmap_samples_enh_age/download/h3k27ac_plus_h3k4me3_minus_peaks/trimmed/shuffle/ages/shuf-trimmed-310_E062_parallel_breaks.bed.gz\n",
      "gunzip /dors/capra_lab/projects/enhancer_ages/roadmap_encode/data/hg19_roadmap_samples_enh_age/download/h3k27ac_plus_h3k4me3_minus_peaks/trimmed/shuffle/ages/shuf-trimmed-310_E126_parallel_breaks.bed.gz\n",
      "gunzip /dors/capra_lab/projects/enhancer_ages/roadmap_encode/data/hg19_roadmap_samples_enh_age/download/h3k27ac_plus_h3k4me3_minus_peaks/trimmed/shuffle/ages/shuf-trimmed-310_E063_parallel_breaks.bed.gz\n",
      "gunzip /dors/capra_lab/projects/enhancer_ages/roadmap_encode/data/hg19_roadmap_samples_enh_age/download/h3k27ac_plus_h3k4me3_minus_peaks/trimmed/shuffle/ages/shuf-trimmed-310_E127_parallel_breaks.bed.gz\n",
      "gunzip /dors/capra_lab/projects/enhancer_ages/roadmap_encode/data/hg19_roadmap_samples_enh_age/download/h3k27ac_plus_h3k4me3_minus_peaks/trimmed/shuffle/ages/shuf-trimmed-310_E046_parallel_breaks.bed.gz\n",
      "gunzip /dors/capra_lab/projects/enhancer_ages/roadmap_encode/data/hg19_roadmap_samples_enh_age/download/h3k27ac_plus_h3k4me3_minus_peaks/trimmed/shuffle/ages/shuf-trimmed-310_E003_parallel_breaks.bed.gz\n",
      "gunzip /dors/capra_lab/projects/enhancer_ages/roadmap_encode/data/hg19_roadmap_samples_enh_age/download/h3k27ac_plus_h3k4me3_minus_peaks/trimmed/shuffle/ages/shuf-trimmed-310_E047_parallel_breaks.bed.gz\n",
      "gunzip /dors/capra_lab/projects/enhancer_ages/roadmap_encode/data/hg19_roadmap_samples_enh_age/download/h3k27ac_plus_h3k4me3_minus_peaks/trimmed/shuffle/ages/shuf-trimmed-310_E041_parallel_breaks.bed.gz\n",
      "gunzip /dors/capra_lab/projects/enhancer_ages/roadmap_encode/data/hg19_roadmap_samples_enh_age/download/h3k27ac_plus_h3k4me3_minus_peaks/trimmed/shuffle/ages/shuf-trimmed-310_E094_parallel_breaks.bed.gz\n",
      "gunzip /dors/capra_lab/projects/enhancer_ages/roadmap_encode/data/hg19_roadmap_samples_enh_age/download/h3k27ac_plus_h3k4me3_minus_peaks/trimmed/shuffle/ages/shuf-trimmed-310_E123_parallel_breaks.bed.gz\n",
      "gunzip /dors/capra_lab/projects/enhancer_ages/roadmap_encode/data/hg19_roadmap_samples_enh_age/download/h3k27ac_plus_h3k4me3_minus_peaks/trimmed/shuffle/ages/shuf-trimmed-310_E128_parallel_breaks.bed.gz\n",
      "gunzip /dors/capra_lab/projects/enhancer_ages/roadmap_encode/data/hg19_roadmap_samples_enh_age/download/h3k27ac_plus_h3k4me3_minus_peaks/trimmed/shuffle/ages/shuf-trimmed-310_E038_parallel_breaks.bed.gz\n",
      "gunzip /dors/capra_lab/projects/enhancer_ages/roadmap_encode/data/hg19_roadmap_samples_enh_age/download/h3k27ac_plus_h3k4me3_minus_peaks/trimmed/shuffle/ages/shuf-trimmed-310_E006_parallel_breaks.bed.gz\n",
      "gunzip /dors/capra_lab/projects/enhancer_ages/roadmap_encode/data/hg19_roadmap_samples_enh_age/download/h3k27ac_plus_h3k4me3_minus_peaks/trimmed/shuffle/ages/shuf-trimmed-310_E079_parallel_breaks.bed.gz\n",
      "gunzip /dors/capra_lab/projects/enhancer_ages/roadmap_encode/data/hg19_roadmap_samples_enh_age/download/h3k27ac_plus_h3k4me3_minus_peaks/trimmed/shuffle/ages/shuf-trimmed-310_E072_parallel_breaks.bed.gz\n",
      "gunzip /dors/capra_lab/projects/enhancer_ages/roadmap_encode/data/hg19_roadmap_samples_enh_age/download/h3k27ac_plus_h3k4me3_minus_peaks/trimmed/shuffle/ages/shuf-trimmed-310_E043_parallel_breaks.bed.gz\n",
      "gunzip /dors/capra_lab/projects/enhancer_ages/roadmap_encode/data/hg19_roadmap_samples_enh_age/download/h3k27ac_plus_h3k4me3_minus_peaks/trimmed/shuffle/ages/shuf-trimmed-310_E114_parallel_breaks.bed.gz\n",
      "gunzip /dors/capra_lab/projects/enhancer_ages/roadmap_encode/data/hg19_roadmap_samples_enh_age/download/h3k27ac_plus_h3k4me3_minus_peaks/trimmed/shuffle/ages/shuf-trimmed-310_E026_parallel_breaks.bed.gz\n",
      "gunzip /dors/capra_lab/projects/enhancer_ages/roadmap_encode/data/hg19_roadmap_samples_enh_age/download/h3k27ac_plus_h3k4me3_minus_peaks/trimmed/shuffle/ages/shuf-trimmed-310_E109_parallel_breaks.bed.gz\n",
      "gunzip /dors/capra_lab/projects/enhancer_ages/roadmap_encode/data/hg19_roadmap_samples_enh_age/download/h3k27ac_plus_h3k4me3_minus_peaks/trimmed/shuffle/ages/shuf-trimmed-310_E020_parallel_breaks.bed.gz\n",
      "gunzip /dors/capra_lab/projects/enhancer_ages/roadmap_encode/data/hg19_roadmap_samples_enh_age/download/h3k27ac_plus_h3k4me3_minus_peaks/trimmed/shuffle/ages/shuf-trimmed-310_E058_parallel_breaks.bed.gz\n",
      "gunzip /dors/capra_lab/projects/enhancer_ages/roadmap_encode/data/hg19_roadmap_samples_enh_age/download/h3k27ac_plus_h3k4me3_minus_peaks/trimmed/shuffle/ages/shuf-trimmed-310_E080_parallel_breaks.bed.gz\n",
      "gunzip /dors/capra_lab/projects/enhancer_ages/roadmap_encode/data/hg19_roadmap_samples_enh_age/download/h3k27ac_plus_h3k4me3_minus_peaks/trimmed/shuffle/ages/shuf-trimmed-310_E042_parallel_breaks.bed.gz\n",
      "gunzip /dors/capra_lab/projects/enhancer_ages/roadmap_encode/data/hg19_roadmap_samples_enh_age/download/h3k27ac_plus_h3k4me3_minus_peaks/trimmed/shuffle/ages/shuf-trimmed-310_E044_parallel_breaks.bed.gz\n",
      "gunzip /dors/capra_lab/projects/enhancer_ages/roadmap_encode/data/hg19_roadmap_samples_enh_age/download/h3k27ac_plus_h3k4me3_minus_peaks/trimmed/shuffle/ages/shuf-trimmed-310_E098_parallel_breaks.bed.gz\n"
     ]
    },
    {
     "name": "stdout",
     "output_type": "stream",
     "text": [
      "gunzip /dors/capra_lab/projects/enhancer_ages/roadmap_encode/data/hg19_roadmap_samples_enh_age/download/h3k27ac_plus_h3k4me3_minus_peaks/trimmed/shuffle/ages/shuf-trimmed-310_E037_parallel_breaks.bed.gz\n",
      "gunzip /dors/capra_lab/projects/enhancer_ages/roadmap_encode/data/hg19_roadmap_samples_enh_age/download/h3k27ac_plus_h3k4me3_minus_peaks/trimmed/shuffle/ages/shuf-trimmed-310_E034_parallel_breaks.bed.gz\n",
      "gunzip /dors/capra_lab/projects/enhancer_ages/roadmap_encode/data/hg19_roadmap_samples_enh_age/download/h3k27ac_plus_h3k4me3_minus_peaks/trimmed/shuffle/ages/shuf-trimmed-310_E005_parallel_breaks.bed.gz\n",
      "gunzip /dors/capra_lab/projects/enhancer_ages/roadmap_encode/data/hg19_roadmap_samples_enh_age/download/h3k27ac_plus_h3k4me3_minus_peaks/trimmed/shuffle/ages/shuf-trimmed-310_E118_parallel_breaks.bed.gz\n",
      "gunzip /dors/capra_lab/projects/enhancer_ages/roadmap_encode/data/hg19_roadmap_samples_enh_age/download/h3k27ac_plus_h3k4me3_minus_peaks/trimmed/shuffle/ages/shuf-trimmed-310_E074_parallel_breaks.bed.gz\n",
      "gunzip /dors/capra_lab/projects/enhancer_ages/roadmap_encode/data/hg19_roadmap_samples_enh_age/download/h3k27ac_plus_h3k4me3_minus_peaks/trimmed/shuffle/ages/shuf-trimmed-310_E055_parallel_breaks.bed.gz\n",
      "gunzip /dors/capra_lab/projects/enhancer_ages/roadmap_encode/data/hg19_roadmap_samples_enh_age/download/h3k27ac_plus_h3k4me3_minus_peaks/trimmed/shuffle/ages/shuf-trimmed-310_E078_parallel_breaks.bed.gz\n",
      "gunzip /dors/capra_lab/projects/enhancer_ages/roadmap_encode/data/hg19_roadmap_samples_enh_age/download/h3k27ac_plus_h3k4me3_minus_peaks/trimmed/shuffle/ages/shuf-trimmed-310_E102_parallel_breaks.bed.gz\n",
      "gunzip /dors/capra_lab/projects/enhancer_ages/roadmap_encode/data/hg19_roadmap_samples_enh_age/download/h3k27ac_plus_h3k4me3_minus_peaks/trimmed/shuffle/ages/shuf-trimmed-310_E129_parallel_breaks.bed.gz\n",
      "gunzip /dors/capra_lab/projects/enhancer_ages/roadmap_encode/data/hg19_roadmap_samples_enh_age/download/h3k27ac_plus_h3k4me3_minus_peaks/trimmed/shuffle/ages/shuf-trimmed-310_E121_parallel_breaks.bed.gz\n",
      "gunzip /dors/capra_lab/projects/enhancer_ages/roadmap_encode/data/hg19_roadmap_samples_enh_age/download/h3k27ac_plus_h3k4me3_minus_peaks/trimmed/shuffle/ages/shuf-trimmed-310_E112_parallel_breaks.bed.gz\n",
      "gunzip /dors/capra_lab/projects/enhancer_ages/roadmap_encode/data/hg19_roadmap_samples_enh_age/download/h3k27ac_plus_h3k4me3_minus_peaks/trimmed/shuffle/ages/shuf-trimmed-310_E039_parallel_breaks.bed.gz\n",
      "gunzip /dors/capra_lab/projects/enhancer_ages/roadmap_encode/data/hg19_roadmap_samples_enh_age/download/h3k27ac_plus_h3k4me3_minus_peaks/trimmed/shuffle/ages/shuf-trimmed-310_E119_parallel_breaks.bed.gz\n",
      "gunzip /dors/capra_lab/projects/enhancer_ages/roadmap_encode/data/hg19_roadmap_samples_enh_age/download/h3k27ac_plus_h3k4me3_minus_peaks/trimmed/shuffle/ages/shuf-trimmed-310_E011_parallel_breaks.bed.gz\n",
      "gunzip /dors/capra_lab/projects/enhancer_ages/roadmap_encode/data/hg19_roadmap_samples_enh_age/download/h3k27ac_plus_h3k4me3_minus_peaks/trimmed/shuffle/ages/shuf-trimmed-310_E069_parallel_breaks.bed.gz\n",
      "gunzip /dors/capra_lab/projects/enhancer_ages/roadmap_encode/data/hg19_roadmap_samples_enh_age/download/h3k27ac_plus_h3k4me3_minus_peaks/trimmed/shuffle/ages/shuf-trimmed-310_E099_parallel_breaks.bed.gz\n",
      "gunzip /dors/capra_lab/projects/enhancer_ages/roadmap_encode/data/hg19_roadmap_samples_enh_age/download/h3k27ac_plus_h3k4me3_minus_peaks/trimmed/shuffle/ages/shuf-trimmed-310_E050_parallel_breaks.bed.gz\n",
      "gunzip /dors/capra_lab/projects/enhancer_ages/roadmap_encode/data/hg19_roadmap_samples_enh_age/download/h3k27ac_plus_h3k4me3_minus_peaks/trimmed/shuffle/ages/shuf-trimmed-310_E004_parallel_breaks.bed.gz\n",
      "gunzip /dors/capra_lab/projects/enhancer_ages/roadmap_encode/data/hg19_roadmap_samples_enh_age/download/h3k27ac_plus_h3k4me3_minus_peaks/trimmed/shuffle/ages/shuf-trimmed-310_E061_parallel_breaks.bed.gz\n",
      "gunzip /dors/capra_lab/projects/enhancer_ages/roadmap_encode/data/hg19_roadmap_samples_enh_age/download/h3k27ac_plus_h3k4me3_minus_peaks/trimmed/shuffle/ages/shuf-trimmed-310_E019_parallel_breaks.bed.gz\n",
      "gunzip /dors/capra_lab/projects/enhancer_ages/roadmap_encode/data/hg19_roadmap_samples_enh_age/download/h3k27ac_plus_h3k4me3_minus_peaks/trimmed/shuffle/ages/shuf-trimmed-310_E106_parallel_breaks.bed.gz\n",
      "gunzip /dors/capra_lab/projects/enhancer_ages/roadmap_encode/data/hg19_roadmap_samples_enh_age/download/h3k27ac_plus_h3k4me3_minus_peaks/trimmed/shuffle/ages/shuf-trimmed-310_E045_parallel_breaks.bed.gz\n",
      "gunzip /dors/capra_lab/projects/enhancer_ages/roadmap_encode/data/hg19_roadmap_samples_enh_age/download/h3k27ac_plus_h3k4me3_minus_peaks/trimmed/shuffle/ages/shuf-trimmed-310_E117_parallel_breaks.bed.gz\n",
      "gunzip /dors/capra_lab/projects/enhancer_ages/roadmap_encode/data/hg19_roadmap_samples_enh_age/download/h3k27ac_plus_h3k4me3_minus_peaks/trimmed/shuffle/ages/shuf-trimmed-310_E087_parallel_breaks.bed.gz\n",
      "gunzip /dors/capra_lab/projects/enhancer_ages/roadmap_encode/data/hg19_roadmap_samples_enh_age/download/h3k27ac_plus_h3k4me3_minus_peaks/trimmed/shuffle/ages/shuf-trimmed-310_E124_parallel_breaks.bed.gz\n",
      "gunzip /dors/capra_lab/projects/enhancer_ages/roadmap_encode/data/hg19_roadmap_samples_enh_age/download/h3k27ac_plus_h3k4me3_minus_peaks/trimmed/shuffle/ages/shuf-trimmed-310_E105_parallel_breaks.bed.gz\n",
      "gunzip /dors/capra_lab/projects/enhancer_ages/roadmap_encode/data/hg19_roadmap_samples_enh_age/download/h3k27ac_plus_h3k4me3_minus_peaks/trimmed/shuffle/ages/shuf-trimmed-310_E029_parallel_breaks.bed.gz\n",
      "gunzip /dors/capra_lab/projects/enhancer_ages/roadmap_encode/data/hg19_roadmap_samples_enh_age/download/h3k27ac_plus_h3k4me3_minus_peaks/trimmed/shuffle/ages/shuf-trimmed-310_E015_parallel_breaks.bed.gz\n",
      "gunzip /dors/capra_lab/projects/enhancer_ages/roadmap_encode/data/hg19_roadmap_samples_enh_age/download/h3k27ac_plus_h3k4me3_minus_peaks/trimmed/shuffle/ages/shuf-trimmed-310_E115_parallel_breaks.bed.gz\n",
      "gunzip /dors/capra_lab/projects/enhancer_ages/roadmap_encode/data/hg19_roadmap_samples_enh_age/download/h3k27ac_plus_h3k4me3_minus_peaks/trimmed/shuffle/ages/shuf-trimmed-310_E111_parallel_breaks.bed.gz\n",
      "gunzip /dors/capra_lab/projects/enhancer_ages/roadmap_encode/data/hg19_roadmap_samples_enh_age/download/h3k27ac_plus_h3k4me3_minus_peaks/trimmed/shuffle/ages/shuf-trimmed-310_E075_parallel_breaks.bed.gz\n",
      "gunzip /dors/capra_lab/projects/enhancer_ages/roadmap_encode/data/hg19_roadmap_samples_enh_age/download/h3k27ac_plus_h3k4me3_minus_peaks/trimmed/shuffle/ages/shuf-trimmed-310_E104_parallel_breaks.bed.gz\n",
      "gunzip /dors/capra_lab/projects/enhancer_ages/roadmap_encode/data/hg19_roadmap_samples_enh_age/download/h3k27ac_plus_h3k4me3_minus_peaks/trimmed/shuffle/ages/shuf-trimmed-310_E116_parallel_breaks.bed.gz\n",
      "gunzip /dors/capra_lab/projects/enhancer_ages/roadmap_encode/data/hg19_roadmap_samples_enh_age/download/h3k27ac_plus_h3k4me3_minus_peaks/trimmed/shuffle/ages/shuf-trimmed-310_E007_parallel_breaks.bed.gz\n",
      "gunzip /dors/capra_lab/projects/enhancer_ages/roadmap_encode/data/hg19_roadmap_samples_enh_age/download/h3k27ac_plus_h3k4me3_minus_peaks/trimmed/shuffle/ages/shuf-trimmed-310_E084_parallel_breaks.bed.gz\n",
      "gunzip /dors/capra_lab/projects/enhancer_ages/roadmap_encode/data/hg19_roadmap_samples_enh_age/download/h3k27ac_plus_h3k4me3_minus_peaks/trimmed/shuffle/ages/shuf-trimmed-310_E125_parallel_breaks.bed.gz\n"
     ]
    }
   ],
   "source": [
    "# unzip parallel_breaks files\n",
    "\n",
    "zipped = glob.glob(\"%s*_parallel_breaks.bed.gz\" % path)\n",
    "for z in zipped:\n",
    "    cmd = \"gunzip %s\" % z\n",
    "    print(cmd)\n",
    "    os.system(cmd)"
   ]
  },
  {
   "cell_type": "code",
   "execution_count": 9,
   "metadata": {},
   "outputs": [
    {
     "data": {
      "text/plain": [
       "'/dors/capra_lab/projects/enhancer_ages/roadmap_encode/data/hg19_roadmap_samples_enh_age/download/h3k27ac_plus_h3k4me3_minus_peaks/trimmed/shuffle/ages/first_run/shuf-trimmed-310_E120_111415213_parallel_breaks.bed'"
      ]
     },
     "execution_count": 9,
     "metadata": {},
     "output_type": "execute_result"
    }
   ],
   "source": [
    "done[0]"
   ]
  },
  {
   "cell_type": "code",
   "execution_count": 20,
   "metadata": {},
   "outputs": [
    {
     "name": "stdout",
     "output_type": "stream",
     "text": [
      "E120\n",
      "E011\n",
      "E091\n",
      "E038\n",
      "E097\n",
      "E076\n",
      "E101\n",
      "E059\n",
      "E005\n",
      "E128\n",
      "E014\n",
      "E068\n",
      "E090\n",
      "E103\n",
      "E100\n",
      "E092\n",
      "E089\n",
      "E113\n",
      "E084\n",
      "E065\n",
      "E063\n",
      "E067\n",
      "E056\n",
      "E012\n",
      "E093\n",
      "E049\n",
      "E085\n",
      "E105\n",
      "E066\n",
      "E017\n",
      "E096\n",
      "E015\n",
      "E095\n",
      "E094\n",
      "E037\n",
      "E022\n",
      "E061\n",
      "E079\n",
      "E026\n",
      "E008\n"
     ]
    }
   ],
   "source": [
    "# get the sids and glob the files all together. \n",
    "sids = {}\n",
    "done =glob.glob(\"%sfirst_run/shuf-trimmed-310_*_*_parallel_breaks.bed\" %path)\n",
    "os.chdir(path)\n",
    "for f in done:\n",
    "\n",
    "    sid = (f.split(\"/\")[-1]).split(\"_\")[1]\n",
    "\n",
    "    parallel_breaks_file = \"%sshuf-trimmed-310_%s_parallel_breaks.bed\" % (path, sid)\n",
    "    originalf = f\n",
    "    cmd = '''awk '{print >$4\".bed\"}' %s''' % originalf\n",
    "    os.system(cmd) # split up the files\n",
    "    \n",
    "    if sid not in sids.keys():\n",
    "        print(sid)\n",
    "        cmd = '''awk '{print >$4\".bed\"}' %s''' % parallel_breaks_file\n",
    "        os.system(cmd) # split up the files\n",
    "        sids[sid] = parallel_breaks_file"
   ]
  },
  {
   "cell_type": "code",
   "execution_count": 21,
   "metadata": {},
   "outputs": [
    {
     "name": "stdout",
     "output_type": "stream",
     "text": [
      "E120 /dors/capra_lab/projects/enhancer_ages/roadmap_encode/data/hg19_roadmap_samples_enh_age/download/h3k27ac_plus_h3k4me3_minus_peaks/trimmed/shuffle/ages/shuf-trimmed-310_E120_parallel_breaks.bed\n",
      "E011 /dors/capra_lab/projects/enhancer_ages/roadmap_encode/data/hg19_roadmap_samples_enh_age/download/h3k27ac_plus_h3k4me3_minus_peaks/trimmed/shuffle/ages/shuf-trimmed-310_E011_parallel_breaks.bed\n",
      "E091 /dors/capra_lab/projects/enhancer_ages/roadmap_encode/data/hg19_roadmap_samples_enh_age/download/h3k27ac_plus_h3k4me3_minus_peaks/trimmed/shuffle/ages/shuf-trimmed-310_E091_parallel_breaks.bed\n",
      "E038 /dors/capra_lab/projects/enhancer_ages/roadmap_encode/data/hg19_roadmap_samples_enh_age/download/h3k27ac_plus_h3k4me3_minus_peaks/trimmed/shuffle/ages/shuf-trimmed-310_E038_parallel_breaks.bed\n",
      "E097 /dors/capra_lab/projects/enhancer_ages/roadmap_encode/data/hg19_roadmap_samples_enh_age/download/h3k27ac_plus_h3k4me3_minus_peaks/trimmed/shuffle/ages/shuf-trimmed-310_E097_parallel_breaks.bed\n",
      "E076 /dors/capra_lab/projects/enhancer_ages/roadmap_encode/data/hg19_roadmap_samples_enh_age/download/h3k27ac_plus_h3k4me3_minus_peaks/trimmed/shuffle/ages/shuf-trimmed-310_E076_parallel_breaks.bed\n",
      "E101 /dors/capra_lab/projects/enhancer_ages/roadmap_encode/data/hg19_roadmap_samples_enh_age/download/h3k27ac_plus_h3k4me3_minus_peaks/trimmed/shuffle/ages/shuf-trimmed-310_E101_parallel_breaks.bed\n",
      "E059 /dors/capra_lab/projects/enhancer_ages/roadmap_encode/data/hg19_roadmap_samples_enh_age/download/h3k27ac_plus_h3k4me3_minus_peaks/trimmed/shuffle/ages/shuf-trimmed-310_E059_parallel_breaks.bed\n",
      "E005 /dors/capra_lab/projects/enhancer_ages/roadmap_encode/data/hg19_roadmap_samples_enh_age/download/h3k27ac_plus_h3k4me3_minus_peaks/trimmed/shuffle/ages/shuf-trimmed-310_E005_parallel_breaks.bed\n",
      "E128 /dors/capra_lab/projects/enhancer_ages/roadmap_encode/data/hg19_roadmap_samples_enh_age/download/h3k27ac_plus_h3k4me3_minus_peaks/trimmed/shuffle/ages/shuf-trimmed-310_E128_parallel_breaks.bed\n",
      "E014 /dors/capra_lab/projects/enhancer_ages/roadmap_encode/data/hg19_roadmap_samples_enh_age/download/h3k27ac_plus_h3k4me3_minus_peaks/trimmed/shuffle/ages/shuf-trimmed-310_E014_parallel_breaks.bed\n",
      "E068 /dors/capra_lab/projects/enhancer_ages/roadmap_encode/data/hg19_roadmap_samples_enh_age/download/h3k27ac_plus_h3k4me3_minus_peaks/trimmed/shuffle/ages/shuf-trimmed-310_E068_parallel_breaks.bed\n",
      "E090 /dors/capra_lab/projects/enhancer_ages/roadmap_encode/data/hg19_roadmap_samples_enh_age/download/h3k27ac_plus_h3k4me3_minus_peaks/trimmed/shuffle/ages/shuf-trimmed-310_E090_parallel_breaks.bed\n",
      "E103 /dors/capra_lab/projects/enhancer_ages/roadmap_encode/data/hg19_roadmap_samples_enh_age/download/h3k27ac_plus_h3k4me3_minus_peaks/trimmed/shuffle/ages/shuf-trimmed-310_E103_parallel_breaks.bed\n",
      "E100 /dors/capra_lab/projects/enhancer_ages/roadmap_encode/data/hg19_roadmap_samples_enh_age/download/h3k27ac_plus_h3k4me3_minus_peaks/trimmed/shuffle/ages/shuf-trimmed-310_E100_parallel_breaks.bed\n",
      "E092 /dors/capra_lab/projects/enhancer_ages/roadmap_encode/data/hg19_roadmap_samples_enh_age/download/h3k27ac_plus_h3k4me3_minus_peaks/trimmed/shuffle/ages/shuf-trimmed-310_E092_parallel_breaks.bed\n",
      "E089 /dors/capra_lab/projects/enhancer_ages/roadmap_encode/data/hg19_roadmap_samples_enh_age/download/h3k27ac_plus_h3k4me3_minus_peaks/trimmed/shuffle/ages/shuf-trimmed-310_E089_parallel_breaks.bed\n",
      "E113 /dors/capra_lab/projects/enhancer_ages/roadmap_encode/data/hg19_roadmap_samples_enh_age/download/h3k27ac_plus_h3k4me3_minus_peaks/trimmed/shuffle/ages/shuf-trimmed-310_E113_parallel_breaks.bed\n",
      "E084 /dors/capra_lab/projects/enhancer_ages/roadmap_encode/data/hg19_roadmap_samples_enh_age/download/h3k27ac_plus_h3k4me3_minus_peaks/trimmed/shuffle/ages/shuf-trimmed-310_E084_parallel_breaks.bed\n",
      "E065 /dors/capra_lab/projects/enhancer_ages/roadmap_encode/data/hg19_roadmap_samples_enh_age/download/h3k27ac_plus_h3k4me3_minus_peaks/trimmed/shuffle/ages/shuf-trimmed-310_E065_parallel_breaks.bed\n",
      "E063 /dors/capra_lab/projects/enhancer_ages/roadmap_encode/data/hg19_roadmap_samples_enh_age/download/h3k27ac_plus_h3k4me3_minus_peaks/trimmed/shuffle/ages/shuf-trimmed-310_E063_parallel_breaks.bed\n",
      "E067 /dors/capra_lab/projects/enhancer_ages/roadmap_encode/data/hg19_roadmap_samples_enh_age/download/h3k27ac_plus_h3k4me3_minus_peaks/trimmed/shuffle/ages/shuf-trimmed-310_E067_parallel_breaks.bed\n",
      "E056 /dors/capra_lab/projects/enhancer_ages/roadmap_encode/data/hg19_roadmap_samples_enh_age/download/h3k27ac_plus_h3k4me3_minus_peaks/trimmed/shuffle/ages/shuf-trimmed-310_E056_parallel_breaks.bed\n",
      "E012 /dors/capra_lab/projects/enhancer_ages/roadmap_encode/data/hg19_roadmap_samples_enh_age/download/h3k27ac_plus_h3k4me3_minus_peaks/trimmed/shuffle/ages/shuf-trimmed-310_E012_parallel_breaks.bed\n",
      "E093 /dors/capra_lab/projects/enhancer_ages/roadmap_encode/data/hg19_roadmap_samples_enh_age/download/h3k27ac_plus_h3k4me3_minus_peaks/trimmed/shuffle/ages/shuf-trimmed-310_E093_parallel_breaks.bed\n",
      "E049 /dors/capra_lab/projects/enhancer_ages/roadmap_encode/data/hg19_roadmap_samples_enh_age/download/h3k27ac_plus_h3k4me3_minus_peaks/trimmed/shuffle/ages/shuf-trimmed-310_E049_parallel_breaks.bed\n",
      "E085 /dors/capra_lab/projects/enhancer_ages/roadmap_encode/data/hg19_roadmap_samples_enh_age/download/h3k27ac_plus_h3k4me3_minus_peaks/trimmed/shuffle/ages/shuf-trimmed-310_E085_parallel_breaks.bed\n",
      "E105 /dors/capra_lab/projects/enhancer_ages/roadmap_encode/data/hg19_roadmap_samples_enh_age/download/h3k27ac_plus_h3k4me3_minus_peaks/trimmed/shuffle/ages/shuf-trimmed-310_E105_parallel_breaks.bed\n",
      "E066 /dors/capra_lab/projects/enhancer_ages/roadmap_encode/data/hg19_roadmap_samples_enh_age/download/h3k27ac_plus_h3k4me3_minus_peaks/trimmed/shuffle/ages/shuf-trimmed-310_E066_parallel_breaks.bed\n",
      "E017 /dors/capra_lab/projects/enhancer_ages/roadmap_encode/data/hg19_roadmap_samples_enh_age/download/h3k27ac_plus_h3k4me3_minus_peaks/trimmed/shuffle/ages/shuf-trimmed-310_E017_parallel_breaks.bed\n",
      "E096 /dors/capra_lab/projects/enhancer_ages/roadmap_encode/data/hg19_roadmap_samples_enh_age/download/h3k27ac_plus_h3k4me3_minus_peaks/trimmed/shuffle/ages/shuf-trimmed-310_E096_parallel_breaks.bed\n",
      "E015 /dors/capra_lab/projects/enhancer_ages/roadmap_encode/data/hg19_roadmap_samples_enh_age/download/h3k27ac_plus_h3k4me3_minus_peaks/trimmed/shuffle/ages/shuf-trimmed-310_E015_parallel_breaks.bed\n",
      "E095 /dors/capra_lab/projects/enhancer_ages/roadmap_encode/data/hg19_roadmap_samples_enh_age/download/h3k27ac_plus_h3k4me3_minus_peaks/trimmed/shuffle/ages/shuf-trimmed-310_E095_parallel_breaks.bed\n",
      "E094 /dors/capra_lab/projects/enhancer_ages/roadmap_encode/data/hg19_roadmap_samples_enh_age/download/h3k27ac_plus_h3k4me3_minus_peaks/trimmed/shuffle/ages/shuf-trimmed-310_E094_parallel_breaks.bed\n",
      "E037 /dors/capra_lab/projects/enhancer_ages/roadmap_encode/data/hg19_roadmap_samples_enh_age/download/h3k27ac_plus_h3k4me3_minus_peaks/trimmed/shuffle/ages/shuf-trimmed-310_E037_parallel_breaks.bed\n",
      "E022 /dors/capra_lab/projects/enhancer_ages/roadmap_encode/data/hg19_roadmap_samples_enh_age/download/h3k27ac_plus_h3k4me3_minus_peaks/trimmed/shuffle/ages/shuf-trimmed-310_E022_parallel_breaks.bed\n",
      "E061 /dors/capra_lab/projects/enhancer_ages/roadmap_encode/data/hg19_roadmap_samples_enh_age/download/h3k27ac_plus_h3k4me3_minus_peaks/trimmed/shuffle/ages/shuf-trimmed-310_E061_parallel_breaks.bed\n",
      "E079 /dors/capra_lab/projects/enhancer_ages/roadmap_encode/data/hg19_roadmap_samples_enh_age/download/h3k27ac_plus_h3k4me3_minus_peaks/trimmed/shuffle/ages/shuf-trimmed-310_E079_parallel_breaks.bed\n",
      "E026 /dors/capra_lab/projects/enhancer_ages/roadmap_encode/data/hg19_roadmap_samples_enh_age/download/h3k27ac_plus_h3k4me3_minus_peaks/trimmed/shuffle/ages/shuf-trimmed-310_E026_parallel_breaks.bed\n",
      "E008 /dors/capra_lab/projects/enhancer_ages/roadmap_encode/data/hg19_roadmap_samples_enh_age/download/h3k27ac_plus_h3k4me3_minus_peaks/trimmed/shuffle/ages/shuf-trimmed-310_E008_parallel_breaks.bed\n"
     ]
    }
   ],
   "source": [
    "for sid, parallel_breaks_file in sids.items():\n",
    "    print(sid, parallel_breaks_file)\n",
    "    cmd = \"cat rand_file_shuf-%s_*.bed > %s\" % (sid, parallel_breaks_file)\n",
    "    \n",
    "    os.system(cmd) # cat the files"
   ]
  },
  {
   "cell_type": "code",
   "execution_count": 8,
   "metadata": {},
   "outputs": [],
   "source": [
    "path = \"/dors/capra_lab/projects/enhancer_ages/roadmap_encode/data/hg19_roadmap_samples_enh_age/download/h3k27ac_plus_h3k4me3_minus_peaks/trimmed/shuffle/ages/\"\n",
    "fs = glob.glob(\"%sfirst_run/rand_file_shuf-E*.bed\" %path)\n",
    "done =glob.glob(\"%sfirst_run/shuf-trimmed-310_*_*_parallel_breaks.bed\" %path)\n",
    "\n",
    "done_list = []\n",
    "\n",
    "for f in done:\n",
    "    fid = \"_\".join((f.split(\"/\")[-1]).split(\"_\")[1:3])\n",
    "    done_list.append(fid)\n",
    "\n",
    "for f in fs:\n",
    "    fid = ((f.split(\"/\")[-1]).split(\"-\")[1]).split(\".\")[0]\n",
    "\n",
    "    if fid in done_list:\n",
    "        cmd = \"rm %s\" %f\n",
    "        os.system(cmd)"
   ]
  },
  {
   "cell_type": "code",
   "execution_count": null,
   "metadata": {},
   "outputs": [],
   "source": []
  }
 ],
 "metadata": {
  "kernelspec": {
   "display_name": "Python (sfenv)",
   "language": "python",
   "name": "sfenv"
  },
  "language_info": {
   "codemirror_mode": {
    "name": "ipython",
    "version": 3
   },
   "file_extension": ".py",
   "mimetype": "text/x-python",
   "name": "python",
   "nbconvert_exporter": "python",
   "pygments_lexer": "ipython3",
   "version": "3.6.9"
  }
 },
 "nbformat": 4,
 "nbformat_minor": 2
}
