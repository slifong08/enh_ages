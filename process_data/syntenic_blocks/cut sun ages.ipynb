{
 "cells": [
  {
   "cell_type": "code",
   "execution_count": 2,
   "id": "454f0d62",
   "metadata": {},
   "outputs": [
    {
     "name": "stdout",
     "output_type": "stream",
     "text": [
      "cut -f 2-5 /dors/capra_lab/data/ucsc/hg38/synteny_age_hg38/summarized/chr17_syn_age.bed > t && mv t /dors/capra_lab/data/ucsc/hg38/synteny_age_hg38/summarized/chr17_syn_age.bed\n",
      "cut -f 2-5 /dors/capra_lab/data/ucsc/hg38/synteny_age_hg38/summarized/chr7_syn_age.bed > t && mv t /dors/capra_lab/data/ucsc/hg38/synteny_age_hg38/summarized/chr7_syn_age.bed\n",
      "cut -f 2-5 /dors/capra_lab/data/ucsc/hg38/synteny_age_hg38/summarized/chr3_syn_age.bed > t && mv t /dors/capra_lab/data/ucsc/hg38/synteny_age_hg38/summarized/chr3_syn_age.bed\n",
      "cut -f 2-5 /dors/capra_lab/data/ucsc/hg38/synteny_age_hg38/summarized/chr18_syn_age.bed > t && mv t /dors/capra_lab/data/ucsc/hg38/synteny_age_hg38/summarized/chr18_syn_age.bed\n",
      "cut -f 2-5 /dors/capra_lab/data/ucsc/hg38/synteny_age_hg38/summarized/chr10_syn_age.bed > t && mv t /dors/capra_lab/data/ucsc/hg38/synteny_age_hg38/summarized/chr10_syn_age.bed\n",
      "cut -f 2-5 /dors/capra_lab/data/ucsc/hg38/synteny_age_hg38/summarized/chr6_syn_age.bed > t && mv t /dors/capra_lab/data/ucsc/hg38/synteny_age_hg38/summarized/chr6_syn_age.bed\n",
      "cut -f 2-5 /dors/capra_lab/data/ucsc/hg38/synteny_age_hg38/summarized/chr2_syn_age.bed > t && mv t /dors/capra_lab/data/ucsc/hg38/synteny_age_hg38/summarized/chr2_syn_age.bed\n",
      "cut -f 2-5 /dors/capra_lab/data/ucsc/hg38/synteny_age_hg38/summarized/chr16_syn_age.bed > t && mv t /dors/capra_lab/data/ucsc/hg38/synteny_age_hg38/summarized/chr16_syn_age.bed\n",
      "cut -f 2-5 /dors/capra_lab/data/ucsc/hg38/synteny_age_hg38/summarized/chr20_syn_age.bed > t && mv t /dors/capra_lab/data/ucsc/hg38/synteny_age_hg38/summarized/chr20_syn_age.bed\n",
      "cut -f 2-5 /dors/capra_lab/data/ucsc/hg38/synteny_age_hg38/summarized/chr11_syn_age.bed > t && mv t /dors/capra_lab/data/ucsc/hg38/synteny_age_hg38/summarized/chr11_syn_age.bed\n",
      "cut -f 2-5 /dors/capra_lab/data/ucsc/hg38/synteny_age_hg38/summarized/chr14_syn_age.bed > t && mv t /dors/capra_lab/data/ucsc/hg38/synteny_age_hg38/summarized/chr14_syn_age.bed\n",
      "cut -f 2-5 /dors/capra_lab/data/ucsc/hg38/synteny_age_hg38/summarized/chr5_syn_age.bed > t && mv t /dors/capra_lab/data/ucsc/hg38/synteny_age_hg38/summarized/chr5_syn_age.bed\n",
      "cut -f 2-5 /dors/capra_lab/data/ucsc/hg38/synteny_age_hg38/summarized/chr8_syn_age.bed > t && mv t /dors/capra_lab/data/ucsc/hg38/synteny_age_hg38/summarized/chr8_syn_age.bed\n",
      "cut -f 2-5 /dors/capra_lab/data/ucsc/hg38/synteny_age_hg38/summarized/chr13_syn_age.bed > t && mv t /dors/capra_lab/data/ucsc/hg38/synteny_age_hg38/summarized/chr13_syn_age.bed\n",
      "cut -f 2-5 /dors/capra_lab/data/ucsc/hg38/synteny_age_hg38/summarized/chr9_syn_age.bed > t && mv t /dors/capra_lab/data/ucsc/hg38/synteny_age_hg38/summarized/chr9_syn_age.bed\n",
      "cut -f 2-5 /dors/capra_lab/data/ucsc/hg38/synteny_age_hg38/summarized/chr19_syn_age.bed > t && mv t /dors/capra_lab/data/ucsc/hg38/synteny_age_hg38/summarized/chr19_syn_age.bed\n",
      "cut -f 2-5 /dors/capra_lab/data/ucsc/hg38/synteny_age_hg38/summarized/chr12_syn_age.bed > t && mv t /dors/capra_lab/data/ucsc/hg38/synteny_age_hg38/summarized/chr12_syn_age.bed\n",
      "cut -f 2-5 /dors/capra_lab/data/ucsc/hg38/synteny_age_hg38/summarized/chr1_syn_age.bed > t && mv t /dors/capra_lab/data/ucsc/hg38/synteny_age_hg38/summarized/chr1_syn_age.bed\n",
      "cut -f 2-5 /dors/capra_lab/data/ucsc/hg38/synteny_age_hg38/summarized/chr4_syn_age.bed > t && mv t /dors/capra_lab/data/ucsc/hg38/synteny_age_hg38/summarized/chr4_syn_age.bed\n"
     ]
    }
   ],
   "source": [
    "import glob\n",
    "import os\n",
    "import pandas as pd\n",
    "import subprocess\n",
    "\n",
    "PATH = \"/dors/capra_lab/data/ucsc/hg38/synteny_age_hg38/summarized/\"\n",
    "os.chdir(PATH)\n",
    "FS = glob.glob(os.path.join(PATH, \"*_syn_age.bed\"))\n",
    "for F in FS:\n",
    "    df = pd.read_csv(F, sep = '\\t', header = None, nrows = 2)\n",
    "    if len(list(df)) == 5:\n",
    "        cmd = f\"cut -f 2-5 {F} > t && mv t {F}\"\n",
    "        print(cmd)\n",
    "        subprocess.call(cmd, shell = True)"
   ]
  },
  {
   "cell_type": "code",
   "execution_count": 9,
   "id": "4de92a46",
   "metadata": {},
   "outputs": [],
   "source": [
    "PATH = os.getcwd()"
   ]
  },
  {
   "cell_type": "code",
   "execution_count": 11,
   "id": "f496e72d",
   "metadata": {},
   "outputs": [
    {
     "data": {
      "text/plain": [
       "'/gpfs51/dors2/capra_lab/data/ucsc/hg38/synteny_age_hg38/summarized/tet'"
      ]
     },
     "execution_count": 11,
     "metadata": {},
     "output_type": "execute_result"
    }
   ],
   "source": [
    "os.path.join( os.getcwd(), \"tet\")"
   ]
  },
  {
   "cell_type": "code",
   "execution_count": null,
   "id": "0a009ce2",
   "metadata": {},
   "outputs": [],
   "source": []
  }
 ],
 "metadata": {
  "kernelspec": {
   "display_name": "Python (sfenv)",
   "language": "python",
   "name": "sfenv"
  },
  "language_info": {
   "codemirror_mode": {
    "name": "ipython",
    "version": 3
   },
   "file_extension": ".py",
   "mimetype": "text/x-python",
   "name": "python",
   "nbconvert_exporter": "python",
   "pygments_lexer": "ipython3",
   "version": "3.6.6"
  },
  "toc": {
   "base_numbering": 1,
   "nav_menu": {},
   "number_sections": true,
   "sideBar": true,
   "skip_h1_title": false,
   "title_cell": "Table of Contents",
   "title_sidebar": "Contents",
   "toc_cell": false,
   "toc_position": {},
   "toc_section_display": true,
   "toc_window_display": false
  }
 },
 "nbformat": 4,
 "nbformat_minor": 5
}
