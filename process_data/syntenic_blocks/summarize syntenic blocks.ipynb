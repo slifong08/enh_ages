{
 "cells": [
  {
   "cell_type": "code",
   "execution_count": 1,
   "id": "2ac0a418",
   "metadata": {},
   "outputs": [],
   "source": [
    "import csv\n",
    "import glob\n",
    "import numpy as np\n",
    "import os\n",
    "import pandas as pd\n",
    "import subprocess\n",
    "import sys\n",
    "\n",
    "BUILD = \"hg19\"\n",
    "PATH = f\"/dors/capra_lab/data/ucsc/{BUILD}/synteny_age_{BUILD}\"\n",
    "CHR = sys.argv[1]\n",
    "\n",
    "# drop non-important columns and collapse coordinates by MRCA. "
   ]
  },
  {
   "cell_type": "markdown",
   "id": "b356d8d5",
   "metadata": {},
   "source": [
    "# Functions "
   ]
  },
  {
   "cell_type": "code",
   "execution_count": 2,
   "id": "af603c8d",
   "metadata": {
    "code_folding": [
     21
    ]
   },
   "outputs": [],
   "source": [
    "def make_chr_list():\n",
    "    n = list(np.arange(1, 23))\n",
    "    # n.append(\"X\")\n",
    "\n",
    "    chr_list = []\n",
    "\n",
    "    for num in n:\n",
    "        chrn = \"chr\" + str(num)\n",
    "        chr_list.append(chrn)\n",
    "\n",
    "    return chr_list\n",
    "\n",
    "\n",
    "def drop(f, chr_):\n",
    "    os.chdir(os.path.join(PATH, \"summarized\"))\n",
    "    cutf = os.path.join(PATH, \"summarized\", f\"cut_{chr_}_syn_age.bed\")\n",
    "    cmd = f\"cut -f 1,2,3,8 {f} > {cutf}\"\n",
    "    subprocess.call(cmd, shell = True)\n",
    "    \n",
    "    return cutf\n",
    "\n",
    "def lump(F):\n",
    "\n",
    "    # parse through rows, consolidate coordinates of the same age. \n",
    "    start, stop = 0, 0\n",
    "    last_mrca = -1\n",
    "\n",
    "    results = {}\n",
    "    with open(cut_f, \"r\") as df:\n",
    "        for i, row in enumerate(csv.reader(df, delimiter='\\t')):\n",
    "\n",
    "            chr_, start_, stop_ = row[0], row[1], row[2]\n",
    "            mrca = row[3]\n",
    "\n",
    "            if last_mrca == -1:  # for the first row of the segment\n",
    "                start = start_\n",
    "                stop = stop_\n",
    "                last_mrca = mrca\n",
    "\n",
    "            elif mrca == last_mrca:  # still in the same MRCA\n",
    "                stop = stop_  # add to the stop\n",
    "\n",
    "            elif mrca!= last_mrca:\n",
    "                new_row = [chr_, start, stop, last_mrca]\n",
    "                results[i] = new_row\n",
    "\n",
    "                # reset values\n",
    "                start = start_\n",
    "                stop = stop_\n",
    "                last_mrca = mrca\n",
    "\n",
    "    return results\n",
    "\n",
    "# Stack rows, make dataframe. \n",
    "\n",
    "def stack(results):\n",
    "    \n",
    "    data = np.array([\"#chr\", \"start\", \"stop\", \"mrca\"])\n",
    "    for val in results.values():\n",
    "        a = np.array(val)\n",
    "        if \"chr\" not in a[0]\n",
    "        a = a[1:]\n",
    "        data = np.vstack((data,a,))\n",
    "\n",
    "    re = pd.DataFrame(data)\n",
    "    header_row = 0\n",
    "\n",
    "    re.columns = re.iloc[header_row]\n",
    "    re = re.drop(header_row).reset_index()\n",
    "    re[\"mrca\"] = re[\"mrca\"].map(float).round(3)\n",
    "    re = re.drop([\"index\"], axis = 1) # drop the index column\n",
    "    return re\n",
    "\n",
    "# in case you need to split file on size before getting started\n",
    "def split_by_line(f, data_path, chr_num):\n",
    "\n",
    "    chr_path = os.path.join(data_path, chr_num)\n",
    "    try:\n",
    "        os.mkdir(chr_path)\n",
    "    except FileExistsError:\n",
    "        pass\n",
    "\n",
    "    # change dir to the path (I think I did this already, but incase)\n",
    "    os.chdir(chr_path)\n",
    "\n",
    "    # split the file in command line into sizes of 1000 lines\n",
    "    cmd = f\"split -l 1000 {f} {chr_num}-\"\n",
    "\n",
    "    subprocess.call(cmd, shell = True)\n",
    "\n",
    "    small_fs = glob.glob(f\"{chr_path}/{chr_num}-*\")\n",
    "\n",
    "\n",
    "    return small_fs\n"
   ]
  },
  {
   "cell_type": "markdown",
   "id": "d6b9f6c3",
   "metadata": {},
   "source": [
    "# make list of chromosomes"
   ]
  },
  {
   "cell_type": "code",
   "execution_count": 3,
   "id": "83c37867",
   "metadata": {},
   "outputs": [],
   "source": [
    "chr_list = make_chr_list()"
   ]
  },
  {
   "cell_type": "markdown",
   "id": "fb225928",
   "metadata": {},
   "source": [
    "# unzip and cut syntenic file into 4 columns "
   ]
  },
  {
   "cell_type": "code",
   "execution_count": 46,
   "id": "c736831d",
   "metadata": {},
   "outputs": [],
   "source": [
    "for CHR in chr_list:\n",
    "    Fzipped = os.path.join(PATH, f\"{CHR}_syn_age.bed.gz\")\n",
    "\n",
    "    F = os.path.join(PATH, f\"{CHR}_syn_age.bed\")\n",
    "\n",
    "    RE = os.path.join(PATH, \"summarized\",  f\"cut_{CHR}_syn_age.bed\")\n",
    "\n",
    "    if os.path.exists(RE) is False:\n",
    "        print(RE)\n",
    "        # unzip\n",
    "        cmd = f\"gunzip {Fzipped}\"\n",
    "        if os.path.exists(Fzipped) is True:\n",
    "            subprocess.call(cmd, shell = True)\n",
    "\n",
    "        cut_f = drop(F, CHR)\n",
    "        \n",
    "        cmd = f\"gzip {F}\"\n",
    "        if os.path.exists(Fzipped) is False:\n",
    "            subprocess.call(cmd, shell = True)"
   ]
  },
  {
   "cell_type": "markdown",
   "id": "0c4c2e96",
   "metadata": {},
   "source": [
    "# split by line"
   ]
  },
  {
   "cell_type": "code",
   "execution_count": 47,
   "id": "b43e93c5",
   "metadata": {},
   "outputs": [],
   "source": [
    "for CHR in chr_list:\n",
    "\n",
    "    chr_f = os.path.join(PATH, \"summarized\", f\"cut_{CHR}_syn_age.bed\")\n",
    "\n",
    "    # test whether you've split chr file into 1000 line files.\n",
    "    chr_path = os.path.join(PATH,\"summarized\")\n",
    "    test_file = os.path.join(chr_path, f\"{CHR}-aa\")\n",
    "\n",
    "    if os.path.exists(test_file) is False:\n",
    "\n",
    "        splits = split_by_line(chr_f, chr_path, CHR)"
   ]
  },
  {
   "cell_type": "markdown",
   "id": "668241f1",
   "metadata": {},
   "source": [
    "# lump coordinates by sequence age "
   ]
  },
  {
   "cell_type": "code",
   "execution_count": 48,
   "id": "7065bcad",
   "metadata": {
    "code_folding": []
   },
   "outputs": [
    {
     "name": "stdout",
     "output_type": "stream",
     "text": [
      "chr1\n",
      "chr2\n",
      "chr3\n",
      "chr4\n",
      "chr5\n",
      "chr6\n",
      "chr7\n",
      "chr8\n",
      "chr9\n",
      "chr10\n",
      "chr11\n",
      "chr12\n",
      "chr13\n",
      "chr14\n",
      "chr15\n",
      "chr16\n",
      "chr17\n",
      "chr18\n",
      "chr19\n",
      "chr20\n",
      "chr21\n",
      "chr22\n"
     ]
    }
   ],
   "source": [
    "for CHR in chr_list:\n",
    "    print(CHR)\n",
    "    cut_fs = glob.glob(os.path.join(PATH, \"summarized\", CHR,  f\"{CHR}-*\"))\n",
    "    RE = os.path.join(PATH, \"summarized\", f\"{CHR}_syn_age.bed\")\n",
    "    for n, cut_f in enumerate(cut_fs):\n",
    "        id_ = cut_f.split(CHR)[-1]\n",
    "\n",
    "        results = lump(cut_f)\n",
    "        \n",
    "        s = stack(results)\n",
    "        s.to_csv(RE, sep = '\\t', index = False, mode = \"a\")\n",
    "\n",
    "        os.remove(cut_f)"
   ]
  }
 ],
 "metadata": {
  "kernelspec": {
   "display_name": "Python (sfenv)",
   "language": "python",
   "name": "sfenv"
  },
  "language_info": {
   "codemirror_mode": {
    "name": "ipython",
    "version": 3
   },
   "file_extension": ".py",
   "mimetype": "text/x-python",
   "name": "python",
   "nbconvert_exporter": "python",
   "pygments_lexer": "ipython3",
   "version": "3.6.6"
  },
  "toc": {
   "base_numbering": 1,
   "nav_menu": {},
   "number_sections": true,
   "sideBar": true,
   "skip_h1_title": false,
   "title_cell": "Table of Contents",
   "title_sidebar": "Contents",
   "toc_cell": false,
   "toc_position": {},
   "toc_section_display": true,
   "toc_window_display": false
  }
 },
 "nbformat": 4,
 "nbformat_minor": 5
}
