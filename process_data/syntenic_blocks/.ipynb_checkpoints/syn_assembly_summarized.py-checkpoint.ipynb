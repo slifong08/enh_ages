{
 "cells": [
  {
   "cell_type": "code",
   "execution_count": 23,
   "id": "6774bde8",
   "metadata": {},
   "outputs": [
    {
     "name": "stdout",
     "output_type": "stream",
     "text": [
      "first bin 0.058\n",
      "new bin in town bin_2\n",
      "max_mrca 0.167 ['0.058', '0.13', '0.167', '0.058', '0.02', '0.13']\n",
      "new bin in town bin_3\n",
      "max_mrca 0.167 ['0.167', '0.058', '0.167']\n"
     ]
    }
   ],
   "source": [
    "import os\n",
    "import csv\n",
    "import sys\n",
    "\n",
    "#F = sys.argv[1]\n",
    "#path = \"/\".join(F.split(\"/\")[:-1])\n",
    "\n",
    "path = \"/dors/capra_lab/data/ucsc/hg38/synteny_age_hg38/summarized/\"\n",
    "F = \"/dors/capra_lab/data/ucsc/hg38/synteny_age_hg38/summarized/age.bed\"\n",
    "\n",
    "file = open(F, \"r+\") \n",
    "\n",
    "A = os.path.join(path, \"archs.txt\")\n",
    "archs = open(A, \"w\")\n",
    "\n",
    "\n",
    "f1 = file.readlines()\n",
    "\n",
    "max_mrca = []\n",
    "\n",
    "bin_id = 0\n",
    "val = 0\n",
    "\n",
    "for n, f in enumerate(f1):\n",
    "    row = f.split(\"\\t\")\n",
    "    bin_id_ = row[3]\n",
    "    mrca_ = row[7]\n",
    "    max_mrca.append(mrca_)\n",
    "    \n",
    "    if bin_id == 0:\n",
    "        bin_id = bin_id_\n",
    "\n",
    "        print(\"first bin\", mrca_)\n",
    "    \n",
    "    elif bin_id != bin_id_:\n",
    "\n",
    "        A.write(f\"{bin_id}\\t{max_mrca}\\n\")\n",
    "        \n",
    "        val = 0\n",
    "        bin_id = bin_id_\n",
    "        max_mrca = []\n",
    "        print(\"new bin in town\", bin_id)\n",
    "        \n",
    "        \n",
    "    row.append(val)\n",
    "    file.write(\"\\t\".join(row))\n",
    "\n",
    "    val +=1    \n"
   ]
  },
  {
   "cell_type": "code",
   "execution_count": null,
   "id": "19f615bb",
   "metadata": {},
   "outputs": [],
   "source": []
  }
 ],
 "metadata": {
  "kernelspec": {
   "display_name": "Python (sfenv)",
   "language": "python",
   "name": "sfenv"
  },
  "language_info": {
   "codemirror_mode": {
    "name": "ipython",
    "version": 3
   },
   "file_extension": ".py",
   "mimetype": "text/x-python",
   "name": "python",
   "nbconvert_exporter": "python",
   "pygments_lexer": "ipython3",
   "version": "3.6.6"
  },
  "toc": {
   "base_numbering": 1,
   "nav_menu": {},
   "number_sections": true,
   "sideBar": true,
   "skip_h1_title": false,
   "title_cell": "Table of Contents",
   "title_sidebar": "Contents",
   "toc_cell": false,
   "toc_position": {},
   "toc_section_display": true,
   "toc_window_display": false
  }
 },
 "nbformat": 4,
 "nbformat_minor": 5
}
