{
 "cells": [
  {
   "cell_type": "code",
   "execution_count": 7,
   "id": "f211f8ff",
   "metadata": {},
   "outputs": [],
   "source": [
    "import os\n",
    "import numpy as np\n",
    "import subprocess\n",
    "\n",
    "def make_chr_list():\n",
    "    n = list(np.arange(1, 23))\n",
    "    #n.append(\"X\")\n",
    "\n",
    "    chr_list = []\n",
    "    for num in n:\n",
    "        chrn = \"chr\" + str(num)\n",
    "        chr_list.append(chrn)\n",
    "\n",
    "    return chr_list"
   ]
  },
  {
   "cell_type": "code",
   "execution_count": 8,
   "id": "7080e085",
   "metadata": {},
   "outputs": [],
   "source": [
    "chr_list = make_chr_list()"
   ]
  },
  {
   "cell_type": "code",
   "execution_count": 9,
   "id": "32070d01",
   "metadata": {},
   "outputs": [
    {
     "name": "stdout",
     "output_type": "stream",
     "text": [
      "chr1\n",
      "chr2\n",
      "chr3\n",
      "chr4\n",
      "chr5\n",
      "chr6\n",
      "chr7\n",
      "chr8\n",
      "chr9\n",
      "chr10\n",
      "chr11\n",
      "chr12\n",
      "chr13\n",
      "chr14\n",
      "chr15\n",
      "chr16\n",
      "chr17\n",
      "chr18\n",
      "chr19\n",
      "chr20\n",
      "chr21\n",
      "chr22\n"
     ]
    }
   ],
   "source": [
    "script = \"/dors/capra_lab/users/fongsl/enh_ages/process_data/syntenic_blocks/summarize_syntenic_blocks.slurm\"\n",
    "\n",
    "for chr_ in chr_list:\n",
    "    cmd = f\"sbatch {script} {chr_}\"\n",
    "    subprocess.call(cmd, shell = True)\n",
    "    print(chr_)\n"
   ]
  },
  {
   "cell_type": "code",
   "execution_count": null,
   "id": "04115f49",
   "metadata": {},
   "outputs": [],
   "source": []
  }
 ],
 "metadata": {
  "kernelspec": {
   "display_name": "Python (sfenv)",
   "language": "python",
   "name": "sfenv"
  },
  "language_info": {
   "codemirror_mode": {
    "name": "ipython",
    "version": 3
   },
   "file_extension": ".py",
   "mimetype": "text/x-python",
   "name": "python",
   "nbconvert_exporter": "python",
   "pygments_lexer": "ipython3",
   "version": "3.6.6"
  },
  "toc": {
   "base_numbering": 1,
   "nav_menu": {},
   "number_sections": true,
   "sideBar": true,
   "skip_h1_title": false,
   "title_cell": "Table of Contents",
   "title_sidebar": "Contents",
   "toc_cell": false,
   "toc_position": {},
   "toc_section_display": true,
   "toc_window_display": false
  }
 },
 "nbformat": 4,
 "nbformat_minor": 5
}
