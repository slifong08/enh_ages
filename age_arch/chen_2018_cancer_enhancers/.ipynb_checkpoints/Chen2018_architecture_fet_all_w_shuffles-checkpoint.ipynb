{
 "cells": [
  {
   "cell_type": "code",
   "execution_count": 42,
   "metadata": {
    "collapsed": true
   },
   "outputs": [],
   "source": [
    "# 20210802 \n",
    "# sarahfong\n",
    "import glob\n",
    "import matplotlib.pyplot as plt\n",
    "from matplotlib.ticker import MultipleLocator\n",
    "import matplotlib.ticker as ticker\n",
    "import numpy as np\n",
    "import os, sys\n",
    "\n",
    "import pandas as pd\n",
    "from scipy import stats\n",
    "import seaborn as sns \n",
    "import statsmodels\n",
    "import statsmodels.api as sm\n",
    "import subprocess"
   ]
  },
  {
   "cell_type": "code",
   "execution_count": 78,
   "metadata": {},
   "outputs": [
    {
     "data": {
      "text/plain": [
       "100"
      ]
     },
     "execution_count": 78,
     "metadata": {},
     "output_type": "execute_result"
    }
   ],
   "source": [
    "BASE_PATH = \"/dors/capra_lab/projects/enhancer_ages/chen_2018/sorted/\"\n",
    "RE = \"/dors/capra_lab/projects/enhancer_ages/chen_2018/sorted/\"\n",
    "\n",
    "CHEN_ARCH = os.path.join(BASE_PATH, \"breaks\", \"sorted_enh_age_arch_summary.bed\")\n",
    "SHUF_ = os.path.join(BASE_PATH, \"shuffle\", \"breaks\", \"*summary.bed\")\n",
    "SHUFS = glob.glob(SHUF_)\n",
    "RE = \"/dors/capra_lab/projects/enhancer_ages/chen_2018/results/\"\n",
    "try:\n",
    "    os.mkdir(RE)\n",
    "except FileExistsError:\n",
    "    pass\n",
    "len(SHUFS)"
   ]
  },
  {
   "cell_type": "code",
   "execution_count": 3,
   "metadata": {
    "collapsed": true
   },
   "outputs": [],
   "source": [
    "def format_df(file):\n",
    "    fdf = pd.read_csv(file, sep = '\\t').drop_duplicates()\n",
    "    fdf = fdf.drop([\"sample_id\"], axis = 1)\n",
    "    fdf = fdf.loc[fdf[\"#chr_enh\"] != \"chrX\"] # remove X chromosome\n",
    "    return fdf"
   ]
  },
  {
   "cell_type": "code",
   "execution_count": 4,
   "metadata": {
    "collapsed": true
   },
   "outputs": [],
   "source": [
    "shuf_dict = {}\n",
    "for n, SHUF in enumerate(SHUFS):\n",
    "    s = format_df(SHUF)\n",
    "    shuf_dict[n] = s"
   ]
  },
  {
   "cell_type": "code",
   "execution_count": 5,
   "metadata": {
    "collapsed": true
   },
   "outputs": [],
   "source": [
    "shufs = pd.concat(shuf_dict.values())"
   ]
  },
  {
   "cell_type": "code",
   "execution_count": 6,
   "metadata": {
    "collapsed": true
   },
   "outputs": [],
   "source": [
    "fdf = format_df(CHEN_ARCH)"
   ]
  },
  {
   "cell_type": "code",
   "execution_count": 7,
   "metadata": {},
   "outputs": [
    {
     "data": {
      "text/html": [
       "<div>\n",
       "<style>\n",
       "    .dataframe thead tr:only-child th {\n",
       "        text-align: right;\n",
       "    }\n",
       "\n",
       "    .dataframe thead th {\n",
       "        text-align: left;\n",
       "    }\n",
       "\n",
       "    .dataframe tbody tr th {\n",
       "        vertical-align: top;\n",
       "    }\n",
       "</style>\n",
       "<table border=\"1\" class=\"dataframe\">\n",
       "  <thead>\n",
       "    <tr style=\"text-align: right;\">\n",
       "      <th></th>\n",
       "      <th>#chr_enh</th>\n",
       "      <th>start_enh</th>\n",
       "      <th>end_enh</th>\n",
       "      <th>enh_id</th>\n",
       "      <th>seg_index</th>\n",
       "      <th>core_remodeling</th>\n",
       "      <th>arch</th>\n",
       "      <th>mrca</th>\n",
       "      <th>taxon</th>\n",
       "      <th>mrca_2</th>\n",
       "      <th>taxon2</th>\n",
       "    </tr>\n",
       "  </thead>\n",
       "  <tbody>\n",
       "    <tr>\n",
       "      <th>0</th>\n",
       "      <td>chr10</td>\n",
       "      <td>10374940</td>\n",
       "      <td>10374970</td>\n",
       "      <td>chr10:10374940-10374970</td>\n",
       "      <td>1</td>\n",
       "      <td>0</td>\n",
       "      <td>simple</td>\n",
       "      <td>0.175</td>\n",
       "      <td>Eutheria</td>\n",
       "      <td>0.175</td>\n",
       "      <td>Eutheria (105)</td>\n",
       "    </tr>\n",
       "    <tr>\n",
       "      <th>1</th>\n",
       "      <td>chr10</td>\n",
       "      <td>10413071</td>\n",
       "      <td>10413088</td>\n",
       "      <td>chr10:10413071-10413088</td>\n",
       "      <td>1</td>\n",
       "      <td>0</td>\n",
       "      <td>simple</td>\n",
       "      <td>0.175</td>\n",
       "      <td>Eutheria</td>\n",
       "      <td>0.175</td>\n",
       "      <td>Eutheria (105)</td>\n",
       "    </tr>\n",
       "    <tr>\n",
       "      <th>2</th>\n",
       "      <td>chr10</td>\n",
       "      <td>10458824</td>\n",
       "      <td>10458863</td>\n",
       "      <td>chr10:10458824-10458863</td>\n",
       "      <td>1</td>\n",
       "      <td>0</td>\n",
       "      <td>simple</td>\n",
       "      <td>0.175</td>\n",
       "      <td>Eutheria</td>\n",
       "      <td>0.175</td>\n",
       "      <td>Eutheria (105)</td>\n",
       "    </tr>\n",
       "    <tr>\n",
       "      <th>3</th>\n",
       "      <td>chr10</td>\n",
       "      <td>10545513</td>\n",
       "      <td>10545788</td>\n",
       "      <td>chr10:10545513-10545788</td>\n",
       "      <td>1</td>\n",
       "      <td>0</td>\n",
       "      <td>simple</td>\n",
       "      <td>0.175</td>\n",
       "      <td>Eutheria</td>\n",
       "      <td>0.175</td>\n",
       "      <td>Eutheria (105)</td>\n",
       "    </tr>\n",
       "    <tr>\n",
       "      <th>4</th>\n",
       "      <td>chr10</td>\n",
       "      <td>10558695</td>\n",
       "      <td>10559022</td>\n",
       "      <td>chr10:10558695-10559022</td>\n",
       "      <td>2</td>\n",
       "      <td>1</td>\n",
       "      <td>complexenh</td>\n",
       "      <td>0.380</td>\n",
       "      <td>Mammalia</td>\n",
       "      <td>0.380</td>\n",
       "      <td>Mammalia (177)</td>\n",
       "    </tr>\n",
       "  </tbody>\n",
       "</table>\n",
       "</div>"
      ],
      "text/plain": [
       "  #chr_enh  start_enh   end_enh                   enh_id  seg_index  \\\n",
       "0    chr10   10374940  10374970  chr10:10374940-10374970          1   \n",
       "1    chr10   10413071  10413088  chr10:10413071-10413088          1   \n",
       "2    chr10   10458824  10458863  chr10:10458824-10458863          1   \n",
       "3    chr10   10545513  10545788  chr10:10545513-10545788          1   \n",
       "4    chr10   10558695  10559022  chr10:10558695-10559022          2   \n",
       "\n",
       "   core_remodeling        arch   mrca     taxon  mrca_2          taxon2  \n",
       "0                0      simple  0.175  Eutheria   0.175  Eutheria (105)  \n",
       "1                0      simple  0.175  Eutheria   0.175  Eutheria (105)  \n",
       "2                0      simple  0.175  Eutheria   0.175  Eutheria (105)  \n",
       "3                0      simple  0.175  Eutheria   0.175  Eutheria (105)  \n",
       "4                1  complexenh  0.380  Mammalia   0.380  Mammalia (177)  "
      ]
     },
     "execution_count": 7,
     "metadata": {},
     "output_type": "execute_result"
    }
   ],
   "source": [
    "fdf.head()"
   ]
  },
  {
   "cell_type": "code",
   "execution_count": 8,
   "metadata": {},
   "outputs": [
    {
     "data": {
      "text/plain": [
       "0    10176\n",
       "1     5090\n",
       "Name: core_remodeling, dtype: int64"
      ]
     },
     "execution_count": 8,
     "metadata": {},
     "output_type": "execute_result"
    }
   ],
   "source": [
    "fdf[\"core_remodeling\"].value_counts()"
   ]
  },
  {
   "cell_type": "code",
   "execution_count": 9,
   "metadata": {},
   "outputs": [
    {
     "data": {
      "text/plain": [
       "0    970682\n",
       "1    556969\n",
       "Name: core_remodeling, dtype: int64"
      ]
     },
     "execution_count": 9,
     "metadata": {},
     "output_type": "execute_result"
    }
   ],
   "source": [
    "shufs[\"core_remodeling\"].value_counts()"
   ]
  },
  {
   "cell_type": "code",
   "execution_count": 10,
   "metadata": {},
   "outputs": [
    {
     "data": {
      "text/plain": [
       "5090"
      ]
     },
     "execution_count": 10,
     "metadata": {},
     "output_type": "execute_result"
    }
   ],
   "source": [
    "fdf[\"core_remodeling\"].value_counts()[1]"
   ]
  },
  {
   "cell_type": "code",
   "execution_count": 11,
   "metadata": {
    "collapsed": true
   },
   "outputs": [],
   "source": [
    "#[[simple_overlapping, simple_nonoverlapping], [complex_overlapping, complex_non-overlapping]]\n",
    "simple_chen = fdf[\"core_remodeling\"].value_counts()[0]\n",
    "complex_chen = fdf[\"core_remodeling\"].value_counts()[1]\n",
    "\n",
    "simple_shuf = shufs[\"core_remodeling\"].value_counts()[0]\n",
    "complex_shuf = shufs[\"core_remodeling\"].value_counts()[1]\n",
    "obs = [[simple_chen, complex_chen ], [simple_shuf, complex_shuf]]"
   ]
  },
  {
   "cell_type": "code",
   "execution_count": 12,
   "metadata": {},
   "outputs": [
    {
     "data": {
      "text/plain": [
       "[[10176, 5090], [970682, 556969]]"
      ]
     },
     "execution_count": 12,
     "metadata": {},
     "output_type": "execute_result"
    }
   ],
   "source": [
    "obs"
   ]
  },
  {
   "cell_type": "code",
   "execution_count": 13,
   "metadata": {},
   "outputs": [
    {
     "data": {
      "text/plain": [
       "(1.1471319168789389, 1.184271549133183e-15)"
      ]
     },
     "execution_count": 13,
     "metadata": {},
     "output_type": "execute_result"
    }
   ],
   "source": [
    "stats.fisher_exact(obs)"
   ]
  },
  {
   "cell_type": "markdown",
   "metadata": {},
   "source": [
    "# per age, what is obs (chen) v. expected (shuf) architecture of cancer enhancers\n",
    "\n",
    "- count architecctures per mrca (enh, shuf)\n",
    "- get total enhancers per mrca (enh, shuf)\n",
    "- calculate % of enhancer architecture per age (enh, shuf)\n",
    "- calculate fold change of % enhancer architecture per age versus % shuffled architecture per age expectation"
   ]
  },
  {
   "cell_type": "code",
   "execution_count": 14,
   "metadata": {
    "collapsed": true
   },
   "outputs": [],
   "source": [
    "enh_fold = fdf.groupby([ \"core_remodeling\", \"mrca_2\"])[\"enh_id\"].count().reset_index()\n",
    "enh_fold.columns = ['core_remodeling', 'mrca_2', 'enh_count']\n",
    "enh_totals = fdf.groupby([\"mrca_2\"])[\"enh_id\"].count().reset_index()\n",
    "enh_totals.columns = ['mrca_2', 'enh_total']\n",
    "enh_fold = pd.merge(enh_fold, enh_totals)\n",
    "enh_fold[\"enh_percent_arch_per_age\"] = enh_fold.enh_count.divide(enh_fold.enh_total)"
   ]
  },
  {
   "cell_type": "code",
   "execution_count": 15,
   "metadata": {
    "collapsed": true
   },
   "outputs": [],
   "source": [
    "shuf_fold = shufs.groupby([ \"core_remodeling\", \"mrca_2\"])[\"enh_id\"].count().reset_index()\n",
    "shuf_fold.columns = ['core_remodeling', 'mrca_2', 'shuf_count']\n",
    "\n",
    "shuf_totals = shufs.groupby([\"mrca_2\"])[\"enh_id\"].count().reset_index()\n",
    "shuf_totals.columns = ['mrca_2', 'shuf_total']\n",
    "shuf_fold = pd.merge(shuf_fold, shuf_totals)\n",
    "shuf_fold[\"shuf_percent_arch_per_age\"] = shuf_fold.shuf_count.divide(shuf_fold.shuf_total)"
   ]
  },
  {
   "cell_type": "code",
   "execution_count": 80,
   "metadata": {
    "collapsed": true
   },
   "outputs": [],
   "source": [
    "ot = pd.merge(enh_fold, shuf_fold)\n",
    "ot[\"per\"] = ot.enh_percent_arch_per_age.divide(ot.shuf_percent_arch_per_age)\n",
    "ot[\"log2_per\"] = np.log2(ot[\"per\"])"
   ]
  },
  {
   "cell_type": "code",
   "execution_count": 89,
   "metadata": {},
   "outputs": [
    {
     "data": {
      "text/html": [
       "<div>\n",
       "<style>\n",
       "    .dataframe thead tr:only-child th {\n",
       "        text-align: right;\n",
       "    }\n",
       "\n",
       "    .dataframe thead th {\n",
       "        text-align: left;\n",
       "    }\n",
       "\n",
       "    .dataframe tbody tr th {\n",
       "        vertical-align: top;\n",
       "    }\n",
       "</style>\n",
       "<table border=\"1\" class=\"dataframe\">\n",
       "  <thead>\n",
       "    <tr style=\"text-align: right;\">\n",
       "      <th></th>\n",
       "      <th>core_remodeling</th>\n",
       "      <th>mrca_2</th>\n",
       "      <th>per</th>\n",
       "      <th>log2_per</th>\n",
       "    </tr>\n",
       "  </thead>\n",
       "  <tbody>\n",
       "    <tr>\n",
       "      <th>0</th>\n",
       "      <td>0</td>\n",
       "      <td>0.000</td>\n",
       "      <td>1.000000</td>\n",
       "      <td>0.000000</td>\n",
       "    </tr>\n",
       "    <tr>\n",
       "      <th>0</th>\n",
       "      <td>0</td>\n",
       "      <td>0.131</td>\n",
       "      <td>0.991525</td>\n",
       "      <td>-0.012280</td>\n",
       "    </tr>\n",
       "    <tr>\n",
       "      <th>5</th>\n",
       "      <td>0</td>\n",
       "      <td>0.152</td>\n",
       "      <td>1.220560</td>\n",
       "      <td>0.287543</td>\n",
       "    </tr>\n",
       "    <tr>\n",
       "      <th>7</th>\n",
       "      <td>0</td>\n",
       "      <td>0.175</td>\n",
       "      <td>1.197580</td>\n",
       "      <td>0.260122</td>\n",
       "    </tr>\n",
       "    <tr>\n",
       "      <th>9</th>\n",
       "      <td>0</td>\n",
       "      <td>0.308</td>\n",
       "      <td>1.125167</td>\n",
       "      <td>0.170139</td>\n",
       "    </tr>\n",
       "    <tr>\n",
       "      <th>11</th>\n",
       "      <td>0</td>\n",
       "      <td>0.380</td>\n",
       "      <td>1.040995</td>\n",
       "      <td>0.057964</td>\n",
       "    </tr>\n",
       "    <tr>\n",
       "      <th>13</th>\n",
       "      <td>0</td>\n",
       "      <td>0.490</td>\n",
       "      <td>1.045279</td>\n",
       "      <td>0.063888</td>\n",
       "    </tr>\n",
       "    <tr>\n",
       "      <th>15</th>\n",
       "      <td>0</td>\n",
       "      <td>0.656</td>\n",
       "      <td>0.850060</td>\n",
       "      <td>-0.234363</td>\n",
       "    </tr>\n",
       "    <tr>\n",
       "      <th>17</th>\n",
       "      <td>0</td>\n",
       "      <td>0.957</td>\n",
       "      <td>1.006716</td>\n",
       "      <td>0.009657</td>\n",
       "    </tr>\n",
       "    <tr>\n",
       "      <th>1</th>\n",
       "      <td>1</td>\n",
       "      <td>0.131</td>\n",
       "      <td>1.031581</td>\n",
       "      <td>0.044857</td>\n",
       "    </tr>\n",
       "    <tr>\n",
       "      <th>6</th>\n",
       "      <td>1</td>\n",
       "      <td>0.152</td>\n",
       "      <td>0.725032</td>\n",
       "      <td>-0.463884</td>\n",
       "    </tr>\n",
       "    <tr>\n",
       "      <th>8</th>\n",
       "      <td>1</td>\n",
       "      <td>0.175</td>\n",
       "      <td>0.606742</td>\n",
       "      <td>-0.720845</td>\n",
       "    </tr>\n",
       "    <tr>\n",
       "      <th>10</th>\n",
       "      <td>1</td>\n",
       "      <td>0.308</td>\n",
       "      <td>0.923931</td>\n",
       "      <td>-0.114143</td>\n",
       "    </tr>\n",
       "    <tr>\n",
       "      <th>12</th>\n",
       "      <td>1</td>\n",
       "      <td>0.380</td>\n",
       "      <td>0.979254</td>\n",
       "      <td>-0.030245</td>\n",
       "    </tr>\n",
       "    <tr>\n",
       "      <th>14</th>\n",
       "      <td>1</td>\n",
       "      <td>0.490</td>\n",
       "      <td>0.974291</td>\n",
       "      <td>-0.037575</td>\n",
       "    </tr>\n",
       "    <tr>\n",
       "      <th>16</th>\n",
       "      <td>1</td>\n",
       "      <td>0.656</td>\n",
       "      <td>1.062469</td>\n",
       "      <td>0.087420</td>\n",
       "    </tr>\n",
       "    <tr>\n",
       "      <th>18</th>\n",
       "      <td>1</td>\n",
       "      <td>0.957</td>\n",
       "      <td>0.994021</td>\n",
       "      <td>-0.008651</td>\n",
       "    </tr>\n",
       "  </tbody>\n",
       "</table>\n",
       "</div>"
      ],
      "text/plain": [
       "    core_remodeling  mrca_2       per  log2_per\n",
       "0                 0   0.000  1.000000  0.000000\n",
       "0                 0   0.131  0.991525 -0.012280\n",
       "5                 0   0.152  1.220560  0.287543\n",
       "7                 0   0.175  1.197580  0.260122\n",
       "9                 0   0.308  1.125167  0.170139\n",
       "11                0   0.380  1.040995  0.057964\n",
       "13                0   0.490  1.045279  0.063888\n",
       "15                0   0.656  0.850060 -0.234363\n",
       "17                0   0.957  1.006716  0.009657\n",
       "1                 1   0.131  1.031581  0.044857\n",
       "6                 1   0.152  0.725032 -0.463884\n",
       "8                 1   0.175  0.606742 -0.720845\n",
       "10                1   0.308  0.923931 -0.114143\n",
       "12                1   0.380  0.979254 -0.030245\n",
       "14                1   0.490  0.974291 -0.037575\n",
       "16                1   0.656  1.062469  0.087420\n",
       "18                1   0.957  0.994021 -0.008651"
      ]
     },
     "execution_count": 89,
     "metadata": {},
     "output_type": "execute_result"
    }
   ],
   "source": [
    "ot[[ \"core_remodeling\", \"mrca_2\",\"per\", \"log2_per\"]].sort_values(by = [\"core_remodeling\", \"mrca_2\",])"
   ]
  },
  {
   "cell_type": "code",
   "execution_count": 98,
   "metadata": {},
   "outputs": [
    {
     "data": {
      "text/plain": [
       "<matplotlib.legend.Legend at 0x2abf411f7da0>"
      ]
     },
     "execution_count": 98,
     "metadata": {},
     "output_type": "execute_result"
    },
    {
     "data": {
      "image/png": "[encoded data removed]",
      "text/plain": [
       "<matplotlib.figure.Figure at 0x2abf41009b38>"
      ]
     },
     "metadata": {},
     "output_type": "display_data"
    }
   ],
   "source": [
    "% matplotlib inline\n",
    "fig, ax = plt.subplots() \n",
    "xlabs = [\"homo\",\"prim+euar\", \"bore\", \"euth\", \"ther\", \"mam\", \"amni\", \"tetr\", \"vert\"]\n",
    "x, y = \"mrca_2\", \"log2_per\"\n",
    "hue = \"core_remodeling\"\n",
    "data = ot\n",
    "\n",
    "sns.barplot(data = data, x = x, y = y, hue = hue, ax = ax)\n",
    "ax.set(ylabel = \"fold change (log2)\",\n",
    "      title = \"arch per age\\nobs/exp\")\n",
    "ax.set_xticklabels(xlabs, rotation = 90)\n",
    "plt.axhline(0)\n",
    "plt.legend(bbox_to_anchor = (1,1))\n"
   ]
  },
  {
   "cell_type": "markdown",
   "metadata": {
    "collapsed": true
   },
   "source": [
    "# cancer enhancers have...\n",
    "- more complex primate enhancers than expected,\n",
    "- more simple euar, bore, euth, ther, mam, amni, than expected. "
   ]
  },
  {
   "cell_type": "code",
   "execution_count": 86,
   "metadata": {
    "collapsed": true
   },
   "outputs": [],
   "source": [
    "mrcas = [\"0.126\", \"0.131\"]\n",
    "collapse = ot.loc[ot.mrca_2.isin(mrcas)]\n",
    "# drop the euarch and primate mrca\n",
    "ot = ot.drop([1,2,3,4], axis = 0)"
   ]
  },
  {
   "cell_type": "code",
   "execution_count": 87,
   "metadata": {
    "collapsed": true
   },
   "outputs": [],
   "source": [
    "cols = [\"enh_count\",\"enh_total\", \"shuf_count\", \"shuf_total\"]\n",
    "collapse = collapse.groupby(\"core_remodeling\")[cols].sum().reset_index()\n",
    "collapse[\"mrca_2\"] = 0.131\n",
    "collapse[\"enh_percent_arch_per_age\"] = collapse.enh_count.divide(collapse.enh_total)\n",
    "collapse[\"shuf_percent_arch_per_age\"] = collapse.shuf_count.divide(collapse.shuf_total)\n",
    "collapse[\"per\"] = collapse[\"enh_percent_arch_per_age\"].divide(collapse[\"shuf_percent_arch_per_age\"])\n",
    "collapse[\"log2_per\"] = np.log2(collapse[\"per\"])"
   ]
  },
  {
   "cell_type": "code",
   "execution_count": 88,
   "metadata": {
    "collapsed": true
   },
   "outputs": [],
   "source": [
    "ot = pd.concat([ot, collapse])"
   ]
  },
  {
   "cell_type": "markdown",
   "metadata": {},
   "source": [
    "# per sequence age, are cancer associated enhancers enriched for simple architectures?\n",
    "- per age, take simple and complex enhancer counts\n",
    "- calculate 2x2 FET of simple|not simple x enh|shuffle\n",
    "- euar and primate are combined together, small sample size"
   ]
  },
  {
   "cell_type": "code",
   "execution_count": 69,
   "metadata": {
    "collapsed": true
   },
   "outputs": [],
   "source": [
    "mrca_results = {}\n",
    "for m in ot.mrca_2.unique():\n",
    "    if m != 0:\n",
    "        test = ot.loc[ot.mrca_2 == m]\n",
    "\n",
    "        simple_enh = test.loc[test.core_remodeling == 0, \"enh_count\"].iloc[0]\n",
    "        complex_enh = test.loc[test.core_remodeling != 0, \"enh_count\"].iloc[0]\n",
    "\n",
    "        simple_shuf = test.loc[test.core_remodeling == 0, \"shuf_count\"].iloc[0]\n",
    "        complex_shuf = test.loc[test.core_remodeling != 0, \"shuf_count\"].iloc[0]\n",
    "        obs = [[simple_enh,complex_enh], [simple_shuf,complex_shuf]]\n",
    "\n",
    "\n",
    "\n",
    "        OR, P = stats.fisher_exact(obs)\n",
    "        obs = np.array(obs) # \n",
    "        table = sm.stats.Table2x2(obs) # get confidence interval\n",
    "        odds_ci = table.oddsratio_confint()\n",
    "        new_df = pd.DataFrame({\n",
    "            \"OR\":[OR],\n",
    "            \"P\":[P],\n",
    "            \"mrca_2\":[m],\n",
    "            \"n_simple_enh\":[simple_enh],\n",
    "            \"n_complex_enh\":[complex_enh],\n",
    "            \"n_simple_shuf\":[simple_shuf],\n",
    "            \"n_complex_shuf\":[complex_shuf],\n",
    "            \"ci_lower\" :[odds_ci[0]],\n",
    "            \"ci_upper\" :[odds_ci[1]],\n",
    "            \"yerr\":[odds_ci[1] - odds_ci[0]], \n",
    "            \"log2\":[np.log2(OR)]\n",
    "        })\n",
    "        mrca_results[m] = new_df"
   ]
  },
  {
   "cell_type": "code",
   "execution_count": 70,
   "metadata": {
    "collapsed": true
   },
   "outputs": [],
   "source": [
    "mrca_ = pd.concat(mrca_results.values())"
   ]
  },
  {
   "cell_type": "markdown",
   "metadata": {},
   "source": [
    "# plot the results per MRCA"
   ]
  },
  {
   "cell_type": "code",
   "execution_count": 79,
   "metadata": {},
   "outputs": [
    {
     "data": {
      "image/png": "[encoded data removed]",
      "text/plain": [
       "<matplotlib.figure.Figure at 0x2abf40822780>"
      ]
     },
     "metadata": {},
     "output_type": "display_data"
    }
   ],
   "source": [
    "fig, ax = plt.subplots()\n",
    "sns.set(\"poster\")\n",
    "sns.set_style(\"white\")\n",
    "\n",
    "xlabs = [\"euar+prim\", \"bore\", \"euth\", \"ther\", \"mam\", \"amni\", \"tetr\", \"vert\"]\n",
    "x, y = \"mrca_2\", \"log2\"\n",
    "data = mrca_.sort_values(by = \"mrca_2\")\n",
    "\n",
    "sns.barplot(x = x, y = y, data = data,\n",
    "            linewidth=2.5, \n",
    "            edgecolor=\".2\",\n",
    "            yerr = data.sort_values(by = \"mrca_2\")[\"yerr\"])\n",
    "\n",
    "\n",
    "ax.set(ylabel= \"Fold Change v. Bkgd\\n(log2-scaled)\",\n",
    "       title = \"Simple cancer eRNA enrichment per age\", \n",
    "       xlabel = \"\")\n",
    "\n",
    "ax.set_xticklabels(xlabs)\n",
    "\n",
    "plt.axhline(0, color = \"grey\", linewidth = 2.5)\n",
    "\n",
    "ticks = ticker.FuncFormatter(lambda x, pos: '{0:g}'.format(round(2**x, 1)))\n",
    "\n",
    "ax.yaxis.set_major_formatter(ticks)\n",
    "ax.yaxis.set_major_locator(MultipleLocator(1))\n",
    "ax.set_xticklabels(ax.get_xticklabels(), rotation = 90)\n",
    "\n",
    "plt.savefig(\"%ssimple_odds_chen_per_mrca.pdf\" % RE, bbox_inches = 'tight')"
   ]
  },
  {
   "cell_type": "markdown",
   "metadata": {},
   "source": [
    "#"
   ]
  }
 ],
 "metadata": {
  "kernelspec": {
   "display_name": "Python (sfenv)",
   "language": "python",
   "name": "sfenv"
  },
  "language_info": {
   "codemirror_mode": {
    "name": "ipython",
    "version": 3
   },
   "file_extension": ".py",
   "mimetype": "text/x-python",
   "name": "python",
   "nbconvert_exporter": "python",
   "pygments_lexer": "ipython3",
   "version": "3.6.6"
  }
 },
 "nbformat": 4,
 "nbformat_minor": 4
}
