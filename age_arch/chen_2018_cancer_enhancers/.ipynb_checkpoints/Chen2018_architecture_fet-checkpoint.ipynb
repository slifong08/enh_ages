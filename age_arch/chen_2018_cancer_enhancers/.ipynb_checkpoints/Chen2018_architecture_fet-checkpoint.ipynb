{
 "cells": [
  {
   "cell_type": "code",
   "execution_count": 1,
   "metadata": {},
   "outputs": [],
   "source": [
    "# 20210802 \n",
    "# sarahfong\n",
    "\n",
    "import os, sys\n",
    "import pandas as pd\n",
    "from scipy import stats\n",
    "import subprocess"
   ]
  },
  {
   "cell_type": "code",
   "execution_count": 2,
   "metadata": {},
   "outputs": [],
   "source": [
    "PATH = \"/dors/capra_lab/projects/enhancer_ages/chen_2018/\""
   ]
  },
  {
   "cell_type": "code",
   "execution_count": 3,
   "metadata": {},
   "outputs": [],
   "source": [
    "F = f\"{PATH}chen_2018_15808_eRNA.csv\"\n",
    "\n",
    "OUTF = f\"{PATH}chen_2018_15808_eRNA.bed\""
   ]
  },
  {
   "cell_type": "code",
   "execution_count": 4,
   "metadata": {},
   "outputs": [],
   "source": [
    "def saveas_bed(f, outf):\n",
    "    df = pd.read_csv(f)\n",
    "    df.to_csv(outf, sep = '\\t', index = False)\n",
    "    df.columns = [\"#chr_enh\", \"start_enh\", \"end_enh\"]\n",
    "    df[\"chen2018\"] = 1\n",
    "    \n",
    "    return df\n",
    "\n",
    "chen2018 = saveas_bed(F, OUTF)"
   ]
  },
  {
   "cell_type": "code",
   "execution_count": 5,
   "metadata": {},
   "outputs": [],
   "source": [
    "FANTOMPATH = \"/dors/capra_lab/projects/enhancer_ages/fantom/data/non-genic/no-exon_all_fantom_enh/breaks/\"\n",
    "FANTOM = f\"{FANTOMPATH}no-exon_all_fantom_enh_ages_enh_age_arch_summary_matrix.bed\"\n",
    "\n",
    "def format_fantom(fantom_file):\n",
    "    fdf = pd.read_csv(FANTOM, sep = '\\t').drop_duplicates()\n",
    "    fdf.drop([\"sample_id\"], axis = 1)\n",
    "    fdf = fdf.loc[fdf[\"#chr_enh\"] != \"chrX\"] # remove X chromosome\n",
    "    return fdf"
   ]
  },
  {
   "cell_type": "code",
   "execution_count": 6,
   "metadata": {},
   "outputs": [],
   "source": [
    "fdf = format_fantom(FANTOM)"
   ]
  },
  {
   "cell_type": "code",
   "execution_count": 7,
   "metadata": {},
   "outputs": [
    {
     "data": {
      "text/html": [
       "<div>\n",
       "<style scoped>\n",
       "    .dataframe tbody tr th:only-of-type {\n",
       "        vertical-align: middle;\n",
       "    }\n",
       "\n",
       "    .dataframe tbody tr th {\n",
       "        vertical-align: top;\n",
       "    }\n",
       "\n",
       "    .dataframe thead th {\n",
       "        text-align: right;\n",
       "    }\n",
       "</style>\n",
       "<table border=\"1\" class=\"dataframe\">\n",
       "  <thead>\n",
       "    <tr style=\"text-align: right;\">\n",
       "      <th></th>\n",
       "      <th>#chr_enh</th>\n",
       "      <th>start_enh</th>\n",
       "      <th>end_enh</th>\n",
       "      <th>enh_id</th>\n",
       "      <th>sample_id</th>\n",
       "      <th>seg_index</th>\n",
       "      <th>core_remodeling</th>\n",
       "      <th>arch</th>\n",
       "      <th>mrca</th>\n",
       "      <th>taxon</th>\n",
       "      <th>mrca_2</th>\n",
       "      <th>taxon2</th>\n",
       "    </tr>\n",
       "  </thead>\n",
       "  <tbody>\n",
       "    <tr>\n",
       "      <th>0</th>\n",
       "      <td>chr10</td>\n",
       "      <td>100074404</td>\n",
       "      <td>100074582</td>\n",
       "      <td>chr10:100074404-100074582</td>\n",
       "      <td>2</td>\n",
       "      <td>1</td>\n",
       "      <td>0</td>\n",
       "      <td>simple</td>\n",
       "      <td>0.175</td>\n",
       "      <td>Eutheria</td>\n",
       "      <td>0.175</td>\n",
       "      <td>Eutheria (105)</td>\n",
       "    </tr>\n",
       "    <tr>\n",
       "      <th>1</th>\n",
       "      <td>chr10</td>\n",
       "      <td>100076038</td>\n",
       "      <td>100076149</td>\n",
       "      <td>chr10:100076038-100076149</td>\n",
       "      <td>2</td>\n",
       "      <td>1</td>\n",
       "      <td>0</td>\n",
       "      <td>simple</td>\n",
       "      <td>0.380</td>\n",
       "      <td>Mammalia</td>\n",
       "      <td>0.380</td>\n",
       "      <td>Mammalia (177)</td>\n",
       "    </tr>\n",
       "    <tr>\n",
       "      <th>2</th>\n",
       "      <td>chr10</td>\n",
       "      <td>100076500</td>\n",
       "      <td>100076699</td>\n",
       "      <td>chr10:100076500-100076699</td>\n",
       "      <td>30</td>\n",
       "      <td>2</td>\n",
       "      <td>1</td>\n",
       "      <td>complexenh</td>\n",
       "      <td>0.380</td>\n",
       "      <td>Mammalia</td>\n",
       "      <td>0.380</td>\n",
       "      <td>Mammalia (177)</td>\n",
       "    </tr>\n",
       "    <tr>\n",
       "      <th>3</th>\n",
       "      <td>chr10</td>\n",
       "      <td>100082942</td>\n",
       "      <td>100083374</td>\n",
       "      <td>chr10:100082942-100083374</td>\n",
       "      <td>1</td>\n",
       "      <td>1</td>\n",
       "      <td>0</td>\n",
       "      <td>simple</td>\n",
       "      <td>0.175</td>\n",
       "      <td>Eutheria</td>\n",
       "      <td>0.175</td>\n",
       "      <td>Eutheria (105)</td>\n",
       "    </tr>\n",
       "    <tr>\n",
       "      <th>4</th>\n",
       "      <td>chr10</td>\n",
       "      <td>100120877</td>\n",
       "      <td>100121283</td>\n",
       "      <td>chr10:100120877-100121283</td>\n",
       "      <td>23</td>\n",
       "      <td>1</td>\n",
       "      <td>0</td>\n",
       "      <td>simple</td>\n",
       "      <td>0.152</td>\n",
       "      <td>Boreoeutheria</td>\n",
       "      <td>0.152</td>\n",
       "      <td>Boreoeutheria (96)</td>\n",
       "    </tr>\n",
       "  </tbody>\n",
       "</table>\n",
       "</div>"
      ],
      "text/plain": [
       "  #chr_enh  start_enh    end_enh                     enh_id  sample_id  \\\n",
       "0    chr10  100074404  100074582  chr10:100074404-100074582          2   \n",
       "1    chr10  100076038  100076149  chr10:100076038-100076149          2   \n",
       "2    chr10  100076500  100076699  chr10:100076500-100076699         30   \n",
       "3    chr10  100082942  100083374  chr10:100082942-100083374          1   \n",
       "4    chr10  100120877  100121283  chr10:100120877-100121283         23   \n",
       "\n",
       "   seg_index  core_remodeling        arch   mrca          taxon  mrca_2  \\\n",
       "0          1                0      simple  0.175       Eutheria   0.175   \n",
       "1          1                0      simple  0.380       Mammalia   0.380   \n",
       "2          2                1  complexenh  0.380       Mammalia   0.380   \n",
       "3          1                0      simple  0.175       Eutheria   0.175   \n",
       "4          1                0      simple  0.152  Boreoeutheria   0.152   \n",
       "\n",
       "               taxon2  \n",
       "0      Eutheria (105)  \n",
       "1      Mammalia (177)  \n",
       "2      Mammalia (177)  \n",
       "3      Eutheria (105)  \n",
       "4  Boreoeutheria (96)  "
      ]
     },
     "execution_count": 7,
     "metadata": {},
     "output_type": "execute_result"
    }
   ],
   "source": [
    "fdf.head()"
   ]
  },
  {
   "cell_type": "code",
   "execution_count": 8,
   "metadata": {},
   "outputs": [
    {
     "data": {
      "text/html": [
       "<div>\n",
       "<style scoped>\n",
       "    .dataframe tbody tr th:only-of-type {\n",
       "        vertical-align: middle;\n",
       "    }\n",
       "\n",
       "    .dataframe tbody tr th {\n",
       "        vertical-align: top;\n",
       "    }\n",
       "\n",
       "    .dataframe thead th {\n",
       "        text-align: right;\n",
       "    }\n",
       "</style>\n",
       "<table border=\"1\" class=\"dataframe\">\n",
       "  <thead>\n",
       "    <tr style=\"text-align: right;\">\n",
       "      <th></th>\n",
       "      <th>#chr_enh</th>\n",
       "      <th>start_enh</th>\n",
       "      <th>end_enh</th>\n",
       "      <th>chen2018</th>\n",
       "    </tr>\n",
       "  </thead>\n",
       "  <tbody>\n",
       "    <tr>\n",
       "      <th>0</th>\n",
       "      <td>chr10</td>\n",
       "      <td>11917828</td>\n",
       "      <td>11918087</td>\n",
       "      <td>1</td>\n",
       "    </tr>\n",
       "    <tr>\n",
       "      <th>1</th>\n",
       "      <td>chr10</td>\n",
       "      <td>11924114</td>\n",
       "      <td>11924319</td>\n",
       "      <td>1</td>\n",
       "    </tr>\n",
       "    <tr>\n",
       "      <th>2</th>\n",
       "      <td>chr10</td>\n",
       "      <td>127432481</td>\n",
       "      <td>127432807</td>\n",
       "      <td>1</td>\n",
       "    </tr>\n",
       "    <tr>\n",
       "      <th>3</th>\n",
       "      <td>chr10</td>\n",
       "      <td>127440633</td>\n",
       "      <td>127440786</td>\n",
       "      <td>1</td>\n",
       "    </tr>\n",
       "    <tr>\n",
       "      <th>4</th>\n",
       "      <td>chr10</td>\n",
       "      <td>134260341</td>\n",
       "      <td>134260546</td>\n",
       "      <td>1</td>\n",
       "    </tr>\n",
       "  </tbody>\n",
       "</table>\n",
       "</div>"
      ],
      "text/plain": [
       "  #chr_enh  start_enh    end_enh  chen2018\n",
       "0    chr10   11917828   11918087         1\n",
       "1    chr10   11924114   11924319         1\n",
       "2    chr10  127432481  127432807         1\n",
       "3    chr10  127440633  127440786         1\n",
       "4    chr10  134260341  134260546         1"
      ]
     },
     "execution_count": 8,
     "metadata": {},
     "output_type": "execute_result"
    }
   ],
   "source": [
    "chen2018.head()"
   ]
  },
  {
   "cell_type": "code",
   "execution_count": 9,
   "metadata": {},
   "outputs": [],
   "source": [
    "df = pd.merge(fdf, chen2018, how = \"left\")"
   ]
  },
  {
   "cell_type": "code",
   "execution_count": 10,
   "metadata": {},
   "outputs": [
    {
     "data": {
      "text/plain": [
       "1.0    7337\n",
       "Name: chen2018, dtype: int64"
      ]
     },
     "execution_count": 10,
     "metadata": {},
     "output_type": "execute_result"
    }
   ],
   "source": [
    "df[\"chen2018\"].value_counts()"
   ]
  },
  {
   "cell_type": "code",
   "execution_count": 11,
   "metadata": {},
   "outputs": [
    {
     "data": {
      "text/plain": [
       "chen2018  core_remodeling\n",
       "1.0       0                  4893\n",
       "          1                  2444\n",
       "Name: enh_id, dtype: int64"
      ]
     },
     "execution_count": 11,
     "metadata": {},
     "output_type": "execute_result"
    }
   ],
   "source": [
    "df.groupby([\"chen2018\", \"core_remodeling\"])[\"enh_id\"].count()"
   ]
  },
  {
   "cell_type": "code",
   "execution_count": 12,
   "metadata": {},
   "outputs": [
    {
     "data": {
      "text/plain": [
       "core_remodeling\n",
       "0    19857\n",
       "1    10581\n",
       "Name: enh_id, dtype: int64"
      ]
     },
     "execution_count": 12,
     "metadata": {},
     "output_type": "execute_result"
    }
   ],
   "source": [
    "df.groupby([\"core_remodeling\"])[\"enh_id\"].count()"
   ]
  },
  {
   "cell_type": "code",
   "execution_count": 21,
   "metadata": {},
   "outputs": [],
   "source": [
    "#[[simple_overlapping, simple_nonoverlapping], [complex_overlapping, complex_non-overlapping]]\n",
    "obs = [[4893, (19857-4893)], [2444, (10581- 2444) ]]"
   ]
  },
  {
   "cell_type": "code",
   "execution_count": 23,
   "metadata": {},
   "outputs": [
    {
     "data": {
      "text/plain": [
       "(1.0886559001833533, 0.0027262821375089005)"
      ]
     },
     "execution_count": 23,
     "metadata": {},
     "output_type": "execute_result"
    }
   ],
   "source": [
    "stats.fisher_exact(obs)"
   ]
  },
  {
   "cell_type": "markdown",
   "metadata": {},
   "source": [
    "# simple enhancers are enriched for cancer enhancers. "
   ]
  },
  {
   "cell_type": "code",
   "execution_count": 16,
   "metadata": {},
   "outputs": [
    {
     "data": {
      "text/plain": [
       "0"
      ]
     },
     "execution_count": 16,
     "metadata": {},
     "output_type": "execute_result"
    }
   ],
   "source": [
    "intOut = f\"{PATH}chen_x_fantom_no_exon_ages.bed\" \n",
    "a = \"/dors/capra_lab/projects/enhancer_ages/fantom/data/non-genic/no-exon_all_fantom_enh.bed\"\n",
    "cmd = f\"bedtools intersect -a {a} -b {OUTF} -wao> {intOut}\"\n",
    "subprocess.call(cmd, shell = True)\n"
   ]
  },
  {
   "cell_type": "code",
   "execution_count": 17,
   "metadata": {},
   "outputs": [],
   "source": [
    "def format_int(intOut):\n",
    "    df = pd.read_csv(intOut, sep = '\\t', header = None)\n",
    "    df[\"chen2018_overlap\"] = 0\n",
    "    df.loc[df[8]>0,\"chen2018_overlap\"] = 1\n",
    "    df = df.drop([3,4,5,6,7,8], axis = 1)\n",
    "    df.columns = [\"#chr_enh\", \"start_enh\", \"end_enh\", \"chen2018_overlap\"]\n",
    "    return df\n",
    "    "
   ]
  },
  {
   "cell_type": "code",
   "execution_count": 18,
   "metadata": {},
   "outputs": [
    {
     "data": {
      "text/html": [
       "<div>\n",
       "<style scoped>\n",
       "    .dataframe tbody tr th:only-of-type {\n",
       "        vertical-align: middle;\n",
       "    }\n",
       "\n",
       "    .dataframe tbody tr th {\n",
       "        vertical-align: top;\n",
       "    }\n",
       "\n",
       "    .dataframe thead th {\n",
       "        text-align: right;\n",
       "    }\n",
       "</style>\n",
       "<table border=\"1\" class=\"dataframe\">\n",
       "  <thead>\n",
       "    <tr style=\"text-align: right;\">\n",
       "      <th></th>\n",
       "      <th>#chr_enh</th>\n",
       "      <th>start_enh</th>\n",
       "      <th>end_enh</th>\n",
       "      <th>chen2018_overlap</th>\n",
       "    </tr>\n",
       "  </thead>\n",
       "  <tbody>\n",
       "    <tr>\n",
       "      <th>0</th>\n",
       "      <td>chr1</td>\n",
       "      <td>100000188</td>\n",
       "      <td>100000393</td>\n",
       "      <td>0</td>\n",
       "    </tr>\n",
       "    <tr>\n",
       "      <th>1</th>\n",
       "      <td>chr1</td>\n",
       "      <td>100104444</td>\n",
       "      <td>100104686</td>\n",
       "      <td>0</td>\n",
       "    </tr>\n",
       "    <tr>\n",
       "      <th>2</th>\n",
       "      <td>chr1</td>\n",
       "      <td>100113534</td>\n",
       "      <td>100114036</td>\n",
       "      <td>0</td>\n",
       "    </tr>\n",
       "    <tr>\n",
       "      <th>3</th>\n",
       "      <td>chr1</td>\n",
       "      <td>100138206</td>\n",
       "      <td>100138591</td>\n",
       "      <td>0</td>\n",
       "    </tr>\n",
       "    <tr>\n",
       "      <th>4</th>\n",
       "      <td>chr1</td>\n",
       "      <td>100169951</td>\n",
       "      <td>100170218</td>\n",
       "      <td>0</td>\n",
       "    </tr>\n",
       "  </tbody>\n",
       "</table>\n",
       "</div>"
      ],
      "text/plain": [
       "  #chr_enh  start_enh    end_enh  chen2018_overlap\n",
       "0     chr1  100000188  100000393                 0\n",
       "1     chr1  100104444  100104686                 0\n",
       "2     chr1  100113534  100114036                 0\n",
       "3     chr1  100138206  100138591                 0\n",
       "4     chr1  100169951  100170218                 0"
      ]
     },
     "execution_count": 18,
     "metadata": {},
     "output_type": "execute_result"
    }
   ],
   "source": [
    "intdf = format_int(intOut)\n",
    "intdf.head()"
   ]
  },
  {
   "cell_type": "markdown",
   "metadata": {},
   "source": [
    "# intersect with ages!"
   ]
  },
  {
   "cell_type": "code",
   "execution_count": 19,
   "metadata": {},
   "outputs": [
    {
     "data": {
      "text/html": [
       "<div>\n",
       "<style scoped>\n",
       "    .dataframe tbody tr th:only-of-type {\n",
       "        vertical-align: middle;\n",
       "    }\n",
       "\n",
       "    .dataframe tbody tr th {\n",
       "        vertical-align: top;\n",
       "    }\n",
       "\n",
       "    .dataframe thead th {\n",
       "        text-align: right;\n",
       "    }\n",
       "</style>\n",
       "<table border=\"1\" class=\"dataframe\">\n",
       "  <thead>\n",
       "    <tr style=\"text-align: right;\">\n",
       "      <th></th>\n",
       "      <th>#chr_enh</th>\n",
       "      <th>start_enh</th>\n",
       "      <th>end_enh</th>\n",
       "      <th>enh_id</th>\n",
       "      <th>sample_id</th>\n",
       "      <th>seg_index</th>\n",
       "      <th>core_remodeling</th>\n",
       "      <th>arch</th>\n",
       "      <th>mrca</th>\n",
       "      <th>taxon</th>\n",
       "      <th>mrca_2</th>\n",
       "      <th>taxon2</th>\n",
       "      <th>chen2018</th>\n",
       "      <th>chen2018_overlap</th>\n",
       "    </tr>\n",
       "  </thead>\n",
       "  <tbody>\n",
       "    <tr>\n",
       "      <th>0</th>\n",
       "      <td>chr10</td>\n",
       "      <td>100074404</td>\n",
       "      <td>100074582</td>\n",
       "      <td>chr10:100074404-100074582</td>\n",
       "      <td>2</td>\n",
       "      <td>1</td>\n",
       "      <td>0</td>\n",
       "      <td>simple</td>\n",
       "      <td>0.175</td>\n",
       "      <td>Eutheria</td>\n",
       "      <td>0.175</td>\n",
       "      <td>Eutheria (105)</td>\n",
       "      <td>NaN</td>\n",
       "      <td>0</td>\n",
       "    </tr>\n",
       "    <tr>\n",
       "      <th>1</th>\n",
       "      <td>chr10</td>\n",
       "      <td>100076038</td>\n",
       "      <td>100076149</td>\n",
       "      <td>chr10:100076038-100076149</td>\n",
       "      <td>2</td>\n",
       "      <td>1</td>\n",
       "      <td>0</td>\n",
       "      <td>simple</td>\n",
       "      <td>0.380</td>\n",
       "      <td>Mammalia</td>\n",
       "      <td>0.380</td>\n",
       "      <td>Mammalia (177)</td>\n",
       "      <td>NaN</td>\n",
       "      <td>0</td>\n",
       "    </tr>\n",
       "    <tr>\n",
       "      <th>2</th>\n",
       "      <td>chr10</td>\n",
       "      <td>100076500</td>\n",
       "      <td>100076699</td>\n",
       "      <td>chr10:100076500-100076699</td>\n",
       "      <td>30</td>\n",
       "      <td>2</td>\n",
       "      <td>1</td>\n",
       "      <td>complexenh</td>\n",
       "      <td>0.380</td>\n",
       "      <td>Mammalia</td>\n",
       "      <td>0.380</td>\n",
       "      <td>Mammalia (177)</td>\n",
       "      <td>NaN</td>\n",
       "      <td>0</td>\n",
       "    </tr>\n",
       "    <tr>\n",
       "      <th>3</th>\n",
       "      <td>chr10</td>\n",
       "      <td>100082942</td>\n",
       "      <td>100083374</td>\n",
       "      <td>chr10:100082942-100083374</td>\n",
       "      <td>1</td>\n",
       "      <td>1</td>\n",
       "      <td>0</td>\n",
       "      <td>simple</td>\n",
       "      <td>0.175</td>\n",
       "      <td>Eutheria</td>\n",
       "      <td>0.175</td>\n",
       "      <td>Eutheria (105)</td>\n",
       "      <td>NaN</td>\n",
       "      <td>0</td>\n",
       "    </tr>\n",
       "    <tr>\n",
       "      <th>4</th>\n",
       "      <td>chr10</td>\n",
       "      <td>100120877</td>\n",
       "      <td>100121283</td>\n",
       "      <td>chr10:100120877-100121283</td>\n",
       "      <td>23</td>\n",
       "      <td>1</td>\n",
       "      <td>0</td>\n",
       "      <td>simple</td>\n",
       "      <td>0.152</td>\n",
       "      <td>Boreoeutheria</td>\n",
       "      <td>0.152</td>\n",
       "      <td>Boreoeutheria (96)</td>\n",
       "      <td>NaN</td>\n",
       "      <td>0</td>\n",
       "    </tr>\n",
       "  </tbody>\n",
       "</table>\n",
       "</div>"
      ],
      "text/plain": [
       "  #chr_enh  start_enh    end_enh                     enh_id  sample_id  \\\n",
       "0    chr10  100074404  100074582  chr10:100074404-100074582          2   \n",
       "1    chr10  100076038  100076149  chr10:100076038-100076149          2   \n",
       "2    chr10  100076500  100076699  chr10:100076500-100076699         30   \n",
       "3    chr10  100082942  100083374  chr10:100082942-100083374          1   \n",
       "4    chr10  100120877  100121283  chr10:100120877-100121283         23   \n",
       "\n",
       "   seg_index  core_remodeling        arch   mrca          taxon  mrca_2  \\\n",
       "0          1                0      simple  0.175       Eutheria   0.175   \n",
       "1          1                0      simple  0.380       Mammalia   0.380   \n",
       "2          2                1  complexenh  0.380       Mammalia   0.380   \n",
       "3          1                0      simple  0.175       Eutheria   0.175   \n",
       "4          1                0      simple  0.152  Boreoeutheria   0.152   \n",
       "\n",
       "               taxon2  chen2018  chen2018_overlap  \n",
       "0      Eutheria (105)       NaN                 0  \n",
       "1      Mammalia (177)       NaN                 0  \n",
       "2      Mammalia (177)       NaN                 0  \n",
       "3      Eutheria (105)       NaN                 0  \n",
       "4  Boreoeutheria (96)       NaN                 0  "
      ]
     },
     "execution_count": 19,
     "metadata": {},
     "output_type": "execute_result"
    }
   ],
   "source": [
    "df = pd.merge(df,intdf, how = \"left\")\n",
    "df.head()"
   ]
  },
  {
   "cell_type": "code",
   "execution_count": 20,
   "metadata": {},
   "outputs": [
    {
     "data": {
      "text/plain": [
       "0    23101\n",
       "1     7337\n",
       "Name: chen2018_overlap, dtype: int64"
      ]
     },
     "execution_count": 20,
     "metadata": {},
     "output_type": "execute_result"
    }
   ],
   "source": [
    "df[\"chen2018_overlap\"].value_counts()"
   ]
  },
  {
   "cell_type": "code",
   "execution_count": null,
   "metadata": {},
   "outputs": [],
   "source": [
    "df[\"chen2018_overlap\"].value_counts()"
   ]
  }
 ],
 "metadata": {
  "kernelspec": {
   "display_name": "Python (sfenv)",
   "language": "python",
   "name": "sfenv"
  },
  "language_info": {
   "codemirror_mode": {
    "name": "ipython",
    "version": 3
   },
   "file_extension": ".py",
   "mimetype": "text/x-python",
   "name": "python",
   "nbconvert_exporter": "python",
   "pygments_lexer": "ipython3",
   "version": "3.6.10"
  }
 },
 "nbformat": 4,
 "nbformat_minor": 4
}
