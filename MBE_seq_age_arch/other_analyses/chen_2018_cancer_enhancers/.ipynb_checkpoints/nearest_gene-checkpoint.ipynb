{
 "cells": [
  {
   "cell_type": "code",
   "execution_count": 169,
   "metadata": {},
   "outputs": [
    {
     "name": "stderr",
     "output_type": "stream",
     "text": [
      "/accre/arch/easybuild/software/BinDist/Anaconda3/5.0.1/lib/python3.6/site-packages/statsmodels/compat/pandas.py:56: FutureWarning: The pandas.core.datetools module is deprecated and will be removed in a future version. Please use the pandas.tseries module instead.\n",
      "  from pandas.core import datetools\n"
     ]
    }
   ],
   "source": [
    "# 20210823\n",
    "# sarahfong\n",
    "import glob\n",
    "import matplotlib.pyplot as plt\n",
    "from matplotlib.ticker import MultipleLocator\n",
    "import matplotlib.ticker as ticker\n",
    "import numpy as np\n",
    "import os, sys\n",
    "\n",
    "import pandas as pd\n",
    "from scipy import stats\n",
    "import seaborn as sns \n",
    "import statsmodels\n",
    "import statsmodels.api as sm\n",
    "import subprocess"
   ]
  },
  {
   "cell_type": "markdown",
   "metadata": {},
   "source": [
    "# paths\n",
    "- GENCODE transcripts in hg19, coding exon sequences only, not whole transcript\n",
    "- Transcript - Gene Symbol mapping from Ensembl\n",
    "\n",
    "- COSMIC cancer gene census tier 1, hg38 \n",
    "- Cancer associated FANTOM enhancers from Chen 2018, hg19\n",
    "- 100x shuffled Chen 2018 enhancers, aged + architecture assigned"
   ]
  },
  {
   "cell_type": "code",
   "execution_count": 113,
   "metadata": {
    "collapsed": true
   },
   "outputs": [],
   "source": [
    "BASE_PATH = \"/dors/capra_lab/projects/enhancer_ages/\"\n",
    "\n",
    "GENCODE_F = os.path.join(BASE_PATH, \"dna\" , \"gencode\", \"GENCODE_v38_lift37_hg19_cds.bed\")\n",
    "\n",
    "GENE_F = os.path.join(BASE_PATH, \"dna\" , \"gencode\", \"ensembl_human_genes_GRCh38.p13.txt\")\n",
    "\n",
    "COSMIC_F = os.path.join(BASE_PATH, \"cosmic\", \"Census_tier1_Aug 23 04_22_27 2021_hg38.tsv\")\n",
    "\n",
    "# chen enhancers\n",
    "OUTPATH = os.path.join(BASE_PATH, \"chen_2018\")\n",
    "\n",
    "CHEN_F = os.path.join(OUTPATH, \"sorted.bed\")\n",
    "CHEN_ARCH = os.path.join(OUTPATH, \"sorted\", \"breaks\", \"sorted_enh_age_arch_summary.bed\")\n",
    "\n",
    "OUTF = os.path.join(OUTPATH, \"enh_x_GENCODE.bed\")  # chen enhancer associated transcripts\n",
    "\n",
    "RES = os.path.join(OUTPATH, \"chen_enh_transcript.tsv\")  # chen enhancer associated genes\n",
    "\n",
    "# shuffles\n",
    "\n",
    "SHUF_CHEN_ARCH = os.path.join(BASE_PATH, \"chen_2018\", \"sorted\",\n",
    "                              \"shuffle\", \"shuf-sorted-*.bed\")\n",
    "\n",
    "os.chdir(OUTPATH)"
   ]
  },
  {
   "cell_type": "markdown",
   "metadata": {},
   "source": [
    "# functions"
   ]
  },
  {
   "cell_type": "code",
   "execution_count": 218,
   "metadata": {
    "collapsed": true
   },
   "outputs": [],
   "source": [
    "def get_nearest_transcript(bedf, outf):\n",
    "    cmd = f\"bedtools sort -i {bedf} > t && mv t {bedf}\"\n",
    "    subprocess.call(cmd, shell = True)\n",
    "\n",
    "    cmd = f\"bedtools closest -a {bedf} -b {GENCODE_F}  -d -wao > {outf}\"\n",
    "    subprocess.call(cmd, shell = True)\n",
    "\n",
    "    \n",
    "def format_enh_transcript_df(outf):\n",
    "    df = pd.read_csv(outf, sep = '\\t', header = None).drop_duplicates() # open enh x transcript intersection file\n",
    "\n",
    "    cols = [\"#chrE\", \"startE\", \"endE\", \"#chr_cds\", \"start\", \"end\", \"id\", \"dist\" ] # -a CHENF, -b GENCODE\n",
    "    df.columns = cols  # rename columns\n",
    "\n",
    "    df = df.loc[(df[\"#chrE\"]!= \"chrY\") & (df[\"#chrE\"]!= \"chrX\")]  # autosomes only\n",
    "\n",
    "    df[\"enh_id\"] = df[\"#chrE\"] + \":\" + df[\"startE\"].map(str) + \"-\" + df[\"endE\"].map(str)  # add enh_id\n",
    "\n",
    "    return df\n",
    "\n",
    "\n",
    "def process_df_transcript_names(df, resf):\n",
    "    res_enst = {}\n",
    "    for n in np.arange(0, df.shape[0]):\n",
    "        enstid = df[\"id\"].iloc[n]  # get the enst id(s). Can be list\n",
    "        enh_id = df[\"enh_id\"].iloc[n] # get the enh_ids\n",
    "        ensts = enstid.split(\"ENST\")\n",
    "        for i in ensts:\n",
    "            if len(i)> 0:\n",
    "                enstid_version = \"ENST\" + i.split(\"_\")[0]\n",
    "                enstid_ = \"ENST\" + i.split(\".\")[0]\n",
    "                res_ = pd.DataFrame({\n",
    "                    \"Transcript stable ID\": [enstid_],\n",
    "                    \"Transcript stable ID version\":[enstid_version],\n",
    "                    \"enh_id\":[enh_id]\n",
    "                })\n",
    "                res_enst[enh_id] = res_\n",
    "    \n",
    "\n",
    "    res = pd.concat(res_enst.values())\n",
    "    res.to_csv(resf, sep = '\\t', index = False)\n",
    "    return res, resf\n",
    "\n",
    "\n",
    "\n",
    "def pipeline(f):\n",
    "    outpath = \"/\".join(f.split(\"/\")[:-1])\n",
    "    \n",
    "    if \"shuf\" in f:\n",
    "\n",
    "        iterN = ((f.split(\"/\")[-1]).split(\"-\")[2]).split(\".bed\")[0]\n",
    "        print(\"shuf:\", iterN, \"\\n\\n\", f)\n",
    "        \n",
    "        transcript_outf = os.path.join(outpath, f\"shuf-{iterN}_x_GENCODE.bed\")\n",
    "        arch_f = os.path.join(outpath, \"breaks\", f\"shuf-sorted-{iterN}_enh_age_arch_summary.bed\")\n",
    "        enh_transcript_f = os.path.join(outpath, f\"shuf-{iterN}_enh_transcript.tsv\")  # chen enhancer associated genes\n",
    "\n",
    "    elif \"fantom\" in f:\n",
    "        \n",
    "        transcript_outf = os.path.join(OUTPATH, \"fantom_enh_x_GENCODE.bed\")\n",
    "        FANTOMPATH = \"/dors/capra_lab/projects/enhancer_ages/fantom/data/non-genic/no-exon_all_fantom_enh/breaks/\"\n",
    "        arch_f = f\"{FANTOMPATH}no-exon_all_fantom_enh_ages_enh_age_arch_summary_matrix.bed\"\n",
    "        RES = os.path.join(OUTPATH, \"FANTOM_enh_transcript.tsv\")  # chen enhancer associated genes\n",
    "        enh_transcript_f = RES\n",
    "\n",
    "    if os.path.exists(transcript_outf) is False:\n",
    "        print(\"make enh x nearest transcript\")\n",
    "        get_nearest_transcript(f, transcript_outf)\n",
    "\n",
    "    df = format_enh_transcript_df(transcript_outf)\n",
    "    \n",
    "\n",
    "    archs = pd.read_csv(arch_f, sep = '\\t').drop_duplicates()\n",
    "\n",
    "    \n",
    "    if os.path.exists(enh_transcript_f) is True:\n",
    "    \n",
    "        res = pd.read_csv(enh_transcript_f, sep = '\\t',).drop_duplicates()\n",
    "\n",
    "    else:\n",
    "        res, resf = process_df_transcript_names(df, enh_transcript_f)\n",
    "\n",
    "\n",
    "    gf = pd.read_csv(GENE_F, sep = '\\t')\n",
    "\n",
    "    merged = pd.merge(res, gf, how = \"left\") # merge enhancer id and enst stable transcript id together\n",
    "\n",
    "    df_merge_cols = [\"enh_id\", \"dist\", \"id\"]\n",
    "    \n",
    "    merged = pd.merge(merged, df[df_merge_cols], how = \"left\")\n",
    "    \n",
    "    archs_merge_cols = [\"enh_id\",\"seg_index\", \"core_remodeling\", \"mrca\", \"taxon\", \"mrca_2\", \"taxon2\"]\n",
    "    merged = pd.merge(merged, archs[archs_merge_cols], how = \"left\")\n",
    "\n",
    "    cosmic_genes = pd.read_csv(COSMIC_F, sep = '\\t')\n",
    "    \n",
    "    merged = pd.merge(merged, cosmic_genes[[\"Gene Symbol\", \"Molecular Genetics\", \"Hallmark\", \"Role in Cancer\"]],\n",
    "                  how = \"left\", left_on = \"Gene name\", right_on = \"Gene Symbol\")\n",
    "    \n",
    "    return merged"
   ]
  },
  {
   "cell_type": "markdown",
   "metadata": {},
   "source": [
    "# intersect enhancers w/ closest transcript\n",
    "- sort bedfile first.\n",
    "- using bedtools closest function, recording distance to nearest transcript"
   ]
  },
  {
   "cell_type": "code",
   "execution_count": 115,
   "metadata": {
    "collapsed": true
   },
   "outputs": [],
   "source": [
    "if os.path.exists(OUTF) is False:\n",
    "    get_nearest_transcript(CHENF, OUTF)"
   ]
  },
  {
   "cell_type": "markdown",
   "metadata": {},
   "source": [
    "# open enh-transcript dataframe\n",
    "- name columns (-a CHENF, -b GENCODE)\n",
    "- autosomes only\n",
    "- assign enhancer id"
   ]
  },
  {
   "cell_type": "code",
   "execution_count": 116,
   "metadata": {},
   "outputs": [
    {
     "data": {
      "text/html": [
       "<div>\n",
       "<style>\n",
       "    .dataframe thead tr:only-child th {\n",
       "        text-align: right;\n",
       "    }\n",
       "\n",
       "    .dataframe thead th {\n",
       "        text-align: left;\n",
       "    }\n",
       "\n",
       "    .dataframe tbody tr th {\n",
       "        vertical-align: top;\n",
       "    }\n",
       "</style>\n",
       "<table border=\"1\" class=\"dataframe\">\n",
       "  <thead>\n",
       "    <tr style=\"text-align: right;\">\n",
       "      <th></th>\n",
       "      <th>#chrE</th>\n",
       "      <th>startE</th>\n",
       "      <th>endE</th>\n",
       "      <th>#chr_cds</th>\n",
       "      <th>start</th>\n",
       "      <th>end</th>\n",
       "      <th>id</th>\n",
       "      <th>dist</th>\n",
       "      <th>enh_id</th>\n",
       "    </tr>\n",
       "  </thead>\n",
       "  <tbody>\n",
       "    <tr>\n",
       "      <th>0</th>\n",
       "      <td>chr1</td>\n",
       "      <td>839741</td>\n",
       "      <td>840250</td>\n",
       "      <td>chr1</td>\n",
       "      <td>840213</td>\n",
       "      <td>840213</td>\n",
       "      <td>ENST00000607769.1_1</td>\n",
       "      <td>0</td>\n",
       "      <td>chr1:839741-840250</td>\n",
       "    </tr>\n",
       "    <tr>\n",
       "      <th>1</th>\n",
       "      <td>chr1</td>\n",
       "      <td>840753</td>\n",
       "      <td>841210</td>\n",
       "      <td>chr1</td>\n",
       "      <td>840213</td>\n",
       "      <td>840213</td>\n",
       "      <td>ENST00000607769.1_1</td>\n",
       "      <td>540</td>\n",
       "      <td>chr1:840753-841210</td>\n",
       "    </tr>\n",
       "    <tr>\n",
       "      <th>2</th>\n",
       "      <td>chr1</td>\n",
       "      <td>845485</td>\n",
       "      <td>845678</td>\n",
       "      <td>chr1</td>\n",
       "      <td>846814</td>\n",
       "      <td>846814</td>\n",
       "      <td>ENST00000448179.1_1</td>\n",
       "      <td>1136</td>\n",
       "      <td>chr1:845485-845678</td>\n",
       "    </tr>\n",
       "    <tr>\n",
       "      <th>3</th>\n",
       "      <td>chr1</td>\n",
       "      <td>855764</td>\n",
       "      <td>856157</td>\n",
       "      <td>chr1</td>\n",
       "      <td>852249</td>\n",
       "      <td>852249</td>\n",
       "      <td>ENST00000417705.1_1</td>\n",
       "      <td>3515</td>\n",
       "      <td>chr1:855764-856157</td>\n",
       "    </tr>\n",
       "    <tr>\n",
       "      <th>4</th>\n",
       "      <td>chr1</td>\n",
       "      <td>856539</td>\n",
       "      <td>856757</td>\n",
       "      <td>chr1</td>\n",
       "      <td>859811</td>\n",
       "      <td>879533</td>\n",
       "      <td>ENST00000616016.5_1ENST00000618323.5_1</td>\n",
       "      <td>3055</td>\n",
       "      <td>chr1:856539-856757</td>\n",
       "    </tr>\n",
       "  </tbody>\n",
       "</table>\n",
       "</div>"
      ],
      "text/plain": [
       "  #chrE  startE    endE #chr_cds   start     end  \\\n",
       "0  chr1  839741  840250     chr1  840213  840213   \n",
       "1  chr1  840753  841210     chr1  840213  840213   \n",
       "2  chr1  845485  845678     chr1  846814  846814   \n",
       "3  chr1  855764  856157     chr1  852249  852249   \n",
       "4  chr1  856539  856757     chr1  859811  879533   \n",
       "\n",
       "                                       id  dist              enh_id  \n",
       "0                     ENST00000607769.1_1     0  chr1:839741-840250  \n",
       "1                     ENST00000607769.1_1   540  chr1:840753-841210  \n",
       "2                     ENST00000448179.1_1  1136  chr1:845485-845678  \n",
       "3                     ENST00000417705.1_1  3515  chr1:855764-856157  \n",
       "4  ENST00000616016.5_1ENST00000618323.5_1  3055  chr1:856539-856757  "
      ]
     },
     "execution_count": 116,
     "metadata": {},
     "output_type": "execute_result"
    }
   ],
   "source": [
    "df = format_enh_transcript_df(OUTF)\n",
    "df.head()"
   ]
  },
  {
   "cell_type": "markdown",
   "metadata": {},
   "source": [
    "# enhancer architectures"
   ]
  },
  {
   "cell_type": "code",
   "execution_count": 27,
   "metadata": {},
   "outputs": [
    {
     "data": {
      "text/html": [
       "<div>\n",
       "<style>\n",
       "    .dataframe thead tr:only-child th {\n",
       "        text-align: right;\n",
       "    }\n",
       "\n",
       "    .dataframe thead th {\n",
       "        text-align: left;\n",
       "    }\n",
       "\n",
       "    .dataframe tbody tr th {\n",
       "        vertical-align: top;\n",
       "    }\n",
       "</style>\n",
       "<table border=\"1\" class=\"dataframe\">\n",
       "  <thead>\n",
       "    <tr style=\"text-align: right;\">\n",
       "      <th></th>\n",
       "      <th>#chr_enh</th>\n",
       "      <th>start_enh</th>\n",
       "      <th>end_enh</th>\n",
       "      <th>enh_id</th>\n",
       "      <th>sample_id</th>\n",
       "      <th>seg_index</th>\n",
       "      <th>core_remodeling</th>\n",
       "      <th>arch</th>\n",
       "      <th>mrca</th>\n",
       "      <th>taxon</th>\n",
       "      <th>mrca_2</th>\n",
       "      <th>taxon2</th>\n",
       "    </tr>\n",
       "  </thead>\n",
       "  <tbody>\n",
       "    <tr>\n",
       "      <th>0</th>\n",
       "      <td>chr10</td>\n",
       "      <td>10374940</td>\n",
       "      <td>10374970</td>\n",
       "      <td>chr10:10374940-10374970</td>\n",
       "      <td>chr10</td>\n",
       "      <td>1</td>\n",
       "      <td>0</td>\n",
       "      <td>simple</td>\n",
       "      <td>0.175</td>\n",
       "      <td>Eutheria</td>\n",
       "      <td>0.175</td>\n",
       "      <td>Eutheria (105)</td>\n",
       "    </tr>\n",
       "    <tr>\n",
       "      <th>1</th>\n",
       "      <td>chr10</td>\n",
       "      <td>10413071</td>\n",
       "      <td>10413088</td>\n",
       "      <td>chr10:10413071-10413088</td>\n",
       "      <td>chr10</td>\n",
       "      <td>1</td>\n",
       "      <td>0</td>\n",
       "      <td>simple</td>\n",
       "      <td>0.175</td>\n",
       "      <td>Eutheria</td>\n",
       "      <td>0.175</td>\n",
       "      <td>Eutheria (105)</td>\n",
       "    </tr>\n",
       "    <tr>\n",
       "      <th>2</th>\n",
       "      <td>chr10</td>\n",
       "      <td>10458824</td>\n",
       "      <td>10458863</td>\n",
       "      <td>chr10:10458824-10458863</td>\n",
       "      <td>chr10</td>\n",
       "      <td>1</td>\n",
       "      <td>0</td>\n",
       "      <td>simple</td>\n",
       "      <td>0.175</td>\n",
       "      <td>Eutheria</td>\n",
       "      <td>0.175</td>\n",
       "      <td>Eutheria (105)</td>\n",
       "    </tr>\n",
       "    <tr>\n",
       "      <th>3</th>\n",
       "      <td>chr10</td>\n",
       "      <td>10545513</td>\n",
       "      <td>10545788</td>\n",
       "      <td>chr10:10545513-10545788</td>\n",
       "      <td>chr10</td>\n",
       "      <td>1</td>\n",
       "      <td>0</td>\n",
       "      <td>simple</td>\n",
       "      <td>0.175</td>\n",
       "      <td>Eutheria</td>\n",
       "      <td>0.175</td>\n",
       "      <td>Eutheria (105)</td>\n",
       "    </tr>\n",
       "    <tr>\n",
       "      <th>4</th>\n",
       "      <td>chr10</td>\n",
       "      <td>10558695</td>\n",
       "      <td>10559022</td>\n",
       "      <td>chr10:10558695-10559022</td>\n",
       "      <td>chr10</td>\n",
       "      <td>2</td>\n",
       "      <td>1</td>\n",
       "      <td>complexenh</td>\n",
       "      <td>0.380</td>\n",
       "      <td>Mammalia</td>\n",
       "      <td>0.380</td>\n",
       "      <td>Mammalia (177)</td>\n",
       "    </tr>\n",
       "  </tbody>\n",
       "</table>\n",
       "</div>"
      ],
      "text/plain": [
       "  #chr_enh  start_enh   end_enh                   enh_id sample_id  seg_index  \\\n",
       "0    chr10   10374940  10374970  chr10:10374940-10374970     chr10          1   \n",
       "1    chr10   10413071  10413088  chr10:10413071-10413088     chr10          1   \n",
       "2    chr10   10458824  10458863  chr10:10458824-10458863     chr10          1   \n",
       "3    chr10   10545513  10545788  chr10:10545513-10545788     chr10          1   \n",
       "4    chr10   10558695  10559022  chr10:10558695-10559022     chr10          2   \n",
       "\n",
       "   core_remodeling        arch   mrca     taxon  mrca_2          taxon2  \n",
       "0                0      simple  0.175  Eutheria   0.175  Eutheria (105)  \n",
       "1                0      simple  0.175  Eutheria   0.175  Eutheria (105)  \n",
       "2                0      simple  0.175  Eutheria   0.175  Eutheria (105)  \n",
       "3                0      simple  0.175  Eutheria   0.175  Eutheria (105)  \n",
       "4                1  complexenh  0.380  Mammalia   0.380  Mammalia (177)  "
      ]
     },
     "execution_count": 27,
     "metadata": {},
     "output_type": "execute_result"
    }
   ],
   "source": [
    "archs = pd.read_csv(CHEN_ARCH, sep = '\\t').drop_duplicates()\n",
    "archs.head()"
   ]
  },
  {
   "cell_type": "markdown",
   "metadata": {},
   "source": [
    "# process transcript names column from enh-transcript dataframe"
   ]
  },
  {
   "cell_type": "code",
   "execution_count": 28,
   "metadata": {},
   "outputs": [
    {
     "data": {
      "text/html": [
       "<div>\n",
       "<style>\n",
       "    .dataframe thead tr:only-child th {\n",
       "        text-align: right;\n",
       "    }\n",
       "\n",
       "    .dataframe thead th {\n",
       "        text-align: left;\n",
       "    }\n",
       "\n",
       "    .dataframe tbody tr th {\n",
       "        vertical-align: top;\n",
       "    }\n",
       "</style>\n",
       "<table border=\"1\" class=\"dataframe\">\n",
       "  <thead>\n",
       "    <tr style=\"text-align: right;\">\n",
       "      <th></th>\n",
       "      <th>Transcript stable ID</th>\n",
       "      <th>Transcript stable ID version</th>\n",
       "      <th>enh_id</th>\n",
       "    </tr>\n",
       "  </thead>\n",
       "  <tbody>\n",
       "    <tr>\n",
       "      <th>0</th>\n",
       "      <td>ENST00000607769</td>\n",
       "      <td>ENST00000607769.1</td>\n",
       "      <td>chr1:839741-840250</td>\n",
       "    </tr>\n",
       "    <tr>\n",
       "      <th>1</th>\n",
       "      <td>ENST00000607769</td>\n",
       "      <td>ENST00000607769.1</td>\n",
       "      <td>chr1:840753-841210</td>\n",
       "    </tr>\n",
       "    <tr>\n",
       "      <th>2</th>\n",
       "      <td>ENST00000448179</td>\n",
       "      <td>ENST00000448179.1</td>\n",
       "      <td>chr1:845485-845678</td>\n",
       "    </tr>\n",
       "    <tr>\n",
       "      <th>3</th>\n",
       "      <td>ENST00000417705</td>\n",
       "      <td>ENST00000417705.1</td>\n",
       "      <td>chr1:855764-856157</td>\n",
       "    </tr>\n",
       "    <tr>\n",
       "      <th>4</th>\n",
       "      <td>ENST00000618323</td>\n",
       "      <td>ENST00000618323.5</td>\n",
       "      <td>chr1:856539-856757</td>\n",
       "    </tr>\n",
       "  </tbody>\n",
       "</table>\n",
       "</div>"
      ],
      "text/plain": [
       "  Transcript stable ID Transcript stable ID version              enh_id\n",
       "0      ENST00000607769            ENST00000607769.1  chr1:839741-840250\n",
       "1      ENST00000607769            ENST00000607769.1  chr1:840753-841210\n",
       "2      ENST00000448179            ENST00000448179.1  chr1:845485-845678\n",
       "3      ENST00000417705            ENST00000417705.1  chr1:855764-856157\n",
       "4      ENST00000618323            ENST00000618323.5  chr1:856539-856757"
      ]
     },
     "execution_count": 28,
     "metadata": {},
     "output_type": "execute_result"
    }
   ],
   "source": [
    "if os.path.exists(RES) is True:\n",
    "    \n",
    "    res = pd.read_csv(RES, sep = '\\t',).drop_duplicates()\n",
    "\n",
    "else:\n",
    "    res = process_df_transcript_names(df, RES)\n",
    "\n",
    "res.head()"
   ]
  },
  {
   "cell_type": "markdown",
   "metadata": {},
   "source": [
    "# transcript - gene mapping \n",
    "- from ensembl human genes.p13 \n",
    "- downloaded August 20th, 2021"
   ]
  },
  {
   "cell_type": "code",
   "execution_count": 29,
   "metadata": {},
   "outputs": [
    {
     "data": {
      "text/html": [
       "<div>\n",
       "<style>\n",
       "    .dataframe thead tr:only-child th {\n",
       "        text-align: right;\n",
       "    }\n",
       "\n",
       "    .dataframe thead th {\n",
       "        text-align: left;\n",
       "    }\n",
       "\n",
       "    .dataframe tbody tr th {\n",
       "        vertical-align: top;\n",
       "    }\n",
       "</style>\n",
       "<table border=\"1\" class=\"dataframe\">\n",
       "  <thead>\n",
       "    <tr style=\"text-align: right;\">\n",
       "      <th></th>\n",
       "      <th>Gene stable ID</th>\n",
       "      <th>Gene stable ID version</th>\n",
       "      <th>Transcript stable ID</th>\n",
       "      <th>Transcript stable ID version</th>\n",
       "      <th>Gene name</th>\n",
       "    </tr>\n",
       "  </thead>\n",
       "  <tbody>\n",
       "    <tr>\n",
       "      <th>0</th>\n",
       "      <td>ENSG00000210049</td>\n",
       "      <td>ENSG00000210049.1</td>\n",
       "      <td>ENST00000387314</td>\n",
       "      <td>ENST00000387314.1</td>\n",
       "      <td>MT-TF</td>\n",
       "    </tr>\n",
       "    <tr>\n",
       "      <th>1</th>\n",
       "      <td>ENSG00000211459</td>\n",
       "      <td>ENSG00000211459.2</td>\n",
       "      <td>ENST00000389680</td>\n",
       "      <td>ENST00000389680.2</td>\n",
       "      <td>MT-RNR1</td>\n",
       "    </tr>\n",
       "    <tr>\n",
       "      <th>2</th>\n",
       "      <td>ENSG00000210077</td>\n",
       "      <td>ENSG00000210077.1</td>\n",
       "      <td>ENST00000387342</td>\n",
       "      <td>ENST00000387342.1</td>\n",
       "      <td>MT-TV</td>\n",
       "    </tr>\n",
       "    <tr>\n",
       "      <th>3</th>\n",
       "      <td>ENSG00000210082</td>\n",
       "      <td>ENSG00000210082.2</td>\n",
       "      <td>ENST00000387347</td>\n",
       "      <td>ENST00000387347.2</td>\n",
       "      <td>MT-RNR2</td>\n",
       "    </tr>\n",
       "    <tr>\n",
       "      <th>4</th>\n",
       "      <td>ENSG00000209082</td>\n",
       "      <td>ENSG00000209082.1</td>\n",
       "      <td>ENST00000386347</td>\n",
       "      <td>ENST00000386347.1</td>\n",
       "      <td>MT-TL1</td>\n",
       "    </tr>\n",
       "  </tbody>\n",
       "</table>\n",
       "</div>"
      ],
      "text/plain": [
       "    Gene stable ID Gene stable ID version Transcript stable ID  \\\n",
       "0  ENSG00000210049      ENSG00000210049.1      ENST00000387314   \n",
       "1  ENSG00000211459      ENSG00000211459.2      ENST00000389680   \n",
       "2  ENSG00000210077      ENSG00000210077.1      ENST00000387342   \n",
       "3  ENSG00000210082      ENSG00000210082.2      ENST00000387347   \n",
       "4  ENSG00000209082      ENSG00000209082.1      ENST00000386347   \n",
       "\n",
       "  Transcript stable ID version Gene name  \n",
       "0            ENST00000387314.1     MT-TF  \n",
       "1            ENST00000389680.2   MT-RNR1  \n",
       "2            ENST00000387342.1     MT-TV  \n",
       "3            ENST00000387347.2   MT-RNR2  \n",
       "4            ENST00000386347.1    MT-TL1  "
      ]
     },
     "execution_count": 29,
     "metadata": {},
     "output_type": "execute_result"
    }
   ],
   "source": [
    "gf = pd.read_csv(GENE_F, sep = '\\t')\n",
    "gf.head()"
   ]
  },
  {
   "cell_type": "code",
   "execution_count": 30,
   "metadata": {},
   "outputs": [
    {
     "data": {
      "text/plain": [
       "((258710, 5), (17678, 9), (15302, 3))"
      ]
     },
     "execution_count": 30,
     "metadata": {},
     "output_type": "execute_result"
    }
   ],
   "source": [
    "gf.shape, df.shape, res.shape"
   ]
  },
  {
   "cell_type": "markdown",
   "metadata": {},
   "source": [
    "# merge transcript w/ enh_id + gene mappings\n",
    "- merged = res x gf gene names\n",
    "- add enh_id, distance to gene, id to transcript from df\n",
    "- add architecture, age from archs"
   ]
  },
  {
   "cell_type": "code",
   "execution_count": 446,
   "metadata": {
    "collapsed": true
   },
   "outputs": [],
   "source": [
    "merged = pd.merge(res, gf, how = \"left\") # merge enhancer id and enst stable transcript id together\n",
    "\n",
    "\n",
    "df_merge_cols = [\"enh_id\", \"dist\", \"id\"]\n",
    "merged = pd.merge(merged, df[df_merge_cols], how = \"left\")\n",
    "\n",
    "archs_merge_cols = [\"enh_id\",\"seg_index\", \"core_remodeling\", \"mrca\", \"taxon\", \"mrca_2\", \"taxon2\"]\n",
    "merged = pd.merge(merged, archs[archs_merge_cols], how = \"left\")"
   ]
  },
  {
   "cell_type": "markdown",
   "metadata": {},
   "source": [
    "# load cosmic genes to find oncogene, tumor suppressor gene annotations\n",
    "- downloaded from Cosmic Cancer Gene Census, tier 1 only (known mutations w/ experimental support\n",
    "- August 23rd, 2021\n",
    "\n",
    "Molecular Genetics\n",
    "- Dom        N = 409\n",
    "- Dom/Rec     N = 7\n",
    "- Rec        N = 136\n",
    "- Rec/X       N = 3\n",
    "\n",
    "Merge w/ gene-transcript-enh-arch dataframe on Gene Symbol"
   ]
  },
  {
   "cell_type": "code",
   "execution_count": 447,
   "metadata": {},
   "outputs": [
    {
     "name": "stdout",
     "output_type": "stream",
     "text": [
      "Molecular Genetics\n",
      "Dom        409\n",
      "Dom/Rec      7\n",
      "Rec        136\n",
      "Rec/X        3\n",
      "Name: Role in Cancer, dtype: int64\n"
     ]
    },
    {
     "data": {
      "text/html": [
       "<div>\n",
       "<style>\n",
       "    .dataframe thead tr:only-child th {\n",
       "        text-align: right;\n",
       "    }\n",
       "\n",
       "    .dataframe thead th {\n",
       "        text-align: left;\n",
       "    }\n",
       "\n",
       "    .dataframe tbody tr th {\n",
       "        vertical-align: top;\n",
       "    }\n",
       "</style>\n",
       "<table border=\"1\" class=\"dataframe\">\n",
       "  <thead>\n",
       "    <tr style=\"text-align: right;\">\n",
       "      <th></th>\n",
       "      <th>Gene Symbol</th>\n",
       "      <th>Name</th>\n",
       "      <th>Entrez GeneId</th>\n",
       "      <th>Genome Location</th>\n",
       "      <th>Tier</th>\n",
       "      <th>Hallmark</th>\n",
       "      <th>Chr Band</th>\n",
       "      <th>Somatic</th>\n",
       "      <th>Germline</th>\n",
       "      <th>Tumour Types(Somatic)</th>\n",
       "      <th>Tumour Types(Germline)</th>\n",
       "      <th>Cancer Syndrome</th>\n",
       "      <th>Tissue Type</th>\n",
       "      <th>Molecular Genetics</th>\n",
       "      <th>Role in Cancer</th>\n",
       "      <th>Mutation Types</th>\n",
       "      <th>Translocation Partner</th>\n",
       "      <th>Other Germline Mut</th>\n",
       "      <th>Other Syndrome</th>\n",
       "      <th>Synonyms</th>\n",
       "    </tr>\n",
       "  </thead>\n",
       "  <tbody>\n",
       "    <tr>\n",
       "      <th>0</th>\n",
       "      <td>ABI1</td>\n",
       "      <td>abl-interactor 1</td>\n",
       "      <td>10006</td>\n",
       "      <td>10:26746593-26860935</td>\n",
       "      <td>1</td>\n",
       "      <td>Yes</td>\n",
       "      <td>12.10</td>\n",
       "      <td>yes</td>\n",
       "      <td>NaN</td>\n",
       "      <td>AML</td>\n",
       "      <td>NaN</td>\n",
       "      <td>NaN</td>\n",
       "      <td>L</td>\n",
       "      <td>Dom</td>\n",
       "      <td>TSG, fusion</td>\n",
       "      <td>T</td>\n",
       "      <td>KMT2A</td>\n",
       "      <td>NaN</td>\n",
       "      <td>NaN</td>\n",
       "      <td>10006,ABI-1,ABI1,E3B1,ENSG00000136754.17,Q8IZP...</td>\n",
       "    </tr>\n",
       "    <tr>\n",
       "      <th>1</th>\n",
       "      <td>ABL1</td>\n",
       "      <td>v-abl Abelson murine leukemia viral oncogene h...</td>\n",
       "      <td>25</td>\n",
       "      <td>9:130713946-130885683</td>\n",
       "      <td>1</td>\n",
       "      <td>Yes</td>\n",
       "      <td>34.12</td>\n",
       "      <td>yes</td>\n",
       "      <td>NaN</td>\n",
       "      <td>CML, ALL, T-ALL</td>\n",
       "      <td>NaN</td>\n",
       "      <td>NaN</td>\n",
       "      <td>L</td>\n",
       "      <td>Dom</td>\n",
       "      <td>oncogene, fusion</td>\n",
       "      <td>T, Mis</td>\n",
       "      <td>BCR, ETV6, NUP214</td>\n",
       "      <td>NaN</td>\n",
       "      <td>NaN</td>\n",
       "      <td>25,ABL,ABL1,ENSG00000097007.17,JTK7,P00519,c-A...</td>\n",
       "    </tr>\n",
       "    <tr>\n",
       "      <th>2</th>\n",
       "      <td>ABL2</td>\n",
       "      <td>c-abl oncogene 2, non-receptor tyrosine kinase</td>\n",
       "      <td>27</td>\n",
       "      <td>1:179099327-179229601</td>\n",
       "      <td>1</td>\n",
       "      <td>NaN</td>\n",
       "      <td>25.20</td>\n",
       "      <td>yes</td>\n",
       "      <td>NaN</td>\n",
       "      <td>AML</td>\n",
       "      <td>NaN</td>\n",
       "      <td>NaN</td>\n",
       "      <td>L</td>\n",
       "      <td>Dom</td>\n",
       "      <td>oncogene, fusion</td>\n",
       "      <td>T</td>\n",
       "      <td>ETV6</td>\n",
       "      <td>NaN</td>\n",
       "      <td>NaN</td>\n",
       "      <td>27,ABL2,ABLL,ARG,ENSG00000143322.19,P42684</td>\n",
       "    </tr>\n",
       "    <tr>\n",
       "      <th>3</th>\n",
       "      <td>ACKR3</td>\n",
       "      <td>atypical chemokine receptor 3</td>\n",
       "      <td>57007</td>\n",
       "      <td>2:236569641-236582358</td>\n",
       "      <td>1</td>\n",
       "      <td>Yes</td>\n",
       "      <td>37.30</td>\n",
       "      <td>yes</td>\n",
       "      <td>NaN</td>\n",
       "      <td>lipoma</td>\n",
       "      <td>NaN</td>\n",
       "      <td>NaN</td>\n",
       "      <td>M</td>\n",
       "      <td>Dom</td>\n",
       "      <td>oncogene, fusion</td>\n",
       "      <td>T</td>\n",
       "      <td>HMGA2</td>\n",
       "      <td>NaN</td>\n",
       "      <td>NaN</td>\n",
       "      <td>57007,ACKR3,CMKOR1,CXCR7,ENSG00000144476.5,GPR...</td>\n",
       "    </tr>\n",
       "    <tr>\n",
       "      <th>4</th>\n",
       "      <td>ACSL3</td>\n",
       "      <td>acyl-CoA synthetase long-chain family member 3</td>\n",
       "      <td>2181</td>\n",
       "      <td>2:222860934-222944639</td>\n",
       "      <td>1</td>\n",
       "      <td>Yes</td>\n",
       "      <td>36.10</td>\n",
       "      <td>yes</td>\n",
       "      <td>NaN</td>\n",
       "      <td>prostate</td>\n",
       "      <td>NaN</td>\n",
       "      <td>NaN</td>\n",
       "      <td>E</td>\n",
       "      <td>Dom</td>\n",
       "      <td>fusion</td>\n",
       "      <td>T</td>\n",
       "      <td>ETV1</td>\n",
       "      <td>NaN</td>\n",
       "      <td>NaN</td>\n",
       "      <td>2181,ACS3,ACSL3,ENSG00000123983.13,FACL3,O9557...</td>\n",
       "    </tr>\n",
       "  </tbody>\n",
       "</table>\n",
       "</div>"
      ],
      "text/plain": [
       "  Gene Symbol                                               Name  \\\n",
       "0        ABI1                                   abl-interactor 1   \n",
       "1        ABL1  v-abl Abelson murine leukemia viral oncogene h...   \n",
       "2        ABL2     c-abl oncogene 2, non-receptor tyrosine kinase   \n",
       "3       ACKR3                      atypical chemokine receptor 3   \n",
       "4       ACSL3     acyl-CoA synthetase long-chain family member 3   \n",
       "\n",
       "   Entrez GeneId        Genome Location  Tier Hallmark  Chr Band Somatic  \\\n",
       "0          10006   10:26746593-26860935     1      Yes     12.10     yes   \n",
       "1             25  9:130713946-130885683     1      Yes     34.12     yes   \n",
       "2             27  1:179099327-179229601     1      NaN     25.20     yes   \n",
       "3          57007  2:236569641-236582358     1      Yes     37.30     yes   \n",
       "4           2181  2:222860934-222944639     1      Yes     36.10     yes   \n",
       "\n",
       "  Germline Tumour Types(Somatic) Tumour Types(Germline) Cancer Syndrome  \\\n",
       "0      NaN                   AML                    NaN             NaN   \n",
       "1      NaN       CML, ALL, T-ALL                    NaN             NaN   \n",
       "2      NaN                   AML                    NaN             NaN   \n",
       "3      NaN                lipoma                    NaN             NaN   \n",
       "4      NaN              prostate                    NaN             NaN   \n",
       "\n",
       "  Tissue Type Molecular Genetics    Role in Cancer Mutation Types  \\\n",
       "0           L                Dom       TSG, fusion              T   \n",
       "1           L                Dom  oncogene, fusion         T, Mis   \n",
       "2           L                Dom  oncogene, fusion              T   \n",
       "3           M                Dom  oncogene, fusion              T   \n",
       "4           E                Dom            fusion              T   \n",
       "\n",
       "  Translocation Partner Other Germline Mut Other Syndrome  \\\n",
       "0                 KMT2A                NaN            NaN   \n",
       "1     BCR, ETV6, NUP214                NaN            NaN   \n",
       "2                  ETV6                NaN            NaN   \n",
       "3                 HMGA2                NaN            NaN   \n",
       "4                  ETV1                NaN            NaN   \n",
       "\n",
       "                                            Synonyms  \n",
       "0  10006,ABI-1,ABI1,E3B1,ENSG00000136754.17,Q8IZP...  \n",
       "1  25,ABL,ABL1,ENSG00000097007.17,JTK7,P00519,c-A...  \n",
       "2         27,ABL2,ABLL,ARG,ENSG00000143322.19,P42684  \n",
       "3  57007,ACKR3,CMKOR1,CXCR7,ENSG00000144476.5,GPR...  \n",
       "4  2181,ACS3,ACSL3,ENSG00000123983.13,FACL3,O9557...  "
      ]
     },
     "execution_count": 447,
     "metadata": {},
     "output_type": "execute_result"
    }
   ],
   "source": [
    "cosmic_genes = pd.read_csv(COSMIC_F, sep = '\\t')\n",
    "print(cosmic_genes.groupby(\"Molecular Genetics\")[\"Role in Cancer\"].count())\n",
    "cosmic_genes.head()"
   ]
  },
  {
   "cell_type": "code",
   "execution_count": 448,
   "metadata": {
    "collapsed": true
   },
   "outputs": [],
   "source": [
    "merged = pd.merge(merged, cosmic_genes[[\"Gene Symbol\", \"Molecular Genetics\", \"Hallmark\", \"Role in Cancer\"]],\n",
    "                  how = \"left\", left_on = \"Gene name\", right_on = \"Gene Symbol\")"
   ]
  },
  {
   "cell_type": "code",
   "execution_count": 399,
   "metadata": {},
   "outputs": [
    {
     "name": "stdout",
     "output_type": "stream",
     "text": [
      "  Molecular Genetics  core_remodeling  enh_id\n",
      "0                Dom              0.0     160\n",
      "1                Dom              1.0      92\n",
      "2            Dom/Rec              0.0       6\n",
      "3            Dom/Rec              1.0       2\n",
      "4                Rec              0.0      17\n",
      "5                Rec              1.0      15\n"
     ]
    }
   ],
   "source": [
    "cosmic_arch_count = merged.groupby([\"Molecular Genetics\", \"core_remodeling\"])[\"enh_id\"].count().reset_index()\n",
    "print(cosmic_arch_count)\n",
    "\n",
    "    \n",
    "dom = cosmic_arch_count.loc[cosmic_arch_count[\"Molecular Genetics\"] == \"Dom\"]\n",
    "rec = cosmic_arch_count.loc[cosmic_arch_count[\"Molecular Genetics\"] == \"Rec\"]\n",
    "\n",
    "dom_s_enh = (dom.loc[dom[\"core_remodeling\"] == 0, \"enh_id\"].iloc[0])\n",
    "dom_c_enh = (dom.loc[dom[\"core_remodeling\"] != 0, \"enh_id\"].iloc[0])\n",
    "\n",
    "rec_s_enh = (rec.loc[rec[\"core_remodeling\"] == 0, \"enh_id\"].iloc[0])\n",
    "rec_c_enh = (rec.loc[rec[\"core_remodeling\"] != 0, \"enh_id\"].iloc[0])\n",
    "per_simple_enh = (simplen/(simplen+complexn))"
   ]
  },
  {
   "cell_type": "code",
   "execution_count": 449,
   "metadata": {
    "collapsed": true
   },
   "outputs": [],
   "source": [
    "arch_count =  merged.groupby([\"core_remodeling\"])[\"enh_id\"].count().reset_index()\n",
    "simplen, complexn = arch_count[\"enh_id\"].iloc[0], arch_count[\"enh_id\"].iloc[1]\n",
    "per_simple_enh = (simplen/(simplen+complexn))"
   ]
  },
  {
   "cell_type": "markdown",
   "metadata": {},
   "source": [
    "# how does this compare with shuffled architectures + nearby genes?"
   ]
  },
  {
   "cell_type": "code",
   "execution_count": null,
   "metadata": {
    "collapsed": true
   },
   "outputs": [],
   "source": [
    "merged_shufs = {}"
   ]
  },
  {
   "cell_type": "code",
   "execution_count": 103,
   "metadata": {
    "collapsed": true
   },
   "outputs": [],
   "source": [
    "shufs = glob.glob(SHUF_CHEN_ARCH)"
   ]
  },
  {
   "cell_type": "code",
   "execution_count": null,
   "metadata": {
    "collapsed": true,
    "scrolled": true
   },
   "outputs": [],
   "source": [
    "import time\n",
    "\n",
    "for shuf in shufs[1:]:\n",
    "    iterN = ((shuf.split(\"/\")[-1]).split(\"-\")[2]).split(\"_\")[0]\n",
    "    if iterN not in merged_shufs.keys():\n",
    "        start_time = time.time()\n",
    "        merged_shuf = pipeline(shuf)\n",
    "        merged_shufs[iterN] = merged_shuf\n",
    "        print(\"--- %s seconds ---\" % (time.time() - start_time))\n",
    "    else:\n",
    "        print(\"done\", iterN)"
   ]
  },
  {
   "cell_type": "code",
   "execution_count": null,
   "metadata": {
    "collapsed": true
   },
   "outputs": [],
   "source": [
    "merged_shufs.pop('44.bed.bed', None)"
   ]
  },
  {
   "cell_type": "code",
   "execution_count": 149,
   "metadata": {
    "collapsed": true
   },
   "outputs": [],
   "source": [
    "dom_c, dom_s = [], []\n",
    "rec_c, rec_s = [], []\n",
    "per_simple = []\n",
    "\n",
    "for key, merged_shuf in merged_shufs.items():\n",
    "    if \".bed.bed\" not in key:\n",
    "        # count the number of Dominant and recessive genes \n",
    "        # hypothesis - recessive genes are deplete of cancer-associated enhancers overall, \n",
    "            # but more complex enhancers than expected. \n",
    "        # hypothesis - dominant genes are also depleted of cancer-associated enhancers overall,\n",
    "            # but more simple enhancers than expected (mutation in simple more likely causes dis regulation)\n",
    "        cosmic_arch_count = merged_shuf.groupby([\"Molecular Genetics\", \"core_remodeling\"])[\"enh_id\"].count().reset_index()\n",
    "\n",
    "        if len(cosmic_arch_count) >2:\n",
    "\n",
    "            dom = cosmic_arch_count.loc[cosmic_arch_count[\"Molecular Genetics\"] == \"Dom\"]\n",
    "            rec = cosmic_arch_count.loc[cosmic_arch_count[\"Molecular Genetics\"] == \"Rec\"]\n",
    "\n",
    "            # append counts to list\n",
    "            dom_s.append(dom.loc[dom[\"core_remodeling\"] == 0, \"enh_id\"].iloc[0])\n",
    "            dom_c.append(dom.loc[dom[\"core_remodeling\"] != 0, \"enh_id\"].iloc[0])\n",
    "\n",
    "            rec_s.append(rec.loc[rec[\"core_remodeling\"] == 0, \"enh_id\"].iloc[0])\n",
    "            rec_c.append(rec.loc[rec[\"core_remodeling\"] != 0, \"enh_id\"].iloc[0])\n",
    "\n",
    "            arch_count =  merged_shuf.groupby([\"core_remodeling\"])[\"enh_id\"].count().reset_index()\n",
    "\n",
    "            simplen, complexn = arch_count[\"enh_id\"].iloc[0], arch_count[\"enh_id\"].iloc[1]\n",
    "\n",
    "            per_simple.append(simplen/(simplen+complexn))"
   ]
  },
  {
   "cell_type": "code",
   "execution_count": 150,
   "metadata": {},
   "outputs": [
    {
     "data": {
      "text/plain": [
       "998"
      ]
     },
     "execution_count": 150,
     "metadata": {},
     "output_type": "execute_result"
    }
   ],
   "source": [
    "len(dom_s)"
   ]
  },
  {
   "cell_type": "code",
   "execution_count": 138,
   "metadata": {
    "collapsed": true
   },
   "outputs": [],
   "source": [
    "import datetime\n",
    "def calculateEmpiricalP(obs, exp_sum_list):\n",
    "    mu = np.median(exp_sum_list) # 20190523 mean is now median\n",
    "    sigma = np.std(exp_sum_list)\n",
    "    dist_from_mu = [exp - mu for exp in exp_sum_list]\n",
    "    p_sum = sum(1 for exp_dist in dist_from_mu if abs(exp_dist) >= abs(obs - mu))\n",
    "\n",
    "    fold_change = (obs + 1.0) / (mu + 1.0) # fold chage of the median\n",
    "    fold_change_95 = (obs + 1.0) / (np.percentile(exp_sum_list, 95) + 1.0) # 20190527 95th percentile value from exp_sum_list\n",
    "    fold_change_5 = (obs + 1.0) / (np.percentile(exp_sum_list, 5) + 1.0) # # 20190527 5th percentile value from exp_sum_list\n",
    "    p_val = (p_sum + 1.0) / (len(exp_sum_list) + 1.0)\n",
    "    print(\"%d\\t%.3f\\t%.3f\\t%.3f\\t%.3f\\t%.3f\\t%.3f\\t%s\" % (obs, mu, sigma, fold_change, p_val, fold_change_95, fold_change_5, str(datetime.datetime.now())))\n",
    "\n",
    "    #return \"%d\\t%.3f\\t%.3f\\t%.3f\\t%.3f\\t%.3f\\t%.3f\\t%s\" % (obs, mu, sigma, fold_change, p_val, fold_change_95, fold_change_5, str(datetime.datetime.now()))"
   ]
  },
  {
   "cell_type": "code",
   "execution_count": 151,
   "metadata": {},
   "outputs": [
    {
     "name": "stdout",
     "output_type": "stream",
     "text": [
      "160\t136.000\t18.585\t1.175\t0.214\t0.953\t1.491\t2021-08-24 18:49:38.301107\n"
     ]
    }
   ],
   "source": [
    "\n",
    "#1000\n",
    "#160\t136.000\t18.585\t1.175\t0.214\t0.953\t1.491\t2021-08-24 18:49:38.301107\n",
    "calculateEmpiricalP(dom_s_enh, dom_s)"
   ]
  },
  {
   "cell_type": "code",
   "execution_count": 152,
   "metadata": {},
   "outputs": [
    {
     "name": "stdout",
     "output_type": "stream",
     "text": [
      "92\t88.000\t14.040\t1.045\t0.791\t0.823\t1.391\t2021-08-24 18:49:42.574622\n"
     ]
    }
   ],
   "source": [
    "#1000\n",
    "#92\t88.000\t14.040\t1.045\t0.791\t0.823\t1.391\t2021-08-24 18:49:42.574622\n",
    "calculateEmpiricalP(dom_c_enh, dom_c)"
   ]
  },
  {
   "cell_type": "code",
   "execution_count": 153,
   "metadata": {},
   "outputs": [
    {
     "name": "stdout",
     "output_type": "stream",
     "text": [
      "0\t0.633\t0.004\t1.020\t0.001\t1.016\t1.024\t2021-08-24 18:49:47.471809\n"
     ]
    }
   ],
   "source": [
    "#0\t0.633\t0.004\t1.020\t0.001\t1.016\t1.024\t2021-08-24 18:49:47.471809\n",
    "calculateEmpiricalP(per_simple_enh, per_simple)"
   ]
  },
  {
   "cell_type": "code",
   "execution_count": 154,
   "metadata": {},
   "outputs": [
    {
     "name": "stdout",
     "output_type": "stream",
     "text": [
      "17\t26.000\t7.622\t0.667\t0.264\t0.439\t1.059\t2021-08-24 18:49:56.630014\n"
     ]
    }
   ],
   "source": [
    "#17\t26.000\t7.622\t0.667\t0.264\t0.439\t1.059\t2021-08-24 18:49:56.630014\n",
    "calculateEmpiricalP(rec_s_enh, rec_s)"
   ]
  },
  {
   "cell_type": "code",
   "execution_count": 155,
   "metadata": {},
   "outputs": [
    {
     "name": "stdout",
     "output_type": "stream",
     "text": [
      "15\t19.000\t6.572\t0.800\t0.586\t0.500\t1.600\t2021-08-24 18:49:59.271769\n"
     ]
    }
   ],
   "source": [
    "#15\t19.000\t6.572\t0.800\t0.586\t0.500\t1.600\t2021-08-24 18:49:59.271769\n",
    "calculateEmpiricalP(rec_c_enh, rec_c)"
   ]
  },
  {
   "cell_type": "markdown",
   "metadata": {
    "collapsed": true
   },
   "source": [
    "# versus non-cancer fantom"
   ]
  },
  {
   "cell_type": "code",
   "execution_count": 450,
   "metadata": {
    "collapsed": true
   },
   "outputs": [],
   "source": [
    "FANTOMPATH = \"/dors/capra_lab/projects/enhancer_ages/fantom/data/non-genic/\"\n",
    "fantomf = f\"{FANTOMPATH}no-exon_all_fantom.bed\""
   ]
  },
  {
   "cell_type": "code",
   "execution_count": 451,
   "metadata": {},
   "outputs": [
    {
     "name": "stdout",
     "output_type": "stream",
     "text": [
      "--- 1.1305620670318604 seconds ---\n"
     ]
    },
    {
     "data": {
      "text/html": [
       "<div>\n",
       "<style>\n",
       "    .dataframe thead tr:only-child th {\n",
       "        text-align: right;\n",
       "    }\n",
       "\n",
       "    .dataframe thead th {\n",
       "        text-align: left;\n",
       "    }\n",
       "\n",
       "    .dataframe tbody tr th {\n",
       "        vertical-align: top;\n",
       "    }\n",
       "</style>\n",
       "<table border=\"1\" class=\"dataframe\">\n",
       "  <thead>\n",
       "    <tr style=\"text-align: right;\">\n",
       "      <th></th>\n",
       "      <th>Transcript stable ID</th>\n",
       "      <th>Transcript stable ID version</th>\n",
       "      <th>enh_id</th>\n",
       "      <th>Gene stable ID</th>\n",
       "      <th>Gene stable ID version</th>\n",
       "      <th>Gene name</th>\n",
       "      <th>dist</th>\n",
       "      <th>id</th>\n",
       "      <th>seg_index</th>\n",
       "      <th>core_remodeling</th>\n",
       "      <th>mrca</th>\n",
       "      <th>taxon</th>\n",
       "      <th>mrca_2</th>\n",
       "      <th>taxon2</th>\n",
       "      <th>Gene Symbol</th>\n",
       "      <th>Molecular Genetics</th>\n",
       "      <th>Hallmark</th>\n",
       "      <th>Role in Cancer</th>\n",
       "    </tr>\n",
       "  </thead>\n",
       "  <tbody>\n",
       "    <tr>\n",
       "      <th>0</th>\n",
       "      <td>ENST00000618323</td>\n",
       "      <td>ENST00000618323.5</td>\n",
       "      <td>chr1:858256-858648</td>\n",
       "      <td>ENSG00000187634</td>\n",
       "      <td>ENSG00000187634.13</td>\n",
       "      <td>SAMD11</td>\n",
       "      <td>1164</td>\n",
       "      <td>ENST00000616016.5_1ENST00000618323.5_1</td>\n",
       "      <td>1.0</td>\n",
       "      <td>0.0</td>\n",
       "      <td>0.957</td>\n",
       "      <td>Vertebrata</td>\n",
       "      <td>0.957</td>\n",
       "      <td>Vertebrata (615)</td>\n",
       "      <td>NaN</td>\n",
       "      <td>NaN</td>\n",
       "      <td>NaN</td>\n",
       "      <td>NaN</td>\n",
       "    </tr>\n",
       "    <tr>\n",
       "      <th>1</th>\n",
       "      <td>ENST00000341290</td>\n",
       "      <td>ENST00000341290.6</td>\n",
       "      <td>chr1:918449-918555</td>\n",
       "      <td>ENSG00000187642</td>\n",
       "      <td>ENSG00000187642.9</td>\n",
       "      <td>PERM1</td>\n",
       "      <td>1904</td>\n",
       "      <td>ENST00000341290.6_1</td>\n",
       "      <td>1.0</td>\n",
       "      <td>0.0</td>\n",
       "      <td>0.152</td>\n",
       "      <td>Boreoeutheria</td>\n",
       "      <td>0.152</td>\n",
       "      <td>Boreoeutheria (96)</td>\n",
       "      <td>NaN</td>\n",
       "      <td>NaN</td>\n",
       "      <td>NaN</td>\n",
       "      <td>NaN</td>\n",
       "    </tr>\n",
       "    <tr>\n",
       "      <th>2</th>\n",
       "      <td>ENST00000458555</td>\n",
       "      <td>ENST00000458555.1</td>\n",
       "      <td>chr1:941791-942135</td>\n",
       "      <td>ENSG00000224969</td>\n",
       "      <td>ENSG00000224969.1</td>\n",
       "      <td>NaN</td>\n",
       "      <td>5241</td>\n",
       "      <td>ENST00000458555.1_1</td>\n",
       "      <td>1.0</td>\n",
       "      <td>0.0</td>\n",
       "      <td>0.957</td>\n",
       "      <td>Vertebrata</td>\n",
       "      <td>0.957</td>\n",
       "      <td>Vertebrata (615)</td>\n",
       "      <td>NaN</td>\n",
       "      <td>NaN</td>\n",
       "      <td>NaN</td>\n",
       "      <td>NaN</td>\n",
       "    </tr>\n",
       "    <tr>\n",
       "      <th>3</th>\n",
       "      <td>ENST00000379370</td>\n",
       "      <td>ENST00000379370.7</td>\n",
       "      <td>chr1:956563-956812</td>\n",
       "      <td>ENSG00000188157</td>\n",
       "      <td>ENSG00000188157.15</td>\n",
       "      <td>AGRN</td>\n",
       "      <td>0</td>\n",
       "      <td>ENST00000379370.7_1</td>\n",
       "      <td>1.0</td>\n",
       "      <td>0.0</td>\n",
       "      <td>0.957</td>\n",
       "      <td>Vertebrata</td>\n",
       "      <td>0.957</td>\n",
       "      <td>Vertebrata (615)</td>\n",
       "      <td>NaN</td>\n",
       "      <td>NaN</td>\n",
       "      <td>NaN</td>\n",
       "      <td>NaN</td>\n",
       "    </tr>\n",
       "    <tr>\n",
       "      <th>4</th>\n",
       "      <td>ENST00000453464</td>\n",
       "      <td>ENST00000453464.3</td>\n",
       "      <td>chr1:1005293-1005547</td>\n",
       "      <td>ENSG00000237330</td>\n",
       "      <td>ENSG00000237330.3</td>\n",
       "      <td>RNF223</td>\n",
       "      <td>1650</td>\n",
       "      <td>ENST00000453464.3_1</td>\n",
       "      <td>1.0</td>\n",
       "      <td>0.0</td>\n",
       "      <td>0.957</td>\n",
       "      <td>Vertebrata</td>\n",
       "      <td>0.957</td>\n",
       "      <td>Vertebrata (615)</td>\n",
       "      <td>NaN</td>\n",
       "      <td>NaN</td>\n",
       "      <td>NaN</td>\n",
       "      <td>NaN</td>\n",
       "    </tr>\n",
       "  </tbody>\n",
       "</table>\n",
       "</div>"
      ],
      "text/plain": [
       "  Transcript stable ID Transcript stable ID version                enh_id  \\\n",
       "0      ENST00000618323            ENST00000618323.5    chr1:858256-858648   \n",
       "1      ENST00000341290            ENST00000341290.6    chr1:918449-918555   \n",
       "2      ENST00000458555            ENST00000458555.1    chr1:941791-942135   \n",
       "3      ENST00000379370            ENST00000379370.7    chr1:956563-956812   \n",
       "4      ENST00000453464            ENST00000453464.3  chr1:1005293-1005547   \n",
       "\n",
       "    Gene stable ID Gene stable ID version Gene name  dist  \\\n",
       "0  ENSG00000187634     ENSG00000187634.13    SAMD11  1164   \n",
       "1  ENSG00000187642      ENSG00000187642.9     PERM1  1904   \n",
       "2  ENSG00000224969      ENSG00000224969.1       NaN  5241   \n",
       "3  ENSG00000188157     ENSG00000188157.15      AGRN     0   \n",
       "4  ENSG00000237330      ENSG00000237330.3    RNF223  1650   \n",
       "\n",
       "                                       id  seg_index  core_remodeling   mrca  \\\n",
       "0  ENST00000616016.5_1ENST00000618323.5_1        1.0              0.0  0.957   \n",
       "1                     ENST00000341290.6_1        1.0              0.0  0.152   \n",
       "2                     ENST00000458555.1_1        1.0              0.0  0.957   \n",
       "3                     ENST00000379370.7_1        1.0              0.0  0.957   \n",
       "4                     ENST00000453464.3_1        1.0              0.0  0.957   \n",
       "\n",
       "           taxon  mrca_2              taxon2 Gene Symbol Molecular Genetics  \\\n",
       "0     Vertebrata   0.957    Vertebrata (615)         NaN                NaN   \n",
       "1  Boreoeutheria   0.152  Boreoeutheria (96)         NaN                NaN   \n",
       "2     Vertebrata   0.957    Vertebrata (615)         NaN                NaN   \n",
       "3     Vertebrata   0.957    Vertebrata (615)         NaN                NaN   \n",
       "4     Vertebrata   0.957    Vertebrata (615)         NaN                NaN   \n",
       "\n",
       "  Hallmark Role in Cancer  \n",
       "0      NaN            NaN  \n",
       "1      NaN            NaN  \n",
       "2      NaN            NaN  \n",
       "3      NaN            NaN  \n",
       "4      NaN            NaN  "
      ]
     },
     "execution_count": 451,
     "metadata": {},
     "output_type": "execute_result"
    }
   ],
   "source": [
    "start_time = time.time()\n",
    "fdf = pipeline(fantomf)\n",
    "\n",
    "print(\"--- %s seconds ---\" % (time.time() - start_time))\n",
    "\n",
    "fdf.head()"
   ]
  },
  {
   "cell_type": "code",
   "execution_count": 452,
   "metadata": {},
   "outputs": [
    {
     "data": {
      "text/plain": [
       "Role in Cancer\n",
       "TSG                      357\n",
       "TSG, fusion              540\n",
       "fusion                   341\n",
       "oncogene                 259\n",
       "oncogene, TSG            164\n",
       "oncogene, TSG, fusion    107\n",
       "oncogene, fusion         779\n",
       "Name: enh_id, dtype: int64"
      ]
     },
     "execution_count": 452,
     "metadata": {},
     "output_type": "execute_result"
    }
   ],
   "source": [
    "fdf.groupby(\"Role in Cancer\")[\"enh_id\"].count()"
   ]
  },
  {
   "cell_type": "code",
   "execution_count": 459,
   "metadata": {},
   "outputs": [
    {
     "name": "stdout",
     "output_type": "stream",
     "text": [
      "(17678, 17)\n",
      "(15302, 16)\n"
     ]
    }
   ],
   "source": [
    "merged.groupby(\"Role in Cancer\")[\"enh_id\"].count()\n",
    "print(merged.shape)\n",
    "#\"Transcript stable ID version\"\n",
    "merged = merged.drop([\"id\"], axis = 1).drop_duplicates()\n",
    "print(merged.shape)"
   ]
  },
  {
   "cell_type": "code",
   "execution_count": 460,
   "metadata": {},
   "outputs": [
    {
     "data": {
      "text/plain": [
       "(15302, 16)"
      ]
     },
     "execution_count": 460,
     "metadata": {},
     "output_type": "execute_result"
    }
   ],
   "source": [
    "merged.shape"
   ]
  },
  {
   "cell_type": "code",
   "execution_count": 461,
   "metadata": {},
   "outputs": [
    {
     "name": "stdout",
     "output_type": "stream",
     "text": [
      "23113\n",
      "(23113, 16)\n"
     ]
    },
    {
     "data": {
      "text/html": [
       "<div>\n",
       "<style>\n",
       "    .dataframe thead tr:only-child th {\n",
       "        text-align: right;\n",
       "    }\n",
       "\n",
       "    .dataframe thead th {\n",
       "        text-align: left;\n",
       "    }\n",
       "\n",
       "    .dataframe tbody tr th {\n",
       "        vertical-align: top;\n",
       "    }\n",
       "</style>\n",
       "<table border=\"1\" class=\"dataframe\">\n",
       "  <thead>\n",
       "    <tr style=\"text-align: right;\">\n",
       "      <th></th>\n",
       "      <th>Transcript stable ID</th>\n",
       "      <th>enh_id</th>\n",
       "      <th>Gene stable ID</th>\n",
       "      <th>Gene stable ID version</th>\n",
       "      <th>Gene name</th>\n",
       "      <th>dist</th>\n",
       "      <th>seg_index</th>\n",
       "      <th>core_remodeling</th>\n",
       "      <th>mrca</th>\n",
       "      <th>taxon</th>\n",
       "      <th>mrca_2</th>\n",
       "      <th>taxon2</th>\n",
       "      <th>Gene Symbol</th>\n",
       "      <th>Molecular Genetics</th>\n",
       "      <th>Hallmark</th>\n",
       "      <th>Role in Cancer</th>\n",
       "    </tr>\n",
       "  </thead>\n",
       "  <tbody>\n",
       "    <tr>\n",
       "      <th>3</th>\n",
       "      <td>ENST00000379370</td>\n",
       "      <td>chr1:956563-956812</td>\n",
       "      <td>ENSG00000188157</td>\n",
       "      <td>ENSG00000188157.15</td>\n",
       "      <td>AGRN</td>\n",
       "      <td>0</td>\n",
       "      <td>1.0</td>\n",
       "      <td>0.0</td>\n",
       "      <td>0.957</td>\n",
       "      <td>Vertebrata</td>\n",
       "      <td>0.957</td>\n",
       "      <td>Vertebrata (615)</td>\n",
       "      <td>NaN</td>\n",
       "      <td>NaN</td>\n",
       "      <td>NaN</td>\n",
       "      <td>NaN</td>\n",
       "    </tr>\n",
       "    <tr>\n",
       "      <th>14</th>\n",
       "      <td>ENST00000477278</td>\n",
       "      <td>chr1:1295535-1296332</td>\n",
       "      <td>ENSG00000162576</td>\n",
       "      <td>ENSG00000162576.17</td>\n",
       "      <td>MXRA8</td>\n",
       "      <td>0</td>\n",
       "      <td>2.0</td>\n",
       "      <td>1.0</td>\n",
       "      <td>0.957</td>\n",
       "      <td>Vertebrata</td>\n",
       "      <td>0.957</td>\n",
       "      <td>Vertebrata (615)</td>\n",
       "      <td>NaN</td>\n",
       "      <td>NaN</td>\n",
       "      <td>NaN</td>\n",
       "      <td>NaN</td>\n",
       "    </tr>\n",
       "    <tr>\n",
       "      <th>19</th>\n",
       "      <td>ENST00000378609</td>\n",
       "      <td>chr1:1772108-1772256</td>\n",
       "      <td>ENSG00000078369</td>\n",
       "      <td>ENSG00000078369.18</td>\n",
       "      <td>GNB1</td>\n",
       "      <td>15217</td>\n",
       "      <td>1.0</td>\n",
       "      <td>0.0</td>\n",
       "      <td>0.175</td>\n",
       "      <td>Eutheria</td>\n",
       "      <td>0.175</td>\n",
       "      <td>Eutheria (105)</td>\n",
       "      <td>NaN</td>\n",
       "      <td>NaN</td>\n",
       "      <td>NaN</td>\n",
       "      <td>NaN</td>\n",
       "    </tr>\n",
       "    <tr>\n",
       "      <th>20</th>\n",
       "      <td>ENST00000412228</td>\n",
       "      <td>chr1:1793829-1793862</td>\n",
       "      <td>ENSG00000231050</td>\n",
       "      <td>ENSG00000231050.1</td>\n",
       "      <td>NaN</td>\n",
       "      <td>29047</td>\n",
       "      <td>1.0</td>\n",
       "      <td>0.0</td>\n",
       "      <td>0.175</td>\n",
       "      <td>Eutheria</td>\n",
       "      <td>0.175</td>\n",
       "      <td>Eutheria (105)</td>\n",
       "      <td>NaN</td>\n",
       "      <td>NaN</td>\n",
       "      <td>NaN</td>\n",
       "      <td>NaN</td>\n",
       "    </tr>\n",
       "    <tr>\n",
       "      <th>21</th>\n",
       "      <td>ENST00000412228</td>\n",
       "      <td>chr1:1814762-1815124</td>\n",
       "      <td>ENSG00000231050</td>\n",
       "      <td>ENSG00000231050.1</td>\n",
       "      <td>NaN</td>\n",
       "      <td>7785</td>\n",
       "      <td>1.0</td>\n",
       "      <td>0.0</td>\n",
       "      <td>0.175</td>\n",
       "      <td>Eutheria</td>\n",
       "      <td>0.175</td>\n",
       "      <td>Eutheria (105)</td>\n",
       "      <td>NaN</td>\n",
       "      <td>NaN</td>\n",
       "      <td>NaN</td>\n",
       "      <td>NaN</td>\n",
       "    </tr>\n",
       "  </tbody>\n",
       "</table>\n",
       "</div>"
      ],
      "text/plain": [
       "   Transcript stable ID                enh_id   Gene stable ID  \\\n",
       "3       ENST00000379370    chr1:956563-956812  ENSG00000188157   \n",
       "14      ENST00000477278  chr1:1295535-1296332  ENSG00000162576   \n",
       "19      ENST00000378609  chr1:1772108-1772256  ENSG00000078369   \n",
       "20      ENST00000412228  chr1:1793829-1793862  ENSG00000231050   \n",
       "21      ENST00000412228  chr1:1814762-1815124  ENSG00000231050   \n",
       "\n",
       "   Gene stable ID version Gene name   dist  seg_index  core_remodeling   mrca  \\\n",
       "3      ENSG00000188157.15      AGRN      0        1.0              0.0  0.957   \n",
       "14     ENSG00000162576.17     MXRA8      0        2.0              1.0  0.957   \n",
       "19     ENSG00000078369.18      GNB1  15217        1.0              0.0  0.175   \n",
       "20      ENSG00000231050.1       NaN  29047        1.0              0.0  0.175   \n",
       "21      ENSG00000231050.1       NaN   7785        1.0              0.0  0.175   \n",
       "\n",
       "         taxon  mrca_2            taxon2 Gene Symbol Molecular Genetics  \\\n",
       "3   Vertebrata   0.957  Vertebrata (615)         NaN                NaN   \n",
       "14  Vertebrata   0.957  Vertebrata (615)         NaN                NaN   \n",
       "19    Eutheria   0.175    Eutheria (105)         NaN                NaN   \n",
       "20    Eutheria   0.175    Eutheria (105)         NaN                NaN   \n",
       "21    Eutheria   0.175    Eutheria (105)         NaN                NaN   \n",
       "\n",
       "   Hallmark Role in Cancer  \n",
       "3       NaN            NaN  \n",
       "14      NaN            NaN  \n",
       "19      NaN            NaN  \n",
       "20      NaN            NaN  \n",
       "21      NaN            NaN  "
      ]
     },
     "execution_count": 461,
     "metadata": {},
     "output_type": "execute_result"
    }
   ],
   "source": [
    "non_cancer = list(set(list(fdf.enh_id)).difference(set(list(merged.enh_id))))\n",
    "\n",
    "print(len(non_cancer))\n",
    "\n",
    "nocancer_fdf = fdf.loc[fdf.enh_id.isin(non_cancer)]\n",
    "nocancer_fdf = nocancer_fdf.drop([\"id\", \"Transcript stable ID version\"], axis = 1).drop_duplicates()\n",
    "print(nocancer_fdf.shape)\n",
    "nocancer_fdf.head()"
   ]
  },
  {
   "cell_type": "markdown",
   "metadata": {},
   "source": [
    "# simple | complex  are not enriched in hallmark genes \n",
    "    merged.groupby([\"core_remodeling\",\"Hallmark\"])[\"enh_id\"].count())\n",
    "       core_remodeling  Hallmark\n",
    "        0.0              Yes         57\n",
    "        1.0              Yes         31\n",
    "        Name: enh_id, dtype: int64\n",
    "\n",
    "    nocancer_fdf.groupby([\"core_remodeling\",\"Hallmark\"])[\"enh_id\"].count()\n",
    "    \n",
    "    core_remodeling  Hallmark\n",
    "    0.0              Yes         360\n",
    "    1.0              Yes         243\n",
    "    Name: enh_id, dtype: int64\n",
    "\n",
    "    obs = [[57, 360], [31, 243]]\n",
    "    print(stats.fisher_exact(obs))\n",
    "    (1.2411290322580646, 0.4146464684339623)"
   ]
  },
  {
   "cell_type": "code",
   "execution_count": 468,
   "metadata": {},
   "outputs": [
    {
     "name": "stdout",
     "output_type": "stream",
     "text": [
      "core_remodeling  Hallmark\n",
      "0.0              Yes         57\n",
      "1.0              Yes         31\n",
      "Name: enh_id, dtype: int64\n"
     ]
    },
    {
     "data": {
      "text/plain": [
       "core_remodeling  Hallmark\n",
       "0.0              Yes         360\n",
       "1.0              Yes         243\n",
       "Name: enh_id, dtype: int64"
      ]
     },
     "execution_count": 468,
     "metadata": {},
     "output_type": "execute_result"
    }
   ],
   "source": [
    "print(merged.groupby([\"core_remodeling\",\"Hallmark\"])[\"enh_id\"].count())\n",
    "print(nocancer_fdf.groupby([\"core_remodeling\",\"Hallmark\"])[\"enh_id\"].count())\n",
    "obs = [[57, 360], [31, 243]]\n",
    "print(stats.fisher_exact(obs))"
   ]
  },
  {
   "cell_type": "code",
   "execution_count": 462,
   "metadata": {},
   "outputs": [
    {
     "data": {
      "text/plain": [
       "core_remodeling  Role in Cancer       \n",
       "0.0              TSG                      10\n",
       "                 TSG, fusion              23\n",
       "                 fusion                   13\n",
       "                 oncogene                 19\n",
       "                 oncogene, TSG            15\n",
       "                 oncogene, TSG, fusion    11\n",
       "                 oncogene, fusion         36\n",
       "1.0              TSG                       9\n",
       "                 TSG, fusion              16\n",
       "                 fusion                    7\n",
       "                 oncogene                 19\n",
       "                 oncogene, TSG             7\n",
       "                 oncogene, TSG, fusion     7\n",
       "                 oncogene, fusion         16\n",
       "Name: enh_id, dtype: int64"
      ]
     },
     "execution_count": 462,
     "metadata": {},
     "output_type": "execute_result"
    }
   ],
   "source": [
    "merged.groupby([\"core_remodeling\",\"Role in Cancer\"])[\"enh_id\"].count()"
   ]
  },
  {
   "cell_type": "code",
   "execution_count": 463,
   "metadata": {},
   "outputs": [
    {
     "data": {
      "text/plain": [
       "core_remodeling  Role in Cancer       \n",
       "0.0              TSG                      107\n",
       "                 TSG, fusion              145\n",
       "                 fusion                    84\n",
       "                 oncogene                  67\n",
       "                 oncogene, TSG             30\n",
       "                 oncogene, TSG, fusion     39\n",
       "                 oncogene, fusion         175\n",
       "1.0              TSG                       73\n",
       "                 TSG, fusion              110\n",
       "                 fusion                    54\n",
       "                 oncogene                  45\n",
       "                 oncogene, TSG             26\n",
       "                 oncogene, TSG, fusion     28\n",
       "                 oncogene, fusion         160\n",
       "Name: enh_id, dtype: int64"
      ]
     },
     "execution_count": 463,
     "metadata": {},
     "output_type": "execute_result"
    }
   ],
   "source": [
    "nocancer_fdf.groupby([\"core_remodeling\",\"Role in Cancer\"])[\"enh_id\"].count()"
   ]
  },
  {
   "cell_type": "code",
   "execution_count": 464,
   "metadata": {},
   "outputs": [
    {
     "data": {
      "text/plain": [
       "array([nan, 'oncogene, fusion', 'TSG, fusion', 'oncogene', 'TSG',\n",
       "       'oncogene, TSG', 'fusion', 'oncogene, TSG, fusion'], dtype=object)"
      ]
     },
     "execution_count": 464,
     "metadata": {},
     "output_type": "execute_result"
    }
   ],
   "source": [
    "nocancer_fdf[\"Role in Cancer\"].unique()"
   ]
  },
  {
   "cell_type": "markdown",
   "metadata": {},
   "source": [
    "# are simple enhancers enriched at oncogenes? "
   ]
  },
  {
   "cell_type": "code",
   "execution_count": 465,
   "metadata": {},
   "outputs": [
    {
     "name": "stdout",
     "output_type": "stream",
     "text": [
      "[[81, 49], [311, 259]]\n",
      "(1.3766651355075792, 0.11767146697089105) oncogene\n",
      "[[83, 46], [443, 352]]\n",
      "(1.4337030130532928, 0.06921877396166945) fusion\n",
      "[[59, 39], [321, 237]]\n",
      "(1.1169422477833693, 0.65820095906306908) TSG\n"
     ]
    }
   ],
   "source": [
    "annot = [\"oncogene\", \"fusion\", \"TSG\"]\n",
    "for ann in annot:\n",
    "    if str(mg) != \"nan\":\n",
    "\n",
    "        nc = nocancer_fdf.loc[nocancer_fdf[\"Role in Cancer\"].str.contains(ann)== True].groupby([\"core_remodeling\"])[\"enh_id\"].count().reset_index()\n",
    "        nc_s = nc.loc[nc.core_remodeling == 0, \"enh_id\"].iloc[0]\n",
    "        nc_c = nc.loc[nc.core_remodeling != 0, \"enh_id\"].iloc[0]\n",
    "\n",
    "        c = merged.loc[merged[\"Role in Cancer\"].str.contains(ann)== True].groupby([\"core_remodeling\"])[\"enh_id\"].count().reset_index()\n",
    "        c_s = c.loc[c.core_remodeling == 0, \"enh_id\"].iloc[0]\n",
    "        c_c = c.loc[c.core_remodeling != 0, \"enh_id\"].iloc[0]\n",
    "\n",
    "        #[[simple_overlapping, simple_nonoverlapping], [complex_overlapping, complex_non-overlapping]]\n",
    "        obs = [[c_s, c_c], [nc_s, nc_c ]]\n",
    "\n",
    "        print(obs)\n",
    "\n",
    "        print(stats.fisher_exact(obs), ann)"
   ]
  },
  {
   "cell_type": "code",
   "execution_count": 332,
   "metadata": {},
   "outputs": [
    {
     "name": "stdout",
     "output_type": "stream",
     "text": [
      "(2.8836363636363638, 0.029448448609541458) oncogene 0.38\n"
     ]
    }
   ],
   "source": [
    "blank = pd.DataFrame({\"core_remodeling\": [0,1]})\n",
    "mrcas = [0.957, 0.656, 0.49 ,  0.38 ,  0.308,   0.175, 0.152, 0.131, 0.126, 0]\n",
    "for m in mrcas:\n",
    "    m_nocancer = nocancer_fdf.loc[nocancer_fdf[\"mrca_2\"] == m]\n",
    "    m_cancer = merged.loc[merged[\"mrca_2\"] == m]\n",
    "    for ann in annot:\n",
    "        if str(mg) != \"nan\":\n",
    "            nc = m_nocancer.loc[m_nocancer[\"Role in Cancer\"].str.contains(ann) == True].groupby([\"core_remodeling\"])[\"enh_id\"].count().reset_index()\n",
    "            nc = pd.merge(nc, blank, how = \"outer\").fillna(0)\n",
    "            nc_s = nc.loc[nc.core_remodeling == 0, \"enh_id\"].iloc[0]\n",
    "            nc_c = nc.loc[nc.core_remodeling != 0, \"enh_id\"].iloc[0]\n",
    "\n",
    "\n",
    "            c = m_cancer.loc[m_cancer[\"Role in Cancer\"].str.contains(ann)== True].groupby([\"core_remodeling\"])[\"enh_id\"].count().reset_index()\n",
    "            c = pd.merge(c, blank, how = \"outer\").fillna(0)\n",
    "            c_s = c.loc[c.core_remodeling == 0, \"enh_id\"].iloc[0]\n",
    "            c_c = c.loc[c.core_remodeling != 0, \"enh_id\"].iloc[0]\n",
    "                \n",
    "\n",
    "            #[[simple_overlapping, simple_nonoverlapping], [complex_overlapping, complex_non-overlapping]]\n",
    "            obs = [[c_s, c_c], [nc_s, nc_c ]]\n",
    "\n",
    "            OR, P = stats.fisher_exact(obs)\n",
    "            if P<0.05:\n",
    "                print(stats.fisher_exact(obs), ann, m)"
   ]
  },
  {
   "cell_type": "markdown",
   "metadata": {},
   "source": [
    "# cancer enhancers enriched in oncogenes v. non-cancer enhancers?\n",
    "\n",
    "yes.\n",
    "\n",
    "    oncogene [[130, 78], [571, 574]]\n",
    "    (1.6754232340922359, 0.00088015885226086314) \n",
    "\n",
    "    fusion [[129, 79], [796, 349]]\n",
    "    (0.71593728134342594, 0.035176009540591698) \n",
    "\n",
    "    TSG [[98, 110], [560, 585]]\n",
    "    (0.93068181818181817, 0.65151222480595572) "
   ]
  },
  {
   "cell_type": "code",
   "execution_count": 333,
   "metadata": {},
   "outputs": [
    {
     "name": "stdout",
     "output_type": "stream",
     "text": [
      "(1.6754232340922359, 0.00088015885226086314) oncogene [[130, 78], [571, 574]]\n",
      "(0.71593728134342594, 0.035176009540591698) fusion [[129, 79], [796, 349]]\n",
      "(0.93068181818181817, 0.65151222480595572) TSG [[98, 110], [560, 585]]\n"
     ]
    }
   ],
   "source": [
    "for ann in annot:\n",
    "\n",
    "    nc_s = nocancer_fdf.loc[nocancer_fdf[\"Role in Cancer\"].str.contains(ann) == True, \"enh_id\"].shape[0]\n",
    "    nc_c = nocancer_fdf.loc[nocancer_fdf[\"Role in Cancer\"].str.contains(ann) == False, \"enh_id\"].shape[0]\n",
    "\n",
    "    c_s = merged.loc[merged[\"Role in Cancer\"].str.contains(ann) == True, \"enh_id\"].shape[0]\n",
    "    c_c = merged.loc[merged[\"Role in Cancer\"].str.contains(ann) == False, \"enh_id\"].shape[0]\n",
    "\n",
    "    #c = pd.merge(c, blank, how = \"outer\").fillna(0)\n",
    "    #c_s = c.loc[c.core_remodeling == 0, \"enh_id\"].iloc[0]\n",
    "    #c_c = c.loc[c.core_remodeling != 0, \"enh_id\"].iloc[0]\n",
    "\n",
    "\n",
    "    #[[simple_overlapping, simple_nonoverlapping], [complex_overlapping, complex_non-overlapping]]\n",
    "    obs = [[c_s, c_c], [nc_s, nc_c ]]\n",
    "\n",
    "    OR, P = stats.fisher_exact(obs)\n",
    "\n",
    "    print(stats.fisher_exact(obs), ann,  obs)"
   ]
  },
  {
   "cell_type": "markdown",
   "metadata": {},
   "source": [
    "# oncogenes enriched in older cancer enhancers v. older non-cancer enhancers?"
   ]
  },
  {
   "cell_type": "code",
   "execution_count": 335,
   "metadata": {},
   "outputs": [
    {
     "data": {
      "text/plain": [
       "array([[0, 0],\n",
       "       [0, 0]])"
      ]
     },
     "execution_count": 335,
     "metadata": {},
     "output_type": "execute_result"
    }
   ],
   "source": [
    "obs"
   ]
  },
  {
   "cell_type": "code",
   "execution_count": 336,
   "metadata": {},
   "outputs": [
    {
     "data": {
      "text/plain": [
       "array([[1, 1],\n",
       "       [1, 1]])"
      ]
     },
     "execution_count": 336,
     "metadata": {},
     "output_type": "execute_result"
    }
   ],
   "source": [
    "obs + 1"
   ]
  },
  {
   "cell_type": "code",
   "execution_count": 338,
   "metadata": {},
   "outputs": [
    {
     "name": "stdout",
     "output_type": "stream",
     "text": [
      "(17.142857142857142, 0.00062632623874873299) oncogene 0.957 [[15  1]\n",
      " [42 48]]\n",
      "(0.5, 0.25922482997680196) fusion 0.957 [[ 8  8]\n",
      " [60 30]]\n",
      "(0.21212121212121213, 0.012296888350141675) TSG 0.957 [[ 4 12]\n",
      " [55 35]]\n",
      "(0.55555555555555558, 0.71108241512895032) oncogene 0.656 [[ 3  6]\n",
      " [18 20]]\n",
      "(0.5092592592592593, 0.43805619897849712) fusion 0.656 [[ 5  4]\n",
      " [27 11]]\n",
      "(0.92307692307692313, 1.0) TSG 0.656 [[ 6  3]\n",
      " [26 12]]\n",
      "(1.380281690140845, 0.61385169868853517) oncogene 0.49 [[12  6]\n",
      " [71 49]]\n",
      "(0.55151515151515151, 0.33347194323302709) fusion 0.49 [[13  5]\n",
      " [99 21]]\n",
      "(1.1052631578947369, 1.0) TSG 0.49 [[ 9  9]\n",
      " [57 63]]\n",
      "(2.3946360153256707, 0.037168886753014455) oncogene 0.38 [[25  9]\n",
      " [87 75]]\n",
      "(0.28527200353825743, 0.0019051033032154358) fusion 0.38 [[ 15  19]\n",
      " [119  43]]\n",
      "(0.98124098124098125, 1.0) TSG 0.38 [[16 18]\n",
      " [77 85]]\n",
      "(1.8700000000000001, 0.20113080561989083) oncogene 0.308 [[ 17   8]\n",
      " [100  88]]\n",
      "(0.40164415736934822, 0.040636576869515446) fusion 0.308 [[ 12  13]\n",
      " [131  57]]\n",
      "(1.1677479147358665, 0.83104897793390475) TSG 0.308 [[ 12  13]\n",
      " [ 83 105]]\n",
      "(1.3584301161393673, 0.18248709853400844) oncogene 0.175 [[ 53  44]\n",
      " [227 256]]\n",
      "(1.2485798682117701, 0.40407732172121347) fusion 0.175 [[ 70  27]\n",
      " [326 157]]\n",
      "(1.0337820234476769, 0.91165879458020949) TSG 0.175 [[ 48  49]\n",
      " [235 248]]\n",
      "(2.5833333333333335, 0.28923359141823979) oncogene 0.152 [[ 6  4]\n",
      " [18 31]]\n",
      "(0.42222222222222222, 0.29697518321858596) fusion 0.152 [[ 4  6]\n",
      " [30 19]]\n",
      "(0.5714285714285714, 0.50586234442791878) TSG 0.152 [[ 3  7]\n",
      " [21 28]]\n",
      "(0.58333333333333337, 1.0) oncogene 0.131 [[1 2]\n",
      " [6 7]]\n",
      "(3.2000000000000002, 0.5499999999999996) fusion 0.131 [[2 1]\n",
      " [5 8]]\n",
      "(2.3333333333333335, 1.0) TSG 0.131 [[2 1]\n",
      " [6 7]]\n",
      "(0.80000000000000004, 1.0) oncogene 0.126 [[ 7  7]\n",
      " [10  8]]\n",
      "(2.8285714285714287, 0.2851631909003044) fusion 0.126 [[ 9  5]\n",
      " [ 7 11]]\n",
      "(1.5714285714285714, 0.72126569567507981) TSG 0.126 [[ 7  7]\n",
      " [ 7 11]]\n",
      "(1.0, 1.0) oncogene 0 [[1 1]\n",
      " [1 1]]\n",
      "(1.0, 1.0) fusion 0 [[1 1]\n",
      " [1 1]]\n",
      "(1.0, 1.0) TSG 0 [[1 1]\n",
      " [1 1]]\n"
     ]
    }
   ],
   "source": [
    "mrca_results = {}\n",
    "blank = pd.DataFrame({\"core_remodeling\": [0,1]})\n",
    "nocancer_fdf[\"mrca_2\"] = nocancer_fdf[\"mrca_2\"].round(3)\n",
    "merged[\"mrca_2\"] = merged[\"mrca_2\"].round(3)\n",
    "annot = [\"oncogene\", \"fusion\", \"TSG\"]\n",
    "for m in mrcas:\n",
    "    m_nocancer = nocancer_fdf.loc[nocancer_fdf[\"mrca_2\"] == m]\n",
    "    m_cancer = merged.loc[merged[\"mrca_2\"] == m]\n",
    "    \n",
    "    for ann in annot:\n",
    "\n",
    "        nc_s = m_nocancer.loc[m_nocancer[\"Role in Cancer\"].str.contains(ann) == True, \"enh_id\"].shape[0]\n",
    "        nc_c = m_nocancer.loc[m_nocancer[\"Role in Cancer\"].str.contains(ann) == False, \"enh_id\"].shape[0]\n",
    "\n",
    "        c_s = m_cancer.loc[m_cancer[\"Role in Cancer\"].str.contains(ann) == True, \"enh_id\"].shape[0]\n",
    "        c_c = m_cancer.loc[m_cancer[\"Role in Cancer\"].str.contains(ann) == False, \"enh_id\"].shape[0]\n",
    "\n",
    "        obs = [[c_s, c_c], [nc_s, nc_c ]]\n",
    "        obs = np.array(obs) # turn obs into array\n",
    "        obs = obs +1\n",
    "        OR, P = stats.fisher_exact(obs)\n",
    "\n",
    "        table = sm.stats.Table2x2(obs) # get confidence interval\n",
    "        odds_ci = table.oddsratio_confint()\n",
    "        new_df = pd.DataFrame({\n",
    "            \"OR\":[OR],\n",
    "            \"P\":[P],\n",
    "            \"mrca_2\":[m],\n",
    "            \"n_simple_can\":[c_s],\n",
    "            \"n_complex_can\":[c_c],\n",
    "            \"n_simple_non\":[nc_s],\n",
    "            \"n_complex_non\":[nc_c],\n",
    "            \"ci_lower\" :[odds_ci[0]],\n",
    "            \"ci_upper\" :[odds_ci[1]],\n",
    "            \"yerr\":[odds_ci[1] - odds_ci[0]], \n",
    "            \"log2\":[np.log2(OR)],\n",
    "            \"annot\":[ann]\n",
    "        })\n",
    "        mrca_results[f\"{m}-{ann}\"] = new_df\n",
    "        OR, P = stats.fisher_exact(obs)\n",
    "\n",
    "        print(stats.fisher_exact(obs), ann, m, obs)"
   ]
  },
  {
   "cell_type": "code",
   "execution_count": 339,
   "metadata": {
    "collapsed": true
   },
   "outputs": [],
   "source": [
    "mdf = pd.concat(mrca_results.values())"
   ]
  },
  {
   "cell_type": "code",
   "execution_count": 373,
   "metadata": {},
   "outputs": [
    {
     "data": {
      "text/html": [
       "<div>\n",
       "<style>\n",
       "    .dataframe thead tr:only-child th {\n",
       "        text-align: right;\n",
       "    }\n",
       "\n",
       "    .dataframe thead th {\n",
       "        text-align: left;\n",
       "    }\n",
       "\n",
       "    .dataframe tbody tr th {\n",
       "        vertical-align: top;\n",
       "    }\n",
       "</style>\n",
       "<table border=\"1\" class=\"dataframe\">\n",
       "  <thead>\n",
       "    <tr style=\"text-align: right;\">\n",
       "      <th></th>\n",
       "      <th>OR</th>\n",
       "      <th>P</th>\n",
       "      <th>annot</th>\n",
       "      <th>ci_lower</th>\n",
       "      <th>ci_upper</th>\n",
       "      <th>log2</th>\n",
       "      <th>mrca_2</th>\n",
       "      <th>n_complex_can</th>\n",
       "      <th>n_complex_non</th>\n",
       "      <th>n_simple_can</th>\n",
       "      <th>n_simple_non</th>\n",
       "      <th>yerr</th>\n",
       "      <th>ci_lower_log</th>\n",
       "      <th>ci_upper_log</th>\n",
       "      <th>yerr_log</th>\n",
       "    </tr>\n",
       "  </thead>\n",
       "  <tbody>\n",
       "    <tr>\n",
       "      <th>0</th>\n",
       "      <td>1.000000</td>\n",
       "      <td>1.000000</td>\n",
       "      <td>oncogene</td>\n",
       "      <td>0.019843</td>\n",
       "      <td>50.396815</td>\n",
       "      <td>0.000000</td>\n",
       "      <td>0.000</td>\n",
       "      <td>0</td>\n",
       "      <td>0</td>\n",
       "      <td>0</td>\n",
       "      <td>0</td>\n",
       "      <td>50.376972</td>\n",
       "      <td>-5.655261</td>\n",
       "      <td>5.655261</td>\n",
       "      <td>11.310521</td>\n",
       "    </tr>\n",
       "    <tr>\n",
       "      <th>0</th>\n",
       "      <td>0.800000</td>\n",
       "      <td>1.000000</td>\n",
       "      <td>oncogene</td>\n",
       "      <td>0.197145</td>\n",
       "      <td>3.246348</td>\n",
       "      <td>-0.321928</td>\n",
       "      <td>0.126</td>\n",
       "      <td>6</td>\n",
       "      <td>7</td>\n",
       "      <td>6</td>\n",
       "      <td>9</td>\n",
       "      <td>3.049203</td>\n",
       "      <td>-2.342674</td>\n",
       "      <td>1.698817</td>\n",
       "      <td>4.041491</td>\n",
       "    </tr>\n",
       "    <tr>\n",
       "      <th>0</th>\n",
       "      <td>0.583333</td>\n",
       "      <td>1.000000</td>\n",
       "      <td>oncogene</td>\n",
       "      <td>0.041773</td>\n",
       "      <td>8.145930</td>\n",
       "      <td>-0.777608</td>\n",
       "      <td>0.131</td>\n",
       "      <td>1</td>\n",
       "      <td>6</td>\n",
       "      <td>0</td>\n",
       "      <td>5</td>\n",
       "      <td>8.104158</td>\n",
       "      <td>-4.581295</td>\n",
       "      <td>3.026079</td>\n",
       "      <td>7.607374</td>\n",
       "    </tr>\n",
       "    <tr>\n",
       "      <th>0</th>\n",
       "      <td>2.583333</td>\n",
       "      <td>0.289234</td>\n",
       "      <td>oncogene</td>\n",
       "      <td>0.642095</td>\n",
       "      <td>10.393491</td>\n",
       "      <td>1.369234</td>\n",
       "      <td>0.152</td>\n",
       "      <td>3</td>\n",
       "      <td>30</td>\n",
       "      <td>5</td>\n",
       "      <td>17</td>\n",
       "      <td>9.751396</td>\n",
       "      <td>-0.639141</td>\n",
       "      <td>3.377608</td>\n",
       "      <td>4.016749</td>\n",
       "    </tr>\n",
       "    <tr>\n",
       "      <th>0</th>\n",
       "      <td>1.358430</td>\n",
       "      <td>0.182487</td>\n",
       "      <td>oncogene</td>\n",
       "      <td>0.876759</td>\n",
       "      <td>2.104719</td>\n",
       "      <td>0.441940</td>\n",
       "      <td>0.175</td>\n",
       "      <td>43</td>\n",
       "      <td>255</td>\n",
       "      <td>52</td>\n",
       "      <td>226</td>\n",
       "      <td>1.227960</td>\n",
       "      <td>-0.189747</td>\n",
       "      <td>1.073628</td>\n",
       "      <td>1.263375</td>\n",
       "    </tr>\n",
       "    <tr>\n",
       "      <th>0</th>\n",
       "      <td>1.870000</td>\n",
       "      <td>0.201131</td>\n",
       "      <td>oncogene</td>\n",
       "      <td>0.769605</td>\n",
       "      <td>4.543760</td>\n",
       "      <td>0.903038</td>\n",
       "      <td>0.308</td>\n",
       "      <td>7</td>\n",
       "      <td>87</td>\n",
       "      <td>16</td>\n",
       "      <td>99</td>\n",
       "      <td>3.774155</td>\n",
       "      <td>-0.377810</td>\n",
       "      <td>2.183887</td>\n",
       "      <td>2.561697</td>\n",
       "    </tr>\n",
       "    <tr>\n",
       "      <th>0</th>\n",
       "      <td>2.394636</td>\n",
       "      <td>0.037169</td>\n",
       "      <td>oncogene</td>\n",
       "      <td>1.052453</td>\n",
       "      <td>5.448493</td>\n",
       "      <td>1.259806</td>\n",
       "      <td>0.380</td>\n",
       "      <td>8</td>\n",
       "      <td>74</td>\n",
       "      <td>24</td>\n",
       "      <td>86</td>\n",
       "      <td>4.396040</td>\n",
       "      <td>0.073756</td>\n",
       "      <td>2.445857</td>\n",
       "      <td>2.372102</td>\n",
       "    </tr>\n",
       "    <tr>\n",
       "      <th>0</th>\n",
       "      <td>1.380282</td>\n",
       "      <td>0.613852</td>\n",
       "      <td>oncogene</td>\n",
       "      <td>0.485238</td>\n",
       "      <td>3.926272</td>\n",
       "      <td>0.464963</td>\n",
       "      <td>0.490</td>\n",
       "      <td>5</td>\n",
       "      <td>48</td>\n",
       "      <td>11</td>\n",
       "      <td>70</td>\n",
       "      <td>3.441034</td>\n",
       "      <td>-1.043235</td>\n",
       "      <td>1.973160</td>\n",
       "      <td>3.016395</td>\n",
       "    </tr>\n",
       "    <tr>\n",
       "      <th>0</th>\n",
       "      <td>0.555556</td>\n",
       "      <td>0.711082</td>\n",
       "      <td>oncogene</td>\n",
       "      <td>0.120877</td>\n",
       "      <td>2.553353</td>\n",
       "      <td>-0.847997</td>\n",
       "      <td>0.656</td>\n",
       "      <td>5</td>\n",
       "      <td>19</td>\n",
       "      <td>2</td>\n",
       "      <td>17</td>\n",
       "      <td>2.432476</td>\n",
       "      <td>-3.048387</td>\n",
       "      <td>1.352393</td>\n",
       "      <td>4.400780</td>\n",
       "    </tr>\n",
       "    <tr>\n",
       "      <th>0</th>\n",
       "      <td>17.142857</td>\n",
       "      <td>0.000626</td>\n",
       "      <td>oncogene</td>\n",
       "      <td>2.171490</td>\n",
       "      <td>135.334500</td>\n",
       "      <td>4.099536</td>\n",
       "      <td>0.957</td>\n",
       "      <td>0</td>\n",
       "      <td>47</td>\n",
       "      <td>14</td>\n",
       "      <td>41</td>\n",
       "      <td>133.163009</td>\n",
       "      <td>1.118685</td>\n",
       "      <td>7.080386</td>\n",
       "      <td>5.961700</td>\n",
       "    </tr>\n",
       "  </tbody>\n",
       "</table>\n",
       "</div>"
      ],
      "text/plain": [
       "          OR         P     annot  ci_lower    ci_upper      log2  mrca_2  \\\n",
       "0   1.000000  1.000000  oncogene  0.019843   50.396815  0.000000   0.000   \n",
       "0   0.800000  1.000000  oncogene  0.197145    3.246348 -0.321928   0.126   \n",
       "0   0.583333  1.000000  oncogene  0.041773    8.145930 -0.777608   0.131   \n",
       "0   2.583333  0.289234  oncogene  0.642095   10.393491  1.369234   0.152   \n",
       "0   1.358430  0.182487  oncogene  0.876759    2.104719  0.441940   0.175   \n",
       "0   1.870000  0.201131  oncogene  0.769605    4.543760  0.903038   0.308   \n",
       "0   2.394636  0.037169  oncogene  1.052453    5.448493  1.259806   0.380   \n",
       "0   1.380282  0.613852  oncogene  0.485238    3.926272  0.464963   0.490   \n",
       "0   0.555556  0.711082  oncogene  0.120877    2.553353 -0.847997   0.656   \n",
       "0  17.142857  0.000626  oncogene  2.171490  135.334500  4.099536   0.957   \n",
       "\n",
       "   n_complex_can  n_complex_non  n_simple_can  n_simple_non        yerr  \\\n",
       "0              0              0             0             0   50.376972   \n",
       "0              6              7             6             9    3.049203   \n",
       "0              1              6             0             5    8.104158   \n",
       "0              3             30             5            17    9.751396   \n",
       "0             43            255            52           226    1.227960   \n",
       "0              7             87            16            99    3.774155   \n",
       "0              8             74            24            86    4.396040   \n",
       "0              5             48            11            70    3.441034   \n",
       "0              5             19             2            17    2.432476   \n",
       "0              0             47            14            41  133.163009   \n",
       "\n",
       "   ci_lower_log  ci_upper_log   yerr_log  \n",
       "0     -5.655261      5.655261  11.310521  \n",
       "0     -2.342674      1.698817   4.041491  \n",
       "0     -4.581295      3.026079   7.607374  \n",
       "0     -0.639141      3.377608   4.016749  \n",
       "0     -0.189747      1.073628   1.263375  \n",
       "0     -0.377810      2.183887   2.561697  \n",
       "0      0.073756      2.445857   2.372102  \n",
       "0     -1.043235      1.973160   3.016395  \n",
       "0     -3.048387      1.352393   4.400780  \n",
       "0      1.118685      7.080386   5.961700  "
      ]
     },
     "execution_count": 373,
     "metadata": {},
     "output_type": "execute_result"
    }
   ],
   "source": [
    "onc = mdf.loc[mdf.annot ==\"oncogene\"].sort_values(by = \"mrca_2\")\n",
    "onc[\"ci_lower_log\"]= np.log2(onc[\"ci_lower\"])\n",
    "onc[\"ci_upper_log\"]= np.log2(onc[\"ci_upper\"])\n",
    "onc[\"yerr_log\"]= onc[\"ci_upper_log\"] - onc[\"ci_lower_log\"]\n",
    "onc"
   ]
  },
  {
   "cell_type": "code",
   "execution_count": 372,
   "metadata": {},
   "outputs": [
    {
     "data": {
      "image/png": "[encoded data removed]",
      "text/plain": [
       "<matplotlib.figure.Figure at 0x2b72989bcda0>"
      ]
     },
     "metadata": {},
     "output_type": "display_data"
    }
   ],
   "source": [
    "mrca_ = pd.concat(mrca_results.values())\n",
    "fig, ax = plt.subplots()\n",
    "sns.set(\"poster\")\n",
    "sns.set_style(\"white\")\n",
    "\n",
    "#xlabs = [\"euar+prim\", \"bore\", \"euth\", \"ther\", \"mam\", \"amni\", \"tetr\", \"vert\"]\n",
    "x, y = \"mrca_2\", \"log2\"\n",
    "data = onc.sort_values(by = \"mrca_2\")\n",
    "\n",
    "sns.barplot(x = x, y = y, data = data,\n",
    "            linewidth=2.5, \n",
    "            edgecolor=\".2\",\n",
    "            yerr = data.sort_values(by = \"mrca_2\")[\"yerr_log\"])\n",
    "\n",
    "\n",
    "ax.set(ylabel= \"Fold Change v. Bkgd\\n(log2-scaled)\",\n",
    "       title = \"simple oncogene eRNA enrichment per age\", \n",
    "       xlabel = \"\",\n",
    "      ylim = (-5,5))\n",
    "\n",
    "#ax.set_xticklabels(xlabs)\n",
    "\n",
    "plt.axhline(0, color = \"grey\", linewidth = 2.5)\n",
    "\n",
    "ticks = ticker.FuncFormatter(lambda x, pos: '{0:g}'.format(round(2**x, 1)))\n",
    "\n",
    "ax.yaxis.set_major_formatter(ticks)\n",
    "ax.yaxis.set_major_locator(MultipleLocator(1))\n",
    "ax.set_xticklabels(ax.get_xticklabels(), rotation = 90)\n",
    "\n",
    "#plt.savefig(\"%scomplex_odds_chen_per_mrca_V_FANTOM.pdf\" % RE, bbox_inches = 'tight')\n",
    "\n",
    "plt.show()\n",
    "\n",
    "\n"
   ]
  },
  {
   "cell_type": "code",
   "execution_count": 392,
   "metadata": {
    "collapsed": true
   },
   "outputs": [],
   "source": [
    "def add_gatekeeper_caretaker_annot(df):\n",
    "\n",
    "    caref = os.path.join(OUTPATH, \"care_takers_domazet-laso_2010.csv\")\n",
    "    gatef = os.path.join(OUTPATH, \"gate_keepers_domazet-laso_2010.csv\")\n",
    "\n",
    "    care = pd.read_csv(caref, header= None)\n",
    "    care.columns = [\"Gene name\"]\n",
    "    care[\"care\"] = True\n",
    "    \n",
    "    gate = pd.read_csv(gatef, header =None)\n",
    "    gate.columns = [\"Gene name\"]\n",
    "    gate[\"gate\"] = True\n",
    "    \n",
    "    df = pd.merge(df, care, how = \"left\")\n",
    "    df = pd.merge(df, gate, how = \"left\")\n",
    "    df[[\"care\", \"gate\"]] = df[[\"care\", \"gate\"]].fillna(False)\n",
    "    \n",
    "    return df"
   ]
  },
  {
   "cell_type": "code",
   "execution_count": 409,
   "metadata": {},
   "outputs": [
    {
     "name": "stdout",
     "output_type": "stream",
     "text": [
      "(15302, 18)\n"
     ]
    },
    {
     "data": {
      "text/html": [
       "<div>\n",
       "<style>\n",
       "    .dataframe thead tr:only-child th {\n",
       "        text-align: right;\n",
       "    }\n",
       "\n",
       "    .dataframe thead th {\n",
       "        text-align: left;\n",
       "    }\n",
       "\n",
       "    .dataframe tbody tr th {\n",
       "        vertical-align: top;\n",
       "    }\n",
       "</style>\n",
       "<table border=\"1\" class=\"dataframe\">\n",
       "  <thead>\n",
       "    <tr style=\"text-align: right;\">\n",
       "      <th></th>\n",
       "      <th>Transcript stable ID</th>\n",
       "      <th>enh_id</th>\n",
       "      <th>Gene stable ID</th>\n",
       "      <th>Gene stable ID version</th>\n",
       "      <th>Gene name</th>\n",
       "      <th>dist</th>\n",
       "      <th>seg_index</th>\n",
       "      <th>core_remodeling</th>\n",
       "      <th>mrca</th>\n",
       "      <th>taxon</th>\n",
       "      <th>mrca_2</th>\n",
       "      <th>taxon2</th>\n",
       "      <th>Gene Symbol</th>\n",
       "      <th>Molecular Genetics</th>\n",
       "      <th>Hallmark</th>\n",
       "      <th>Role in Cancer</th>\n",
       "      <th>care</th>\n",
       "      <th>gate</th>\n",
       "    </tr>\n",
       "  </thead>\n",
       "  <tbody>\n",
       "    <tr>\n",
       "      <th>0</th>\n",
       "      <td>ENST00000607769</td>\n",
       "      <td>chr1:839741-840250</td>\n",
       "      <td>ENSG00000272438</td>\n",
       "      <td>ENSG00000272438.1</td>\n",
       "      <td>NaN</td>\n",
       "      <td>0</td>\n",
       "      <td>4.0</td>\n",
       "      <td>1.0</td>\n",
       "      <td>0.957</td>\n",
       "      <td>Vertebrata</td>\n",
       "      <td>0.957</td>\n",
       "      <td>Vertebrata (615)</td>\n",
       "      <td>NaN</td>\n",
       "      <td>NaN</td>\n",
       "      <td>NaN</td>\n",
       "      <td>NaN</td>\n",
       "      <td>False</td>\n",
       "      <td>False</td>\n",
       "    </tr>\n",
       "    <tr>\n",
       "      <th>1</th>\n",
       "      <td>ENST00000607769</td>\n",
       "      <td>chr1:840753-841210</td>\n",
       "      <td>ENSG00000272438</td>\n",
       "      <td>ENSG00000272438.1</td>\n",
       "      <td>NaN</td>\n",
       "      <td>540</td>\n",
       "      <td>3.0</td>\n",
       "      <td>1.0</td>\n",
       "      <td>0.380</td>\n",
       "      <td>Mammalia</td>\n",
       "      <td>0.380</td>\n",
       "      <td>Mammalia (177)</td>\n",
       "      <td>NaN</td>\n",
       "      <td>NaN</td>\n",
       "      <td>NaN</td>\n",
       "      <td>NaN</td>\n",
       "      <td>False</td>\n",
       "      <td>False</td>\n",
       "    </tr>\n",
       "    <tr>\n",
       "      <th>2</th>\n",
       "      <td>ENST00000448179</td>\n",
       "      <td>chr1:845485-845678</td>\n",
       "      <td>ENSG00000230699</td>\n",
       "      <td>ENSG00000230699.2</td>\n",
       "      <td>NaN</td>\n",
       "      <td>1136</td>\n",
       "      <td>1.0</td>\n",
       "      <td>0.0</td>\n",
       "      <td>0.957</td>\n",
       "      <td>Vertebrata</td>\n",
       "      <td>0.957</td>\n",
       "      <td>Vertebrata (615)</td>\n",
       "      <td>NaN</td>\n",
       "      <td>NaN</td>\n",
       "      <td>NaN</td>\n",
       "      <td>NaN</td>\n",
       "      <td>False</td>\n",
       "      <td>False</td>\n",
       "    </tr>\n",
       "    <tr>\n",
       "      <th>3</th>\n",
       "      <td>ENST00000417705</td>\n",
       "      <td>chr1:855764-856157</td>\n",
       "      <td>ENSG00000223764</td>\n",
       "      <td>ENSG00000223764.2</td>\n",
       "      <td>LINC02593</td>\n",
       "      <td>3515</td>\n",
       "      <td>1.0</td>\n",
       "      <td>0.0</td>\n",
       "      <td>0.957</td>\n",
       "      <td>Vertebrata</td>\n",
       "      <td>0.957</td>\n",
       "      <td>Vertebrata (615)</td>\n",
       "      <td>NaN</td>\n",
       "      <td>NaN</td>\n",
       "      <td>NaN</td>\n",
       "      <td>NaN</td>\n",
       "      <td>False</td>\n",
       "      <td>False</td>\n",
       "    </tr>\n",
       "    <tr>\n",
       "      <th>4</th>\n",
       "      <td>ENST00000618323</td>\n",
       "      <td>chr1:856539-856757</td>\n",
       "      <td>ENSG00000187634</td>\n",
       "      <td>ENSG00000187634.13</td>\n",
       "      <td>SAMD11</td>\n",
       "      <td>3055</td>\n",
       "      <td>2.0</td>\n",
       "      <td>1.0</td>\n",
       "      <td>0.957</td>\n",
       "      <td>Vertebrata</td>\n",
       "      <td>0.957</td>\n",
       "      <td>Vertebrata (615)</td>\n",
       "      <td>NaN</td>\n",
       "      <td>NaN</td>\n",
       "      <td>NaN</td>\n",
       "      <td>NaN</td>\n",
       "      <td>False</td>\n",
       "      <td>False</td>\n",
       "    </tr>\n",
       "  </tbody>\n",
       "</table>\n",
       "</div>"
      ],
      "text/plain": [
       "  Transcript stable ID              enh_id   Gene stable ID  \\\n",
       "0      ENST00000607769  chr1:839741-840250  ENSG00000272438   \n",
       "1      ENST00000607769  chr1:840753-841210  ENSG00000272438   \n",
       "2      ENST00000448179  chr1:845485-845678  ENSG00000230699   \n",
       "3      ENST00000417705  chr1:855764-856157  ENSG00000223764   \n",
       "4      ENST00000618323  chr1:856539-856757  ENSG00000187634   \n",
       "\n",
       "  Gene stable ID version  Gene name  dist  seg_index  core_remodeling   mrca  \\\n",
       "0      ENSG00000272438.1        NaN     0        4.0              1.0  0.957   \n",
       "1      ENSG00000272438.1        NaN   540        3.0              1.0  0.380   \n",
       "2      ENSG00000230699.2        NaN  1136        1.0              0.0  0.957   \n",
       "3      ENSG00000223764.2  LINC02593  3515        1.0              0.0  0.957   \n",
       "4     ENSG00000187634.13     SAMD11  3055        2.0              1.0  0.957   \n",
       "\n",
       "        taxon  mrca_2            taxon2 Gene Symbol Molecular Genetics  \\\n",
       "0  Vertebrata   0.957  Vertebrata (615)         NaN                NaN   \n",
       "1    Mammalia   0.380    Mammalia (177)         NaN                NaN   \n",
       "2  Vertebrata   0.957  Vertebrata (615)         NaN                NaN   \n",
       "3  Vertebrata   0.957  Vertebrata (615)         NaN                NaN   \n",
       "4  Vertebrata   0.957  Vertebrata (615)         NaN                NaN   \n",
       "\n",
       "  Hallmark Role in Cancer   care   gate  \n",
       "0      NaN            NaN  False  False  \n",
       "1      NaN            NaN  False  False  \n",
       "2      NaN            NaN  False  False  \n",
       "3      NaN            NaN  False  False  \n",
       "4      NaN            NaN  False  False  "
      ]
     },
     "execution_count": 409,
     "metadata": {},
     "output_type": "execute_result"
    }
   ],
   "source": [
    "merged = add_gatekeeper_caretaker_annot(merged)\n",
    "nocancer_fdf = add_gatekeeper_caretaker_annot(nocancer_fdf)\n",
    "\n",
    "print(merged.shape)\n",
    "\n",
    "#merged = merged.drop([\"care\", \"gate\"], axis = 1)\n",
    "merged.head()"
   ]
  },
  {
   "cell_type": "markdown",
   "metadata": {},
   "source": [
    "# gate keeper + caretaker enriched in cancer enhancers v. non-cancer enhancers?"
   ]
  },
  {
   "cell_type": "code",
   "execution_count": 413,
   "metadata": {},
   "outputs": [
    {
     "name": "stdout",
     "output_type": "stream",
     "text": [
      "(0.43535926810821485, 1.153002325131307e-10) care [[69, 15233], [238, 22875]]\n",
      "(0.45777084600930651, 1.2023324960935412e-49) gate [[440, 14862], [1404, 21709]]\n"
     ]
    }
   ],
   "source": [
    "annots = [\"care\", \"gate\"]\n",
    "for ann in annots:\n",
    "\n",
    "    nc_s = nocancer_fdf.loc[nocancer_fdf[ann] == True, \"enh_id\"].shape[0]\n",
    "    nc_c = nocancer_fdf.loc[nocancer_fdf[ann] == False, \"enh_id\"].shape[0]\n",
    "\n",
    "    c_s = merged.loc[merged[ann] == True,  \"enh_id\"].shape[0]\n",
    "    c_c = merged.loc[merged[ann] == False, \"enh_id\"].shape[0]\n",
    "\n",
    "    #c = pd.merge(c, blank, how = \"outer\").fillna(0)\n",
    "    #c_s = c.loc[c.core_remodeling == 0, \"enh_id\"].iloc[0]\n",
    "    #c_c = c.loc[c.core_remodeling != 0, \"enh_id\"].iloc[0]\n",
    "\n",
    "\n",
    "    #[[simple_overlapping, simple_nonoverlapping], [complex_overlapping, complex_non-overlapping]]\n",
    "    obs = [[c_s, c_c], [nc_s, nc_c ]]\n",
    "\n",
    "    OR, P = stats.fisher_exact(obs)\n",
    "\n",
    "    print(stats.fisher_exact(obs), ann,  obs)"
   ]
  },
  {
   "cell_type": "markdown",
   "metadata": {},
   "source": [
    "# per age?"
   ]
  },
  {
   "cell_type": "code",
   "execution_count": 414,
   "metadata": {},
   "outputs": [
    {
     "name": "stdout",
     "output_type": "stream",
     "text": [
      "(0.72619604176406416, 0.77662595470481643) care 0.957 [[   4  713]\n",
      " [   9 1165]]\n",
      "(0.61436090117738162, 0.011865691940256584) gate 0.957 [[  40  677]\n",
      " [ 103 1071]]\n",
      "(0.3487179487179487, 0.42546325590506096) care 0.656 [[  1 273]\n",
      " [  5 476]]\n",
      "(0.27130325814536344, 0.00024536823693675178) gate 0.656 [[  8 266]\n",
      " [ 48 433]]\n",
      "(0.27754155392346347, 0.10178691679312424) care 0.49 [[   2  597]\n",
      " [  13 1077]]\n",
      "(0.26288659793814434, 1.8165534540436351e-08) gate 0.49 [[ 17 582]\n",
      " [109 981]]\n",
      "(0.23095655562049483, 0.0018658710305531495) care 0.38 [[   4 1416]\n",
      " [  29 2371]]\n",
      "(0.44086592735241387, 1.0841185288433058e-07) gate 0.38 [[  51 1369]\n",
      " [ 187 2213]]\n",
      "(0.6968049402604376, 0.30695876365082275) care 0.308 [[  14 1528]\n",
      " [  39 2966]]\n",
      "(0.55312095312095311, 6.7809044697133148e-05) gate 0.308 [[  57 1485]\n",
      " [ 195 2810]]\n",
      "(0.46839462783983932, 1.5935191003557523e-05) care 0.175 [[   39  7967]\n",
      " [  130 12439]]\n",
      "(0.49555771571138363, 4.9497134413098136e-20) gate 0.175 [[  213  7793]\n",
      " [  657 11912]]\n",
      "(0.660377358490566, 0.48068538636788932) care 0.152 [[   7 1219]\n",
      " [  11 1265]]\n",
      "(0.29004219764197892, 1.8773434975402037e-06) gate 0.152 [[  17 1209]\n",
      " [  59 1217]]\n",
      "(0.28037383177570091, 0.33773207283924267) care 0.131 [[  1 214]\n",
      " [  3 180]]\n",
      "(0.46652864044168391, 0.12211209215622593) gate 0.131 [[  8 207]\n",
      " [ 14 169]]\n",
      "(0.55525883319638458, 0.29002130023370432) care 0.126 [[   6 1217]\n",
      " [   8  901]]\n",
      "(0.6604697075638547, 0.080101009673581386) gate 0.126 [[  37 1186]\n",
      " [  41  868]]\n",
      "(0.52380952380952384, 1.0) care 0 [[ 1 63]\n",
      " [ 1 33]]\n",
      "(1.064516129032258, 1.0) gate 0 [[ 2 62]\n",
      " [ 1 33]]\n"
     ]
    }
   ],
   "source": [
    "mrca_results = {}\n",
    "nocancer_fdf[\"mrca_2\"] = nocancer_fdf[\"mrca_2\"].round(3)\n",
    "merged[\"mrca_2\"] = merged[\"mrca_2\"].round(3)\n",
    "\n",
    "for m in mrcas:\n",
    "    m_nocancer = nocancer_fdf.loc[nocancer_fdf[\"mrca_2\"] == m]\n",
    "    m_cancer = merged.loc[merged[\"mrca_2\"] == m]\n",
    "    \n",
    "    for ann in annots:\n",
    "\n",
    "        nc_s = m_nocancer.loc[m_nocancer[ann] == True, \"enh_id\"].shape[0]\n",
    "        nc_c = m_nocancer.loc[m_nocancer[ann] == False, \"enh_id\"].shape[0]\n",
    "\n",
    "        c_s = m_cancer.loc[m_cancer[ann] == True, \"enh_id\"].shape[0]\n",
    "        c_c = m_cancer.loc[m_cancer[ann] == False, \"enh_id\"].shape[0]\n",
    "\n",
    "        obs = [[c_s, c_c], [nc_s, nc_c ]]\n",
    "        obs = np.array(obs) # turn obs into array\n",
    "        obs = obs +1\n",
    "        OR, P = stats.fisher_exact(obs)\n",
    "\n",
    "        table = sm.stats.Table2x2(obs) # get confidence interval\n",
    "        odds_ci = table.oddsratio_confint()\n",
    "        new_df = pd.DataFrame({\n",
    "            \"OR\":[OR],\n",
    "            \"P\":[P],\n",
    "            \"mrca_2\":[m],\n",
    "            \"n_simple_can\":[c_s],\n",
    "            \"n_complex_can\":[c_c],\n",
    "            \"n_simple_non\":[nc_s],\n",
    "            \"n_complex_non\":[nc_c],\n",
    "            \"ci_lower\" :[odds_ci[0]],\n",
    "            \"ci_upper\" :[odds_ci[1]],\n",
    "            \"yerr\":[odds_ci[1] - odds_ci[0]], \n",
    "            \"log2\":[np.log2(OR)],\n",
    "            \"annot\":[ann]\n",
    "        })\n",
    "        mrca_results[f\"{m}-{ann}\"] = new_df\n",
    "        OR, P = stats.fisher_exact(obs)\n",
    "\n",
    "        print(stats.fisher_exact(obs), ann, m, obs)"
   ]
  },
  {
   "cell_type": "code",
   "execution_count": 419,
   "metadata": {
    "collapsed": true
   },
   "outputs": [],
   "source": [
    "gateE = merged.loc[merged.gate == True]\n",
    "careE = merged.loc[merged.care == True]"
   ]
  },
  {
   "cell_type": "code",
   "execution_count": 424,
   "metadata": {},
   "outputs": [
    {
     "data": {
      "text/plain": [
       "<matplotlib.legend.Legend at 0x2b7279e3ca58>"
      ]
     },
     "execution_count": 424,
     "metadata": {},
     "output_type": "execute_result"
    },
    {
     "data": {
      "image/png": "[encoded data removed]",
      "text/plain": [
       "<matplotlib.figure.Figure at 0x2b7279e3c668>"
      ]
     },
     "metadata": {},
     "output_type": "display_data"
    }
   ],
   "source": [
    "sns.distplot(gateE.mrca_2, label = \"gate\")\n",
    "sns.distplot(careE.mrca_2, label = \"care\")\n",
    "plt.legend()"
   ]
  },
  {
   "cell_type": "code",
   "execution_count": 421,
   "metadata": {
    "collapsed": true
   },
   "outputs": [],
   "source": [
    "% matplotlib inline"
   ]
  },
  {
   "cell_type": "code",
   "execution_count": 425,
   "metadata": {},
   "outputs": [
    {
     "data": {
      "text/plain": [
       "MannwhitneyuResult(statistic=13321.5, pvalue=0.040324080424190285)"
      ]
     },
     "execution_count": 425,
     "metadata": {},
     "output_type": "execute_result"
    }
   ],
   "source": [
    "stats.mannwhitneyu(gateE.mrca_2, careE.mrca_2)"
   ]
  },
  {
   "cell_type": "code",
   "execution_count": 428,
   "metadata": {},
   "outputs": [
    {
     "data": {
      "text/plain": [
       "(0.175, 0.175)"
      ]
     },
     "execution_count": 428,
     "metadata": {},
     "output_type": "execute_result"
    }
   ],
   "source": [
    "careE.mrca_2.median(), gateE.mrca_2.median()"
   ]
  },
  {
   "cell_type": "code",
   "execution_count": 429,
   "metadata": {},
   "outputs": [
    {
     "data": {
      "text/plain": [
       "(0.24198550724637696, 0.29769999999999963)"
      ]
     },
     "execution_count": 429,
     "metadata": {},
     "output_type": "execute_result"
    }
   ],
   "source": [
    "careE.mrca_2.mean(), gateE.mrca_2.mean()"
   ]
  },
  {
   "cell_type": "code",
   "execution_count": 430,
   "metadata": {},
   "outputs": [
    {
     "data": {
      "text/html": [
       "<div>\n",
       "<style>\n",
       "    .dataframe thead tr:only-child th {\n",
       "        text-align: right;\n",
       "    }\n",
       "\n",
       "    .dataframe thead th {\n",
       "        text-align: left;\n",
       "    }\n",
       "\n",
       "    .dataframe tbody tr th {\n",
       "        vertical-align: top;\n",
       "    }\n",
       "</style>\n",
       "<table border=\"1\" class=\"dataframe\">\n",
       "  <thead>\n",
       "    <tr style=\"text-align: right;\">\n",
       "      <th></th>\n",
       "      <th>Gene name</th>\n",
       "      <th>gate</th>\n",
       "    </tr>\n",
       "  </thead>\n",
       "  <tbody>\n",
       "    <tr>\n",
       "      <th>494</th>\n",
       "      <td>MYC</td>\n",
       "      <td>1</td>\n",
       "    </tr>\n",
       "    <tr>\n",
       "      <th>495</th>\n",
       "      <td>MYCL1</td>\n",
       "      <td>1</td>\n",
       "    </tr>\n",
       "    <tr>\n",
       "      <th>776</th>\n",
       "      <td>MYCN</td>\n",
       "      <td>1</td>\n",
       "    </tr>\n",
       "    <tr>\n",
       "      <th>890</th>\n",
       "      <td>MYCNOS</td>\n",
       "      <td>1</td>\n",
       "    </tr>\n",
       "  </tbody>\n",
       "</table>\n",
       "</div>"
      ],
      "text/plain": [
       "    Gene name  gate\n",
       "494       MYC     1\n",
       "495     MYCL1     1\n",
       "776      MYCN     1\n",
       "890    MYCNOS     1"
      ]
     },
     "execution_count": 430,
     "metadata": {},
     "output_type": "execute_result"
    }
   ],
   "source": [
    "gate.loc[gate[\"Gene name\"].str.contains(\"MYC\")]"
   ]
  },
  {
   "cell_type": "code",
   "execution_count": 431,
   "metadata": {},
   "outputs": [
    {
     "data": {
      "text/html": [
       "<div>\n",
       "<style>\n",
       "    .dataframe thead tr:only-child th {\n",
       "        text-align: right;\n",
       "    }\n",
       "\n",
       "    .dataframe thead th {\n",
       "        text-align: left;\n",
       "    }\n",
       "\n",
       "    .dataframe tbody tr th {\n",
       "        vertical-align: top;\n",
       "    }\n",
       "</style>\n",
       "<table border=\"1\" class=\"dataframe\">\n",
       "  <thead>\n",
       "    <tr style=\"text-align: right;\">\n",
       "      <th></th>\n",
       "      <th>Gene name</th>\n",
       "      <th>care</th>\n",
       "    </tr>\n",
       "  </thead>\n",
       "  <tbody>\n",
       "    <tr>\n",
       "      <th>157</th>\n",
       "      <td>MYC</td>\n",
       "      <td>1</td>\n",
       "    </tr>\n",
       "  </tbody>\n",
       "</table>\n",
       "</div>"
      ],
      "text/plain": [
       "    Gene name  care\n",
       "157       MYC     1"
      ]
     },
     "execution_count": 431,
     "metadata": {},
     "output_type": "execute_result"
    }
   ],
   "source": [
    "care.loc[care[\"Gene name\"].str.contains(\"MYC\")]"
   ]
  },
  {
   "cell_type": "code",
   "execution_count": 432,
   "metadata": {},
   "outputs": [
    {
     "data": {
      "text/plain": [
       "((440, 18), (69, 18))"
      ]
     },
     "execution_count": 432,
     "metadata": {},
     "output_type": "execute_result"
    }
   ],
   "source": [
    "gateE.shape, careE.shape"
   ]
  },
  {
   "cell_type": "code",
   "execution_count": 434,
   "metadata": {},
   "outputs": [
    {
     "data": {
      "text/plain": [
       "['Transcript stable ID',\n",
       " 'enh_id',\n",
       " 'Gene stable ID',\n",
       " 'Gene stable ID version',\n",
       " 'Gene name',\n",
       " 'dist',\n",
       " 'seg_index',\n",
       " 'core_remodeling',\n",
       " 'mrca',\n",
       " 'taxon',\n",
       " 'mrca_2',\n",
       " 'taxon2',\n",
       " 'Gene Symbol',\n",
       " 'Molecular Genetics',\n",
       " 'Hallmark',\n",
       " 'Role in Cancer',\n",
       " 'care',\n",
       " 'gate']"
      ]
     },
     "execution_count": 434,
     "metadata": {},
     "output_type": "execute_result"
    }
   ],
   "source": [
    "list(merged)"
   ]
  },
  {
   "cell_type": "code",
   "execution_count": 445,
   "metadata": {},
   "outputs": [
    {
     "data": {
      "text/plain": [
       "count    15266.000000\n",
       "mean       276.700576\n",
       "std        158.637135\n",
       "min          6.000000\n",
       "25%        170.000000\n",
       "50%        265.000000\n",
       "75%        363.000000\n",
       "max       2630.000000\n",
       "Name: enh_len, dtype: float64"
      ]
     },
     "execution_count": 445,
     "metadata": {},
     "output_type": "execute_result"
    }
   ],
   "source": [
    "archs[\"enh_len\"] = archs.end_enh - archs.start_enh\n",
    "archs[\"enh_len\"].describe()"
   ]
  },
  {
   "cell_type": "code",
   "execution_count": 470,
   "metadata": {},
   "outputs": [
    {
     "data": {
      "text/html": [
       "<div>\n",
       "<style>\n",
       "    .dataframe thead tr:only-child th {\n",
       "        text-align: right;\n",
       "    }\n",
       "\n",
       "    .dataframe thead th {\n",
       "        text-align: left;\n",
       "    }\n",
       "\n",
       "    .dataframe tbody tr th {\n",
       "        vertical-align: top;\n",
       "    }\n",
       "</style>\n",
       "<table border=\"1\" class=\"dataframe\">\n",
       "  <thead>\n",
       "    <tr style=\"text-align: right;\">\n",
       "      <th></th>\n",
       "      <th>Transcript stable ID</th>\n",
       "      <th>enh_id</th>\n",
       "      <th>Gene stable ID</th>\n",
       "      <th>Gene stable ID version</th>\n",
       "      <th>Gene name</th>\n",
       "      <th>dist</th>\n",
       "      <th>seg_index</th>\n",
       "      <th>core_remodeling</th>\n",
       "      <th>mrca</th>\n",
       "      <th>taxon</th>\n",
       "      <th>mrca_2</th>\n",
       "      <th>taxon2</th>\n",
       "      <th>Gene Symbol</th>\n",
       "      <th>Molecular Genetics</th>\n",
       "      <th>Hallmark</th>\n",
       "      <th>Role in Cancer</th>\n",
       "    </tr>\n",
       "  </thead>\n",
       "  <tbody>\n",
       "  </tbody>\n",
       "</table>\n",
       "</div>"
      ],
      "text/plain": [
       "Empty DataFrame\n",
       "Columns: [Transcript stable ID, enh_id, Gene stable ID, Gene stable ID version, Gene name, dist, seg_index, core_remodeling, mrca, taxon, mrca_2, taxon2, Gene Symbol, Molecular Genetics, Hallmark, Role in Cancer]\n",
       "Index: []"
      ]
     },
     "execution_count": 470,
     "metadata": {},
     "output_type": "execute_result"
    }
   ],
   "source": [
    "merged.loc[m erged.enh_id == \"chr4:38787045 -38787364\"]"
   ]
  },
  {
   "cell_type": "code",
   "execution_count": 471,
   "metadata": {},
   "outputs": [
    {
     "data": {
      "text/html": [
       "<div>\n",
       "<style>\n",
       "    .dataframe thead tr:only-child th {\n",
       "        text-align: right;\n",
       "    }\n",
       "\n",
       "    .dataframe thead th {\n",
       "        text-align: left;\n",
       "    }\n",
       "\n",
       "    .dataframe tbody tr th {\n",
       "        vertical-align: top;\n",
       "    }\n",
       "</style>\n",
       "<table border=\"1\" class=\"dataframe\">\n",
       "  <thead>\n",
       "    <tr style=\"text-align: right;\">\n",
       "      <th></th>\n",
       "      <th>#chr_enh</th>\n",
       "      <th>start_enh</th>\n",
       "      <th>end_enh</th>\n",
       "      <th>enh_id</th>\n",
       "      <th>sample_id</th>\n",
       "      <th>seg_index</th>\n",
       "      <th>core_remodeling</th>\n",
       "      <th>arch</th>\n",
       "      <th>mrca</th>\n",
       "      <th>taxon</th>\n",
       "      <th>mrca_2</th>\n",
       "      <th>taxon2</th>\n",
       "      <th>enh_len</th>\n",
       "    </tr>\n",
       "  </thead>\n",
       "  <tbody>\n",
       "  </tbody>\n",
       "</table>\n",
       "</div>"
      ],
      "text/plain": [
       "Empty DataFrame\n",
       "Columns: [#chr_enh, start_enh, end_enh, enh_id, sample_id, seg_index, core_remodeling, arch, mrca, taxon, mrca_2, taxon2, enh_len]\n",
       "Index: []"
      ]
     },
     "execution_count": 471,
     "metadata": {},
     "output_type": "execute_result"
    }
   ],
   "source": [
    "archs.loc[archs.enh_id == \"chr4:38787045 -38787364\"]"
   ]
  },
  {
   "cell_type": "code",
   "execution_count": 472,
   "metadata": {
    "collapsed": true
   },
   "outputs": [],
   "source": [
    "prg = os.path.join(OUTPATH, \"Chen_2018_prognostic_enhancers.csv\")"
   ]
  },
  {
   "cell_type": "code",
   "execution_count": 473,
   "metadata": {
    "collapsed": true
   },
   "outputs": [],
   "source": [
    "pr = pd.read_csv(prg)"
   ]
  },
  {
   "cell_type": "code",
   "execution_count": 474,
   "metadata": {},
   "outputs": [
    {
     "data": {
      "text/html": [
       "<div>\n",
       "<style>\n",
       "    .dataframe thead tr:only-child th {\n",
       "        text-align: right;\n",
       "    }\n",
       "\n",
       "    .dataframe thead th {\n",
       "        text-align: left;\n",
       "    }\n",
       "\n",
       "    .dataframe tbody tr th {\n",
       "        vertical-align: top;\n",
       "    }\n",
       "</style>\n",
       "<table border=\"1\" class=\"dataframe\">\n",
       "  <thead>\n",
       "    <tr style=\"text-align: right;\">\n",
       "      <th></th>\n",
       "      <th>Disease</th>\n",
       "      <th>Prognostic_enhancer</th>\n",
       "    </tr>\n",
       "  </thead>\n",
       "  <tbody>\n",
       "    <tr>\n",
       "      <th>0</th>\n",
       "      <td>ACC</td>\n",
       "      <td>chr22:42327988-42328313</td>\n",
       "    </tr>\n",
       "    <tr>\n",
       "      <th>1</th>\n",
       "      <td>ACC</td>\n",
       "      <td>chr8:128930937-128931257</td>\n",
       "    </tr>\n",
       "    <tr>\n",
       "      <th>2</th>\n",
       "      <td>ACC</td>\n",
       "      <td>chr8:128265922-128266338</td>\n",
       "    </tr>\n",
       "    <tr>\n",
       "      <th>3</th>\n",
       "      <td>ACC</td>\n",
       "      <td>chr7:152338571-152338711</td>\n",
       "    </tr>\n",
       "    <tr>\n",
       "      <th>4</th>\n",
       "      <td>ACC</td>\n",
       "      <td>chr9:114720285-114720825</td>\n",
       "    </tr>\n",
       "  </tbody>\n",
       "</table>\n",
       "</div>"
      ],
      "text/plain": [
       "  Disease       Prognostic_enhancer\n",
       "0     ACC   chr22:42327988-42328313\n",
       "1     ACC  chr8:128930937-128931257\n",
       "2     ACC  chr8:128265922-128266338\n",
       "3     ACC  chr7:152338571-152338711\n",
       "4     ACC  chr9:114720285-114720825"
      ]
     },
     "execution_count": 474,
     "metadata": {},
     "output_type": "execute_result"
    }
   ],
   "source": [
    "pr.head()"
   ]
  },
  {
   "cell_type": "code",
   "execution_count": 476,
   "metadata": {
    "collapsed": true
   },
   "outputs": [],
   "source": [
    "pr_ = pd.merge(archs, pr, how = \"left\",  right_on= \"Prognostic_enhancer\", left_on = \"enh_id\")"
   ]
  },
  {
   "cell_type": "code",
   "execution_count": 478,
   "metadata": {},
   "outputs": [
    {
     "data": {
      "text/plain": [
       "(17164, 15)"
      ]
     },
     "execution_count": 478,
     "metadata": {},
     "output_type": "execute_result"
    }
   ],
   "source": [
    "pr_.shape"
   ]
  },
  {
   "cell_type": "code",
   "execution_count": null,
   "metadata": {
    "collapsed": true
   },
   "outputs": [],
   "source": []
  }
 ],
 "metadata": {
  "kernelspec": {
   "display_name": "Python (sfenv)",
   "language": "python",
   "name": "sfenv"
  },
  "language_info": {
   "codemirror_mode": {
    "name": "ipython",
    "version": 3
   },
   "file_extension": ".py",
   "mimetype": "text/x-python",
   "name": "python",
   "nbconvert_exporter": "python",
   "pygments_lexer": "ipython3",
   "version": "3.6.6"
  }
 },
 "nbformat": 4,
 "nbformat_minor": 2
}
