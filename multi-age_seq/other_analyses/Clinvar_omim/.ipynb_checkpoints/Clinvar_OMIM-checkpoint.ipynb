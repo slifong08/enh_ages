{
 "cells": [
  {
   "cell_type": "code",
   "execution_count": 1,
   "id": "42a6da61",
   "metadata": {
    "ExecuteTime": {
     "end_time": "2021-10-29T20:43:07.426826Z",
     "start_time": "2021-10-29T20:43:07.046311Z"
    }
   },
   "outputs": [],
   "source": [
    "import os\n",
    "import pandas as pd\n",
    "import subprocess\n",
    "import vcf\n",
    "\n",
    "CLINVAR = \"/dors/capra_lab/data/clinvar/2021-07-07/GRCh38/clinvar_20210626.chr10.vcf\""
   ]
  },
  {
   "cell_type": "code",
   "execution_count": null,
   "id": "9e31818e",
   "metadata": {},
   "outputs": [],
   "source": [
    "NO_GENEINFO = \"/dors/capra_lab/data/clinvar/2021-07-07/GRCh38/clinvar_20210626.chr10.nogene.vcf\"\n",
    "vcf_writer = vcf.Writer(open('/dev/null', 'w'), vcf_reader)"
   ]
  },
  {
   "cell_type": "code",
   "execution_count": null,
   "id": "9326d0b8",
   "metadata": {},
   "outputs": [],
   "source": [
    "\"\"\"\n",
    "for record in vcf_reader:\n",
    "    if \"GENEINFO\" not in record.INFO:\n",
    "        vcf_writer.write_record(record)\n",
    "        \n",
    "\"\"\""
   ]
  },
  {
   "cell_type": "code",
   "execution_count": 2,
   "id": "f07905ed",
   "metadata": {
    "ExecuteTime": {
     "end_time": "2021-10-29T20:43:08.686117Z",
     "start_time": "2021-10-29T20:43:08.654669Z"
    },
    "scrolled": false
   },
   "outputs": [],
   "source": [
    "vcf_reader = vcf.Reader(open(CLINVAR, 'r'))\n",
    "\n",
    "val = 0\n",
    "so_types= []\n",
    "for record in vcf_reader:\n",
    "    if \"MC\" in record.INFO:\n",
    "        for i in record.INFO[\"MC\"]:\n",
    "            if i not in so_types:\n",
    "                so_types.append(i)\n",
    "    elif \"GENEINFO\" in record.INFO:\n",
    "        continue\n",
    "\n",
    "    else:\n",
    "    \n",
    "        print(record.INFO)\n",
    "    val +=1\n",
    "        \n",
    "    if val > 100:\n",
    "        break"
   ]
  },
  {
   "cell_type": "code",
   "execution_count": null,
   "id": "7a956cf6",
   "metadata": {},
   "outputs": [],
   "source": [
    "so_types"
   ]
  },
  {
   "cell_type": "code",
   "execution_count": 5,
   "id": "57242ad7",
   "metadata": {
    "ExecuteTime": {
     "end_time": "2021-10-29T20:43:22.062524Z",
     "start_time": "2021-10-29T20:43:22.054348Z"
    }
   },
   "outputs": [
    {
     "data": {
      "text/plain": [
       "{'ALLELEID': 859793,\n",
       " 'CLNDISDB': ['MedGen:CN517202'],\n",
       " 'CLNDN': ['not_provided'],\n",
       " 'CLNHGVS': ['NC_000010.11:g.248492GT[2]'],\n",
       " 'CLNREVSTAT': ['criteria_provided', '_single_submitter'],\n",
       " 'CLNSIG': ['Likely_pathogenic'],\n",
       " 'CLNVC': 'Microsatellite',\n",
       " 'CLNVCSO': 'SO:0000289',\n",
       " 'GENEINFO': 'ZMYND11:10771',\n",
       " 'MC': ['SO:0001589|frameshift_variant',\n",
       "  'SO:0001619|non-coding_transcript_variant'],\n",
       " 'ORIGIN': ['1']}"
      ]
     },
     "execution_count": 5,
     "metadata": {},
     "output_type": "execute_result"
    }
   ],
   "source": [
    "record.INFO"
   ]
  },
  {
   "cell_type": "code",
   "execution_count": null,
   "id": "81f2ae36",
   "metadata": {},
   "outputs": [],
   "source": [
    "for i in record.INFO[\"MC\"]:\n",
    "    print(i)"
   ]
  },
  {
   "cell_type": "code",
   "execution_count": null,
   "id": "76a46ab7",
   "metadata": {},
   "outputs": [],
   "source": [
    "for record in vcf_reader:\n",
    "    if \"intron_variant\" in str(record.INFO[\"MC\"]:\n",
    "        print(record.INFO[\"MC\"])"
   ]
  }
 ],
 "metadata": {
  "kernelspec": {
   "display_name": "Python (sfenv)",
   "language": "python",
   "name": "sfenv"
  },
  "language_info": {
   "codemirror_mode": {
    "name": "ipython",
    "version": 3
   },
   "file_extension": ".py",
   "mimetype": "text/x-python",
   "name": "python",
   "nbconvert_exporter": "python",
   "pygments_lexer": "ipython3",
   "version": "3.6.6"
  },
  "toc": {
   "base_numbering": 1,
   "nav_menu": {},
   "number_sections": true,
   "sideBar": true,
   "skip_h1_title": false,
   "title_cell": "Table of Contents",
   "title_sidebar": "Contents",
   "toc_cell": false,
   "toc_position": {},
   "toc_section_display": true,
   "toc_window_display": false
  }
 },
 "nbformat": 4,
 "nbformat_minor": 5
}
