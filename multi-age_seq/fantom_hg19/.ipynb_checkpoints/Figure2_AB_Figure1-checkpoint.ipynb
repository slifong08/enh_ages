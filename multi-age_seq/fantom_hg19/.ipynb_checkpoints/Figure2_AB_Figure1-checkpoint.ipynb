{
 "cells": [
  {
   "cell_type": "markdown",
   "metadata": {},
   "source": [
    "# Load data\n",
    "- 88 shuffles "
   ]
  },
  {
   "cell_type": "code",
   "execution_count": 1,
   "metadata": {},
   "outputs": [],
   "source": [
    "import matplotlib.pyplot as plt\n",
    "\n",
    "from matplotlib import cm\n",
    "from matplotlib.colors import LinearSegmentedColormap\n",
    "import matplotlib.colors as mcolors\n",
    "import matplotlib as mpl\n",
    "from matplotlib.ticker import MultipleLocator\n",
    "import matplotlib.ticker as ticker\n",
    "\n",
    "import numpy as np\n",
    "import os\n",
    "import pandas as pd\n",
    "from scipy import stats\n",
    "import seaborn as sns\n",
    "import statsmodels\n",
    "import statsmodels.api as sm\n",
    "import subprocess\n",
    "\n",
    "\n",
    "FANTOMPATH = \"/dors/capra_lab/projects/enhancer_ages/fantom/data/non-genic/no-exon_all_fantom_enh/ages\"\n",
    "FANTOM = os.path.join(FANTOMPATH, \"syn_breaks_no-exon_all_fantom_enh_ages.bed\")\n",
    "\n",
    "#FANTOM_TFBS_ONLY = f\"{FANTOMPATH}enh_tfbs_only.txt\"\n",
    "\n",
    "SHUFPATH = \"/dors/capra_lab/projects/enhancer_ages/fantom/data/shuffle/first_round_breaks\"\n",
    "SHUFF = os.path.join(SHUFPATH, \"noexon.bed\")\n",
    "\n",
    " \n",
    "RE = \"/dors/capra_lab/projects/enhancer_ages/landscape/results/fantom/arch_features/all_arch/\"\n",
    "stat_f = os.path.join(RE, \"stat_fantom_features.txt\")\n"
   ]
  },
  {
   "cell_type": "markdown",
   "metadata": {},
   "source": [
    "## Fonts"
   ]
  },
  {
   "cell_type": "markdown",
   "metadata": {
    "heading_collapsed": true
   },
   "source": [
    "### add font"
   ]
  },
  {
   "cell_type": "code",
   "execution_count": null,
   "metadata": {
    "hidden": true
   },
   "outputs": [],
   "source": [
    "fm._rebuild()\n",
    "\n",
    "import matplotlib.font_manager as fm\n",
    "font_dirs = [\"/dors/capra_lab/users/fongsl/\", \"/home/fongsl/.conda/envs/sfenv/fonts/open-fonts\"]\n",
    "font_files = fm.findSystemFonts(fontpaths=font_dirs)\n",
    "\n",
    "for font_file in font_files:\n",
    "    print(font_file)\n",
    "    fm.fontManager.addfont(font_file)\n",
    "font_names = [f.name for f in fm.fontManager.ttflist]\n",
    "print(font_names)\n",
    "plt.rcParams['font.family'] = 'Arial Unicode MS'\n",
    "\n",
    "### test different fonts\n",
    "\n",
    "Usure = False\n",
    "if Usure is True:\n",
    "    done = []\n",
    "    for f in font_names:\n",
    "        if f not in done:\n",
    "            print(f)\n",
    "            mpl.rcParams['font.family'] = f\n",
    "            x = 1\n",
    "            plt.bar(x, height = 1)\n",
    "            plt.xlabel(f\"{f}\")\n",
    "            plt.title(f\"{f}\")\n",
    "            plt.ylabel(\"does it look okay?\")\n",
    "            plt.show()\n",
    "            done.append(f)"
   ]
  },
  {
   "cell_type": "code",
   "execution_count": null,
   "metadata": {
    "hidden": true
   },
   "outputs": [],
   "source": [
    "sns.set(font=\"Roboto\")\n",
    "sns.barplot(piedf.pct_enh)\n",
    "plt.xlabel(\"what font is this?\")\n",
    "plt.ylabel(\"does it look okay?\")"
   ]
  },
  {
   "cell_type": "markdown",
   "metadata": {},
   "source": [
    "## colors"
   ]
  },
  {
   "cell_type": "code",
   "execution_count": 3,
   "metadata": {},
   "outputs": [],
   "source": [
    "#%%\n",
    "yg = '#f7fcb9'\n",
    "stemg = '#addd8e'\n",
    "kellyg = '#31a354'\n",
    "\n",
    "y = mcolors.to_rgba(yg)\n",
    "lg = mcolors.to_rgba(stemg)\n",
    "g = mcolors.to_rgba(kellyg)\n",
    "\n",
    "\n",
    "colors = [g, lg, y]  # kelly -> light - > yellow\n",
    "cmap_name = 'yg_'\n",
    "CM = LinearSegmentedColormap.from_list(cmap_name, colors, N=3)"
   ]
  },
  {
   "cell_type": "code",
   "execution_count": 4,
   "metadata": {},
   "outputs": [
    {
     "data": {
      "image/png": "[encoded data removed]",
      "text/plain": [
       "<Figure size 72x72 with 1 Axes>"
      ]
     },
     "metadata": {},
     "output_type": "display_data"
    },
    {
     "data": {
      "image/png": "[encoded data removed]",
      "text/plain": [
       "<Figure size 72x72 with 1 Axes>"
      ]
     },
     "metadata": {},
     "output_type": "display_data"
    },
    {
     "data": {
      "image/png": "[encoded data removed]",
      "text/plain": [
       "<Figure size 72x72 with 1 Axes>"
      ]
     },
     "metadata": {},
     "output_type": "display_data"
    },
    {
     "data": {
      "image/png": "[encoded data removed]",
      "text/plain": [
       "<Figure size 288x72 with 1 Axes>"
      ]
     },
     "metadata": {},
     "output_type": "display_data"
    },
    {
     "data": {
      "image/png": "[encoded data removed]",
      "text/plain": [
       "<Figure size 144x72 with 1 Axes>"
      ]
     },
     "metadata": {},
     "output_type": "display_data"
    }
   ],
   "source": [
    "#%%\n",
    "colors = [ \"ecru\"]\n",
    "y_ = sns.xkcd_palette(colors)\n",
    "sns.palplot(y_)\n",
    "\n",
    "colors = [ \"light sage\"]\n",
    "stemg = sns.xkcd_palette(colors)\n",
    "sns.palplot(stemg)\n",
    "\n",
    "colors = [ \"shamrock green\"]\n",
    "kellyg = sns.xkcd_palette(colors)\n",
    "sns.palplot(kellyg)\n",
    "\n",
    "colors = [\"amber\", \"greyish\", \"faded green\", \"slate grey\"]\n",
    "ESPAL = sns.xkcd_palette(colors)\n",
    "sns.palplot(ESPAL)\n",
    "\n",
    "colors = [\"faded green\",  \"greyish\"]\n",
    "EPAL = sns.xkcd_palette(colors)\n",
    "sns.palplot(EPAL)"
   ]
  },
  {
   "cell_type": "code",
   "execution_count": 5,
   "metadata": {},
   "outputs": [
    {
     "data": {
      "image/png": "[encoded data removed]",
      "text/plain": [
       "<Figure size 216x72 with 1 Axes>"
      ]
     },
     "metadata": {},
     "output_type": "display_data"
    },
    {
     "data": {
      "image/png": "[encoded data removed]",
      "text/plain": [
       "<Figure size 432x72 with 1 Axes>"
      ]
     },
     "metadata": {},
     "output_type": "display_data"
    }
   ],
   "source": [
    "colors = [\"ecru\",\"shamrock green\", \"light sage\"]\n",
    "yg = sns.xkcd_palette(colors)\n",
    "sns.palplot(yg)\n",
    "\n",
    "colors = [\"ecru\",  \"putty\",\"shamrock green\", \"cool grey\",\"light sage\", \"lichen\"]\n",
    "yg_shuf = sns.xkcd_palette(colors)\n",
    "sns.palplot(yg_shuf)"
   ]
  },
  {
   "cell_type": "markdown",
   "metadata": {},
   "source": [
    "# Functions\n",
    "\n",
    "- add architecture label\n",
    "- reclassify complex primate enhancers as simple if they do not have a human specific sequence\n",
    "- format tthe dataframe, call reclassify primate enhancer function, add taxon information\n",
    "- calculate mann whitney u between columns\n",
    "- plot stratified MRCA\n",
    "- get frequency of architecture v. shuffle\n",
    "- plot arch enh v. shuffle frequency\n",
    "- plot arch v. shuffle fold-change"
   ]
  },
  {
   "cell_type": "code",
   "execution_count": 6,
   "metadata": {
    "code_folding": [
     0,
     10,
     37
    ]
   },
   "outputs": [],
   "source": [
    "def add_arch_labels(df):\n",
    "\n",
    "    df[\"arch\"] = \"complex_core\"\n",
    "\n",
    "    df.loc[df.core_remodeling ==0, \"arch\"] = \"simple\"\n",
    "    df.loc[df.core ==0, \"arch\"] = \"complex_derived\"\n",
    "\n",
    "    return df\n",
    "\n",
    "\n",
    "def reEval_PrimComplex(enh):\n",
    "\n",
    "    # get all the complex enhancers w/ primate core ages\n",
    "    prComEnhID = enh.loc[(enh.core ==1) &\n",
    "    (enh.core_remodeling ==1) &\n",
    "    (enh.taxon2.str.contains(\"Primate\"))][\"enh_id\"].unique()\n",
    "\n",
    "    # get all the complex enhancer ids where there is a real human derived sequence\n",
    "    pr_complex = enh.loc[(enh.enh_id.isin(prComEnhID)) &\n",
    "    (enh.core_remodeling == 1) &\n",
    "    (enh.core ==0) &\n",
    "    (enh.mrca ==0),\n",
    "    ][\"enh_id\"]\n",
    "\n",
    "\n",
    "    # i'm going to reassign any primate complex enhancer\n",
    "    # where derived regions are from other primates\n",
    "    # get the set of primate complex enhancers w/ primate derived sequences\n",
    "    # and rename them as simple enhancers\n",
    "    pr_simple = set(prComEnhID) - set(pr_complex)\n",
    "\n",
    "    # reassign core and core remodeling columns\n",
    "    enh.loc[enh.enh_id.isin(pr_simple), \"core\"] = 1\n",
    "    enh.loc[enh.enh_id.isin(pr_simple), \"core_remodeling\"] = 0\n",
    "    return enh\n",
    "\n",
    "\n",
    "def format_syndf(enh_age_file):\n",
    "\n",
    "    syn_cols = [\"chr_syn\", \"start_syn\", \"end_syn\",\n",
    "    \"enh_id\",\n",
    "    \"chr\", \"start\", \"end\",\n",
    "    \"seg_index\", \"core_remodeling\", \"core\",\n",
    "    \"mrca\",]\n",
    "\n",
    "    syn = pd.read_csv(enh_age_file, sep ='\\t', header = None, names = syn_cols)\n",
    "\n",
    "    syn[\"syn_id\"] = syn.chr_syn + \":\" + syn.start_syn.map(str) + \"-\" + syn.end_syn.map(str)\n",
    "\n",
    "    syn[\"syn_len\"] = syn.end_syn - syn.start_syn\n",
    "    syn[\"enh_len\"] = syn.end - syn.start\n",
    "\n",
    "\n",
    "    # age and taxon file\n",
    "    syn_gen_bkgd_file = \"/dors/capra_lab/projects/enhancer_ages/hg19_syn_gen_bkgd.tsv\"\n",
    "    syn_gen_bkgd= pd.read_csv(syn_gen_bkgd_file, sep = '\\t') # read the file\n",
    "    syn_gen_bkgd[[\"mrca\", \"mrca_2\"]] = syn_gen_bkgd[[\"mrca\", \"mrca_2\"]].round(3) # round the ages\n",
    "\n",
    "    syn_gen_bkgd = syn_gen_bkgd[[\"mrca\", \"taxon\", \"mrca_2\", \"taxon2\"]] # whittle down the df\n",
    "    syn[\"mrca\"] = syn[\"mrca\"].round(3) # round the ages\n",
    "\n",
    "    syn = pd.merge(syn, syn_gen_bkgd, how = \"left\", on = \"mrca\")\n",
    "    syn = reEval_PrimComplex(syn)\n",
    "    syn[syn_cols].to_csv(enh_age_file, sep = \"\\t\", header = False, index = False)\n",
    "    labeled_syn = add_arch_labels(syn) # add architecture labels\n",
    "\n",
    "    return labeled_syn"
   ]
  },
  {
   "cell_type": "code",
   "execution_count": 7,
   "metadata": {
    "code_folding": [
     0
    ]
   },
   "outputs": [],
   "source": [
    "def get_mwu(dataset_col, id_col, test_dif, df, statf):\n",
    "\n",
    "    results_dict = {}\n",
    "\n",
    "    for dataset in df[dataset_col].unique(): # simple complex core derived\n",
    "        print(dataset)\n",
    "        val_list = [] # two lists for mwu\n",
    "        median_list = [] # median of list,\n",
    "        mean_list = [] # mean of list\n",
    "\n",
    "        id_col_list = df[id_col].unique() # get the variables to compare lists\n",
    "        comp_name = f\"{dataset_col}_{id_col_list[0]}_v_{id_col_list[1]}\" # for annotation\n",
    "\n",
    "\n",
    "        test = df.loc[df[dataset_col] == dataset] # filter dataset on variable\n",
    "\n",
    "        for comp in id_col_list:\n",
    "            print(comp)\n",
    "            values = list(test.loc[(test[id_col] == comp), test_dif])\n",
    "            val_list.append(values)\n",
    "            median_list.append(np.median(values))\n",
    "            mean_list.append(np.mean(values))\n",
    "\n",
    "        print(\"val list len\", len(val_list))\n",
    "        stat_, p_ = stats.mannwhitneyu(val_list[0], val_list[1])\n",
    "\n",
    "        mwu_df = pd.DataFrame({\n",
    "        \"comparison\": [comp_name],\n",
    "        \"dataset\": [dataset],\n",
    "        \"stat\": [stat_],\n",
    "        \"P\": [p_],\n",
    "        f\"median{id_col_list[0]}\": [median_list[0]],\n",
    "        f\"median{id_col_list[1]}\": [median_list[1]],\n",
    "        f\"mean{id_col_list[0]}\": [mean_list[0]],\n",
    "        f\"mean{id_col_list[1]}\": [mean_list[1]],\n",
    "        })\n",
    "        results_dict[dataset] = mwu_df\n",
    "\n",
    "    results = pd.concat(results_dict.values()) # concat results\n",
    "    \n",
    "\n",
    "    for i, row in results.iterrows():\n",
    "        info = row.to_string()\n",
    "        print(info)\n",
    "        statf.write(info)\n",
    "\n",
    "    return results"
   ]
  },
  {
   "cell_type": "code",
   "execution_count": 24,
   "metadata": {
    "code_folding": [
     0
    ]
   },
   "outputs": [],
   "source": [
    "def plot_mrca_stratified(x, y, data, hue, palette, outf):\n",
    "\n",
    "    order_dict = {\n",
    "    \"arch\" : [\"simple\", \"complex_core\", \"complex_derived\"],\n",
    "    \"mrca_2\": list(data.mrca_2.sort_values().unique())\n",
    "    #\"mrca_2\" : [0.0, 0.126, 0.131,  0.152, 0.175, 0.308, 0.38, 0.49, 0.656, 0.957]\n",
    "    }\n",
    "\n",
    "    hue_order_dict = {\n",
    "    \"arch__\": [\"simple-FANTOM\", 'simple-SHUFFLE', 'complex-FANTOM', 'complex-SHUFFLE'],\n",
    "    \"id\":[\"FANTOM\", \"SHUFFLE\"],\n",
    "    \"id2\": [\"simple-FANTOM\", \"simple-SHUFFLE\", \"complex_core-FANTOM\",\n",
    "    \"complex_core-SHUFFLE\", \"complex_derived-FANTOM\", \"complex_derived-SHUFFLE\"]\n",
    "    }\n",
    "\n",
    "    ylab_dict = {\n",
    "    \"syn_len\": \"syntenic length\",\n",
    "    \"pct_enh\": \"percent\\nenhancer sequence\"\n",
    "    }\n",
    "\n",
    "    xlab_dict = {\n",
    "    \"mrca_2\": [\"homo\", \"prim\", \"euar\", \"bore\", \"euth\", \"ther\", \"mam\", \"amni\", \"tetr\", \"vert\"],\n",
    "    \"arch\": [\"simple\", \"complex\\ncore\", \"complex\\nderived\"]\n",
    "    }\n",
    "\n",
    "    figsize_dict = {\n",
    "    \"mrca_2\": (12,6),\n",
    "    \"arch\":(6,6)\n",
    "    }\n",
    "\n",
    "    xlabs = xlab_dict[x]\n",
    "    ylab =  ylab_dict[y]\n",
    "    order = order_dict[x]\n",
    "    hue_order = hue_order_dict[hue]\n",
    "    figsize = figsize_dict[x]\n",
    "    custom_params = {\"axes.spines.right\": False, \"axes.spines.top\": False, \"font.size\":16}\n",
    "    sns.set_theme(style=\"white\", font=\"Roboto\", rc=custom_params, font_scale = 1.2)\n",
    "\n",
    "    fig, ax = plt.subplots(figsize = figsize)\n",
    "    sns.barplot(x=x, y=y, data = data,\n",
    "                hue = hue,\n",
    "                palette = palette,\n",
    "                order = order,\n",
    "                hue_order = hue_order, estimator = np.median,\n",
    "                )\n",
    "\n",
    "    ax.set(ylabel = ylab, xlabel = \"\")\n",
    "    ax.set_xticklabels(xlabs, rotation = 90)\n",
    "    ax.legend(bbox_to_anchor = (1,1))\n",
    "    ax.invert_xaxis()\n",
    "    plt.savefig(outf, bbox_inches = 'tight')"
   ]
  },
  {
   "cell_type": "code",
   "execution_count": 64,
   "metadata": {
    "code_folding": []
   },
   "outputs": [],
   "source": [
    "def MRCA_frequency(catdf, cols, var, stat_f):\n",
    "\n",
    "    age_dict = {} # collect age frequency results per dataset\n",
    "    summary_age_dict = {} # collect summarized age frequencies per dataset\n",
    "\n",
    "    for n, dataset in enumerate(catdf[\"id\"].unique()):\n",
    "        # count n enhancers in architecture per age\n",
    "        test = catdf.loc[catdf[\"id\"] == dataset]\n",
    "\n",
    "        age = test.groupby(cols)[\"enh_id\"].count().reset_index()\n",
    "\n",
    "        # rename columns\n",
    "        age.columns = cols + [\"counts\"]\n",
    "\n",
    "        # sum total n enhancers in architecture\n",
    "        cols_no_var = list(set(cols) - set([var]))\n",
    "        totals = age.groupby(cols_no_var)[\"counts\"].sum().reset_index()\n",
    "        # rename columns\n",
    "        totals.columns = cols_no_var + [\"total_id\"]\n",
    "\n",
    "        # merge dataframes\n",
    "        age = pd.merge(age, totals, how = \"left\")\n",
    "\n",
    "        # calculate the % of architecture in each age\n",
    "        age[\"freq\"] = age.counts.divide(age.total_id)\n",
    "\n",
    "        age[\"dataset_name\"] = dataset\n",
    "        age_dict[n] = age\n",
    "\n",
    "        # summarize frequencies across architectures, before/after eutherian.\n",
    "        eutherian = age.loc[age[\"mrca_2\"] == 0.19][[ \"id\", \"freq\"]]\n",
    "        eutherian[\"category\"] = \"eutherian\"\n",
    "\n",
    "        younger_thaneuth = age.loc[age[\"mrca_2\"] <0.19].groupby([\"id\"])[\"freq\"].sum().reset_index()\n",
    "        younger_thaneuth[\"category\"] = \"younger than eutherian\"\n",
    "\n",
    "        older_thaneuth = age.loc[age[\"mrca_2\"] >0.19].groupby([\"id\"])[\"freq\"].sum().reset_index()\n",
    "        older_thaneuth[\"category\"] = \"older than eutherian\"\n",
    "\n",
    "        summarized_freq = pd.concat([eutherian, younger_thaneuth, older_thaneuth])\n",
    "        summarized_freq[\"dataset_name\"] = dataset\n",
    "\n",
    "        summary_age_dict[n] = summarized_freq\n",
    "\n",
    "    # concat age and summarized frequency dataframes\n",
    "    ages = pd.concat(age_dict.values())\n",
    "    summarized_freq = pd.concat(summary_age_dict.values())\n",
    "\n",
    "    # calculate fold-change of enh v. shuf expectation per shuffle\n",
    "\n",
    "\n",
    "    # select only the enhancer and specific shuffle instance\n",
    "    enhdf = ages.loc[ages[\"id\"] == \"FANTOM\"]\n",
    "\n",
    "    shuf_ = ages.loc[ages[\"id\"] != \"FANTOM\"]\n",
    "\n",
    "    merge_cols = list(set(cols) - set([\"id\"]))\n",
    "\n",
    "    fc = pd.merge(shuf_, enhdf, how = \"left\", on =merge_cols)\n",
    "\n",
    "    # calculate fold changes\n",
    "    fc[\"fold_change\"] = fc[\"freq_y\"].divide(fc[\"freq_x\"])\n",
    "    \n",
    "    col_id = \"_\".join(cols)\n",
    "    with open(stat_f, \"a\") as writer:\n",
    "        writer.write(\"\\n\\nages\\n\\n\")\n",
    "        for i, row in ages.iterrows():\n",
    "            print(row)\n",
    "            writer.write(row.to_string())\n",
    "\n",
    "        writer.write(\"\\n\\nfold change\\n\\n\")\n",
    "        for i, row in fc.iterrows():\n",
    "            writer.write(row.to_string())\n",
    "\n",
    "        writer.write(\"\\n\\n summarized frequencies\\n\\n\")\n",
    "        for i, row in summarized_freq.iterrows():\n",
    "            writer.write(row.to_string())\n",
    "\n",
    "    return ages, fc"
   ]
  },
  {
   "cell_type": "code",
   "execution_count": 10,
   "metadata": {
    "code_folding": [
     0
    ]
   },
   "outputs": [],
   "source": [
    "def plot_arch_freq(age_arch_freq, age_freq):\n",
    "    plots = {\"age_arch\" : age_arch_freq, \"age\": age_freq}\n",
    "\n",
    "    for name, frame in plots.items():\n",
    "\n",
    "        if name == \"age_arch\": # arrange order and colors of plot.\n",
    "            frame[\"plot_hue\"] = frame[\"arch\"].astype(str) + \"-\" + frame[\"id\"].astype(str)\n",
    "            order = [\"simple-FANTOM\", \"simple-SHUFFLE\",\n",
    "            \"complex_core-FANTOM\", \"complex_core-SHUFFLE\",\n",
    "            \"complex_derived-FANTOM\", \"complex_derived-SHUFFLE\"]\n",
    "            hue = \"plot_hue\"\n",
    "            p = archpal\n",
    "\n",
    "        else:\n",
    "            order = [\"FANTOM\", \"SHUFFLE\"]\n",
    "            hue = \"id\"\n",
    "            p = EPAL\n",
    "\n",
    "\n",
    "        if GENOME_BUILD == \"hg38\":\n",
    "            xlabs = [\"Prim\", \"Euar\", \"Bore\", \"Euth\", \"Ther\", \"Mam\", \"Amni\", \"Tetr\", \"Sarg\", \"Vert\"] # set xlabels\n",
    "        else:\n",
    "            xlabs = [\"Homo\", \"Prim\", \"Euar\", \"Bore\", \"Euth\", \"Ther\", \"Mam\", \"Amni\", \"Tetr\", \"Vert\"]\n",
    "\n",
    "        custom_params = {\"axes.spines.right\": False, \"axes.spines.top\": False, \"font.size\":16}\n",
    "        sns.set_theme(style=\"white\", font=\"Roboto\", rc=custom_params, font_scale = 1.2)\n",
    "        fig, ax = plt.subplots(figsize = (6,6))\n",
    "        x, y = \"mrca_2\", \"freq\"\n",
    "        data = frame\n",
    "\n",
    "        sns.barplot(x = x, y=y,\n",
    "        data = data,\n",
    "        hue = hue,\n",
    "        hue_order = order,\n",
    "        palette = p)\n",
    "\n",
    "        ax.set_xticklabels(xlabs, rotation = 90)\n",
    "        ax.legend(bbox_to_anchor = (1,1))\n",
    "\n",
    "        outf = f\"{RE}{name}_freq_per_age.pdf\"\n",
    "\n",
    "        plt.savefig(outf, bbox_inches= \"tight\")"
   ]
  },
  {
   "cell_type": "code",
   "execution_count": 11,
   "metadata": {
    "code_folding": [
     0
    ]
   },
   "outputs": [],
   "source": [
    "def plot_arch_fc(age_arch_fc, age_fc, build, arch):\n",
    "    print(build, arch)\n",
    "    \n",
    "    plots = {\"age_arch\":age_arch_fc, \"age_tfbs\": age_fc}\n",
    "    color_dict ={\"simple\": y_, \"complex_core\": kellyg, \"complex_derived\": stemg}\n",
    "    archs = [\"simple\", \"complex_core\", \"complex_derived\"]\n",
    "\n",
    "    # don't plot the entire dataset if you just want to plot FC of one architecture.\n",
    "    if arch in archs:\n",
    "        plots.pop(\"age_tfbs\")\n",
    "        print(plots.keys())\n",
    "\n",
    "    for name, fc in plots.items():\n",
    "\n",
    "        fc['log2'] = np.log2(fc[\"fold_change\"])\n",
    "\n",
    "\n",
    "        if name == \"age_arch\" and arch in archs:\n",
    "            order = [arch] # set order\n",
    "            hue = \"arch\" # set hue\n",
    "            data = fc.loc[fc.arch == arch] # filter dataset\n",
    "            p = color_dict[arch] # get the color corresponding to architecture.\n",
    "\n",
    "        elif name == \"age_arch\" and arch == \"all\":\n",
    "            order = [\"simple\", \"complex_core\", \"complex_derived\"]\n",
    "            hue = \"arch\"\n",
    "            data = fc\n",
    "            p = PAL\n",
    "\n",
    "        elif name ==\"age_tfbs\":\n",
    "            arch = None\n",
    "            order = [\"FANTOM\"]\n",
    "            hue = \"id_y\"\n",
    "            data = fc\n",
    "            p = EPAL\n",
    "\n",
    "        backbone_df = age_arch_fc[\"mrca_2\"].copy().drop_duplicates().reset_index()\n",
    "        data = pd.merge(backbone_df, data, how = \"left\").fillna(0).sort_values(by = \"mrca_2\")\n",
    "        data[\"counts_y\"] = data[\"counts_y\"].astype(int)\n",
    "\n",
    "        if build == \"hg38\":\n",
    "            xlabs = [\"Prim\", \"Euar\", \"Bore\", \"Euth\", \"Ther\", \"Mam\", \"Amni\", \"Tetr\", \"Sarg\", \"Vert\"]\n",
    "\n",
    "        else:\n",
    "            xlabs = [\"Homo\", \"Prim\", \"Euar\", \"Bore\", \"Euth\", \"Ther\", \"Mam\", \"Amni\", \"Tetr\", \"Vert\"]\n",
    "\n",
    "        custom_params = {\"axes.spines.right\": False, \"axes.spines.top\": False, \"font.size\":16}\n",
    "        sns.set_theme(style=\"white\", font=\"Roboto\", rc=custom_params, font_scale = 1.2)\n",
    "\n",
    "        fig, ax = plt.subplots(figsize = (6,6))\n",
    "        x, y = \"mrca_2\", \"log2\"\n",
    "\n",
    "\n",
    "        splot = sns.barplot(x = x, y=y,\n",
    "        data = data,\n",
    "        hue = hue,\n",
    "        hue_order = order,\n",
    "        palette = p)\n",
    "\n",
    "\n",
    "        for n, p in enumerate(splot.patches):\n",
    "            value = data.iloc[n][\"counts_y\"]\n",
    "            splot.annotate(value,\n",
    "                           (p.get_x() + p.get_width() / 2.,0.05),\n",
    "                           ha = 'center', va = 'baseline',\n",
    "                           size=15,\n",
    "                           rotation = 90,\n",
    "                           color = \"k\",\n",
    "                           xytext = (0, 1),\n",
    "                           textcoords = 'offset points'\n",
    "                           )\n",
    "\n",
    "        ax.set(ylabel = \"Fold-Change v. Bkgd\\n(log2-scaled)\", xlabel = \"\")\n",
    "        ax.set_xticklabels(xlabs, rotation = 90)\n",
    "        ax.legend(bbox_to_anchor = (1,1))\n",
    "        \n",
    "        ticks = ticker.FuncFormatter(lambda x, pos: '{0:g}'.format(2**x))\n",
    "        ax.yaxis.set_major_formatter(ticks)\n",
    "        ax.yaxis.set_major_locator(MultipleLocator(1))\n",
    "        ax.invert_xaxis()\n",
    "        outf = os.path.join(RE, f\"Fig2B_{name}_{arch}_fold_change_per_age.pdf\")\n",
    "\n",
    "\n",
    "    plt.savefig(outf, bbox_inches= \"tight\")"
   ]
  },
  {
   "cell_type": "markdown",
   "metadata": {
    "heading_collapsed": true
   },
   "source": [
    "# get dataframes\n",
    "\n",
    "merge enh and shuffled"
   ]
  },
  {
   "cell_type": "code",
   "execution_count": 12,
   "metadata": {
    "code_folding": [
     0
    ],
    "hidden": true
   },
   "outputs": [],
   "source": [
    "out_df = os.path.join(RE, \"fantom_shuf_df.txt\")\n",
    "\n",
    "if os.path.exists(out_df) is False:\n",
    "    enh = format_syndf(FANTOM)\n",
    "    enh[\"id\"] = \"FANTOM\"\n",
    "\n",
    "    shuf = format_syndf(SHUFF)\n",
    "    shuf[\"id\"] = \"SHUFFLE\"\n",
    "\n",
    "\n",
    "    df = pd.concat([enh, shuf])\n",
    "\n",
    "    df.drop_duplicates()\n",
    "\n",
    "    df.to_csv(out_df, sep ='\\t', index = False)\n",
    "else:\n",
    "    df = pd.read_csv(out_df, sep = \"\\t\")"
   ]
  },
  {
   "cell_type": "markdown",
   "metadata": {
    "hidden": true
   },
   "source": [
    "combine enhancer and shuffled dataframes "
   ]
  },
  {
   "cell_type": "markdown",
   "metadata": {
    "code_folding": [],
    "heading_collapsed": true
   },
   "source": [
    "# summarize architecture lengths per enhancer"
   ]
  },
  {
   "cell_type": "code",
   "execution_count": 13,
   "metadata": {
    "hidden": true
   },
   "outputs": [],
   "source": [
    "out_f = os.path.join(RE, \"sum_arch_len.txt\")\n",
    "\n",
    "if os.path.exists(out_f) is False:\n",
    "\n",
    "    sum_archlen = df.groupby(['id', 'enh_id', 'enh_len', 'core_remodeling', 'core'])[\"syn_len\"].sum().reset_index().drop_duplicates()\n",
    "\n",
    "    sum_archlen = add_arch_labels(sum_archlen) # add architecture labels\n",
    "\n",
    "     # calculate percent arch per enhancer\n",
    "    sum_archlen[\"pct_enh\"] = sum_archlen.syn_len.divide(sum_archlen.enh_len)\n",
    "\n",
    "\n",
    "    # add oldest ages of enhancer information\n",
    "    enh_mrcas = df.groupby(\"enh_id\")[[\"mrca_2\", \"taxon2\"]].max().reset_index()\n",
    "    sum_archlen = pd.merge(sum_archlen, enh_mrcas, how = \"left\", on = \"enh_id\")\n",
    "\n",
    "\n",
    "    shuf_remove_ids = sum_archlen.loc[(sum_archlen[\"mrca_2\"] == 0) & (sum_archlen.core ==0), \"enh_id\"]\n",
    "    sum_archlen = sum_archlen[~sum_archlen[\"enh_id\"].isin(shuf_remove_ids)]\n",
    "\n",
    "    ## summarize simple v. complex architectures only\n",
    "\n",
    "    sum_archlen[\"arch_\"] = \"simple\"\n",
    "    sum_archlen.loc[sum_archlen.core_remodeling ==1, \"arch_\"] = \"complex\"\n",
    "    sum_archlen[\"arch__\"] = sum_archlen[\"arch_\"] + \"-\" + sum_archlen['id']\n",
    "\n",
    "    # add column for plotting purposes\n",
    "    sum_archlen[\"id2\"] = sum_archlen[\"arch\"] + \"-\" + sum_archlen[\"id\"]\n",
    "\n",
    "    sum_archlen.to_csv(out_f, sep = '\\t', index = False)\n",
    "else:\n",
    "    sum_archlen = pd.read_csv(out_f, sep = '\\t')"
   ]
  },
  {
   "cell_type": "markdown",
   "metadata": {
    "heading_collapsed": true
   },
   "source": [
    "# Plots"
   ]
  },
  {
   "cell_type": "markdown",
   "metadata": {
    "code_folding": [],
    "hidden": true
   },
   "source": [
    "## age, arch x syn length"
   ]
  },
  {
   "cell_type": "code",
   "execution_count": 27,
   "metadata": {
    "code_folding": [],
    "hidden": true
   },
   "outputs": [
    {
     "data": {
      "image/png": "[encoded data removed]",
      "text/plain": [
       "<Figure size 864x432 with 1 Axes>"
      ]
     },
     "metadata": {},
     "output_type": "display_data"
    }
   ],
   "source": [
    "x = \"mrca_2\"\n",
    "y = \"syn_len\"\n",
    "data = sum_archlen#.sample(frac = 0.05)\n",
    "hue = \"arch__\"\n",
    "palette = yg_shuf\n",
    "outf = f\"{RE}ALL_mrca_x_syn_lengths_arch.pdf\"\n",
    "\n",
    "plot_mrca_stratified(x, y, data, hue, palette, outf)"
   ]
  },
  {
   "cell_type": "markdown",
   "metadata": {
    "code_folding": [],
    "heading_collapsed": true,
    "hidden": true
   },
   "source": [
    "## FigS-EnhvShuf-synLen\n",
    "### arch,  syn length"
   ]
  },
  {
   "cell_type": "code",
   "execution_count": 28,
   "metadata": {
    "code_folding": [],
    "hidden": true
   },
   "outputs": [
    {
     "data": {
      "image/png": "[encoded data removed]",
      "text/plain": [
       "<Figure size 432x432 with 1 Axes>"
      ]
     },
     "metadata": {},
     "output_type": "display_data"
    }
   ],
   "source": [
    "x = \"arch\"\n",
    "y = \"syn_len\"\n",
    "hue = \"id\"\n",
    "palette = EPAL\n",
    "\n",
    "outf = f\"{RE}FigS-EnhvShuf-synLen_fantom_shuffle.pdf\"\n",
    "\n",
    "plot_mrca_stratified(x, y, data, hue, palette, outf)"
   ]
  },
  {
   "cell_type": "markdown",
   "metadata": {
    "hidden": true
   },
   "source": [
    "### arch,  pct enhancer"
   ]
  },
  {
   "cell_type": "code",
   "execution_count": 17,
   "metadata": {
    "hidden": true
   },
   "outputs": [
    {
     "data": {
      "image/png": "[encoded data removed]",
      "text/plain": [
       "<Figure size 864x432 with 1 Axes>"
      ]
     },
     "metadata": {},
     "output_type": "display_data"
    }
   ],
   "source": [
    "x = \"mrca_2\"\n",
    "y = \"pct_enh\"\n",
    "hue = \"id2\"\n",
    "palette = yg_shuf\n",
    "outf = f\"{RE}ALL_fantom_percent_arch_mrca_2.pdf\"\n",
    "plot_mrca_stratified(x, y, data, hue, palette, outf)"
   ]
  },
  {
   "cell_type": "markdown",
   "metadata": {
    "code_folding": [],
    "heading_collapsed": true,
    "hidden": true
   },
   "source": [
    "## FigS CorDer_v_ShufLen\n",
    "### stratify syn length by age"
   ]
  },
  {
   "cell_type": "code",
   "execution_count": 29,
   "metadata": {
    "code_folding": [],
    "hidden": true
   },
   "outputs": [
    {
     "data": {
      "image/png": "[encoded data removed]",
      "text/plain": [
       "<Figure size 864x432 with 1 Axes>"
      ]
     },
     "metadata": {},
     "output_type": "display_data"
    }
   ],
   "source": [
    "x = \"mrca_2\"\n",
    "y = \"syn_len\"\n",
    "hue = \"id2\"\n",
    "palette = yg_shuf\n",
    "outf = f\"{RE}FigS_CorDer_v_ShufLen_mrca2.pdf\"\n",
    "plot_mrca_stratified(x, y, data, hue, palette, outf)"
   ]
  },
  {
   "cell_type": "markdown",
   "metadata": {
    "code_folding": [],
    "hidden": true
   },
   "source": [
    "##  percent architecture"
   ]
  },
  {
   "cell_type": "code",
   "execution_count": null,
   "metadata": {
    "code_folding": [],
    "hidden": true
   },
   "outputs": [],
   "source": [
    "x = \"arch\"\n",
    "y = \"pct_enh\"\n",
    "hue = \"id\"\n",
    "outf = f\"{RE}ALL_fantom_percent_all.pdf\"\n",
    "sns.set(font=\"Roboto\")\n",
    "plot_mrca_stratified(x, y, data, hue, palette, outf)"
   ]
  },
  {
   "cell_type": "markdown",
   "metadata": {
    "heading_collapsed": true
   },
   "source": [
    "# Figure 1, 2A - pie charts"
   ]
  },
  {
   "cell_type": "code",
   "execution_count": 30,
   "metadata": {
    "hidden": true
   },
   "outputs": [
    {
     "data": {
      "text/html": [
       "<div>\n",
       "<style scoped>\n",
       "    .dataframe tbody tr th:only-of-type {\n",
       "        vertical-align: middle;\n",
       "    }\n",
       "\n",
       "    .dataframe tbody tr th {\n",
       "        vertical-align: top;\n",
       "    }\n",
       "\n",
       "    .dataframe thead th {\n",
       "        text-align: right;\n",
       "    }\n",
       "</style>\n",
       "<table border=\"1\" class=\"dataframe\">\n",
       "  <thead>\n",
       "    <tr style=\"text-align: right;\">\n",
       "      <th></th>\n",
       "      <th>arch_</th>\n",
       "      <th>enh_id</th>\n",
       "    </tr>\n",
       "  </thead>\n",
       "  <tbody>\n",
       "    <tr>\n",
       "      <th>0</th>\n",
       "      <td>complex</td>\n",
       "      <td>10686</td>\n",
       "    </tr>\n",
       "    <tr>\n",
       "      <th>1</th>\n",
       "      <td>simple</td>\n",
       "      <td>19767</td>\n",
       "    </tr>\n",
       "  </tbody>\n",
       "</table>\n",
       "</div>"
      ],
      "text/plain": [
       "     arch_  enh_id\n",
       "0  complex   10686\n",
       "1   simple   19767"
      ]
     },
     "execution_count": 30,
     "metadata": {},
     "output_type": "execute_result"
    }
   ],
   "source": [
    "pie_ = data.loc[data.id == \"FANTOM\"][[\"arch_\", \"enh_id\"]].drop_duplicates().groupby([\"arch_\"])[\"enh_id\"].count().reset_index()\n",
    "\n",
    "\n",
    "with open(stat_f, \"a\") as writer:\n",
    "    writer.write(\"\\n\\n # percent of simple and complex #\\n\\n\")\n",
    "    for i, row in pie_.iterrows():\n",
    "        writer.write(row.to_string())\n",
    "pie_"
   ]
  },
  {
   "cell_type": "code",
   "execution_count": 42,
   "metadata": {
    "hidden": true
   },
   "outputs": [
    {
     "data": {
      "text/plain": [
       "['id',\n",
       " 'enh_id',\n",
       " 'enh_len',\n",
       " 'core_remodeling',\n",
       " 'core',\n",
       " 'syn_len',\n",
       " 'arch',\n",
       " 'pct_enh',\n",
       " 'mrca_2',\n",
       " 'taxon2',\n",
       " 'arch_',\n",
       " 'arch__',\n",
       " 'id2']"
      ]
     },
     "execution_count": 42,
     "metadata": {},
     "output_type": "execute_result"
    }
   ],
   "source": [
    "list(data)"
   ]
  },
  {
   "cell_type": "code",
   "execution_count": 43,
   "metadata": {
    "hidden": true
   },
   "outputs": [
    {
     "data": {
      "text/html": [
       "<div>\n",
       "<style scoped>\n",
       "    .dataframe tbody tr th:only-of-type {\n",
       "        vertical-align: middle;\n",
       "    }\n",
       "\n",
       "    .dataframe tbody tr th {\n",
       "        vertical-align: top;\n",
       "    }\n",
       "\n",
       "    .dataframe thead th {\n",
       "        text-align: right;\n",
       "    }\n",
       "</style>\n",
       "<table border=\"1\" class=\"dataframe\">\n",
       "  <thead>\n",
       "    <tr style=\"text-align: right;\">\n",
       "      <th></th>\n",
       "      <th>arch__</th>\n",
       "      <th>enh_id</th>\n",
       "    </tr>\n",
       "  </thead>\n",
       "  <tbody>\n",
       "    <tr>\n",
       "      <th>0</th>\n",
       "      <td>complex-FANTOM</td>\n",
       "      <td>10686</td>\n",
       "    </tr>\n",
       "    <tr>\n",
       "      <th>1</th>\n",
       "      <td>simple-FANTOM</td>\n",
       "      <td>19767</td>\n",
       "    </tr>\n",
       "  </tbody>\n",
       "</table>\n",
       "</div>"
      ],
      "text/plain": [
       "           arch__  enh_id\n",
       "0  complex-FANTOM   10686\n",
       "1   simple-FANTOM   19767"
      ]
     },
     "execution_count": 43,
     "metadata": {},
     "output_type": "execute_result"
    }
   ],
   "source": [
    "pie_ = data.loc[data.id == \"FANTOM\"][[\"arch__\", \"enh_id\"]].drop_duplicates().groupby([\"arch__\"])[\"enh_id\"].count().reset_index()\n",
    "pie_"
   ]
  },
  {
   "cell_type": "code",
   "execution_count": 32,
   "metadata": {
    "hidden": true
   },
   "outputs": [],
   "source": [
    "piedf = data.loc[(data.id == \"FANTOM\") & (data.core_remodeling ==1)][[\"arch\", \"pct_enh\"]].groupby([\"arch\"])[\"pct_enh\"].median().reset_index()\n",
    "with open(stat_f, \"a\") as writer:\n",
    "    writer.write(\"\\n\\n # % core, derived per complex enh#\\n\\n\")\n",
    "    for i, row in piedf.iterrows():\n",
    "        writer.write(row.to_string())"
   ]
  },
  {
   "cell_type": "code",
   "execution_count": 35,
   "metadata": {
    "hidden": true
   },
   "outputs": [
    {
     "data": {
      "text/html": [
       "<div>\n",
       "<style scoped>\n",
       "    .dataframe tbody tr th:only-of-type {\n",
       "        vertical-align: middle;\n",
       "    }\n",
       "\n",
       "    .dataframe tbody tr th {\n",
       "        vertical-align: top;\n",
       "    }\n",
       "\n",
       "    .dataframe thead th {\n",
       "        text-align: right;\n",
       "    }\n",
       "</style>\n",
       "<table border=\"1\" class=\"dataframe\">\n",
       "  <thead>\n",
       "    <tr style=\"text-align: right;\">\n",
       "      <th></th>\n",
       "      <th>arch</th>\n",
       "      <th>enh_id</th>\n",
       "    </tr>\n",
       "  </thead>\n",
       "  <tbody>\n",
       "    <tr>\n",
       "      <th>0</th>\n",
       "      <td>complex_core</td>\n",
       "      <td>10686</td>\n",
       "    </tr>\n",
       "    <tr>\n",
       "      <th>1</th>\n",
       "      <td>complex_derived</td>\n",
       "      <td>10686</td>\n",
       "    </tr>\n",
       "    <tr>\n",
       "      <th>2</th>\n",
       "      <td>simple</td>\n",
       "      <td>19767</td>\n",
       "    </tr>\n",
       "  </tbody>\n",
       "</table>\n",
       "</div>"
      ],
      "text/plain": [
       "              arch  enh_id\n",
       "0     complex_core   10686\n",
       "1  complex_derived   10686\n",
       "2           simple   19767"
      ]
     },
     "execution_count": 35,
     "metadata": {},
     "output_type": "execute_result"
    }
   ],
   "source": [
    "pie_"
   ]
  },
  {
   "cell_type": "code",
   "execution_count": 47,
   "metadata": {
    "code_folding": [],
    "hidden": true
   },
   "outputs": [
    {
     "data": {
      "text/plain": [
       "([<matplotlib.patches.Wedge at 0x7f543ceff9e8>,\n",
       "  <matplotlib.patches.Wedge at 0x7f540c5a5ba8>],\n",
       " [Text(-1.2770977839044289, -0.24294289523753743, 'complex_core'),\n",
       "  Text(1.0806212210118589, 0.2055669640259335, 'complex_derived')],\n",
       " [Text(-0.7859063285565715, -0.14950332014617687, '56%'),\n",
       "  Text(0.5894297569155593, 0.11212743492323644, '44%')])"
      ]
     },
     "execution_count": 47,
     "metadata": {},
     "output_type": "execute_result"
    },
    {
     "data": {
      "image/png": "[encoded data removed]",
      "text/plain": [
       "<Figure size 432x288 with 2 Axes>"
      ]
     },
     "metadata": {},
     "output_type": "display_data"
    }
   ],
   "source": [
    "custom_params = {\"axes.spines.right\": False, \"axes.spines.top\": False}\n",
    "sns.set(style = \"white\", font=\"Roboto\", rc=custom_params)\n",
    "fig, (ax1, ax2) = plt.subplots(ncols = 2)\n",
    "\n",
    "\n",
    "y = np.array(pie_.enh_id)\n",
    "mylabels = list(pie_.arch__)\n",
    "colors = [ \"shamrock green\", \"ecru\"]\n",
    "amber = sns.xkcd_palette(colors)\n",
    "myexplode = [0.2, 0]\n",
    "ax1.pie(y, labels = mylabels, colors = amber, explode = myexplode, autopct='%1.0f%%')\n",
    "outf = f\"{RE}Fig1_Fig2A_pie_chart_arch.pdf\"\n",
    "plt.savefig(outf, bbox_inches = \"tight\")\n",
    "\n",
    "\n",
    "y = np.array(piedf.pct_enh)\n",
    "mylabels = list(piedf.arch)\n",
    "colors = [ \"shamrock green\", \"light sage\"]\n",
    "amber = sns.xkcd_palette(colors)\n",
    "myexplode = [0.2, 0]\n",
    "ax2.pie(y, labels = mylabels, colors = amber, explode = myexplode, autopct='%1.0f%%', startangle = 90)\n"
   ]
  },
  {
   "cell_type": "markdown",
   "metadata": {},
   "source": [
    "# Figure 2A \n",
    "## stacked barplot: syn lengths"
   ]
  },
  {
   "cell_type": "markdown",
   "metadata": {
    "heading_collapsed": true
   },
   "source": [
    "### stratify syn lengths by age -- means"
   ]
  },
  {
   "cell_type": "code",
   "execution_count": 48,
   "metadata": {
    "hidden": true
   },
   "outputs": [
    {
     "data": {
      "image/png": "[encoded data removed]",
      "text/plain": [
       "<Figure size 432x432 with 1 Axes>"
      ]
     },
     "metadata": {},
     "output_type": "display_data"
    }
   ],
   "source": [
    "custom_params = {\"axes.spines.right\": False, \"axes.spines.top\": False}\n",
    "sns.set_theme(style=\"white\", font=\"Roboto\", rc=custom_params)\n",
    "order = ['simple', 'complex_core', 'complex_derived']\n",
    "labels = ['Simple', 'Core', 'Derived']\n",
    "\n",
    "\n",
    "fig, ax = plt.subplots(figsize = (6,6))\n",
    "\n",
    "sns.barplot(x = \"arch\", y = \"syn_len\", \n",
    "            data =  data.loc[(data.id == \"FANTOM\")], \n",
    "            estimator = np.mean,\n",
    "            palette = yg,\n",
    "            order = order)\n",
    "ax.set_xticklabels(labels)\n",
    "\n",
    "ax.set(ylabel = 'Syn length (bp)', title = 'mean syntenic lengths', xlabel = \"\")\n",
    "#ax.legend()\n",
    "\n",
    "\n",
    "outf = f\"{RE}bar_arch_syn_len-mean.pdf\"\n",
    "plt.savefig(outf, bbox_inches = \"tight\")"
   ]
  },
  {
   "cell_type": "markdown",
   "metadata": {
    "heading_collapsed": true
   },
   "source": [
    "### stratify syn lengths by age -- medians"
   ]
  },
  {
   "cell_type": "code",
   "execution_count": 50,
   "metadata": {
    "hidden": true
   },
   "outputs": [],
   "source": [
    "d = data.loc[data.id == \"FANTOM\"][[\"enh_id\",\"arch\", \"syn_len\"]].drop_duplicates()\n",
    "s = d.loc[d[\"arch\"] == \"simple\", \"syn_len\"]\n",
    "c = d.loc[d[\"arch\"] == \"complex_core\", \"syn_len\"]\n",
    "dr = d.loc[d[\"arch\"] == \"complex_derived\", \"syn_len\"]\n",
    "\n",
    "s, p = stats.mannwhitneyu(c, dr) \n",
    "with open(stat_f, \"a\") as writer:\n",
    "    writer.write(f\"\\n\\nMWU core v. der syn length: mwu={s}, p = {p}\")"
   ]
  },
  {
   "cell_type": "code",
   "execution_count": 51,
   "metadata": {
    "code_folding": [],
    "hidden": true
   },
   "outputs": [
    {
     "data": {
      "image/png": "[encoded data removed]",
      "text/plain": [
       "<Figure size 432x432 with 1 Axes>"
      ]
     },
     "metadata": {},
     "output_type": "display_data"
    }
   ],
   "source": [
    "order = ['simple', 'complex_core', 'complex_derived']\n",
    "labels = ['Simple', 'Core', 'Derived']\n",
    "\n",
    "custom_params = {\"axes.spines.right\": False, \"axes.spines.top\": False}\n",
    "\n",
    "sns.set_theme(style=\"white\", font=\"Roboto\", rc=custom_params)\n",
    "fig, ax = plt.subplots(figsize=(6, 6))\n",
    "\n",
    "sns.barplot(x=\"arch\", y=\"syn_len\",\n",
    "            data=data.loc[(data.id == \"FANTOM\")],\n",
    "            estimator=np.median,\n",
    "            palette=yg, \n",
    "            order=order)\n",
    "ax.set_xticklabels(labels)\n",
    "\n",
    "ax.set(ylabel = 'Syn length (bp)', title = 'median syntenic lengths', xlabel = \"\")\n",
    "\n",
    "# ax.legend()\n",
    "\n",
    "\n",
    "outf = f\"{RE}bar_arch_syn_len-median.pdf\"\n",
    "plt.savefig(outf, bbox_inches=\"tight\")"
   ]
  },
  {
   "cell_type": "markdown",
   "metadata": {
    "code_folding": [],
    "heading_collapsed": true
   },
   "source": [
    "## stratify syn length by age"
   ]
  },
  {
   "cell_type": "code",
   "execution_count": 52,
   "metadata": {
    "code_folding": [],
    "hidden": true
   },
   "outputs": [
    {
     "data": {
      "image/png": "[encoded data removed]",
      "text/plain": [
       "<Figure size 864x432 with 1 Axes>"
      ]
     },
     "metadata": {},
     "output_type": "display_data"
    }
   ],
   "source": [
    "x = \"mrca_2\"\n",
    "y = \"syn_len\"\n",
    "hue = \"id2\"\n",
    "palette = yg_shuf\n",
    "outf = f\"{RE}ALL_fantom_syn_len_mrca_2.pdf\"\n",
    "plot_mrca_stratified(x, y, data, hue, palette, outf)"
   ]
  },
  {
   "cell_type": "markdown",
   "metadata": {
    "code_folding": [],
    "heading_collapsed": true
   },
   "source": [
    "## mean lengths"
   ]
  },
  {
   "cell_type": "code",
   "execution_count": 53,
   "metadata": {
    "code_folding": [],
    "hidden": true
   },
   "outputs": [],
   "source": [
    "comp = \"all_fantom_v_shuffle\"\n",
    "\n",
    "lens = sum_archlen.groupby([\"id\", \"arch\"])[\"syn_len\"].mean().reset_index()\n",
    "pcts = sum_archlen.groupby([\"id\", \"arch\"])[\"pct_enh\"].mean().reset_index()\n",
    "\n",
    "\n",
    "statf.write(\"\\n\\n#syn_len#\\n\\n\")\n",
    "for i, row in lens.iterrows():\n",
    "    statf.write(row.to_string())\n",
    "statf.write(\"\\n\\n#percent_syn_len#\\n\\n\")\n",
    "for i, row in pcts.iterrows():\n",
    "    statf.write(row.to_string())"
   ]
  },
  {
   "cell_type": "markdown",
   "metadata": {
    "code_folding": []
   },
   "source": [
    "## quantify mwu on architecture, comparing FANTOM v. SHUFFLE ids"
   ]
  },
  {
   "cell_type": "code",
   "execution_count": 54,
   "metadata": {
    "code_folding": []
   },
   "outputs": [
    {
     "name": "stdout",
     "output_type": "stream",
     "text": [
      "simple\n",
      "FANTOM\n",
      "SHUFFLE\n",
      "val list len 2\n",
      "complex_derived\n",
      "FANTOM\n",
      "SHUFFLE\n",
      "val list len 2\n",
      "complex_core\n",
      "FANTOM\n",
      "SHUFFLE\n",
      "val list len 2\n",
      "comparison       arch_FANTOM_v_SHUFFLE\n",
      "dataset                         simple\n",
      "stat                       1.57828e+10\n",
      "P                             0.351112\n",
      "medianFANTOM                       260\n",
      "medianSHUFFLE                      260\n",
      "meanFANTOM                     277.071\n",
      "meanSHUFFLE                    277.317\n",
      "comparison       arch_FANTOM_v_SHUFFLE\n",
      "dataset                complex_derived\n",
      "stat                       5.10545e+09\n",
      "P                          2.48874e-49\n",
      "medianFANTOM                       136\n",
      "medianSHUFFLE                      157\n",
      "meanFANTOM                     174.116\n",
      "meanSHUFFLE                    190.263\n",
      "comparison       arch_FANTOM_v_SHUFFLE\n",
      "dataset                   complex_core\n",
      "stat                       4.74116e+09\n",
      "P                          2.38324e-73\n",
      "medianFANTOM                       173\n",
      "medianSHUFFLE                      143\n",
      "meanFANTOM                     196.713\n",
      "meanSHUFFLE                    175.801\n",
      "simple\n",
      "simple\n",
      "complex_derived\n",
      "complex_core\n",
      "val list len 3\n"
     ]
    },
    {
     "name": "stderr",
     "output_type": "stream",
     "text": [
      "/home/fongsl/.local/lib/python3.6/site-packages/numpy/core/fromnumeric.py:3373: RuntimeWarning: Mean of empty slice.\n",
      "  out=out, **kwargs)\n",
      "/home/fongsl/.local/lib/python3.6/site-packages/numpy/core/_methods.py:170: RuntimeWarning: invalid value encountered in double_scalars\n",
      "  ret = ret.dtype.type(ret / rcount)\n",
      "/home/fongsl/.local/lib/python3.6/site-packages/scipy/stats/stats.py:7028: RuntimeWarning: divide by zero encountered in double_scalars\n",
      "  z = (bigu - meanrank) / sd\n"
     ]
    },
    {
     "name": "stdout",
     "output_type": "stream",
     "text": [
      "complex_derived\n",
      "simple\n",
      "complex_derived\n",
      "complex_core\n",
      "val list len 3\n",
      "complex_core\n",
      "simple\n",
      "complex_derived\n",
      "complex_core\n",
      "val list len 3\n",
      "comparison               arch_simple_v_complex_derived\n",
      "dataset                                         simple\n",
      "stat                                                 0\n",
      "P                                                    0\n",
      "mediansimple                                       260\n",
      "mediancomplex_derived                              NaN\n",
      "meansimple                                     277.314\n",
      "meancomplex_derived                                NaN\n"
     ]
    },
    {
     "ename": "AttributeError",
     "evalue": "'str' object has no attribute 'write'",
     "output_type": "error",
     "traceback": [
      "\u001b[0;31m---------------------------------------------------------------------------\u001b[0m",
      "\u001b[0;31mAttributeError\u001b[0m                            Traceback (most recent call last)",
      "\u001b[0;32m<ipython-input-54-b0d576876b97>\u001b[0m in \u001b[0;36m<module>\u001b[0;34m\u001b[0m\n\u001b[1;32m     11\u001b[0m \u001b[0mtest_dif\u001b[0m \u001b[0;34m=\u001b[0m \u001b[0;34m\"syn_len\"\u001b[0m \u001b[0;31m# calculate mwu from these variables' values\u001b[0m\u001b[0;34m\u001b[0m\u001b[0m\n\u001b[1;32m     12\u001b[0m \u001b[0;34m\u001b[0m\u001b[0m\n\u001b[0;32m---> 13\u001b[0;31m \u001b[0mmwu_df\u001b[0m \u001b[0;34m=\u001b[0m \u001b[0mget_mwu\u001b[0m\u001b[0;34m(\u001b[0m \u001b[0mdataset_col\u001b[0m\u001b[0;34m,\u001b[0m \u001b[0mid_col\u001b[0m\u001b[0;34m,\u001b[0m \u001b[0mtest_dif\u001b[0m\u001b[0;34m,\u001b[0m \u001b[0msum_archlen\u001b[0m\u001b[0;34m,\u001b[0m \u001b[0mstat_f\u001b[0m\u001b[0;34m)\u001b[0m\u001b[0;34m\u001b[0m\u001b[0m\n\u001b[0m",
      "\u001b[0;32m<ipython-input-7-0938f21a0993>\u001b[0m in \u001b[0;36mget_mwu\u001b[0;34m(dataset_col, id_col, test_dif, df, statf)\u001b[0m\n\u001b[1;32m     43\u001b[0m         \u001b[0minfo\u001b[0m \u001b[0;34m=\u001b[0m \u001b[0mrow\u001b[0m\u001b[0;34m.\u001b[0m\u001b[0mto_string\u001b[0m\u001b[0;34m(\u001b[0m\u001b[0;34m)\u001b[0m\u001b[0;34m\u001b[0m\u001b[0m\n\u001b[1;32m     44\u001b[0m         \u001b[0mprint\u001b[0m\u001b[0;34m(\u001b[0m\u001b[0minfo\u001b[0m\u001b[0;34m)\u001b[0m\u001b[0;34m\u001b[0m\u001b[0m\n\u001b[0;32m---> 45\u001b[0;31m         \u001b[0mstatf\u001b[0m\u001b[0;34m.\u001b[0m\u001b[0mwrite\u001b[0m\u001b[0;34m(\u001b[0m\u001b[0minfo\u001b[0m\u001b[0;34m)\u001b[0m\u001b[0;34m\u001b[0m\u001b[0m\n\u001b[0m\u001b[1;32m     46\u001b[0m \u001b[0;34m\u001b[0m\u001b[0m\n\u001b[1;32m     47\u001b[0m     \u001b[0;32mreturn\u001b[0m \u001b[0mresults\u001b[0m\u001b[0;34m\u001b[0m\u001b[0m\n",
      "\u001b[0;31mAttributeError\u001b[0m: 'str' object has no attribute 'write'"
     ]
    }
   ],
   "source": [
    "dataset_col = \"arch\" # first level - simple, complex core, complex derived\n",
    "id_col = \"id\" # do mwu separating on this variable\n",
    "test_dif = \"syn_len\" # calculate mwu from these variables' values\n",
    "\n",
    "mwu_df = get_mwu( dataset_col, id_col, test_dif, sum_archlen, statf)\n",
    "\n",
    "#%% do mwu on architecture, comparing FANTOM v. FANTOM ids\n",
    "\n",
    "dataset_col = \"arch\" # first level - simple, complex core, complex derived\n",
    "id_col = \"arch\" # do mwu separating on this variable\n",
    "test_dif = \"syn_len\" # calculate mwu from these variables' values\n",
    "\n",
    "mwu_df = get_mwu( dataset_col, id_col, test_dif, sum_archlen, stat_f)"
   ]
  },
  {
   "cell_type": "code",
   "execution_count": 55,
   "metadata": {
    "code_folding": []
   },
   "outputs": [
    {
     "ename": "NameError",
     "evalue": "name 'enh' is not defined",
     "output_type": "error",
     "traceback": [
      "\u001b[0;31m---------------------------------------------------------------------------\u001b[0m",
      "\u001b[0;31mNameError\u001b[0m                                 Traceback (most recent call last)",
      "\u001b[0;32m<ipython-input-55-f3e480ef8af1>\u001b[0m in \u001b[0;36m<module>\u001b[0;34m\u001b[0m\n\u001b[1;32m      1\u001b[0m \u001b[0;31m#%% get arch counts\u001b[0m\u001b[0;34m\u001b[0m\u001b[0;34m\u001b[0m\u001b[0m\n\u001b[1;32m      2\u001b[0m \u001b[0;34m\u001b[0m\u001b[0m\n\u001b[0;32m----> 3\u001b[0;31m \u001b[0march_count\u001b[0m \u001b[0;34m=\u001b[0m \u001b[0menh\u001b[0m\u001b[0;34m[\u001b[0m\u001b[0;34m[\u001b[0m\u001b[0;34m\"core_remodeling\"\u001b[0m\u001b[0;34m,\u001b[0m \u001b[0;34m\"enh_id\"\u001b[0m\u001b[0;34m]\u001b[0m\u001b[0;34m]\u001b[0m\u001b[0;34m.\u001b[0m\u001b[0mdrop_duplicates\u001b[0m\u001b[0;34m(\u001b[0m\u001b[0;34m)\u001b[0m\u001b[0;34m.\u001b[0m\u001b[0mgroupby\u001b[0m\u001b[0;34m(\u001b[0m\u001b[0;34m\"core_remodeling\"\u001b[0m\u001b[0;34m)\u001b[0m\u001b[0;34m[\u001b[0m\u001b[0;34m\"enh_id\"\u001b[0m\u001b[0;34m]\u001b[0m\u001b[0;34m.\u001b[0m\u001b[0mcount\u001b[0m\u001b[0;34m(\u001b[0m\u001b[0;34m)\u001b[0m\u001b[0;34m.\u001b[0m\u001b[0mreset_index\u001b[0m\u001b[0;34m(\u001b[0m\u001b[0;34m)\u001b[0m\u001b[0;34m\u001b[0m\u001b[0m\n\u001b[0m\u001b[1;32m      4\u001b[0m \u001b[0march_count\u001b[0m\u001b[0;34m.\u001b[0m\u001b[0mcolumns\u001b[0m \u001b[0;34m=\u001b[0m \u001b[0;34m[\u001b[0m\u001b[0;34m\"core_remodeling\"\u001b[0m\u001b[0;34m,\u001b[0m \u001b[0;34m\"count_arch\"\u001b[0m\u001b[0;34m]\u001b[0m\u001b[0;34m\u001b[0m\u001b[0m\n\u001b[1;32m      5\u001b[0m \u001b[0march_count\u001b[0m\u001b[0;34m[\u001b[0m\u001b[0;34m\"total\"\u001b[0m\u001b[0;34m]\u001b[0m \u001b[0;34m=\u001b[0m \u001b[0march_count\u001b[0m\u001b[0;34m.\u001b[0m\u001b[0mcount_arch\u001b[0m\u001b[0;34m.\u001b[0m\u001b[0msum\u001b[0m\u001b[0;34m(\u001b[0m\u001b[0;34m)\u001b[0m\u001b[0;34m\u001b[0m\u001b[0m\n",
      "\u001b[0;31mNameError\u001b[0m: name 'enh' is not defined"
     ]
    }
   ],
   "source": [
    "#%% get arch counts\n",
    "\n",
    "arch_count = enh[[\"core_remodeling\", \"enh_id\"]].drop_duplicates().groupby(\"core_remodeling\")[\"enh_id\"].count().reset_index()\n",
    "arch_count.columns = [\"core_remodeling\", \"count_arch\"]\n",
    "arch_count[\"total\"] = arch_count.count_arch.sum()\n",
    "arch_count[\"percent\"] = arch_count.count_arch.divide(arch_count.total)\n",
    "\n",
    "with open(stat_f, \"a\") as writer:\n",
    "    writer.write(\"\\n\\n#percent_syn_len#\\n\\n\")\n",
    "    for i, row in arch_count.iterrows():\n",
    "        writer.write(row.to_string())"
   ]
  },
  {
   "cell_type": "markdown",
   "metadata": {
    "code_folding": []
   },
   "source": [
    "# %% GET MRCA FREQUENCIES"
   ]
  },
  {
   "cell_type": "code",
   "execution_count": 65,
   "metadata": {
    "code_folding": []
   },
   "outputs": [
    {
     "name": "stdout",
     "output_type": "stream",
     "text": [
      "id                    FANTOM\n",
      "arch            complex_core\n",
      "mrca_2                 0.126\n",
      "counts                    28\n",
      "total_id               11748\n",
      "freq              0.00238338\n",
      "dataset_name          FANTOM\n",
      "Name: 0, dtype: object\n",
      "id                    FANTOM\n",
      "arch            complex_core\n",
      "mrca_2                 0.131\n",
      "counts                   109\n",
      "total_id               11748\n",
      "freq              0.00927818\n",
      "dataset_name          FANTOM\n",
      "Name: 1, dtype: object\n",
      "id                    FANTOM\n",
      "arch            complex_core\n",
      "mrca_2                 0.152\n",
      "counts                   638\n",
      "total_id               11748\n",
      "freq               0.0543071\n",
      "dataset_name          FANTOM\n",
      "Name: 2, dtype: object\n",
      "id                    FANTOM\n",
      "arch            complex_core\n",
      "mrca_2                 0.175\n",
      "counts                  3658\n",
      "total_id               11748\n",
      "freq                0.311372\n",
      "dataset_name          FANTOM\n",
      "Name: 3, dtype: object\n",
      "id                    FANTOM\n",
      "arch            complex_core\n",
      "mrca_2                 0.308\n",
      "counts                  2441\n",
      "total_id               11748\n",
      "freq                 0.20778\n",
      "dataset_name          FANTOM\n",
      "Name: 4, dtype: object\n",
      "id                    FANTOM\n",
      "arch            complex_core\n",
      "mrca_2                  0.38\n",
      "counts                  2308\n",
      "total_id               11748\n",
      "freq                0.196459\n",
      "dataset_name          FANTOM\n",
      "Name: 5, dtype: object\n",
      "id                    FANTOM\n",
      "arch            complex_core\n",
      "mrca_2                  0.49\n",
      "counts                  1023\n",
      "total_id               11748\n",
      "freq               0.0870787\n",
      "dataset_name          FANTOM\n",
      "Name: 6, dtype: object\n",
      "id                    FANTOM\n",
      "arch            complex_core\n",
      "mrca_2                 0.656\n",
      "counts                   509\n",
      "total_id               11748\n",
      "freq               0.0433265\n",
      "dataset_name          FANTOM\n",
      "Name: 7, dtype: object\n",
      "id                    FANTOM\n",
      "arch            complex_core\n",
      "mrca_2                 0.957\n",
      "counts                  1034\n",
      "total_id               11748\n",
      "freq                0.088015\n",
      "dataset_name          FANTOM\n",
      "Name: 8, dtype: object\n",
      "id                       FANTOM\n",
      "arch            complex_derived\n",
      "mrca_2                        0\n",
      "counts                       56\n",
      "total_id                  15826\n",
      "freq                 0.00353848\n",
      "dataset_name             FANTOM\n",
      "Name: 9, dtype: object\n",
      "id                       FANTOM\n",
      "arch            complex_derived\n",
      "mrca_2                    0.126\n",
      "counts                     2501\n",
      "total_id                  15826\n",
      "freq                   0.158031\n",
      "dataset_name             FANTOM\n",
      "Name: 10, dtype: object\n",
      "id                       FANTOM\n",
      "arch            complex_derived\n",
      "mrca_2                    0.131\n",
      "counts                      778\n",
      "total_id                  15826\n",
      "freq                  0.0491596\n",
      "dataset_name             FANTOM\n",
      "Name: 11, dtype: object\n",
      "id                       FANTOM\n",
      "arch            complex_derived\n",
      "mrca_2                    0.152\n",
      "counts                     2848\n",
      "total_id                  15826\n",
      "freq                   0.179957\n",
      "dataset_name             FANTOM\n",
      "Name: 12, dtype: object\n",
      "id                       FANTOM\n",
      "arch            complex_derived\n",
      "mrca_2                    0.175\n",
      "counts                     5760\n",
      "total_id                  15826\n",
      "freq                   0.363958\n",
      "dataset_name             FANTOM\n",
      "Name: 13, dtype: object\n",
      "id                       FANTOM\n",
      "arch            complex_derived\n",
      "mrca_2                    0.308\n",
      "counts                     2213\n",
      "total_id                  15826\n",
      "freq                   0.139833\n",
      "dataset_name             FANTOM\n",
      "Name: 14, dtype: object\n",
      "id                       FANTOM\n",
      "arch            complex_derived\n",
      "mrca_2                     0.38\n",
      "counts                      999\n",
      "total_id                  15826\n",
      "freq                   0.063124\n",
      "dataset_name             FANTOM\n",
      "Name: 15, dtype: object\n",
      "id                       FANTOM\n",
      "arch            complex_derived\n",
      "mrca_2                     0.49\n",
      "counts                      452\n",
      "total_id                  15826\n",
      "freq                  0.0285606\n",
      "dataset_name             FANTOM\n",
      "Name: 16, dtype: object\n",
      "id                       FANTOM\n",
      "arch            complex_derived\n",
      "mrca_2                    0.656\n",
      "counts                      219\n",
      "total_id                  15826\n",
      "freq                   0.013838\n",
      "dataset_name             FANTOM\n",
      "Name: 17, dtype: object\n",
      "id                  FANTOM\n",
      "arch                simple\n",
      "mrca_2                   0\n",
      "counts                  47\n",
      "total_id             20116\n",
      "freq            0.00233645\n",
      "dataset_name        FANTOM\n",
      "Name: 18, dtype: object\n",
      "id                 FANTOM\n",
      "arch               simple\n",
      "mrca_2              0.126\n",
      "counts               1619\n",
      "total_id            20116\n",
      "freq            0.0804832\n",
      "dataset_name       FANTOM\n",
      "Name: 19, dtype: object\n",
      "id                 FANTOM\n",
      "arch               simple\n",
      "mrca_2              0.131\n",
      "counts                137\n",
      "total_id            20116\n",
      "freq            0.0068105\n",
      "dataset_name       FANTOM\n",
      "Name: 20, dtype: object\n",
      "id                 FANTOM\n",
      "arch               simple\n",
      "mrca_2              0.152\n",
      "counts               1212\n",
      "total_id            20116\n",
      "freq            0.0602505\n",
      "dataset_name       FANTOM\n",
      "Name: 21, dtype: object\n",
      "id                FANTOM\n",
      "arch              simple\n",
      "mrca_2             0.175\n",
      "counts             13335\n",
      "total_id           20116\n",
      "freq            0.662905\n",
      "dataset_name      FANTOM\n",
      "Name: 22, dtype: object\n",
      "id                 FANTOM\n",
      "arch               simple\n",
      "mrca_2              0.308\n",
      "counts               1535\n",
      "total_id            20116\n",
      "freq            0.0763074\n",
      "dataset_name       FANTOM\n",
      "Name: 23, dtype: object\n",
      "id                 FANTOM\n",
      "arch               simple\n",
      "mrca_2               0.38\n",
      "counts               1040\n",
      "total_id            20116\n",
      "freq            0.0517001\n",
      "dataset_name       FANTOM\n",
      "Name: 24, dtype: object\n",
      "id                 FANTOM\n",
      "arch               simple\n",
      "mrca_2               0.49\n",
      "counts                449\n",
      "total_id            20116\n",
      "freq            0.0223205\n",
      "dataset_name       FANTOM\n",
      "Name: 25, dtype: object\n",
      "id                  FANTOM\n",
      "arch                simple\n",
      "mrca_2               0.656\n",
      "counts                 129\n",
      "total_id             20116\n",
      "freq            0.00641281\n",
      "dataset_name        FANTOM\n",
      "Name: 26, dtype: object\n",
      "id                 FANTOM\n",
      "arch               simple\n",
      "mrca_2              0.957\n",
      "counts                613\n",
      "total_id            20116\n",
      "freq            0.0304733\n",
      "dataset_name       FANTOM\n",
      "Name: 27, dtype: object\n",
      "id                   SHUFFLE\n",
      "arch            complex_core\n",
      "mrca_2                 0.126\n",
      "counts                 10230\n",
      "total_id             1127320\n",
      "freq              0.00907462\n",
      "dataset_name         SHUFFLE\n",
      "Name: 0, dtype: object\n",
      "id                   SHUFFLE\n",
      "arch            complex_core\n",
      "mrca_2                 0.131\n",
      "counts                 31821\n",
      "total_id             1127320\n",
      "freq               0.0282271\n",
      "dataset_name         SHUFFLE\n",
      "Name: 1, dtype: object\n",
      "id                   SHUFFLE\n",
      "arch            complex_core\n",
      "mrca_2                 0.152\n",
      "counts                144644\n",
      "total_id             1127320\n",
      "freq                0.128308\n",
      "dataset_name         SHUFFLE\n",
      "Name: 2, dtype: object\n",
      "id                   SHUFFLE\n",
      "arch            complex_core\n",
      "mrca_2                 0.175\n",
      "counts                556809\n",
      "total_id             1127320\n",
      "freq                0.493923\n",
      "dataset_name         SHUFFLE\n",
      "Name: 3, dtype: object\n",
      "id                   SHUFFLE\n",
      "arch            complex_core\n",
      "mrca_2                 0.308\n",
      "counts                128977\n",
      "total_id             1127320\n",
      "freq                 0.11441\n",
      "dataset_name         SHUFFLE\n",
      "Name: 4, dtype: object\n",
      "id                   SHUFFLE\n",
      "arch            complex_core\n",
      "mrca_2                  0.38\n",
      "counts                 89944\n",
      "total_id             1127320\n",
      "freq               0.0797857\n",
      "dataset_name         SHUFFLE\n",
      "Name: 5, dtype: object\n",
      "id                   SHUFFLE\n",
      "arch            complex_core\n",
      "mrca_2                  0.49\n",
      "counts                 55702\n",
      "total_id             1127320\n",
      "freq                0.049411\n",
      "dataset_name         SHUFFLE\n",
      "Name: 6, dtype: object\n",
      "id                   SHUFFLE\n",
      "arch            complex_core\n",
      "mrca_2                 0.656\n",
      "counts                 29157\n",
      "total_id             1127320\n",
      "freq                0.025864\n",
      "dataset_name         SHUFFLE\n",
      "Name: 7, dtype: object\n",
      "id                   SHUFFLE\n",
      "arch            complex_core\n",
      "mrca_2                 0.957\n",
      "counts                 80036\n",
      "total_id             1127320\n",
      "freq               0.0709967\n",
      "dataset_name         SHUFFLE\n",
      "Name: 8, dtype: object\n",
      "id                      SHUFFLE\n",
      "arch            complex_derived\n",
      "mrca_2                        0\n",
      "counts                    19153\n",
      "total_id                1697073\n",
      "freq                  0.0112859\n",
      "dataset_name            SHUFFLE\n",
      "Name: 9, dtype: object\n",
      "id                      SHUFFLE\n",
      "arch            complex_derived\n",
      "mrca_2                    0.126\n",
      "counts                   592402\n",
      "total_id                1697073\n",
      "freq                   0.349073\n",
      "dataset_name            SHUFFLE\n",
      "Name: 10, dtype: object\n",
      "id                      SHUFFLE\n",
      "arch            complex_derived\n",
      "mrca_2                    0.131\n",
      "counts                   162427\n",
      "total_id                1697073\n",
      "freq                  0.0957101\n",
      "dataset_name            SHUFFLE\n",
      "Name: 11, dtype: object\n",
      "id                      SHUFFLE\n",
      "arch            complex_derived\n",
      "mrca_2                    0.152\n",
      "counts                   381153\n",
      "total_id                1697073\n",
      "freq                   0.224594\n",
      "dataset_name            SHUFFLE\n",
      "Name: 12, dtype: object\n",
      "id                      SHUFFLE\n",
      "arch            complex_derived\n",
      "mrca_2                    0.175\n",
      "counts                   326184\n",
      "total_id                1697073\n",
      "freq                   0.192204\n",
      "dataset_name            SHUFFLE\n",
      "Name: 13, dtype: object\n",
      "id                      SHUFFLE\n",
      "arch            complex_derived\n",
      "mrca_2                    0.308\n",
      "counts                   101926\n",
      "total_id                1697073\n",
      "freq                  0.0600599\n",
      "dataset_name            SHUFFLE\n",
      "Name: 14, dtype: object\n",
      "id                      SHUFFLE\n",
      "arch            complex_derived\n",
      "mrca_2                     0.38\n",
      "counts                    49205\n",
      "total_id                1697073\n",
      "freq                   0.028994\n",
      "dataset_name            SHUFFLE\n",
      "Name: 15, dtype: object\n",
      "id                      SHUFFLE\n",
      "arch            complex_derived\n",
      "mrca_2                     0.49\n",
      "counts                    40680\n",
      "total_id                1697073\n",
      "freq                  0.0239707\n",
      "dataset_name            SHUFFLE\n",
      "Name: 16, dtype: object\n",
      "id                      SHUFFLE\n",
      "arch            complex_derived\n",
      "mrca_2                    0.656\n",
      "counts                    23943\n",
      "total_id                1697073\n",
      "freq                  0.0141084\n",
      "dataset_name            SHUFFLE\n",
      "Name: 17, dtype: object\n",
      "id               SHUFFLE\n",
      "arch              simple\n",
      "mrca_2                 0\n",
      "counts             24562\n",
      "total_id         1724981\n",
      "freq            0.014239\n",
      "dataset_name     SHUFFLE\n",
      "Name: 18, dtype: object\n",
      "id               SHUFFLE\n",
      "arch              simple\n",
      "mrca_2             0.126\n",
      "counts            545277\n",
      "total_id         1724981\n",
      "freq            0.316106\n",
      "dataset_name     SHUFFLE\n",
      "Name: 19, dtype: object\n",
      "id                SHUFFLE\n",
      "arch               simple\n",
      "mrca_2              0.131\n",
      "counts              25564\n",
      "total_id          1724981\n",
      "freq            0.0148199\n",
      "dataset_name      SHUFFLE\n",
      "Name: 20, dtype: object\n",
      "id                SHUFFLE\n",
      "arch               simple\n",
      "mrca_2              0.152\n",
      "counts             130444\n",
      "total_id          1724981\n",
      "freq            0.0756205\n",
      "dataset_name      SHUFFLE\n",
      "Name: 21, dtype: object\n",
      "id               SHUFFLE\n",
      "arch              simple\n",
      "mrca_2             0.175\n",
      "counts            822510\n",
      "total_id         1724981\n",
      "freq            0.476823\n",
      "dataset_name     SHUFFLE\n",
      "Name: 22, dtype: object\n",
      "id                SHUFFLE\n",
      "arch               simple\n",
      "mrca_2              0.308\n",
      "counts              63201\n",
      "total_id          1724981\n",
      "freq            0.0366387\n",
      "dataset_name      SHUFFLE\n",
      "Name: 23, dtype: object\n",
      "id                SHUFFLE\n",
      "arch               simple\n",
      "mrca_2               0.38\n",
      "counts              36199\n",
      "total_id          1724981\n",
      "freq            0.0209852\n",
      "dataset_name      SHUFFLE\n",
      "Name: 24, dtype: object\n",
      "id                SHUFFLE\n",
      "arch               simple\n",
      "mrca_2               0.49\n",
      "counts              24350\n",
      "total_id          1724981\n",
      "freq            0.0141161\n",
      "dataset_name      SHUFFLE\n",
      "Name: 25, dtype: object\n",
      "id                 SHUFFLE\n",
      "arch                simple\n",
      "mrca_2               0.656\n",
      "counts                8722\n",
      "total_id           1724981\n",
      "freq            0.00505629\n",
      "dataset_name       SHUFFLE\n",
      "Name: 26, dtype: object\n",
      "id                SHUFFLE\n",
      "arch               simple\n",
      "mrca_2              0.957\n",
      "counts              44152\n",
      "total_id          1724981\n",
      "freq            0.0255956\n",
      "dataset_name      SHUFFLE\n",
      "Name: 27, dtype: object\n"
     ]
    },
    {
     "name": "stdout",
     "output_type": "stream",
     "text": [
      "id                  FANTOM\n",
      "mrca_2                   0\n",
      "counts                 103\n",
      "total_id             47690\n",
      "freq            0.00215978\n",
      "dataset_name        FANTOM\n",
      "Name: 0, dtype: object\n",
      "id                 FANTOM\n",
      "mrca_2              0.126\n",
      "counts               4148\n",
      "total_id            47690\n",
      "freq            0.0869784\n",
      "dataset_name       FANTOM\n",
      "Name: 1, dtype: object\n",
      "id                FANTOM\n",
      "mrca_2             0.131\n",
      "counts              1024\n",
      "total_id           47690\n",
      "freq            0.021472\n",
      "dataset_name      FANTOM\n",
      "Name: 2, dtype: object\n",
      "id                 FANTOM\n",
      "mrca_2              0.152\n",
      "counts               4698\n",
      "total_id            47690\n",
      "freq            0.0985112\n",
      "dataset_name       FANTOM\n",
      "Name: 3, dtype: object\n",
      "id                FANTOM\n",
      "mrca_2             0.175\n",
      "counts             22753\n",
      "total_id           47690\n",
      "freq            0.477102\n",
      "dataset_name      FANTOM\n",
      "Name: 4, dtype: object\n",
      "id                FANTOM\n",
      "mrca_2             0.308\n",
      "counts              6189\n",
      "total_id           47690\n",
      "freq            0.129776\n",
      "dataset_name      FANTOM\n",
      "Name: 5, dtype: object\n",
      "id                 FANTOM\n",
      "mrca_2               0.38\n",
      "counts               4347\n",
      "total_id            47690\n",
      "freq            0.0911512\n",
      "dataset_name       FANTOM\n",
      "Name: 6, dtype: object\n",
      "id                 FANTOM\n",
      "mrca_2               0.49\n",
      "counts               1924\n",
      "total_id            47690\n",
      "freq            0.0403439\n",
      "dataset_name       FANTOM\n",
      "Name: 7, dtype: object\n",
      "id                 FANTOM\n",
      "mrca_2              0.656\n",
      "counts                857\n",
      "total_id            47690\n",
      "freq            0.0179702\n",
      "dataset_name       FANTOM\n",
      "Name: 8, dtype: object\n",
      "id                 FANTOM\n",
      "mrca_2              0.957\n",
      "counts               1647\n",
      "total_id            47690\n",
      "freq            0.0345355\n",
      "dataset_name       FANTOM\n",
      "Name: 9, dtype: object\n",
      "id                 SHUFFLE\n",
      "mrca_2                   0\n",
      "counts               43715\n",
      "total_id           4549374\n",
      "freq            0.00960901\n",
      "dataset_name       SHUFFLE\n",
      "Name: 0, dtype: object\n",
      "id               SHUFFLE\n",
      "mrca_2             0.126\n",
      "counts           1147909\n",
      "total_id         4549374\n",
      "freq            0.252322\n",
      "dataset_name     SHUFFLE\n",
      "Name: 1, dtype: object\n",
      "id               SHUFFLE\n",
      "mrca_2             0.131\n",
      "counts            219812\n",
      "total_id         4549374\n",
      "freq            0.048317\n",
      "dataset_name     SHUFFLE\n",
      "Name: 2, dtype: object\n",
      "id               SHUFFLE\n",
      "mrca_2             0.152\n",
      "counts            656241\n",
      "total_id         4549374\n",
      "freq            0.144249\n",
      "dataset_name     SHUFFLE\n",
      "Name: 3, dtype: object\n",
      "id               SHUFFLE\n",
      "mrca_2             0.175\n",
      "counts           1705503\n",
      "total_id         4549374\n",
      "freq            0.374887\n",
      "dataset_name     SHUFFLE\n",
      "Name: 4, dtype: object\n",
      "id                SHUFFLE\n",
      "mrca_2              0.308\n",
      "counts             294104\n",
      "total_id          4549374\n",
      "freq            0.0646471\n",
      "dataset_name      SHUFFLE\n",
      "Name: 5, dtype: object\n",
      "id                SHUFFLE\n",
      "mrca_2               0.38\n",
      "counts             175348\n",
      "total_id          4549374\n",
      "freq            0.0385433\n",
      "dataset_name      SHUFFLE\n",
      "Name: 6, dtype: object\n",
      "id                SHUFFLE\n",
      "mrca_2               0.49\n",
      "counts             120732\n",
      "total_id          4549374\n",
      "freq            0.0265382\n",
      "dataset_name      SHUFFLE\n",
      "Name: 7, dtype: object\n",
      "id                SHUFFLE\n",
      "mrca_2              0.656\n",
      "counts              61822\n",
      "total_id          4549374\n",
      "freq            0.0135891\n",
      "dataset_name      SHUFFLE\n",
      "Name: 8, dtype: object\n",
      "id                SHUFFLE\n",
      "mrca_2              0.957\n",
      "counts             124188\n",
      "total_id          4549374\n",
      "freq            0.0272978\n",
      "dataset_name      SHUFFLE\n",
      "Name: 9, dtype: object\n"
     ]
    }
   ],
   "source": [
    "cols = [\"id\", \"arch\", \"mrca_2\"]\n",
    "var = \"mrca_2\"\n",
    "age_arch_freq, age_arch_fc = MRCA_frequency(df, cols, var, stat_f)\n",
    "\n",
    "\n",
    "cols = [\"id\", \"mrca_2\"]\n",
    "var = \"mrca_2\"\n",
    "age_freq, age_fc = MRCA_frequency(df, cols, var, stat_f)\n",
    "\n",
    "\n",
    "#%%"
   ]
  },
  {
   "cell_type": "code",
   "execution_count": 66,
   "metadata": {
    "code_folding": [
     0
    ]
   },
   "outputs": [
    {
     "data": {
      "text/html": [
       "<div>\n",
       "<style scoped>\n",
       "    .dataframe tbody tr th:only-of-type {\n",
       "        vertical-align: middle;\n",
       "    }\n",
       "\n",
       "    .dataframe tbody tr th {\n",
       "        vertical-align: top;\n",
       "    }\n",
       "\n",
       "    .dataframe thead th {\n",
       "        text-align: right;\n",
       "    }\n",
       "</style>\n",
       "<table border=\"1\" class=\"dataframe\">\n",
       "  <thead>\n",
       "    <tr style=\"text-align: right;\">\n",
       "      <th></th>\n",
       "      <th>id_x</th>\n",
       "      <th>arch</th>\n",
       "      <th>mrca_2</th>\n",
       "      <th>counts_x</th>\n",
       "      <th>total_id_x</th>\n",
       "      <th>freq_x</th>\n",
       "      <th>dataset_name_x</th>\n",
       "      <th>id_y</th>\n",
       "      <th>counts_y</th>\n",
       "      <th>total_id_y</th>\n",
       "      <th>freq_y</th>\n",
       "      <th>dataset_name_y</th>\n",
       "      <th>fold_change</th>\n",
       "    </tr>\n",
       "  </thead>\n",
       "  <tbody>\n",
       "    <tr>\n",
       "      <th>0</th>\n",
       "      <td>SHUFFLE</td>\n",
       "      <td>complex_core</td>\n",
       "      <td>0.126</td>\n",
       "      <td>10230</td>\n",
       "      <td>1127320</td>\n",
       "      <td>0.009075</td>\n",
       "      <td>SHUFFLE</td>\n",
       "      <td>FANTOM</td>\n",
       "      <td>28</td>\n",
       "      <td>11748</td>\n",
       "      <td>0.002383</td>\n",
       "      <td>FANTOM</td>\n",
       "      <td>0.262643</td>\n",
       "    </tr>\n",
       "    <tr>\n",
       "      <th>1</th>\n",
       "      <td>SHUFFLE</td>\n",
       "      <td>complex_core</td>\n",
       "      <td>0.131</td>\n",
       "      <td>31821</td>\n",
       "      <td>1127320</td>\n",
       "      <td>0.028227</td>\n",
       "      <td>SHUFFLE</td>\n",
       "      <td>FANTOM</td>\n",
       "      <td>109</td>\n",
       "      <td>11748</td>\n",
       "      <td>0.009278</td>\n",
       "      <td>FANTOM</td>\n",
       "      <td>0.328697</td>\n",
       "    </tr>\n",
       "    <tr>\n",
       "      <th>2</th>\n",
       "      <td>SHUFFLE</td>\n",
       "      <td>complex_core</td>\n",
       "      <td>0.152</td>\n",
       "      <td>144644</td>\n",
       "      <td>1127320</td>\n",
       "      <td>0.128308</td>\n",
       "      <td>SHUFFLE</td>\n",
       "      <td>FANTOM</td>\n",
       "      <td>638</td>\n",
       "      <td>11748</td>\n",
       "      <td>0.054307</td>\n",
       "      <td>FANTOM</td>\n",
       "      <td>0.423256</td>\n",
       "    </tr>\n",
       "    <tr>\n",
       "      <th>3</th>\n",
       "      <td>SHUFFLE</td>\n",
       "      <td>complex_core</td>\n",
       "      <td>0.175</td>\n",
       "      <td>556809</td>\n",
       "      <td>1127320</td>\n",
       "      <td>0.493923</td>\n",
       "      <td>SHUFFLE</td>\n",
       "      <td>FANTOM</td>\n",
       "      <td>3658</td>\n",
       "      <td>11748</td>\n",
       "      <td>0.311372</td>\n",
       "      <td>FANTOM</td>\n",
       "      <td>0.630407</td>\n",
       "    </tr>\n",
       "    <tr>\n",
       "      <th>4</th>\n",
       "      <td>SHUFFLE</td>\n",
       "      <td>complex_core</td>\n",
       "      <td>0.308</td>\n",
       "      <td>128977</td>\n",
       "      <td>1127320</td>\n",
       "      <td>0.114410</td>\n",
       "      <td>SHUFFLE</td>\n",
       "      <td>FANTOM</td>\n",
       "      <td>2441</td>\n",
       "      <td>11748</td>\n",
       "      <td>0.207780</td>\n",
       "      <td>FANTOM</td>\n",
       "      <td>1.816096</td>\n",
       "    </tr>\n",
       "  </tbody>\n",
       "</table>\n",
       "</div>"
      ],
      "text/plain": [
       "      id_x          arch  mrca_2  counts_x  total_id_x    freq_x  \\\n",
       "0  SHUFFLE  complex_core   0.126     10230     1127320  0.009075   \n",
       "1  SHUFFLE  complex_core   0.131     31821     1127320  0.028227   \n",
       "2  SHUFFLE  complex_core   0.152    144644     1127320  0.128308   \n",
       "3  SHUFFLE  complex_core   0.175    556809     1127320  0.493923   \n",
       "4  SHUFFLE  complex_core   0.308    128977     1127320  0.114410   \n",
       "\n",
       "  dataset_name_x    id_y  counts_y  total_id_y    freq_y dataset_name_y  \\\n",
       "0        SHUFFLE  FANTOM        28       11748  0.002383         FANTOM   \n",
       "1        SHUFFLE  FANTOM       109       11748  0.009278         FANTOM   \n",
       "2        SHUFFLE  FANTOM       638       11748  0.054307         FANTOM   \n",
       "3        SHUFFLE  FANTOM      3658       11748  0.311372         FANTOM   \n",
       "4        SHUFFLE  FANTOM      2441       11748  0.207780         FANTOM   \n",
       "\n",
       "   fold_change  \n",
       "0     0.262643  \n",
       "1     0.328697  \n",
       "2     0.423256  \n",
       "3     0.630407  \n",
       "4     1.816096  "
      ]
     },
     "execution_count": 66,
     "metadata": {},
     "output_type": "execute_result"
    }
   ],
   "source": [
    "age_arch_fc.head()"
   ]
  },
  {
   "cell_type": "code",
   "execution_count": 67,
   "metadata": {
    "code_folding": [
     0
    ]
   },
   "outputs": [],
   "source": [
    "mrcas = age_arch_fc[\"mrca_2\"].drop_duplicates()\n",
    "pd.merge(mrcas, age_arch_fc.loc[age_arch_fc.arch == \"complex_derived\"][[\"mrca_2\", \"counts_y\"]], how = \"left\")\n",
    "GENOME_BUILD = \"hg19\""
   ]
  },
  {
   "cell_type": "markdown",
   "metadata": {},
   "source": [
    "# Fold change, all archs in one graph"
   ]
  },
  {
   "cell_type": "code",
   "execution_count": 68,
   "metadata": {
    "code_folding": [
     0
    ]
   },
   "outputs": [
    {
     "ename": "NameError",
     "evalue": "name 'archpal' is not defined",
     "output_type": "error",
     "traceback": [
      "\u001b[0;31m---------------------------------------------------------------------------\u001b[0m",
      "\u001b[0;31mNameError\u001b[0m                                 Traceback (most recent call last)",
      "\u001b[0;32m<ipython-input-68-d322b3f278cd>\u001b[0m in \u001b[0;36m<module>\u001b[0;34m\u001b[0m\n\u001b[0;32m----> 1\u001b[0;31m \u001b[0mplot_arch_freq\u001b[0m\u001b[0;34m(\u001b[0m\u001b[0mage_arch_freq\u001b[0m\u001b[0;34m,\u001b[0m \u001b[0mage_freq\u001b[0m\u001b[0;34m)\u001b[0m\u001b[0;34m\u001b[0m\u001b[0m\n\u001b[0m\u001b[1;32m      2\u001b[0m \u001b[0;31m#plot_arch_fc(age_arch_fc, age_fc, GENOME_BUILD, \"all\")\u001b[0m\u001b[0;34m\u001b[0m\u001b[0;34m\u001b[0m\u001b[0m\n",
      "\u001b[0;32m<ipython-input-10-052ca56d4623>\u001b[0m in \u001b[0;36mplot_arch_freq\u001b[0;34m(age_arch_freq, age_freq)\u001b[0m\n\u001b[1;32m     10\u001b[0m             \"complex_derived-FANTOM\", \"complex_derived-SHUFFLE\"]\n\u001b[1;32m     11\u001b[0m             \u001b[0mhue\u001b[0m \u001b[0;34m=\u001b[0m \u001b[0;34m\"plot_hue\"\u001b[0m\u001b[0;34m\u001b[0m\u001b[0m\n\u001b[0;32m---> 12\u001b[0;31m             \u001b[0mp\u001b[0m \u001b[0;34m=\u001b[0m \u001b[0marchpal\u001b[0m\u001b[0;34m\u001b[0m\u001b[0m\n\u001b[0m\u001b[1;32m     13\u001b[0m \u001b[0;34m\u001b[0m\u001b[0m\n\u001b[1;32m     14\u001b[0m         \u001b[0;32melse\u001b[0m\u001b[0;34m:\u001b[0m\u001b[0;34m\u001b[0m\u001b[0m\n",
      "\u001b[0;31mNameError\u001b[0m: name 'archpal' is not defined"
     ]
    }
   ],
   "source": [
    "plot_arch_freq(age_arch_freq, age_freq)\n",
    "#plot_arch_fc(age_arch_fc, age_fc, GENOME_BUILD, \"all\")"
   ]
  },
  {
   "cell_type": "markdown",
   "metadata": {},
   "source": [
    "# Figure 2B\n",
    "## Fold change"
   ]
  },
  {
   "cell_type": "markdown",
   "metadata": {},
   "source": [
    "### derived v. shuffle"
   ]
  },
  {
   "cell_type": "code",
   "execution_count": 69,
   "metadata": {
    "code_folding": [
     0
    ]
   },
   "outputs": [
    {
     "name": "stdout",
     "output_type": "stream",
     "text": [
      "hg19 complex_derived\n",
      "dict_keys(['age_arch'])\n"
     ]
    },
    {
     "data": {
      "image/png": "[encoded data removed]",
      "text/plain": [
       "<Figure size 432x432 with 1 Axes>"
      ]
     },
     "metadata": {},
     "output_type": "display_data"
    }
   ],
   "source": [
    "plot_arch_fc(age_arch_fc, age_fc, GENOME_BUILD, \"complex_derived\")"
   ]
  },
  {
   "cell_type": "markdown",
   "metadata": {},
   "source": [
    "### complex core v. shuffle"
   ]
  },
  {
   "cell_type": "code",
   "execution_count": 70,
   "metadata": {
    "code_folding": [
     0
    ]
   },
   "outputs": [
    {
     "name": "stdout",
     "output_type": "stream",
     "text": [
      "hg19 complex_core\n",
      "dict_keys(['age_arch'])\n"
     ]
    },
    {
     "data": {
      "image/png": "[encoded data removed]",
      "text/plain": [
       "<Figure size 432x432 with 1 Axes>"
      ]
     },
     "metadata": {},
     "output_type": "display_data"
    }
   ],
   "source": [
    "plot_arch_fc(age_arch_fc, age_fc,GENOME_BUILD, \"complex_core\")"
   ]
  },
  {
   "cell_type": "markdown",
   "metadata": {},
   "source": [
    "### simple v. simple shuffle"
   ]
  },
  {
   "cell_type": "code",
   "execution_count": 71,
   "metadata": {
    "code_folding": [
     0
    ],
    "scrolled": false
   },
   "outputs": [
    {
     "name": "stdout",
     "output_type": "stream",
     "text": [
      "hg19 simple\n",
      "dict_keys(['age_arch'])\n"
     ]
    },
    {
     "data": {
      "image/png": "[encoded data removed]",
      "text/plain": [
       "<Figure size 432x432 with 1 Axes>"
      ]
     },
     "metadata": {},
     "output_type": "display_data"
    }
   ],
   "source": [
    "plot_arch_fc(age_arch_fc, age_fc, GENOME_BUILD, \"simple\")"
   ]
  },
  {
   "cell_type": "code",
   "execution_count": 72,
   "metadata": {},
   "outputs": [
    {
     "data": {
      "text/plain": [
       "0.125"
      ]
     },
     "execution_count": 72,
     "metadata": {},
     "output_type": "execute_result"
    }
   ],
   "source": [
    "2**(-3)"
   ]
  },
  {
   "cell_type": "code",
   "execution_count": null,
   "metadata": {
    "code_folding": [
     0
    ]
   },
   "outputs": [],
   "source": [
    "der = df.loc[df.core == 0]\n",
    "der_enh = der.loc[der.id == \"FANTOM\", \"mrca_2\"]\n",
    "der_shuf = der.loc[der.id == \"SHUFFLE\", \"mrca_2\"]\n",
    "stats.mannwhitneyu(der_enh, der_shuf)\n",
    "der.groupby(\"id\")[\"mrca_2\"].median()"
   ]
  },
  {
   "cell_type": "code",
   "execution_count": null,
   "metadata": {
    "code_folding": [
     0,
     10
    ]
   },
   "outputs": [],
   "source": [
    "\"\"\"\n",
    "id\n",
    "FANTOM     0.175\n",
    "SHUFFLE    0.152\n",
    "Name: mrca_2, dtype: float64\n",
    "\"\"\"\n",
    "der.groupby(\"id\")[\"mrca_2\"].mean()\n",
    "\"\"\"\n",
    "id\n",
    "FANTOM     0.206010\n",
    "SHUFFLE    0.172115\n",
    "Name: mrca_2, dtype: float64\n",
    "\"\"\""
   ]
  },
  {
   "cell_type": "code",
   "execution_count": null,
   "metadata": {},
   "outputs": [],
   "source": []
  }
 ],
 "metadata": {
  "kernelspec": {
   "display_name": "Python (sfenv)",
   "language": "python",
   "name": "sfenv"
  },
  "language_info": {
   "codemirror_mode": {
    "name": "ipython",
    "version": 3
   },
   "file_extension": ".py",
   "mimetype": "text/x-python",
   "name": "python",
   "nbconvert_exporter": "python",
   "pygments_lexer": "ipython3",
   "version": "3.6.6"
  },
  "toc": {
   "base_numbering": 1,
   "nav_menu": {},
   "number_sections": false,
   "sideBar": true,
   "skip_h1_title": false,
   "title_cell": "Table of Contents",
   "title_sidebar": "Contents",
   "toc_cell": false,
   "toc_position": {},
   "toc_section_display": true,
   "toc_window_display": true
  }
 },
 "nbformat": 4,
 "nbformat_minor": 4
}
