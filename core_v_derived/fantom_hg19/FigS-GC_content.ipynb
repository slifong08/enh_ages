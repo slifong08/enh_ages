{
 "cells": [
  {
   "cell_type": "code",
   "execution_count": 1,
   "id": "f8a06ef0",
   "metadata": {
    "ExecuteTime": {
     "end_time": "2021-12-23T19:41:10.370923Z",
     "start_time": "2021-12-23T19:41:09.469523Z"
    }
   },
   "outputs": [],
   "source": [
    "import argparse\n",
    "from collections import Counter\n",
    "import configparser\n",
    "import glob\n",
    "import matplotlib.pyplot as plt\n",
    "import os\n",
    "import pandas as pd\n",
    "from scipy import stats\n",
    "import seaborn as sns\n",
    "import sys"
   ]
  },
  {
   "cell_type": "code",
   "execution_count": 2,
   "id": "92df5edd",
   "metadata": {
    "ExecuteTime": {
     "end_time": "2021-12-23T19:41:10.661727Z",
     "start_time": "2021-12-23T19:41:10.372760Z"
    }
   },
   "outputs": [
    {
     "name": "stdout",
     "output_type": "stream",
     "text": [
      "COLORMAP - CM <matplotlib.colors.LinearSegmentedColormap object at 0x2aeac7171f98>\n",
      "y_\n",
      "stemg\n",
      "kellyg\n",
      "yg\n",
      "cd\n",
      "yg_shuf\n"
     ]
    },
    {
     "data": {
      "image/png": "[encoded data removed]",
      "text/plain": [
       "<Figure size 72x72 with 1 Axes>"
      ]
     },
     "metadata": {
      "needs_background": "light"
     },
     "output_type": "display_data"
    },
    {
     "data": {
      "image/png": "[encoded data removed]",
      "text/plain": [
       "<Figure size 72x72 with 1 Axes>"
      ]
     },
     "metadata": {
      "needs_background": "light"
     },
     "output_type": "display_data"
    },
    {
     "data": {
      "image/png": "[encoded data removed]",
      "text/plain": [
       "<Figure size 72x72 with 1 Axes>"
      ]
     },
     "metadata": {
      "needs_background": "light"
     },
     "output_type": "display_data"
    },
    {
     "data": {
      "image/png": "[encoded data removed]",
      "text/plain": [
       "<Figure size 216x72 with 1 Axes>"
      ]
     },
     "metadata": {
      "needs_background": "light"
     },
     "output_type": "display_data"
    },
    {
     "data": {
      "image/png": "[encoded data removed]",
      "text/plain": [
       "<Figure size 144x72 with 1 Axes>"
      ]
     },
     "metadata": {
      "needs_background": "light"
     },
     "output_type": "display_data"
    },
    {
     "data": {
      "image/png": "[encoded data removed]",
      "text/plain": [
       "<Figure size 432x72 with 1 Axes>"
      ]
     },
     "metadata": {
      "needs_background": "light"
     },
     "output_type": "display_data"
    }
   ],
   "source": [
    "BASE_PATH= \"/dors/capra_lab/users/fongsl/enh_ages/landscape/\"\n",
    "\n",
    "configfile_name = os.path.join(BASE_PATH, \"config_landscape.ini\")\n",
    "config = configparser.ConfigParser(allow_no_value=True)\n",
    "config.read(configfile_name)\n",
    "\n",
    "## get plotting colors, other parameters\n",
    "\n",
    "sys.path.append(BASE_PATH)\n",
    "import config_plot as cp"
   ]
  },
  {
   "cell_type": "code",
   "execution_count": 8,
   "id": "f3ea902e",
   "metadata": {
    "ExecuteTime": {
     "end_time": "2021-12-23T19:46:16.834716Z",
     "start_time": "2021-12-23T19:46:16.824704Z"
    }
   },
   "outputs": [],
   "source": [
    "GENOME_BUILD = config[\"FANTOM\"][\"GENOME_BUILD\"]\n",
    "\n",
    "FANTOMPATH = config[\"FANTOM\"][\"DATA_PATH\"]\n",
    "FANTOM = config[\"FANTOM\"][\"DATA_FILE\"]\n",
    "\n",
    "SAMPLE_ID = config[\"FANTOM\"][\"SAMPLE_ID\"]\n",
    "\n",
    "OUTPATH = \"/dors/capra_lab/projects/enhancer_ages/fantom/data/non-genic/no-exon_all_fantom_enh/\"\n",
    "RE = config[\"FANTOM\"][\"RESULTS\"]\n",
    "\n",
    "MERGE_DISTANCES = 0\n",
    "\n",
    "if MERGE_DISTANCES == 0:\n",
    "    PROMOTERFILE = \"promoter_data_hg19.bed\"\n",
    "    PROMOTERSAMPLE_ID = f\"all_fantom_pr_merged_{GENOME_BUILD}\"\n",
    "else:\n",
    "    PROMOTERFILE = f\"merged_{MERGE_DISTANCES}_bp_promoters.bed\" \n",
    "    PROMOTERSAMPLE_ID = f\"all_fantom_pr_merged{MERGE_DISTANCES}_{GENOME_BUILD}\"\n",
    "\n",
    "PROMOTER = os.path.join(FANTOMPATH, PROMOTERFILE)"
   ]
  },
  {
   "cell_type": "markdown",
   "id": "8a143cf1",
   "metadata": {},
   "source": [
    "# FUNCTIONS"
   ]
  },
  {
   "cell_type": "code",
   "execution_count": 64,
   "id": "05765ab7",
   "metadata": {
    "ExecuteTime": {
     "end_time": "2021-12-23T20:09:31.819237Z",
     "start_time": "2021-12-23T20:09:31.761778Z"
    }
   },
   "outputs": [],
   "source": [
    "def getfasta(test_enh, sample_id, test_path, results_path, species):\n",
    "\n",
    "\n",
    "    cat_fasta = \"%s%s.fa\" % (results_path, sample_id)\n",
    "    print(cat_fasta)\n",
    "    if os.path.exists(cat_fasta) is False:\n",
    "        os.chdir(test_path)\n",
    "\n",
    "        chr_cmd = \"awk '{print >$1\\\"_%s_temp.bed\\\"}' %s\" % (sample_id, test_enh) # split test into chrN.bed files\n",
    "        os.system(chr_cmd)\n",
    "        print(chr_cmd)\n",
    "\n",
    "        enh_chr_list = glob.glob(\"%s/chr*_%s_temp.bed\" % (test_path, sample_id)) # glob chromosomes\n",
    "\n",
    "        for enh_chr in enh_chr_list: # intersect test chrN.bed w/ syntenic block\n",
    "\n",
    "            chr_num = (enh_chr.split(\"/\")[-1]).split(\"_\")[0]\n",
    "\n",
    "            dna_path = \"/dors/capra_lab/data/dna/human/%s/\" % species\n",
    "\n",
    "            fasta_in = (\"%s%s.fa\" % (dna_path, chr_num))\n",
    "            fasta_out = \"%s%s_%s.fa\" % (results_path, sample_id, chr_num)\n",
    "\n",
    "            cmd = \"bedtools getfasta -fi %s -bed %s -fo %s\" %(fasta_in, enh_chr, fasta_out)\n",
    "\n",
    "            os.system(cmd)\n",
    "\n",
    "            cleanup_cmd = \"rm %s\" % enh_chr # clean up chr temp file\n",
    "            os.system(cleanup_cmd)\n",
    "\n",
    "\n",
    "        cat_fasta = \"%s%s.fa\" % (results_path, sample_id)\n",
    "        cat_cmd = \"cat %s%s_chr*.fa > %s\" % (results_path, sample_id, cat_fasta)\n",
    "        os.system(cat_cmd)\n",
    "\n",
    "        cleanup_cmd = \"rm %s%s_chr*.fa\" % (results_path, sample_id)\n",
    "        os.system(cleanup_cmd)\n",
    "\n",
    "    else:\n",
    "        print(\"already done!\")\n",
    "\n",
    "    return cat_fasta\n",
    "\n",
    "\n",
    "def countgc(sequence):\n",
    "    gc = []\n",
    "    total = []\n",
    "    letters = [\"G\", \"C\", \"g\", \"c\"]\n",
    "    counts = Counter(sequence)\n",
    "\n",
    "    for letter in letters:\n",
    "        gc.append(int(counts[letter]))\n",
    "\n",
    "    gc_sum = sum(gc)\n",
    "    return gc_sum\n",
    "\n",
    "\n",
    "def format_fa(fasta_file):\n",
    "\n",
    "    cols = [\"seq\", \"syn_id\"]\n",
    "    df = pd.read_csv(fasta_file, sep = \">\",  header =None, names =cols )\n",
    "\n",
    "    df[\"syn_id\"] = df[\"syn_id\"].shift(1) # need to shift col 1 by 1.\n",
    "    df = df.dropna() # drop na\n",
    "\n",
    "\n",
    "    df[\"GC\"] = df[\"seq\"].apply(lambda x: countgc(x)) # get GC content\n",
    "    df[\"motif_len\"] = df[\"seq\"].apply(lambda x: len(x)) # get sequence len\n",
    "    longer_than5 = df.loc[df.motif_len>=6].copy()\n",
    "    longer_than5[\"GC_density\"] = longer_than5[\"GC\"].divide(longer_than5[\"motif_len\"])\n",
    "    \n",
    "    # remove x and y chromosomes\n",
    "    longer_than5 = longer_than5.loc[~longer_than5[\"syn_id\"].str.contains(\"chrY\")]\n",
    "    longer_than5 = longer_than5.loc[~longer_than5[\"syn_id\"].str.contains(\"chrX\")]\n",
    "\n",
    "    return longer_than5\n",
    "\n",
    "\n",
    "def format_syndf(enh_age_file):\n",
    "\n",
    "    syn_cols = [\"chr_syn\", \"start_syn\", \"end_syn\",\n",
    "    \"enh_id\",\n",
    "    \"chr\", \"start\", \"end\",\n",
    "    \"seg_index\", \"core_remodeling\", \"core\",\n",
    "    \"mrca\",]\n",
    "\n",
    "    syn = pd.read_csv(FANTOM, sep ='\\t', header = None, names = syn_cols)\n",
    "\n",
    "    syn[\"syn_id\"] = syn.chr_syn + \":\" + syn.start_syn.map(str) + \"-\" + syn.end_syn.map(str)\n",
    "    syn[\"enh_len\"] = syn.end - syn.start\n",
    "\n",
    "\n",
    "    # age and taxon file\n",
    "    syn_gen_bkgd_file = \"/dors/capra_lab/projects/enhancer_ages/hg19_syn_gen_bkgd.tsv\"\n",
    "    syn_gen_bkgd= pd.read_csv(syn_gen_bkgd_file, sep = '\\t') # read the file\n",
    "    syn_gen_bkgd[[\"mrca\", \"mrca_2\"]] = syn_gen_bkgd[[\"mrca\", \"mrca_2\"]].round(3) # round the ages\n",
    "\n",
    "    syn_gen_bkgd = syn_gen_bkgd[[\"mrca\", \"taxon\", \"mrca_2\", \"taxon2\"]] # whittle down the df\n",
    "    syn[\"mrca\"] = syn[\"mrca\"].round(3) # round the ages\n",
    "\n",
    "    syn = pd.merge(syn, syn_gen_bkgd, how = \"left\", on = \"mrca\")\n",
    "\n",
    "    syn[\"arch\"] = \"simple\"\n",
    "\n",
    "    syn.loc[(syn.core_remodeling ==1) & (syn.core ==1), \"arch\"] = \"complex_core\"\n",
    "    syn.loc[(syn.core_remodeling ==1) & (syn.core ==0), \"arch\"] = \"complex_derived\"\n",
    "\n",
    "    return syn\n",
    "\n",
    "\n",
    "def merge_fa_ages(fa, syn):\n",
    "\n",
    "    merged = pd.merge(fa, syn, how = \"left\", on = \"syn_id\")\n",
    "\n",
    "    return merged\n",
    "\n",
    "\n",
    "def make_pdf(file_name, RE):\n",
    "    outfile = file_name +\".pdf\"\n",
    "    outf = os.path.join(RE, outfile)\n",
    "\n",
    "    return outf\n",
    "\n",
    "\n",
    "def custom_round(x, base=10):\n",
    "    return int(base * round(float(x)/base))\n",
    "\n",
    "\n",
    "def prep_match_len_df(df, id_col, len_col):\n",
    "\n",
    "    df = df[[id_col, len_col]].drop_duplicates() # get columns\n",
    "\n",
    "    columns_names = [\"matching_ids\", \"matching_len\"]\n",
    "    df.columns = columns_names # format column names\n",
    "\n",
    "    return df\n",
    "\n",
    "\n",
    "def match_len(df1, df2, base_len, balanced_ids_per_bin):\n",
    "\n",
    "    # round_lengths\n",
    "\n",
    "    df1.matching_len = df1.matching_len.astype(float).apply(lambda x: custom_round(x, base=base_len)) # round to the nearest 100bp\n",
    "\n",
    "    df2.matching_len = df2.matching_len.astype(float).apply(lambda x: custom_round(x, base=base_len))\n",
    "\n",
    "    # set of lengths in both datasets\n",
    "    lens = set(list(df1.matching_len.unique()) + list(df2.matching_len.unique())) \n",
    "\n",
    "    match_dict = {}\n",
    "\n",
    "    # per length bin\n",
    "    for length in lens:\n",
    "\n",
    "        # count the min number ids with that length bin in both datasets\n",
    "        df2n = len(df2.loc[df2.matching_len == length])\n",
    "        df1n = len(df1.loc[df1.matching_len == length])\n",
    "\n",
    "        # choose the number of ids to match on\n",
    "        # by scaling to the smaller number () of ids.\n",
    "        min_ids = min(df2n, df1n)\n",
    "\n",
    "        if length > 0 and min_ids > 0:\n",
    "\n",
    "            # get ids per length-matched bins\n",
    "            if balanced_ids_per_bin == 1: # make a balanced set with the same number of ids per bin\n",
    "                df2_ids = df2.loc[df2.matching_len == length].sample(n = min_ids, replace = False) # sample w/ replacement\n",
    "                df1_ids = df1.loc[df1.matching_len == length].sample(n = min_ids, replace = False) # sample w/ replacement\n",
    "\n",
    "            else: # get all ids in length bins\n",
    "\n",
    "                df2_ids = df2.loc[df2.matching_len == length].sample(n = df2n, replace = False) # sample w/ replacement\n",
    "                df1_ids = df1.loc[df1.matching_len == length].sample(n = df1n, replace = False) # sample w/ replacement\n",
    "\n",
    "            balanced = pd.concat([df1_ids, df2_ids])\n",
    "            match_dict[length] = balanced\n",
    "\n",
    "    final_matched_id = pd.concat(match_dict.values())\n",
    "\n",
    "    return final_matched_id.matching_ids.unique()\n",
    "\n",
    "def compare_gc_arch(df):\n",
    "\n",
    "    core = df.loc[df.arch == \"complex_core\", \"GC_density\"]\n",
    "    derived = df.loc[df.arch == \"complex_derived\", \"GC_density\"]\n",
    "    simple = df.loc[df.arch == \"simple\", \"GC_density\"]\n",
    "\n",
    "    cstat, cp = stats.mannwhitneyu(core, derived)\n",
    "    print(\"core v. derived\", cstat, cp )\n",
    "\n",
    "    stat, p = stats.mannwhitneyu(simple, core)\n",
    "    print(\"complex core v simple\", stat, p )\n",
    "\n",
    "    print(df.groupby(\"arch\")[\"GC_density\"].mean(), \"mean\")"
   ]
  },
  {
   "cell_type": "markdown",
   "id": "ddbde082",
   "metadata": {},
   "source": [
    "# make fasta files"
   ]
  },
  {
   "cell_type": "code",
   "execution_count": 65,
   "id": "c71737da",
   "metadata": {
    "ExecuteTime": {
     "end_time": "2021-12-23T20:09:34.946486Z",
     "start_time": "2021-12-23T20:09:34.938751Z"
    }
   },
   "outputs": [
    {
     "data": {
      "text/plain": [
       "'/dors/capra_lab/projects/enhancer_ages/fantom/data/non-genic/no-exon_all_fantom_enh/'"
      ]
     },
     "execution_count": 65,
     "metadata": {},
     "output_type": "execute_result"
    }
   ],
   "source": [
    "OUTPATH"
   ]
  },
  {
   "cell_type": "code",
   "execution_count": 66,
   "id": "6a054ed6",
   "metadata": {
    "ExecuteTime": {
     "end_time": "2021-12-23T20:09:35.382457Z",
     "start_time": "2021-12-23T20:09:35.373883Z"
    }
   },
   "outputs": [
    {
     "name": "stdout",
     "output_type": "stream",
     "text": [
      "/dors/capra_lab/projects/enhancer_ages/fantom/data/non-genic/no-exon_all_fantom_enh/all_fanton_enh_hg19.fa\n",
      "already done!\n",
      "/dors/capra_lab/projects/enhancer_ages/fantom/data/non-genic/no-exon_all_fantom_enh/all_fantom_pr_merged_hg19.fa\n",
      "already done!\n"
     ]
    }
   ],
   "source": [
    "enhfasta = getfasta(FANTOM, SAMPLE_ID, FANTOMPATH, OUTPATH, GENOME_BUILD)\n",
    "prfasta = getfasta(PROMOTER, PROMOTERSAMPLE_ID, FANTOMPATH, OUTPATH, GENOME_BUILD)"
   ]
  },
  {
   "cell_type": "markdown",
   "id": "7b9500ca",
   "metadata": {},
   "source": [
    "# format fasta files and calculate GC density"
   ]
  },
  {
   "cell_type": "code",
   "execution_count": 74,
   "id": "9f0b3a25",
   "metadata": {
    "ExecuteTime": {
     "end_time": "2021-12-23T20:11:41.980652Z",
     "start_time": "2021-12-23T20:11:39.312184Z"
    }
   },
   "outputs": [],
   "source": [
    "fa = format_fa(enhfasta)\n",
    "prfa = format_fa(prfasta)\n",
    "\n",
    "prfa[\"arch\"] = \"promoter\"\n",
    "prfa = prfa.loc[prfa.motif_len>=50]  # evaluate only the promoters w/ > 50bp length\n",
    "\n",
    "syn = format_syndf(FANTOM)"
   ]
  },
  {
   "cell_type": "markdown",
   "id": "5e78362a",
   "metadata": {},
   "source": [
    "# merge GC content and architecture"
   ]
  },
  {
   "cell_type": "code",
   "execution_count": 75,
   "id": "03073eeb",
   "metadata": {
    "ExecuteTime": {
     "end_time": "2021-12-23T20:11:43.267477Z",
     "start_time": "2021-12-23T20:11:43.180140Z"
    }
   },
   "outputs": [],
   "source": [
    "df = merge_fa_ages(fa, syn)"
   ]
  },
  {
   "cell_type": "markdown",
   "id": "3a286e28",
   "metadata": {},
   "source": [
    "## merge enhancer and pr "
   ]
  },
  {
   "cell_type": "code",
   "execution_count": 76,
   "id": "21cb9186",
   "metadata": {
    "ExecuteTime": {
     "end_time": "2021-12-23T20:11:44.235900Z",
     "start_time": "2021-12-23T20:11:44.148337Z"
    }
   },
   "outputs": [
    {
     "data": {
      "text/html": [
       "<div>\n",
       "<style scoped>\n",
       "    .dataframe tbody tr th:only-of-type {\n",
       "        vertical-align: middle;\n",
       "    }\n",
       "\n",
       "    .dataframe tbody tr th {\n",
       "        vertical-align: top;\n",
       "    }\n",
       "\n",
       "    .dataframe thead th {\n",
       "        text-align: right;\n",
       "    }\n",
       "</style>\n",
       "<table border=\"1\" class=\"dataframe\">\n",
       "  <thead>\n",
       "    <tr style=\"text-align: right;\">\n",
       "      <th></th>\n",
       "      <th>seq</th>\n",
       "      <th>syn_id</th>\n",
       "      <th>GC</th>\n",
       "      <th>motif_len</th>\n",
       "      <th>GC_density</th>\n",
       "      <th>chr_syn</th>\n",
       "      <th>start_syn</th>\n",
       "      <th>end_syn</th>\n",
       "      <th>enh_id</th>\n",
       "      <th>chr</th>\n",
       "      <th>...</th>\n",
       "      <th>end</th>\n",
       "      <th>seg_index</th>\n",
       "      <th>core_remodeling</th>\n",
       "      <th>core</th>\n",
       "      <th>mrca</th>\n",
       "      <th>enh_len</th>\n",
       "      <th>taxon</th>\n",
       "      <th>mrca_2</th>\n",
       "      <th>taxon2</th>\n",
       "      <th>arch</th>\n",
       "    </tr>\n",
       "  </thead>\n",
       "  <tbody>\n",
       "    <tr>\n",
       "      <th>0</th>\n",
       "      <td>TGGCCTCTTCTTGGAGGTGACACATTGATAAAGCTGTTTACCCAGC...</td>\n",
       "      <td>chr10:100074404-100074582</td>\n",
       "      <td>85</td>\n",
       "      <td>178</td>\n",
       "      <td>0.477528</td>\n",
       "      <td>chr10</td>\n",
       "      <td>100074404.0</td>\n",
       "      <td>100074582.0</td>\n",
       "      <td>chr10:100074404-100074582</td>\n",
       "      <td>chr10</td>\n",
       "      <td>...</td>\n",
       "      <td>100074582.0</td>\n",
       "      <td>0.0</td>\n",
       "      <td>0.0</td>\n",
       "      <td>1.0</td>\n",
       "      <td>0.175</td>\n",
       "      <td>178.0</td>\n",
       "      <td>Eutheria</td>\n",
       "      <td>0.175</td>\n",
       "      <td>Eutheria (105)</td>\n",
       "      <td>simple</td>\n",
       "    </tr>\n",
       "    <tr>\n",
       "      <th>1</th>\n",
       "      <td>TGCTCTTCATGCATCGTAGCAGCACAGAAGGCACCAGGACCAGGAA...</td>\n",
       "      <td>chr10:100076038-100076149</td>\n",
       "      <td>59</td>\n",
       "      <td>111</td>\n",
       "      <td>0.531532</td>\n",
       "      <td>chr10</td>\n",
       "      <td>100076038.0</td>\n",
       "      <td>100076149.0</td>\n",
       "      <td>chr10:100076038-100076149</td>\n",
       "      <td>chr10</td>\n",
       "      <td>...</td>\n",
       "      <td>100076149.0</td>\n",
       "      <td>0.0</td>\n",
       "      <td>0.0</td>\n",
       "      <td>1.0</td>\n",
       "      <td>0.380</td>\n",
       "      <td>111.0</td>\n",
       "      <td>Mammalia</td>\n",
       "      <td>0.380</td>\n",
       "      <td>Mammalia (177)</td>\n",
       "      <td>simple</td>\n",
       "    </tr>\n",
       "    <tr>\n",
       "      <th>2</th>\n",
       "      <td>tgaataaatggtggctattagtgctattattAtctctgtc</td>\n",
       "      <td>chr10:100076500-100076540</td>\n",
       "      <td>13</td>\n",
       "      <td>40</td>\n",
       "      <td>0.325000</td>\n",
       "      <td>chr10</td>\n",
       "      <td>100076500.0</td>\n",
       "      <td>100076540.0</td>\n",
       "      <td>chr10:100076500-100076699</td>\n",
       "      <td>chr10</td>\n",
       "      <td>...</td>\n",
       "      <td>100076699.0</td>\n",
       "      <td>0.0</td>\n",
       "      <td>1.0</td>\n",
       "      <td>1.0</td>\n",
       "      <td>0.380</td>\n",
       "      <td>199.0</td>\n",
       "      <td>Mammalia</td>\n",
       "      <td>0.380</td>\n",
       "      <td>Mammalia (177)</td>\n",
       "      <td>complex_core</td>\n",
       "    </tr>\n",
       "    <tr>\n",
       "      <th>3</th>\n",
       "      <td>cttgggagttcacagtctggtgaggcacaggcattaaaagaaacag...</td>\n",
       "      <td>chr10:100076540-100076699</td>\n",
       "      <td>72</td>\n",
       "      <td>159</td>\n",
       "      <td>0.452830</td>\n",
       "      <td>chr10</td>\n",
       "      <td>100076540.0</td>\n",
       "      <td>100076699.0</td>\n",
       "      <td>chr10:100076500-100076699</td>\n",
       "      <td>chr10</td>\n",
       "      <td>...</td>\n",
       "      <td>100076699.0</td>\n",
       "      <td>1.0</td>\n",
       "      <td>1.0</td>\n",
       "      <td>0.0</td>\n",
       "      <td>0.175</td>\n",
       "      <td>199.0</td>\n",
       "      <td>Eutheria</td>\n",
       "      <td>0.175</td>\n",
       "      <td>Eutheria (105)</td>\n",
       "      <td>complex_derived</td>\n",
       "    </tr>\n",
       "    <tr>\n",
       "      <th>4</th>\n",
       "      <td>tgacttttcagctcctcacatgaagaattggagggctttcccccct...</td>\n",
       "      <td>chr10:100082942-100083374</td>\n",
       "      <td>226</td>\n",
       "      <td>432</td>\n",
       "      <td>0.523148</td>\n",
       "      <td>chr10</td>\n",
       "      <td>100082942.0</td>\n",
       "      <td>100083374.0</td>\n",
       "      <td>chr10:100082942-100083374</td>\n",
       "      <td>chr10</td>\n",
       "      <td>...</td>\n",
       "      <td>100083374.0</td>\n",
       "      <td>0.0</td>\n",
       "      <td>0.0</td>\n",
       "      <td>1.0</td>\n",
       "      <td>0.175</td>\n",
       "      <td>432.0</td>\n",
       "      <td>Eutheria</td>\n",
       "      <td>0.175</td>\n",
       "      <td>Eutheria (105)</td>\n",
       "      <td>simple</td>\n",
       "    </tr>\n",
       "  </tbody>\n",
       "</table>\n",
       "<p>5 rows × 21 columns</p>\n",
       "</div>"
      ],
      "text/plain": [
       "                                                 seq  \\\n",
       "0  TGGCCTCTTCTTGGAGGTGACACATTGATAAAGCTGTTTACCCAGC...   \n",
       "1  TGCTCTTCATGCATCGTAGCAGCACAGAAGGCACCAGGACCAGGAA...   \n",
       "2           tgaataaatggtggctattagtgctattattAtctctgtc   \n",
       "3  cttgggagttcacagtctggtgaggcacaggcattaaaagaaacag...   \n",
       "4  tgacttttcagctcctcacatgaagaattggagggctttcccccct...   \n",
       "\n",
       "                      syn_id   GC  motif_len  GC_density chr_syn    start_syn  \\\n",
       "0  chr10:100074404-100074582   85        178    0.477528   chr10  100074404.0   \n",
       "1  chr10:100076038-100076149   59        111    0.531532   chr10  100076038.0   \n",
       "2  chr10:100076500-100076540   13         40    0.325000   chr10  100076500.0   \n",
       "3  chr10:100076540-100076699   72        159    0.452830   chr10  100076540.0   \n",
       "4  chr10:100082942-100083374  226        432    0.523148   chr10  100082942.0   \n",
       "\n",
       "       end_syn                     enh_id    chr  ...          end  seg_index  \\\n",
       "0  100074582.0  chr10:100074404-100074582  chr10  ...  100074582.0        0.0   \n",
       "1  100076149.0  chr10:100076038-100076149  chr10  ...  100076149.0        0.0   \n",
       "2  100076540.0  chr10:100076500-100076699  chr10  ...  100076699.0        0.0   \n",
       "3  100076699.0  chr10:100076500-100076699  chr10  ...  100076699.0        1.0   \n",
       "4  100083374.0  chr10:100082942-100083374  chr10  ...  100083374.0        0.0   \n",
       "\n",
       "   core_remodeling  core   mrca  enh_len     taxon mrca_2          taxon2  \\\n",
       "0              0.0   1.0  0.175    178.0  Eutheria  0.175  Eutheria (105)   \n",
       "1              0.0   1.0  0.380    111.0  Mammalia  0.380  Mammalia (177)   \n",
       "2              1.0   1.0  0.380    199.0  Mammalia  0.380  Mammalia (177)   \n",
       "3              1.0   0.0  0.175    199.0  Eutheria  0.175  Eutheria (105)   \n",
       "4              0.0   1.0  0.175    432.0  Eutheria  0.175  Eutheria (105)   \n",
       "\n",
       "              arch  \n",
       "0           simple  \n",
       "1           simple  \n",
       "2     complex_core  \n",
       "3  complex_derived  \n",
       "4           simple  \n",
       "\n",
       "[5 rows x 21 columns]"
      ]
     },
     "execution_count": 76,
     "metadata": {},
     "output_type": "execute_result"
    }
   ],
   "source": [
    "df_merged = pd.concat([df, prfa])\n",
    "df_merged.head()"
   ]
  },
  {
   "cell_type": "code",
   "execution_count": 82,
   "id": "67929c18",
   "metadata": {
    "ExecuteTime": {
     "end_time": "2021-12-23T20:14:50.465495Z",
     "start_time": "2021-12-23T20:14:50.092040Z"
    }
   },
   "outputs": [
    {
     "name": "stderr",
     "output_type": "stream",
     "text": [
      "/home/fongsl/.local/lib/python3.6/site-packages/seaborn/_decorators.py:43: FutureWarning: Pass the following variables as keyword args: x, y. From version 0.12, the only valid positional argument will be `data`, and passing other arguments without an explicit keyword will result in an error or misinterpretation.\n",
      "  FutureWarning\n"
     ]
    },
    {
     "data": {
      "image/png": "[encoded data removed]",
      "text/plain": [
       "<Figure size 432x432 with 1 Axes>"
      ]
     },
     "metadata": {},
     "output_type": "display_data"
    }
   ],
   "source": [
    "fig, ax = plt.subplots(figsize = (6,6))\n",
    "\n",
    "hue_order = [\"simple\", \"complex_core\", \"complex_derived\", \"promoter\"]\n",
    "x = \"arch\"\n",
    "y = \"GC_density\"\n",
    "data = df_merged\n",
    "file_name = \"GC_density_all_FANTOM_arch_all_lengths\"\n",
    "outfile = make_pdf(file_name, RE)\n",
    "\n",
    "sns.set(\"poster\")\n",
    "xlabs = [\"simple\", \"core\", \"derived\", \"promoter\"]\n",
    "sns.boxplot(x, y, data = data, order = hue_order, palette = cp.yg, showfliers = False)\n",
    "ax.set(#ylim = (0.35, 0.7), \n",
    "       xticklabels = xlabs, \n",
    "       ylabel = \"GC density (per bp)\",\n",
    "      xlabel = \"\")\n",
    "plt.savefig(outfile, bbox_inches = 'tight')"
   ]
  },
  {
   "cell_type": "code",
   "execution_count": 80,
   "id": "88b0048c",
   "metadata": {
    "ExecuteTime": {
     "end_time": "2021-12-23T20:12:53.655975Z",
     "start_time": "2021-12-23T20:12:53.596637Z"
    }
   },
   "outputs": [
    {
     "data": {
      "text/html": [
       "<div>\n",
       "<style scoped>\n",
       "    .dataframe tbody tr th:only-of-type {\n",
       "        vertical-align: middle;\n",
       "    }\n",
       "\n",
       "    .dataframe tbody tr th {\n",
       "        vertical-align: top;\n",
       "    }\n",
       "\n",
       "    .dataframe thead th {\n",
       "        text-align: right;\n",
       "    }\n",
       "</style>\n",
       "<table border=\"1\" class=\"dataframe\">\n",
       "  <thead>\n",
       "    <tr style=\"text-align: right;\">\n",
       "      <th></th>\n",
       "      <th>count</th>\n",
       "      <th>mean</th>\n",
       "      <th>std</th>\n",
       "      <th>min</th>\n",
       "      <th>25%</th>\n",
       "      <th>50%</th>\n",
       "      <th>75%</th>\n",
       "      <th>max</th>\n",
       "    </tr>\n",
       "    <tr>\n",
       "      <th>arch</th>\n",
       "      <th></th>\n",
       "      <th></th>\n",
       "      <th></th>\n",
       "      <th></th>\n",
       "      <th></th>\n",
       "      <th></th>\n",
       "      <th></th>\n",
       "      <th></th>\n",
       "    </tr>\n",
       "  </thead>\n",
       "  <tbody>\n",
       "    <tr>\n",
       "      <th>complex_core</th>\n",
       "      <td>11489.0</td>\n",
       "      <td>0.478428</td>\n",
       "      <td>0.122448</td>\n",
       "      <td>0.000000</td>\n",
       "      <td>0.398649</td>\n",
       "      <td>0.470320</td>\n",
       "      <td>0.555147</td>\n",
       "      <td>1.000000</td>\n",
       "    </tr>\n",
       "    <tr>\n",
       "      <th>complex_derived</th>\n",
       "      <td>15357.0</td>\n",
       "      <td>0.481683</td>\n",
       "      <td>0.143254</td>\n",
       "      <td>0.000000</td>\n",
       "      <td>0.402174</td>\n",
       "      <td>0.487179</td>\n",
       "      <td>0.574468</td>\n",
       "      <td>1.000000</td>\n",
       "    </tr>\n",
       "    <tr>\n",
       "      <th>promoter</th>\n",
       "      <td>13781.0</td>\n",
       "      <td>0.657404</td>\n",
       "      <td>0.120400</td>\n",
       "      <td>0.196078</td>\n",
       "      <td>0.580000</td>\n",
       "      <td>0.671875</td>\n",
       "      <td>0.750000</td>\n",
       "      <td>0.948276</td>\n",
       "    </tr>\n",
       "    <tr>\n",
       "      <th>simple</th>\n",
       "      <td>20087.0</td>\n",
       "      <td>0.468811</td>\n",
       "      <td>0.106288</td>\n",
       "      <td>0.000000</td>\n",
       "      <td>0.407602</td>\n",
       "      <td>0.465116</td>\n",
       "      <td>0.532740</td>\n",
       "      <td>1.000000</td>\n",
       "    </tr>\n",
       "  </tbody>\n",
       "</table>\n",
       "</div>"
      ],
      "text/plain": [
       "                   count      mean       std       min       25%       50%  \\\n",
       "arch                                                                         \n",
       "complex_core     11489.0  0.478428  0.122448  0.000000  0.398649  0.470320   \n",
       "complex_derived  15357.0  0.481683  0.143254  0.000000  0.402174  0.487179   \n",
       "promoter         13781.0  0.657404  0.120400  0.196078  0.580000  0.671875   \n",
       "simple           20087.0  0.468811  0.106288  0.000000  0.407602  0.465116   \n",
       "\n",
       "                      75%       max  \n",
       "arch                                 \n",
       "complex_core     0.555147  1.000000  \n",
       "complex_derived  0.574468  1.000000  \n",
       "promoter         0.750000  0.948276  \n",
       "simple           0.532740  1.000000  "
      ]
     },
     "execution_count": 80,
     "metadata": {},
     "output_type": "execute_result"
    }
   ],
   "source": [
    "df_merged.groupby(\"arch\")[\"GC_density\"].describe()"
   ]
  },
  {
   "cell_type": "code",
   "execution_count": 79,
   "id": "19f9246f",
   "metadata": {
    "ExecuteTime": {
     "end_time": "2021-12-23T20:12:24.766964Z",
     "start_time": "2021-12-23T20:12:24.729335Z"
    }
   },
   "outputs": [
    {
     "data": {
      "text/plain": [
       "MannwhitneyuResult(statistic=83846613.5, pvalue=1.7227499959935264e-12)"
      ]
     },
     "execution_count": 79,
     "metadata": {},
     "output_type": "execute_result"
    }
   ],
   "source": [
    "core_gc = df_merged.loc[df_merged.arch == \"complex_core\", 'GC_density']\n",
    "der_gc = df_merged.loc[df_merged.arch == \"complex_derived\", 'GC_density']\n",
    "stats.mannwhitneyu(core_gc, der_gc)"
   ]
  },
  {
   "cell_type": "markdown",
   "id": "bdadc81e",
   "metadata": {},
   "source": [
    "# evaluate length distribution"
   ]
  },
  {
   "cell_type": "code",
   "execution_count": 70,
   "id": "48a8ccbf",
   "metadata": {
    "ExecuteTime": {
     "end_time": "2021-12-23T20:09:50.579443Z",
     "start_time": "2021-12-23T20:09:49.982481Z"
    }
   },
   "outputs": [
    {
     "data": {
      "text/plain": [
       "<matplotlib.legend.Legend at 0x2aeaf9566518>"
      ]
     },
     "execution_count": 70,
     "metadata": {},
     "output_type": "execute_result"
    },
    {
     "data": {
      "image/png": "[encoded data removed]",
      "text/plain": [
       "<Figure size 432x288 with 1 Axes>"
      ]
     },
     "metadata": {},
     "output_type": "display_data"
    }
   ],
   "source": [
    "fig, ax =plt.subplots()\n",
    "sns.kdeplot(prfa.motif_len, label = \"promoter\")\n",
    "\n",
    "\n",
    "sns.kdeplot(fa.motif_len, label = \"enhancer\")\n",
    "ax.legend()"
   ]
  },
  {
   "cell_type": "code",
   "execution_count": 31,
   "id": "45229180",
   "metadata": {
    "ExecuteTime": {
     "end_time": "2021-12-23T19:53:09.713681Z",
     "start_time": "2021-12-23T19:53:09.672449Z"
    }
   },
   "outputs": [],
   "source": [
    "#%% select only the records that match lengths\n",
    "\n",
    "enh_to_match = prep_match_len_df(df, \"enh_id\", \"enh_len\")\n",
    "\n",
    "\n",
    "pr_to_match = prep_match_len_df(prfa, \"syn_id\", \"motif_len\")"
   ]
  },
  {
   "cell_type": "code",
   "execution_count": 60,
   "id": "17975982",
   "metadata": {
    "ExecuteTime": {
     "end_time": "2021-12-23T20:06:55.319491Z",
     "start_time": "2021-12-23T20:06:55.301470Z"
    }
   },
   "outputs": [
    {
     "data": {
      "text/html": [
       "<div>\n",
       "<style scoped>\n",
       "    .dataframe tbody tr th:only-of-type {\n",
       "        vertical-align: middle;\n",
       "    }\n",
       "\n",
       "    .dataframe tbody tr th {\n",
       "        vertical-align: top;\n",
       "    }\n",
       "\n",
       "    .dataframe thead th {\n",
       "        text-align: right;\n",
       "    }\n",
       "</style>\n",
       "<table border=\"1\" class=\"dataframe\">\n",
       "  <thead>\n",
       "    <tr style=\"text-align: right;\">\n",
       "      <th></th>\n",
       "      <th>seq</th>\n",
       "      <th>syn_id</th>\n",
       "      <th>GC</th>\n",
       "      <th>motif_len</th>\n",
       "      <th>GC_density</th>\n",
       "    </tr>\n",
       "  </thead>\n",
       "  <tbody>\n",
       "    <tr>\n",
       "      <th>1</th>\n",
       "      <td>TGGCCTCTTCTTGGAGGTGACACATTGATAAAGCTGTTTACCCAGC...</td>\n",
       "      <td>chr10:100074404-100074582</td>\n",
       "      <td>85</td>\n",
       "      <td>178</td>\n",
       "      <td>0.477528</td>\n",
       "    </tr>\n",
       "    <tr>\n",
       "      <th>3</th>\n",
       "      <td>TGCTCTTCATGCATCGTAGCAGCACAGAAGGCACCAGGACCAGGAA...</td>\n",
       "      <td>chr10:100076038-100076149</td>\n",
       "      <td>59</td>\n",
       "      <td>111</td>\n",
       "      <td>0.531532</td>\n",
       "    </tr>\n",
       "    <tr>\n",
       "      <th>5</th>\n",
       "      <td>tgaataaatggtggctattagtgctattattAtctctgtc</td>\n",
       "      <td>chr10:100076500-100076540</td>\n",
       "      <td>13</td>\n",
       "      <td>40</td>\n",
       "      <td>0.325000</td>\n",
       "    </tr>\n",
       "    <tr>\n",
       "      <th>7</th>\n",
       "      <td>cttgggagttcacagtctggtgaggcacaggcattaaaagaaacag...</td>\n",
       "      <td>chr10:100076540-100076699</td>\n",
       "      <td>72</td>\n",
       "      <td>159</td>\n",
       "      <td>0.452830</td>\n",
       "    </tr>\n",
       "    <tr>\n",
       "      <th>9</th>\n",
       "      <td>tgacttttcagctcctcacatgaagaattggagggctttcccccct...</td>\n",
       "      <td>chr10:100082942-100083374</td>\n",
       "      <td>226</td>\n",
       "      <td>432</td>\n",
       "      <td>0.523148</td>\n",
       "    </tr>\n",
       "  </tbody>\n",
       "</table>\n",
       "</div>"
      ],
      "text/plain": [
       "                                                 seq  \\\n",
       "1  TGGCCTCTTCTTGGAGGTGACACATTGATAAAGCTGTTTACCCAGC...   \n",
       "3  TGCTCTTCATGCATCGTAGCAGCACAGAAGGCACCAGGACCAGGAA...   \n",
       "5           tgaataaatggtggctattagtgctattattAtctctgtc   \n",
       "7  cttgggagttcacagtctggtgaggcacaggcattaaaagaaacag...   \n",
       "9  tgacttttcagctcctcacatgaagaattggagggctttcccccct...   \n",
       "\n",
       "                      syn_id   GC  motif_len  GC_density  \n",
       "1  chr10:100074404-100074582   85        178    0.477528  \n",
       "3  chr10:100076038-100076149   59        111    0.531532  \n",
       "5  chr10:100076500-100076540   13         40    0.325000  \n",
       "7  chr10:100076540-100076699   72        159    0.452830  \n",
       "9  chr10:100082942-100083374  226        432    0.523148  "
      ]
     },
     "execution_count": 60,
     "metadata": {},
     "output_type": "execute_result"
    }
   ],
   "source": [
    "fa.head()"
   ]
  },
  {
   "cell_type": "markdown",
   "id": "ae10fc71",
   "metadata": {
    "ExecuteTime": {
     "end_time": "2021-12-23T19:51:28.287757Z",
     "start_time": "2021-12-23T19:51:24.205418Z"
    }
   },
   "source": [
    "# match promoter lengths to enhancer lengths"
   ]
  },
  {
   "cell_type": "code",
   "execution_count": 32,
   "id": "100bd7a1",
   "metadata": {
    "ExecuteTime": {
     "end_time": "2021-12-23T19:53:13.382339Z",
     "start_time": "2021-12-23T19:53:13.002357Z"
    }
   },
   "outputs": [
    {
     "data": {
      "text/plain": [
       "4110"
      ]
     },
     "execution_count": 32,
     "metadata": {},
     "output_type": "execute_result"
    }
   ],
   "source": [
    "base_len = 10\n",
    "balanced_ids_per_bin = 1\n",
    "matching_len_ids = match_len(enh_to_match, pr_to_match, base_len, balanced_ids_per_bin)\n",
    "\n",
    "len(matching_len_ids) #29780 matching IDs"
   ]
  },
  {
   "cell_type": "code",
   "execution_count": 33,
   "id": "8c796cc0",
   "metadata": {
    "ExecuteTime": {
     "end_time": "2021-12-23T19:53:14.391051Z",
     "start_time": "2021-12-23T19:53:14.125900Z"
    }
   },
   "outputs": [
    {
     "data": {
      "text/plain": [
       "<matplotlib.legend.Legend at 0x2aeadbb11f28>"
      ]
     },
     "execution_count": 33,
     "metadata": {},
     "output_type": "execute_result"
    },
    {
     "data": {
      "image/png": "[encoded data removed]",
      "text/plain": [
       "<Figure size 432x288 with 1 Axes>"
      ]
     },
     "metadata": {},
     "output_type": "display_data"
    }
   ],
   "source": [
    "#%% plot matching lengths\n",
    "\n",
    "match_prfa = prfa.loc[prfa[\"syn_id\"].isin(matching_len_ids)]\n",
    "\n",
    "match_enh = df.loc[df[\"enh_id\"].isin(matching_len_ids)]\n",
    "\n",
    "fig, ax =plt.subplots()\n",
    "sns.kdeplot(match_prfa[\"motif_len\"], label = \"promoter\")\n",
    "sns.kdeplot(match_enh[\"enh_len\"], label = \"enhancer\")\n",
    "ax.legend()"
   ]
  },
  {
   "cell_type": "code",
   "execution_count": 58,
   "id": "6c31b9b6",
   "metadata": {
    "ExecuteTime": {
     "end_time": "2021-12-23T20:04:25.210642Z",
     "start_time": "2021-12-23T20:04:25.201590Z"
    }
   },
   "outputs": [
    {
     "data": {
      "text/plain": [
       "2055"
      ]
     },
     "execution_count": 58,
     "metadata": {},
     "output_type": "execute_result"
    }
   ],
   "source": [
    "len(match_enh.enh_id.unique())"
   ]
  },
  {
   "cell_type": "markdown",
   "id": "e64883a2",
   "metadata": {
    "ExecuteTime": {
     "end_time": "2021-12-23T19:51:28.287757Z",
     "start_time": "2021-12-23T19:51:24.205418Z"
    }
   },
   "source": [
    "## concat length matched elements "
   ]
  },
  {
   "cell_type": "code",
   "execution_count": 34,
   "id": "9c206be9",
   "metadata": {
    "ExecuteTime": {
     "end_time": "2021-12-23T19:53:19.640742Z",
     "start_time": "2021-12-23T19:53:19.538452Z"
    }
   },
   "outputs": [
    {
     "data": {
      "text/html": [
       "<div>\n",
       "<style scoped>\n",
       "    .dataframe tbody tr th:only-of-type {\n",
       "        vertical-align: middle;\n",
       "    }\n",
       "\n",
       "    .dataframe tbody tr th {\n",
       "        vertical-align: top;\n",
       "    }\n",
       "\n",
       "    .dataframe thead th {\n",
       "        text-align: right;\n",
       "    }\n",
       "</style>\n",
       "<table border=\"1\" class=\"dataframe\">\n",
       "  <thead>\n",
       "    <tr style=\"text-align: right;\">\n",
       "      <th></th>\n",
       "      <th>GC</th>\n",
       "      <th>motif_len</th>\n",
       "      <th>GC_density</th>\n",
       "      <th>start_syn</th>\n",
       "      <th>end_syn</th>\n",
       "      <th>start</th>\n",
       "      <th>end</th>\n",
       "      <th>seg_index</th>\n",
       "      <th>core_remodeling</th>\n",
       "      <th>core</th>\n",
       "      <th>mrca</th>\n",
       "      <th>enh_len</th>\n",
       "      <th>mrca_2</th>\n",
       "    </tr>\n",
       "  </thead>\n",
       "  <tbody>\n",
       "    <tr>\n",
       "      <th>count</th>\n",
       "      <td>4443.000000</td>\n",
       "      <td>4443.000000</td>\n",
       "      <td>4443.000000</td>\n",
       "      <td>2.388000e+03</td>\n",
       "      <td>2.388000e+03</td>\n",
       "      <td>2.388000e+03</td>\n",
       "      <td>2.388000e+03</td>\n",
       "      <td>2388.000000</td>\n",
       "      <td>2388.000000</td>\n",
       "      <td>2388.000000</td>\n",
       "      <td>2388.000000</td>\n",
       "      <td>2388.00000</td>\n",
       "      <td>2388.000000</td>\n",
       "    </tr>\n",
       "    <tr>\n",
       "      <th>mean</th>\n",
       "      <td>52.342786</td>\n",
       "      <td>90.811389</td>\n",
       "      <td>0.564147</td>\n",
       "      <td>7.696859e+07</td>\n",
       "      <td>7.696868e+07</td>\n",
       "      <td>7.696859e+07</td>\n",
       "      <td>7.696869e+07</td>\n",
       "      <td>0.167923</td>\n",
       "      <td>0.264657</td>\n",
       "      <td>0.867253</td>\n",
       "      <td>0.235429</td>\n",
       "      <td>99.11474</td>\n",
       "      <td>0.241831</td>\n",
       "    </tr>\n",
       "    <tr>\n",
       "      <th>std</th>\n",
       "      <td>25.450568</td>\n",
       "      <td>34.375099</td>\n",
       "      <td>0.163217</td>\n",
       "      <td>5.852788e+07</td>\n",
       "      <td>5.852789e+07</td>\n",
       "      <td>5.852789e+07</td>\n",
       "      <td>5.852789e+07</td>\n",
       "      <td>0.425252</td>\n",
       "      <td>0.441243</td>\n",
       "      <td>0.339372</td>\n",
       "      <td>0.182662</td>\n",
       "      <td>29.94436</td>\n",
       "      <td>0.177038</td>\n",
       "    </tr>\n",
       "    <tr>\n",
       "      <th>min</th>\n",
       "      <td>0.000000</td>\n",
       "      <td>6.000000</td>\n",
       "      <td>0.000000</td>\n",
       "      <td>1.130760e+05</td>\n",
       "      <td>1.131910e+05</td>\n",
       "      <td>1.130760e+05</td>\n",
       "      <td>1.131910e+05</td>\n",
       "      <td>0.000000</td>\n",
       "      <td>0.000000</td>\n",
       "      <td>0.000000</td>\n",
       "      <td>0.000000</td>\n",
       "      <td>46.00000</td>\n",
       "      <td>0.000000</td>\n",
       "    </tr>\n",
       "    <tr>\n",
       "      <th>25%</th>\n",
       "      <td>34.000000</td>\n",
       "      <td>67.000000</td>\n",
       "      <td>0.452468</td>\n",
       "      <td>3.252289e+07</td>\n",
       "      <td>3.252299e+07</td>\n",
       "      <td>3.252289e+07</td>\n",
       "      <td>3.252299e+07</td>\n",
       "      <td>0.000000</td>\n",
       "      <td>0.000000</td>\n",
       "      <td>1.000000</td>\n",
       "      <td>0.175000</td>\n",
       "      <td>78.00000</td>\n",
       "      <td>0.175000</td>\n",
       "    </tr>\n",
       "    <tr>\n",
       "      <th>50%</th>\n",
       "      <td>51.000000</td>\n",
       "      <td>94.000000</td>\n",
       "      <td>0.567010</td>\n",
       "      <td>6.338589e+07</td>\n",
       "      <td>6.338594e+07</td>\n",
       "      <td>6.338587e+07</td>\n",
       "      <td>6.338596e+07</td>\n",
       "      <td>0.000000</td>\n",
       "      <td>0.000000</td>\n",
       "      <td>1.000000</td>\n",
       "      <td>0.175000</td>\n",
       "      <td>99.00000</td>\n",
       "      <td>0.175000</td>\n",
       "    </tr>\n",
       "    <tr>\n",
       "      <th>75%</th>\n",
       "      <td>69.000000</td>\n",
       "      <td>112.000000</td>\n",
       "      <td>0.692308</td>\n",
       "      <td>1.148210e+08</td>\n",
       "      <td>1.148211e+08</td>\n",
       "      <td>1.148210e+08</td>\n",
       "      <td>1.148211e+08</td>\n",
       "      <td>0.000000</td>\n",
       "      <td>1.000000</td>\n",
       "      <td>1.000000</td>\n",
       "      <td>0.308000</td>\n",
       "      <td>115.00000</td>\n",
       "      <td>0.308000</td>\n",
       "    </tr>\n",
       "    <tr>\n",
       "      <th>max</th>\n",
       "      <td>183.000000</td>\n",
       "      <td>271.000000</td>\n",
       "      <td>0.935484</td>\n",
       "      <td>2.475114e+08</td>\n",
       "      <td>2.475114e+08</td>\n",
       "      <td>2.475114e+08</td>\n",
       "      <td>2.475114e+08</td>\n",
       "      <td>3.000000</td>\n",
       "      <td>1.000000</td>\n",
       "      <td>1.000000</td>\n",
       "      <td>0.957000</td>\n",
       "      <td>271.00000</td>\n",
       "      <td>0.957000</td>\n",
       "    </tr>\n",
       "  </tbody>\n",
       "</table>\n",
       "</div>"
      ],
      "text/plain": [
       "                GC    motif_len   GC_density     start_syn       end_syn  \\\n",
       "count  4443.000000  4443.000000  4443.000000  2.388000e+03  2.388000e+03   \n",
       "mean     52.342786    90.811389     0.564147  7.696859e+07  7.696868e+07   \n",
       "std      25.450568    34.375099     0.163217  5.852788e+07  5.852789e+07   \n",
       "min       0.000000     6.000000     0.000000  1.130760e+05  1.131910e+05   \n",
       "25%      34.000000    67.000000     0.452468  3.252289e+07  3.252299e+07   \n",
       "50%      51.000000    94.000000     0.567010  6.338589e+07  6.338594e+07   \n",
       "75%      69.000000   112.000000     0.692308  1.148210e+08  1.148211e+08   \n",
       "max     183.000000   271.000000     0.935484  2.475114e+08  2.475114e+08   \n",
       "\n",
       "              start           end    seg_index  core_remodeling         core  \\\n",
       "count  2.388000e+03  2.388000e+03  2388.000000      2388.000000  2388.000000   \n",
       "mean   7.696859e+07  7.696869e+07     0.167923         0.264657     0.867253   \n",
       "std    5.852789e+07  5.852789e+07     0.425252         0.441243     0.339372   \n",
       "min    1.130760e+05  1.131910e+05     0.000000         0.000000     0.000000   \n",
       "25%    3.252289e+07  3.252299e+07     0.000000         0.000000     1.000000   \n",
       "50%    6.338587e+07  6.338596e+07     0.000000         0.000000     1.000000   \n",
       "75%    1.148210e+08  1.148211e+08     0.000000         1.000000     1.000000   \n",
       "max    2.475114e+08  2.475114e+08     3.000000         1.000000     1.000000   \n",
       "\n",
       "              mrca     enh_len       mrca_2  \n",
       "count  2388.000000  2388.00000  2388.000000  \n",
       "mean      0.235429    99.11474     0.241831  \n",
       "std       0.182662    29.94436     0.177038  \n",
       "min       0.000000    46.00000     0.000000  \n",
       "25%       0.175000    78.00000     0.175000  \n",
       "50%       0.175000    99.00000     0.175000  \n",
       "75%       0.308000   115.00000     0.308000  \n",
       "max       0.957000   271.00000     0.957000  "
      ]
     },
     "execution_count": 34,
     "metadata": {},
     "output_type": "execute_result"
    }
   ],
   "source": [
    "all_matched = pd.concat([match_enh, match_prfa])\n",
    "\n",
    "all_matched.describe()"
   ]
  },
  {
   "cell_type": "markdown",
   "id": "983f6e7d",
   "metadata": {
    "ExecuteTime": {
     "end_time": "2021-12-23T19:53:02.433304Z",
     "start_time": "2021-12-23T19:53:02.427898Z"
    }
   },
   "source": [
    "## plot summary of GC content"
   ]
  },
  {
   "cell_type": "code",
   "execution_count": 54,
   "id": "1aa9a087",
   "metadata": {
    "ExecuteTime": {
     "end_time": "2021-12-23T19:59:57.784171Z",
     "start_time": "2021-12-23T19:59:57.289110Z"
    }
   },
   "outputs": [
    {
     "name": "stderr",
     "output_type": "stream",
     "text": [
      "/home/fongsl/.local/lib/python3.6/site-packages/seaborn/_decorators.py:43: FutureWarning: Pass the following variables as keyword args: x, y. From version 0.12, the only valid positional argument will be `data`, and passing other arguments without an explicit keyword will result in an error or misinterpretation.\n",
      "  FutureWarning\n"
     ]
    },
    {
     "data": {
      "image/png": "[encoded data removed]",
      "text/plain": [
       "<Figure size 432x432 with 1 Axes>"
      ]
     },
     "metadata": {},
     "output_type": "display_data"
    }
   ],
   "source": [
    "fig, ax = plt.subplots(figsize = (6,6))\n",
    "\n",
    "hue_order = [\"simple\", \"complex_core\", \"complex_derived\", \"promoter\"]\n",
    "x = \"arch\"\n",
    "y = \"GC_density\"\n",
    "data = all_matched\n",
    "file_name = \"GC_density_all_FANTOM_arch\"\n",
    "outfile = make_pdf(file_name, RE)\n",
    "\n",
    "sns.set(\"poster\")\n",
    "xlabs = [\"simple\", \"core\", \"derived\", \"promoter\"]\n",
    "sns.barplot(x, y, data = data, order = hue_order, palette = cp.yg)\n",
    "ax.set(ylim = (0.35, 0.7), \n",
    "       xticklabels = xlabs, \n",
    "       ylabel = \"GC density (per bp)\",\n",
    "      xlabel = \"\")\n",
    "plt.savefig(outfile, bbox_inches = 'tight')"
   ]
  },
  {
   "cell_type": "code",
   "execution_count": 56,
   "id": "0d52fd23",
   "metadata": {
    "ExecuteTime": {
     "end_time": "2021-12-23T20:01:11.263674Z",
     "start_time": "2021-12-23T20:01:11.248053Z"
    }
   },
   "outputs": [
    {
     "data": {
      "text/plain": [
       "MannwhitneyuResult(statistic=46781.5, pvalue=0.08525245332252229)"
      ]
     },
     "execution_count": 56,
     "metadata": {},
     "output_type": "execute_result"
    }
   ],
   "source": [
    "core_gc = all_matched.loc[all_matched.arch == \"complex_core\", 'GC_density']\n",
    "der_gc = all_matched.loc[all_matched.arch == \"complex_derived\", 'GC_density']\n",
    "stats.mannwhitneyu(core_gc, der_gc)"
   ]
  },
  {
   "cell_type": "code",
   "execution_count": 49,
   "id": "111663b4",
   "metadata": {
    "ExecuteTime": {
     "end_time": "2021-12-23T19:58:37.807153Z",
     "start_time": "2021-12-23T19:58:37.739146Z"
    }
   },
   "outputs": [
    {
     "name": "stdout",
     "output_type": "stream",
     "text": [
      "core v. derived 83846613.5 1.7227499959935264e-12\n",
      "complex core v simple 112300502.5 3.6811149310893494e-05\n",
      "arch\n",
      "complex_core       0.478428\n",
      "complex_derived    0.481683\n",
      "simple             0.468811\n",
      "Name: GC_density, dtype: float64 mean\n",
      "core v. derived 46781.5 0.08525245332252229\n",
      "complex core v simple 259811.5 0.043194922397324025\n",
      "arch\n",
      "complex_core       0.470420\n",
      "complex_derived    0.431429\n",
      "simple             0.481529\n",
      "Name: GC_density, dtype: float64 mean\n"
     ]
    }
   ],
   "source": [
    "#%% all enhancers\n",
    "\n",
    "compare_gc_arch(df)\n",
    "\n",
    "compare_gc_arch(match_enh)\n",
    "\n",
    "#%%"
   ]
  },
  {
   "cell_type": "code",
   "execution_count": 51,
   "id": "3dcdb5a3",
   "metadata": {
    "ExecuteTime": {
     "end_time": "2021-12-23T19:59:06.684635Z",
     "start_time": "2021-12-23T19:59:05.032184Z"
    }
   },
   "outputs": [
    {
     "data": {
      "image/png": "[encoded data removed]",
      "text/plain": [
       "<Figure size 1080x720 with 1 Axes>"
      ]
     },
     "metadata": {},
     "output_type": "display_data"
    }
   ],
   "source": [
    "fig, ax = plt.subplots(figsize = (15,10))\n",
    "\n",
    "x = \"mrca_2\"\n",
    "y = \"GC_density\"\n",
    "data = all_matched\n",
    "hue = \"arch\"\n",
    "hue_order = [\"simple\", \"complex_core\", \"complex_derived\"]\n",
    "file_name = \"GC_density_all_FANTOM_arch_mrca\"\n",
    "outfile = make_pdf(file_name, RE)\n",
    "\n",
    "xlab = [\"homo\", \"prim\", \"euar\", \"bore\", \"euth\", \"ther\", \"mam\", \"amni\", \"tetr\", \"vert\" ]\n",
    "sns.barplot(x, y, data = data, hue = hue, hue_order = hue_order, palette = cp.yg)\n",
    "ax.set(ylim = (0.2, 0.8), \n",
    "      xlabel = \"sequence age\", \n",
    "      ylabel = \"GC density (per bp)\", \n",
    "      xticklabels = xlab)\n",
    "plt.savefig(outfile, bbox_inches = 'tight')"
   ]
  },
  {
   "cell_type": "code",
   "execution_count": 47,
   "id": "ed97b574",
   "metadata": {
    "ExecuteTime": {
     "end_time": "2021-12-23T19:57:40.882653Z",
     "start_time": "2021-12-23T19:57:39.745510Z"
    }
   },
   "outputs": [
    {
     "name": "stderr",
     "output_type": "stream",
     "text": [
      "/home/fongsl/.local/lib/python3.6/site-packages/seaborn/_decorators.py:43: FutureWarning: Pass the following variables as keyword args: x, y. From version 0.12, the only valid positional argument will be `data`, and passing other arguments without an explicit keyword will result in an error or misinterpretation.\n",
      "  FutureWarning\n"
     ]
    },
    {
     "data": {
      "text/html": [
       "<div>\n",
       "<style scoped>\n",
       "    .dataframe tbody tr th:only-of-type {\n",
       "        vertical-align: middle;\n",
       "    }\n",
       "\n",
       "    .dataframe tbody tr th {\n",
       "        vertical-align: top;\n",
       "    }\n",
       "\n",
       "    .dataframe thead th {\n",
       "        text-align: right;\n",
       "    }\n",
       "</style>\n",
       "<table border=\"1\" class=\"dataframe\">\n",
       "  <thead>\n",
       "    <tr style=\"text-align: right;\">\n",
       "      <th></th>\n",
       "      <th>GC</th>\n",
       "      <th>motif_len</th>\n",
       "      <th>GC_density</th>\n",
       "    </tr>\n",
       "  </thead>\n",
       "  <tbody>\n",
       "    <tr>\n",
       "      <th>count</th>\n",
       "      <td>14213.000000</td>\n",
       "      <td>14213.000000</td>\n",
       "      <td>14213.000000</td>\n",
       "    </tr>\n",
       "    <tr>\n",
       "      <th>mean</th>\n",
       "      <td>46.461057</td>\n",
       "      <td>70.368184</td>\n",
       "      <td>0.656548</td>\n",
       "    </tr>\n",
       "    <tr>\n",
       "      <th>std</th>\n",
       "      <td>16.490118</td>\n",
       "      <td>19.839211</td>\n",
       "      <td>0.120184</td>\n",
       "    </tr>\n",
       "    <tr>\n",
       "      <th>min</th>\n",
       "      <td>10.000000</td>\n",
       "      <td>50.000000</td>\n",
       "      <td>0.196078</td>\n",
       "    </tr>\n",
       "    <tr>\n",
       "      <th>25%</th>\n",
       "      <td>35.000000</td>\n",
       "      <td>56.000000</td>\n",
       "      <td>0.578947</td>\n",
       "    </tr>\n",
       "    <tr>\n",
       "      <th>50%</th>\n",
       "      <td>43.000000</td>\n",
       "      <td>65.000000</td>\n",
       "      <td>0.671053</td>\n",
       "    </tr>\n",
       "    <tr>\n",
       "      <th>75%</th>\n",
       "      <td>54.000000</td>\n",
       "      <td>79.000000</td>\n",
       "      <td>0.747126</td>\n",
       "    </tr>\n",
       "    <tr>\n",
       "      <th>max</th>\n",
       "      <td>183.000000</td>\n",
       "      <td>266.000000</td>\n",
       "      <td>0.948276</td>\n",
       "    </tr>\n",
       "  </tbody>\n",
       "</table>\n",
       "</div>"
      ],
      "text/plain": [
       "                 GC     motif_len    GC_density\n",
       "count  14213.000000  14213.000000  14213.000000\n",
       "mean      46.461057     70.368184      0.656548\n",
       "std       16.490118     19.839211      0.120184\n",
       "min       10.000000     50.000000      0.196078\n",
       "25%       35.000000     56.000000      0.578947\n",
       "50%       43.000000     65.000000      0.671053\n",
       "75%       54.000000     79.000000      0.747126\n",
       "max      183.000000    266.000000      0.948276"
      ]
     },
     "execution_count": 47,
     "metadata": {},
     "output_type": "execute_result"
    },
    {
     "data": {
      "image/png": "[encoded data removed]",
      "text/plain": [
       "<Figure size 720x720 with 1 Axes>"
      ]
     },
     "metadata": {},
     "output_type": "display_data"
    }
   ],
   "source": [
    "#%%\n",
    "\n",
    "count_agearch = all_matched.groupby([\"arch\", \"mrca_2\"])[\"syn_id\"].count().reset_index()\n",
    "\n",
    "fig, ax = plt.subplots(figsize = (10,10))\n",
    "x = \"mrca_2\"\n",
    "y = \"syn_id\"\n",
    "hue = \"arch\"\n",
    "data = count_agearch\n",
    "file_name = \"count_all_FANTOM_arch\"\n",
    "outfile = make_pdf(file_name, RE)\n",
    "\n",
    "sns.barplot(x, y, data = count_agearch, hue = hue, hue_order = hue_order, palette = cp.yg)\n",
    "plt.savefig(outfile, bbox_inches = 'tight')\n",
    "#%%\n",
    "\n",
    "prfa.describe()"
   ]
  },
  {
   "cell_type": "code",
   "execution_count": null,
   "id": "e35a12bc",
   "metadata": {},
   "outputs": [],
   "source": []
  }
 ],
 "metadata": {
  "kernelspec": {
   "display_name": "Python (sfenv)",
   "language": "python",
   "name": "sfenv"
  },
  "language_info": {
   "codemirror_mode": {
    "name": "ipython",
    "version": 3
   },
   "file_extension": ".py",
   "mimetype": "text/x-python",
   "name": "python",
   "nbconvert_exporter": "python",
   "pygments_lexer": "ipython3",
   "version": "3.6.6"
  },
  "toc": {
   "base_numbering": 1,
   "nav_menu": {},
   "number_sections": true,
   "sideBar": true,
   "skip_h1_title": false,
   "title_cell": "Table of Contents",
   "title_sidebar": "Contents",
   "toc_cell": false,
   "toc_position": {},
   "toc_section_display": true,
   "toc_window_display": false
  }
 },
 "nbformat": 4,
 "nbformat_minor": 5
}
