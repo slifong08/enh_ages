{
 "cells": [
  {
   "cell_type": "code",
   "execution_count": 2,
   "id": "f922b95f",
   "metadata": {
    "ExecuteTime": {
     "end_time": "2022-04-07T21:58:04.326124Z",
     "start_time": "2022-04-07T21:58:03.613239Z"
    }
   },
   "outputs": [],
   "source": [
    "import argparse\n",
    "import configparser\n",
    "from datetime import datetime\n",
    "import glob\n",
    "\n",
    "import itertools\n",
    "from joblib import Parallel, delayed\n",
    "import matplotlib.pyplot as plt\n",
    "import multiprocessing as mp\n",
    "import numpy as np\n",
    "import os\n",
    "import pandas as pd\n",
    "import subprocess\n",
    "import sys\n",
    "\n",
    "sys.path.append(\"/dors/capra_lab/users/fongsl/tools/py_/\")\n",
    "import config_readwrite as crw\n",
    "import chr_functions"
   ]
  },
  {
   "cell_type": "code",
   "execution_count": null,
   "id": "d6ea9b68",
   "metadata": {},
   "outputs": [],
   "source": [
    "arg_parser = argparse.ArgumentParser(description=\"Calculate sequence identity\")\n",
    "\n",
    "arg_parser.add_argument(\"chr\", help='chromosome to run')\n",
    "arg_parser.add_argument(\"input\", help='input bed')\n",
    "\n",
    "args = arg_parser.parse_args()\n",
    "\n",
    "# CONSTANTS\n",
    "\n",
    "CHR = args.chr\n",
    "INPUT = args.input\n",
    "\n",
    "INPUT_NAME = (INPUT.split(\"/\")[-1]).split(\"_\")[5]"
   ]
  },
  {
   "cell_type": "code",
   "execution_count": null,
   "id": "bc4770d6",
   "metadata": {},
   "outputs": [],
   "source": [
    "#CHR = \"chr22\"\n",
    "#INPUT = \"/dors/capra_lab/projects/enhancer_ages/fantom/data/non-genic/shuffle_syn_breaks/no-exon_shuf-all_fantom_enh_112_tissues-58_age_breaks.bed\"\n",
    "# handle naming dir strategy for inputs\n",
    "if \"shuf\" in INPUT:\n",
    "    print(\"shuf\")\n",
    "    INPUT_NAME = (INPUT.split(\"/\")[-1]).split(\"_\")[5]\n",
    "\n",
    "else:\n",
    "    print(\"target\")\n",
    "    INPUT_NAME = (INPUT.split(\"/\")[-1]).split(\".bed\")[0]"
   ]
  },
  {
   "cell_type": "code",
   "execution_count": null,
   "id": "5e020dec",
   "metadata": {},
   "outputs": [],
   "source": [
    "# load the sequence identity config\n",
    "NAME = os.path.join(os.getcwd(),\"config_seqarch\")\n",
    "config, configfile_name = crw.read_config(NAME)  # config is an object, configfile_name is a string"
   ]
  },
  {
   "cell_type": "code",
   "execution_count": null,
   "id": "69008ba8",
   "metadata": {},
   "outputs": [],
   "source": [
    "#INPUT = config[\"INPUTS\"][\"BEDFILE\"]\n",
    "DISTANCES = config[\"INPUTS\"][\"species_46way_hg19_distances\"]\n",
    "\n",
    "DATA_PATH = config[\"SEQ_ID\"][\"PATH\"]+\"/\"+ INPUT_NAME # make a path for each input\n",
    "DATA_PATHS = config[\"MKPATHS\"][\"LIST\"]\n",
    "\n",
    "CHR_PATH = config[\"CHR\"][\"PATH\"] + INPUT_NAME # make a path for each input\n",
    "\n",
    "DATA_PATHS = DATA_PATHS + \",\" + CHR_PATH + \",\" + DATA_PATH # add new input path\n",
    "\n",
    "MAF_PATH = config[\"DORS_PATH\"][\"MSA_46WAY_hg19\"]\n",
    "MSA_SPLIT_BIN = config[\"SEQ_ID\"][\"MSA_SPLIT_BIN\"]"
   ]
  },
  {
   "cell_type": "code",
   "execution_count": null,
   "id": "9a9dabce",
   "metadata": {
    "code_folding": []
   },
   "outputs": [],
   "source": [
    "def make_paths(data_paths):\n",
    "    for i, path in enumerate(data_paths.split(\",\")):\n",
    " \n",
    "        if os.path.exists(path) is False:\n",
    "\n",
    "            os.mkdir(path)\n",
    "            print(\"made\", i, path)\n",
    "\n",
    "def split_chr(tiling, chr_path):\n",
    "    chr_functions.split_into_chr_bed(tiling, chr_path)\n",
    "\n",
    "def msa_split_x_bed(chr_, path, msa_split_bin, maf_path, chr_raw_path):\n",
    "    \n",
    "    \"\"\"\n",
    "    1. write chr info to a sequence identity file. \n",
    "    2. prepare input chrN.bed with full path\n",
    "    3. change dir to write dir\n",
    "    4. prepare input chrN.maf\n",
    "    5. check if chrN.maf is zipped. (5A) if zipped, unzip before proceeding. \n",
    "    6. write feature arg string. This will split the maf file based on .bed coordintes!\n",
    "    7. arg for writing to dir\n",
    "    8. write MSA split command string\n",
    "    9. check whether the chrN.bed file (n_lines) has already been split into n_lines*.fa files\n",
    "    10.run MSA split command if not already split into n_lines*.fa files\n",
    "    11. return list of split .fa files for chrN.bed\n",
    "    \n",
    "    \"\"\"\n",
    "    print(chr_)\n",
    "    \n",
    "    #1\n",
    "    outf = os.path.join(path, f\"{chr_}_seq_identity.tsv\")  # chr-seq identity file to write to\n",
    "    \n",
    "    #2\n",
    "    chrF = f\"{chr_}.bed\"  # regions to do msasplit on. \n",
    "    chr_bed = os.path.join(chr_raw_path, chrF)  # with full path. \n",
    "    \n",
    "    #3\n",
    "    os.chdir(path)\n",
    "    \n",
    "    #4\n",
    "    maf_arg = os.path.join(maf_path, f\"{chr_}.maf\")\n",
    "    \n",
    "    #5\n",
    "    zipped = maf_arg + \".gz\"\n",
    "    if os.path.exists(zipped) is True:\n",
    "        cmd = f\"gunzip {zipped}\"\n",
    "        print(\"\\ngunzip\\n\", cmd, \"\\n\")\n",
    "        subprocess.call(cmd, shell = True)\n",
    "    \n",
    "    #6\n",
    "    feat_arg = f\"--features {chr_bed} --for-features\"  # --for-features will split on each row of bed file. \n",
    "    \n",
    "    #7\n",
    "    out_root_arg = f\"--out-root {chr_}\"\n",
    "    \n",
    "    #8\n",
    "    cmd = f\"{msa_split_bin} {maf_arg} --in-format MAF {feat_arg} {out_root_arg}\"\n",
    "    \n",
    "    #9\n",
    "    already_split = len(glob.glob(f\"{chr_}*.fa\"))\n",
    "    n_lines = sum(1 for line in open(chr_bed))\n",
    "    \n",
    "    #10\n",
    "    if already_split !=n_lines:\n",
    "        print(cmd)\n",
    "        subprocess.call(cmd, shell = True)\n",
    "        \n",
    "    else:\n",
    "        print(\"split .bed to .fa already\")\n",
    "\n",
    "    #11\n",
    "    #already_split = glob.glob(f\"{chr_}*.fa\")\n",
    "    \n",
    "    #return already_split\n",
    "\n",
    "def get_percent_identity(subjSeq, querySeq):\n",
    "\n",
    "    lenSeq = len(subjSeq) # get the length of the sequence alignment.\n",
    "\n",
    "    count_identical = 0\n",
    "    count_gap = 0\n",
    "    count_non_identical = 0\n",
    "    \n",
    "    # parse through sequence and ask if alignments match. \n",
    "    for a,b in zip(subjSeq,querySeq):\n",
    "\n",
    "        if a==b:\n",
    "            count_identical+=1  # count identical bases\n",
    "\n",
    "        elif a != b:\n",
    "            count_non_identical +=1  # count non-identical bases\n",
    "            \n",
    "        if a == \"-\" or b == \"-\":\n",
    "            count_gap +=1  # count gap bases\n",
    "            \n",
    "    percent = count_identical/lenSeq  # return percent identity\n",
    "\n",
    "    return count_identical, count_gap, percent\n",
    "\n",
    "def load_species_distances(distance):\n",
    "    \n",
    "    # make dictionary of species names and distances. \n",
    "    \n",
    "    distances = pd.read_csv(distance)\n",
    "    distances[\"taxon2\"]= distances[\"taxon2\"].apply(lambda x: x.replace(\"'\", \"\"))\n",
    "    dist = dict(zip(distances[\"taxon2\"], distances[\"taxon1_mrca_dist\"]))\n",
    "    \n",
    "    return dist\n",
    "\n",
    "def id_age_dict(input_bed):\n",
    "    \"\"\"\n",
    "    make dict[region_id]:mrca_age\n",
    "    1. load file w specific columns, rename col names\n",
    "    2. adjust start to add 1. idk why msa_split does this. \n",
    "    3. create id for region to match .fa file id\n",
    "    4. make dictionary of id:age\n",
    "    \"\"\"\n",
    "    #1\n",
    "    cols = [\"#chr\", 'start', \"end\", \"mrca\"]\n",
    "    srcAge = pd.read_csv(input_bed, sep = '\\t', header = None, usecols =[0,1,2,10], names = cols)\n",
    "    #2\n",
    "    srcAge[\"start\"] = srcAge[\"start\"]+1\n",
    "    #3\n",
    "    srcAge[\"id\"] = srcAge[\"#chr\"]+\":\"+srcAge[\"start\"].map(str) + \"-\" + srcAge[\"end\"].map(str)\n",
    "    #4\n",
    "    id_dict = dict(zip(srcAge[\"id\"], srcAge[\"mrca\"].round(3)))\n",
    "\n",
    "    return id_dict\n",
    "\n",
    "\n",
    "def extract_pairwise_fa_data(fa_handle, dist, id_dict, chr_):\n",
    "    \n",
    "    region_id = chr_+\":\"+(fa_handle.split(\"chr\")[1].split(\".\")[1])\n",
    "    age = id_dict[region_id] # get age to query. \n",
    "    \n",
    "    with open(fa_handle, \"r\") as fa_reader:\n",
    "        \"\"\"\n",
    "        (1) set empty values for collecting species' sequence and sequence size\n",
    "        (2) if species is human, set species variable to human\n",
    "        (3) else, set species variable to current species\n",
    "        (4) if neither hg38 or rheMac10 annotation, use species variable to recore sequence, size\n",
    "        \"\"\"\n",
    "        #(1)\n",
    "\n",
    "        hg19_seq, current_seq,  = \"\", \"\",  # keep track of hg19 and current sequences\n",
    "\n",
    "        husize, current_size,  = 0, 0\n",
    "\n",
    "        current_species = None  # keep track of current species\n",
    "\n",
    "        current_mrca = 0  # keep track of the oldest MRCA age\n",
    "\n",
    "        seqid=0\n",
    "\n",
    "        n = 0\n",
    "\n",
    "        ref_species = [\n",
    "            \"panTro2\",\n",
    "            \"gorGor1\",\n",
    "            \"ponAbe2\",\n",
    "            \"rheMac2\",\n",
    "            \"calJac1\",\n",
    "            \"tarSyr1\",\n",
    "            \"otoGar1\",# mouse lemur on same MRCA. \n",
    "            \"tupBel1\",\n",
    "            \"mm9\",\n",
    "            \"canFam2\",\n",
    "            \"loxAfr3\",\n",
    "            \"monDom5\",\n",
    "            \"ornAna1\",\"galGal3\",\n",
    "            \"xenTro2\",\n",
    "            \"danRer6\",\n",
    "            \"petMar1\"\n",
    "            ]\n",
    "\n",
    "        for i, line in enumerate(fa_reader):\n",
    "\n",
    "            if \">\" in line:\n",
    "\n",
    "                # check whether last species has alignment\n",
    "                if current_mrca == age and current_species in ref_species:\n",
    "                    if list(set(current_seq)) != ['*']:\n",
    "\n",
    "                        # get sequence identity\n",
    "                        count_identical, count_gap, percent = get_percent_identity(hg19_seq, current_seq)\n",
    "\n",
    "                        # add sequence identity to dictionary\n",
    "                        seqid=percent\n",
    "                    else:\n",
    "                        seqid=-1\n",
    "\n",
    "\n",
    "                # begin new species\n",
    "                current_species = ((line.split(\" \")[1]).split(\"\\n\")[0]) # get the species\n",
    "                current_seq = \"\"  # reset current sequence\n",
    "                current_mrca = dist[current_species]  # get current age\n",
    "\n",
    "                n+=1\n",
    "\n",
    "            # get hg19 sequence\n",
    "            elif current_species == \"hg19\":\n",
    "                hg19_seq += line.strip(\"\\n\")  # add to hg19seq str\n",
    "                husize += len(line.strip(\"\\n\"))\n",
    "\n",
    "            # get other species sequence\n",
    "\n",
    "            elif current_species in ref_species:\n",
    "                current_seq += line.strip(\"\\n\")\n",
    "                current_size += len(line.strip(\"\\n\"))\n",
    "\n",
    "\n",
    "    #print(region_id, age, seqid,\"\\n\\n\")\n",
    "    \n",
    "    # make dataframe of ages and sequence identity scores\n",
    "    newdf = pd.DataFrame({\n",
    "                        \"region_id\":[region_id],\n",
    "                        \"MRCA\":[age],\n",
    "                        \"percent_id\":[seqid],\n",
    "                         })\n",
    "    \n",
    "    return newdf, region_id\n",
    "\n",
    "\n",
    "def quantify_fa_seqids(chr_, data_path, distance, IdAgeDict):\n",
    "    \n",
    "    out = os.path.join(data_path, f\"{chr_}_seqid.tsv\")\n",
    "    fa_handles = glob.glob(os.path.join(data_path, f\"{chr_}.*.fa\"))\n",
    "    \n",
    "    if os.path.exists(out) is False and len(fa_handles)>0:\n",
    "        \n",
    "        results = {}\n",
    "        \n",
    "        dist = load_species_distances(distance)\n",
    "        \n",
    "        for f in fa_handles:\n",
    "            seqid_df, region_id= extract_pairwise_fa_data(f, dist, IdAgeDict, chr_)\n",
    "            results[region_id] = seqid_df\n",
    "        \n",
    "        # concat sequence ids\n",
    "        outdf = pd.concat(results.values())\n",
    "        \n",
    "        # save file\n",
    "        outdf.to_csv(out, sep = '\\t', index = False)\n",
    "        for f in fa_handles:\n",
    "            os.remove(f)\n",
    "            \n",
    "    elif os.path.exists(out) is True and len(fa_handles)>0:\n",
    "        for f in fa_handles:\n",
    "            os.remove(f)\n",
    "    elif os.path.exists(out) is False and len(fa_handles)==0:\n",
    "        print(\"\\n\\nneed to do\", chr_, \"\\n\\n\")\n",
    "    else:\n",
    "        print(\"\\n\\nalready calculated sequence id for\", chr_, \"\\n\\n\")\n",
    "\n",
    "    return out"
   ]
  },
  {
   "cell_type": "markdown",
   "id": "26bb50b4",
   "metadata": {},
   "source": [
    "# main "
   ]
  },
  {
   "cell_type": "code",
   "execution_count": null,
   "id": "bf2ce826",
   "metadata": {
    "ExecuteTime": {
     "start_time": "2022-04-06T00:23:29.023Z"
    }
   },
   "outputs": [],
   "source": [
    "def main(argv):\n",
    "\n",
    "    chrList = chr_functions.make_chr_list()  # get chromosomes\n",
    "\n",
    "    \"\"\"\n",
    "    (0) Make output paths\n",
    "    \n",
    "    (1) split file by chromosome number\n",
    "\n",
    "    (2) perform msa_splits in parallel per chromosome \n",
    "    \n",
    "    (3) compute seq_id from fasta\n",
    "    \"\"\"\n",
    "\n",
    "    #(0) make paths for results\n",
    "    make_paths(DATA_PATHS)\n",
    "\n",
    "    IdAgeDict = id_age_dict(INPUT) # dictionary of sequence ids and ages. \n",
    "    \n",
    "    for CHR in chrList:\n",
    "        test_chr = os.path.join(CHR_PATH, f\"{CHR}.bed\")\n",
    "        if os.path.exists(test_chr) is False:\n",
    "            \n",
    "            #(1) split input file into chromosomes\n",
    "            split_chr(INPUT, CHR_PATH)\n",
    "\n",
    "        out = os.path.join(DATA_PATH, f\"{CHR}_seqid.tsv\")\n",
    "        if os.path.exists(out) is False:     \n",
    "\n",
    "            #(2) perform msa_splits\n",
    "            num_cores = 20 \n",
    "            msa_split_x_bed(CHR, DATA_PATH, MSA_SPLIT_BIN, MAF_PATH, CHR_PATH)\n",
    "\n",
    "            #(3) quantify sequence identity for .fa files\n",
    "            out = quantify_fa_seqids(CHR, DATA_PATH, DISTANCES, IdAgeDict)\n",
    "\n",
    "            print(f\"\\n\\n finished splitting {CHR}\\n\\n\")\n",
    "        else:\n",
    "            print(f\"already split {INPUT_NAME} {CHR}\\n\\n\")\n",
    "\n",
    "        \n",
    "if __name__ == \"__main__\":\n",
    "    main(sys.argv[1:])"
   ]
  },
  {
   "cell_type": "code",
   "execution_count": null,
   "id": "b7b239f3",
   "metadata": {},
   "outputs": [],
   "source": [
    "%%bash\n",
    "jupyter nbconvert 2_sequence_identity-parse_msa-slurm.ipynb --to script "
   ]
  },
  {
   "cell_type": "markdown",
   "id": "99ca9e78",
   "metadata": {},
   "source": [
    "# launch slurm "
   ]
  },
  {
   "cell_type": "markdown",
   "id": "c3d03357",
   "metadata": {},
   "source": [
    "## shuffles"
   ]
  },
  {
   "cell_type": "code",
   "execution_count": 11,
   "id": "781bd3fa",
   "metadata": {
    "ExecuteTime": {
     "end_time": "2022-04-06T06:03:31.226136Z",
     "start_time": "2022-04-06T06:03:30.745257Z"
    }
   },
   "outputs": [],
   "source": [
    "samples = [12, 15, 28, 43, 58, 59, 62, 74, 9, 80, 96]\n",
    "for s in samples:\n",
    "    cmd = f\"sbatch msa_seqID_launch.slurm\\\n",
    "    /dors/capra_lab/projects/enhancer_ages/fantom/data/non-genic/shuffle_syn_breaks/no-exon_shuf-all_fantom_enh_112_tissues-{s}_age_breaks.bed\"\n",
    "    os.system(cmd)"
   ]
  },
  {
   "cell_type": "markdown",
   "id": "6b78c3f2",
   "metadata": {},
   "source": [
    "## fantom"
   ]
  },
  {
   "cell_type": "code",
   "execution_count": 5,
   "id": "0b695ce0",
   "metadata": {
    "ExecuteTime": {
     "end_time": "2022-04-07T23:28:41.289466Z",
     "start_time": "2022-04-07T23:28:41.217995Z"
    }
   },
   "outputs": [
    {
     "data": {
      "text/plain": [
       "0"
      ]
     },
     "execution_count": 5,
     "metadata": {},
     "output_type": "execute_result"
    }
   ],
   "source": [
    "cmd = f\"sbatch msa_seqID_launch.slurm\\\n",
    "    /dors/capra_lab/projects/enhancer_ages/fantom/data/non-genic/no-exon_all_fantom_enh/ages/syn_breaks_no-exon_all_fantom_enh_ages.bed\"\n",
    "os.system(cmd)"
   ]
  },
  {
   "cell_type": "markdown",
   "id": "cc9c55d4",
   "metadata": {},
   "source": [
    "# test"
   ]
  },
  {
   "cell_type": "code",
   "execution_count": 4,
   "id": "8c476f01",
   "metadata": {
    "ExecuteTime": {
     "end_time": "2022-04-07T22:52:16.087160Z",
     "start_time": "2022-04-07T21:58:21.893792Z"
    }
   },
   "outputs": [
    {
     "data": {
      "text/plain": [
       "256"
      ]
     },
     "execution_count": 4,
     "metadata": {},
     "output_type": "execute_result"
    }
   ],
   "source": [
    "cmd = f\"python /dors/capra_lab/users/fongsl/enh_ages/core_v_derived/seqid/2_sequence_identity-parse_msa-slurm.py \\\n",
    "    /dors/capra_lab/projects/enhancer_ages/fantom/data/non-genic/no-exon_all_fantom_enh/ages/test.bed\"\n",
    "os.system(cmd)"
   ]
  },
  {
   "cell_type": "code",
   "execution_count": null,
   "id": "55529111",
   "metadata": {},
   "outputs": [],
   "source": [
    "cmd"
   ]
  }
 ],
 "metadata": {
  "kernelspec": {
   "display_name": "Python (sfenv)",
   "language": "python",
   "name": "sfenv"
  },
  "language_info": {
   "codemirror_mode": {
    "name": "ipython",
    "version": 3
   },
   "file_extension": ".py",
   "mimetype": "text/x-python",
   "name": "python",
   "nbconvert_exporter": "python",
   "pygments_lexer": "ipython3",
   "version": "3.6.5"
  },
  "toc": {
   "base_numbering": 1,
   "nav_menu": {},
   "number_sections": true,
   "sideBar": true,
   "skip_h1_title": false,
   "title_cell": "Table of Contents",
   "title_sidebar": "Contents",
   "toc_cell": false,
   "toc_position": {},
   "toc_section_display": true,
   "toc_window_display": false
  }
 },
 "nbformat": 4,
 "nbformat_minor": 5
}
