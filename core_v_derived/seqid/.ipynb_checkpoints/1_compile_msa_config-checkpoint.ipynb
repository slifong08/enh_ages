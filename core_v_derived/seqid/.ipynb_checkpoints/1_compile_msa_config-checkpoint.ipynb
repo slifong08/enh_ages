{
 "cells": [
  {
   "cell_type": "code",
   "execution_count": 1,
   "metadata": {
    "ExecuteTime": {
     "end_time": "2022-01-25T19:37:02.134855Z",
     "start_time": "2022-01-25T19:37:02.127073Z"
    },
    "collapsed": true
   },
   "outputs": [],
   "source": [
    "import configparser\n",
    "import os\n",
    "\n",
    "sys.path.append(\"/dors/capra_lab/users/fongsl/tools/py_\")\n",
    "import config_readwrite as crw"
   ]
  },
  {
   "cell_type": "code",
   "execution_count": 3,
   "metadata": {
    "ExecuteTime": {
     "end_time": "2022-01-25T19:37:02.167572Z",
     "start_time": "2022-01-25T19:37:02.160401Z"
    },
    "collapsed": true
   },
   "outputs": [],
   "source": [
    "NAME = os.path.join(os.getcwd(), \"config_seqarch\")\n",
    "config, configfile_name = crw.read_config(NAME)  # config is an object, configfile_name is a string"
   ]
  },
  {
   "cell_type": "markdown",
   "metadata": {},
   "source": [
    "# files you want sequence id from"
   ]
  },
  {
   "cell_type": "code",
   "execution_count": 6,
   "metadata": {
    "ExecuteTime": {
     "end_time": "2022-01-25T19:37:14.777228Z",
     "start_time": "2022-01-25T19:37:14.765172Z"
    }
   },
   "outputs": [],
   "source": [
    "PATH = \"/dors/capra_lab/projects/enhancer_ages/core_v_derived/results/fantom/sequence_identity\"  # change\n",
    "OUTPUT_PATH =  os.path.join(PATH, \"sequence_architecture\")  # change\n",
    "CHR_PATH = os.path.join(OUTPUT_PATH, \"chr\")\n",
    "\n",
    "config[\"SUMMIT\"] = {\n",
    "                    \"MIDPOINTS\": os.path.join(PATH, \"activity-region-characterization/region-summit_distance/shared_peaks_by-intersect.summits.bed\"),\n",
    "                    \"PATH\": os.path.join(PATH, \"/data/hodges_lab/ATAC-STARR_B-cells/results/results_human-evolution/sequence_architecture\"),\n",
    "                    \"EXTENDED\": os.path.join(OUTPUT_PATH, \"sequence_architecture\", \"shared_peaks_by-intersect.summits.1kb_extended.bed\"),\n",
    "                    }"
   ]
  },
  {
   "cell_type": "markdown",
   "metadata": {},
   "source": [
    "# PARAMS "
   ]
  },
  {
   "cell_type": "code",
   "execution_count": 7,
   "metadata": {
    "ExecuteTime": {
     "end_time": "2022-01-25T19:37:17.302612Z",
     "start_time": "2022-01-25T19:37:17.296365Z"
    },
    "collapsed": true
   },
   "outputs": [],
   "source": [
    "GENOME_BUILD = \"hg38\"\n",
    "\n",
    "config[\"PARAM\"] = {\n",
    "                    \"GENOME_BUILD\":GENOME_BUILD,\n",
    "                    \n",
    "                    }"
   ]
  },
  {
   "cell_type": "markdown",
   "metadata": {},
   "source": [
    "# Bin - Sequence identity "
   ]
  },
  {
   "cell_type": "code",
   "execution_count": 8,
   "metadata": {
    "ExecuteTime": {
     "end_time": "2022-01-25T19:37:18.033790Z",
     "start_time": "2022-01-25T19:37:18.027540Z"
    },
    "collapsed": true
   },
   "outputs": [],
   "source": [
    "BIN_PATH = \"/data/hodges_lab/ATAC-STARR_B-cells/bin_human-evolution/SF_hu-rhe/main_thirdrep/\"\n",
    "\n",
    "config[\"SEQ_ID\"] = {\n",
    "                    \"BIN\": os.path.join(BIN_PATH, \"sequence_identity-make_msa.py\"),\n",
    "                    \n",
    "                    }"
   ]
  },
  {
   "cell_type": "markdown",
   "metadata": {},
   "source": [
    "# files for making sequence id"
   ]
  },
  {
   "cell_type": "code",
   "execution_count": 9,
   "metadata": {
    "ExecuteTime": {
     "end_time": "2022-01-25T19:37:18.836626Z",
     "start_time": "2022-01-25T19:37:18.825301Z"
    },
    "collapsed": true
   },
   "outputs": [],
   "source": [
    "# Hodges lab path\n",
    "BASE_PATH = \"/data/hodges_lab/ATAC-STARR_B-cells/\"\n",
    "\n",
    "HODGES_DATA_PATH = os.path.join(BASE_PATH, \"data/hansen-fong/\")  # the original path. \n",
    "\n",
    "HODGES_RESULTS_PATH = os.path.join(BASE_PATH, \"results/results_human-evolution/\") # the original path. \n",
    "\n",
    "# bin path\n",
    "HODGES_BIN_PATH = os.path.join(\n",
    "    BASE_PATH, \"bin_human-evolution/SF_hu-rhe/main_thirdrep/\")\n",
    "\n",
    "\n",
    "# Config HODGES paths\n",
    "\n",
    "config[\"HODGES_PATH\"] = {\n",
    "                        \"DATA\": HODGES_DATA_PATH,\n",
    "                        \"RESULTS\": HODGES_RESULTS_PATH,\n",
    "                        \"BASE\": BASE_PATH,\n",
    "                        \"BIN\": HODGES_BIN_PATH\n",
    "                        }"
   ]
  },
  {
   "cell_type": "markdown",
   "metadata": {},
   "source": [
    "# dors"
   ]
  },
  {
   "cell_type": "code",
   "execution_count": 10,
   "metadata": {
    "ExecuteTime": {
     "end_time": "2022-01-25T19:37:19.499074Z",
     "start_time": "2022-01-25T19:37:19.488738Z"
    },
    "collapsed": true
   },
   "outputs": [],
   "source": [
    "# bin\n",
    "DORS_BIN_PATH = \"/dors/capra_lab/bin/\"\n",
    "DORS_BIN_MSASPLIT = os.path.join(DORS_BIN_PATH, \"./msa_split\")\n",
    "\n",
    "# data\n",
    "DORS_DATA_PATH = \"/dors/capra_lab/data/\"\n",
    "MAF_DORS_PATH = os.path.join(DORS_DATA_PATH, \"ucsc\", GENOME_BUILD) \n",
    "HU_RHE_CHAIN = os.path.join(MAF_DORS_PATH, f\"{GENOME_BUILD}.rheMac10\")  # this path comes from the CONACC section\n",
    "\n",
    "# PHASTCONS MSAs for hg38: 100way, 20way, 7way\n",
    "\n",
    "config[\"DORS_PATH\"]= {\n",
    "                    \"BIN\": DORS_BIN_PATH,  # bin\n",
    "                    \"MSA_SPLIT_BIN\":DORS_BIN_MSASPLIT,  # bin\n",
    "                    \"DATA\": DORS_DATA_PATH, # data\n",
    "                    \"MAF\": MAF_DORS_PATH,  # data\n",
    "                    \"HU_RHE_CHAIN\":HU_RHE_CHAIN,  # data\n",
    "                    }"
   ]
  },
  {
   "cell_type": "markdown",
   "metadata": {},
   "source": [
    "# chr path "
   ]
  },
  {
   "cell_type": "code",
   "execution_count": 11,
   "metadata": {
    "ExecuteTime": {
     "end_time": "2022-01-25T19:37:20.146940Z",
     "start_time": "2022-01-25T19:37:20.141325Z"
    },
    "collapsed": true
   },
   "outputs": [],
   "source": [
    "config[\"CHR\"] ={\n",
    "                \"PATH\":CHR_PATH,\n",
    "                }"
   ]
  },
  {
   "cell_type": "markdown",
   "metadata": {},
   "source": [
    "# sequence identity "
   ]
  },
  {
   "cell_type": "code",
   "execution_count": 12,
   "metadata": {
    "ExecuteTime": {
     "end_time": "2022-01-25T19:37:20.783702Z",
     "start_time": "2022-01-25T19:37:20.772159Z"
    },
    "collapsed": true
   },
   "outputs": [],
   "source": [
    "SEQID_DATA_PATH = os.path.join(OUTPUT_PATH, \"sequence_identity\")\n",
    "\n",
    "config[\"SEQ_ID\"] = {\n",
    "                    \"MSA_SPLIT_BIN\":DORS_BIN_MSASPLIT,  # bin\n",
    "                    \"DORS_MAF_PATH\":HU_RHE_CHAIN,\n",
    "                    \"PATH\":SEQID_DATA_PATH,\n",
    "                    \"IDENTITY_RAW\":os.path.join(SEQID_DATA_PATH, \"seq_identity_raw.tsv\"),\n",
    "                    \"IDENTITY\":os.path.join(SEQID_DATA_PATH, \"seq_identity.tsv\"),\n",
    "                    \"SEQ\":os.path.join(SEQID_DATA_PATH, \"seq_only.tsv\"),\n",
    "                    }"
   ]
  },
  {
   "cell_type": "markdown",
   "metadata": {},
   "source": [
    "# make paths command "
   ]
  },
  {
   "cell_type": "code",
   "execution_count": 13,
   "metadata": {
    "ExecuteTime": {
     "end_time": "2022-01-25T19:37:21.419118Z",
     "start_time": "2022-01-25T19:37:21.410926Z"
    }
   },
   "outputs": [],
   "source": [
    "datapath_list = [\n",
    "    OUTPUT_PATH,\n",
    "    SEQID_DATA_PATH, \n",
    "    CHR_PATH\n",
    "]\n",
    "len(datapath_list)\n",
    "\n",
    "# LIST PATHS\n",
    "\n",
    "datapath_str = \",\".join(datapath_list) # turn list into a string\n",
    "\n",
    "config.add_section(\"MKPATHS\")\n",
    "config.set(\"MKPATHS\", \"LIST\", datapath_str)"
   ]
  },
  {
   "cell_type": "markdown",
   "metadata": {},
   "source": [
    "# Write "
   ]
  },
  {
   "cell_type": "code",
   "execution_count": 14,
   "metadata": {
    "ExecuteTime": {
     "end_time": "2022-01-25T19:37:39.421885Z",
     "start_time": "2022-01-25T19:37:39.413604Z"
    },
    "collapsed": true
   },
   "outputs": [],
   "source": [
    "write_config(config, configfile_name)"
   ]
  },
  {
   "cell_type": "code",
   "execution_count": null,
   "metadata": {
    "collapsed": true
   },
   "outputs": [],
   "source": []
  }
 ],
 "metadata": {
  "kernelspec": {
   "display_name": "Python (sfenv)",
   "language": "python",
   "name": "sfenv"
  },
  "language_info": {
   "codemirror_mode": {
    "name": "ipython",
    "version": 3
   },
   "file_extension": ".py",
   "mimetype": "text/x-python",
   "name": "python",
   "nbconvert_exporter": "python",
   "pygments_lexer": "ipython3",
   "version": "3.6.5"
  },
  "toc": {
   "base_numbering": 1,
   "nav_menu": {},
   "number_sections": true,
   "sideBar": true,
   "skip_h1_title": false,
   "title_cell": "Table of Contents",
   "title_sidebar": "Contents",
   "toc_cell": false,
   "toc_position": {},
   "toc_section_display": true,
   "toc_window_display": false
  }
 },
 "nbformat": 4,
 "nbformat_minor": 2
}
