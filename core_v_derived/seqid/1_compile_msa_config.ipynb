{
 "cells": [
  {
   "cell_type": "code",
   "execution_count": 3,
   "metadata": {
    "ExecuteTime": {
     "end_time": "2022-03-25T20:01:31.486243Z",
     "start_time": "2022-03-25T20:01:31.478236Z"
    }
   },
   "outputs": [],
   "source": [
    "import configparser\n",
    "import os\n",
    "import sys\n",
    "\n",
    "sys.path.append(\"/dors/capra_lab/users/fongsl/tools/py_\")\n",
    "import config_readwrite as crw"
   ]
  },
  {
   "cell_type": "code",
   "execution_count": 4,
   "metadata": {
    "ExecuteTime": {
     "end_time": "2022-03-25T20:01:31.969983Z",
     "start_time": "2022-03-25T20:01:31.963415Z"
    }
   },
   "outputs": [],
   "source": [
    "NAME = os.path.join(os.getcwd(), \"config_seqarch\")\n",
    "config, configfile_name = crw.read_config(NAME)  # config is an object, configfile_name is a string"
   ]
  },
  {
   "cell_type": "markdown",
   "metadata": {},
   "source": [
    "# files you want sequence id from"
   ]
  },
  {
   "cell_type": "code",
   "execution_count": 6,
   "metadata": {
    "ExecuteTime": {
     "end_time": "2022-03-25T20:01:38.213629Z",
     "start_time": "2022-03-25T20:01:38.206757Z"
    }
   },
   "outputs": [],
   "source": [
    "INPUT_PATH =  \"/dors/capra_lab/projects/enhancer_ages/fantom/data/non-genic/no-exon_all_fantom_enh/ages/\" # change\n",
    "OUTPUT_PATH = \"/dors/capra_lab/projects/enhancer_ages/core_v_derived/results/fantom/sequence_identity\"\n",
    "\n",
    "config[\"INPUTS\"] = {\n",
    "                    \"PATH\": INPUT_PATH,\n",
    "                    \"BEDFILE\": os.path.join(INPUT_PATH,\"syn_breaks_no-exon_all_fantom_enh_ages.bed\")\n",
    "                    }"
   ]
  },
  {
   "cell_type": "markdown",
   "metadata": {},
   "source": [
    "# PARAMS "
   ]
  },
  {
   "cell_type": "code",
   "execution_count": 7,
   "metadata": {
    "ExecuteTime": {
     "end_time": "2022-03-25T20:01:40.093414Z",
     "start_time": "2022-03-25T20:01:40.087674Z"
    }
   },
   "outputs": [],
   "source": [
    "GENOME_BUILD = \"hg19\"\n",
    "\n",
    "config[\"PARAM\"] = {\n",
    "                    \"GENOME_BUILD\":GENOME_BUILD     \n",
    "                    }"
   ]
  },
  {
   "cell_type": "markdown",
   "metadata": {},
   "source": [
    "# Bin - Sequence identity "
   ]
  },
  {
   "cell_type": "code",
   "execution_count": 8,
   "metadata": {
    "ExecuteTime": {
     "end_time": "2022-03-25T20:01:40.891793Z",
     "start_time": "2022-03-25T20:01:40.885744Z"
    }
   },
   "outputs": [],
   "source": [
    "BIN_PATH = os.getcwd()\n",
    "\n",
    "config[\"SEQ_ID\"] = {\n",
    "                    \"BIN\": os.path.join(BIN_PATH, \"sequence_identity-parse_msa.py\")\n",
    "                    }"
   ]
  },
  {
   "cell_type": "markdown",
   "metadata": {},
   "source": [
    "# dors"
   ]
  },
  {
   "cell_type": "code",
   "execution_count": 9,
   "metadata": {
    "ExecuteTime": {
     "end_time": "2022-03-25T20:01:42.227158Z",
     "start_time": "2022-03-25T20:01:42.215089Z"
    }
   },
   "outputs": [],
   "source": [
    "# bin\n",
    "DORS_BIN_PATH = \"/dors/capra_lab/bin/\"\n",
    "DORS_BIN_MSASPLIT = os.path.join(DORS_BIN_PATH, \"./msa_split\")\n",
    "\n",
    "# data\n",
    "DORS_DATA_PATH = \"/dors/capra_lab/data/\"\n",
    "MAF_DORS_PATH = os.path.join(DORS_DATA_PATH, \"ucsc\", GENOME_BUILD) \n",
    "HU_RHE_CHAIN = os.path.join(MAF_DORS_PATH, f\"{GENOME_BUILD}.rheMac10\")  # this path comes from the CONACC section\n",
    "MSA_46WAY_hg19 = os.path.join(MAF_DORS_PATH, 'maf', ) \n",
    "# PHASTCONS MSAs for hg38: 100way, 20way, 7way\n",
    "\n",
    "config[\"DORS_PATH\"]= {\n",
    "                    \"BIN\": DORS_BIN_PATH,  # bin\n",
    "                    \"MSA_SPLIT_BIN\":DORS_BIN_MSASPLIT,  # bin\n",
    "                    \"DATA\": DORS_DATA_PATH, # data\n",
    "                    \"MAF\": MAF_DORS_PATH,  # data\n",
    "                    \"HU_RHE_CHAIN\":HU_RHE_CHAIN,  # data\n",
    "                    \"MSA_46WAY_hg19\":MSA_46WAY_hg19,\n",
    "                    }"
   ]
  },
  {
   "cell_type": "markdown",
   "metadata": {},
   "source": [
    "# chr path "
   ]
  },
  {
   "cell_type": "code",
   "execution_count": 10,
   "metadata": {
    "ExecuteTime": {
     "end_time": "2022-03-25T20:01:43.255817Z",
     "start_time": "2022-03-25T20:01:43.249464Z"
    }
   },
   "outputs": [],
   "source": [
    "# for splitting file into chr. \n",
    "CHR_PATH = \"/dors/capra_lab/projects/enhancer_ages/core_v_derived/results/fantom/sequence_identity/chr/\"\n",
    "\n",
    "config[\"CHR\"] ={\n",
    "                \"PATH\":CHR_PATH,\n",
    "                }"
   ]
  },
  {
   "cell_type": "markdown",
   "metadata": {},
   "source": [
    "# sequence identity "
   ]
  },
  {
   "cell_type": "code",
   "execution_count": 11,
   "metadata": {
    "ExecuteTime": {
     "end_time": "2022-03-25T20:01:44.110341Z",
     "start_time": "2022-03-25T20:01:44.102534Z"
    }
   },
   "outputs": [],
   "source": [
    "config[\"SEQ_ID\"] = {\n",
    "                    \"MSA_SPLIT_BIN\":DORS_BIN_MSASPLIT,  # bin\n",
    "                    #\"DORS_MAF_PATH\":HU_RHE_CHAIN,\n",
    "                    \"PATH\":OUTPUT_PATH,\n",
    "                    \"IDENTITY_RAW\":os.path.join(OUTPUT_PATH, \"seq_identity_raw.tsv\"),\n",
    "                    \"IDENTITY\":os.path.join(OUTPUT_PATH, \"seq_identity.tsv\"),\n",
    "                    \"SEQ\":os.path.join(OUTPUT_PATH, \"seq_only.tsv\"),\n",
    "                    }"
   ]
  },
  {
   "cell_type": "markdown",
   "metadata": {},
   "source": [
    "# make paths command "
   ]
  },
  {
   "cell_type": "code",
   "execution_count": 12,
   "metadata": {
    "ExecuteTime": {
     "end_time": "2022-03-25T20:01:45.030790Z",
     "start_time": "2022-03-25T20:01:45.023385Z"
    }
   },
   "outputs": [],
   "source": [
    "datapath_list = [\n",
    "    OUTPUT_PATH,\n",
    "    CHR_PATH\n",
    "]\n",
    "len(datapath_list)\n",
    "\n",
    "# LIST PATHS\n",
    "\n",
    "datapath_str = \",\".join(datapath_list) # turn list into a string\n",
    "\n",
    "config.add_section(\"MKPATHS\")\n",
    "config.set(\"MKPATHS\", \"LIST\", datapath_str)"
   ]
  },
  {
   "cell_type": "markdown",
   "metadata": {},
   "source": [
    "# Write "
   ]
  },
  {
   "cell_type": "code",
   "execution_count": 14,
   "metadata": {
    "ExecuteTime": {
     "end_time": "2022-03-25T20:01:51.390635Z",
     "start_time": "2022-03-25T20:01:51.383012Z"
    }
   },
   "outputs": [],
   "source": [
    "crw.write_config(config, configfile_name)"
   ]
  },
  {
   "cell_type": "code",
   "execution_count": null,
   "metadata": {
    "collapsed": true
   },
   "outputs": [],
   "source": []
  }
 ],
 "metadata": {
  "kernelspec": {
   "display_name": "Python (sfenv)",
   "language": "python",
   "name": "sfenv"
  },
  "language_info": {
   "codemirror_mode": {
    "name": "ipython",
    "version": 3
   },
   "file_extension": ".py",
   "mimetype": "text/x-python",
   "name": "python",
   "nbconvert_exporter": "python",
   "pygments_lexer": "ipython3",
   "version": "3.6.5"
  },
  "toc": {
   "base_numbering": 1,
   "nav_menu": {},
   "number_sections": true,
   "sideBar": true,
   "skip_h1_title": false,
   "title_cell": "Table of Contents",
   "title_sidebar": "Contents",
   "toc_cell": false,
   "toc_position": {},
   "toc_section_display": true,
   "toc_window_display": false
  }
 },
 "nbformat": 4,
 "nbformat_minor": 2
}
