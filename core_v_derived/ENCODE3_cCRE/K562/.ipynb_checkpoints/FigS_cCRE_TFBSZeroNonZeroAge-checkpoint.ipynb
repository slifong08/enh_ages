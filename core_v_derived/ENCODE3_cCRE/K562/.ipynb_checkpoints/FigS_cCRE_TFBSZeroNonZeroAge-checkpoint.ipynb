{
 "cells": [
  {
   "cell_type": "code",
   "execution_count": 1,
   "id": "b5712f8a",
   "metadata": {
    "ExecuteTime": {
     "end_time": "2021-12-23T02:09:13.628083Z",
     "start_time": "2021-12-23T02:09:12.472283Z"
    }
   },
   "outputs": [],
   "source": [
    "import configparser\n",
    "import matplotlib.pyplot as plt\n",
    "import numpy as np\n",
    "import os, sys\n",
    "import pandas as pd\n",
    "from scipy import stats\n",
    "import seaborn as sns\n",
    "import statsmodels\n",
    "import statsmodels.api as sm\n",
    "import subprocess"
   ]
  },
  {
   "cell_type": "code",
   "execution_count": 2,
   "id": "6719b3e5",
   "metadata": {
    "ExecuteTime": {
     "end_time": "2021-12-23T02:09:13.633695Z",
     "start_time": "2021-12-23T02:09:13.629879Z"
    }
   },
   "outputs": [],
   "source": [
    "DEV = True"
   ]
  },
  {
   "cell_type": "markdown",
   "id": "420c7714",
   "metadata": {},
   "source": [
    "# Load config "
   ]
  },
  {
   "cell_type": "code",
   "execution_count": 3,
   "id": "d09641f8",
   "metadata": {
    "ExecuteTime": {
     "end_time": "2021-12-23T02:09:13.698886Z",
     "start_time": "2021-12-23T02:09:13.636655Z"
    }
   },
   "outputs": [
    {
     "data": {
      "text/plain": [
       "['/dors/capra_lab/users/fongsl/enh_ages/landscape/config_landscape.ini']"
      ]
     },
     "execution_count": 3,
     "metadata": {},
     "output_type": "execute_result"
    }
   ],
   "source": [
    "if DEV is True:\n",
    "    configfile_name = os.path.join(\"/dors/capra_lab/users/fongsl/enh_ages/landscape/\", \"config_landscape.ini\")\n",
    "else:\n",
    "    configfile_name = sys.argv[1]\n",
    "\n",
    "config = configparser.ConfigParser()\n",
    "config.read(configfile_name)"
   ]
  },
  {
   "cell_type": "code",
   "execution_count": 4,
   "id": "cd9a508f",
   "metadata": {
    "ExecuteTime": {
     "end_time": "2021-12-23T02:09:13.704248Z",
     "start_time": "2021-12-23T02:09:13.701114Z"
    }
   },
   "outputs": [],
   "source": [
    "CL = \"K562\""
   ]
  },
  {
   "cell_type": "code",
   "execution_count": 5,
   "id": "2a57be6d",
   "metadata": {
    "ExecuteTime": {
     "end_time": "2021-12-23T02:09:13.711857Z",
     "start_time": "2021-12-23T02:09:13.706604Z"
    }
   },
   "outputs": [],
   "source": [
    "ENHBASE = config[\"ENCODE\"][\"path_ccre\"]\n",
    "\n",
    "ENCODEPATH = config[\"ENCODE\"][\"path_tf\"]\n",
    "RE = config[\"ZEROS\"][f\"RESULTS_{CL}\"]\n",
    "\n",
    "MPL = config[\"PATHS\"][\"BIN\"]\n",
    "\n",
    "sys.path.append(MPL)"
   ]
  },
  {
   "cell_type": "code",
   "execution_count": 6,
   "id": "a426dcd0",
   "metadata": {
    "ExecuteTime": {
     "end_time": "2021-12-23T02:09:13.996382Z",
     "start_time": "2021-12-23T02:09:13.713878Z"
    }
   },
   "outputs": [
    {
     "name": "stdout",
     "output_type": "stream",
     "text": [
      "COLORMAP - CM <matplotlib.colors.LinearSegmentedColormap object at 0x2b47c8679278>\n",
      "y_\n",
      "stemg\n",
      "kellyg\n",
      "yg\n",
      "cd\n",
      "yg_shuf\n"
     ]
    },
    {
     "data": {
      "image/png": "[encoded data removed]",
      "text/plain": [
       "<Figure size 72x72 with 1 Axes>"
      ]
     },
     "metadata": {
      "needs_background": "light"
     },
     "output_type": "display_data"
    },
    {
     "data": {
      "image/png": "[encoded data removed]",
      "text/plain": [
       "<Figure size 72x72 with 1 Axes>"
      ]
     },
     "metadata": {
      "needs_background": "light"
     },
     "output_type": "display_data"
    },
    {
     "data": {
      "image/png": "[encoded data removed]",
      "text/plain": [
       "<Figure size 72x72 with 1 Axes>"
      ]
     },
     "metadata": {
      "needs_background": "light"
     },
     "output_type": "display_data"
    },
    {
     "data": {
      "image/png": "[encoded data removed]",
      "text/plain": [
       "<Figure size 216x72 with 1 Axes>"
      ]
     },
     "metadata": {
      "needs_background": "light"
     },
     "output_type": "display_data"
    },
    {
     "data": {
      "image/png": "[encoded data removed]",
      "text/plain": [
       "<Figure size 144x72 with 1 Axes>"
      ]
     },
     "metadata": {
      "needs_background": "light"
     },
     "output_type": "display_data"
    },
    {
     "data": {
      "image/png": "[encoded data removed]",
      "text/plain": [
       "<Figure size 432x72 with 1 Axes>"
      ]
     },
     "metadata": {
      "needs_background": "light"
     },
     "output_type": "display_data"
    }
   ],
   "source": [
    "import config_plot as cp"
   ]
  },
  {
   "cell_type": "markdown",
   "id": "53f2e5b4",
   "metadata": {
    "code_folding": []
   },
   "source": [
    "#  Functions"
   ]
  },
  {
   "cell_type": "code",
   "execution_count": 7,
   "id": "1a02c19a",
   "metadata": {
    "ExecuteTime": {
     "end_time": "2021-12-23T02:09:14.057767Z",
     "start_time": "2021-12-23T02:09:13.998840Z"
    },
    "code_folding": [
     159
    ]
   },
   "outputs": [],
   "source": [
    "def get_cell_lines(cl):\n",
    "    sample_dict = {\n",
    "    cl: f\"ELS_combined_{cl}\",\n",
    "    }\n",
    "\n",
    "    return sample_dict\n",
    "\n",
    "\n",
    "def get_paths(cell_line, file_tag, fantombase, encodepath):\n",
    "\n",
    "    FANTOMPATH = os.path.join(fantombase, file_tag, \"ages\")\n",
    "    FANTOMFILE = \"syn_breaks_%s_ages.bed\" % file_tag\n",
    "    FANTOM = os.path.join(FANTOMPATH, FANTOMFILE)\n",
    "\n",
    "    if \"CL\" in cell_line:\n",
    "        ENCODEFILE = \"cells/\" + cell_line.split(\"_CL\")[0] + \".bed.gz\"\n",
    "    elif cell_line == \"all_fantom_enh\":\n",
    "        ENCODEFILE = \"trimmed_encRegTfbsClusteredWithCells.bed\"\n",
    "    else:\n",
    "        ENCODEFILE = \"cells/\" + cell_line + \".bed.gz\"\n",
    "\n",
    "    ENCODE = os.path.join(encodepath, ENCODEFILE)\n",
    "\n",
    "\n",
    "    INTERSECTIONPATH = os.path.join(fantombase, file_tag)\n",
    "    INTERSECTIONFILE = \"%s_x_ENCODE.bed\" % file_tag\n",
    "    INTERSECTION = os.path.join(INTERSECTIONPATH, INTERSECTIONFILE)\n",
    "\n",
    "    return FANTOM, ENCODE, INTERSECTION\n",
    "\n",
    "\n",
    "def bed_intersect(fantom, encode, intersection):\n",
    "\n",
    "    if os.path.exists(intersection) is False:\n",
    "        cmd = f\"bedtools intersect -a {fantom} -b {encode} -wao > {intersection}\"\n",
    "\n",
    "        subprocess.call(cmd, shell = True)\n",
    "\n",
    "        print(cmd)\n",
    "    else:\n",
    "        print(\"previously done enh x encode intersection\")\n",
    "\n",
    "\n",
    "def get_core_age(df):\n",
    "    core = df.groupby(\"enh_id\")[\"mrca_2\"].max().reset_index()\n",
    "    core.columns = [\"enh_id\", 'core_mrca_2']\n",
    "    df = pd.merge(df, core, how = \"left\")\n",
    "\n",
    "    return df\n",
    "\n",
    "\n",
    "def reEval_PrimComplex(enh):\n",
    "\n",
    "    # get all the complex enhancers w/ primate core ages\n",
    "    prComEnhID = enh.loc[(enh.core ==1) &\n",
    "    (enh.core_remodeling ==1) &\n",
    "    (enh.taxon2.str.contains(\"Primate\"))][\"enh_id\"].unique()\n",
    "\n",
    "    # get all the complex enhancer ids where there is a real human derived sequence\n",
    "    pr_complex = enh.loc[(enh.enh_id.isin(prComEnhID)) &\n",
    "    (enh.core_remodeling == 1) &\n",
    "    (enh.core ==0) &\n",
    "    (enh.mrca ==0),\n",
    "    ][\"enh_id\"]\n",
    "\n",
    "\n",
    "    # i'm going to reassign any primate complex enhancer\n",
    "    # where derived regions are from other primates\n",
    "    # get the set of primate complex enhancers w/ primate derived sequences\n",
    "    # and rename them as simple enhancers\n",
    "    pr_simple = set(prComEnhID) - set(pr_complex)\n",
    "\n",
    "    # reassign core and core remodeling columns\n",
    "    enh.loc[enh.enh_id.isin(pr_simple), \"core\"] = 1\n",
    "    enh.loc[enh.enh_id.isin(pr_simple), \"core_remodeling\"] = 0\n",
    "    return enh\n",
    "\n",
    "def format_df(intersection_file):\n",
    "\n",
    "    cols = [\"chr_syn\", \"start_syn\", \"end_syn\",\n",
    "    \"enh_id\",\"chr\", \"start\", \"end\",\n",
    "    \"seg_index\", \"core_remodeling\", \"core\",\n",
    "    \"mrca\",\n",
    "    \"chr_tf\", \"start_tf\", \"end_tf\",\n",
    "    \"tf_id\", \"peak_len\",\n",
    "    \"tf\", \"cell_line\" , \"overlap\"\n",
    "    ]\n",
    "\n",
    "    df = pd.read_csv(intersection_file,\n",
    "    sep = '\\t',\n",
    "    header = None).drop_duplicates()\n",
    "\n",
    "    df.columns = cols # add column names\n",
    "\n",
    "    df[\"tf\"] = df[\"tf_id\"].apply(lambda x: x.split(\"_\")[0])\n",
    "\n",
    "    # add architecture label - core, derived, simple\n",
    "    df[\"arch\"] = \"simple\"\n",
    "    df.loc[(df.core_remodeling ==1) & (df.core ==1), \"arch\"] = \"complex_core\"\n",
    "    df.loc[(df.core_remodeling ==1) & (df.core ==0), \"arch\"] = \"complex_derived\"\n",
    "\n",
    "    # add architecture label - complex, simple\n",
    "    df[\"overallarch\"] = \"simple\"\n",
    "    df.loc[df.core_remodeling ==1, \"overallarch\"] = \"complex\"\n",
    "\n",
    "    # add syn identifier\n",
    "    df[\"syn_id\"] = df.chr_syn + \":\" + df.start_syn.map(str) + \"-\" + df.end_syn.map(str)\n",
    "\n",
    "    #calculate enhancer and syntenic block length\n",
    "    df[\"enh_len\"] = df.end - df.start\n",
    "    df[\"syn_len\"] = df.end_syn - df.start_syn\n",
    "    df.loc[df.syn_len <6, \"syn_len\"] = 0\n",
    "\n",
    "\n",
    "    # binary for TF overlap, any TF that overlaps less than 6bp is not counted.\n",
    "    df[\"tfoverlap_bin\"] = 1\n",
    "    df.loc[df.tf == \".\", \"tfoverlap_bin\"] = 0\n",
    "    df.loc[df.overlap <6 , \"tfoverlap_bin\"] = 0\n",
    "\n",
    "    return df\n",
    "\n",
    "\n",
    "def just_get_df(cell_line, val, fantombase, encodepath,):\n",
    "    print(cell_line, val)\n",
    "    fantom, encode, intersection = get_paths(cell_line, val, fantombase, encodepath)\n",
    "\n",
    "    #Bed command\n",
    "    bed_intersect(fantom, encode, intersection)\n",
    "\n",
    "    #dataframe\n",
    "    df = format_df(intersection)\n",
    "\n",
    "    return df\n",
    "\n",
    "\n",
    "def count_enhancers(df, arch):\n",
    "\n",
    "    if arch == \"enh\":\n",
    "        enh_df = df.groupby([\"enh_id\", \"core_remodeling\", \"overallarch\"])[[\"mrca\", \"seg_index\"]].max().reset_index()\n",
    "\n",
    "        totalenh_n = len(enh_df) #30279 enhancers total\n",
    "        simpleenh_n = len(enh_df.loc[enh_df.overallarch == \"simple\"]) #14098 simple enhancers\n",
    "        complexenh_n = len(enh_df.loc[enh_df.overallarch != \"simple\"]) # 8744 complex enhancers\n",
    "\n",
    "\n",
    "        return totalenh_n, simpleenh_n, complexenh_n\n",
    "\n",
    "    elif arch == \"syn\":\n",
    "\n",
    "        total = len(df)\n",
    "        core_n = df.loc[df.arch == \"complex_core\"][\"syn_id\"].count()\n",
    "        derived_n = df.loc[df.arch == \"complex_derived\"][\"syn_id\"].count()\n",
    "        simple_n = df.loc[df.arch == \"simple\"][\"syn_id\"].count()\n",
    "\n",
    "        return total, core_n, derived_n, simple_n\n",
    "\n",
    "\n",
    "def mwu(tf_density, arch):\n",
    "\n",
    "    # calculate means\n",
    "    median = (tf_density.groupby(\"arch\")[\"tf_density\"].median())\n",
    "    print(\"\\narchitecture medians\", median)\n",
    "\n",
    "    if arch == \"enh\":\n",
    "\n",
    "        #stratify dataframe by simple and complex arch\n",
    "        simple_tfden = tf_density.loc[tf_density.arch == \"simple\", \"tf_density\"]\n",
    "        complex_tfden = tf_density.loc[tf_density.arch == \"complex\", \"tf_density\"]\n",
    "\n",
    "        # calculate MWU\n",
    "        test_arch, p_arch = stats.mannwhitneyu(simple_tfden, complex_tfden)\n",
    "        print(\"\\n\", \"simple v. complex enh MWU stat =\", round(test_arch,3), \"p =\", p_arch )\n",
    "\n",
    "        return test_arch, p_arch, median\n",
    "\n",
    "    elif arch == \"syn\":\n",
    "\n",
    "        simple_tfden = tf_density.loc[tf_density.arch == \"simple\", \"tf_density\"]\n",
    "        core_tfden = tf_density.loc[tf_density.arch == \"complex_core\", \"tf_density\"]\n",
    "        derived_tfden = tf_density.loc[tf_density.arch == \"complex_derived\", \"tf_density\"]\n",
    "\n",
    "        testcore, pcore = stats.mannwhitneyu(simple_tfden, core_tfden)\n",
    "        print(\"\\n\", \"simple v. complexcore MWU stat =\", round(testcore,3), \"p =\", pcore)\n",
    "\n",
    "        test_der, p_der = stats.mannwhitneyu(derived_tfden, core_tfden)\n",
    "        print(\"\\n\", \"core v. derived MWU stat =\", round(test_der,3), \"p =\", p_der)\n",
    "\n",
    "        return testcore, pcore, test_der, p_der, median\n",
    "\n",
    "\n",
    "def calculate_tf_density(arch, df):\n",
    "\n",
    "    density_cols = [\"id\", \"len\", \"arch\", \"tfoverlap_bin\", \"tf_density\",]\n",
    "\n",
    "\n",
    "    if arch == \"enh\":\n",
    "\n",
    "        tf_density = df.groupby([\"enh_id\", \"enh_len\", \"overallarch\"])[\"tfoverlap_bin\"].sum().reset_index().drop_duplicates()\n",
    "        tf_density[\"tf_density\"] = tf_density[\"tfoverlap_bin\"].divide(tf_density.enh_len)\n",
    "\n",
    "\n",
    "    elif arch == \"syn\":\n",
    "\n",
    "        tf_density = df.groupby([\"syn_id\", \"syn_len\", \"arch\"])[\"tfoverlap_bin\"].sum().reset_index()\n",
    "        tf_density[\"tf_density\"] = tf_density[\"tfoverlap_bin\"].divide(tf_density.syn_len)\n",
    "\n",
    "    # rename columns\n",
    "    tf_density.columns = density_cols\n",
    "\n",
    "    # how many enhancers do not overlap  TFs?\n",
    "    zero_overlap = tf_density.loc[tf_density.tfoverlap_bin == 0].groupby(\"arch\")[\"id\"].count().reset_index()\n",
    "\n",
    "    return tf_density, zero_overlap\n",
    "\n",
    "\n",
    "def calculate_zero_syn_freq(zero_syn, df, cell_line, RE):\n",
    "\n",
    "    zero_syn.columns = ['arch', \"zero_counts\"]\n",
    "\n",
    "    arch_df = df[[\"arch\", \"syn_id\"]].drop_duplicates()\n",
    "\n",
    "    total_arch_counts = arch_df.groupby([\"arch\"])[\"syn_id\"].count().reset_index()\n",
    "    total_arch_counts.columns = ['arch', \"total_counts\"]\n",
    "\n",
    "    zero_syn = pd.merge(zero_syn, total_arch_counts, on = \"arch\")\n",
    "    zero_syn[\"freq_zero\"] = zero_syn.zero_counts.divide(zero_syn.total_counts)\n",
    "    zero_syn[\"freq_nonzero\"] = 1-zero_syn[\"freq_zero\"]\n",
    "\n",
    "    print(zero_syn)\n",
    "    zero_syn.to_csv('%snonzero_%s.csv' % (RE, cell_line), index = False)\n",
    "\n",
    "\n",
    "def plot_bar_tf_density(x, y, data, outf, order, p, med):\n",
    "\n",
    "    # plot enhancer TF density\n",
    "    fig, ax = plt.subplots(figsize = (6,6))\n",
    "    sns.set(\"poster\")\n",
    "\n",
    "    sns.barplot(x, y, data = data, estimator = np.median,\n",
    "    order = order, palette = yg, n_boot = 10000)\n",
    "\n",
    "    ax.set(\n",
    "    xlabel= \"p = %s\\n%s\" % (p,med),\n",
    "    title = outf.split(\"/\")[-1],\n",
    "    ylabel = \"TFBS density\\nmedian\"\n",
    "    )\n",
    "\n",
    "    plt.savefig(outf, bbox_inches = 'tight')\n",
    "\n",
    "\n",
    "def add_syn_age_annotation(syn_to_merge):\n",
    "    SYN_GROUP = \"/dors/capra_lab/projects/enhancer_ages/hg38_syn_taxon.bed\"\n",
    "    syn = pd.read_csv(SYN_GROUP, sep = '\\t')\n",
    "\n",
    "    # round all values\n",
    "\n",
    "    syn[[\"mrca\", \"mrca_2\"]] = syn[[\"mrca\", \"mrca_2\"]].round(3)\n",
    "    syn_to_merge.mrca = syn_to_merge.mrca.round(3)\n",
    "\n",
    "# do the dance - add mrca_2 column, get mrca_2 core age, drop mrca_2 column, then add it back, but this time to reflect the core_age and core taxon, instead of the syntenic age.\n",
    "    syn_merged = pd.merge(syn_to_merge, syn[[\"mrca\", \"mrca_2\"]], how = \"left\")\n",
    "\n",
    "    return syn_merged, syn\n",
    "\n",
    "\n",
    "def make_pdf(file_name, RE):\n",
    "\n",
    "    OUTFILE = file_name + \".pdf\"\n",
    "    OUTF = os.path.join(RE, OUTFILE)\n",
    "\n",
    "    return OUTF\n",
    "\n",
    "\n",
    "\n",
    "def prep_2x2(tf, arch1, arch2, df):\n",
    "\n",
    "    # only evaluate enhancers that overlap TF.\n",
    "    # This excludes enhancers with zero overlaps from background set.\n",
    "    df = df.loc[df.tfoverlap_bin >0]\n",
    "\n",
    "    # split dataframe by two architectures to compare\n",
    "    dfarch = df.loc[df.arch == arch1]\n",
    "\n",
    "    if arch2 == \"bkgd\":\n",
    "        arch2 = \"all_enh_bkgd\"\n",
    "        dfbkgd = df.loc[df.arch != arch1]\n",
    "\n",
    "    else:\n",
    "        dfbkgd = df.loc[df.arch == arch2]\n",
    "\n",
    "    comparison_name = tf + \"-\" + arch1 + \"_v_\" + arch2\n",
    "\n",
    "    # count how many TF overlaps are in each arch.\n",
    "    TF_in_arch = len(dfarch.loc[dfarch.tf == tf])\n",
    "    TF_bkgd = len(dfbkgd.loc[dfbkgd.tf == tf])\n",
    "    not_TF_in_arch = len(dfarch.loc[dfarch.tf != tf])\n",
    "    not_TF_in_bkgd = len(dfbkgd.loc[dfbkgd.tf != tf])\n",
    "\n",
    "    a, b, c, d = TF_in_arch, not_TF_in_arch, TF_bkgd, not_TF_in_bkgd\n",
    "\n",
    "\n",
    "    checkrowone = a + b\n",
    "\n",
    "    if checkrowone > 0:\n",
    "        obs = [[a,b], [c,d]]\n",
    "\n",
    "        return obs, comparison_name\n",
    "    else:\n",
    "        print(\"no obs for\", tf)\n",
    "\n",
    "        obs = [[0,0], [0,0]]\n",
    "\n",
    "        return obs, comparison_name\n",
    "\n",
    "\n",
    "def quantify_2x2(obs, comparison_name, min_instances):\n",
    "\n",
    "    if obs[0][0] > min_instances or obs[1][0]>min_instances:\n",
    "\n",
    "        OR, P = stats.fisher_exact(obs)\n",
    "        table = sm.stats.Table2x2(obs) # get confidence interval\n",
    "        odds_ci = table.oddsratio_confint()\n",
    "        newdf = pd.DataFrame({\"comparison_name\":comparison_name,\n",
    "                              \"a\":obs[0][0], \"b\":obs[0][1],\n",
    "                              \"c\":obs[1][0], \"d\":obs[1][1],\n",
    "                              \"OR\":[OR], \"P\":[P],\n",
    "                              \"ci_lower\" :[odds_ci[0]],\n",
    "                              \"ci_upper\" :[odds_ci[1]],\n",
    "                            })\n",
    "    else:\n",
    "        newdf = pd.DataFrame() # return empty dataframe\n",
    "\n",
    "\n",
    "    return newdf\n",
    "\n",
    "\n",
    "def fdr_correction(collection_dict, alpha):\n",
    "\n",
    "    df = pd.concat(collection_dict.values())\n",
    "\n",
    "    pvals = df[\"P\"]\n",
    "\n",
    "    df[\"reject_null\"], df[\"FDR_P\"] = statsmodels.stats.multitest.fdrcorrection(pvals, alpha=alpha)\n",
    "\n",
    "    # other dataframe formatting\n",
    "    df[\"arch\"] = df[\"comparison_name\"].apply(lambda x: x.split(\"-\")[1])\n",
    "    df[\"tf\"] = df[\"comparison_name\"].apply(lambda x: x.split(\"-\")[0])\n",
    "    df[\"log2\"]= np.log2(df[\"OR\"])\n",
    "\n",
    "    return df\n",
    "\n",
    "\n",
    "def plot_bar_tf_enrichment(df, cell_line, outf, alpha, taxon2):\n",
    "\n",
    "    fig, ax = plt.subplots(figsize = (6,12))\n",
    "    sns.set(\"poster\")\n",
    "\n",
    "    x = \"tf\"\n",
    "    y = \"log2\"\n",
    "    hue = \"arch\"\n",
    "    data = df.sort_values(by = y)\n",
    "\n",
    "    sns.barplot(x=y, y=x, data=data , hue = hue, palette = config.stemg)\n",
    "\n",
    "    ax.legend(bbox_to_anchor = (1,1))\n",
    "\n",
    "    if taxon2 !=None:\n",
    "        label = cell_line + \"_\" + taxon2\n",
    "    else:\n",
    "        label = cell_line\n",
    "\n",
    "    ax.set(xlabel = \"OR log2-scale\\n FDR<%s\" % str(alpha), title = label)\n",
    "\n",
    "    plt.savefig(outf, bbox_inches = \"tight\")\n",
    "\n",
    "\n",
    "def run_2x2(arch1, arch2, df, min_instances, alpha, taxon2):\n",
    "\n",
    "    collection_dict = {}\n",
    "\n",
    "    for tf in df.tf.unique():\n",
    "\n",
    "        if tf != \".\":\n",
    "\n",
    "            obs, comparison_name = prep_2x2(tf, arch1, arch2, df)\n",
    "\n",
    "            results = quantify_2x2(obs, comparison_name, min_instances)\n",
    "\n",
    "            if results.empty ==False:\n",
    "                collection_dict[comparison_name] = results\n",
    "\n",
    "    #FDR correction\n",
    "    if len(collection_dict) > 0: # if there are any results\n",
    "\n",
    "        results_df = fdr_correction(collection_dict, alpha)\n",
    "\n",
    "        df = results_df.loc[results_df.reject_null == True]\n",
    "\n",
    "\n",
    "        if len(df)>0: # if there are any significant results, plot them!\n",
    "\n",
    "            if taxon2 != None:\n",
    "                outf = make_pdf(\"%s_enh_x_encode3_sig_tf_arch_enrichment_%s_v_%s_FDR_%s_%s\" % (cell_line, arch1, arch2, alpha, taxon2), RE)\n",
    "                #plot_bar_tf_enrichment(df, cell_line, outf, alpha, taxon2)\n",
    "\n",
    "            else:\n",
    "                outf = make_pdf(\"%s_enh_x_encode3_sig_tf_arch_enrichment_%s_v_%s_FDR_%s\" % (cell_line, arch1, arch2, alpha), RE)\n",
    "                #plot_bar_tf_enrichment(df, cell_line, outf, alpha, taxon2)\n",
    "\n",
    "            return results_df\n",
    "\n",
    "        else:\n",
    "                print(\"\\nno sig results for comparison\", arch1, \"v.\", arch2, \"in\", taxon2)\n",
    "\n",
    "    else:\n",
    "        print(\"\\nnot any results for comparison\", arch1, \"v.\", arch2, \"in\", taxon2)"
   ]
  },
  {
   "cell_type": "code",
   "execution_count": 8,
   "id": "dcbe3cda",
   "metadata": {
    "ExecuteTime": {
     "end_time": "2021-12-23T02:09:14.078192Z",
     "start_time": "2021-12-23T02:09:14.061724Z"
    }
   },
   "outputs": [],
   "source": [
    "def run_analysis(cell_line, val, fantombase, encodepath, min_instances, alpha):\n",
    "\n",
    "    print(cell_line, val)\n",
    "    fantom, encode, intersection = get_paths(cell_line, val, fantombase, encodepath)\n",
    "    print(fantom, encode, intersection)\n",
    "    #Bed command\n",
    "    bed_intersect(fantom, encode, intersection)\n",
    "\n",
    "    #dataframe\n",
    "    df = format_df(intersection)\n",
    "\n",
    "    #get some basic info about Fantom enhancer overlap\n",
    "    arch = \"enh\"\n",
    "    totaln, simplen, complexn = count_enhancers(df, arch)\n",
    "\n",
    "    # calculate enhancer TF density\n",
    "    tf_density_enh, zero_enh = calculate_tf_density(arch, df)\n",
    "\n",
    "\n",
    "    # plot all enhancer-level data\n",
    "    x, y = \"arch\", \"tf_density\"\n",
    "    order = [\"simple\", \"complex\"]\n",
    "\n",
    "    data = tf_density_enh\n",
    "    outf = make_pdf(\"%s_enh_x_encode3_tf_density_%s\"  % (cell_line, arch), RE)\n",
    "\n",
    "    test_arch, p_arch, median = mwu(tf_density_enh, arch)\n",
    "    plot_bar_tf_density(x, y, data, outf, order, p_arch, median)\n",
    "\n",
    "\n",
    "    print(\"\\nNon-zero TFBS densities only\")\n",
    "\n",
    "\n",
    "    # plot all enhancer-level data without zeros\n",
    "    non_zero_tf_density = tf_density_enh.loc[tf_density_enh.tfoverlap_bin>0]\n",
    "\n",
    "    data = non_zero_tf_density\n",
    "    outf = make_pdf(\"%s_enh_x_encode3_tf_density_%s_non_zero_tf_density\" % (cell_line, arch), RE)\n",
    "    test_arch_, p_arch_, median = mwu(non_zero_tf_density, arch)\n",
    "    plot_bar_tf_density(x, y, data, outf, order, p_arch_, median)\n",
    "\n",
    "\n",
    "\n",
    "    # calculate syn-level TF density\n",
    "    arch = \"syn\"\n",
    "    totaln, coren, derivedn, simplen = count_enhancers(df, arch)\n",
    "    tf_density_syn, zero_syn = calculate_tf_density(arch, df)\n",
    "\n",
    "    # calculate frequency of derived sequences that do not overlap TFBS\n",
    "\n",
    "    calculate_zero_syn_freq(zero_syn, df, cell_line, RE)\n",
    "\n",
    "    print(\"\\nSyn TFBS densities\")\n",
    "    # plot syn block TF density\n",
    "    order = [\"simple\", \"complex_core\", \"complex_derived\"]\n",
    "    data = tf_density_syn\n",
    "    outf = make_pdf(\"%s_enh_x_encode3_tf_density_%s\" % (cell_line, arch), RE)\n",
    "\n",
    "    testcore, pcore, test_der, p_der, median = mwu(tf_density_syn, arch)\n",
    "    new_p = \"simple_v_core p = %s,  core_v_der= %s\" %(pcore, p_der)\n",
    "    plot_bar_tf_density(x, y, data, outf, order, new_p, median)\n",
    "\n",
    "\n",
    "    print(\"\\nNon-zero syn TFBS densities only\")\n",
    "    non_zero_syn_tf_density = tf_density_syn.loc[tf_density_syn.tfoverlap_bin>0]\n",
    "\n",
    "\n",
    "    # plot non-zero syn block TF density\n",
    "    data = non_zero_syn_tf_density\n",
    "    outf = make_pdf(\"%s_syn_x_encode3_tf_density_%s_non_zero_tf_density\" % (cell_line, arch), RE)\n",
    "\n",
    "    testcore, pcore, test_der, p_der, median = mwu(non_zero_syn_tf_density, arch)\n",
    "    new_p = \"simple_v_core p = %s,  core_v_der= %s\" %(pcore, p_der)\n",
    "    plot_bar_tf_density(x, y, data, outf, order, new_p, median)\n",
    "\n",
    "\n",
    "    ### TF ENRICHMENT IN ARCHITECTURE ###\n",
    "    # DER V. CORE\n",
    "    # DER V. BKGD\n",
    "\n",
    "    # calculate TF enrichment in architecture/syn blocks\n",
    "    arch1, arch2 = \"complex_derived\", \"complex_core\"\n",
    "    der_v_core = run_2x2(arch1, arch2, df, MIN_INSTANCES, ALPHA, None)\n",
    "\n",
    "    arch1, arch2 = \"complex_derived\", \"bkgd\"\n",
    "    der_v_bkgd = run_2x2(arch1, arch2, df, MIN_INSTANCES, ALPHA, None)\n",
    "\n",
    "    arch1, arch2 = \"simple\", \"complex_core\"\n",
    "    simple_v_core = run_2x2(arch1, arch2, df, MIN_INSTANCES, ALPHA, None)\n",
    "\n",
    "    arch1, arch2 = \"simple\", \"bkgd\"\n",
    "    simple_v_bkgd = run_2x2(arch1, arch2, df, MIN_INSTANCES, ALPHA, None)\n",
    "\n",
    "    arch1, arch2 = \"simple\", \"complex_derived\"\n",
    "    simple_v_der = run_2x2(arch1, arch2, df, MIN_INSTANCES, ALPHA, None)\n",
    "\n",
    "    arch1, arch2 = \"complex_core\", \"bkgd\"\n",
    "    core_v_bkgd = run_2x2(arch1, arch2, df, MIN_INSTANCES, ALPHA, None)\n",
    "\n",
    "    return der_v_core, der_v_bkgd, tf_density_enh, tf_density_syn, simple_v_core, simple_v_bkgd, simple_v_der, core_v_bkgd, df"
   ]
  },
  {
   "cell_type": "code",
   "execution_count": 9,
   "id": "4a083d8e",
   "metadata": {
    "ExecuteTime": {
     "end_time": "2021-12-23T02:09:14.086365Z",
     "start_time": "2021-12-23T02:09:14.081418Z"
    }
   },
   "outputs": [],
   "source": [
    "def lump_taxons(df):\n",
    "    # lump small samples with larger, older ancestors\n",
    "    df.loc[df.taxon2 == \"Sarcopterygian\", \"taxon2\"] = \"Vertebrata\"\n",
    "    df.loc[df.taxon2 == \"Tetrapoda\", \"taxon2\"] =\"Vertebrata\"\n",
    "    df.loc[df.taxon2 == \"Euarchontoglires\", \"taxon2\"] = \"Boreoeutheria\"\n",
    "\n",
    "    return df"
   ]
  },
  {
   "cell_type": "code",
   "execution_count": 39,
   "id": "26eae373",
   "metadata": {
    "ExecuteTime": {
     "end_time": "2021-12-23T02:11:39.254084Z",
     "start_time": "2021-12-23T02:11:39.230877Z"
    }
   },
   "outputs": [],
   "source": [
    "def get_counts(df, groupby_cols, groupby_val):\n",
    "\n",
    "    counts = df.groupby(groupby_cols)[groupby_val].sum().reset_index()\n",
    "\n",
    "    if \"mrca_2\" in groupby_cols and \"core_remodeling\" in groupby_cols:\n",
    "\n",
    "        empty = make_empty_dict(info_df) # make an empty df to fill architectures w/ no counts\n",
    "        counts = pd.merge(empty, counts, how = \"left\", on = groupby_cols).fillna(0)\n",
    "\n",
    "    elif \"core_mrca_2\" in groupby_cols and \"core_remodeling\" in groupby_cols:\n",
    "\n",
    "        empty = make_empty_dict(info_df) # make an empty df to fill architectures w/ no counts\n",
    "        empty.columns = [\"core_mrca_2\", \"core_remodeling\"]\n",
    "        counts = pd.merge(empty, counts, how = \"left\", on = groupby_cols).fillna(0)\n",
    "        #counts = pd.concat([counts, empty]) # concat the dataframe\n",
    "\n",
    "    # change count data to int\n",
    "    counts[groupby_val] = counts[groupby_val].astype(int)\n",
    "\n",
    "    # sort and reset the index. Seaborn plots by index value.\n",
    "    counts = counts.sort_values(by = groupby_cols).reset_index()\n",
    "\n",
    "    # drop the index column.\n",
    "    counts = counts.drop([\"index\"], axis = 1)\n",
    "\n",
    "    return counts\n",
    "\n",
    "\n",
    "def plot_annotate_counts(splot, counts_df, groupby_val, height_adjust):\n",
    "\n",
    "    # annotate plot with counts\n",
    "    for n, p in enumerate(splot.patches):\n",
    "\n",
    "        value = counts_df.iloc[n][groupby_val].astype(int)\n",
    "        #print(n, p, value)\n",
    "        if height_adjust == 0:\n",
    "            height_adjust = (p.get_height()-0.03)\n",
    "\n",
    "\n",
    "        splot.annotate(value,\n",
    "                       (p.get_x() + p.get_width() / 2.,height_adjust),\n",
    "                       ha = 'center', va = 'baseline',\n",
    "                       size=15,\n",
    "                       rotation = 90,\n",
    "                       color = \"k\",\n",
    "                       xytext = (0, 1),\n",
    "                       textcoords = 'offset points'\n",
    "                       )\n",
    "        \n",
    "def make_empty_dict(df):\n",
    "    # for when i need an empty dictionary with a complete set of architectures and values\n",
    "    emptydf_dict = {}\n",
    "    val = 0 # unique identifier\n",
    "    for mrca_2 in df.mrca_2.unique():\n",
    "        for arch in df.arch.unique():\n",
    "\n",
    "            emptydf = pd.DataFrame({ \"mrca_2\":[mrca_2], \"arch\":[arch],})\n",
    "            emptydf_dict[val] = emptydf\n",
    "            val+=1\n",
    "    empty = pd.concat(emptydf_dict.values())\n",
    "    return empty"
   ]
  },
  {
   "cell_type": "code",
   "execution_count": 11,
   "id": "642158d1",
   "metadata": {
    "ExecuteTime": {
     "end_time": "2021-12-23T02:09:14.111219Z",
     "start_time": "2021-12-23T02:09:14.101757Z"
    },
    "code_folding": [
     37
    ]
   },
   "outputs": [],
   "source": [
    "def plot_stratified_age(act_df, outf, x, cell_model):\n",
    "\n",
    "    y = \"activity\"\n",
    "    hue = \"arch\"\n",
    "    data = act_df\n",
    "    order = [\"core\", \"complex_core\", \"complex_derived\"]\n",
    "\n",
    "\n",
    "    fig, ax = plt.subplots(figsize = (6,6))\n",
    "    #fig, ax = plt.subplots()\n",
    "    sns.set(\"poster\")\n",
    "\n",
    "    splot = sns.barplot(x = x,\n",
    "    y = y,\n",
    "    data = data,\n",
    "    hue = hue,\n",
    "    hue_order = order,\n",
    "    palette = palette\n",
    "    )\n",
    "    labs = [\"Homo\", \"Prim\", \"Bore\", \"Euth\", \"Ther\", \"Mam\", \"Amni\", \"Tetr\", \"Vert\"]\n",
    "    ax.set(\n",
    "        #ylim = (0,0.02),\n",
    "        title = cell_model)\n",
    "    \n",
    "    ax.set_xticklabels(labs, rotation = 90)\n",
    "    \n",
    "    ax.invert_xaxis()\n",
    "    height_adjust = 0.001\n",
    "\n",
    "    groupby_cols, groupby_val = [\"core_remodeling\", x], \"counts\"\n",
    "    countdf = get_counts(act_df, groupby_cols, groupby_val)\n",
    "\n",
    "    plot_annotate_counts(splot, countdf, groupby_val, height_adjust)\n",
    "    ax.legend(bbox_to_anchor = (1,1))\n",
    "\n",
    "    plt.savefig(outf, bbox_inches = \"tight\")\n",
    "    return countdf\n",
    "\n",
    "\n",
    "def plot_distplot(df, cell_model, matching):\n",
    "    sns.distplot(df.loc[df.arch == \"complex_core\", \"syn_len\"], label = \"core\")\n",
    "    sns.distplot(df.loc[df.arch == \"complex_derived\", \"syn_len\"], label = \"der\")\n",
    "    plt.legend()\n",
    "    outf =  f\"{RE}{cell_model}_ernst_active_bases_dist_{matching}.pdf\"\n",
    "    plt.savefig(outf, bbox_inches = \"tight\")"
   ]
  },
  {
   "cell_type": "markdown",
   "id": "626d5445",
   "metadata": {
    "heading_collapsed": true
   },
   "source": [
    "# Get dataframe "
   ]
  },
  {
   "cell_type": "code",
   "execution_count": 12,
   "id": "26dceb35",
   "metadata": {
    "ExecuteTime": {
     "end_time": "2021-12-23T02:09:14.120221Z",
     "start_time": "2021-12-23T02:09:14.114673Z"
    },
    "hidden": true
   },
   "outputs": [],
   "source": [
    "#%% make a dictionary of the cell lines\n",
    "sample_dict = get_cell_lines(CL)"
   ]
  },
  {
   "cell_type": "code",
   "execution_count": 13,
   "id": "0b9bdd6b",
   "metadata": {
    "ExecuteTime": {
     "end_time": "2021-12-23T02:09:20.130828Z",
     "start_time": "2021-12-23T02:09:14.122211Z"
    },
    "hidden": true
   },
   "outputs": [
    {
     "name": "stdout",
     "output_type": "stream",
     "text": [
      "K562 ELS_combined_K562\n",
      "previously done enh x encode intersection\n"
     ]
    },
    {
     "data": {
      "text/html": [
       "<div>\n",
       "<style scoped>\n",
       "    .dataframe tbody tr th:only-of-type {\n",
       "        vertical-align: middle;\n",
       "    }\n",
       "\n",
       "    .dataframe tbody tr th {\n",
       "        vertical-align: top;\n",
       "    }\n",
       "\n",
       "    .dataframe thead th {\n",
       "        text-align: right;\n",
       "    }\n",
       "</style>\n",
       "<table border=\"1\" class=\"dataframe\">\n",
       "  <thead>\n",
       "    <tr style=\"text-align: right;\">\n",
       "      <th></th>\n",
       "      <th>chr_syn</th>\n",
       "      <th>start_syn</th>\n",
       "      <th>end_syn</th>\n",
       "      <th>enh_id</th>\n",
       "      <th>chr</th>\n",
       "      <th>start</th>\n",
       "      <th>end</th>\n",
       "      <th>seg_index</th>\n",
       "      <th>core_remodeling</th>\n",
       "      <th>core</th>\n",
       "      <th>...</th>\n",
       "      <th>peak_len</th>\n",
       "      <th>tf</th>\n",
       "      <th>cell_line</th>\n",
       "      <th>overlap</th>\n",
       "      <th>arch</th>\n",
       "      <th>overallarch</th>\n",
       "      <th>syn_id</th>\n",
       "      <th>enh_len</th>\n",
       "      <th>syn_len</th>\n",
       "      <th>tfoverlap_bin</th>\n",
       "    </tr>\n",
       "  </thead>\n",
       "  <tbody>\n",
       "    <tr>\n",
       "      <th>0</th>\n",
       "      <td>chr1</td>\n",
       "      <td>100036809</td>\n",
       "      <td>100037123</td>\n",
       "      <td>chr1:100036809-100037123</td>\n",
       "      <td>chr1</td>\n",
       "      <td>100036809</td>\n",
       "      <td>100037123</td>\n",
       "      <td>0</td>\n",
       "      <td>0</td>\n",
       "      <td>1</td>\n",
       "      <td>...</td>\n",
       "      <td>396</td>\n",
       "      <td>MAX</td>\n",
       "      <td>K562</td>\n",
       "      <td>30</td>\n",
       "      <td>simple</td>\n",
       "      <td>simple</td>\n",
       "      <td>chr1:100036809-100037123</td>\n",
       "      <td>314</td>\n",
       "      <td>314</td>\n",
       "      <td>1</td>\n",
       "    </tr>\n",
       "    <tr>\n",
       "      <th>1</th>\n",
       "      <td>chr1</td>\n",
       "      <td>100036809</td>\n",
       "      <td>100037123</td>\n",
       "      <td>chr1:100036809-100037123</td>\n",
       "      <td>chr1</td>\n",
       "      <td>100036809</td>\n",
       "      <td>100037123</td>\n",
       "      <td>0</td>\n",
       "      <td>0</td>\n",
       "      <td>1</td>\n",
       "      <td>...</td>\n",
       "      <td>540</td>\n",
       "      <td>HDAC1</td>\n",
       "      <td>K562</td>\n",
       "      <td>30</td>\n",
       "      <td>simple</td>\n",
       "      <td>simple</td>\n",
       "      <td>chr1:100036809-100037123</td>\n",
       "      <td>314</td>\n",
       "      <td>314</td>\n",
       "      <td>1</td>\n",
       "    </tr>\n",
       "    <tr>\n",
       "      <th>2</th>\n",
       "      <td>chr1</td>\n",
       "      <td>100036809</td>\n",
       "      <td>100037123</td>\n",
       "      <td>chr1:100036809-100037123</td>\n",
       "      <td>chr1</td>\n",
       "      <td>100036809</td>\n",
       "      <td>100037123</td>\n",
       "      <td>0</td>\n",
       "      <td>0</td>\n",
       "      <td>1</td>\n",
       "      <td>...</td>\n",
       "      <td>430</td>\n",
       "      <td>CBX3</td>\n",
       "      <td>K562</td>\n",
       "      <td>20</td>\n",
       "      <td>simple</td>\n",
       "      <td>simple</td>\n",
       "      <td>chr1:100036809-100037123</td>\n",
       "      <td>314</td>\n",
       "      <td>314</td>\n",
       "      <td>1</td>\n",
       "    </tr>\n",
       "    <tr>\n",
       "      <th>3</th>\n",
       "      <td>chr1</td>\n",
       "      <td>100036809</td>\n",
       "      <td>100037123</td>\n",
       "      <td>chr1:100036809-100037123</td>\n",
       "      <td>chr1</td>\n",
       "      <td>100036809</td>\n",
       "      <td>100037123</td>\n",
       "      <td>0</td>\n",
       "      <td>0</td>\n",
       "      <td>1</td>\n",
       "      <td>...</td>\n",
       "      <td>596</td>\n",
       "      <td>ZNF24</td>\n",
       "      <td>K562</td>\n",
       "      <td>30</td>\n",
       "      <td>simple</td>\n",
       "      <td>simple</td>\n",
       "      <td>chr1:100036809-100037123</td>\n",
       "      <td>314</td>\n",
       "      <td>314</td>\n",
       "      <td>1</td>\n",
       "    </tr>\n",
       "    <tr>\n",
       "      <th>4</th>\n",
       "      <td>chr1</td>\n",
       "      <td>100036809</td>\n",
       "      <td>100037123</td>\n",
       "      <td>chr1:100036809-100037123</td>\n",
       "      <td>chr1</td>\n",
       "      <td>100036809</td>\n",
       "      <td>100037123</td>\n",
       "      <td>0</td>\n",
       "      <td>0</td>\n",
       "      <td>1</td>\n",
       "      <td>...</td>\n",
       "      <td>280</td>\n",
       "      <td>JUND</td>\n",
       "      <td>K562</td>\n",
       "      <td>30</td>\n",
       "      <td>simple</td>\n",
       "      <td>simple</td>\n",
       "      <td>chr1:100036809-100037123</td>\n",
       "      <td>314</td>\n",
       "      <td>314</td>\n",
       "      <td>1</td>\n",
       "    </tr>\n",
       "  </tbody>\n",
       "</table>\n",
       "<p>5 rows × 25 columns</p>\n",
       "</div>"
      ],
      "text/plain": [
       "  chr_syn  start_syn    end_syn                    enh_id   chr      start  \\\n",
       "0    chr1  100036809  100037123  chr1:100036809-100037123  chr1  100036809   \n",
       "1    chr1  100036809  100037123  chr1:100036809-100037123  chr1  100036809   \n",
       "2    chr1  100036809  100037123  chr1:100036809-100037123  chr1  100036809   \n",
       "3    chr1  100036809  100037123  chr1:100036809-100037123  chr1  100036809   \n",
       "4    chr1  100036809  100037123  chr1:100036809-100037123  chr1  100036809   \n",
       "\n",
       "         end  seg_index  core_remodeling  core  ...  peak_len     tf  \\\n",
       "0  100037123          0                0     1  ...       396    MAX   \n",
       "1  100037123          0                0     1  ...       540  HDAC1   \n",
       "2  100037123          0                0     1  ...       430   CBX3   \n",
       "3  100037123          0                0     1  ...       596  ZNF24   \n",
       "4  100037123          0                0     1  ...       280   JUND   \n",
       "\n",
       "   cell_line  overlap    arch  overallarch                    syn_id enh_len  \\\n",
       "0       K562       30  simple       simple  chr1:100036809-100037123     314   \n",
       "1       K562       30  simple       simple  chr1:100036809-100037123     314   \n",
       "2       K562       20  simple       simple  chr1:100036809-100037123     314   \n",
       "3       K562       30  simple       simple  chr1:100036809-100037123     314   \n",
       "4       K562       30  simple       simple  chr1:100036809-100037123     314   \n",
       "\n",
       "   syn_len tfoverlap_bin  \n",
       "0      314             1  \n",
       "1      314             1  \n",
       "2      314             1  \n",
       "3      314             1  \n",
       "4      314             1  \n",
       "\n",
       "[5 rows x 25 columns]"
      ]
     },
     "execution_count": 13,
     "metadata": {},
     "output_type": "execute_result"
    }
   ],
   "source": [
    "#%% Load the dataframe\n",
    "\n",
    "val = f\"ELS_combined_{CL}\"\n",
    "df = just_get_df(CL, val, ENHBASE, ENCODEPATH)\n",
    "df.head()"
   ]
  },
  {
   "cell_type": "markdown",
   "id": "7bc096e6",
   "metadata": {
    "heading_collapsed": true
   },
   "source": [
    "# get rid of non-complex enhancers (i.e. enhancers < 6bp syntenic lengths)\n"
   ]
  },
  {
   "cell_type": "code",
   "execution_count": 14,
   "id": "1a49e071",
   "metadata": {
    "ExecuteTime": {
     "end_time": "2021-12-23T02:09:20.139664Z",
     "start_time": "2021-12-23T02:09:20.133372Z"
    },
    "hidden": true
   },
   "outputs": [],
   "source": [
    "def confirm_complex(df):\n",
    "    # get all enhancers w/ syn_lengs > 5 bp\n",
    "    cleaning = df.loc[df.syn_len>5].groupby([\"enh_id\", \"core_remodeling\", \"core\"])[\"arch\"].count().reset_index()\n",
    "    \n",
    "    # count how many syntenic regions belong to each core, derived, simple \n",
    "    complex_check = cleaning.groupby([\"enh_id\", \"core_remodeling\"])[\"core\"].count().reset_index()\n",
    "\n",
    "    # count the number of complex enhancers that no longer have 2 regions (core, derived)\n",
    "    not_complex_ids = complex_check.loc[(complex_check[\"core_remodeling\"]== 1) \n",
    "                  &(complex_check[\"core\"] <2), \"enh_id\"]\n",
    "    \n",
    "    return not_complex_ids"
   ]
  },
  {
   "cell_type": "code",
   "execution_count": 15,
   "id": "13992fab",
   "metadata": {
    "ExecuteTime": {
     "end_time": "2021-12-23T02:09:20.618261Z",
     "start_time": "2021-12-23T02:09:20.141270Z"
    },
    "hidden": true
   },
   "outputs": [],
   "source": [
    "blacklist =  confirm_complex(df)"
   ]
  },
  {
   "cell_type": "code",
   "execution_count": 16,
   "id": "c19d51ef",
   "metadata": {
    "ExecuteTime": {
     "end_time": "2021-12-23T02:09:20.804149Z",
     "start_time": "2021-12-23T02:09:20.620190Z"
    },
    "hidden": true
   },
   "outputs": [],
   "source": [
    "# remove all the enhancers\n",
    "df = df.loc[~df[\"enh_id\"].isin(blacklist)]"
   ]
  },
  {
   "cell_type": "markdown",
   "id": "b5f8d22d",
   "metadata": {},
   "source": [
    "# Analysis  of Zeros and non-zeros"
   ]
  },
  {
   "cell_type": "markdown",
   "id": "79c34a5f",
   "metadata": {
    "heading_collapsed": true
   },
   "source": [
    "### count overlaps per SUMMED core, derived, simple "
   ]
  },
  {
   "cell_type": "code",
   "execution_count": 17,
   "id": "e2523a15",
   "metadata": {
    "ExecuteTime": {
     "end_time": "2021-12-23T02:09:20.962190Z",
     "start_time": "2021-12-23T02:09:20.805859Z"
    },
    "hidden": true
   },
   "outputs": [],
   "source": [
    "test = df.groupby([\"enh_id\", \"core_remodeling\", \"core\"])[\"tfoverlap_bin\"].max().reset_index()"
   ]
  },
  {
   "cell_type": "code",
   "execution_count": 18,
   "id": "c105b2a1",
   "metadata": {
    "ExecuteTime": {
     "end_time": "2021-12-23T02:09:20.983216Z",
     "start_time": "2021-12-23T02:09:20.963837Z"
    },
    "hidden": true
   },
   "outputs": [
    {
     "data": {
      "text/html": [
       "<div>\n",
       "<style scoped>\n",
       "    .dataframe tbody tr th:only-of-type {\n",
       "        vertical-align: middle;\n",
       "    }\n",
       "\n",
       "    .dataframe tbody tr th {\n",
       "        vertical-align: top;\n",
       "    }\n",
       "\n",
       "    .dataframe thead th {\n",
       "        text-align: right;\n",
       "    }\n",
       "</style>\n",
       "<table border=\"1\" class=\"dataframe\">\n",
       "  <thead>\n",
       "    <tr style=\"text-align: right;\">\n",
       "      <th></th>\n",
       "      <th>core_remodeling</th>\n",
       "      <th>core</th>\n",
       "      <th>tfoverlap_bin</th>\n",
       "      <th>enh_id</th>\n",
       "    </tr>\n",
       "  </thead>\n",
       "  <tbody>\n",
       "    <tr>\n",
       "      <th>0</th>\n",
       "      <td>0</td>\n",
       "      <td>1</td>\n",
       "      <td>0</td>\n",
       "      <td>1379</td>\n",
       "    </tr>\n",
       "    <tr>\n",
       "      <th>1</th>\n",
       "      <td>0</td>\n",
       "      <td>1</td>\n",
       "      <td>1</td>\n",
       "      <td>20827</td>\n",
       "    </tr>\n",
       "    <tr>\n",
       "      <th>2</th>\n",
       "      <td>1</td>\n",
       "      <td>0</td>\n",
       "      <td>0</td>\n",
       "      <td>4028</td>\n",
       "    </tr>\n",
       "    <tr>\n",
       "      <th>3</th>\n",
       "      <td>1</td>\n",
       "      <td>0</td>\n",
       "      <td>1</td>\n",
       "      <td>16159</td>\n",
       "    </tr>\n",
       "    <tr>\n",
       "      <th>4</th>\n",
       "      <td>1</td>\n",
       "      <td>1</td>\n",
       "      <td>0</td>\n",
       "      <td>3112</td>\n",
       "    </tr>\n",
       "    <tr>\n",
       "      <th>5</th>\n",
       "      <td>1</td>\n",
       "      <td>1</td>\n",
       "      <td>1</td>\n",
       "      <td>17075</td>\n",
       "    </tr>\n",
       "  </tbody>\n",
       "</table>\n",
       "</div>"
      ],
      "text/plain": [
       "   core_remodeling  core  tfoverlap_bin  enh_id\n",
       "0                0     1              0    1379\n",
       "1                0     1              1   20827\n",
       "2                1     0              0    4028\n",
       "3                1     0              1   16159\n",
       "4                1     1              0    3112\n",
       "5                1     1              1   17075"
      ]
     },
     "execution_count": 18,
     "metadata": {},
     "output_type": "execute_result"
    }
   ],
   "source": [
    "counts = test.groupby(\n",
    "    [\"core_remodeling\", \"core\", \"tfoverlap_bin\"]\n",
    "    )[\"enh_id\"].count().reset_index()\n",
    "counts"
   ]
  },
  {
   "cell_type": "markdown",
   "id": "5df382fa",
   "metadata": {
    "ExecuteTime": {
     "end_time": "2021-12-17T19:00:16.349810Z",
     "start_time": "2021-12-17T19:00:16.340559Z"
    },
    "heading_collapsed": true
   },
   "source": [
    "### how many derived, core, simple regions bind TFBS? "
   ]
  },
  {
   "cell_type": "code",
   "execution_count": 19,
   "id": "9f38e90b",
   "metadata": {
    "ExecuteTime": {
     "end_time": "2021-12-23T02:09:21.000517Z",
     "start_time": "2021-12-23T02:09:20.985651Z"
    },
    "hidden": true
   },
   "outputs": [
    {
     "name": "stdout",
     "output_type": "stream",
     "text": [
      "non-zero der 0.8004656462079556\n",
      "non-zero core 0.8458413830683112\n",
      "non-zero simple 0.9378996667567324\n"
     ]
    }
   ],
   "source": [
    "simple = counts.loc[counts[\"core_remodeling\"] == 0]\n",
    "core = counts.loc[(counts[\"core_remodeling\"] == 1)& (counts[\"core\"]==1)]\n",
    "der = counts.loc[counts[\"core\"]==0]\n",
    "\n",
    "print(\"non-zero der\", der.loc[der[\"tfoverlap_bin\"] ==1, \"enh_id\"].iloc[0]/der[\"enh_id\"].sum())\n",
    "print(\"non-zero core\", core.loc[core[\"tfoverlap_bin\"] ==1, \"enh_id\"].iloc[0]/core[\"enh_id\"].sum())\n",
    "print(\"non-zero simple\",  simple.loc[simple[\"tfoverlap_bin\"] ==1, \"enh_id\"].iloc[0]/simple[\"enh_id\"].sum())"
   ]
  },
  {
   "cell_type": "markdown",
   "id": "0c159a5f",
   "metadata": {
    "heading_collapsed": true
   },
   "source": [
    "### How many total"
   ]
  },
  {
   "cell_type": "code",
   "execution_count": 20,
   "id": "8dbf5ce2",
   "metadata": {
    "ExecuteTime": {
     "end_time": "2021-12-23T02:09:21.009875Z",
     "start_time": "2021-12-23T02:09:21.002242Z"
    },
    "hidden": true
   },
   "outputs": [
    {
     "data": {
      "text/plain": [
       "(20187, 20187, 22206)"
      ]
     },
     "execution_count": 20,
     "metadata": {},
     "output_type": "execute_result"
    }
   ],
   "source": [
    "# complex, simple\n",
    "der[\"enh_id\"].sum(), core[\"enh_id\"].sum(), simple[\"enh_id\"].sum()"
   ]
  },
  {
   "cell_type": "markdown",
   "id": "2d99030a",
   "metadata": {
    "heading_collapsed": true
   },
   "source": [
    "### how many enhancers lack TFBS in BOTH core and derived? \n",
    "3222 simple and 2990 complex enhancers have NO evidence of TFBS binding. "
   ]
  },
  {
   "cell_type": "code",
   "execution_count": 21,
   "id": "0bbd7214",
   "metadata": {
    "ExecuteTime": {
     "end_time": "2021-12-23T02:09:21.062584Z",
     "start_time": "2021-12-23T02:09:21.011872Z"
    },
    "hidden": true
   },
   "outputs": [
    {
     "data": {
      "text/html": [
       "<div>\n",
       "<style scoped>\n",
       "    .dataframe tbody tr th:only-of-type {\n",
       "        vertical-align: middle;\n",
       "    }\n",
       "\n",
       "    .dataframe tbody tr th {\n",
       "        vertical-align: top;\n",
       "    }\n",
       "\n",
       "    .dataframe thead th {\n",
       "        text-align: right;\n",
       "    }\n",
       "</style>\n",
       "<table border=\"1\" class=\"dataframe\">\n",
       "  <thead>\n",
       "    <tr style=\"text-align: right;\">\n",
       "      <th></th>\n",
       "      <th>core_remodeling</th>\n",
       "      <th>tfoverlap_bin</th>\n",
       "      <th>enh_id</th>\n",
       "    </tr>\n",
       "  </thead>\n",
       "  <tbody>\n",
       "    <tr>\n",
       "      <th>0</th>\n",
       "      <td>0</td>\n",
       "      <td>0</td>\n",
       "      <td>1379</td>\n",
       "    </tr>\n",
       "    <tr>\n",
       "      <th>1</th>\n",
       "      <td>0</td>\n",
       "      <td>1</td>\n",
       "      <td>20827</td>\n",
       "    </tr>\n",
       "    <tr>\n",
       "      <th>2</th>\n",
       "      <td>1</td>\n",
       "      <td>0</td>\n",
       "      <td>1095</td>\n",
       "    </tr>\n",
       "    <tr>\n",
       "      <th>3</th>\n",
       "      <td>1</td>\n",
       "      <td>1</td>\n",
       "      <td>19092</td>\n",
       "    </tr>\n",
       "  </tbody>\n",
       "</table>\n",
       "</div>"
      ],
      "text/plain": [
       "   core_remodeling  tfoverlap_bin  enh_id\n",
       "0                0              0    1379\n",
       "1                0              1   20827\n",
       "2                1              0    1095\n",
       "3                1              1   19092"
      ]
     },
     "execution_count": 21,
     "metadata": {},
     "output_type": "execute_result"
    }
   ],
   "source": [
    "any_zero = test.groupby([\"enh_id\", \"core_remodeling\"])[\"tfoverlap_bin\"].max().reset_index() # groupby by complex simple (not core derived) and evaluate n TFBS overlap\n",
    "both_zero = any_zero.loc[any_zero[\"tfoverlap_bin\"] ==0, \"enh_id\"]\n",
    "any_zero.groupby([\"core_remodeling\", \"tfoverlap_bin\"])[\"enh_id\"].count().reset_index()"
   ]
  },
  {
   "cell_type": "markdown",
   "id": "e2d33c54",
   "metadata": {
    "heading_collapsed": true
   },
   "source": [
    "### removing enhancers that do not bind TFBS (simple or in both core/derived regions) , how many enhancers regions have no TFBS??\n",
    "\n",
    "in other words, a TFBS must bind the enhancer. If a region has no evidence for binding, is it a core or derived region? "
   ]
  },
  {
   "cell_type": "code",
   "execution_count": 22,
   "id": "3dc3d0af",
   "metadata": {
    "ExecuteTime": {
     "end_time": "2021-12-23T02:09:21.086370Z",
     "start_time": "2021-12-23T02:09:21.064658Z"
    },
    "hidden": true
   },
   "outputs": [],
   "source": [
    "counts_ = test.loc[~test.enh_id.isin(both_zero)].groupby(\n",
    "    [\"core_remodeling\", \"core\", \"tfoverlap_bin\"]\n",
    "    )[\"enh_id\"].count().reset_index()"
   ]
  },
  {
   "cell_type": "code",
   "execution_count": 23,
   "id": "897f0a50",
   "metadata": {
    "ExecuteTime": {
     "end_time": "2021-12-23T02:09:21.101967Z",
     "start_time": "2021-12-23T02:09:21.090602Z"
    },
    "hidden": true
   },
   "outputs": [
    {
     "name": "stdout",
     "output_type": "stream",
     "text": [
      "non-zero der 0.8463754452126545\n",
      "non-zero core 0.8943536559815629\n",
      "non-zero simple 1.0\n"
     ]
    }
   ],
   "source": [
    "simple = counts_.loc[counts_[\"core_remodeling\"] == 0]\n",
    "core = counts_.loc[(counts_[\"core_remodeling\"] == 1)& (counts_[\"core\"]==1)]\n",
    "der = counts_.loc[counts_[\"core\"]==0]\n",
    "\n",
    "print(\"non-zero der\", der.loc[der[\"tfoverlap_bin\"] ==1, \"enh_id\"].iloc[0]/der[\"enh_id\"].sum())\n",
    "print(\"non-zero core\", core.loc[core[\"tfoverlap_bin\"] ==1, \"enh_id\"].iloc[0]/core[\"enh_id\"].sum())\n",
    "print(\"non-zero simple\",  simple.loc[simple[\"tfoverlap_bin\"] ==1, \"enh_id\"].iloc[0]/simple[\"enh_id\"].sum())"
   ]
  },
  {
   "cell_type": "markdown",
   "id": "e3820fd7",
   "metadata": {
    "heading_collapsed": true
   },
   "source": [
    "## get some basic info about enhancer landscapes (simple v. complex), overlap with TFBS\n",
    "\n",
    "### Syntenic-block level"
   ]
  },
  {
   "cell_type": "code",
   "execution_count": 24,
   "id": "fa17753e",
   "metadata": {
    "ExecuteTime": {
     "end_time": "2021-12-23T02:09:21.321680Z",
     "start_time": "2021-12-23T02:09:21.104771Z"
    },
    "hidden": true
   },
   "outputs": [
    {
     "data": {
      "text/plain": [
       "(42393, 22206, 20187)"
      ]
     },
     "execution_count": 24,
     "metadata": {},
     "output_type": "execute_result"
    }
   ],
   "source": [
    "arch = \"enh\"\n",
    "totaln, simplen, complexn = count_enhancers(df, arch)\n",
    "totaln, simplen, complexn"
   ]
  },
  {
   "cell_type": "code",
   "execution_count": 25,
   "id": "153fd63a",
   "metadata": {
    "ExecuteTime": {
     "end_time": "2021-12-23T02:09:21.535354Z",
     "start_time": "2021-12-23T02:09:21.323443Z"
    },
    "hidden": true
   },
   "outputs": [
    {
     "data": {
      "text/plain": [
       "2474"
      ]
     },
     "execution_count": 25,
     "metadata": {},
     "output_type": "execute_result"
    }
   ],
   "source": [
    "# calculate enhancer TF density\n",
    "tf_density_enh, zero_enh = calculate_tf_density(arch, df)\n",
    "zero_enh.id.sum()"
   ]
  },
  {
   "cell_type": "markdown",
   "id": "fae23687",
   "metadata": {},
   "source": [
    "## ZERO TABLE"
   ]
  },
  {
   "cell_type": "code",
   "execution_count": 26,
   "id": "eb5be48f",
   "metadata": {
    "ExecuteTime": {
     "end_time": "2021-12-23T02:09:22.402477Z",
     "start_time": "2021-12-23T02:09:21.537839Z"
    }
   },
   "outputs": [
    {
     "name": "stdout",
     "output_type": "stream",
     "text": [
      "              arch  zero_counts  total_counts  freq_zero  freq_nonzero\n",
      "0     complex_core         5731         26728   0.214419      0.785581\n",
      "1  complex_derived        16572         40110   0.413164      0.586836\n",
      "2           simple         1587         22768   0.069703      0.930297\n"
     ]
    },
    {
     "data": {
      "text/html": [
       "<div>\n",
       "<style scoped>\n",
       "    .dataframe tbody tr th:only-of-type {\n",
       "        vertical-align: middle;\n",
       "    }\n",
       "\n",
       "    .dataframe tbody tr th {\n",
       "        vertical-align: top;\n",
       "    }\n",
       "\n",
       "    .dataframe thead th {\n",
       "        text-align: right;\n",
       "    }\n",
       "</style>\n",
       "<table border=\"1\" class=\"dataframe\">\n",
       "  <thead>\n",
       "    <tr style=\"text-align: right;\">\n",
       "      <th></th>\n",
       "      <th>id</th>\n",
       "      <th>len</th>\n",
       "      <th>arch</th>\n",
       "      <th>tfoverlap_bin</th>\n",
       "      <th>tf_density</th>\n",
       "    </tr>\n",
       "  </thead>\n",
       "  <tbody>\n",
       "    <tr>\n",
       "      <th>0</th>\n",
       "      <td>chr10:100185328-100185374</td>\n",
       "      <td>46</td>\n",
       "      <td>complex_derived</td>\n",
       "      <td>0</td>\n",
       "      <td>0.0</td>\n",
       "    </tr>\n",
       "    <tr>\n",
       "      <th>1</th>\n",
       "      <td>chr10:100185374-100185411</td>\n",
       "      <td>37</td>\n",
       "      <td>complex_derived</td>\n",
       "      <td>0</td>\n",
       "      <td>0.0</td>\n",
       "    </tr>\n",
       "    <tr>\n",
       "      <th>2</th>\n",
       "      <td>chr10:100185411-100185419</td>\n",
       "      <td>8</td>\n",
       "      <td>complex_derived</td>\n",
       "      <td>0</td>\n",
       "      <td>0.0</td>\n",
       "    </tr>\n",
       "    <tr>\n",
       "      <th>3</th>\n",
       "      <td>chr10:100185419-100185506</td>\n",
       "      <td>87</td>\n",
       "      <td>complex_core</td>\n",
       "      <td>0</td>\n",
       "      <td>0.0</td>\n",
       "    </tr>\n",
       "    <tr>\n",
       "      <th>4</th>\n",
       "      <td>chr10:100185506-100185507</td>\n",
       "      <td>0</td>\n",
       "      <td>complex_derived</td>\n",
       "      <td>0</td>\n",
       "      <td>NaN</td>\n",
       "    </tr>\n",
       "  </tbody>\n",
       "</table>\n",
       "</div>"
      ],
      "text/plain": [
       "                          id  len             arch  tfoverlap_bin  tf_density\n",
       "0  chr10:100185328-100185374   46  complex_derived              0         0.0\n",
       "1  chr10:100185374-100185411   37  complex_derived              0         0.0\n",
       "2  chr10:100185411-100185419    8  complex_derived              0         0.0\n",
       "3  chr10:100185419-100185506   87     complex_core              0         0.0\n",
       "4  chr10:100185506-100185507    0  complex_derived              0         NaN"
      ]
     },
     "execution_count": 26,
     "metadata": {},
     "output_type": "execute_result"
    }
   ],
   "source": [
    "# get some basic infor about syntenic landscapes (simple v. core v. derived),\n",
    "arch = \"syn\"\n",
    "totaln, coren, derivedn, simplen = count_enhancers(df, arch) # count the total n syntenic regions\n",
    "tf_density_syn, zero_syn = calculate_tf_density(arch, df)  # calculate tfbs density w and w/o zeros\n",
    "calculate_zero_syn_freq(zero_syn, df, CL, RE)\n",
    "\n",
    "\n",
    "tf_density_syn.head()"
   ]
  },
  {
   "cell_type": "code",
   "execution_count": 27,
   "id": "22ade718",
   "metadata": {
    "ExecuteTime": {
     "end_time": "2021-12-23T02:09:22.454763Z",
     "start_time": "2021-12-23T02:09:22.404206Z"
    }
   },
   "outputs": [
    {
     "name": "stdout",
     "output_type": "stream",
     "text": [
      "\n",
      "architecture medians arch\n",
      "complex_core       0.061947\n",
      "complex_derived    0.074627\n",
      "simple             0.046512\n",
      "Name: tf_density, dtype: float64\n",
      "\n",
      " simple v. complexcore MWU stat = 191530371.5 p = 1.2685025117387805e-134\n",
      "\n",
      " core v. derived MWU stat = 226291873.0 p = 1.2190397518136607e-53\n"
     ]
    }
   ],
   "source": [
    "#%% evaluate the non-zero syntenic blocks only.\n",
    "\n",
    "non_zero_syn_tf_density = tf_density_syn.loc[tf_density_syn.tfoverlap_bin>0]\n",
    "non_zero_syn_tf_density.groupby(\"arch\")[\"tf_density\"].median()\n",
    "\n",
    "testcore, pcore, test_der, p_der, median = mwu(non_zero_syn_tf_density, arch)"
   ]
  },
  {
   "cell_type": "markdown",
   "id": "ec8e0d92",
   "metadata": {},
   "source": [
    "## get ages for core, derived, simple regions"
   ]
  },
  {
   "cell_type": "code",
   "execution_count": 28,
   "id": "afb43cb8",
   "metadata": {
    "ExecuteTime": {
     "end_time": "2021-12-23T02:09:22.833839Z",
     "start_time": "2021-12-23T02:09:22.456875Z"
    }
   },
   "outputs": [
    {
     "data": {
      "text/html": [
       "<div>\n",
       "<style scoped>\n",
       "    .dataframe tbody tr th:only-of-type {\n",
       "        vertical-align: middle;\n",
       "    }\n",
       "\n",
       "    .dataframe tbody tr th {\n",
       "        vertical-align: top;\n",
       "    }\n",
       "\n",
       "    .dataframe thead th {\n",
       "        text-align: right;\n",
       "    }\n",
       "</style>\n",
       "<table border=\"1\" class=\"dataframe\">\n",
       "  <thead>\n",
       "    <tr style=\"text-align: right;\">\n",
       "      <th></th>\n",
       "      <th>enh_id</th>\n",
       "      <th>syn_id</th>\n",
       "      <th>syn_len</th>\n",
       "      <th>arch</th>\n",
       "      <th>mrca</th>\n",
       "      <th>tfoverlap_bin</th>\n",
       "    </tr>\n",
       "  </thead>\n",
       "  <tbody>\n",
       "    <tr>\n",
       "      <th>0</th>\n",
       "      <td>chr10:100185328-100185532</td>\n",
       "      <td>chr10:100185328-100185374</td>\n",
       "      <td>46</td>\n",
       "      <td>complex_derived</td>\n",
       "      <td>0.190</td>\n",
       "      <td>0</td>\n",
       "    </tr>\n",
       "    <tr>\n",
       "      <th>1</th>\n",
       "      <td>chr10:100185328-100185532</td>\n",
       "      <td>chr10:100185374-100185411</td>\n",
       "      <td>37</td>\n",
       "      <td>complex_derived</td>\n",
       "      <td>0.606</td>\n",
       "      <td>0</td>\n",
       "    </tr>\n",
       "    <tr>\n",
       "      <th>2</th>\n",
       "      <td>chr10:100185328-100185532</td>\n",
       "      <td>chr10:100185411-100185419</td>\n",
       "      <td>8</td>\n",
       "      <td>complex_derived</td>\n",
       "      <td>0.190</td>\n",
       "      <td>0</td>\n",
       "    </tr>\n",
       "    <tr>\n",
       "      <th>3</th>\n",
       "      <td>chr10:100185328-100185532</td>\n",
       "      <td>chr10:100185419-100185506</td>\n",
       "      <td>87</td>\n",
       "      <td>complex_core</td>\n",
       "      <td>0.867</td>\n",
       "      <td>0</td>\n",
       "    </tr>\n",
       "    <tr>\n",
       "      <th>4</th>\n",
       "      <td>chr10:100185328-100185532</td>\n",
       "      <td>chr10:100185506-100185507</td>\n",
       "      <td>0</td>\n",
       "      <td>complex_derived</td>\n",
       "      <td>0.756</td>\n",
       "      <td>0</td>\n",
       "    </tr>\n",
       "  </tbody>\n",
       "</table>\n",
       "</div>"
      ],
      "text/plain": [
       "                      enh_id                     syn_id  syn_len  \\\n",
       "0  chr10:100185328-100185532  chr10:100185328-100185374       46   \n",
       "1  chr10:100185328-100185532  chr10:100185374-100185411       37   \n",
       "2  chr10:100185328-100185532  chr10:100185411-100185419        8   \n",
       "3  chr10:100185328-100185532  chr10:100185419-100185506       87   \n",
       "4  chr10:100185328-100185532  chr10:100185506-100185507        0   \n",
       "\n",
       "              arch   mrca  tfoverlap_bin  \n",
       "0  complex_derived  0.190              0  \n",
       "1  complex_derived  0.606              0  \n",
       "2  complex_derived  0.190              0  \n",
       "3     complex_core  0.867              0  \n",
       "4  complex_derived  0.756              0  "
      ]
     },
     "execution_count": 28,
     "metadata": {},
     "output_type": "execute_result"
    }
   ],
   "source": [
    "#%% Let's group the dataframe to get syntenic blocks and their TFBS overlap.\n",
    "\n",
    "syn_ages = df.groupby([\"enh_id\",\"syn_id\", \"syn_len\", \"arch\", \"mrca\"])[\"tfoverlap_bin\"].sum().reset_index()\n",
    "syn_ages.head()"
   ]
  },
  {
   "cell_type": "markdown",
   "id": "03f3fb2c",
   "metadata": {
    "ExecuteTime": {
     "end_time": "2021-12-22T22:54:27.567895Z",
     "start_time": "2021-12-22T22:54:27.371723Z"
    }
   },
   "source": [
    "## do some age formatting, get core ages"
   ]
  },
  {
   "cell_type": "code",
   "execution_count": 29,
   "id": "10e5ea14",
   "metadata": {
    "ExecuteTime": {
     "end_time": "2021-12-23T02:09:22.977437Z",
     "start_time": "2021-12-23T02:09:22.836334Z"
    }
   },
   "outputs": [],
   "source": [
    "syn_ages, syn = add_syn_age_annotation(syn_ages) # add MRCA_2 annotations\n",
    "\n",
    "syn_ages = get_core_age(syn_ages) # annotate core ages for each syntenic block.\n",
    "\n",
    "syn_ages = syn_ages.rename(columns = {\"mrca_2\":\"syn_mrca_2\"})# rename column, preserve the mrca_2 annotation per syntenic block\n",
    "\n",
    "# add core_mrca_2 taxon annotations\n",
    "syn_ages = pd.merge(syn_ages, syn[[\"mrca_2\", \"taxon2\"]], how = \"left\",\n",
    "                    left_on = \"core_mrca_2\", right_on = \"mrca_2\")\n",
    "\n",
    "# include only the values greater than 5\n",
    "syn_ages = syn_ages.loc[syn_ages.syn_len >5]\n",
    "\n",
    "# make a boolean for TFBS overlapping syntenic block\n",
    "syn_ages[\"tfbs_bool\"] = False\n",
    "syn_ages.loc[syn_ages.tfoverlap_bin >0, \"tfbs_bool\"] = True"
   ]
  },
  {
   "cell_type": "code",
   "execution_count": 30,
   "id": "438fbd42",
   "metadata": {
    "ExecuteTime": {
     "end_time": "2021-12-23T02:09:23.015811Z",
     "start_time": "2021-12-23T02:09:22.979111Z"
    }
   },
   "outputs": [
    {
     "data": {
      "text/html": [
       "<div>\n",
       "<style scoped>\n",
       "    .dataframe tbody tr th:only-of-type {\n",
       "        vertical-align: middle;\n",
       "    }\n",
       "\n",
       "    .dataframe tbody tr th {\n",
       "        vertical-align: top;\n",
       "    }\n",
       "\n",
       "    .dataframe thead th {\n",
       "        text-align: right;\n",
       "    }\n",
       "</style>\n",
       "<table border=\"1\" class=\"dataframe\">\n",
       "  <thead>\n",
       "    <tr style=\"text-align: right;\">\n",
       "      <th></th>\n",
       "      <th>syn_mrca_2</th>\n",
       "      <th>arch</th>\n",
       "      <th>mrca_zero_counts</th>\n",
       "      <th>total_arch</th>\n",
       "      <th>frac_of_arch</th>\n",
       "    </tr>\n",
       "  </thead>\n",
       "  <tbody>\n",
       "    <tr>\n",
       "      <th>0</th>\n",
       "      <td>0.000</td>\n",
       "      <td>complex_derived</td>\n",
       "      <td>25</td>\n",
       "      <td>32884</td>\n",
       "      <td>0.000760</td>\n",
       "    </tr>\n",
       "    <tr>\n",
       "      <th>1</th>\n",
       "      <td>0.144</td>\n",
       "      <td>complex_core</td>\n",
       "      <td>24</td>\n",
       "      <td>26291</td>\n",
       "      <td>0.000913</td>\n",
       "    </tr>\n",
       "    <tr>\n",
       "      <th>2</th>\n",
       "      <td>0.144</td>\n",
       "      <td>complex_derived</td>\n",
       "      <td>855</td>\n",
       "      <td>32884</td>\n",
       "      <td>0.026000</td>\n",
       "    </tr>\n",
       "    <tr>\n",
       "      <th>3</th>\n",
       "      <td>0.144</td>\n",
       "      <td>simple</td>\n",
       "      <td>2136</td>\n",
       "      <td>40969</td>\n",
       "      <td>0.052137</td>\n",
       "    </tr>\n",
       "    <tr>\n",
       "      <th>4</th>\n",
       "      <td>0.146</td>\n",
       "      <td>complex_core</td>\n",
       "      <td>43</td>\n",
       "      <td>26291</td>\n",
       "      <td>0.001636</td>\n",
       "    </tr>\n",
       "  </tbody>\n",
       "</table>\n",
       "</div>"
      ],
      "text/plain": [
       "   syn_mrca_2             arch  mrca_zero_counts  total_arch  frac_of_arch\n",
       "0       0.000  complex_derived                25       32884      0.000760\n",
       "1       0.144     complex_core                24       26291      0.000913\n",
       "2       0.144  complex_derived               855       32884      0.026000\n",
       "3       0.144           simple              2136       40969      0.052137\n",
       "4       0.146     complex_core                43       26291      0.001636"
      ]
     },
     "execution_count": 30,
     "metadata": {},
     "output_type": "execute_result"
    }
   ],
   "source": [
    "#%% # evaluate zeros as a fraction of the total architecture\n",
    "\n",
    "zeros_only = syn_ages.loc[syn_ages.tfoverlap_bin ==0]\n",
    "\n",
    "gz = zeros_only.groupby([\"syn_mrca_2\", \"arch\"])[\"enh_id\"].count().reset_index()\n",
    "\n",
    "gz.columns = [\"syn_mrca_2\", \"arch\", 'mrca_zero_counts']\n",
    "\n",
    "totals = syn_ages.groupby([\"arch\"])[\"enh_id\"].count().reset_index()\n",
    "totals.columns = [\"arch\", \"total_arch\"]\n",
    "\n",
    "gz = pd.merge(gz, totals, how = \"left\")\n",
    "gz[\"frac_of_arch\"] = gz.mrca_zero_counts.divide(gz.total_arch)\n",
    "gz.head()"
   ]
  },
  {
   "cell_type": "markdown",
   "id": "5cec94a5",
   "metadata": {},
   "source": [
    "## evaluate % regions w/ zero overlap across entire region set \n",
    "##### BIASED BY DIFFERENT NUMBERS OF ENHANCERS PER AGE, BETTER TO DO WITHIN AGE % PER CORE, DERIVED, SIMPLE"
   ]
  },
  {
   "cell_type": "code",
   "execution_count": 31,
   "id": "9f3901fc",
   "metadata": {
    "ExecuteTime": {
     "end_time": "2021-12-23T02:09:23.382923Z",
     "start_time": "2021-12-23T02:09:23.018649Z"
    }
   },
   "outputs": [
    {
     "data": {
      "text/plain": [
       "<matplotlib.legend.Legend at 0x2b47d5ff6588>"
      ]
     },
     "execution_count": 31,
     "metadata": {},
     "output_type": "execute_result"
    },
    {
     "data": {
      "image/png": "[encoded data removed]",
      "text/plain": [
       "<Figure size 432x288 with 1 Axes>"
      ]
     },
     "metadata": {
      "needs_background": "light"
     },
     "output_type": "display_data"
    }
   ],
   "source": [
    "#%% plot\n",
    "xlabs = [\"Homo\", \"Prim\", \"Euar\", \"Bore\", \"Euth\", \"Ther\", \"Mam\", \"Amni\", \"Tetr\", \"Sarg\", \"Vert\"]\n",
    "\n",
    "x, y =\"syn_mrca_2\", \"frac_of_arch\"\n",
    "\n",
    "hue_order = [\"simple\", \"complex_core\", \"complex_derived\"]\n",
    "\n",
    "fig, ax = plt.subplots()\n",
    "\n",
    "sns.barplot(data = gz, x= x, y=y, hue = \"arch\",\n",
    "            hue_order = hue_order, palette = cp.yg)\n",
    "\n",
    "ax.set_xticklabels(xlabs, rotation = 90)\n",
    "ax.set(xlabel = \"sequence age\",\n",
    "ylabel = \"fraction of total arch\",\n",
    "title = \"TOTAL arch fraction w zero TFBS across ages\")\n",
    "\n",
    "ax.legend(bbox_to_anchor = (1,1))"
   ]
  },
  {
   "cell_type": "markdown",
   "id": "0b05292f",
   "metadata": {},
   "source": [
    "## plot within age frequency of zeros"
   ]
  },
  {
   "cell_type": "code",
   "execution_count": 32,
   "id": "778a5712",
   "metadata": {
    "ExecuteTime": {
     "end_time": "2021-12-23T02:09:23.416747Z",
     "start_time": "2021-12-23T02:09:23.385237Z"
    }
   },
   "outputs": [
    {
     "data": {
      "text/html": [
       "<div>\n",
       "<style scoped>\n",
       "    .dataframe tbody tr th:only-of-type {\n",
       "        vertical-align: middle;\n",
       "    }\n",
       "\n",
       "    .dataframe tbody tr th {\n",
       "        vertical-align: top;\n",
       "    }\n",
       "\n",
       "    .dataframe thead th {\n",
       "        text-align: right;\n",
       "    }\n",
       "</style>\n",
       "<table border=\"1\" class=\"dataframe\">\n",
       "  <thead>\n",
       "    <tr style=\"text-align: right;\">\n",
       "      <th></th>\n",
       "      <th>syn_mrca_2</th>\n",
       "      <th>arch</th>\n",
       "      <th>mrca_counts</th>\n",
       "      <th>mrca_zero_counts</th>\n",
       "      <th>total_arch</th>\n",
       "      <th>frac_of_arch</th>\n",
       "      <th>frac_zero_mrca</th>\n",
       "    </tr>\n",
       "  </thead>\n",
       "  <tbody>\n",
       "    <tr>\n",
       "      <th>0</th>\n",
       "      <td>0.000</td>\n",
       "      <td>complex_derived</td>\n",
       "      <td>97</td>\n",
       "      <td>25</td>\n",
       "      <td>32884</td>\n",
       "      <td>0.000760</td>\n",
       "      <td>0.257732</td>\n",
       "    </tr>\n",
       "    <tr>\n",
       "      <th>1</th>\n",
       "      <td>0.144</td>\n",
       "      <td>complex_core</td>\n",
       "      <td>128</td>\n",
       "      <td>24</td>\n",
       "      <td>26291</td>\n",
       "      <td>0.000913</td>\n",
       "      <td>0.187500</td>\n",
       "    </tr>\n",
       "    <tr>\n",
       "      <th>2</th>\n",
       "      <td>0.144</td>\n",
       "      <td>complex_derived</td>\n",
       "      <td>3154</td>\n",
       "      <td>855</td>\n",
       "      <td>32884</td>\n",
       "      <td>0.026000</td>\n",
       "      <td>0.271084</td>\n",
       "    </tr>\n",
       "    <tr>\n",
       "      <th>3</th>\n",
       "      <td>0.144</td>\n",
       "      <td>simple</td>\n",
       "      <td>20848</td>\n",
       "      <td>2136</td>\n",
       "      <td>40969</td>\n",
       "      <td>0.052137</td>\n",
       "      <td>0.102456</td>\n",
       "    </tr>\n",
       "    <tr>\n",
       "      <th>4</th>\n",
       "      <td>0.146</td>\n",
       "      <td>complex_core</td>\n",
       "      <td>179</td>\n",
       "      <td>43</td>\n",
       "      <td>26291</td>\n",
       "      <td>0.001636</td>\n",
       "      <td>0.240223</td>\n",
       "    </tr>\n",
       "  </tbody>\n",
       "</table>\n",
       "</div>"
      ],
      "text/plain": [
       "   syn_mrca_2             arch  mrca_counts  mrca_zero_counts  total_arch  \\\n",
       "0       0.000  complex_derived           97                25       32884   \n",
       "1       0.144     complex_core          128                24       26291   \n",
       "2       0.144  complex_derived         3154               855       32884   \n",
       "3       0.144           simple        20848              2136       40969   \n",
       "4       0.146     complex_core          179                43       26291   \n",
       "\n",
       "   frac_of_arch  frac_zero_mrca  \n",
       "0      0.000760        0.257732  \n",
       "1      0.000913        0.187500  \n",
       "2      0.026000        0.271084  \n",
       "3      0.052137        0.102456  \n",
       "4      0.001636        0.240223  "
      ]
     },
     "execution_count": 32,
     "metadata": {},
     "output_type": "execute_result"
    }
   ],
   "source": [
    "#%% evaluate zeros as a fraction of the architecture per age\n",
    "\n",
    "totals_mrcas = syn_ages.groupby([\"syn_mrca_2\", \"arch\"])[\"enh_id\"].count().reset_index()\n",
    "totals_mrcas.columns = [\"syn_mrca_2\", \"arch\", \"mrca_counts\"]\n",
    "\n",
    "totals_mrcas = pd.merge(totals_mrcas, gz)\n",
    "\n",
    "totals_mrcas[\"frac_zero_mrca\"] = totals_mrcas.mrca_zero_counts.divide(totals_mrcas.mrca_counts)\n",
    "totals_mrcas.head()"
   ]
  },
  {
   "cell_type": "code",
   "execution_count": 43,
   "id": "93a33ec0",
   "metadata": {
    "ExecuteTime": {
     "end_time": "2021-12-23T02:12:34.651317Z",
     "start_time": "2021-12-23T02:12:34.581562Z"
    }
   },
   "outputs": [],
   "source": [
    "totals_mrcas = totals_mrcas.rename(columns = {\"syn_mrca_2\": \"mrca_2\"})\n",
    "empty = make_empty_dict(totals_mrcas)\n",
    "totals_mrcas = pd.merge(empty, totals_mrcas, how = \"left\" ).fillna(0)"
   ]
  },
  {
   "cell_type": "markdown",
   "id": "f6196c74",
   "metadata": {},
   "source": [
    "### for plotting annotations, add an order column"
   ]
  },
  {
   "cell_type": "code",
   "execution_count": 54,
   "id": "4ceb308e",
   "metadata": {
    "ExecuteTime": {
     "end_time": "2021-12-23T02:19:05.571351Z",
     "start_time": "2021-12-23T02:19:05.525317Z"
    }
   },
   "outputs": [
    {
     "data": {
      "text/html": [
       "<div>\n",
       "<style scoped>\n",
       "    .dataframe tbody tr th:only-of-type {\n",
       "        vertical-align: middle;\n",
       "    }\n",
       "\n",
       "    .dataframe tbody tr th {\n",
       "        vertical-align: top;\n",
       "    }\n",
       "\n",
       "    .dataframe thead th {\n",
       "        text-align: right;\n",
       "    }\n",
       "</style>\n",
       "<table border=\"1\" class=\"dataframe\">\n",
       "  <thead>\n",
       "    <tr style=\"text-align: right;\">\n",
       "      <th></th>\n",
       "      <th>mrca_2</th>\n",
       "      <th>arch</th>\n",
       "      <th>mrca_counts</th>\n",
       "      <th>mrca_zero_counts</th>\n",
       "      <th>total_arch</th>\n",
       "      <th>frac_of_arch</th>\n",
       "      <th>frac_zero_mrca</th>\n",
       "      <th>order</th>\n",
       "    </tr>\n",
       "  </thead>\n",
       "  <tbody>\n",
       "    <tr>\n",
       "      <th>2</th>\n",
       "      <td>0.000</td>\n",
       "      <td>simple</td>\n",
       "      <td>0.0</td>\n",
       "      <td>0.0</td>\n",
       "      <td>0.0</td>\n",
       "      <td>0.000000</td>\n",
       "      <td>0.000000</td>\n",
       "      <td>0</td>\n",
       "    </tr>\n",
       "    <tr>\n",
       "      <th>5</th>\n",
       "      <td>0.144</td>\n",
       "      <td>simple</td>\n",
       "      <td>20848.0</td>\n",
       "      <td>2136.0</td>\n",
       "      <td>40969.0</td>\n",
       "      <td>0.052137</td>\n",
       "      <td>0.102456</td>\n",
       "      <td>0</td>\n",
       "    </tr>\n",
       "    <tr>\n",
       "      <th>8</th>\n",
       "      <td>0.146</td>\n",
       "      <td>simple</td>\n",
       "      <td>86.0</td>\n",
       "      <td>3.0</td>\n",
       "      <td>40969.0</td>\n",
       "      <td>0.000073</td>\n",
       "      <td>0.034884</td>\n",
       "      <td>0</td>\n",
       "    </tr>\n",
       "    <tr>\n",
       "      <th>11</th>\n",
       "      <td>0.167</td>\n",
       "      <td>simple</td>\n",
       "      <td>460.0</td>\n",
       "      <td>31.0</td>\n",
       "      <td>40969.0</td>\n",
       "      <td>0.000757</td>\n",
       "      <td>0.067391</td>\n",
       "      <td>0</td>\n",
       "    </tr>\n",
       "    <tr>\n",
       "      <th>14</th>\n",
       "      <td>0.190</td>\n",
       "      <td>simple</td>\n",
       "      <td>8332.0</td>\n",
       "      <td>531.0</td>\n",
       "      <td>40969.0</td>\n",
       "      <td>0.012961</td>\n",
       "      <td>0.063730</td>\n",
       "      <td>0</td>\n",
       "    </tr>\n",
       "    <tr>\n",
       "      <th>17</th>\n",
       "      <td>0.425</td>\n",
       "      <td>simple</td>\n",
       "      <td>1258.0</td>\n",
       "      <td>76.0</td>\n",
       "      <td>40969.0</td>\n",
       "      <td>0.001855</td>\n",
       "      <td>0.060413</td>\n",
       "      <td>0</td>\n",
       "    </tr>\n",
       "    <tr>\n",
       "      <th>20</th>\n",
       "      <td>0.497</td>\n",
       "      <td>simple</td>\n",
       "      <td>281.0</td>\n",
       "      <td>20.0</td>\n",
       "      <td>40969.0</td>\n",
       "      <td>0.000488</td>\n",
       "      <td>0.071174</td>\n",
       "      <td>0</td>\n",
       "    </tr>\n",
       "    <tr>\n",
       "      <th>23</th>\n",
       "      <td>0.606</td>\n",
       "      <td>simple</td>\n",
       "      <td>6057.0</td>\n",
       "      <td>394.0</td>\n",
       "      <td>40969.0</td>\n",
       "      <td>0.009617</td>\n",
       "      <td>0.065049</td>\n",
       "      <td>0</td>\n",
       "    </tr>\n",
       "    <tr>\n",
       "      <th>26</th>\n",
       "      <td>0.656</td>\n",
       "      <td>simple</td>\n",
       "      <td>278.0</td>\n",
       "      <td>21.0</td>\n",
       "      <td>40969.0</td>\n",
       "      <td>0.000513</td>\n",
       "      <td>0.075540</td>\n",
       "      <td>0</td>\n",
       "    </tr>\n",
       "    <tr>\n",
       "      <th>29</th>\n",
       "      <td>0.756</td>\n",
       "      <td>simple</td>\n",
       "      <td>51.0</td>\n",
       "      <td>2.0</td>\n",
       "      <td>40969.0</td>\n",
       "      <td>0.000049</td>\n",
       "      <td>0.039216</td>\n",
       "      <td>0</td>\n",
       "    </tr>\n",
       "    <tr>\n",
       "      <th>32</th>\n",
       "      <td>0.867</td>\n",
       "      <td>simple</td>\n",
       "      <td>3296.0</td>\n",
       "      <td>201.0</td>\n",
       "      <td>40969.0</td>\n",
       "      <td>0.004906</td>\n",
       "      <td>0.060983</td>\n",
       "      <td>0</td>\n",
       "    </tr>\n",
       "    <tr>\n",
       "      <th>1</th>\n",
       "      <td>0.000</td>\n",
       "      <td>complex_core</td>\n",
       "      <td>0.0</td>\n",
       "      <td>0.0</td>\n",
       "      <td>0.0</td>\n",
       "      <td>0.000000</td>\n",
       "      <td>0.000000</td>\n",
       "      <td>1</td>\n",
       "    </tr>\n",
       "    <tr>\n",
       "      <th>4</th>\n",
       "      <td>0.144</td>\n",
       "      <td>complex_core</td>\n",
       "      <td>128.0</td>\n",
       "      <td>24.0</td>\n",
       "      <td>26291.0</td>\n",
       "      <td>0.000913</td>\n",
       "      <td>0.187500</td>\n",
       "      <td>1</td>\n",
       "    </tr>\n",
       "    <tr>\n",
       "      <th>7</th>\n",
       "      <td>0.146</td>\n",
       "      <td>complex_core</td>\n",
       "      <td>179.0</td>\n",
       "      <td>43.0</td>\n",
       "      <td>26291.0</td>\n",
       "      <td>0.001636</td>\n",
       "      <td>0.240223</td>\n",
       "      <td>1</td>\n",
       "    </tr>\n",
       "    <tr>\n",
       "      <th>10</th>\n",
       "      <td>0.167</td>\n",
       "      <td>complex_core</td>\n",
       "      <td>700.0</td>\n",
       "      <td>189.0</td>\n",
       "      <td>26291.0</td>\n",
       "      <td>0.007189</td>\n",
       "      <td>0.270000</td>\n",
       "      <td>1</td>\n",
       "    </tr>\n",
       "    <tr>\n",
       "      <th>13</th>\n",
       "      <td>0.190</td>\n",
       "      <td>complex_core</td>\n",
       "      <td>4988.0</td>\n",
       "      <td>1161.0</td>\n",
       "      <td>26291.0</td>\n",
       "      <td>0.044160</td>\n",
       "      <td>0.232759</td>\n",
       "      <td>1</td>\n",
       "    </tr>\n",
       "    <tr>\n",
       "      <th>16</th>\n",
       "      <td>0.425</td>\n",
       "      <td>complex_core</td>\n",
       "      <td>2369.0</td>\n",
       "      <td>412.0</td>\n",
       "      <td>26291.0</td>\n",
       "      <td>0.015671</td>\n",
       "      <td>0.173913</td>\n",
       "      <td>1</td>\n",
       "    </tr>\n",
       "    <tr>\n",
       "      <th>19</th>\n",
       "      <td>0.497</td>\n",
       "      <td>complex_core</td>\n",
       "      <td>893.0</td>\n",
       "      <td>141.0</td>\n",
       "      <td>26291.0</td>\n",
       "      <td>0.005363</td>\n",
       "      <td>0.157895</td>\n",
       "      <td>1</td>\n",
       "    </tr>\n",
       "    <tr>\n",
       "      <th>22</th>\n",
       "      <td>0.606</td>\n",
       "      <td>complex_core</td>\n",
       "      <td>7157.0</td>\n",
       "      <td>1301.0</td>\n",
       "      <td>26291.0</td>\n",
       "      <td>0.049485</td>\n",
       "      <td>0.181780</td>\n",
       "      <td>1</td>\n",
       "    </tr>\n",
       "    <tr>\n",
       "      <th>25</th>\n",
       "      <td>0.656</td>\n",
       "      <td>complex_core</td>\n",
       "      <td>1214.0</td>\n",
       "      <td>227.0</td>\n",
       "      <td>26291.0</td>\n",
       "      <td>0.008634</td>\n",
       "      <td>0.186985</td>\n",
       "      <td>1</td>\n",
       "    </tr>\n",
       "    <tr>\n",
       "      <th>28</th>\n",
       "      <td>0.756</td>\n",
       "      <td>complex_core</td>\n",
       "      <td>407.0</td>\n",
       "      <td>72.0</td>\n",
       "      <td>26291.0</td>\n",
       "      <td>0.002739</td>\n",
       "      <td>0.176904</td>\n",
       "      <td>1</td>\n",
       "    </tr>\n",
       "    <tr>\n",
       "      <th>31</th>\n",
       "      <td>0.867</td>\n",
       "      <td>complex_core</td>\n",
       "      <td>8256.0</td>\n",
       "      <td>1633.0</td>\n",
       "      <td>26291.0</td>\n",
       "      <td>0.062113</td>\n",
       "      <td>0.197796</td>\n",
       "      <td>1</td>\n",
       "    </tr>\n",
       "    <tr>\n",
       "      <th>0</th>\n",
       "      <td>0.000</td>\n",
       "      <td>complex_derived</td>\n",
       "      <td>97.0</td>\n",
       "      <td>25.0</td>\n",
       "      <td>32884.0</td>\n",
       "      <td>0.000760</td>\n",
       "      <td>0.257732</td>\n",
       "      <td>2</td>\n",
       "    </tr>\n",
       "    <tr>\n",
       "      <th>3</th>\n",
       "      <td>0.144</td>\n",
       "      <td>complex_derived</td>\n",
       "      <td>3154.0</td>\n",
       "      <td>855.0</td>\n",
       "      <td>32884.0</td>\n",
       "      <td>0.026000</td>\n",
       "      <td>0.271084</td>\n",
       "      <td>2</td>\n",
       "    </tr>\n",
       "    <tr>\n",
       "      <th>6</th>\n",
       "      <td>0.146</td>\n",
       "      <td>complex_derived</td>\n",
       "      <td>1592.0</td>\n",
       "      <td>570.0</td>\n",
       "      <td>32884.0</td>\n",
       "      <td>0.017334</td>\n",
       "      <td>0.358040</td>\n",
       "      <td>2</td>\n",
       "    </tr>\n",
       "    <tr>\n",
       "      <th>9</th>\n",
       "      <td>0.167</td>\n",
       "      <td>complex_derived</td>\n",
       "      <td>4769.0</td>\n",
       "      <td>1650.0</td>\n",
       "      <td>32884.0</td>\n",
       "      <td>0.050176</td>\n",
       "      <td>0.345984</td>\n",
       "      <td>2</td>\n",
       "    </tr>\n",
       "    <tr>\n",
       "      <th>12</th>\n",
       "      <td>0.190</td>\n",
       "      <td>complex_derived</td>\n",
       "      <td>8632.0</td>\n",
       "      <td>2288.0</td>\n",
       "      <td>32884.0</td>\n",
       "      <td>0.069578</td>\n",
       "      <td>0.265060</td>\n",
       "      <td>2</td>\n",
       "    </tr>\n",
       "    <tr>\n",
       "      <th>15</th>\n",
       "      <td>0.425</td>\n",
       "      <td>complex_derived</td>\n",
       "      <td>3888.0</td>\n",
       "      <td>1027.0</td>\n",
       "      <td>32884.0</td>\n",
       "      <td>0.031231</td>\n",
       "      <td>0.264146</td>\n",
       "      <td>2</td>\n",
       "    </tr>\n",
       "    <tr>\n",
       "      <th>18</th>\n",
       "      <td>0.497</td>\n",
       "      <td>complex_derived</td>\n",
       "      <td>1605.0</td>\n",
       "      <td>473.0</td>\n",
       "      <td>32884.0</td>\n",
       "      <td>0.014384</td>\n",
       "      <td>0.294704</td>\n",
       "      <td>2</td>\n",
       "    </tr>\n",
       "    <tr>\n",
       "      <th>21</th>\n",
       "      <td>0.606</td>\n",
       "      <td>complex_derived</td>\n",
       "      <td>7041.0</td>\n",
       "      <td>1746.0</td>\n",
       "      <td>32884.0</td>\n",
       "      <td>0.053096</td>\n",
       "      <td>0.247976</td>\n",
       "      <td>2</td>\n",
       "    </tr>\n",
       "    <tr>\n",
       "      <th>24</th>\n",
       "      <td>0.656</td>\n",
       "      <td>complex_derived</td>\n",
       "      <td>1428.0</td>\n",
       "      <td>408.0</td>\n",
       "      <td>32884.0</td>\n",
       "      <td>0.012407</td>\n",
       "      <td>0.285714</td>\n",
       "      <td>2</td>\n",
       "    </tr>\n",
       "    <tr>\n",
       "      <th>27</th>\n",
       "      <td>0.756</td>\n",
       "      <td>complex_derived</td>\n",
       "      <td>678.0</td>\n",
       "      <td>213.0</td>\n",
       "      <td>32884.0</td>\n",
       "      <td>0.006477</td>\n",
       "      <td>0.314159</td>\n",
       "      <td>2</td>\n",
       "    </tr>\n",
       "    <tr>\n",
       "      <th>30</th>\n",
       "      <td>0.867</td>\n",
       "      <td>complex_derived</td>\n",
       "      <td>0.0</td>\n",
       "      <td>0.0</td>\n",
       "      <td>0.0</td>\n",
       "      <td>0.000000</td>\n",
       "      <td>0.000000</td>\n",
       "      <td>2</td>\n",
       "    </tr>\n",
       "  </tbody>\n",
       "</table>\n",
       "</div>"
      ],
      "text/plain": [
       "    mrca_2             arch  mrca_counts  mrca_zero_counts  total_arch  \\\n",
       "2    0.000           simple          0.0               0.0         0.0   \n",
       "5    0.144           simple      20848.0            2136.0     40969.0   \n",
       "8    0.146           simple         86.0               3.0     40969.0   \n",
       "11   0.167           simple        460.0              31.0     40969.0   \n",
       "14   0.190           simple       8332.0             531.0     40969.0   \n",
       "17   0.425           simple       1258.0              76.0     40969.0   \n",
       "20   0.497           simple        281.0              20.0     40969.0   \n",
       "23   0.606           simple       6057.0             394.0     40969.0   \n",
       "26   0.656           simple        278.0              21.0     40969.0   \n",
       "29   0.756           simple         51.0               2.0     40969.0   \n",
       "32   0.867           simple       3296.0             201.0     40969.0   \n",
       "1    0.000     complex_core          0.0               0.0         0.0   \n",
       "4    0.144     complex_core        128.0              24.0     26291.0   \n",
       "7    0.146     complex_core        179.0              43.0     26291.0   \n",
       "10   0.167     complex_core        700.0             189.0     26291.0   \n",
       "13   0.190     complex_core       4988.0            1161.0     26291.0   \n",
       "16   0.425     complex_core       2369.0             412.0     26291.0   \n",
       "19   0.497     complex_core        893.0             141.0     26291.0   \n",
       "22   0.606     complex_core       7157.0            1301.0     26291.0   \n",
       "25   0.656     complex_core       1214.0             227.0     26291.0   \n",
       "28   0.756     complex_core        407.0              72.0     26291.0   \n",
       "31   0.867     complex_core       8256.0            1633.0     26291.0   \n",
       "0    0.000  complex_derived         97.0              25.0     32884.0   \n",
       "3    0.144  complex_derived       3154.0             855.0     32884.0   \n",
       "6    0.146  complex_derived       1592.0             570.0     32884.0   \n",
       "9    0.167  complex_derived       4769.0            1650.0     32884.0   \n",
       "12   0.190  complex_derived       8632.0            2288.0     32884.0   \n",
       "15   0.425  complex_derived       3888.0            1027.0     32884.0   \n",
       "18   0.497  complex_derived       1605.0             473.0     32884.0   \n",
       "21   0.606  complex_derived       7041.0            1746.0     32884.0   \n",
       "24   0.656  complex_derived       1428.0             408.0     32884.0   \n",
       "27   0.756  complex_derived        678.0             213.0     32884.0   \n",
       "30   0.867  complex_derived          0.0               0.0         0.0   \n",
       "\n",
       "    frac_of_arch  frac_zero_mrca  order  \n",
       "2       0.000000        0.000000      0  \n",
       "5       0.052137        0.102456      0  \n",
       "8       0.000073        0.034884      0  \n",
       "11      0.000757        0.067391      0  \n",
       "14      0.012961        0.063730      0  \n",
       "17      0.001855        0.060413      0  \n",
       "20      0.000488        0.071174      0  \n",
       "23      0.009617        0.065049      0  \n",
       "26      0.000513        0.075540      0  \n",
       "29      0.000049        0.039216      0  \n",
       "32      0.004906        0.060983      0  \n",
       "1       0.000000        0.000000      1  \n",
       "4       0.000913        0.187500      1  \n",
       "7       0.001636        0.240223      1  \n",
       "10      0.007189        0.270000      1  \n",
       "13      0.044160        0.232759      1  \n",
       "16      0.015671        0.173913      1  \n",
       "19      0.005363        0.157895      1  \n",
       "22      0.049485        0.181780      1  \n",
       "25      0.008634        0.186985      1  \n",
       "28      0.002739        0.176904      1  \n",
       "31      0.062113        0.197796      1  \n",
       "0       0.000760        0.257732      2  \n",
       "3       0.026000        0.271084      2  \n",
       "6       0.017334        0.358040      2  \n",
       "9       0.050176        0.345984      2  \n",
       "12      0.069578        0.265060      2  \n",
       "15      0.031231        0.264146      2  \n",
       "18      0.014384        0.294704      2  \n",
       "21      0.053096        0.247976      2  \n",
       "24      0.012407        0.285714      2  \n",
       "27      0.006477        0.314159      2  \n",
       "30      0.000000        0.000000      2  "
      ]
     },
     "execution_count": 54,
     "metadata": {},
     "output_type": "execute_result"
    }
   ],
   "source": [
    "totals_mrcas[\"order\"] = 0\n",
    "totals_mrcas.loc[totals_mrcas[\"arch\"].str.contains(\"core\"), \"order\"] = 1\n",
    "totals_mrcas.loc[totals_mrcas[\"arch\"].str.contains(\"derived\"), \"order\"] = 2\n",
    "totals_mrcas.sort_values(by=[\"order\", \"mrca_2\",])"
   ]
  },
  {
   "cell_type": "code",
   "execution_count": 59,
   "id": "40f50174",
   "metadata": {
    "ExecuteTime": {
     "end_time": "2021-12-23T02:23:35.838822Z",
     "start_time": "2021-12-23T02:23:34.708835Z"
    }
   },
   "outputs": [
    {
     "data": {
      "image/png": "[encoded data removed]",
      "text/plain": [
       "<Figure size 864x432 with 1 Axes>"
      ]
     },
     "metadata": {
      "needs_background": "light"
     },
     "output_type": "display_data"
    }
   ],
   "source": [
    "#%%\n",
    "xlabs = [\"Homo\", \"Prim\", \"Euar\", \"Bore\", \"Euth\", \"Ther\", \"Mam\", \"Amni\", \"Tetr\", \"Sarg\", \"Vert\"]\n",
    "\n",
    "hue_order = [\"simple\", \"complex_core\", \"complex_derived\"]\n",
    "\n",
    "x, y =\"mrca_2\", \"frac_zero_mrca\"\n",
    "fig, ax = plt.subplots(figsize = (12,6))\n",
    "splot = sns.barplot(data = totals_mrcas, x= x, y=y, hue = \"arch\",\n",
    "            hue_order = hue_order, palette = cp.yg)\n",
    "\n",
    "ax.set_xticklabels(xlabs, rotation = 90)\n",
    "\n",
    "ax.set( xlabel = \"sequence age\",\n",
    "        ylabel = \"fraction of arch w zero TFBS\",\n",
    "        title = \"Within age, fraction of regions w zero TFBS\")\n",
    "\n",
    "\n",
    "height_adjust = 0.01\n",
    "\n",
    "plot_annotate_counts(splot, totals_mrcas.sort_values(by=[\"order\", \"mrca_2\"]), \"mrca_zero_counts\", height_adjust)\n",
    "\n",
    "ax.legend(bbox_to_anchor = (1,1))\n",
    "#plt.xticks(xlabs, xlabs[::-1])\n",
    "\n",
    "outf = f\"{RE}zero_frac_per_mrca.pdf\"\n",
    "plt.savefig(outf, bbox_inches = \"tight\")"
   ]
  },
  {
   "cell_type": "code",
   "execution_count": 60,
   "id": "ca3d1d0e",
   "metadata": {
    "ExecuteTime": {
     "end_time": "2021-12-23T02:23:39.359820Z",
     "start_time": "2021-12-23T02:23:39.352053Z"
    }
   },
   "outputs": [
    {
     "data": {
      "text/plain": [
       "'/dors/capra_lab/projects/enhancer_ages/landscape/results/cCRE_x_tfbs_encode3/K562/'"
      ]
     },
     "execution_count": 60,
     "metadata": {},
     "output_type": "execute_result"
    }
   ],
   "source": [
    "RE"
   ]
  },
  {
   "cell_type": "code",
   "execution_count": null,
   "id": "83537117",
   "metadata": {},
   "outputs": [],
   "source": [
    "#%%\n",
    "\n",
    "zeros_only = syn_ages.loc[syn_ages.tfoverlap_bin ==0]\n",
    "\n",
    "gz = zeros_only.groupby([\"core_mrca_2\", \"arch\"])[\"enh_id\"].count().reset_index()\n",
    "\n",
    "gz.columns = [\"core_mrca_2\", \"arch\", 'mrca_zero_counts']\n",
    "\n",
    "totals = syn_ages.groupby([\"arch\"])[\"enh_id\"].count().reset_index()\n",
    "totals.columns = [\"arch\", \"total_arch\"]\n",
    "\n",
    "gz = pd.merge(gz, totals, how = \"left\")\n",
    "gz[\"frac_of_arch\"] = gz.mrca_zero_counts.divide(gz.total_arch)\n",
    "gz.head()\n",
    "# do the same plot, but with the derived sequences assigned to their core ages.\n",
    "list(syn_ages)\n",
    "totals_mrcas = syn_ages.groupby([\"core_mrca_2\", \"arch\"])[\"enh_id\"].count().reset_index()\n",
    "totals_mrcas.columns = [\"core_mrca_2\", \"arch\", \"mrca_counts\"]\n",
    "\n",
    "totals_mrcas = pd.merge(totals_mrcas, gz)\n",
    "\n",
    "totals_mrcas[\"frac_zero_mrca\"] = totals_mrcas.mrca_zero_counts.divide(totals_mrcas.mrca_counts)\n",
    "\n",
    "totals_mrcas = pd.merge(syn_ages[[\"core_mrca_2\", \"arch\"]], totals_mrcas, how = \"left\")\n",
    "\n",
    "syn_ages[[\"core_mrca_2\", \"taxon2\"]].drop_duplicates()"
   ]
  },
  {
   "cell_type": "markdown",
   "id": "65ad4856",
   "metadata": {
    "ExecuteTime": {
     "end_time": "2021-12-22T23:33:46.863194Z",
     "start_time": "2021-12-22T23:33:46.859111Z"
    },
    "heading_collapsed": true
   },
   "source": [
    "# calculate odds that TF binds core, derived, simple regions"
   ]
  },
  {
   "cell_type": "code",
   "execution_count": null,
   "id": "74bf137e",
   "metadata": {
    "hidden": true
   },
   "outputs": [],
   "source": [
    "xlabs = [\"Homo\", \"Prim\", \"Euar\", \"Bore\", \"Euth\", \"Ther\", \"Mam\", \"Amni\", \"Tetr\", \"Sarg\", \"Vert\"]\n",
    "\n",
    "hue_order = [\"simple\", \"complex_core\", \"complex_derived\"]\n",
    "\n",
    "x, y =\"core_mrca_2\", \"frac_zero_mrca\"\n",
    "fig, ax = plt.subplots()\n",
    "\n",
    "sns.barplot(data = totals_mrcas, x= x, y=y, hue = \"arch\",\n",
    "            hue_order = hue_order, palette = cp.yg)\n",
    "\n",
    "ax.set_xticklabels(xlabs, rotation = 90)\n",
    "ax.set( xlabel = \"core age\",\n",
    "        ylabel = \"fraction of arch w/ zero TFBS\",\n",
    "        title = \"fraction of elements that do not bind TFBS, per core age\")\n",
    "ax.legend(bbox_to_anchor = (1,1))\n",
    "outf = f\"{RE}zero_frac_per_core_mrca.pdf\"\n",
    "plt.savefig(outf, bbox_inches = \"tight\")\n",
    "#%%\n",
    "alpha = 0.05\n",
    "\n",
    "mrca_dict = {}\n",
    "\n",
    "for arch in syn_ages.arch.unique():\n",
    "    for mrca_2 in syn_ages.syn_mrca_2.unique():\n",
    "\n",
    "        in_age = syn_ages.loc[(syn_ages.syn_mrca_2 == mrca_2) & (syn_ages.arch == arch)] # subset to the per age df\n",
    "        out_age = syn_ages.loc[(syn_ages.syn_mrca_2 != mrca_2) & (syn_ages.arch == arch)] # subset to the per age df\n",
    "        #print(arch, mrca_2)\n",
    "        if arch == \"complex_derived\" and mrca_2 ==0.867:\n",
    "            continue\n",
    "        elif arch == \"complex_core\" and mrca_2 ==0.0:\n",
    "            continue\n",
    "        elif arch == \"simple\" and mrca_2 ==0.0:\n",
    "            continue\n",
    "        else:\n",
    "            ab = in_age.groupby(\"tfbs_bool\")[\"syn_id\"].count().reset_index()\n",
    "            b,a = ab.iloc[0,1], ab.iloc[1,1]\n",
    "            cd = out_age.groupby(\"tfbs_bool\")[\"syn_id\"].count().reset_index()\n",
    "            d,c = cd.iloc[0,1], cd.iloc[1,1]\n",
    "\n",
    "            obs = [[a,b], [c,d]]\n",
    "\n",
    "            min_instances = 1\n",
    "            comparison_name = f\"{arch}-{mrca_2}\"\n",
    "            new_df = quantify_2x2(obs, comparison_name, min_instances)\n",
    "            new_df[\"mrca_2\"] = mrca_2\n",
    "            new_df[\"arch\"] = arch\n",
    "            mrca_dict[comparison_name] = new_df\n",
    "\n",
    "\n",
    "fet_zero_ages = fdr_correction(mrca_dict, alpha) # FDR correction\n",
    "fet_zero_ages[\"arch\"] = fet_zero_ages.comparison_name.apply(lambda x: x.split(\"-\")[0])\n",
    "#%%\n",
    "fet_zero_ages.sort_values(by = \"mrca_2\")\n",
    "der_xlabs = xlabs[:-1]\n",
    "#%%\n",
    "fet_zero_ages[\"yerr\"]=(fet_zero_ages[\"ci_upper\"] - fet_zero_ages[\"ci_lower\"])\n",
    "yerrs = fet_zero_ages.pivot(index = \"mrca_2\", columns = \"arch\", values = \"yerr\").fillna(0)\n",
    "\n",
    "yerrs = yerrs[hue_order]\n",
    "\n",
    "piv = fet_zero_ages.pivot(index='mrca_2', columns='arch', values='log2')\n",
    "piv = piv[hue_order].fillna(0)\n",
    "yerrs"
   ]
  },
  {
   "cell_type": "markdown",
   "id": "ef74fef6",
   "metadata": {
    "hidden": true
   },
   "source": [
    "## plot odds that TFBS bind "
   ]
  },
  {
   "cell_type": "code",
   "execution_count": null,
   "id": "8c0b01e1",
   "metadata": {
    "hidden": true
   },
   "outputs": [],
   "source": [
    "ax = piv.plot(kind='bar',\n",
    "yerr=yerrs,\n",
    "figsize = (6,6), #colormap = cp.yg,\n",
    "#ylabel = \"Archs that bind TFs enrichment\"\n",
    ")\n",
    "ax.set_xticklabels(xlabs)\n",
    "ax.set(\n",
    "xlabel = \"sequence age\",\n",
    "ylabel = \"Archs that bind TFs \\nOR enrichment\")\n",
    "outf = f\"{RE}FigS_{CL}cCRE_TFBSZeroNonZeroAge.pdf\"\n",
    "plt.savefig(outf, bbox_inches = 'tight')"
   ]
  },
  {
   "cell_type": "code",
   "execution_count": null,
   "id": "6907c657",
   "metadata": {
    "hidden": true
   },
   "outputs": [],
   "source": [
    "#%%"
   ]
  },
  {
   "cell_type": "code",
   "execution_count": null,
   "id": "785c8c6d",
   "metadata": {
    "hidden": true
   },
   "outputs": [],
   "source": [
    "fig, ax = plt.subplots(figsize = (6,6))\n",
    "x, y = \"mrca_2\",\"log2\"\n",
    "data = fet_zero_ages\n",
    "hue = \"arch\"\n",
    "sns.barplot(x = x, y = y, data = data,\n",
    "hue = hue, palette = cp.yg, hue_order = hue_order,)\n",
    "             #yerr= yl)\n",
    "\n",
    "ax.set(xlabel = \"sequence age\",\n",
    "ylabel = \"OR architecture binds TF (log2-scaled)\",\n",
    "title = \"TFBS enrichment per age, per arch\")\n",
    "ax.set_xticklabels(xlabs)\n",
    "ax.legend(bbox_to_anchor = (1,1))\n",
    "outf = f\"{RE}FigS5_TF_binding_per_arch_age_fet.pdf\"\n",
    "plt.savefig(outf, bbox_inches = 'tight')"
   ]
  },
  {
   "cell_type": "code",
   "execution_count": null,
   "id": "90c495b2",
   "metadata": {
    "hidden": true
   },
   "outputs": [],
   "source": []
  }
 ],
 "metadata": {
  "kernelspec": {
   "display_name": "Python (sfenv)",
   "language": "python",
   "name": "sfenv"
  },
  "language_info": {
   "codemirror_mode": {
    "name": "ipython",
    "version": 3
   },
   "file_extension": ".py",
   "mimetype": "text/x-python",
   "name": "python",
   "nbconvert_exporter": "python",
   "pygments_lexer": "ipython3",
   "version": "3.6.6"
  },
  "toc": {
   "base_numbering": 1,
   "nav_menu": {},
   "number_sections": true,
   "sideBar": true,
   "skip_h1_title": false,
   "title_cell": "Table of Contents",
   "title_sidebar": "Contents",
   "toc_cell": false,
   "toc_position": {},
   "toc_section_display": true,
   "toc_window_display": true
  }
 },
 "nbformat": 4,
 "nbformat_minor": 5
}
