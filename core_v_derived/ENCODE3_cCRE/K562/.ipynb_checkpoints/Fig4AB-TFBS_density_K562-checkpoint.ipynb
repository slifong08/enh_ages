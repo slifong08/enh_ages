{
 "cells": [
  {
   "cell_type": "code",
   "execution_count": 1,
   "metadata": {
    "ExecuteTime": {
     "end_time": "2021-12-23T02:49:31.267192Z",
     "start_time": "2021-12-23T02:49:30.109285Z"
    }
   },
   "outputs": [
    {
     "data": {
      "text/plain": [
       "'0.11.2'"
      ]
     },
     "execution_count": 1,
     "metadata": {},
     "output_type": "execute_result"
    }
   ],
   "source": [
    "import configparser\n",
    "import matplotlib.pyplot as plt\n",
    "import numpy as np\n",
    "import os, sys\n",
    "import pandas as pd\n",
    "from scipy import stats\n",
    "import seaborn as sns\n",
    "\n",
    "import statsmodels\n",
    "import statsmodels.api as sm\n",
    "import subprocess\n",
    "sns.__version__ "
   ]
  },
  {
   "cell_type": "markdown",
   "metadata": {
    "ExecuteTime": {
     "end_time": "2021-12-22T00:47:03.721203Z",
     "start_time": "2021-12-22T00:47:03.439880Z"
    }
   },
   "source": [
    "# Set up env"
   ]
  },
  {
   "cell_type": "code",
   "execution_count": 2,
   "metadata": {
    "ExecuteTime": {
     "end_time": "2021-12-23T02:49:31.273175Z",
     "start_time": "2021-12-23T02:49:31.269760Z"
    }
   },
   "outputs": [],
   "source": [
    "CL = \"K562\""
   ]
  },
  {
   "cell_type": "markdown",
   "metadata": {},
   "source": [
    "## open config file"
   ]
  },
  {
   "cell_type": "code",
   "execution_count": 3,
   "metadata": {
    "ExecuteTime": {
     "end_time": "2021-12-23T02:49:31.312800Z",
     "start_time": "2021-12-23T02:49:31.275751Z"
    }
   },
   "outputs": [],
   "source": [
    "BASE_PATH= \"/dors/capra_lab/users/fongsl/enh_ages/landscape/\""
   ]
  },
  {
   "cell_type": "code",
   "execution_count": 4,
   "metadata": {
    "ExecuteTime": {
     "end_time": "2021-12-23T02:49:31.327817Z",
     "start_time": "2021-12-23T02:49:31.317499Z"
    }
   },
   "outputs": [
    {
     "data": {
      "text/plain": [
       "['/dors/capra_lab/users/fongsl/enh_ages/landscape/config_landscape.ini']"
      ]
     },
     "execution_count": 4,
     "metadata": {},
     "output_type": "execute_result"
    }
   ],
   "source": [
    "configfile_name = os.path.join(BASE_PATH, \"config_landscape.ini\")\n",
    "config = configparser.ConfigParser(allow_no_value=True)\n",
    "config.read(configfile_name)"
   ]
  },
  {
   "cell_type": "markdown",
   "metadata": {},
   "source": [
    "## get plotting colors, other parameters"
   ]
  },
  {
   "cell_type": "code",
   "execution_count": 5,
   "metadata": {
    "ExecuteTime": {
     "end_time": "2021-12-23T02:49:31.615488Z",
     "start_time": "2021-12-23T02:49:31.330275Z"
    }
   },
   "outputs": [
    {
     "name": "stdout",
     "output_type": "stream",
     "text": [
      "COLORMAP - CM <matplotlib.colors.LinearSegmentedColormap object at 0x2b9b8a06f1d0>\n",
      "y_\n",
      "stemg\n",
      "kellyg\n",
      "yg\n",
      "cd\n",
      "yg_shuf\n"
     ]
    },
    {
     "data": {
      "image/png": "[encoded data removed]",
      "text/plain": [
       "<Figure size 72x72 with 1 Axes>"
      ]
     },
     "metadata": {
      "needs_background": "light"
     },
     "output_type": "display_data"
    },
    {
     "data": {
      "image/png": "[encoded data removed]",
      "text/plain": [
       "<Figure size 72x72 with 1 Axes>"
      ]
     },
     "metadata": {
      "needs_background": "light"
     },
     "output_type": "display_data"
    },
    {
     "data": {
      "image/png": "[encoded data removed]",
      "text/plain": [
       "<Figure size 72x72 with 1 Axes>"
      ]
     },
     "metadata": {
      "needs_background": "light"
     },
     "output_type": "display_data"
    },
    {
     "data": {
      "image/png": "[encoded data removed]",
      "text/plain": [
       "<Figure size 216x72 with 1 Axes>"
      ]
     },
     "metadata": {
      "needs_background": "light"
     },
     "output_type": "display_data"
    },
    {
     "data": {
      "image/png": "[encoded data removed]",
      "text/plain": [
       "<Figure size 144x72 with 1 Axes>"
      ]
     },
     "metadata": {
      "needs_background": "light"
     },
     "output_type": "display_data"
    },
    {
     "data": {
      "image/png": "[encoded data removed]",
      "text/plain": [
       "<Figure size 432x72 with 1 Axes>"
      ]
     },
     "metadata": {
      "needs_background": "light"
     },
     "output_type": "display_data"
    }
   ],
   "source": [
    "sys.path.append(BASE_PATH)\n",
    "import config_plot as cp"
   ]
  },
  {
   "cell_type": "markdown",
   "metadata": {},
   "source": [
    "# paths and files"
   ]
  },
  {
   "cell_type": "code",
   "execution_count": 6,
   "metadata": {
    "ExecuteTime": {
     "end_time": "2021-12-23T02:49:31.621641Z",
     "start_time": "2021-12-23T02:49:31.617301Z"
    }
   },
   "outputs": [],
   "source": [
    "ENHBASE = config[\"ENCODE\"][\"PATH_CCRE\"]\n",
    "\n",
    "ENCODEPATH = config[\"ENCODE\"][\"PATH_TF\"]\n",
    "\n",
    "RE = config[f\"ENCODE_{CL}\"][\"RESULTS\"]\n",
    "RE_DATA = config[f\"ENCODE_{CL}\"][\"RESULTS_DATA\"]\n",
    "\n",
    "if os.path.exists(RE_DATA) == False:\n",
    "    os.mkdir(RE_DATA)"
   ]
  },
  {
   "cell_type": "code",
   "execution_count": 7,
   "metadata": {
    "ExecuteTime": {
     "end_time": "2021-12-23T02:49:31.701499Z",
     "start_time": "2021-12-23T02:49:31.623693Z"
    }
   },
   "outputs": [
    {
     "data": {
      "image/png": "[encoded data removed]",
      "text/plain": [
       "<Figure size 144x72 with 1 Axes>"
      ]
     },
     "metadata": {
      "needs_background": "light"
     },
     "output_type": "display_data"
    }
   ],
   "source": [
    "PAL = cp.cd\n",
    "sns.palplot(PAL)"
   ]
  },
  {
   "cell_type": "markdown",
   "metadata": {},
   "source": [
    "# Functions"
   ]
  },
  {
   "cell_type": "markdown",
   "metadata": {},
   "source": [
    "## set up variables, paths, format df"
   ]
  },
  {
   "cell_type": "code",
   "execution_count": 8,
   "metadata": {
    "ExecuteTime": {
     "end_time": "2021-12-23T02:49:31.724554Z",
     "start_time": "2021-12-23T02:49:31.704848Z"
    }
   },
   "outputs": [],
   "source": [
    "def get_cell_lines(cl):\n",
    "    sample_dict = {\n",
    "    cl: f\"ELS_combined_{cl}\",\n",
    "    }\n",
    "\n",
    "    return sample_dict\n",
    "\n",
    "\n",
    "def get_paths(cell_line, file_tag, fantombase, encodepath):\n",
    "\n",
    "    FANTOMPATH = os.path.join(fantombase, file_tag, \"ages\")\n",
    "    FANTOMFILE = \"syn_breaks_%s_ages.bed\" % file_tag\n",
    "    FANTOM = os.path.join(FANTOMPATH, FANTOMFILE)\n",
    "\n",
    "    if \"CL\" in cell_line:\n",
    "        ENCODEFILE = \"cells/\" + cell_line.split(\"_CL\")[0] + \".bed.gz\"\n",
    "    elif cell_line == \"all_fantom_enh\":\n",
    "        ENCODEFILE = \"trimmed_encRegTfbsClusteredWithCells.bed\"\n",
    "    else:\n",
    "        ENCODEFILE = \"cells/\" + cell_line + \".bed.gz\"\n",
    "\n",
    "    ENCODE = os.path.join(encodepath, ENCODEFILE)\n",
    "\n",
    "\n",
    "    INTERSECTIONPATH = os.path.join(fantombase, file_tag)\n",
    "    INTERSECTIONFILE = \"%s_x_ENCODE.bed\" % file_tag\n",
    "    INTERSECTION = os.path.join(INTERSECTIONPATH, INTERSECTIONFILE)\n",
    "\n",
    "    return FANTOM, ENCODE, INTERSECTION\n",
    "\n",
    "\n",
    "def bed_intersect(fantom, encode, intersection):\n",
    "\n",
    "    if os.path.exists(intersection) == False:\n",
    "        cmd = \"bedtools intersect -a %s -b %s -wao > %s\" % (fantom, encode, intersection)\n",
    "\n",
    "        subprocess.call(cmd, shell = True)\n",
    "\n",
    "        print(cmd)\n",
    "    else:\n",
    "        print(\"previously done enh x encode intersection\")\n",
    "\n",
    "\n",
    "def get_core_age(df):\n",
    "    core = df.groupby(\"enh_id\")[\"mrca_2\"].max().reset_index()\n",
    "    core.columns = [\"enh_id\", 'core_mrca_2']\n",
    "    df = pd.merge(df, core, how = \"left\")\n",
    "\n",
    "    return df\n",
    "\n",
    "\n",
    "def reEval_PrimComplex(enh):\n",
    "\n",
    "    # get all the complex enhancers w/ primate core ages\n",
    "    prComEnhID = enh.loc[(enh.core ==1) &\n",
    "    (enh.core_remodeling ==1) &\n",
    "    (enh.taxon2.str.contains(\"Primate\"))][\"enh_id\"].unique()\n",
    "\n",
    "    # get all the complex enhancer ids where there is a real human derived sequence\n",
    "    pr_complex = enh.loc[(enh.enh_id.isin(prComEnhID)) &\n",
    "    (enh.core_remodeling == 1) &\n",
    "    (enh.core ==0) &\n",
    "    (enh.mrca ==0),\n",
    "    ][\"enh_id\"]\n",
    "\n",
    "\n",
    "    # i'm going to reassign any primate complex enhancer\n",
    "    # where derived regions are from other primates\n",
    "    # get the set of primate complex enhancers w/ primate derived sequences\n",
    "    # and rename them as simple enhancers\n",
    "    pr_simple = set(prComEnhID) - set(pr_complex)\n",
    "\n",
    "    # reassign core and core remodeling columns\n",
    "    enh.loc[enh.enh_id.isin(pr_simple), \"core\"] = 1\n",
    "    enh.loc[enh.enh_id.isin(pr_simple), \"core_remodeling\"] = 0\n",
    "    return enh\n",
    "\n",
    "\n",
    "def format_df(intersection_file):\n",
    "\n",
    "    SYN_GROUP = \"/dors/capra_lab/projects/enhancer_ages/hg38_syn_taxon.bed\"\n",
    "    syn = pd.read_csv(SYN_GROUP, sep = '\\t')\n",
    "\n",
    "    # round all values\n",
    "    syn[[\"mrca\", \"mrca_2\"]] = syn[[\"mrca\", \"mrca_2\"]].round(3)\n",
    "\n",
    "    # do the dance - add mrca_2 column, get mrca_2 core age, drop mrca_2 column, then add it back, but this time to reflect the core_age and core taxon, instead of the syntenic age.\n",
    "    \n",
    "    cols = [\"chr_syn\", \"start_syn\", \"end_syn\",\n",
    "    \"enh_id\",\"chr\", \"start\", \"end\",\n",
    "    \"seg_index\", \"core_remodeling\", \"core\",\n",
    "    \"mrca\",\n",
    "    \"chr_tf\", \"start_tf\", \"end_tf\",\n",
    "    \"tf_id\", \"peak_len\",\n",
    "    \"tf\", \"cell_line\" , \"overlap\"\n",
    "    ]\n",
    "\n",
    "    df = pd.read_csv(intersection_file,\n",
    "    sep = '\\t',\n",
    "    header = None).drop_duplicates()\n",
    "\n",
    "    df.columns = cols # add column names\n",
    "    df = pd.merge(df, syn[[\"mrca\", \"mrca_2\"]], how = \"left\")\n",
    "    df[\"tf\"] = df[\"tf_id\"].apply(lambda x: x.split(\"_\")[0])\n",
    "\n",
    "    # add architecture label - core, derived, simple\n",
    "    df[\"arch\"] = \"simple\"\n",
    "    df.loc[(df.core_remodeling ==1) & (df.core ==1), \"arch\"] = \"complex_core\"\n",
    "    df.loc[(df.core_remodeling ==1) & (df.core ==0), \"arch\"] = \"complex_derived\"\n",
    "    df.mrca = df.mrca.round(3)\n",
    "    df = pd.merge(df, syn[[\"mrca\", \"mrca_2\", \"taxon2\"]], how = \"left\")\n",
    "    df = reEval_PrimComplex(df)\n",
    "\n",
    "    # add architecture label - complex, simple\n",
    "    df[\"overallarch\"] = \"simple\"\n",
    "    df.loc[df.core_remodeling ==1, \"overallarch\"] = \"complex\"\n",
    "\n",
    "    # add syn identifier\n",
    "    df[\"syn_id\"] = df.chr_syn + \":\" + df.start_syn.map(str) + \"-\" + df.end_syn.map(str)\n",
    "\n",
    "    #calculate enhancer and syntenic block length\n",
    "    df[\"enh_len\"] = df.end - df.start\n",
    "    df[\"syn_len\"] = df.end_syn - df.start_syn\n",
    "    df.loc[df.syn_len <6, \"syn_len\"] = 0\n",
    "\n",
    "\n",
    "    # binary for TF overlap, any TF that overlaps less than 6bp is not counted.\n",
    "    df[\"tfoverlap_bin\"] = 1\n",
    "    df.loc[df.tf == \".\", \"tfoverlap_bin\"] = 0\n",
    "    df.loc[df.overlap <6 , \"tfoverlap_bin\"] = 0\n",
    "\n",
    "\n",
    "    return df"
   ]
  },
  {
   "cell_type": "markdown",
   "metadata": {},
   "source": [
    "## count enhancers"
   ]
  },
  {
   "cell_type": "code",
   "execution_count": 9,
   "metadata": {
    "ExecuteTime": {
     "end_time": "2021-12-23T02:49:31.759232Z",
     "start_time": "2021-12-23T02:49:31.726813Z"
    }
   },
   "outputs": [],
   "source": [
    "def count_enhancers(df, arch):\n",
    "\n",
    "    if arch == \"enh\":\n",
    "        enh_df = df.groupby([\"enh_id\", \"core_remodeling\", \"overallarch\"])[[\"mrca\", \"seg_index\"]].max().reset_index()\n",
    "\n",
    "        totalenh_n = len(enh_df) #30279 enhancers total\n",
    "        simpleenh_n = len(enh_df.loc[enh_df.overallarch == \"simple\"]) #14098 simple enhancers\n",
    "        complexenh_n = len(enh_df.loc[enh_df.overallarch != \"simple\"]) # 8744 complex enhancers\n",
    "\n",
    "\n",
    "        return totalenh_n, simpleenh_n, complexenh_n\n",
    "\n",
    "    elif arch == \"syn\":\n",
    "\n",
    "        total = len(df)\n",
    "        core_n = df.loc[df.arch == \"complex_core\"][\"syn_id\"].count()\n",
    "        derived_n = df.loc[df.arch == \"complex_derived\"][\"syn_id\"].count()\n",
    "        simple_n = df.loc[df.arch == \"simple\"][\"syn_id\"].count()\n",
    "\n",
    "        return total, core_n, derived_n, simple_n\n",
    "\n",
    "\n",
    "def just_get_df(cell_line, val, fantombase, encodepath,):\n",
    "    print(cell_line, val)\n",
    "    fantom, encode, intersection = get_paths(cell_line, val, fantombase, encodepath)\n",
    "\n",
    "    #Bed command\n",
    "    bed_intersect(fantom, encode, intersection)\n",
    "\n",
    "    #dataframe\n",
    "    df = format_df(intersection)\n",
    "\n",
    "    return df"
   ]
  },
  {
   "cell_type": "markdown",
   "metadata": {},
   "source": [
    "## plot summarized tf density"
   ]
  },
  {
   "cell_type": "code",
   "execution_count": 10,
   "metadata": {
    "ExecuteTime": {
     "end_time": "2021-12-23T02:49:31.772924Z",
     "start_time": "2021-12-23T02:49:31.761287Z"
    }
   },
   "outputs": [],
   "source": [
    "def plot_summarized_TFden(cplx, zeros, simple, box):\n",
    "    \n",
    "    if zeros == True:\n",
    "        outf = f\"{RE}complex_arch_den_w_zeros.pdf\"\n",
    "    else:\n",
    "        outf = f\"{RE}complex_arch_den_wo_zeros.pdf\"\n",
    "\n",
    "    cplx_der = cplx.loc[cplx.arch == \"complex_derived\", \"tf_density\"]\n",
    "    cplx_core = cplx.loc[cplx.arch == \"complex_core\", \"tf_density\"]\n",
    "    \n",
    "    print(\"mwu\", stats.mannwhitneyu(cplx_der, cplx_core))\n",
    "    print(\"der median TFBS density\", cplx_der.median(), \"core median TFBS density\",cplx_core.median())\n",
    "\n",
    "    fig, ax = plt.subplots(figsize = (6,6))\n",
    "\n",
    "    x, y = \"arch\", \"tf_density\"\n",
    "    data = cplx\n",
    "    if box == True:\n",
    "        plot = sns.boxplot(x=x, y=y, data=data,\n",
    "                palette = PAL, \n",
    "                showfliers = False\n",
    "                #estimator = np.median\n",
    "               )\n",
    "    else:\n",
    "        plot = sns.barplot(x=x, y=y, data=data,\n",
    "                palette = PAL, estimator = np.median)\n",
    "    \n",
    "    ax.set(xticklabels = [\"Core\", \"Derived\"],\n",
    "           ylabel=\"TFBS Density\",\n",
    "          xlabel = \"\")\n",
    "    \"\"\"\n",
    "    # Iterrating over the bars one-by-one\n",
    "    for bar in plots.patches:\n",
    "   \n",
    "      # Using Matplotlib's annotate function and\n",
    "      # passing the coordinates where the annotation shall be done\n",
    "      # x-coordinate: bar.get_x() + bar.get_width() / 2\n",
    "      # y-coordinate: bar.get_height()\n",
    "      # free space to be left to make graph pleasing: (0, 8)\n",
    "      # ha and va stand for the horizontal and vertical alignment\n",
    "        plots.annotate(format(bar.get_height(), '.2f'),\n",
    "                       (bar.get_x() + bar.get_width() / 2,\n",
    "                        bar.get_height()), ha='center', va='center',\n",
    "                       size=15, xytext=(0, 8),\n",
    "                       textcoords='offset points')\n",
    "    \"\"\"\n",
    "    height = 0\n",
    "    for bar in plot.patches:\n",
    "        height = bar.get_height()\n",
    "        if height > max_height:\n",
    "            max_height = height\n",
    "        \n",
    "    ax.axhline(simple, linestyle = \"--\", color = \"grey\")  #plot simple line\n",
    "    \n",
    "    #plt.yticks(np.arange(min(data[y]), height+0.01, 0.01))\n",
    "\n",
    "    plt.savefig(outf, bbox_inches = \"tight\")"
   ]
  },
  {
   "cell_type": "markdown",
   "metadata": {},
   "source": [
    "## linear regression function"
   ]
  },
  {
   "cell_type": "code",
   "execution_count": 11,
   "metadata": {
    "ExecuteTime": {
     "end_time": "2021-12-23T02:49:31.781410Z",
     "start_time": "2021-12-23T02:49:31.774722Z"
    }
   },
   "outputs": [],
   "source": [
    "def lin_regress(table):\n",
    "    cplx_der = table[\"complex_derived\"]\n",
    "    cplx_core = table[\"complex_core\"]\n",
    "    print(\"der median\", cplx_der.median(), \"core median\", cplx_core.median()) #0.021 0.024\n",
    "    print(stats.linregress(cplx_der,cplx_core))"
   ]
  },
  {
   "cell_type": "markdown",
   "metadata": {},
   "source": [
    "# get the dataframe"
   ]
  },
  {
   "cell_type": "code",
   "execution_count": 12,
   "metadata": {
    "ExecuteTime": {
     "end_time": "2021-12-23T02:49:40.829292Z",
     "start_time": "2021-12-23T02:49:31.783209Z"
    }
   },
   "outputs": [
    {
     "name": "stdout",
     "output_type": "stream",
     "text": [
      "K562 ELS_combined_K562\n",
      "previously done enh x encode intersection\n"
     ]
    }
   ],
   "source": [
    "#%%\n",
    "\n",
    "sample_dict = get_cell_lines(CL)\n",
    "\n",
    "#%%\n",
    "\n",
    "val = f\"ELS_combined_{CL}\"\n",
    "\n",
    "df_file = f\"{RE_DATA}{CL}_df.tsv\"\n",
    "\n",
    "df = just_get_df(CL, val, ENHBASE, ENCODEPATH,)"
   ]
  },
  {
   "cell_type": "markdown",
   "metadata": {},
   "source": [
    "# calculate TFBS density"
   ]
  },
  {
   "cell_type": "markdown",
   "metadata": {},
   "source": [
    "1. Divide syntenic length by TFBS count (center 30bp of ChIP-peak)\n",
    "2. Exclude syntenic blocks < 6bp in length\n",
    "\n",
    "###### Analysis 1 - evaluate TFBS density at syntenic block level\n",
    "3. Sum TFBS counts per derived, core syntenic block and calculate TFBS density based on syntenic block lengths. \n",
    "    - this allows for multiple derived|core regions to have TFBS densities per enhancer\n",
    "    \n",
    "###### Analysis 2 - evaluate TFBS density at summarized core | derived level\n",
    "3. Sum TFBS counts from multiple derived | multiple core sequences into single derived | core region with one summed TFBS count per complex enhancer. \n",
    "       \n",
    "       3a. In other words, for each enhancer there will be one core and one derived measurement.  \n",
    "4. Sum sequence lengths from core | derived sequences in complex enhancer. \n",
    "5. Calculate TFBS density using summed core | derived length"
   ]
  },
  {
   "cell_type": "markdown",
   "metadata": {},
   "source": [
    "### remove complex enhancers w/ core|derived regions with less than 6bp in length. \n"
   ]
  },
  {
   "cell_type": "code",
   "execution_count": 13,
   "metadata": {
    "ExecuteTime": {
     "end_time": "2021-12-23T02:49:40.838796Z",
     "start_time": "2021-12-23T02:49:40.831370Z"
    }
   },
   "outputs": [],
   "source": [
    "def confirm_complex(df):\n",
    "    # get all enhancers w/ syn_lengs > 5 bp\n",
    "    cleaning = df.loc[df.syn_len>5].groupby([\"enh_id\", \"core_remodeling\", \"core\"])[\"arch\"].count().reset_index()\n",
    "    \n",
    "    # count how many syntenic regions belong to each core, derived, simple \n",
    "    complex_check = cleaning.groupby([\"enh_id\", \"core_remodeling\"])[\"core\"].count().reset_index()\n",
    "\n",
    "    # count the number of complex enhancers that no longer have 2 regions (core, derived)\n",
    "    not_complex_ids = complex_check.loc[(complex_check[\"core_remodeling\"]== 1) \n",
    "                  &(complex_check[\"core\"] <2), \"enh_id\"]\n",
    "    \n",
    "    return not_complex_ids\n",
    " "
   ]
  },
  {
   "cell_type": "markdown",
   "metadata": {},
   "source": [
    "## Analysis 1 - keep derived and core at syntenic block level. "
   ]
  },
  {
   "cell_type": "code",
   "execution_count": 14,
   "metadata": {
    "ExecuteTime": {
     "end_time": "2021-12-23T02:49:41.289494Z",
     "start_time": "2021-12-23T02:49:40.840408Z"
    }
   },
   "outputs": [],
   "source": [
    "blacklist = confirm_complex(df)# removes 4295 complex enhancers."
   ]
  },
  {
   "cell_type": "code",
   "execution_count": 15,
   "metadata": {
    "ExecuteTime": {
     "end_time": "2021-12-23T02:49:41.453529Z",
     "start_time": "2021-12-23T02:49:41.291221Z"
    }
   },
   "outputs": [],
   "source": [
    "# remove complex enhancers w/ <6bp core|derived syn regions\n",
    "test = df.loc[~df[\"enh_id\"].isin(blacklist)]"
   ]
  },
  {
   "cell_type": "markdown",
   "metadata": {},
   "source": [
    "## Non-zero TFBS density in core + derived regions"
   ]
  },
  {
   "cell_type": "code",
   "execution_count": 16,
   "metadata": {
    "ExecuteTime": {
     "end_time": "2021-12-23T02:49:41.687755Z",
     "start_time": "2021-12-23T02:49:41.455287Z"
    }
   },
   "outputs": [],
   "source": [
    "# count TFs per core | derived | simple syntenic regions\n",
    "tfden_syn = test.groupby([\"enh_id\",  \"arch\", \"core\", \"syn_len\"])[[\"tfoverlap_bin\"]].sum().reset_index()\n",
    "\n",
    "# quantify TFBS density \n",
    "tfden_syn[\"tf_density\"] = tfden_syn['tfoverlap_bin'].divide(tfden_syn[\"syn_len\"])"
   ]
  },
  {
   "cell_type": "code",
   "execution_count": 17,
   "metadata": {
    "ExecuteTime": {
     "end_time": "2021-12-23T02:49:41.834251Z",
     "start_time": "2021-12-23T02:49:41.689537Z"
    }
   },
   "outputs": [],
   "source": [
    "test = tfden_syn.loc[tfden_syn[\"tf_density\"]>0] # get only enhnacer ids where tfbs density > 0 \n",
    "\n",
    "# count number of core, derived regions where TFBS density is greater than zero\n",
    "test_ = test.groupby([\"enh_id\", \"arch\"])[\"tf_density\"].count().reset_index()  \n",
    "\n",
    "# make table to count N non-zero tfbs densities per enhancer\n",
    "table = test_.pivot(index = \"enh_id\", columns = \"arch\", values = \"tf_density\")\n",
    "table = table.fillna(0)  # fill nas w zeros\n",
    "\n",
    "# select all complex enhancers with nonzero tfbs density in both core and derived\n",
    "nonzero_complex = table.loc[(table.complex_core >0) & (table.complex_derived >0)].index.to_list()\n",
    "# select all simple enhancers with nonzero tfbs density in both core and derived\n",
    "nonzero_simple = table.loc[(table.simple >0)].index.to_list()"
   ]
  },
  {
   "cell_type": "markdown",
   "metadata": {},
   "source": [
    "## plot tfbs density for syntenic blocks"
   ]
  },
  {
   "cell_type": "code",
   "execution_count": 18,
   "metadata": {
    "ExecuteTime": {
     "end_time": "2021-12-23T02:49:42.185777Z",
     "start_time": "2021-12-23T02:49:41.835875Z"
    }
   },
   "outputs": [
    {
     "name": "stdout",
     "output_type": "stream",
     "text": [
      "mwu MannwhitneyuResult(statistic=454985535.0, pvalue=1.354047008044904e-94)\n",
      "der median TFBS density 0.03888888888888889 core median TFBS density 0.042105263157894736\n"
     ]
    },
    {
     "data": {
      "image/png": "[encoded data removed]",
      "text/plain": [
       "<Figure size 432x432 with 1 Axes>"
      ]
     },
     "metadata": {
      "needs_background": "light"
     },
     "output_type": "display_data"
    }
   ],
   "source": [
    "cplx = tfden_syn.loc[(tfden_syn.arch != 'simple')]\n",
    "zeros = True\n",
    "simple = tfden_syn.loc[tfden_syn.arch == 'simple', \"tf_density\"].median()\n",
    "box = True\n",
    "plot_summarized_TFden(cplx, zeros, simple, box)"
   ]
  },
  {
   "cell_type": "markdown",
   "metadata": {},
   "source": [
    "## Figure 4a - no zeros, syntenic block TFBS density "
   ]
  },
  {
   "cell_type": "code",
   "execution_count": 19,
   "metadata": {
    "ExecuteTime": {
     "end_time": "2021-12-23T02:49:42.519226Z",
     "start_time": "2021-12-23T02:49:42.187708Z"
    }
   },
   "outputs": [
    {
     "name": "stdout",
     "output_type": "stream",
     "text": [
      "0.04597701149425287\n",
      "mwu MannwhitneyuResult(statistic=225173578.5, pvalue=3.455987591306706e-52)\n",
      "der median TFBS density 0.07427157001414428 core median TFBS density 0.06206896551724138\n"
     ]
    },
    {
     "data": {
      "image/png": "[encoded data removed]",
      "text/plain": [
       "<Figure size 432x432 with 1 Axes>"
      ]
     },
     "metadata": {
      "needs_background": "light"
     },
     "output_type": "display_data"
    }
   ],
   "source": [
    "cplx_ = cplx.loc[(cplx.tf_density >0)]\n",
    "zeros = False\n",
    "simple = tfden_syn.loc[(tfden_syn[\"enh_id\"].isin(nonzero_simple)), \"tf_density\"].median()\n",
    "print(simple)\n",
    "plot_summarized_TFden(cplx_, zeros, simple, box)"
   ]
  },
  {
   "cell_type": "markdown",
   "metadata": {},
   "source": [
    "## Analysis 2-  sum derived and core. "
   ]
  },
  {
   "cell_type": "code",
   "execution_count": 20,
   "metadata": {
    "ExecuteTime": {
     "end_time": "2021-12-22T23:45:16.737863Z",
     "start_time": "2021-12-22T23:45:16.539109Z"
    }
   },
   "outputs": [],
   "source": [
    "# Sum number of TFBS per core, derived region\n",
    "tfden = df.groupby([\"enh_id\",  \"arch\", \"core\"])[[\"tfoverlap_bin\"]].sum().reset_index()"
   ]
  },
  {
   "cell_type": "code",
   "execution_count": 21,
   "metadata": {
    "ExecuteTime": {
     "end_time": "2021-12-22T23:45:17.033326Z",
     "start_time": "2021-12-22T23:45:16.739581Z"
    }
   },
   "outputs": [],
   "source": [
    "# Sum sequence lengths\n",
    "\n",
    "# subset dataset\n",
    "lens = df[['enh_id', \"core\", \"syn_id\", \"syn_len\"]].drop_duplicates()\n",
    "\n",
    "# sum the lengths\n",
    "seg_lens = lens.groupby([\"enh_id\", \"core\"])[\"syn_len\"].sum().reset_index()"
   ]
  },
  {
   "cell_type": "code",
   "execution_count": 22,
   "metadata": {
    "ExecuteTime": {
     "end_time": "2021-12-22T23:45:17.067375Z",
     "start_time": "2021-12-22T23:45:17.034982Z"
    }
   },
   "outputs": [],
   "source": [
    "# merge summed TFBS counts and summed length dataframes\n",
    "tfden = pd.merge(tfden, seg_lens)\n",
    "\n",
    "# calculate TFBS Density\n",
    "tfden[\"tf_density\"] = tfden[\"tfoverlap_bin\"].divide(tfden.syn_len)"
   ]
  },
  {
   "cell_type": "code",
   "execution_count": 23,
   "metadata": {
    "ExecuteTime": {
     "end_time": "2021-12-22T23:45:17.518016Z",
     "start_time": "2021-12-22T23:45:17.071270Z"
    }
   },
   "outputs": [],
   "source": [
    "# 6 bp filter\n",
    "\n",
    "# remove any complex enhancers that are shorter than 6 bp in length\n",
    "blacklist = confirm_complex(df)# removes 4295 complex enhancers.\n",
    "\n",
    "tfden = tfden.loc[~tfden.enh_id.isin(blacklist)]"
   ]
  },
  {
   "cell_type": "markdown",
   "metadata": {
    "ExecuteTime": {
     "end_time": "2021-12-22T01:50:01.924522Z",
     "start_time": "2021-12-22T01:50:00.495617Z"
    }
   },
   "source": [
    "### only complex enhancers, include enhancers that have zeros in core, derived or both?"
   ]
  },
  {
   "cell_type": "code",
   "execution_count": 24,
   "metadata": {
    "ExecuteTime": {
     "end_time": "2021-12-22T23:45:17.818340Z",
     "start_time": "2021-12-22T23:45:17.520045Z"
    }
   },
   "outputs": [
    {
     "name": "stdout",
     "output_type": "stream",
     "text": [
      "mwu MannwhitneyuResult(statistic=196344286.5, pvalue=1.0869451097572751e-10)\n",
      "der median TFBS density 0.04 core median TFBS density 0.043478260869565216\n"
     ]
    },
    {
     "data": {
      "image/png": "[encoded data removed]",
      "text/plain": [
       "<Figure size 432x432 with 1 Axes>"
      ]
     },
     "metadata": {
      "needs_background": "light"
     },
     "output_type": "display_data"
    }
   ],
   "source": [
    "cplx = tfden.loc[(tfden.arch != 'simple')]\n",
    "zeros = True\n",
    "simple = tfden.loc[tfden.arch == 'simple', \"tf_density\"].median()\n",
    "box = True\n",
    "plot_summarized_TFden(cplx, zeros, simple, box)"
   ]
  },
  {
   "cell_type": "markdown",
   "metadata": {
    "ExecuteTime": {
     "end_time": "2021-12-22T02:24:09.608312Z",
     "start_time": "2021-12-22T02:24:09.602279Z"
    }
   },
   "source": [
    "### complex enhancer without core | der elements w/ no TFBS"
   ]
  },
  {
   "cell_type": "code",
   "execution_count": 25,
   "metadata": {
    "ExecuteTime": {
     "end_time": "2021-12-22T23:45:18.127127Z",
     "start_time": "2021-12-22T23:45:17.820204Z"
    }
   },
   "outputs": [
    {
     "name": "stdout",
     "output_type": "stream",
     "text": [
      "mwu MannwhitneyuResult(statistic=98605232.0, pvalue=0.02124706430521682)\n",
      "der median TFBS density 0.06878306878306878 core median TFBS density 0.07142857142857142\n"
     ]
    },
    {
     "data": {
      "image/png": "[encoded data removed]",
      "text/plain": [
       "<Figure size 432x432 with 1 Axes>"
      ]
     },
     "metadata": {
      "needs_background": "light"
     },
     "output_type": "display_data"
    }
   ],
   "source": [
    "cplx_ = cplx.loc[(cplx[\"enh_id\"].isin(nonzero_complex))]\n",
    "zeros = False\n",
    "simple = tfden.loc[(tfden[\"enh_id\"].isin(nonzero_simple)), \"tf_density\"].median()\n",
    "plot_summarized_TFden(cplx_, zeros, simple, box)"
   ]
  },
  {
   "cell_type": "markdown",
   "metadata": {
    "ExecuteTime": {
     "end_time": "2021-12-22T01:50:53.835233Z",
     "start_time": "2021-12-22T01:50:53.765653Z"
    }
   },
   "source": [
    "# make table of core/derived densities per complex enhancer"
   ]
  },
  {
   "cell_type": "markdown",
   "metadata": {},
   "source": [
    "## including zero counts "
   ]
  },
  {
   "cell_type": "code",
   "execution_count": 26,
   "metadata": {
    "ExecuteTime": {
     "end_time": "2021-12-22T23:45:18.163756Z",
     "start_time": "2021-12-22T23:45:18.128848Z"
    }
   },
   "outputs": [
    {
     "data": {
      "text/plain": [
       "(19092, 3)"
      ]
     },
     "execution_count": 26,
     "metadata": {},
     "output_type": "execute_result"
    }
   ],
   "source": [
    "table = cplx.pivot(index = \"enh_id\", columns = \"arch\", values = \"tf_density\")\n",
    "table[\"sum\"] = table.sum(axis = 1)\n",
    "\n",
    "# make a table where enhancer must have TFBS evidence\n",
    "# in core OR derived\n",
    "table_ = table.loc[table[\"sum\"]>0] # 20263 complex enhancers bind a TF\n",
    "table_.shape"
   ]
  },
  {
   "cell_type": "markdown",
   "metadata": {},
   "source": [
    "## without zero counts "
   ]
  },
  {
   "cell_type": "code",
   "execution_count": 27,
   "metadata": {
    "ExecuteTime": {
     "end_time": "2021-12-22T23:45:18.174857Z",
     "start_time": "2021-12-22T23:45:18.165314Z"
    }
   },
   "outputs": [
    {
     "data": {
      "text/plain": [
       "(14142, 3)"
      ]
     },
     "execution_count": 27,
     "metadata": {},
     "output_type": "execute_result"
    }
   ],
   "source": [
    "# in core AND derived TFBS evidence\n",
    "table_nonzerosyn = table_.loc[\n",
    "(table_[\"complex_core\"] > 0)\n",
    "& (table_[\"complex_derived\"] > 0)\n",
    "]\n",
    "\n",
    "table_nonzerosyn.shape # (11899, 3)"
   ]
  },
  {
   "cell_type": "markdown",
   "metadata": {},
   "source": [
    "# plot joint plot"
   ]
  },
  {
   "cell_type": "code",
   "execution_count": 28,
   "metadata": {
    "ExecuteTime": {
     "end_time": "2021-12-22T23:45:18.185802Z",
     "start_time": "2021-12-22T23:45:18.176471Z"
    }
   },
   "outputs": [],
   "source": [
    "def plot_jointplots(table, zeros, quant, kind):\n",
    "    x, y = \"complex_core\",\"complex_derived\",\n",
    "\n",
    "\n",
    "    # plot 95% quantile of data\n",
    "    dq = table[\"complex_derived\"].quantile(quant)\n",
    "    cq = table[\"complex_core\"].quantile(quant)\n",
    "    q = max([dq,cq])\n",
    "\n",
    "    # subset table to 95% of data\n",
    "    table_ = table.loc[(table[\"complex_derived\"] <= q)\n",
    "    & (table[\"complex_core\"]<=q)]\n",
    "    \n",
    "    # set axis limits to max quantile of data\n",
    "    lim = (0,q)\n",
    "\n",
    "    if zeros == True:\n",
    "        outf = f\"{RE}sum_complex_core_v_der_den_w_zeros\"\n",
    "    else:\n",
    "        outf = f\"{RE}sum_complex_core_v_der_den_wo_zeros\"\n",
    "\n",
    "    g = sns.JointGrid(x=x, y=y, data = table_, marginal_ticks=True)\n",
    "    \n",
    "    g.plot_joint(sns.histplot, color = '#31a354', alpha = 0.7)\n",
    "\n",
    "    g.plot_marginals(sns.histplot,\n",
    "    edgecolor=\".2\", linewidth=.5,\n",
    "    color = \"#31a354\",\n",
    "    )\n",
    "\n",
    "    # set derived histogram color\n",
    "    plt.setp(g.ax_marg_y.patches, color=\"#addd8e\", edgecolor=\".2\", linewidth=.5)\n",
    "\n",
    "    t = [0,  0.1,  0.20,  0.30, 0.40]\n",
    "    g.ax_joint.set_xticks(t)\n",
    "    g.ax_joint.set_yticks(t)\n",
    "    g.ax_joint.set_xlabel(\"Core TFBS density\")\n",
    "    g.ax_joint.set_ylabel(\"Derived TFBS density\")\n",
    "\n",
    "    # add KDE plot\n",
    "    g.plot_joint(sns.regplot, color=\"k\",\n",
    "    marker=\"+\", scatter_kws ={\"s\":0},\n",
    "    )\n",
    "\n",
    "    lin_regress(table_)\n",
    "\n",
    "    outf_ = outf + f\"_{quant}_{kind}.pdf\"\n",
    "    plt.savefig(outf_, bbox_inches = \"tight\", dpi = 60)\n",
    "    plt.show()"
   ]
  },
  {
   "cell_type": "markdown",
   "metadata": {},
   "source": [
    "# plot core v. derived density including zeros"
   ]
  },
  {
   "cell_type": "code",
   "execution_count": 29,
   "metadata": {
    "ExecuteTime": {
     "end_time": "2021-12-22T23:45:20.884976Z",
     "start_time": "2021-12-22T23:45:18.189082Z"
    }
   },
   "outputs": [
    {
     "name": "stdout",
     "output_type": "stream",
     "text": [
      "der median 0.03816793893129771 core median 0.041666666666666664\n",
      "LinregressResult(slope=0.4312216419896674, intercept=0.04000006601694993, rvalue=0.4299684702216631, pvalue=0.0, stderr=0.006870513567089545)\n"
     ]
    },
    {
     "data": {
      "image/png": "[encoded data removed]",
      "text/plain": [
       "<Figure size 432x432 with 3 Axes>"
      ]
     },
     "metadata": {
      "needs_background": "light"
     },
     "output_type": "display_data"
    }
   ],
   "source": [
    "#%% core OR derived joint plot\n",
    "\n",
    "#quants = [0.95, 0.75]\n",
    "\n",
    "#kinds = [\"hex\", \"hist\", \"kde\", \"reg\", \"resid\"]\n",
    "\n",
    "kind = \"hist\"\n",
    "quant = 0.95\n",
    "\n",
    "zeros, tble = True, table_\n",
    "plot_jointplots(tble, zeros, quant, kind)"
   ]
  },
  {
   "cell_type": "markdown",
   "metadata": {},
   "source": [
    "# Figure 4B - plot core and derived densities without zeros"
   ]
  },
  {
   "cell_type": "code",
   "execution_count": 30,
   "metadata": {
    "ExecuteTime": {
     "end_time": "2021-12-22T23:45:23.063608Z",
     "start_time": "2021-12-22T23:45:20.887272Z"
    },
    "code_folding": []
   },
   "outputs": [
    {
     "name": "stdout",
     "output_type": "stream",
     "text": [
      "2933\n",
      "2017\n",
      "der median 0.06060606060606061 core median 0.06333571046532359\n",
      "LinregressResult(slope=0.39280243002571, intercept=0.05641213095094309, rvalue=0.3856789809699336, pvalue=0.0, stderr=0.008277218757858328)\n"
     ]
    },
    {
     "data": {
      "image/png": "[encoded data removed]",
      "text/plain": [
       "<Figure size 432x432 with 3 Axes>"
      ]
     },
     "metadata": {
      "needs_background": "light"
     },
     "output_type": "display_data"
    },
    {
     "data": {
      "text/plain": [
       "'\\n# 95%\\nw/0\\nder median 0.01639344262295082 core median 0.022026431718061675\\nLinregressResult(slope=0.2740493364285827, intercept=0.025857669889984305, rvalue=0.2730234869080214, pvalue=0.0, stderr=0.007106889008775947)\\n\\nw/o0\\nder median 0.03636363636363636 core median 0.03937007874015748\\nLinregressResult(slope=0.23408839183624733, intercept=0.04017769440564996, rvalue=0.23803829671851803, pvalue=5.113126292512663e-140, stderr=0.009157399629014606)\\n\\n'"
      ]
     },
     "execution_count": 30,
     "metadata": {},
     "output_type": "execute_result"
    }
   ],
   "source": [
    "#LinregressResult(slope=0.22504764240874248, intercept=0.03395466305726717, rvalue=0.28536843920172467, pvalue=0.0, stderr=0.005310243521041514)\n",
    "\n",
    "#\n",
    "print(len(tble.loc[tble[\"complex_derived\"] == 0])) # 5211 = 26% of enhancers have derived sequence with no tfbs\n",
    "print(len(tble.loc[tble[\"complex_core\"] == 0])) # 3153 = 16% of enhancers have core sequence with no tfbs\n",
    "\n",
    "# core AND derived joint plot\n",
    "\n",
    "zeros, tble = False, table_nonzerosyn\n",
    "plot_jointplots(tble, zeros, quant, kind)\n",
    "#lin_regress(tble)\n",
    "\n",
    "#%%\n",
    "\"\"\"\n",
    "# 95%\n",
    "w/0\n",
    "der median 0.01639344262295082 core median 0.022026431718061675\n",
    "LinregressResult(slope=0.2740493364285827, intercept=0.025857669889984305, rvalue=0.2730234869080214, pvalue=0.0, stderr=0.007106889008775947)\n",
    "\n",
    "w/o0\n",
    "der median 0.03636363636363636 core median 0.03937007874015748\n",
    "LinregressResult(slope=0.23408839183624733, intercept=0.04017769440564996, rvalue=0.23803829671851803, pvalue=5.113126292512663e-140, stderr=0.009157399629014606)\n",
    "\n",
    "\"\"\"\n",
    "#LinregressResult(slope=0.15, intercept=0.052, rvalue=0.20, pvalue=3.85e-104, stderr=0.007)\n",
    "#%%"
   ]
  },
  {
   "cell_type": "markdown",
   "metadata": {},
   "source": [
    "# Evaluate the fraction of zeros  "
   ]
  },
  {
   "cell_type": "code",
   "execution_count": 31,
   "metadata": {
    "ExecuteTime": {
     "end_time": "2021-12-22T23:45:23.092747Z",
     "start_time": "2021-12-22T23:45:23.065910Z"
    }
   },
   "outputs": [
    {
     "data": {
      "text/html": [
       "<div>\n",
       "<style scoped>\n",
       "    .dataframe tbody tr th:only-of-type {\n",
       "        vertical-align: middle;\n",
       "    }\n",
       "\n",
       "    .dataframe tbody tr th {\n",
       "        vertical-align: top;\n",
       "    }\n",
       "\n",
       "    .dataframe thead th {\n",
       "        text-align: right;\n",
       "    }\n",
       "</style>\n",
       "<table border=\"1\" class=\"dataframe\">\n",
       "  <thead>\n",
       "    <tr style=\"text-align: right;\">\n",
       "      <th></th>\n",
       "      <th>chr_syn</th>\n",
       "      <th>start_syn</th>\n",
       "      <th>end_syn</th>\n",
       "      <th>enh_id</th>\n",
       "      <th>chr</th>\n",
       "      <th>start</th>\n",
       "      <th>end</th>\n",
       "      <th>seg_index</th>\n",
       "      <th>core_remodeling</th>\n",
       "      <th>core</th>\n",
       "      <th>...</th>\n",
       "      <th>cell_line</th>\n",
       "      <th>overlap</th>\n",
       "      <th>mrca_2</th>\n",
       "      <th>arch</th>\n",
       "      <th>taxon2</th>\n",
       "      <th>overallarch</th>\n",
       "      <th>syn_id</th>\n",
       "      <th>enh_len</th>\n",
       "      <th>syn_len</th>\n",
       "      <th>tfoverlap_bin</th>\n",
       "    </tr>\n",
       "  </thead>\n",
       "  <tbody>\n",
       "    <tr>\n",
       "      <th>0</th>\n",
       "      <td>chr1</td>\n",
       "      <td>100036809</td>\n",
       "      <td>100037123</td>\n",
       "      <td>chr1:100036809-100037123</td>\n",
       "      <td>chr1</td>\n",
       "      <td>100036809</td>\n",
       "      <td>100037123</td>\n",
       "      <td>0</td>\n",
       "      <td>0</td>\n",
       "      <td>1</td>\n",
       "      <td>...</td>\n",
       "      <td>K562</td>\n",
       "      <td>30</td>\n",
       "      <td>0.19</td>\n",
       "      <td>simple</td>\n",
       "      <td>Eutheria</td>\n",
       "      <td>simple</td>\n",
       "      <td>chr1:100036809-100037123</td>\n",
       "      <td>314</td>\n",
       "      <td>314</td>\n",
       "      <td>1</td>\n",
       "    </tr>\n",
       "    <tr>\n",
       "      <th>1</th>\n",
       "      <td>chr1</td>\n",
       "      <td>100036809</td>\n",
       "      <td>100037123</td>\n",
       "      <td>chr1:100036809-100037123</td>\n",
       "      <td>chr1</td>\n",
       "      <td>100036809</td>\n",
       "      <td>100037123</td>\n",
       "      <td>0</td>\n",
       "      <td>0</td>\n",
       "      <td>1</td>\n",
       "      <td>...</td>\n",
       "      <td>K562</td>\n",
       "      <td>30</td>\n",
       "      <td>0.19</td>\n",
       "      <td>simple</td>\n",
       "      <td>Eutheria</td>\n",
       "      <td>simple</td>\n",
       "      <td>chr1:100036809-100037123</td>\n",
       "      <td>314</td>\n",
       "      <td>314</td>\n",
       "      <td>1</td>\n",
       "    </tr>\n",
       "    <tr>\n",
       "      <th>2</th>\n",
       "      <td>chr1</td>\n",
       "      <td>100036809</td>\n",
       "      <td>100037123</td>\n",
       "      <td>chr1:100036809-100037123</td>\n",
       "      <td>chr1</td>\n",
       "      <td>100036809</td>\n",
       "      <td>100037123</td>\n",
       "      <td>0</td>\n",
       "      <td>0</td>\n",
       "      <td>1</td>\n",
       "      <td>...</td>\n",
       "      <td>K562</td>\n",
       "      <td>20</td>\n",
       "      <td>0.19</td>\n",
       "      <td>simple</td>\n",
       "      <td>Eutheria</td>\n",
       "      <td>simple</td>\n",
       "      <td>chr1:100036809-100037123</td>\n",
       "      <td>314</td>\n",
       "      <td>314</td>\n",
       "      <td>1</td>\n",
       "    </tr>\n",
       "    <tr>\n",
       "      <th>3</th>\n",
       "      <td>chr1</td>\n",
       "      <td>100036809</td>\n",
       "      <td>100037123</td>\n",
       "      <td>chr1:100036809-100037123</td>\n",
       "      <td>chr1</td>\n",
       "      <td>100036809</td>\n",
       "      <td>100037123</td>\n",
       "      <td>0</td>\n",
       "      <td>0</td>\n",
       "      <td>1</td>\n",
       "      <td>...</td>\n",
       "      <td>K562</td>\n",
       "      <td>30</td>\n",
       "      <td>0.19</td>\n",
       "      <td>simple</td>\n",
       "      <td>Eutheria</td>\n",
       "      <td>simple</td>\n",
       "      <td>chr1:100036809-100037123</td>\n",
       "      <td>314</td>\n",
       "      <td>314</td>\n",
       "      <td>1</td>\n",
       "    </tr>\n",
       "    <tr>\n",
       "      <th>4</th>\n",
       "      <td>chr1</td>\n",
       "      <td>100036809</td>\n",
       "      <td>100037123</td>\n",
       "      <td>chr1:100036809-100037123</td>\n",
       "      <td>chr1</td>\n",
       "      <td>100036809</td>\n",
       "      <td>100037123</td>\n",
       "      <td>0</td>\n",
       "      <td>0</td>\n",
       "      <td>1</td>\n",
       "      <td>...</td>\n",
       "      <td>K562</td>\n",
       "      <td>30</td>\n",
       "      <td>0.19</td>\n",
       "      <td>simple</td>\n",
       "      <td>Eutheria</td>\n",
       "      <td>simple</td>\n",
       "      <td>chr1:100036809-100037123</td>\n",
       "      <td>314</td>\n",
       "      <td>314</td>\n",
       "      <td>1</td>\n",
       "    </tr>\n",
       "  </tbody>\n",
       "</table>\n",
       "<p>5 rows × 27 columns</p>\n",
       "</div>"
      ],
      "text/plain": [
       "  chr_syn  start_syn    end_syn                    enh_id   chr      start  \\\n",
       "0    chr1  100036809  100037123  chr1:100036809-100037123  chr1  100036809   \n",
       "1    chr1  100036809  100037123  chr1:100036809-100037123  chr1  100036809   \n",
       "2    chr1  100036809  100037123  chr1:100036809-100037123  chr1  100036809   \n",
       "3    chr1  100036809  100037123  chr1:100036809-100037123  chr1  100036809   \n",
       "4    chr1  100036809  100037123  chr1:100036809-100037123  chr1  100036809   \n",
       "\n",
       "         end  seg_index  core_remodeling  core  ...  cell_line overlap  \\\n",
       "0  100037123          0                0     1  ...       K562      30   \n",
       "1  100037123          0                0     1  ...       K562      30   \n",
       "2  100037123          0                0     1  ...       K562      20   \n",
       "3  100037123          0                0     1  ...       K562      30   \n",
       "4  100037123          0                0     1  ...       K562      30   \n",
       "\n",
       "   mrca_2    arch    taxon2  overallarch                    syn_id enh_len  \\\n",
       "0    0.19  simple  Eutheria       simple  chr1:100036809-100037123     314   \n",
       "1    0.19  simple  Eutheria       simple  chr1:100036809-100037123     314   \n",
       "2    0.19  simple  Eutheria       simple  chr1:100036809-100037123     314   \n",
       "3    0.19  simple  Eutheria       simple  chr1:100036809-100037123     314   \n",
       "4    0.19  simple  Eutheria       simple  chr1:100036809-100037123     314   \n",
       "\n",
       "   syn_len  tfoverlap_bin  \n",
       "0      314              1  \n",
       "1      314              1  \n",
       "2      314              1  \n",
       "3      314              1  \n",
       "4      314              1  \n",
       "\n",
       "[5 rows x 27 columns]"
      ]
     },
     "execution_count": 31,
     "metadata": {},
     "output_type": "execute_result"
    }
   ],
   "source": [
    "df.head()"
   ]
  },
  {
   "cell_type": "code",
   "execution_count": 32,
   "metadata": {
    "ExecuteTime": {
     "end_time": "2021-12-22T23:45:23.126315Z",
     "start_time": "2021-12-22T23:45:23.094302Z"
    }
   },
   "outputs": [],
   "source": [
    "def calculate_zero_syn_freq(zero_syn, df, cell_line, RE):\n",
    "\n",
    "    zero_syn.columns = ['arch', \"zero_counts\"]\n",
    "\n",
    "    arch_df = df[[\"arch\", \"syn_id\"]].drop_duplicates()\n",
    "\n",
    "    total_arch_counts = arch_df.groupby([\"arch\"])[\"syn_id\"].count().reset_index()\n",
    "    total_arch_counts.columns = ['arch', \"total_counts\"]\n",
    "\n",
    "    zero_syn = pd.merge(zero_syn, total_arch_counts, on = \"arch\")\n",
    "    zero_syn[\"freq_zero\"] = zero_syn.zero_counts.divide(zero_syn.total_counts)\n",
    "    zero_syn[\"freq_nonzero\"] = 1-zero_syn[\"freq_zero\"]\n",
    "\n",
    "    print(zero_syn)\n",
    "    zero_syn.to_csv('%snonzero_%s.csv' % (RE, cell_line), index = False)\n",
    "\n"
   ]
  },
  {
   "cell_type": "code",
   "execution_count": 33,
   "metadata": {
    "ExecuteTime": {
     "end_time": "2021-12-22T23:45:23.512945Z",
     "start_time": "2021-12-22T23:45:23.128190Z"
    }
   },
   "outputs": [],
   "source": [
    "df_mrca = df.groupby([\"enh_id\", \"syn_id\", \"arch\", \"mrca_2\"])[\"tfoverlap_bin\"].sum().reset_index()\n",
    "zero_syn = df_mrca.loc[df_mrca[\"tfoverlap_bin\"]==0]"
   ]
  },
  {
   "cell_type": "code",
   "execution_count": 34,
   "metadata": {
    "ExecuteTime": {
     "end_time": "2021-12-22T23:45:23.523667Z",
     "start_time": "2021-12-22T23:45:23.514701Z"
    }
   },
   "outputs": [],
   "source": [
    "total_arch_counts = zero_syn.groupby([\"arch\"])[\"syn_id\"].count().reset_index()\n",
    "total_arch_counts.columns = ['arch', \"total_counts\"]"
   ]
  },
  {
   "cell_type": "code",
   "execution_count": 35,
   "metadata": {
    "ExecuteTime": {
     "end_time": "2021-12-22T23:45:23.554749Z",
     "start_time": "2021-12-22T23:45:23.525180Z"
    }
   },
   "outputs": [
    {
     "data": {
      "text/html": [
       "<div>\n",
       "<style scoped>\n",
       "    .dataframe tbody tr th:only-of-type {\n",
       "        vertical-align: middle;\n",
       "    }\n",
       "\n",
       "    .dataframe tbody tr th {\n",
       "        vertical-align: top;\n",
       "    }\n",
       "\n",
       "    .dataframe thead th {\n",
       "        text-align: right;\n",
       "    }\n",
       "</style>\n",
       "<table border=\"1\" class=\"dataframe\">\n",
       "  <thead>\n",
       "    <tr style=\"text-align: right;\">\n",
       "      <th></th>\n",
       "      <th>arch</th>\n",
       "      <th>total_counts</th>\n",
       "    </tr>\n",
       "  </thead>\n",
       "  <tbody>\n",
       "    <tr>\n",
       "      <th>0</th>\n",
       "      <td>complex_core</td>\n",
       "      <td>6723</td>\n",
       "    </tr>\n",
       "    <tr>\n",
       "      <th>1</th>\n",
       "      <td>complex_derived</td>\n",
       "      <td>12113</td>\n",
       "    </tr>\n",
       "    <tr>\n",
       "      <th>2</th>\n",
       "      <td>simple</td>\n",
       "      <td>1295</td>\n",
       "    </tr>\n",
       "  </tbody>\n",
       "</table>\n",
       "</div>"
      ],
      "text/plain": [
       "              arch  total_counts\n",
       "0     complex_core          6723\n",
       "1  complex_derived         12113\n",
       "2           simple          1295"
      ]
     },
     "execution_count": 35,
     "metadata": {},
     "output_type": "execute_result"
    }
   ],
   "source": [
    "total_arch_counts"
   ]
  },
  {
   "cell_type": "code",
   "execution_count": null,
   "metadata": {},
   "outputs": [],
   "source": []
  }
 ],
 "metadata": {
  "kernelspec": {
   "display_name": "Python (sfenv)",
   "language": "python",
   "name": "sfenv"
  },
  "language_info": {
   "codemirror_mode": {
    "name": "ipython",
    "version": 3
   },
   "file_extension": ".py",
   "mimetype": "text/x-python",
   "name": "python",
   "nbconvert_exporter": "python",
   "pygments_lexer": "ipython3",
   "version": "3.6.6"
  },
  "toc": {
   "base_numbering": 1,
   "nav_menu": {},
   "number_sections": true,
   "sideBar": true,
   "skip_h1_title": false,
   "title_cell": "Table of Contents",
   "title_sidebar": "Contents",
   "toc_cell": false,
   "toc_position": {
    "height": "calc(100% - 180px)",
    "left": "10px",
    "top": "150px",
    "width": "165px"
   },
   "toc_section_display": true,
   "toc_window_display": true
  }
 },
 "nbformat": 4,
 "nbformat_minor": 2
}
