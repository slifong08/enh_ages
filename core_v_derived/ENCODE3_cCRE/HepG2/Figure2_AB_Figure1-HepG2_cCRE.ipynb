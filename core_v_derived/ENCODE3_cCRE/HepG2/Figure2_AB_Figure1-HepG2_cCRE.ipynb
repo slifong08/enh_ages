{
 "cells": [
  {
   "cell_type": "markdown",
   "metadata": {},
   "source": [
    "# Load data\n",
    "- 88 shuffles "
   ]
  },
  {
   "cell_type": "code",
   "execution_count": null,
   "metadata": {},
   "outputs": [],
   "source": [
    "import configparser\n",
    "import matplotlib.pyplot as plt\n",
    "\n",
    "from matplotlib import cm\n",
    "from matplotlib.colors import LinearSegmentedColormap\n",
    "import matplotlib.colors as mcolors\n",
    "import matplotlib as mpl\n",
    "from matplotlib.ticker import MultipleLocator\n",
    "import matplotlib.ticker as ticker\n",
    "\n",
    "import numpy as np\n",
    "import os\n",
    "import pandas as pd\n",
    "from scipy import stats\n",
    "import seaborn as sns\n",
    "import statsmodels\n",
    "import statsmodels.api as sm\n",
    "import subprocess"
   ]
  },
  {
   "cell_type": "code",
   "execution_count": null,
   "metadata": {},
   "outputs": [],
   "source": [
    "CL = \"HepG2\"\n",
    "GENOME_BUILD = \"hg38\""
   ]
  },
  {
   "cell_type": "code",
   "execution_count": null,
   "metadata": {},
   "outputs": [],
   "source": [
    "BASE_PATH= \"/dors/capra_lab/users/fongsl/enh_ages/landscape/\"\n",
    "\n",
    "configfile_name = os.path.join(BASE_PATH, \"config_landscape.ini\")\n",
    "config = configparser.ConfigParser(allow_no_value=True)\n",
    "config.read(configfile_name)\n",
    "\n",
    "## get plotting colors, other parameters\n",
    "\n",
    "sys.path.append(BASE_PATH)\n",
    "import config_plot as cp"
   ]
  },
  {
   "cell_type": "code",
   "execution_count": 11,
   "metadata": {},
   "outputs": [],
   "source": [
    "cCRE = config[f\"ENCODE_{CL}_FEATURES\"][\"DATA_FILE\"]\n",
    "\n",
    "#cCRE_TFBS_ONLY = f\"{cCREPATH}enh_tfbs_only.txt\"\n",
    "\n",
    "SHUFF = config[f\"ENCODE_{CL}_FEATURES\"][\"SHUFFLE_FILE\"]\n",
    "\n",
    "\n",
    "RE = config[f\"ENCODE_{CL}_FEATURES\"][\"RESULTS\"]\n",
    "stat_f = config[f\"ENCODE_{CL}_FEATURES\"][\"STAT_FILE\"]"
   ]
  },
  {
   "cell_type": "markdown",
   "metadata": {},
   "source": [
    "## colors"
   ]
  },
  {
   "cell_type": "code",
   "execution_count": 75,
   "metadata": {},
   "outputs": [],
   "source": [
    "#%%\n",
    "yg = '#f7fcb9'\n",
    "stemg = '#addd8e'\n",
    "kellyg = '#31a354'\n",
    "\n",
    "y = mcolors.to_rgba(yg)\n",
    "lg = mcolors.to_rgba(stemg)\n",
    "g = mcolors.to_rgba(kellyg)\n",
    "\n",
    "\n",
    "colors = [g, lg, y]  # kelly -> light - > yellow\n",
    "cmap_name = 'yg_'\n",
    "CM = LinearSegmentedColormap.from_list(cmap_name, colors, N=3)"
   ]
  },
  {
   "cell_type": "code",
   "execution_count": 76,
   "metadata": {},
   "outputs": [
    {
     "data": {
      "image/png": "[encoded data removed]",
      "text/plain": [
       "<Figure size 72x72 with 1 Axes>"
      ]
     },
     "metadata": {},
     "output_type": "display_data"
    },
    {
     "data": {
      "image/png": "[encoded data removed]",
      "text/plain": [
       "<Figure size 72x72 with 1 Axes>"
      ]
     },
     "metadata": {},
     "output_type": "display_data"
    },
    {
     "data": {
      "image/png": "[encoded data removed]",
      "text/plain": [
       "<Figure size 72x72 with 1 Axes>"
      ]
     },
     "metadata": {},
     "output_type": "display_data"
    },
    {
     "data": {
      "image/png": "[encoded data removed]",
      "text/plain": [
       "<Figure size 288x72 with 1 Axes>"
      ]
     },
     "metadata": {},
     "output_type": "display_data"
    },
    {
     "data": {
      "image/png": "[encoded data removed]",
      "text/plain": [
       "<Figure size 144x72 with 1 Axes>"
      ]
     },
     "metadata": {},
     "output_type": "display_data"
    }
   ],
   "source": [
    "#%%\n",
    "colors = [ \"ecru\"]\n",
    "y_ = sns.xkcd_palette(colors)\n",
    "sns.palplot(y_)\n",
    "\n",
    "colors = [ \"light sage\"]\n",
    "stemg = sns.xkcd_palette(colors)\n",
    "sns.palplot(stemg)\n",
    "\n",
    "colors = [ \"shamrock green\"]\n",
    "kellyg = sns.xkcd_palette(colors)\n",
    "sns.palplot(kellyg)"
   ]
  },
  {
   "cell_type": "code",
   "execution_count": 14,
   "metadata": {},
   "outputs": [
    {
     "data": {
      "image/png": "[encoded data removed]",
      "text/plain": [
       "<Figure size 216x72 with 1 Axes>"
      ]
     },
     "metadata": {
      "needs_background": "light"
     },
     "output_type": "display_data"
    },
    {
     "data": {
      "image/png": "[encoded data removed]",
      "text/plain": [
       "<Figure size 432x72 with 1 Axes>"
      ]
     },
     "metadata": {
      "needs_background": "light"
     },
     "output_type": "display_data"
    }
   ],
   "source": [
    "colors = [\"ecru\",\"shamrock green\", \"light sage\"]\n",
    "yg = sns.xkcd_palette(colors)\n",
    "sns.palplot(yg)\n",
    "\n",
    "colors = [\"ecru\",  \"putty\",\"shamrock green\", \"cool grey\",\"light sage\", \"lichen\"]\n",
    "yg_shuf = sns.xkcd_palette(colors)\n",
    "sns.palplot(yg_shuf)"
   ]
  },
  {
   "cell_type": "markdown",
   "metadata": {},
   "source": [
    "# Functions\n",
    "\n",
    "- add architecture label\n",
    "- reclassify complex primate enhancers as simple if they do not have a human specific sequence\n",
    "- format tthe dataframe, call reclassify primate enhancer function, add taxon information\n",
    "- calculate mann whitney u between columns\n",
    "- plot stratified MRCA\n",
    "- get frequency of architecture v. shuffle\n",
    "- plot arch enh v. shuffle frequency\n",
    "- plot arch v. shuffle fold-change"
   ]
  },
  {
   "cell_type": "code",
   "execution_count": 77,
   "metadata": {
    "code_folding": [
     0
    ]
   },
   "outputs": [],
   "source": [
    "def add_arch_labels(df):\n",
    "\n",
    "    df[\"arch\"] = \"complex_core\"\n",
    "\n",
    "    df.loc[df.core_remodeling ==0, \"arch\"] = \"simple\"\n",
    "    df.loc[df.core ==0, \"arch\"] = \"complex_derived\"\n",
    "\n",
    "    return df\n",
    "\n",
    "\n",
    "def reEval_PrimComplex(enh):\n",
    "\n",
    "    # get all the complex enhancers w/ primate core ages\n",
    "    prComEnhID = enh.loc[(enh.core ==1) &\n",
    "    (enh.core_remodeling ==1) &\n",
    "    (enh.taxon2.str.contains(\"Primate\"))][\"enh_id\"].unique()\n",
    "\n",
    "    # get all the complex enhancer ids where there is a real human derived sequence\n",
    "    pr_complex = enh.loc[(enh.enh_id.isin(prComEnhID)) &\n",
    "    (enh.core_remodeling == 1) &\n",
    "    (enh.core ==0) &\n",
    "    (enh.mrca ==0),\n",
    "    ][\"enh_id\"]\n",
    "\n",
    "\n",
    "    # i'm going to reassign any primate complex enhancer\n",
    "    # where derived regions are from other primates\n",
    "    # get the set of primate complex enhancers w/ primate derived sequences\n",
    "    # and rename them as simple enhancers\n",
    "    pr_simple = set(prComEnhID) - set(pr_complex)\n",
    "\n",
    "    # reassign core and core remodeling columns\n",
    "    enh.loc[enh.enh_id.isin(pr_simple), \"core\"] = 1\n",
    "    enh.loc[enh.enh_id.isin(pr_simple), \"core_remodeling\"] = 0\n",
    "    return enh\n",
    "\n",
    "\n",
    "def format_syndf(enh_age_file):\n",
    "\n",
    "    syn_cols = [\"chr_syn\", \"start_syn\", \"end_syn\",\n",
    "    \"enh_id\",\n",
    "    \"chr\", \"start\", \"end\",\n",
    "    \"seg_index\", \"core_remodeling\", \"core\",\n",
    "    \"mrca\",]\n",
    "\n",
    "    syn = pd.read_csv(enh_age_file, sep ='\\t', header = None, names = syn_cols)\n",
    "\n",
    "    syn[\"syn_id\"] = syn.chr_syn + \":\" + syn.start_syn.map(str) + \"-\" + syn.end_syn.map(str)\n",
    "\n",
    "    syn[\"syn_len\"] = syn.end_syn - syn.start_syn\n",
    "    syn[\"enh_len\"] = syn.end - syn.start\n",
    "\n",
    "\n",
    "    # age and taxon file\n",
    "    syn_gen_bkgd_file = f\"/dors/capra_lab/projects/enhancer_ages/{GENOME_BUILD}_syn_gen_bkgd.tsv\"\n",
    "    syn_gen_bkgd= pd.read_csv(syn_gen_bkgd_file, sep = '\\t') # read the file\n",
    "    syn_gen_bkgd[[\"mrca\", \"mrca_2\"]] = syn_gen_bkgd[[\"mrca\", \"mrca_2\"]].round(3) # round the ages\n",
    "\n",
    "    syn_gen_bkgd = syn_gen_bkgd[[\"mrca\", \"taxon\", \"mrca_2\", \"taxon2\"]] # whittle down the df\n",
    "    syn[\"mrca\"] = syn[\"mrca\"].round(3) # round the ages\n",
    "\n",
    "    syn = pd.merge(syn, syn_gen_bkgd, how = \"left\", on = \"mrca\")\n",
    "    syn = reEval_PrimComplex(syn)\n",
    "    syn[syn_cols].to_csv(enh_age_file, sep = \"\\t\", header = False, index = False)\n",
    "    labeled_syn = add_arch_labels(syn) # add architecture labels\n",
    "\n",
    "    return labeled_syn"
   ]
  },
  {
   "cell_type": "code",
   "execution_count": 78,
   "metadata": {
    "code_folding": []
   },
   "outputs": [],
   "source": [
    "def get_mwu(dataset_col, id_col, test_dif, df, statf):\n",
    "\n",
    "    results_dict = {}\n",
    "\n",
    "    for dataset in df[dataset_col].unique(): # simple complex core derived\n",
    "        print(dataset)\n",
    "        val_list = [] # two lists for mwu\n",
    "        median_list = [] # median of list,\n",
    "        mean_list = [] # mean of list\n",
    "\n",
    "        id_col_list = df[id_col].unique() # get the variables to compare lists\n",
    "        comp_name = f\"{dataset_col}_{id_col_list[0]}_v_{id_col_list[1]}\" # for annotation\n",
    "\n",
    "\n",
    "        test = df.loc[df[dataset_col] == dataset] # filter dataset on variable\n",
    "\n",
    "        for comp in id_col_list:\n",
    "            print(comp)\n",
    "            values = list(test.loc[(test[id_col] == comp), test_dif])\n",
    "            val_list.append(values)\n",
    "            median_list.append(np.median(values))\n",
    "            mean_list.append(np.mean(values))\n",
    "\n",
    "        print(\"val list len\", len(val_list))\n",
    "        stat_, p_ = stats.mannwhitneyu(val_list[0], val_list[1])\n",
    "\n",
    "        mwu_df = pd.DataFrame({\n",
    "        \"comparison\": [comp_name],\n",
    "        \"dataset\": [dataset],\n",
    "        \"stat\": [stat_],\n",
    "        \"P\": [p_],\n",
    "        f\"median{id_col_list[0]}\": [median_list[0]],\n",
    "        f\"median{id_col_list[1]}\": [median_list[1]],\n",
    "        f\"mean{id_col_list[0]}\": [mean_list[0]],\n",
    "        f\"mean{id_col_list[1]}\": [mean_list[1]],\n",
    "        })\n",
    "        results_dict[dataset] = mwu_df\n",
    "\n",
    "    results = pd.concat(results_dict.values()) # concat results\n",
    "    \n",
    "    with open(stat_f, \"a\") as writer:\n",
    "        for i, row in results.iterrows():\n",
    "            info = row.to_string()\n",
    "            print(info)\n",
    "            writer.write(info)\n",
    "\n",
    "    return results"
   ]
  },
  {
   "cell_type": "code",
   "execution_count": 79,
   "metadata": {
    "code_folding": [
     0
    ]
   },
   "outputs": [],
   "source": [
    "def plot_mrca_stratified(x, y, data, hue, palette, outf):\n",
    "\n",
    "    order_dict = {\n",
    "    \"arch\" : [\"simple\", \"complex_core\", \"complex_derived\"],\n",
    "    \"mrca_2\": list(data.mrca_2.sort_values().unique())\n",
    "    #\"mrca_2\" : [0.0, 0.126, 0.131,  0.152, 0.175, 0.308, 0.38, 0.49, 0.656, 0.957]\n",
    "    }\n",
    "\n",
    "    hue_order_dict = {\n",
    "    \"arch__\": [\"simple-cCRE\", 'simple-SHUFFLE', 'complex-cCRE', 'complex-SHUFFLE'],\n",
    "    \"id\":[\"cCRE\", \"SHUFFLE\"],\n",
    "    \"id2\": [\"simple-cCRE\", \"simple-SHUFFLE\", \"complex_core-cCRE\",\n",
    "    \"complex_core-SHUFFLE\", \"complex_derived-cCRE\", \"complex_derived-SHUFFLE\"]\n",
    "    }\n",
    "\n",
    "    ylab_dict = {\n",
    "    \"syn_len\": \"syntenic length\",\n",
    "    \"pct_enh\": \"percent\\nenhancer sequence\"\n",
    "    }\n",
    "\n",
    "    xlab_dict = {\n",
    "    \"mrca_2\": [\"homo\", \"prim\", \"euar\", \"bore\", \"euth\", \"ther\", \"mam\", \"amni\", \"tetr\", \"sarg\", \"vert\"],\n",
    "    \"arch\": [\"simple\", \"complex\\ncore\", \"complex\\nderived\"]\n",
    "    }\n",
    "\n",
    "    figsize_dict = {\n",
    "    \"mrca_2\": (12,6),\n",
    "    \"arch\":(6,6)\n",
    "    }\n",
    "\n",
    "\n",
    "    xlabs = xlab_dict[x]\n",
    "    ylab =  ylab_dict[y]\n",
    "    order = order_dict[x]\n",
    "    hue_order = hue_order_dict[hue]\n",
    "    figsize = figsize_dict[x]\n",
    "    custom_params = {\"axes.spines.right\": False, \"axes.spines.top\": False, \"font.size\":16}\n",
    "    sns.set_theme(style=\"white\", font=\"Roboto\", rc=custom_params, font_scale = 1.2)\n",
    "\n",
    "    fig, ax = plt.subplots(figsize = figsize)\n",
    "    sns.barplot(x=x, y=y, data = data,\n",
    "                hue = hue,\n",
    "                palette = palette,\n",
    "                order = order,\n",
    "                hue_order = hue_order, estimator = np.median,\n",
    "                )\n",
    "\n",
    "    ax.set(ylabel = ylab, xlabel = \"\")\n",
    "    ax.set_xticklabels(xlabs, rotation = 90)\n",
    "    ax.legend(bbox_to_anchor = (1,1))\n",
    "    ax.invert_xaxis()\n",
    "    plt.savefig(outf, bbox_inches = 'tight')"
   ]
  },
  {
   "cell_type": "code",
   "execution_count": 80,
   "metadata": {
    "code_folding": [
     0
    ]
   },
   "outputs": [],
   "source": [
    "def MRCA_frequency(catdf, cols, var, stat_f):\n",
    "\n",
    "    age_dict = {} # collect age frequency results per dataset\n",
    "    summary_age_dict = {} # collect summarized age frequencies per dataset\n",
    "\n",
    "    for n, dataset in enumerate(catdf[\"id\"].unique()):\n",
    "        # count n enhancers in architecture per age\n",
    "        test = catdf.loc[catdf[\"id\"] == dataset]\n",
    "\n",
    "        age = test.groupby(cols)[\"enh_id\"].count().reset_index()\n",
    "\n",
    "        # rename columns\n",
    "        age.columns = cols + [\"counts\"]\n",
    "\n",
    "        # sum total n enhancers in architecture\n",
    "        cols_no_var = list(set(cols) - set([var]))\n",
    "        totals = age.groupby(cols_no_var)[\"counts\"].sum().reset_index()\n",
    "        # rename columns\n",
    "        totals.columns = cols_no_var + [\"total_id\"]\n",
    "\n",
    "        # merge dataframes\n",
    "        age = pd.merge(age, totals, how = \"left\")\n",
    "\n",
    "        # calculate the % of architecture in each age\n",
    "        age[\"freq\"] = age.counts.divide(age.total_id)\n",
    "\n",
    "        age[\"dataset_name\"] = dataset\n",
    "        age_dict[n] = age\n",
    "\n",
    "        # summarize frequencies across architectures, before/after eutherian.\n",
    "        eutherian = age.loc[age[\"mrca_2\"] == 0.19][[ \"id\", \"freq\"]]\n",
    "        eutherian[\"category\"] = \"eutherian\"\n",
    "\n",
    "        younger_thaneuth = age.loc[age[\"mrca_2\"] <0.19].groupby([\"id\"])[\"freq\"].sum().reset_index()\n",
    "        younger_thaneuth[\"category\"] = \"younger than eutherian\"\n",
    "\n",
    "        older_thaneuth = age.loc[age[\"mrca_2\"] >0.19].groupby([\"id\"])[\"freq\"].sum().reset_index()\n",
    "        older_thaneuth[\"category\"] = \"older than eutherian\"\n",
    "\n",
    "        summarized_freq = pd.concat([eutherian, younger_thaneuth, older_thaneuth])\n",
    "        summarized_freq[\"dataset_name\"] = dataset\n",
    "\n",
    "        summary_age_dict[n] = summarized_freq\n",
    "\n",
    "    # concat age and summarized frequency dataframes\n",
    "    ages = pd.concat(age_dict.values())\n",
    "    summarized_freq = pd.concat(summary_age_dict.values())\n",
    "\n",
    "    # calculate fold-change of enh v. shuf expectation per shuffle\n",
    "\n",
    "\n",
    "    # select only the enhancer and specific shuffle instance\n",
    "    enhdf = ages.loc[ages[\"id\"] == \"cCRE\"]\n",
    "\n",
    "    shuf_ = ages.loc[ages[\"id\"] != \"cCRE\"]\n",
    "\n",
    "    merge_cols = list(set(cols) - set([\"id\"]))\n",
    "\n",
    "    fc = pd.merge(shuf_, enhdf, how = \"left\", on =merge_cols)\n",
    "\n",
    "    # calculate fold changes\n",
    "    fc[\"fold_change\"] = fc[\"freq_y\"].divide(fc[\"freq_x\"])\n",
    "    \n",
    "    col_id = \"_\".join(cols)\n",
    "    with open(stat_f, \"a\") as writer:\n",
    "        writer.write(\"\\n\\nages\\n\\n\")\n",
    "        for i, row in ages.iterrows():\n",
    "            print(row)\n",
    "            writer.write(row.to_string())\n",
    "\n",
    "        writer.write(\"\\n\\nfold change\\n\\n\")\n",
    "        for i, row in fc.iterrows():\n",
    "            writer.write(row.to_string())\n",
    "\n",
    "        writer.write(\"\\n\\n summarized frequencies\\n\\n\")\n",
    "        for i, row in summarized_freq.iterrows():\n",
    "            writer.write(row.to_string())\n",
    "\n",
    "    return ages, fc"
   ]
  },
  {
   "cell_type": "code",
   "execution_count": 81,
   "metadata": {
    "code_folding": [
     0
    ]
   },
   "outputs": [],
   "source": [
    "def plot_arch_freq(age_arch_freq, age_freq):\n",
    "    plots = {\"age_arch\" : age_arch_freq, \"age\": age_freq}\n",
    "\n",
    "    for name, frame in plots.items():\n",
    "\n",
    "        if name == \"age_arch\": # arrange order and colors of plot.\n",
    "            frame[\"plot_hue\"] = frame[\"arch\"].astype(str) + \"-\" + frame[\"id\"].astype(str)\n",
    "            order = [\"simple-cCRE\", \"simple-SHUFFLE\",\n",
    "            \"complex_core-cCRE\", \"complex_core-SHUFFLE\",\n",
    "            \"complex_derived-cCRE\", \"complex_derived-SHUFFLE\"]\n",
    "            hue = \"plot_hue\"\n",
    "            p = yg\n",
    "\n",
    "        else:\n",
    "            order = [\"cCRE\", \"SHUFFLE\"]\n",
    "            hue = \"id\"\n",
    "            p = EPAL\n",
    "\n",
    "\n",
    "        if GENOME_BUILD == \"hg38\":\n",
    "            xlabs = [\"Prim\", \"Euar\", \"Bore\", \"Euth\", \"Ther\", \"Mam\", \"Amni\", \"Tetr\", \"Sarg\", \"Vert\"] # set xlabels\n",
    "        else:\n",
    "            xlabs = [\"Homo\", \"Prim\", \"Euar\", \"Bore\", \"Euth\", \"Ther\", \"Mam\", \"Amni\", \"Tetr\", \"Vert\"]\n",
    "\n",
    "        custom_params = {\"axes.spines.right\": False, \"axes.spines.top\": False, \"font.size\":16}\n",
    "        sns.set_theme(style=\"white\", font=\"Roboto\", rc=custom_params, font_scale = 1.2)\n",
    "        fig, ax = plt.subplots(figsize = (6,6))\n",
    "        x, y = \"mrca_2\", \"freq\"\n",
    "        data = frame\n",
    "\n",
    "        sns.barplot(x = x, y=y,\n",
    "        data = data,\n",
    "        hue = hue,\n",
    "        hue_order = order,\n",
    "        palette = p)\n",
    "\n",
    "        ax.set_xticklabels(xlabs, rotation = 90)\n",
    "        ax.legend(bbox_to_anchor = (1,1))\n",
    "\n",
    "        outf = f\"{RE}{name}_freq_per_age.pdf\"\n",
    "\n",
    "        plt.savefig(outf, bbox_inches= \"tight\")"
   ]
  },
  {
   "cell_type": "code",
   "execution_count": 85,
   "metadata": {
    "code_folding": [
     0
    ]
   },
   "outputs": [],
   "source": [
    "def plot_arch_fc(age_arch_fc, age_fc, build, arch):\n",
    "    print(build, arch)\n",
    "    \n",
    "    plots = {\"age_arch\":age_arch_fc, \"age_tfbs\": age_fc}\n",
    "    color_dict ={\"simple\": y_, \"complex_core\": kellyg, \"complex_derived\": stemg}\n",
    "    archs = [\"simple\", \"complex_core\", \"complex_derived\"]\n",
    "\n",
    "    # don't plot the entire dataset if you just want to plot FC of one architecture.\n",
    "    if arch in archs:\n",
    "        plots.pop(\"age_tfbs\")\n",
    "        print(plots.keys())\n",
    "\n",
    "    for name, fc in plots.items():\n",
    "\n",
    "        fc['log2'] = np.log2(fc[\"fold_change\"])\n",
    "\n",
    "\n",
    "        if name == \"age_arch\" and arch in archs:\n",
    "            order = [arch] # set order\n",
    "            hue = \"arch\" # set hue\n",
    "            data = fc.loc[fc.arch == arch] # filter dataset\n",
    "            p = color_dict[arch] # get the color corresponding to architecture.\n",
    "\n",
    "        elif name == \"age_arch\" and arch == \"all\":\n",
    "            order = [\"simple\", \"complex_core\", \"complex_derived\"]\n",
    "            hue = \"arch\"\n",
    "            data = fc\n",
    "            p = yg\n",
    "\n",
    "        elif name ==\"age_tfbs\":\n",
    "            arch = None\n",
    "            order = [\"cCRE\"]\n",
    "            hue = \"id_y\"\n",
    "            data = fc\n",
    "            p = EPAL\n",
    "\n",
    "        backbone_df = age_arch_fc[\"mrca_2\"].copy().drop_duplicates().reset_index()\n",
    "        data = pd.merge(backbone_df, data, how = \"left\").fillna(0).sort_values(by = \"mrca_2\")\n",
    "        data[\"counts_y\"] = data[\"counts_y\"].astype(int)\n",
    "\n",
    "        if build == \"hg38\":\n",
    "            xlabs = [\"Homo\",\"Prim\", \"Euar\", \"Bore\", \"Euth\", \"Ther\", \"Mam\", \"Amni\", \"Tetr\", \"Sarg\", \"Vert\"]\n",
    "\n",
    "        else:\n",
    "            xlabs = [\"Homo\", \"Prim\", \"Euar\", \"Bore\", \"Euth\", \"Ther\", \"Mam\", \"Amni\", \"Tetr\", \"Vert\"]\n",
    "\n",
    "        custom_params = {\"axes.spines.right\": False, \"axes.spines.top\": False, \"font.size\":16}\n",
    "        sns.set_theme(style=\"white\", font=\"Roboto\", rc=custom_params, font_scale = 1.2)\n",
    "\n",
    "        fig, ax = plt.subplots(figsize = (6,6))\n",
    "        x, y = \"mrca_2\", \"log2\"\n",
    "\n",
    "\n",
    "        splot = sns.barplot(x = x, y=y,\n",
    "        data = data,\n",
    "        hue = hue,\n",
    "        hue_order = order,\n",
    "        palette = p)\n",
    "\n",
    "\n",
    "        for n, p in enumerate(splot.patches):\n",
    "            value = data.iloc[n][\"counts_y\"]\n",
    "            splot.annotate(value,\n",
    "                           (p.get_x() + p.get_width() / 2.,0.05),\n",
    "                           ha = 'center', va = 'baseline',\n",
    "                           size=15,\n",
    "                           rotation = 90,\n",
    "                           color = \"k\",\n",
    "                           xytext = (0, 1),\n",
    "                           textcoords = 'offset points'\n",
    "                           )\n",
    "\n",
    "        ax.set(ylabel = \"Fold-Change v. Bkgd\\n(log2-scaled)\", xlabel = \"\")\n",
    "        ax.set_xticklabels(xlabs, rotation = 90)\n",
    "        ax.legend(bbox_to_anchor = (1,1))\n",
    "        \n",
    "        ticks = ticker.FuncFormatter(lambda x, pos: '{0:g}'.format(2**x))\n",
    "        ax.yaxis.set_major_formatter(ticks)\n",
    "        ax.yaxis.set_major_locator(MultipleLocator(1))\n",
    "        ax.invert_xaxis()\n",
    "        outf = os.path.join(RE, f\"Fig2B_{name}_{arch}_fold_change_per_age.pdf\")\n",
    "\n",
    "\n",
    "    plt.savefig(outf, bbox_inches= \"tight\")"
   ]
  },
  {
   "cell_type": "markdown",
   "metadata": {
    "heading_collapsed": true
   },
   "source": [
    "# get dataframes\n",
    "\n",
    "merge enh and shuffled"
   ]
  },
  {
   "cell_type": "code",
   "execution_count": 38,
   "metadata": {
    "code_folding": [
     0
    ],
    "hidden": true
   },
   "outputs": [],
   "source": [
    "out_df = os.path.join(RE, f\"cCRE_{CL}_shuf_df.txt\")\n",
    "\n",
    "if os.path.exists(out_df) is False:\n",
    "    enh = format_syndf(cCRE)\n",
    "    enh[\"id\"] = \"cCRE\"\n",
    "\n",
    "    shuf = format_syndf(SHUFF)\n",
    "    shuf[\"id\"] = \"SHUFFLE\"\n",
    "\n",
    "\n",
    "    df = pd.concat([enh, shuf])\n",
    "\n",
    "    df.drop_duplicates()\n",
    "\n",
    "    df.to_csv(out_df, sep ='\\t', index = False)\n",
    "else:\n",
    "    df = pd.read_csv(out_df, sep = \"\\t\")"
   ]
  },
  {
   "cell_type": "markdown",
   "metadata": {
    "hidden": true
   },
   "source": [
    "combine enhancer and shuffled dataframes "
   ]
  },
  {
   "cell_type": "markdown",
   "metadata": {
    "code_folding": [],
    "heading_collapsed": true
   },
   "source": [
    "# summarize architecture lengths per enhancer"
   ]
  },
  {
   "cell_type": "code",
   "execution_count": 41,
   "metadata": {
    "hidden": true
   },
   "outputs": [],
   "source": [
    "out_f = os.path.join(RE, f\"sum_{CL}_arch_len.txt\")\n",
    "\n",
    "if os.path.exists(out_f) is False:\n",
    "\n",
    "    sum_archlen = df.groupby(['id', 'enh_id', 'enh_len', 'core_remodeling', 'core'])[\"syn_len\"].sum().reset_index().drop_duplicates()\n",
    "\n",
    "    sum_archlen = add_arch_labels(sum_archlen) # add architecture labels\n",
    "\n",
    "     # calculate percent arch per enhancer\n",
    "    sum_archlen[\"pct_enh\"] = sum_archlen.syn_len.divide(sum_archlen.enh_len)\n",
    "\n",
    "\n",
    "    # add oldest ages of enhancer information\n",
    "    enh_mrcas = df.groupby(\"enh_id\")[[\"mrca_2\", \"taxon2\"]].max().reset_index()\n",
    "    sum_archlen = pd.merge(sum_archlen, enh_mrcas, how = \"left\", on = \"enh_id\")\n",
    "\n",
    "\n",
    "    shuf_remove_ids = sum_archlen.loc[(sum_archlen[\"mrca_2\"] == 0) & (sum_archlen.core ==0), \"enh_id\"]\n",
    "    sum_archlen = sum_archlen[~sum_archlen[\"enh_id\"].isin(shuf_remove_ids)]\n",
    "\n",
    "    ## summarize simple v. complex architectures only\n",
    "\n",
    "    sum_archlen[\"arch_\"] = \"simple\"\n",
    "    sum_archlen.loc[sum_archlen.core_remodeling ==1, \"arch_\"] = \"complex\"\n",
    "    sum_archlen[\"arch__\"] = sum_archlen[\"arch_\"] + \"-\" + sum_archlen['id']\n",
    "\n",
    "    # add column for plotting purposes\n",
    "    sum_archlen[\"id2\"] = sum_archlen[\"arch\"] + \"-\" + sum_archlen[\"id\"]\n",
    "\n",
    "    sum_archlen.to_csv(out_f, sep = '\\t', index = False)\n",
    "else:\n",
    "    sum_archlen = pd.read_csv(out_f, sep = '\\t')"
   ]
  },
  {
   "cell_type": "markdown",
   "metadata": {
    "heading_collapsed": true
   },
   "source": [
    "# Plots"
   ]
  },
  {
   "cell_type": "markdown",
   "metadata": {
    "code_folding": [],
    "hidden": true
   },
   "source": [
    "## age, arch x syn length"
   ]
  },
  {
   "cell_type": "code",
   "execution_count": 40,
   "metadata": {
    "hidden": true
   },
   "outputs": [
    {
     "data": {
      "text/plain": [
       "'/dors/capra_lab/projects/enhancer_ages/landscape/results/cCRE/HepG2/sum_HepG2_arch_len.txt'"
      ]
     },
     "execution_count": 40,
     "metadata": {},
     "output_type": "execute_result"
    }
   ],
   "source": [
    "out_f"
   ]
  },
  {
   "cell_type": "code",
   "execution_count": 42,
   "metadata": {
    "hidden": true
   },
   "outputs": [
    {
     "data": {
      "text/html": [
       "<div>\n",
       "<style scoped>\n",
       "    .dataframe tbody tr th:only-of-type {\n",
       "        vertical-align: middle;\n",
       "    }\n",
       "\n",
       "    .dataframe tbody tr th {\n",
       "        vertical-align: top;\n",
       "    }\n",
       "\n",
       "    .dataframe thead th {\n",
       "        text-align: right;\n",
       "    }\n",
       "</style>\n",
       "<table border=\"1\" class=\"dataframe\">\n",
       "  <thead>\n",
       "    <tr style=\"text-align: right;\">\n",
       "      <th></th>\n",
       "      <th>id</th>\n",
       "      <th>enh_id</th>\n",
       "      <th>enh_len</th>\n",
       "      <th>core_remodeling</th>\n",
       "      <th>core</th>\n",
       "      <th>syn_len</th>\n",
       "      <th>arch</th>\n",
       "      <th>pct_enh</th>\n",
       "      <th>mrca_2</th>\n",
       "      <th>taxon2</th>\n",
       "      <th>arch_</th>\n",
       "      <th>arch__</th>\n",
       "      <th>id2</th>\n",
       "    </tr>\n",
       "  </thead>\n",
       "  <tbody>\n",
       "    <tr>\n",
       "      <th>0</th>\n",
       "      <td>SHUFFLE</td>\n",
       "      <td>chr10:10000003-10000202</td>\n",
       "      <td>199</td>\n",
       "      <td>0</td>\n",
       "      <td>1</td>\n",
       "      <td>199</td>\n",
       "      <td>simple</td>\n",
       "      <td>1.000000</td>\n",
       "      <td>0.190</td>\n",
       "      <td>Eutheria</td>\n",
       "      <td>simple</td>\n",
       "      <td>simple-SHUFFLE</td>\n",
       "      <td>simple-SHUFFLE</td>\n",
       "    </tr>\n",
       "    <tr>\n",
       "      <th>1</th>\n",
       "      <td>SHUFFLE</td>\n",
       "      <td>chr10:10000871-10001214</td>\n",
       "      <td>343</td>\n",
       "      <td>0</td>\n",
       "      <td>1</td>\n",
       "      <td>343</td>\n",
       "      <td>simple</td>\n",
       "      <td>1.000000</td>\n",
       "      <td>0.190</td>\n",
       "      <td>Eutheria</td>\n",
       "      <td>simple</td>\n",
       "      <td>simple-SHUFFLE</td>\n",
       "      <td>simple-SHUFFLE</td>\n",
       "    </tr>\n",
       "    <tr>\n",
       "      <th>2</th>\n",
       "      <td>SHUFFLE</td>\n",
       "      <td>chr10:10001007-10001255</td>\n",
       "      <td>248</td>\n",
       "      <td>0</td>\n",
       "      <td>1</td>\n",
       "      <td>248</td>\n",
       "      <td>simple</td>\n",
       "      <td>1.000000</td>\n",
       "      <td>0.190</td>\n",
       "      <td>Eutheria</td>\n",
       "      <td>simple</td>\n",
       "      <td>simple-SHUFFLE</td>\n",
       "      <td>simple-SHUFFLE</td>\n",
       "    </tr>\n",
       "    <tr>\n",
       "      <th>3</th>\n",
       "      <td>SHUFFLE</td>\n",
       "      <td>chr10:100010999-100011174</td>\n",
       "      <td>175</td>\n",
       "      <td>0</td>\n",
       "      <td>1</td>\n",
       "      <td>175</td>\n",
       "      <td>simple</td>\n",
       "      <td>1.000000</td>\n",
       "      <td>0.167</td>\n",
       "      <td>Boreoeutheria</td>\n",
       "      <td>simple</td>\n",
       "      <td>simple-SHUFFLE</td>\n",
       "      <td>simple-SHUFFLE</td>\n",
       "    </tr>\n",
       "    <tr>\n",
       "      <th>4</th>\n",
       "      <td>SHUFFLE</td>\n",
       "      <td>chr10:100014949-100015122</td>\n",
       "      <td>173</td>\n",
       "      <td>1</td>\n",
       "      <td>0</td>\n",
       "      <td>132</td>\n",
       "      <td>complex_derived</td>\n",
       "      <td>0.763006</td>\n",
       "      <td>0.190</td>\n",
       "      <td>Primate</td>\n",
       "      <td>complex</td>\n",
       "      <td>complex-SHUFFLE</td>\n",
       "      <td>complex_derived-SHUFFLE</td>\n",
       "    </tr>\n",
       "  </tbody>\n",
       "</table>\n",
       "</div>"
      ],
      "text/plain": [
       "        id                     enh_id  enh_len  core_remodeling  core  \\\n",
       "0  SHUFFLE    chr10:10000003-10000202      199                0     1   \n",
       "1  SHUFFLE    chr10:10000871-10001214      343                0     1   \n",
       "2  SHUFFLE    chr10:10001007-10001255      248                0     1   \n",
       "3  SHUFFLE  chr10:100010999-100011174      175                0     1   \n",
       "4  SHUFFLE  chr10:100014949-100015122      173                1     0   \n",
       "\n",
       "   syn_len             arch   pct_enh  mrca_2         taxon2    arch_  \\\n",
       "0      199           simple  1.000000   0.190       Eutheria   simple   \n",
       "1      343           simple  1.000000   0.190       Eutheria   simple   \n",
       "2      248           simple  1.000000   0.190       Eutheria   simple   \n",
       "3      175           simple  1.000000   0.167  Boreoeutheria   simple   \n",
       "4      132  complex_derived  0.763006   0.190        Primate  complex   \n",
       "\n",
       "            arch__                      id2  \n",
       "0   simple-SHUFFLE           simple-SHUFFLE  \n",
       "1   simple-SHUFFLE           simple-SHUFFLE  \n",
       "2   simple-SHUFFLE           simple-SHUFFLE  \n",
       "3   simple-SHUFFLE           simple-SHUFFLE  \n",
       "4  complex-SHUFFLE  complex_derived-SHUFFLE  "
      ]
     },
     "execution_count": 42,
     "metadata": {},
     "output_type": "execute_result"
    }
   ],
   "source": [
    "sum_archlen.head()"
   ]
  },
  {
   "cell_type": "code",
   "execution_count": 47,
   "metadata": {
    "code_folding": [],
    "hidden": true
   },
   "outputs": [
    {
     "data": {
      "image/png": "[encoded data removed]",
      "text/plain": [
       "<Figure size 864x432 with 1 Axes>"
      ]
     },
     "metadata": {},
     "output_type": "display_data"
    }
   ],
   "source": [
    "x = \"mrca_2\"\n",
    "y = \"syn_len\"\n",
    "data = sum_archlen#.sample(frac = 0.05)\n",
    "hue = \"arch__\"\n",
    "palette = yg_shuf\n",
    "outf = f\"{RE}ALL_mrca_x_syn_lengths_arch.pdf\"\n",
    "\n",
    "plot_mrca_stratified(x, y, data, hue, palette, outf)"
   ]
  },
  {
   "cell_type": "markdown",
   "metadata": {
    "code_folding": [],
    "hidden": true
   },
   "source": [
    "## FigS-EnhvShuf-synLen\n",
    "### arch,  syn length"
   ]
  },
  {
   "cell_type": "code",
   "execution_count": 48,
   "metadata": {
    "code_folding": [],
    "hidden": true
   },
   "outputs": [
    {
     "data": {
      "image/png": "[encoded data removed]",
      "text/plain": [
       "<Figure size 432x432 with 1 Axes>"
      ]
     },
     "metadata": {},
     "output_type": "display_data"
    }
   ],
   "source": [
    "x = \"arch\"\n",
    "y = \"syn_len\"\n",
    "hue = \"id\"\n",
    "palette = EPAL\n",
    "\n",
    "outf = f\"{RE}FigS-EnhvShuf-synLen_cCRE_shuffle.pdf\"\n",
    "\n",
    "plot_mrca_stratified(x, y, data, hue, palette, outf)"
   ]
  },
  {
   "cell_type": "markdown",
   "metadata": {
    "hidden": true
   },
   "source": [
    "### arch,  pct enhancer"
   ]
  },
  {
   "cell_type": "code",
   "execution_count": 49,
   "metadata": {
    "hidden": true
   },
   "outputs": [
    {
     "data": {
      "image/png": "[encoded data removed]",
      "text/plain": [
       "<Figure size 864x432 with 1 Axes>"
      ]
     },
     "metadata": {},
     "output_type": "display_data"
    }
   ],
   "source": [
    "x = \"mrca_2\"\n",
    "y = \"pct_enh\"\n",
    "hue = \"id2\"\n",
    "palette = yg_shuf\n",
    "outf = f\"{RE}ALL_cCRE_percent_arch_mrca_2.pdf\"\n",
    "plot_mrca_stratified(x, y, data, hue, palette, outf)"
   ]
  },
  {
   "cell_type": "markdown",
   "metadata": {
    "code_folding": [],
    "hidden": true
   },
   "source": [
    "## FigS CorDer_v_ShufLen\n",
    "### stratify syn length by age"
   ]
  },
  {
   "cell_type": "code",
   "execution_count": 50,
   "metadata": {
    "code_folding": [],
    "hidden": true
   },
   "outputs": [
    {
     "data": {
      "image/png": "[encoded data removed]",
      "text/plain": [
       "<Figure size 864x432 with 1 Axes>"
      ]
     },
     "metadata": {},
     "output_type": "display_data"
    }
   ],
   "source": [
    "x = \"mrca_2\"\n",
    "y = \"syn_len\"\n",
    "hue = \"id2\"\n",
    "palette = yg_shuf\n",
    "outf = f\"{RE}FigS_CorDer_v_ShufLen_mrca2.pdf\"\n",
    "plot_mrca_stratified(x, y, data, hue, palette, outf)"
   ]
  },
  {
   "cell_type": "markdown",
   "metadata": {
    "code_folding": [],
    "hidden": true
   },
   "source": [
    "##  percent architecture"
   ]
  },
  {
   "cell_type": "code",
   "execution_count": 51,
   "metadata": {
    "code_folding": [],
    "hidden": true
   },
   "outputs": [
    {
     "data": {
      "image/png": "[encoded data removed]",
      "text/plain": [
       "<Figure size 432x432 with 1 Axes>"
      ]
     },
     "metadata": {},
     "output_type": "display_data"
    }
   ],
   "source": [
    "x = \"arch\"\n",
    "y = \"pct_enh\"\n",
    "hue = \"id\"\n",
    "outf = f\"{RE}ALL_cCRE_percent_all.pdf\"\n",
    "sns.set(font=\"Roboto\")\n",
    "plot_mrca_stratified(x, y, data, hue, palette, outf)"
   ]
  },
  {
   "cell_type": "markdown",
   "metadata": {
    "heading_collapsed": true
   },
   "source": [
    "# Figure 1, 2A - pie charts"
   ]
  },
  {
   "cell_type": "code",
   "execution_count": 52,
   "metadata": {
    "hidden": true
   },
   "outputs": [
    {
     "data": {
      "text/html": [
       "<div>\n",
       "<style scoped>\n",
       "    .dataframe tbody tr th:only-of-type {\n",
       "        vertical-align: middle;\n",
       "    }\n",
       "\n",
       "    .dataframe tbody tr th {\n",
       "        vertical-align: top;\n",
       "    }\n",
       "\n",
       "    .dataframe thead th {\n",
       "        text-align: right;\n",
       "    }\n",
       "</style>\n",
       "<table border=\"1\" class=\"dataframe\">\n",
       "  <thead>\n",
       "    <tr style=\"text-align: right;\">\n",
       "      <th></th>\n",
       "      <th>arch_</th>\n",
       "      <th>enh_id</th>\n",
       "    </tr>\n",
       "  </thead>\n",
       "  <tbody>\n",
       "    <tr>\n",
       "      <th>0</th>\n",
       "      <td>complex</td>\n",
       "      <td>27548</td>\n",
       "    </tr>\n",
       "    <tr>\n",
       "      <th>1</th>\n",
       "      <td>simple</td>\n",
       "      <td>26316</td>\n",
       "    </tr>\n",
       "  </tbody>\n",
       "</table>\n",
       "</div>"
      ],
      "text/plain": [
       "     arch_  enh_id\n",
       "0  complex   27548\n",
       "1   simple   26316"
      ]
     },
     "execution_count": 52,
     "metadata": {},
     "output_type": "execute_result"
    }
   ],
   "source": [
    "pie_ = data.loc[data.id == \"cCRE\"][[\"arch_\", \"enh_id\"]].drop_duplicates().groupby([\"arch_\"])[\"enh_id\"].count().reset_index()\n",
    "\n",
    "\n",
    "with open(stat_f, \"a\") as writer:\n",
    "    writer.write(\"\\n\\n # percent of simple and complex #\\n\\n\")\n",
    "    for i, row in pie_.iterrows():\n",
    "        writer.write(row.to_string())\n",
    "pie_"
   ]
  },
  {
   "cell_type": "code",
   "execution_count": 53,
   "metadata": {
    "hidden": true
   },
   "outputs": [
    {
     "data": {
      "text/plain": [
       "['id',\n",
       " 'enh_id',\n",
       " 'enh_len',\n",
       " 'core_remodeling',\n",
       " 'core',\n",
       " 'syn_len',\n",
       " 'arch',\n",
       " 'pct_enh',\n",
       " 'mrca_2',\n",
       " 'taxon2',\n",
       " 'arch_',\n",
       " 'arch__',\n",
       " 'id2']"
      ]
     },
     "execution_count": 53,
     "metadata": {},
     "output_type": "execute_result"
    }
   ],
   "source": [
    "list(data)"
   ]
  },
  {
   "cell_type": "code",
   "execution_count": 54,
   "metadata": {
    "hidden": true
   },
   "outputs": [
    {
     "data": {
      "text/html": [
       "<div>\n",
       "<style scoped>\n",
       "    .dataframe tbody tr th:only-of-type {\n",
       "        vertical-align: middle;\n",
       "    }\n",
       "\n",
       "    .dataframe tbody tr th {\n",
       "        vertical-align: top;\n",
       "    }\n",
       "\n",
       "    .dataframe thead th {\n",
       "        text-align: right;\n",
       "    }\n",
       "</style>\n",
       "<table border=\"1\" class=\"dataframe\">\n",
       "  <thead>\n",
       "    <tr style=\"text-align: right;\">\n",
       "      <th></th>\n",
       "      <th>arch__</th>\n",
       "      <th>enh_id</th>\n",
       "    </tr>\n",
       "  </thead>\n",
       "  <tbody>\n",
       "    <tr>\n",
       "      <th>0</th>\n",
       "      <td>complex-cCRE</td>\n",
       "      <td>27548</td>\n",
       "    </tr>\n",
       "    <tr>\n",
       "      <th>1</th>\n",
       "      <td>simple-cCRE</td>\n",
       "      <td>26316</td>\n",
       "    </tr>\n",
       "  </tbody>\n",
       "</table>\n",
       "</div>"
      ],
      "text/plain": [
       "         arch__  enh_id\n",
       "0  complex-cCRE   27548\n",
       "1   simple-cCRE   26316"
      ]
     },
     "execution_count": 54,
     "metadata": {},
     "output_type": "execute_result"
    }
   ],
   "source": [
    "pie_ = data.loc[data.id == \"cCRE\"][[\"arch__\", \"enh_id\"]].drop_duplicates().groupby([\"arch__\"])[\"enh_id\"].count().reset_index()\n",
    "pie_"
   ]
  },
  {
   "cell_type": "code",
   "execution_count": 55,
   "metadata": {
    "hidden": true
   },
   "outputs": [],
   "source": [
    "piedf = data.loc[(data.id == \"cCRE\") & (data.core_remodeling ==1)][[\"arch\", \"pct_enh\"]].groupby([\"arch\"])[\"pct_enh\"].median().reset_index()\n",
    "with open(stat_f, \"a\") as writer:\n",
    "    writer.write(\"\\n\\n # % core, derived per complex enh#\\n\\n\")\n",
    "    for i, row in piedf.iterrows():\n",
    "        writer.write(row.to_string())"
   ]
  },
  {
   "cell_type": "code",
   "execution_count": 56,
   "metadata": {
    "hidden": true
   },
   "outputs": [
    {
     "data": {
      "text/html": [
       "<div>\n",
       "<style scoped>\n",
       "    .dataframe tbody tr th:only-of-type {\n",
       "        vertical-align: middle;\n",
       "    }\n",
       "\n",
       "    .dataframe tbody tr th {\n",
       "        vertical-align: top;\n",
       "    }\n",
       "\n",
       "    .dataframe thead th {\n",
       "        text-align: right;\n",
       "    }\n",
       "</style>\n",
       "<table border=\"1\" class=\"dataframe\">\n",
       "  <thead>\n",
       "    <tr style=\"text-align: right;\">\n",
       "      <th></th>\n",
       "      <th>arch__</th>\n",
       "      <th>enh_id</th>\n",
       "    </tr>\n",
       "  </thead>\n",
       "  <tbody>\n",
       "    <tr>\n",
       "      <th>0</th>\n",
       "      <td>complex-cCRE</td>\n",
       "      <td>27548</td>\n",
       "    </tr>\n",
       "    <tr>\n",
       "      <th>1</th>\n",
       "      <td>simple-cCRE</td>\n",
       "      <td>26316</td>\n",
       "    </tr>\n",
       "  </tbody>\n",
       "</table>\n",
       "</div>"
      ],
      "text/plain": [
       "         arch__  enh_id\n",
       "0  complex-cCRE   27548\n",
       "1   simple-cCRE   26316"
      ]
     },
     "execution_count": 56,
     "metadata": {},
     "output_type": "execute_result"
    }
   ],
   "source": [
    "pie_"
   ]
  },
  {
   "cell_type": "code",
   "execution_count": 57,
   "metadata": {
    "code_folding": [],
    "hidden": true
   },
   "outputs": [
    {
     "data": {
      "text/plain": [
       "([<matplotlib.patches.Wedge at 0x7f3e08b9b4a8>,\n",
       "  <matplotlib.patches.Wedge at 0x7f3e08b903c8>],\n",
       " [Text(-1.1921025419441607, -0.5185475190281704, 'complex_core'),\n",
       "  Text(1.0087021508758283, 0.43877097763922096, 'complex_derived')],\n",
       " [Text(-0.7336015642733296, -0.3191061655557971, '63%'),\n",
       "  Text(0.5502011732049972, 0.23932962416684778, '37%')])"
      ]
     },
     "execution_count": 57,
     "metadata": {},
     "output_type": "execute_result"
    },
    {
     "data": {
      "image/png": "[encoded data removed]",
      "text/plain": [
       "<Figure size 432x288 with 2 Axes>"
      ]
     },
     "metadata": {},
     "output_type": "display_data"
    }
   ],
   "source": [
    "custom_params = {\"axes.spines.right\": False, \"axes.spines.top\": False}\n",
    "sns.set(style = \"white\", font=\"Roboto\", rc=custom_params)\n",
    "fig, (ax1, ax2) = plt.subplots(ncols = 2)\n",
    "\n",
    "\n",
    "y = np.array(pie_.enh_id)\n",
    "mylabels = list(pie_.arch__)\n",
    "colors = [ \"shamrock green\", \"ecru\"]\n",
    "amber = sns.xkcd_palette(colors)\n",
    "myexplode = [0.2, 0]\n",
    "ax1.pie(y, labels = mylabels, colors = amber, explode = myexplode, autopct='%1.0f%%')\n",
    "outf = f\"{RE}Fig1_Fig2A_pie_chart_arch.pdf\"\n",
    "plt.savefig(outf, bbox_inches = \"tight\")\n",
    "\n",
    "\n",
    "y = np.array(piedf.pct_enh)\n",
    "mylabels = list(piedf.arch)\n",
    "colors = [ \"shamrock green\", \"light sage\"]\n",
    "amber = sns.xkcd_palette(colors)\n",
    "myexplode = [0.2, 0]\n",
    "ax2.pie(y, labels = mylabels, colors = amber, explode = myexplode, autopct='%1.0f%%', startangle = 90)\n"
   ]
  },
  {
   "cell_type": "markdown",
   "metadata": {
    "heading_collapsed": true
   },
   "source": [
    "# Figure 2A \n",
    "## stacked barplot: syn lengths"
   ]
  },
  {
   "cell_type": "markdown",
   "metadata": {
    "hidden": true
   },
   "source": [
    "### stratify syn lengths by age -- means"
   ]
  },
  {
   "cell_type": "code",
   "execution_count": 58,
   "metadata": {
    "hidden": true
   },
   "outputs": [
    {
     "data": {
      "image/png": "[encoded data removed]",
      "text/plain": [
       "<Figure size 432x432 with 1 Axes>"
      ]
     },
     "metadata": {},
     "output_type": "display_data"
    }
   ],
   "source": [
    "custom_params = {\"axes.spines.right\": False, \"axes.spines.top\": False}\n",
    "sns.set_theme(style=\"white\", font=\"Roboto\", rc=custom_params)\n",
    "order = ['simple', 'complex_core', 'complex_derived']\n",
    "labels = ['Simple', 'Core', 'Derived']\n",
    "\n",
    "\n",
    "fig, ax = plt.subplots(figsize = (6,6))\n",
    "\n",
    "sns.barplot(x = \"arch\", y = \"syn_len\", \n",
    "            data =  data.loc[(data.id == \"cCRE\")], \n",
    "            estimator = np.mean,\n",
    "            palette = yg,\n",
    "            order = order)\n",
    "ax.set_xticklabels(labels)\n",
    "\n",
    "ax.set(ylabel = 'Syn length (bp)', title = 'mean syntenic lengths', xlabel = \"\")\n",
    "#ax.legend()\n",
    "\n",
    "\n",
    "outf = f\"{RE}bar_arch_syn_len-mean.pdf\"\n",
    "plt.savefig(outf, bbox_inches = \"tight\")"
   ]
  },
  {
   "cell_type": "markdown",
   "metadata": {
    "heading_collapsed": true,
    "hidden": true
   },
   "source": [
    "### stratify syn lengths by age -- medians"
   ]
  },
  {
   "cell_type": "code",
   "execution_count": 59,
   "metadata": {
    "hidden": true
   },
   "outputs": [],
   "source": [
    "d = data.loc[data.id == \"cCRE\"][[\"enh_id\",\"arch\", \"syn_len\"]].drop_duplicates()\n",
    "s = d.loc[d[\"arch\"] == \"simple\", \"syn_len\"]\n",
    "c = d.loc[d[\"arch\"] == \"complex_core\", \"syn_len\"]\n",
    "dr = d.loc[d[\"arch\"] == \"complex_derived\", \"syn_len\"]\n",
    "\n",
    "s, p = stats.mannwhitneyu(c, dr) \n",
    "with open(stat_f, \"a\") as writer:\n",
    "    writer.write(f\"\\n\\nMWU core v. der syn length: mwu={s}, p = {p}\")"
   ]
  },
  {
   "cell_type": "code",
   "execution_count": 60,
   "metadata": {
    "code_folding": [],
    "hidden": true
   },
   "outputs": [
    {
     "data": {
      "image/png": "[encoded data removed]",
      "text/plain": [
       "<Figure size 432x432 with 1 Axes>"
      ]
     },
     "metadata": {},
     "output_type": "display_data"
    }
   ],
   "source": [
    "order = ['simple', 'complex_core', 'complex_derived']\n",
    "labels = ['Simple', 'Core', 'Derived']\n",
    "\n",
    "custom_params = {\"axes.spines.right\": False, \"axes.spines.top\": False}\n",
    "\n",
    "sns.set_theme(style=\"white\", font=\"Roboto\", rc=custom_params)\n",
    "fig, ax = plt.subplots(figsize=(6, 6))\n",
    "\n",
    "sns.barplot(x=\"arch\", y=\"syn_len\",\n",
    "            data=data.loc[(data.id == \"cCRE\")],\n",
    "            estimator=np.median,\n",
    "            palette=yg, \n",
    "            order=order)\n",
    "ax.set_xticklabels(labels)\n",
    "\n",
    "ax.set(ylabel = 'Syn length (bp)', title = 'median syntenic lengths', xlabel = \"\")\n",
    "\n",
    "# ax.legend()\n",
    "\n",
    "\n",
    "outf = f\"{RE}bar_arch_syn_len-median.pdf\"\n",
    "plt.savefig(outf, bbox_inches=\"tight\")"
   ]
  },
  {
   "cell_type": "markdown",
   "metadata": {
    "code_folding": [],
    "heading_collapsed": true,
    "hidden": true
   },
   "source": [
    "## stratify syn length by age"
   ]
  },
  {
   "cell_type": "code",
   "execution_count": 61,
   "metadata": {
    "code_folding": [],
    "hidden": true
   },
   "outputs": [
    {
     "data": {
      "image/png": "[encoded data removed]",
      "text/plain": [
       "<Figure size 864x432 with 1 Axes>"
      ]
     },
     "metadata": {},
     "output_type": "display_data"
    }
   ],
   "source": [
    "x = \"mrca_2\"\n",
    "y = \"syn_len\"\n",
    "hue = \"id2\"\n",
    "palette = yg_shuf\n",
    "outf = f\"{RE}ALL_cCRE_syn_len_mrca_2.pdf\"\n",
    "plot_mrca_stratified(x, y, data, hue, palette, outf)"
   ]
  },
  {
   "cell_type": "markdown",
   "metadata": {
    "code_folding": [],
    "heading_collapsed": true,
    "hidden": true
   },
   "source": [
    "## mean lengths"
   ]
  },
  {
   "cell_type": "code",
   "execution_count": 64,
   "metadata": {
    "code_folding": [],
    "hidden": true
   },
   "outputs": [],
   "source": [
    "comp = \"all_cCRE_v_shuffle\"\n",
    "\n",
    "lens = sum_archlen.groupby([\"id\", \"arch\"])[\"syn_len\"].mean().reset_index()\n",
    "pcts = sum_archlen.groupby([\"id\", \"arch\"])[\"pct_enh\"].mean().reset_index()\n",
    "\n",
    "with open(stat_f, \"a\") as writer:\n",
    "    writer.write(\"\\n\\n#syn_len#\\n\\n\")\n",
    "    for i, row in lens.iterrows():\n",
    "        writer.write(row.to_string())\n",
    "    writer.write(\"\\n\\n#percent_syn_len#\\n\\n\")\n",
    "    for i, row in pcts.iterrows():\n",
    "        writer.write(row.to_string())"
   ]
  },
  {
   "cell_type": "markdown",
   "metadata": {
    "code_folding": [],
    "heading_collapsed": true,
    "hidden": true
   },
   "source": [
    "## quantify mwu on architecture, comparing cCRE v. SHUFFLE ids"
   ]
  },
  {
   "cell_type": "code",
   "execution_count": 69,
   "metadata": {
    "code_folding": [],
    "hidden": true
   },
   "outputs": [
    {
     "name": "stdout",
     "output_type": "stream",
     "text": [
      "simple\n",
      "SHUFFLE\n",
      "cCRE\n",
      "val list len 2\n",
      "complex_derived\n",
      "SHUFFLE\n",
      "cCRE\n",
      "val list len 2\n",
      "complex_core\n",
      "SHUFFLE\n",
      "cCRE\n",
      "val list len 2\n",
      "comparison       arch_SHUFFLE_v_cCRE\n",
      "dataset                       simple\n",
      "stat                     4.37573e+09\n",
      "P                        0.000679461\n",
      "medianSHUFFLE                    250\n",
      "mediancCRE                       247\n",
      "meanSHUFFLE                   257.92\n",
      "meancCRE                     256.433\n",
      "comparison       arch_SHUFFLE_v_cCRE\n",
      "dataset              complex_derived\n",
      "stat                     2.52278e+09\n",
      "P                       2.33446e-141\n",
      "medianSHUFFLE                    116\n",
      "mediancCRE                        95\n",
      "meanSHUFFLE                  126.445\n",
      "meancCRE                     112.056\n",
      "comparison       arch_SHUFFLE_v_cCRE\n",
      "dataset                 complex_core\n",
      "stat                     2.61584e+09\n",
      "P                        8.27018e-60\n",
      "medianSHUFFLE                    142\n",
      "mediancCRE                       154\n",
      "meanSHUFFLE                  151.541\n",
      "meancCRE                     162.006\n",
      "simple\n",
      "simple\n",
      "complex_derived\n",
      "complex_core\n",
      "val list len 3\n",
      "complex_derived\n"
     ]
    },
    {
     "name": "stderr",
     "output_type": "stream",
     "text": [
      "/home/fongsl/.local/lib/python3.6/site-packages/numpy/core/fromnumeric.py:3373: RuntimeWarning: Mean of empty slice.\n",
      "  out=out, **kwargs)\n",
      "/home/fongsl/.local/lib/python3.6/site-packages/numpy/core/_methods.py:170: RuntimeWarning: invalid value encountered in double_scalars\n",
      "  ret = ret.dtype.type(ret / rcount)\n",
      "/home/fongsl/.local/lib/python3.6/site-packages/scipy/stats/stats.py:7028: RuntimeWarning: divide by zero encountered in double_scalars\n",
      "  z = (bigu - meanrank) / sd\n"
     ]
    },
    {
     "name": "stdout",
     "output_type": "stream",
     "text": [
      "simple\n",
      "complex_derived\n",
      "complex_core\n",
      "val list len 3\n",
      "complex_core\n",
      "simple\n",
      "complex_derived\n",
      "complex_core\n",
      "val list len 3\n",
      "comparison               arch_simple_v_complex_derived\n",
      "dataset                                         simple\n",
      "stat                                                 0\n",
      "P                                                    0\n",
      "mediansimple                                       250\n",
      "mediancomplex_derived                              NaN\n",
      "meansimple                                     257.812\n",
      "meancomplex_derived                                NaN\n",
      "comparison               arch_simple_v_complex_derived\n",
      "dataset                                complex_derived\n",
      "stat                                                 0\n",
      "P                                                    0\n",
      "mediansimple                                       NaN\n",
      "mediancomplex_derived                              113\n",
      "meansimple                                         NaN\n",
      "meancomplex_derived                            124.719\n",
      "comparison               arch_simple_v_complex_derived\n",
      "dataset                                   complex_core\n",
      "stat                                                 0\n",
      "P                                                    0\n",
      "mediansimple                                       NaN\n",
      "mediancomplex_derived                              NaN\n",
      "meansimple                                         NaN\n",
      "meancomplex_derived                                NaN\n"
     ]
    }
   ],
   "source": [
    "dataset_col = \"arch\" # first level - simple, complex core, complex derived\n",
    "id_col = \"id\" # do mwu separating on this variable\n",
    "test_dif = \"syn_len\" # calculate mwu from these variables' values\n",
    "\n",
    "mwu_df = get_mwu( dataset_col, id_col, test_dif, sum_archlen, stat_f)\n",
    "\n",
    "#%% do mwu on architecture, comparing cCRE v. cCRE ids\n",
    "\n",
    "dataset_col = \"arch\" # first level - simple, complex core, complex derived\n",
    "id_col = \"arch\" # do mwu separating on this variable\n",
    "test_dif = \"syn_len\" # calculate mwu from these variables' values\n",
    "\n",
    "mwu_df = get_mwu( dataset_col, id_col, test_dif, sum_archlen, stat_f)"
   ]
  },
  {
   "cell_type": "code",
   "execution_count": 70,
   "metadata": {
    "code_folding": [],
    "hidden": true
   },
   "outputs": [],
   "source": [
    "#%% get arch counts\n",
    "\n",
    "arch_count = enh[[\"core_remodeling\", \"enh_id\"]].drop_duplicates().groupby(\"core_remodeling\")[\"enh_id\"].count().reset_index()\n",
    "arch_count.columns = [\"core_remodeling\", \"count_arch\"]\n",
    "arch_count[\"total\"] = arch_count.count_arch.sum()\n",
    "arch_count[\"percent\"] = arch_count.count_arch.divide(arch_count.total)\n",
    "\n",
    "with open(stat_f, \"a\") as writer:\n",
    "    writer.write(\"\\n\\n#percent_syn_len#\\n\\n\")\n",
    "    for i, row in arch_count.iterrows():\n",
    "        writer.write(row.to_string())"
   ]
  },
  {
   "cell_type": "markdown",
   "metadata": {
    "code_folding": [],
    "heading_collapsed": true
   },
   "source": [
    "# GET MRCA FREQUENCIES"
   ]
  },
  {
   "cell_type": "code",
   "execution_count": 71,
   "metadata": {
    "code_folding": [],
    "hidden": true
   },
   "outputs": [
    {
     "name": "stdout",
     "output_type": "stream",
     "text": [
      "id                      cCRE\n",
      "arch            complex_core\n",
      "mrca_2                 0.144\n",
      "counts                     7\n",
      "total_id               38018\n",
      "freq             0.000184123\n",
      "dataset_name            cCRE\n",
      "Name: 0, dtype: object\n",
      "id                      cCRE\n",
      "arch            complex_core\n",
      "mrca_2                 0.146\n",
      "counts                   144\n",
      "total_id               38018\n",
      "freq              0.00378768\n",
      "dataset_name            cCRE\n",
      "Name: 1, dtype: object\n",
      "id                      cCRE\n",
      "arch            complex_core\n",
      "mrca_2                 0.167\n",
      "counts                   804\n",
      "total_id               38018\n",
      "freq               0.0211479\n",
      "dataset_name            cCRE\n",
      "Name: 2, dtype: object\n",
      "id                      cCRE\n",
      "arch            complex_core\n",
      "mrca_2                  0.19\n",
      "counts                  7050\n",
      "total_id               38018\n",
      "freq                0.185438\n",
      "dataset_name            cCRE\n",
      "Name: 3, dtype: object\n",
      "id                      cCRE\n",
      "arch            complex_core\n",
      "mrca_2                 0.425\n",
      "counts                  3729\n",
      "total_id               38018\n",
      "freq               0.0980851\n",
      "dataset_name            cCRE\n",
      "Name: 4, dtype: object\n",
      "id                      cCRE\n",
      "arch            complex_core\n",
      "mrca_2                 0.497\n",
      "counts                  1518\n",
      "total_id               38018\n",
      "freq               0.0399285\n",
      "dataset_name            cCRE\n",
      "Name: 5, dtype: object\n",
      "id                      cCRE\n",
      "arch            complex_core\n",
      "mrca_2                 0.606\n",
      "counts                 11211\n",
      "total_id               38018\n",
      "freq                0.294887\n",
      "dataset_name            cCRE\n",
      "Name: 6, dtype: object\n",
      "id                      cCRE\n",
      "arch            complex_core\n",
      "mrca_2                 0.656\n",
      "counts                  1429\n",
      "total_id               38018\n",
      "freq               0.0375875\n",
      "dataset_name            cCRE\n",
      "Name: 7, dtype: object\n",
      "id                      cCRE\n",
      "arch            complex_core\n",
      "mrca_2                 0.756\n",
      "counts                   689\n",
      "total_id               38018\n",
      "freq                0.018123\n",
      "dataset_name            cCRE\n",
      "Name: 8, dtype: object\n",
      "id                      cCRE\n",
      "arch            complex_core\n",
      "mrca_2                 0.867\n",
      "counts                 11437\n",
      "total_id               38018\n",
      "freq                0.300831\n",
      "dataset_name            cCRE\n",
      "Name: 9, dtype: object\n",
      "id                         cCRE\n",
      "arch            complex_derived\n",
      "mrca_2                        0\n",
      "counts                       28\n",
      "total_id                  50048\n",
      "freq                0.000559463\n",
      "dataset_name               cCRE\n",
      "Name: 10, dtype: object\n",
      "id                         cCRE\n",
      "arch            complex_derived\n",
      "mrca_2                    0.144\n",
      "counts                     3419\n",
      "total_id                  50048\n",
      "freq                  0.0683144\n",
      "dataset_name               cCRE\n",
      "Name: 11, dtype: object\n",
      "id                         cCRE\n",
      "arch            complex_derived\n",
      "mrca_2                    0.146\n",
      "counts                     2463\n",
      "total_id                  50048\n",
      "freq                  0.0492128\n",
      "dataset_name               cCRE\n",
      "Name: 12, dtype: object\n",
      "id                         cCRE\n",
      "arch            complex_derived\n",
      "mrca_2                    0.167\n",
      "counts                     7543\n",
      "total_id                  50048\n",
      "freq                   0.150715\n",
      "dataset_name               cCRE\n",
      "Name: 13, dtype: object\n",
      "id                         cCRE\n",
      "arch            complex_derived\n",
      "mrca_2                     0.19\n",
      "counts                    13230\n",
      "total_id                  50048\n",
      "freq                   0.264346\n",
      "dataset_name               cCRE\n",
      "Name: 14, dtype: object\n",
      "id                         cCRE\n",
      "arch            complex_derived\n",
      "mrca_2                    0.425\n",
      "counts                     6740\n",
      "total_id                  50048\n",
      "freq                   0.134671\n",
      "dataset_name               cCRE\n",
      "Name: 15, dtype: object\n",
      "id                         cCRE\n",
      "arch            complex_derived\n",
      "mrca_2                    0.497\n",
      "counts                     3417\n",
      "total_id                  50048\n",
      "freq                  0.0682745\n",
      "dataset_name               cCRE\n",
      "Name: 16, dtype: object\n",
      "id                         cCRE\n",
      "arch            complex_derived\n",
      "mrca_2                    0.606\n",
      "counts                     9524\n",
      "total_id                  50048\n",
      "freq                   0.190297\n",
      "dataset_name               cCRE\n",
      "Name: 17, dtype: object\n",
      "id                         cCRE\n",
      "arch            complex_derived\n",
      "mrca_2                    0.656\n",
      "counts                     2116\n",
      "total_id                  50048\n",
      "freq                  0.0422794\n",
      "dataset_name               cCRE\n",
      "Name: 18, dtype: object\n",
      "id                         cCRE\n",
      "arch            complex_derived\n",
      "mrca_2                    0.756\n",
      "counts                     1568\n",
      "total_id                  50048\n",
      "freq                  0.0313299\n",
      "dataset_name               cCRE\n",
      "Name: 19, dtype: object\n",
      "id                     cCRE\n",
      "arch                 simple\n",
      "mrca_2                    0\n",
      "counts                   14\n",
      "total_id              26624\n",
      "freq            0.000525841\n",
      "dataset_name           cCRE\n",
      "Name: 20, dtype: object\n",
      "id                   cCRE\n",
      "arch               simple\n",
      "mrca_2              0.144\n",
      "counts               1696\n",
      "total_id            26624\n",
      "freq            0.0637019\n",
      "dataset_name         cCRE\n",
      "Name: 21, dtype: object\n",
      "id                    cCRE\n",
      "arch                simple\n",
      "mrca_2               0.146\n",
      "counts                 111\n",
      "total_id             26624\n",
      "freq            0.00416917\n",
      "dataset_name          cCRE\n",
      "Name: 22, dtype: object\n",
      "id                   cCRE\n",
      "arch               simple\n",
      "mrca_2              0.167\n",
      "counts                598\n",
      "total_id            26624\n",
      "freq            0.0224609\n",
      "dataset_name         cCRE\n",
      "Name: 23, dtype: object\n",
      "id                  cCRE\n",
      "arch              simple\n",
      "mrca_2              0.19\n",
      "counts             11120\n",
      "total_id           26624\n",
      "freq            0.417668\n",
      "dataset_name        cCRE\n",
      "Name: 24, dtype: object\n",
      "id                   cCRE\n",
      "arch               simple\n",
      "mrca_2              0.425\n",
      "counts               1827\n",
      "total_id            26624\n",
      "freq            0.0686223\n",
      "dataset_name         cCRE\n",
      "Name: 25, dtype: object\n",
      "id                   cCRE\n",
      "arch               simple\n",
      "mrca_2              0.497\n",
      "counts                496\n",
      "total_id            26624\n",
      "freq            0.0186298\n",
      "dataset_name         cCRE\n",
      "Name: 26, dtype: object\n",
      "id                  cCRE\n",
      "arch              simple\n",
      "mrca_2             0.606\n",
      "counts              7127\n",
      "total_id           26624\n",
      "freq            0.267691\n",
      "dataset_name        cCRE\n",
      "Name: 27, dtype: object\n",
      "id                    cCRE\n",
      "arch                simple\n",
      "mrca_2               0.656\n",
      "counts                 249\n",
      "total_id             26624\n",
      "freq            0.00935246\n",
      "dataset_name          cCRE\n",
      "Name: 28, dtype: object\n",
      "id                    cCRE\n",
      "arch                simple\n",
      "mrca_2               0.756\n",
      "counts                  88\n",
      "total_id             26624\n",
      "freq            0.00330529\n",
      "dataset_name          cCRE\n",
      "Name: 29, dtype: object\n",
      "id                  cCRE\n",
      "arch              simple\n",
      "mrca_2             0.867\n",
      "counts              3298\n",
      "total_id           26624\n",
      "freq            0.123873\n",
      "dataset_name        cCRE\n",
      "Name: 30, dtype: object\n",
      "id                   SHUFFLE\n",
      "arch            complex_core\n",
      "mrca_2                 0.144\n",
      "counts                  1696\n",
      "total_id              279918\n",
      "freq              0.00605892\n",
      "dataset_name         SHUFFLE\n",
      "Name: 0, dtype: object\n",
      "id                   SHUFFLE\n",
      "arch            complex_core\n",
      "mrca_2                 0.146\n",
      "counts                  7660\n",
      "total_id              279918\n",
      "freq               0.0273652\n",
      "dataset_name         SHUFFLE\n",
      "Name: 1, dtype: object\n",
      "id                   SHUFFLE\n",
      "arch            complex_core\n",
      "mrca_2                 0.167\n",
      "counts                 33540\n",
      "total_id              279918\n",
      "freq                0.119821\n",
      "dataset_name         SHUFFLE\n",
      "Name: 2, dtype: object\n",
      "id                   SHUFFLE\n",
      "arch            complex_core\n",
      "mrca_2                  0.19\n",
      "counts                139151\n",
      "total_id              279918\n",
      "freq                0.497113\n",
      "dataset_name         SHUFFLE\n",
      "Name: 3, dtype: object\n",
      "id                   SHUFFLE\n",
      "arch            complex_core\n",
      "mrca_2                 0.425\n",
      "counts                 29248\n",
      "total_id              279918\n",
      "freq                0.104488\n",
      "dataset_name         SHUFFLE\n",
      "Name: 4, dtype: object\n",
      "id                   SHUFFLE\n",
      "arch            complex_core\n",
      "mrca_2                 0.497\n",
      "counts                  9404\n",
      "total_id              279918\n",
      "freq               0.0335956\n",
      "dataset_name         SHUFFLE\n",
      "Name: 5, dtype: object\n",
      "id                   SHUFFLE\n",
      "arch            complex_core\n",
      "mrca_2                 0.606\n",
      "counts                 35217\n",
      "total_id              279918\n",
      "freq                0.125812\n",
      "dataset_name         SHUFFLE\n",
      "Name: 6, dtype: object\n",
      "id                   SHUFFLE\n",
      "arch            complex_core\n",
      "mrca_2                 0.656\n",
      "counts                  4936\n",
      "total_id              279918\n",
      "freq               0.0176337\n",
      "dataset_name         SHUFFLE\n",
      "Name: 7, dtype: object\n",
      "id                   SHUFFLE\n",
      "arch            complex_core\n",
      "mrca_2                 0.756\n",
      "counts                  1970\n",
      "total_id              279918\n",
      "freq              0.00703778\n",
      "dataset_name         SHUFFLE\n",
      "Name: 8, dtype: object\n",
      "id                   SHUFFLE\n",
      "arch            complex_core\n",
      "mrca_2                 0.867\n",
      "counts                 17096\n",
      "total_id              279918\n",
      "freq                0.061075\n",
      "dataset_name         SHUFFLE\n",
      "Name: 9, dtype: object\n",
      "id                      SHUFFLE\n",
      "arch            complex_derived\n",
      "mrca_2                        0\n",
      "counts                     2943\n",
      "total_id                 410258\n",
      "freq                 0.00717353\n",
      "dataset_name            SHUFFLE\n",
      "Name: 10, dtype: object\n",
      "id                      SHUFFLE\n",
      "arch            complex_derived\n",
      "mrca_2                    0.144\n",
      "counts                   106910\n",
      "total_id                 410258\n",
      "freq                   0.260592\n",
      "dataset_name            SHUFFLE\n",
      "Name: 11, dtype: object\n",
      "id                      SHUFFLE\n",
      "arch            complex_derived\n",
      "mrca_2                    0.146\n",
      "counts                    57477\n",
      "total_id                 410258\n",
      "freq                     0.1401\n",
      "dataset_name            SHUFFLE\n",
      "Name: 12, dtype: object\n",
      "id                      SHUFFLE\n",
      "arch            complex_derived\n",
      "mrca_2                    0.167\n",
      "counts                   133692\n",
      "total_id                 410258\n",
      "freq                   0.325873\n",
      "dataset_name            SHUFFLE\n",
      "Name: 13, dtype: object\n",
      "id                      SHUFFLE\n",
      "arch            complex_derived\n",
      "mrca_2                     0.19\n",
      "counts                    63551\n",
      "total_id                 410258\n",
      "freq                   0.154905\n",
      "dataset_name            SHUFFLE\n",
      "Name: 14, dtype: object\n",
      "id                      SHUFFLE\n",
      "arch            complex_derived\n",
      "mrca_2                    0.425\n",
      "counts                    20866\n",
      "total_id                 410258\n",
      "freq                  0.0508607\n",
      "dataset_name            SHUFFLE\n",
      "Name: 15, dtype: object\n",
      "id                      SHUFFLE\n",
      "arch            complex_derived\n",
      "mrca_2                    0.497\n",
      "counts                     7336\n",
      "total_id                 410258\n",
      "freq                  0.0178814\n",
      "dataset_name            SHUFFLE\n",
      "Name: 16, dtype: object\n",
      "id                      SHUFFLE\n",
      "arch            complex_derived\n",
      "mrca_2                    0.606\n",
      "counts                    12073\n",
      "total_id                 410258\n",
      "freq                  0.0294278\n",
      "dataset_name            SHUFFLE\n",
      "Name: 17, dtype: object\n",
      "id                      SHUFFLE\n",
      "arch            complex_derived\n",
      "mrca_2                    0.656\n",
      "counts                     3533\n",
      "total_id                 410258\n",
      "freq                 0.00861165\n",
      "dataset_name            SHUFFLE\n",
      "Name: 18, dtype: object\n",
      "id                      SHUFFLE\n",
      "arch            complex_derived\n",
      "mrca_2                    0.756\n",
      "counts                     1877\n",
      "total_id                 410258\n",
      "freq                 0.00457517\n",
      "dataset_name            SHUFFLE\n",
      "Name: 19, dtype: object\n",
      "id              SHUFFLE\n",
      "arch             simple\n",
      "mrca_2                0\n",
      "counts            44930\n",
      "total_id         357381\n",
      "freq            0.12572\n",
      "dataset_name    SHUFFLE\n",
      "Name: 20, dtype: object\n",
      "id               SHUFFLE\n",
      "arch              simple\n",
      "mrca_2             0.144\n",
      "counts            124155\n",
      "total_id          357381\n",
      "freq            0.347402\n",
      "dataset_name     SHUFFLE\n",
      "Name: 21, dtype: object\n",
      "id                SHUFFLE\n",
      "arch               simple\n",
      "mrca_2              0.146\n",
      "counts               6332\n",
      "total_id           357381\n",
      "freq            0.0177178\n",
      "dataset_name      SHUFFLE\n",
      "Name: 22, dtype: object\n",
      "id                SHUFFLE\n",
      "arch               simple\n",
      "mrca_2              0.167\n",
      "counts              23971\n",
      "total_id           357381\n",
      "freq            0.0670741\n",
      "dataset_name      SHUFFLE\n",
      "Name: 23, dtype: object\n",
      "id               SHUFFLE\n",
      "arch              simple\n",
      "mrca_2              0.19\n",
      "counts            120568\n",
      "total_id          357381\n",
      "freq            0.337365\n",
      "dataset_name     SHUFFLE\n",
      "Name: 24, dtype: object\n",
      "id                SHUFFLE\n",
      "arch               simple\n",
      "mrca_2              0.425\n",
      "counts              13227\n",
      "total_id           357381\n",
      "freq            0.0370109\n",
      "dataset_name      SHUFFLE\n",
      "Name: 25, dtype: object\n",
      "id                 SHUFFLE\n",
      "arch                simple\n",
      "mrca_2               0.497\n",
      "counts                2697\n",
      "total_id            357381\n",
      "freq            0.00754657\n",
      "dataset_name       SHUFFLE\n",
      "Name: 26, dtype: object\n",
      "id                SHUFFLE\n",
      "arch               simple\n",
      "mrca_2              0.606\n",
      "counts              13440\n",
      "total_id           357381\n",
      "freq            0.0376069\n",
      "dataset_name      SHUFFLE\n",
      "Name: 27, dtype: object\n",
      "id                 SHUFFLE\n",
      "arch                simple\n",
      "mrca_2               0.656\n",
      "counts                 810\n",
      "total_id            357381\n",
      "freq            0.00226649\n",
      "dataset_name       SHUFFLE\n",
      "Name: 28, dtype: object\n",
      "id                 SHUFFLE\n",
      "arch                simple\n",
      "mrca_2               0.756\n",
      "counts                 392\n",
      "total_id            357381\n",
      "freq            0.00109687\n",
      "dataset_name       SHUFFLE\n",
      "Name: 29, dtype: object\n",
      "id                SHUFFLE\n",
      "arch               simple\n",
      "mrca_2              0.867\n",
      "counts               6859\n",
      "total_id           357381\n",
      "freq            0.0191924\n",
      "dataset_name      SHUFFLE\n",
      "Name: 30, dtype: object\n"
     ]
    },
    {
     "name": "stdout",
     "output_type": "stream",
     "text": [
      "id                     cCRE\n",
      "mrca_2                    0\n",
      "counts                   42\n",
      "total_id             114690\n",
      "freq            0.000366205\n",
      "dataset_name           cCRE\n",
      "Name: 0, dtype: object\n",
      "id                   cCRE\n",
      "mrca_2              0.144\n",
      "counts               5122\n",
      "total_id           114690\n",
      "freq            0.0446595\n",
      "dataset_name         cCRE\n",
      "Name: 1, dtype: object\n",
      "id                   cCRE\n",
      "mrca_2              0.146\n",
      "counts               2718\n",
      "total_id           114690\n",
      "freq            0.0236987\n",
      "dataset_name         cCRE\n",
      "Name: 2, dtype: object\n",
      "id                   cCRE\n",
      "mrca_2              0.167\n",
      "counts               8945\n",
      "total_id           114690\n",
      "freq            0.0779929\n",
      "dataset_name         cCRE\n",
      "Name: 3, dtype: object\n",
      "id                  cCRE\n",
      "mrca_2              0.19\n",
      "counts             31400\n",
      "total_id          114690\n",
      "freq            0.273781\n",
      "dataset_name        cCRE\n",
      "Name: 4, dtype: object\n",
      "id                  cCRE\n",
      "mrca_2             0.425\n",
      "counts             12296\n",
      "total_id          114690\n",
      "freq            0.107211\n",
      "dataset_name        cCRE\n",
      "Name: 5, dtype: object\n",
      "id                   cCRE\n",
      "mrca_2              0.497\n",
      "counts               5431\n",
      "total_id           114690\n",
      "freq            0.0473537\n",
      "dataset_name         cCRE\n",
      "Name: 6, dtype: object\n",
      "id                  cCRE\n",
      "mrca_2             0.606\n",
      "counts             27862\n",
      "total_id          114690\n",
      "freq            0.242933\n",
      "dataset_name        cCRE\n",
      "Name: 7, dtype: object\n",
      "id                   cCRE\n",
      "mrca_2              0.656\n",
      "counts               3794\n",
      "total_id           114690\n",
      "freq            0.0330805\n",
      "dataset_name         cCRE\n",
      "Name: 8, dtype: object\n",
      "id                   cCRE\n",
      "mrca_2              0.756\n",
      "counts               2345\n",
      "total_id           114690\n",
      "freq            0.0204464\n",
      "dataset_name         cCRE\n",
      "Name: 9, dtype: object\n",
      "id                  cCRE\n",
      "mrca_2             0.867\n",
      "counts             14735\n",
      "total_id          114690\n",
      "freq            0.128477\n",
      "dataset_name        cCRE\n",
      "Name: 10, dtype: object\n",
      "id                SHUFFLE\n",
      "mrca_2                  0\n",
      "counts              47873\n",
      "total_id          1047557\n",
      "freq            0.0456997\n",
      "dataset_name      SHUFFLE\n",
      "Name: 0, dtype: object\n",
      "id               SHUFFLE\n",
      "mrca_2             0.144\n",
      "counts            232761\n",
      "total_id         1047557\n",
      "freq            0.222194\n",
      "dataset_name     SHUFFLE\n",
      "Name: 1, dtype: object\n",
      "id                SHUFFLE\n",
      "mrca_2              0.146\n",
      "counts              71469\n",
      "total_id          1047557\n",
      "freq            0.0682244\n",
      "dataset_name      SHUFFLE\n",
      "Name: 2, dtype: object\n",
      "id               SHUFFLE\n",
      "mrca_2             0.167\n",
      "counts            191203\n",
      "total_id         1047557\n",
      "freq            0.182523\n",
      "dataset_name     SHUFFLE\n",
      "Name: 3, dtype: object\n",
      "id               SHUFFLE\n",
      "mrca_2              0.19\n",
      "counts            323270\n",
      "total_id         1047557\n",
      "freq            0.308594\n",
      "dataset_name     SHUFFLE\n",
      "Name: 4, dtype: object\n",
      "id                SHUFFLE\n",
      "mrca_2              0.425\n",
      "counts              63341\n",
      "total_id          1047557\n",
      "freq            0.0604654\n",
      "dataset_name      SHUFFLE\n",
      "Name: 5, dtype: object\n",
      "id                SHUFFLE\n",
      "mrca_2              0.497\n",
      "counts              19437\n",
      "total_id          1047557\n",
      "freq            0.0185546\n",
      "dataset_name      SHUFFLE\n",
      "Name: 6, dtype: object\n",
      "id               SHUFFLE\n",
      "mrca_2             0.606\n",
      "counts             60730\n",
      "total_id         1047557\n",
      "freq            0.057973\n",
      "dataset_name     SHUFFLE\n",
      "Name: 7, dtype: object\n",
      "id                 SHUFFLE\n",
      "mrca_2               0.656\n",
      "counts                9279\n",
      "total_id           1047557\n",
      "freq            0.00885775\n",
      "dataset_name       SHUFFLE\n",
      "Name: 8, dtype: object\n",
      "id                 SHUFFLE\n",
      "mrca_2               0.756\n",
      "counts                4239\n",
      "total_id           1047557\n",
      "freq            0.00404656\n",
      "dataset_name       SHUFFLE\n",
      "Name: 9, dtype: object\n",
      "id                SHUFFLE\n",
      "mrca_2              0.867\n",
      "counts              23955\n",
      "total_id          1047557\n",
      "freq            0.0228675\n",
      "dataset_name      SHUFFLE\n",
      "Name: 10, dtype: object\n"
     ]
    }
   ],
   "source": [
    "cols = [\"id\", \"arch\", \"mrca_2\"]\n",
    "var = \"mrca_2\"\n",
    "age_arch_freq, age_arch_fc = MRCA_frequency(df, cols, var, stat_f)\n",
    "\n",
    "\n",
    "cols = [\"id\", \"mrca_2\"]\n",
    "var = \"mrca_2\"\n",
    "age_freq, age_fc = MRCA_frequency(df, cols, var, stat_f)\n",
    "\n",
    "\n",
    "#%%"
   ]
  },
  {
   "cell_type": "code",
   "execution_count": 72,
   "metadata": {
    "code_folding": [
     0
    ],
    "hidden": true
   },
   "outputs": [
    {
     "data": {
      "text/html": [
       "<div>\n",
       "<style scoped>\n",
       "    .dataframe tbody tr th:only-of-type {\n",
       "        vertical-align: middle;\n",
       "    }\n",
       "\n",
       "    .dataframe tbody tr th {\n",
       "        vertical-align: top;\n",
       "    }\n",
       "\n",
       "    .dataframe thead th {\n",
       "        text-align: right;\n",
       "    }\n",
       "</style>\n",
       "<table border=\"1\" class=\"dataframe\">\n",
       "  <thead>\n",
       "    <tr style=\"text-align: right;\">\n",
       "      <th></th>\n",
       "      <th>id_x</th>\n",
       "      <th>arch</th>\n",
       "      <th>mrca_2</th>\n",
       "      <th>counts_x</th>\n",
       "      <th>total_id_x</th>\n",
       "      <th>freq_x</th>\n",
       "      <th>dataset_name_x</th>\n",
       "      <th>id_y</th>\n",
       "      <th>counts_y</th>\n",
       "      <th>total_id_y</th>\n",
       "      <th>freq_y</th>\n",
       "      <th>dataset_name_y</th>\n",
       "      <th>fold_change</th>\n",
       "    </tr>\n",
       "  </thead>\n",
       "  <tbody>\n",
       "    <tr>\n",
       "      <th>0</th>\n",
       "      <td>SHUFFLE</td>\n",
       "      <td>complex_core</td>\n",
       "      <td>0.144</td>\n",
       "      <td>1696</td>\n",
       "      <td>279918</td>\n",
       "      <td>0.006059</td>\n",
       "      <td>SHUFFLE</td>\n",
       "      <td>cCRE</td>\n",
       "      <td>7</td>\n",
       "      <td>38018</td>\n",
       "      <td>0.000184</td>\n",
       "      <td>cCRE</td>\n",
       "      <td>0.030389</td>\n",
       "    </tr>\n",
       "    <tr>\n",
       "      <th>1</th>\n",
       "      <td>SHUFFLE</td>\n",
       "      <td>complex_core</td>\n",
       "      <td>0.146</td>\n",
       "      <td>7660</td>\n",
       "      <td>279918</td>\n",
       "      <td>0.027365</td>\n",
       "      <td>SHUFFLE</td>\n",
       "      <td>cCRE</td>\n",
       "      <td>144</td>\n",
       "      <td>38018</td>\n",
       "      <td>0.003788</td>\n",
       "      <td>cCRE</td>\n",
       "      <td>0.138412</td>\n",
       "    </tr>\n",
       "    <tr>\n",
       "      <th>2</th>\n",
       "      <td>SHUFFLE</td>\n",
       "      <td>complex_core</td>\n",
       "      <td>0.167</td>\n",
       "      <td>33540</td>\n",
       "      <td>279918</td>\n",
       "      <td>0.119821</td>\n",
       "      <td>SHUFFLE</td>\n",
       "      <td>cCRE</td>\n",
       "      <td>804</td>\n",
       "      <td>38018</td>\n",
       "      <td>0.021148</td>\n",
       "      <td>cCRE</td>\n",
       "      <td>0.176496</td>\n",
       "    </tr>\n",
       "    <tr>\n",
       "      <th>3</th>\n",
       "      <td>SHUFFLE</td>\n",
       "      <td>complex_core</td>\n",
       "      <td>0.190</td>\n",
       "      <td>139151</td>\n",
       "      <td>279918</td>\n",
       "      <td>0.497113</td>\n",
       "      <td>SHUFFLE</td>\n",
       "      <td>cCRE</td>\n",
       "      <td>7050</td>\n",
       "      <td>38018</td>\n",
       "      <td>0.185438</td>\n",
       "      <td>cCRE</td>\n",
       "      <td>0.373031</td>\n",
       "    </tr>\n",
       "    <tr>\n",
       "      <th>4</th>\n",
       "      <td>SHUFFLE</td>\n",
       "      <td>complex_core</td>\n",
       "      <td>0.425</td>\n",
       "      <td>29248</td>\n",
       "      <td>279918</td>\n",
       "      <td>0.104488</td>\n",
       "      <td>SHUFFLE</td>\n",
       "      <td>cCRE</td>\n",
       "      <td>3729</td>\n",
       "      <td>38018</td>\n",
       "      <td>0.098085</td>\n",
       "      <td>cCRE</td>\n",
       "      <td>0.938724</td>\n",
       "    </tr>\n",
       "  </tbody>\n",
       "</table>\n",
       "</div>"
      ],
      "text/plain": [
       "      id_x          arch  mrca_2  counts_x  total_id_x    freq_x  \\\n",
       "0  SHUFFLE  complex_core   0.144      1696      279918  0.006059   \n",
       "1  SHUFFLE  complex_core   0.146      7660      279918  0.027365   \n",
       "2  SHUFFLE  complex_core   0.167     33540      279918  0.119821   \n",
       "3  SHUFFLE  complex_core   0.190    139151      279918  0.497113   \n",
       "4  SHUFFLE  complex_core   0.425     29248      279918  0.104488   \n",
       "\n",
       "  dataset_name_x  id_y  counts_y  total_id_y    freq_y dataset_name_y  \\\n",
       "0        SHUFFLE  cCRE         7       38018  0.000184           cCRE   \n",
       "1        SHUFFLE  cCRE       144       38018  0.003788           cCRE   \n",
       "2        SHUFFLE  cCRE       804       38018  0.021148           cCRE   \n",
       "3        SHUFFLE  cCRE      7050       38018  0.185438           cCRE   \n",
       "4        SHUFFLE  cCRE      3729       38018  0.098085           cCRE   \n",
       "\n",
       "   fold_change  \n",
       "0     0.030389  \n",
       "1     0.138412  \n",
       "2     0.176496  \n",
       "3     0.373031  \n",
       "4     0.938724  "
      ]
     },
     "execution_count": 72,
     "metadata": {},
     "output_type": "execute_result"
    }
   ],
   "source": [
    "age_arch_fc.head()"
   ]
  },
  {
   "cell_type": "code",
   "execution_count": 73,
   "metadata": {
    "code_folding": [
     0
    ],
    "hidden": true
   },
   "outputs": [
    {
     "data": {
      "text/html": [
       "<div>\n",
       "<style scoped>\n",
       "    .dataframe tbody tr th:only-of-type {\n",
       "        vertical-align: middle;\n",
       "    }\n",
       "\n",
       "    .dataframe tbody tr th {\n",
       "        vertical-align: top;\n",
       "    }\n",
       "\n",
       "    .dataframe thead th {\n",
       "        text-align: right;\n",
       "    }\n",
       "</style>\n",
       "<table border=\"1\" class=\"dataframe\">\n",
       "  <thead>\n",
       "    <tr style=\"text-align: right;\">\n",
       "      <th></th>\n",
       "      <th>mrca_2</th>\n",
       "      <th>counts_y</th>\n",
       "    </tr>\n",
       "  </thead>\n",
       "  <tbody>\n",
       "    <tr>\n",
       "      <th>0</th>\n",
       "      <td>0.144</td>\n",
       "      <td>3419.0</td>\n",
       "    </tr>\n",
       "    <tr>\n",
       "      <th>1</th>\n",
       "      <td>0.146</td>\n",
       "      <td>2463.0</td>\n",
       "    </tr>\n",
       "    <tr>\n",
       "      <th>2</th>\n",
       "      <td>0.167</td>\n",
       "      <td>7543.0</td>\n",
       "    </tr>\n",
       "    <tr>\n",
       "      <th>3</th>\n",
       "      <td>0.190</td>\n",
       "      <td>13230.0</td>\n",
       "    </tr>\n",
       "    <tr>\n",
       "      <th>4</th>\n",
       "      <td>0.425</td>\n",
       "      <td>6740.0</td>\n",
       "    </tr>\n",
       "    <tr>\n",
       "      <th>5</th>\n",
       "      <td>0.497</td>\n",
       "      <td>3417.0</td>\n",
       "    </tr>\n",
       "    <tr>\n",
       "      <th>6</th>\n",
       "      <td>0.606</td>\n",
       "      <td>9524.0</td>\n",
       "    </tr>\n",
       "    <tr>\n",
       "      <th>7</th>\n",
       "      <td>0.656</td>\n",
       "      <td>2116.0</td>\n",
       "    </tr>\n",
       "    <tr>\n",
       "      <th>8</th>\n",
       "      <td>0.756</td>\n",
       "      <td>1568.0</td>\n",
       "    </tr>\n",
       "    <tr>\n",
       "      <th>9</th>\n",
       "      <td>0.867</td>\n",
       "      <td>NaN</td>\n",
       "    </tr>\n",
       "    <tr>\n",
       "      <th>10</th>\n",
       "      <td>0.000</td>\n",
       "      <td>28.0</td>\n",
       "    </tr>\n",
       "  </tbody>\n",
       "</table>\n",
       "</div>"
      ],
      "text/plain": [
       "    mrca_2  counts_y\n",
       "0    0.144    3419.0\n",
       "1    0.146    2463.0\n",
       "2    0.167    7543.0\n",
       "3    0.190   13230.0\n",
       "4    0.425    6740.0\n",
       "5    0.497    3417.0\n",
       "6    0.606    9524.0\n",
       "7    0.656    2116.0\n",
       "8    0.756    1568.0\n",
       "9    0.867       NaN\n",
       "10   0.000      28.0"
      ]
     },
     "execution_count": 73,
     "metadata": {},
     "output_type": "execute_result"
    }
   ],
   "source": [
    "mrcas = age_arch_fc[\"mrca_2\"].drop_duplicates()\n",
    "pd.merge(mrcas, age_arch_fc.loc[age_arch_fc.arch == \"complex_derived\"][[\"mrca_2\", \"counts_y\"]], how = \"left\")\n"
   ]
  },
  {
   "cell_type": "markdown",
   "metadata": {
    "heading_collapsed": true
   },
   "source": [
    "# Fold change, all archs in one graph"
   ]
  },
  {
   "cell_type": "code",
   "execution_count": 84,
   "metadata": {
    "code_folding": [
     0
    ],
    "hidden": true
   },
   "outputs": [
    {
     "ename": "ValueError",
     "evalue": "#f7fcb9 is not a valid palette name",
     "output_type": "error",
     "traceback": [
      "\u001b[0;31m---------------------------------------------------------------------------\u001b[0m",
      "\u001b[0;31mValueError\u001b[0m                                Traceback (most recent call last)",
      "\u001b[0;32m~/.local/lib/python3.6/site-packages/seaborn/palettes.py\u001b[0m in \u001b[0;36mcolor_palette\u001b[0;34m(palette, n_colors, desat, as_cmap)\u001b[0m\n\u001b[1;32m    205\u001b[0m                 \u001b[0;31m# Perhaps a named matplotlib colormap?\u001b[0m\u001b[0;34m\u001b[0m\u001b[0;34m\u001b[0m\u001b[0m\n\u001b[0;32m--> 206\u001b[0;31m                 \u001b[0mpalette\u001b[0m \u001b[0;34m=\u001b[0m \u001b[0mmpl_palette\u001b[0m\u001b[0;34m(\u001b[0m\u001b[0mpalette\u001b[0m\u001b[0;34m,\u001b[0m \u001b[0mn_colors\u001b[0m\u001b[0;34m,\u001b[0m \u001b[0mas_cmap\u001b[0m\u001b[0;34m=\u001b[0m\u001b[0mas_cmap\u001b[0m\u001b[0;34m)\u001b[0m\u001b[0;34m\u001b[0m\u001b[0m\n\u001b[0m\u001b[1;32m    207\u001b[0m             \u001b[0;32mexcept\u001b[0m \u001b[0mValueError\u001b[0m\u001b[0;34m:\u001b[0m\u001b[0;34m\u001b[0m\u001b[0m\n",
      "\u001b[0;32m~/.local/lib/python3.6/site-packages/seaborn/palettes.py\u001b[0m in \u001b[0;36mmpl_palette\u001b[0;34m(name, n_colors, as_cmap)\u001b[0m\n\u001b[1;32m    442\u001b[0m     \u001b[0;32melse\u001b[0m\u001b[0;34m:\u001b[0m\u001b[0;34m\u001b[0m\u001b[0m\n\u001b[0;32m--> 443\u001b[0;31m         \u001b[0mcmap\u001b[0m \u001b[0;34m=\u001b[0m \u001b[0mmpl\u001b[0m\u001b[0;34m.\u001b[0m\u001b[0mcm\u001b[0m\u001b[0;34m.\u001b[0m\u001b[0mget_cmap\u001b[0m\u001b[0;34m(\u001b[0m\u001b[0mname\u001b[0m\u001b[0;34m)\u001b[0m\u001b[0;34m\u001b[0m\u001b[0m\n\u001b[0m\u001b[1;32m    444\u001b[0m \u001b[0;34m\u001b[0m\u001b[0m\n",
      "\u001b[0;32m~/.local/lib/python3.6/site-packages/matplotlib/cm.py\u001b[0m in \u001b[0;36mget_cmap\u001b[0;34m(name, lut)\u001b[0m\n\u001b[1;32m    203\u001b[0m         \u001b[0;32mreturn\u001b[0m \u001b[0mname\u001b[0m\u001b[0;34m\u001b[0m\u001b[0m\n\u001b[0;32m--> 204\u001b[0;31m     \u001b[0mcbook\u001b[0m\u001b[0;34m.\u001b[0m\u001b[0m_check_in_list\u001b[0m\u001b[0;34m(\u001b[0m\u001b[0msorted\u001b[0m\u001b[0;34m(\u001b[0m\u001b[0m_cmap_registry\u001b[0m\u001b[0;34m)\u001b[0m\u001b[0;34m,\u001b[0m \u001b[0mname\u001b[0m\u001b[0;34m=\u001b[0m\u001b[0mname\u001b[0m\u001b[0;34m)\u001b[0m\u001b[0;34m\u001b[0m\u001b[0m\n\u001b[0m\u001b[1;32m    205\u001b[0m     \u001b[0;32mif\u001b[0m \u001b[0mlut\u001b[0m \u001b[0;32mis\u001b[0m \u001b[0;32mNone\u001b[0m\u001b[0;34m:\u001b[0m\u001b[0;34m\u001b[0m\u001b[0m\n",
      "\u001b[0;32m~/.local/lib/python3.6/site-packages/matplotlib/cbook/__init__.py\u001b[0m in \u001b[0;36m_check_in_list\u001b[0;34m(_values, **kwargs)\u001b[0m\n\u001b[1;32m   2267\u001b[0m                 \u001b[0;34m\"{!r} is not a valid value for {}; supported values are {}\"\u001b[0m\u001b[0;34m\u001b[0m\u001b[0m\n\u001b[0;32m-> 2268\u001b[0;31m                 .format(v, k, ', '.join(map(repr, values))))\n\u001b[0m\u001b[1;32m   2269\u001b[0m \u001b[0;34m\u001b[0m\u001b[0m\n",
      "\u001b[0;31mValueError\u001b[0m: '#f7fcb9' is not a valid value for name; supported values are 'Accent', 'Accent_r', 'Blues', 'Blues_r', 'BrBG', 'BrBG_r', 'BuGn', 'BuGn_r', 'BuPu', 'BuPu_r', 'CMRmap', 'CMRmap_r', 'Dark2', 'Dark2_r', 'GnBu', 'GnBu_r', 'Greens', 'Greens_r', 'Greys', 'Greys_r', 'OrRd', 'OrRd_r', 'Oranges', 'Oranges_r', 'PRGn', 'PRGn_r', 'Paired', 'Paired_r', 'Pastel1', 'Pastel1_r', 'Pastel2', 'Pastel2_r', 'PiYG', 'PiYG_r', 'PuBu', 'PuBuGn', 'PuBuGn_r', 'PuBu_r', 'PuOr', 'PuOr_r', 'PuRd', 'PuRd_r', 'Purples', 'Purples_r', 'RdBu', 'RdBu_r', 'RdGy', 'RdGy_r', 'RdPu', 'RdPu_r', 'RdYlBu', 'RdYlBu_r', 'RdYlGn', 'RdYlGn_r', 'Reds', 'Reds_r', 'Set1', 'Set1_r', 'Set2', 'Set2_r', 'Set3', 'Set3_r', 'Spectral', 'Spectral_r', 'Wistia', 'Wistia_r', 'YlGn', 'YlGnBu', 'YlGnBu_r', 'YlGn_r', 'YlOrBr', 'YlOrBr_r', 'YlOrRd', 'YlOrRd_r', 'afmhot', 'afmhot_r', 'autumn', 'autumn_r', 'binary', 'binary_r', 'bone', 'bone_r', 'brg', 'brg_r', 'bwr', 'bwr_r', 'cividis', 'cividis_r', 'cool', 'cool_r', 'coolwarm', 'coolwarm_r', 'copper', 'copper_r', 'crest', 'crest_r', 'cubehelix', 'cubehelix_r', 'flag', 'flag_r', 'flare', 'flare_r', 'gist_earth', 'gist_earth_r', 'gist_gray', 'gist_gray_r', 'gist_heat', 'gist_heat_r', 'gist_ncar', 'gist_ncar_r', 'gist_rainbow', 'gist_rainbow_r', 'gist_stern', 'gist_stern_r', 'gist_yarg', 'gist_yarg_r', 'gnuplot', 'gnuplot2', 'gnuplot2_r', 'gnuplot_r', 'gray', 'gray_r', 'hot', 'hot_r', 'hsv', 'hsv_r', 'icefire', 'icefire_r', 'inferno', 'inferno_r', 'jet', 'jet_r', 'magma', 'magma_r', 'mako', 'mako_r', 'nipy_spectral', 'nipy_spectral_r', 'ocean', 'ocean_r', 'pink', 'pink_r', 'plasma', 'plasma_r', 'prism', 'prism_r', 'rainbow', 'rainbow_r', 'rocket', 'rocket_r', 'seismic', 'seismic_r', 'spring', 'spring_r', 'summer', 'summer_r', 'tab10', 'tab10_r', 'tab20', 'tab20_r', 'tab20b', 'tab20b_r', 'tab20c', 'tab20c_r', 'terrain', 'terrain_r', 'turbo', 'turbo_r', 'twilight', 'twilight_r', 'twilight_shifted', 'twilight_shifted_r', 'viridis', 'viridis_r', 'vlag', 'vlag_r', 'winter', 'winter_r'",
      "\nDuring handling of the above exception, another exception occurred:\n",
      "\u001b[0;31mValueError\u001b[0m                                Traceback (most recent call last)",
      "\u001b[0;32m<ipython-input-84-d322b3f278cd>\u001b[0m in \u001b[0;36m<module>\u001b[0;34m\u001b[0m\n\u001b[0;32m----> 1\u001b[0;31m \u001b[0mplot_arch_freq\u001b[0m\u001b[0;34m(\u001b[0m\u001b[0mage_arch_freq\u001b[0m\u001b[0;34m,\u001b[0m \u001b[0mage_freq\u001b[0m\u001b[0;34m)\u001b[0m\u001b[0;34m\u001b[0m\u001b[0m\n\u001b[0m\u001b[1;32m      2\u001b[0m \u001b[0;31m#plot_arch_fc(age_arch_fc, age_fc, GENOME_BUILD, \"all\")\u001b[0m\u001b[0;34m\u001b[0m\u001b[0;34m\u001b[0m\u001b[0m\n",
      "\u001b[0;32m<ipython-input-81-0f8c9252c898>\u001b[0m in \u001b[0;36mplot_arch_freq\u001b[0;34m(age_arch_freq, age_freq)\u001b[0m\n\u001b[1;32m     33\u001b[0m         \u001b[0mhue\u001b[0m \u001b[0;34m=\u001b[0m \u001b[0mhue\u001b[0m\u001b[0;34m,\u001b[0m\u001b[0;34m\u001b[0m\u001b[0m\n\u001b[1;32m     34\u001b[0m         \u001b[0mhue_order\u001b[0m \u001b[0;34m=\u001b[0m \u001b[0morder\u001b[0m\u001b[0;34m,\u001b[0m\u001b[0;34m\u001b[0m\u001b[0m\n\u001b[0;32m---> 35\u001b[0;31m         palette = p)\n\u001b[0m\u001b[1;32m     36\u001b[0m \u001b[0;34m\u001b[0m\u001b[0m\n\u001b[1;32m     37\u001b[0m         \u001b[0max\u001b[0m\u001b[0;34m.\u001b[0m\u001b[0mset_xticklabels\u001b[0m\u001b[0;34m(\u001b[0m\u001b[0mxlabs\u001b[0m\u001b[0;34m,\u001b[0m \u001b[0mrotation\u001b[0m \u001b[0;34m=\u001b[0m \u001b[0;36m90\u001b[0m\u001b[0;34m)\u001b[0m\u001b[0;34m\u001b[0m\u001b[0m\n",
      "\u001b[0;32m~/.local/lib/python3.6/site-packages/seaborn/_decorators.py\u001b[0m in \u001b[0;36minner_f\u001b[0;34m(*args, **kwargs)\u001b[0m\n\u001b[1;32m     44\u001b[0m             )\n\u001b[1;32m     45\u001b[0m         \u001b[0mkwargs\u001b[0m\u001b[0;34m.\u001b[0m\u001b[0mupdate\u001b[0m\u001b[0;34m(\u001b[0m\u001b[0;34m{\u001b[0m\u001b[0mk\u001b[0m\u001b[0;34m:\u001b[0m \u001b[0marg\u001b[0m \u001b[0;32mfor\u001b[0m \u001b[0mk\u001b[0m\u001b[0;34m,\u001b[0m \u001b[0marg\u001b[0m \u001b[0;32min\u001b[0m \u001b[0mzip\u001b[0m\u001b[0;34m(\u001b[0m\u001b[0msig\u001b[0m\u001b[0;34m.\u001b[0m\u001b[0mparameters\u001b[0m\u001b[0;34m,\u001b[0m \u001b[0margs\u001b[0m\u001b[0;34m)\u001b[0m\u001b[0;34m}\u001b[0m\u001b[0;34m)\u001b[0m\u001b[0;34m\u001b[0m\u001b[0m\n\u001b[0;32m---> 46\u001b[0;31m         \u001b[0;32mreturn\u001b[0m \u001b[0mf\u001b[0m\u001b[0;34m(\u001b[0m\u001b[0;34m**\u001b[0m\u001b[0mkwargs\u001b[0m\u001b[0;34m)\u001b[0m\u001b[0;34m\u001b[0m\u001b[0m\n\u001b[0m\u001b[1;32m     47\u001b[0m     \u001b[0;32mreturn\u001b[0m \u001b[0minner_f\u001b[0m\u001b[0;34m\u001b[0m\u001b[0m\n\u001b[1;32m     48\u001b[0m \u001b[0;34m\u001b[0m\u001b[0m\n",
      "\u001b[0;32m~/.local/lib/python3.6/site-packages/seaborn/categorical.py\u001b[0m in \u001b[0;36mbarplot\u001b[0;34m(x, y, hue, data, order, hue_order, estimator, ci, n_boot, units, seed, orient, color, palette, saturation, errcolor, errwidth, capsize, dodge, ax, **kwargs)\u001b[0m\n\u001b[1;32m   3183\u001b[0m                           \u001b[0mestimator\u001b[0m\u001b[0;34m,\u001b[0m \u001b[0mci\u001b[0m\u001b[0;34m,\u001b[0m \u001b[0mn_boot\u001b[0m\u001b[0;34m,\u001b[0m \u001b[0munits\u001b[0m\u001b[0;34m,\u001b[0m \u001b[0mseed\u001b[0m\u001b[0;34m,\u001b[0m\u001b[0;34m\u001b[0m\u001b[0m\n\u001b[1;32m   3184\u001b[0m                           \u001b[0morient\u001b[0m\u001b[0;34m,\u001b[0m \u001b[0mcolor\u001b[0m\u001b[0;34m,\u001b[0m \u001b[0mpalette\u001b[0m\u001b[0;34m,\u001b[0m \u001b[0msaturation\u001b[0m\u001b[0;34m,\u001b[0m\u001b[0;34m\u001b[0m\u001b[0m\n\u001b[0;32m-> 3185\u001b[0;31m                           errcolor, errwidth, capsize, dodge)\n\u001b[0m\u001b[1;32m   3186\u001b[0m \u001b[0;34m\u001b[0m\u001b[0m\n\u001b[1;32m   3187\u001b[0m     \u001b[0;32mif\u001b[0m \u001b[0max\u001b[0m \u001b[0;32mis\u001b[0m \u001b[0;32mNone\u001b[0m\u001b[0;34m:\u001b[0m\u001b[0;34m\u001b[0m\u001b[0m\n",
      "\u001b[0;32m~/.local/lib/python3.6/site-packages/seaborn/categorical.py\u001b[0m in \u001b[0;36m__init__\u001b[0;34m(self, x, y, hue, data, order, hue_order, estimator, ci, n_boot, units, seed, orient, color, palette, saturation, errcolor, errwidth, capsize, dodge)\u001b[0m\n\u001b[1;32m   1584\u001b[0m         self.establish_variables(x, y, hue, data, orient,\n\u001b[1;32m   1585\u001b[0m                                  order, hue_order, units)\n\u001b[0;32m-> 1586\u001b[0;31m         \u001b[0mself\u001b[0m\u001b[0;34m.\u001b[0m\u001b[0mestablish_colors\u001b[0m\u001b[0;34m(\u001b[0m\u001b[0mcolor\u001b[0m\u001b[0;34m,\u001b[0m \u001b[0mpalette\u001b[0m\u001b[0;34m,\u001b[0m \u001b[0msaturation\u001b[0m\u001b[0;34m)\u001b[0m\u001b[0;34m\u001b[0m\u001b[0m\n\u001b[0m\u001b[1;32m   1587\u001b[0m         \u001b[0mself\u001b[0m\u001b[0;34m.\u001b[0m\u001b[0mestimate_statistic\u001b[0m\u001b[0;34m(\u001b[0m\u001b[0mestimator\u001b[0m\u001b[0;34m,\u001b[0m \u001b[0mci\u001b[0m\u001b[0;34m,\u001b[0m \u001b[0mn_boot\u001b[0m\u001b[0;34m,\u001b[0m \u001b[0mseed\u001b[0m\u001b[0;34m)\u001b[0m\u001b[0;34m\u001b[0m\u001b[0m\n\u001b[1;32m   1588\u001b[0m \u001b[0;34m\u001b[0m\u001b[0m\n",
      "\u001b[0;32m~/.local/lib/python3.6/site-packages/seaborn/categorical.py\u001b[0m in \u001b[0;36mestablish_colors\u001b[0;34m(self, color, palette, saturation)\u001b[0m\n\u001b[1;32m    306\u001b[0m                 \u001b[0mpalette\u001b[0m \u001b[0;34m=\u001b[0m \u001b[0;34m[\u001b[0m\u001b[0mpalette\u001b[0m\u001b[0;34m[\u001b[0m\u001b[0ml\u001b[0m\u001b[0;34m]\u001b[0m \u001b[0;32mfor\u001b[0m \u001b[0ml\u001b[0m \u001b[0;32min\u001b[0m \u001b[0mlevels\u001b[0m\u001b[0;34m]\u001b[0m\u001b[0;34m\u001b[0m\u001b[0m\n\u001b[1;32m    307\u001b[0m \u001b[0;34m\u001b[0m\u001b[0m\n\u001b[0;32m--> 308\u001b[0;31m             \u001b[0mcolors\u001b[0m \u001b[0;34m=\u001b[0m \u001b[0mcolor_palette\u001b[0m\u001b[0;34m(\u001b[0m\u001b[0mpalette\u001b[0m\u001b[0;34m,\u001b[0m \u001b[0mn_colors\u001b[0m\u001b[0;34m)\u001b[0m\u001b[0;34m\u001b[0m\u001b[0m\n\u001b[0m\u001b[1;32m    309\u001b[0m \u001b[0;34m\u001b[0m\u001b[0m\n\u001b[1;32m    310\u001b[0m         \u001b[0;31m# Desaturate a bit because these are patches\u001b[0m\u001b[0;34m\u001b[0m\u001b[0;34m\u001b[0m\u001b[0m\n",
      "\u001b[0;32m~/.local/lib/python3.6/site-packages/seaborn/palettes.py\u001b[0m in \u001b[0;36mcolor_palette\u001b[0;34m(palette, n_colors, desat, as_cmap)\u001b[0m\n\u001b[1;32m    206\u001b[0m                 \u001b[0mpalette\u001b[0m \u001b[0;34m=\u001b[0m \u001b[0mmpl_palette\u001b[0m\u001b[0;34m(\u001b[0m\u001b[0mpalette\u001b[0m\u001b[0;34m,\u001b[0m \u001b[0mn_colors\u001b[0m\u001b[0;34m,\u001b[0m \u001b[0mas_cmap\u001b[0m\u001b[0;34m=\u001b[0m\u001b[0mas_cmap\u001b[0m\u001b[0;34m)\u001b[0m\u001b[0;34m\u001b[0m\u001b[0m\n\u001b[1;32m    207\u001b[0m             \u001b[0;32mexcept\u001b[0m \u001b[0mValueError\u001b[0m\u001b[0;34m:\u001b[0m\u001b[0;34m\u001b[0m\u001b[0m\n\u001b[0;32m--> 208\u001b[0;31m                 \u001b[0;32mraise\u001b[0m \u001b[0mValueError\u001b[0m\u001b[0;34m(\u001b[0m\u001b[0;34m\"%s is not a valid palette name\"\u001b[0m \u001b[0;34m%\u001b[0m \u001b[0mpalette\u001b[0m\u001b[0;34m)\u001b[0m\u001b[0;34m\u001b[0m\u001b[0m\n\u001b[0m\u001b[1;32m    209\u001b[0m \u001b[0;34m\u001b[0m\u001b[0m\n\u001b[1;32m    210\u001b[0m     \u001b[0;32mif\u001b[0m \u001b[0mdesat\u001b[0m \u001b[0;32mis\u001b[0m \u001b[0;32mnot\u001b[0m \u001b[0;32mNone\u001b[0m\u001b[0;34m:\u001b[0m\u001b[0;34m\u001b[0m\u001b[0m\n",
      "\u001b[0;31mValueError\u001b[0m: #f7fcb9 is not a valid palette name"
     ]
    },
    {
     "data": {
      "image/png": "[encoded data removed]",
      "text/plain": [
       "<Figure size 432x432 with 1 Axes>"
      ]
     },
     "metadata": {},
     "output_type": "display_data"
    }
   ],
   "source": [
    "#plot_arch_freq(age_arch_freq, age_freq)\n",
    "#plot_arch_fc(age_arch_fc, age_fc, GENOME_BUILD, \"all\")"
   ]
  },
  {
   "cell_type": "markdown",
   "metadata": {},
   "source": [
    "# Figure 2B\n",
    "## Fold change"
   ]
  },
  {
   "cell_type": "markdown",
   "metadata": {},
   "source": [
    "### derived v. shuffle"
   ]
  },
  {
   "cell_type": "code",
   "execution_count": 86,
   "metadata": {
    "code_folding": [
     0
    ]
   },
   "outputs": [
    {
     "name": "stdout",
     "output_type": "stream",
     "text": [
      "hg38 complex_derived\n",
      "dict_keys(['age_arch'])\n"
     ]
    },
    {
     "data": {
      "image/png": "[encoded data removed]",
      "text/plain": [
       "<Figure size 432x432 with 1 Axes>"
      ]
     },
     "metadata": {},
     "output_type": "display_data"
    }
   ],
   "source": [
    "plot_arch_fc(age_arch_fc, age_fc, GENOME_BUILD, \"complex_derived\")"
   ]
  },
  {
   "cell_type": "markdown",
   "metadata": {},
   "source": [
    "### complex core v. shuffle"
   ]
  },
  {
   "cell_type": "code",
   "execution_count": 87,
   "metadata": {
    "code_folding": [
     0
    ]
   },
   "outputs": [
    {
     "name": "stdout",
     "output_type": "stream",
     "text": [
      "hg38 complex_core\n",
      "dict_keys(['age_arch'])\n"
     ]
    },
    {
     "data": {
      "image/png": "[encoded data removed]",
      "text/plain": [
       "<Figure size 432x432 with 1 Axes>"
      ]
     },
     "metadata": {},
     "output_type": "display_data"
    }
   ],
   "source": [
    "plot_arch_fc(age_arch_fc, age_fc,GENOME_BUILD, \"complex_core\")"
   ]
  },
  {
   "cell_type": "markdown",
   "metadata": {},
   "source": [
    "### simple v. simple shuffle"
   ]
  },
  {
   "cell_type": "code",
   "execution_count": 88,
   "metadata": {
    "code_folding": [
     0
    ],
    "scrolled": false
   },
   "outputs": [
    {
     "name": "stdout",
     "output_type": "stream",
     "text": [
      "hg38 simple\n",
      "dict_keys(['age_arch'])\n"
     ]
    },
    {
     "data": {
      "image/png": "[encoded data removed]",
      "text/plain": [
       "<Figure size 432x432 with 1 Axes>"
      ]
     },
     "metadata": {},
     "output_type": "display_data"
    }
   ],
   "source": [
    "plot_arch_fc(age_arch_fc, age_fc, GENOME_BUILD, \"simple\")"
   ]
  },
  {
   "cell_type": "code",
   "execution_count": 72,
   "metadata": {},
   "outputs": [
    {
     "data": {
      "text/plain": [
       "0.125"
      ]
     },
     "execution_count": 72,
     "metadata": {},
     "output_type": "execute_result"
    }
   ],
   "source": [
    "2**(-3)"
   ]
  },
  {
   "cell_type": "code",
   "execution_count": null,
   "metadata": {
    "code_folding": [
     0
    ]
   },
   "outputs": [],
   "source": [
    "der = df.loc[df.core == 0]\n",
    "der_enh = der.loc[der.id == \"cCRE\", \"mrca_2\"]\n",
    "der_shuf = der.loc[der.id == \"SHUFFLE\", \"mrca_2\"]\n",
    "stats.mannwhitneyu(der_enh, der_shuf)\n",
    "der.groupby(\"id\")[\"mrca_2\"].median()"
   ]
  },
  {
   "cell_type": "code",
   "execution_count": null,
   "metadata": {
    "code_folding": [
     0,
     10
    ]
   },
   "outputs": [],
   "source": [
    "\"\"\"\n",
    "id\n",
    "cCRE     0.175\n",
    "SHUFFLE    0.152\n",
    "Name: mrca_2, dtype: float64\n",
    "\"\"\"\n",
    "der.groupby(\"id\")[\"mrca_2\"].mean()\n",
    "\"\"\"\n",
    "id\n",
    "cCRE     0.206010\n",
    "SHUFFLE    0.172115\n",
    "Name: mrca_2, dtype: float64\n",
    "\"\"\""
   ]
  },
  {
   "cell_type": "code",
   "execution_count": null,
   "metadata": {},
   "outputs": [],
   "source": []
  }
 ],
 "metadata": {
  "kernelspec": {
   "display_name": "Python (sfenv)",
   "language": "python",
   "name": "sfenv"
  },
  "language_info": {
   "codemirror_mode": {
    "name": "ipython",
    "version": 3
   },
   "file_extension": ".py",
   "mimetype": "text/x-python",
   "name": "python",
   "nbconvert_exporter": "python",
   "pygments_lexer": "ipython3",
   "version": "3.6.6"
  },
  "toc": {
   "base_numbering": 1,
   "nav_menu": {},
   "number_sections": false,
   "sideBar": true,
   "skip_h1_title": false,
   "title_cell": "Table of Contents",
   "title_sidebar": "Contents",
   "toc_cell": false,
   "toc_position": {},
   "toc_section_display": true,
   "toc_window_display": true
  }
 },
 "nbformat": 4,
 "nbformat_minor": 4
}
