{
 "cells": [
  {
   "cell_type": "code",
   "execution_count": 1,
   "id": "80a8ec24",
   "metadata": {
    "ExecuteTime": {
     "end_time": "2022-05-18T16:15:15.205496Z",
     "start_time": "2022-05-18T16:15:14.136670Z"
    }
   },
   "outputs": [
    {
     "name": "stderr",
     "output_type": "stream",
     "text": [
      "usage: ipykernel_launcher.py [-h] bedfile\n",
      "ipykernel_launcher.py: error: unrecognized arguments: -f\n"
     ]
    },
    {
     "ename": "SystemExit",
     "evalue": "2",
     "output_type": "error",
     "traceback": [
      "An exception has occurred, use %tb to see the full traceback.\n",
      "\u001b[0;31mSystemExit\u001b[0m\u001b[0;31m:\u001b[0m 2\n"
     ]
    },
    {
     "name": "stderr",
     "output_type": "stream",
     "text": [
      "/home/fongsl/.conda/envs/sfenv/lib/python3.6/site-packages/IPython/core/interactiveshell.py:3351: UserWarning: To exit: use 'exit', 'quit', or Ctrl-D.\n",
      "  warn(\"To exit: use 'exit', 'quit', or Ctrl-D.\", stacklevel=1)\n"
     ]
    }
   ],
   "source": [
    "#!/usr/bin/env python\n",
    "# coding: utf-8\n",
    "\n",
    "# Sarahfong\n",
    "\n",
    "\n",
    "# 2019-06-03 - created and run on common variants AF > 0.01\n",
    "\n",
    "##### updates #####\n",
    "\n",
    "# 2019-06-10\n",
    "    # AF calculation was not correct. 0.01<= AF <0.5 is the maf, and 0.5=<AF=<1 is the AF\n",
    "    # SNPs recalculated as maf.\n",
    "    # Instead of intersecting only common variants (AF >= 0.01), intersect all variants.\n",
    "    # maf rounded to 7th decimal\n",
    "\n",
    "\n",
    "# Analyze the genomic shuffle of FANTOM eRNA enhancers for breaks v. actual transcribed enhancers.\n",
    "\n",
    "\n",
    "import glob\n",
    "import pandas as pd\n",
    "import matplotlib.pyplot as plt\n",
    "\n",
    "from matplotlib import gridspec\n",
    "from matplotlib.ticker import MultipleLocator\n",
    "from matplotlib.lines import Line2D\n",
    "import numpy as np\n",
    "import os, sys\n",
    "from scipy import stats\n",
    "import seaborn as sns\n",
    "import subprocess\n",
    "\n",
    "sys.path.append(\"/dors/capra_lab/users/fongsl/tools/py_/\")\n",
    "import config_readwrite as crw\n",
    "import plot_params as pp\n",
    "import split_filename\n",
    "\n",
    "pp.fonts()\n",
    "\n",
    "sys.path.append(\"/dors/capra_lab/users/fongsl/tools/genome/\")\n",
    "import make_windows \n",
    "import match_seq_lengths\n",
    "\n",
    "sys.path.append(\"/dors/capra_lab/users/fongsl/tools/evo/\")\n",
    "import syn_gen_background \n",
    "import linsight\n",
    "\n",
    "colors = [\"faded green\", \"greyish\",  \"amber\", \"dusty purple\", \"windows blue\",]\n",
    "palette = sns.xkcd_palette(colors)\n",
    "sns.palplot(palette)"
   ]
  },
  {
   "cell_type": "code",
   "execution_count": 2,
   "id": "50bf4bfb",
   "metadata": {
    "ExecuteTime": {
     "end_time": "2022-05-18T16:15:20.252112Z",
     "start_time": "2022-05-18T16:15:20.233899Z"
    }
   },
   "outputs": [],
   "source": [
    "name = \"/dors/capra_lab/users/fongsl/enh_ages/core_v_derived/config_landscape\"\n",
    "config, config_filename = crw.read_config(name)\n",
    "\n",
    "WINDOW_SIZE = int(config[\"WINDOWS\"][\"window_size_10\"])\n",
    "RE = config[\"LINSIGHT\"][\"results\"]\n",
    "PY_SCRIPT = config[\"LINSIGHT\"][\"bin\"]\n",
    "\n",
    "COMPLEX = config[\"WINDOWS\"][f\"complex_windows_{WINDOW_SIZE-1}\"] ## file w/ complex bed coords\n",
    "SIMPLE = config[\"WINDOWS\"][f\"simple_windows_{WINDOW_SIZE-1}\"]\n",
    "BREAKS = config[\"FANTOM\"][\"data_file\"]  # original file on fantom enhancers and breaks. \n",
    "\n",
    "COMPLEX_WINDOWS_LINSIGHT = config[\"LINSIGHT\"][f\"complex_windows_{WINDOW_SIZE-1}_x_linsight\"]\n",
    "SIMPLE_WINDOWS_LINSIGHT = config[\"LINSIGHT\"][f\"simple_windows_{WINDOW_SIZE-1}_x_linsight\"]\n",
    "BUILD = \"hg19\""
   ]
  },
  {
   "cell_type": "markdown",
   "id": "b0e9ea88",
   "metadata": {},
   "source": [
    "# functions"
   ]
  },
  {
   "cell_type": "code",
   "execution_count": 3,
   "id": "58d0a6d1",
   "metadata": {
    "ExecuteTime": {
     "end_time": "2022-05-18T16:15:22.004223Z",
     "start_time": "2022-05-18T16:15:21.987965Z"
    }
   },
   "outputs": [],
   "source": [
    "def calculate_mean_windowlinsight(in_df, enh_id_list):\n",
    "\n",
    "    \"\"\"\n",
    "    return dataframe with the \n",
    "    weighted average linsight scores \n",
    "    (sum linsight scores divided by the window size) for all enhancers in enh_id_list\n",
    "    \n",
    "    inputs - \n",
    "        in_df = dataframe w/ enh_id, order_window, window start + end coordinates, linsight scores, n linsight bp overlap\n",
    "\n",
    "    outputs - \n",
    "        df_ = concatenated dataframe from dictionary of weighted average linsight results. \n",
    "    \n",
    "    1. calculate the window length\n",
    "    2. reduce dataframe to only specific columns\n",
    "    3. calculate product of linsight score by number of bp w/ score\n",
    "    4. sum the linsight score product per window\n",
    "    5. divide linsight score sum per window by window length\n",
    "    \n",
    "    \"\"\"\n",
    "    i_dict = {}\n",
    "    \n",
    "    for i in enh_id_list:\n",
    "        df = in_df.loc[in_df[\"enh_id\"]==i]\n",
    "\n",
    "        #1\n",
    "        df[\"win_len\"] = df[\"end_win\"]-df[\"start_win\"]\n",
    "\n",
    "        #2\n",
    "        density_cols = [\"core_remodeling\", \"order_window\",  \"enh_id\",\"mrca\", \"win_len\", \"lin_score\", \"bp_overlap\"]\n",
    "\n",
    "        df = df[density_cols].drop_duplicates()  # reduce to columns\n",
    "        df[density_cols[-3:]] = df[density_cols[-3:]].astype(float) # change datatype of len, linscore, overlap\n",
    "\n",
    "\n",
    "        #3\n",
    "        df[\"lin_x_overlap\"] = df['lin_score']*df[\"bp_overlap\"] # product of linsight scores x number of bases w/ score\n",
    "        #4\n",
    "        df = df.groupby(density_cols[:5])[[\"lin_x_overlap\"]].sum().reset_index()  # sum linsight scores\n",
    "        #5\n",
    "        df[\"mean_lin\"] = df[\"lin_x_overlap\"].divide(df[\"win_len\"])\n",
    "        \n",
    "        i_dict[i]= df\n",
    "    \n",
    "    df_ = pd.concat(i_dict.values())\n",
    "\n",
    "    return df_"
   ]
  },
  {
   "cell_type": "markdown",
   "id": "765a10e9",
   "metadata": {},
   "source": [
    "# Windows x LINSIGHT intersection "
   ]
  },
  {
   "cell_type": "code",
   "execution_count": 4,
   "id": "738dd3dd",
   "metadata": {
    "ExecuteTime": {
     "end_time": "2022-05-18T16:15:22.962518Z",
     "start_time": "2022-05-18T16:15:22.954606Z"
    }
   },
   "outputs": [],
   "source": [
    "fs = [(SIMPLE, SIMPLE_WINDOWS_LINSIGHT),(COMPLEX, COMPLEX_WINDOWS_LINSIGHT)]\n",
    "for f, out, in fs:\n",
    "    cmd = f\"python {PY_SCRIPT} {f}\"\n",
    "    if os.path.exists(out) is False:\n",
    "\n",
    "        print(cmd)\n",
    "        subprocess.call(cmd, shell = True)"
   ]
  },
  {
   "cell_type": "markdown",
   "id": "5941d2b4",
   "metadata": {},
   "source": [
    "## how many shuffled elements are there?"
   ]
  },
  {
   "cell_type": "code",
   "execution_count": 5,
   "id": "7d2edab5",
   "metadata": {
    "ExecuteTime": {
     "end_time": "2022-05-18T16:15:31.284851Z",
     "start_time": "2022-05-18T16:15:23.944584Z"
    }
   },
   "outputs": [
    {
     "name": "stdout",
     "output_type": "stream",
     "text": [
      "Process is interrupted.\n"
     ]
    }
   ],
   "source": [
    "%%bash\n",
    "cut -f 4,9 /dors/capra_lab/projects/enhancer_ages/fantom/data/non-genic/shuffle_syn_breaks/no-exon_shuf-all_fantom_enh_112_tissues-*_age_breaks.bed | sort | uniq  | cut -f 2 | sort | uniq -c"
   ]
  },
  {
   "cell_type": "markdown",
   "id": "336a172f",
   "metadata": {},
   "source": [
    "There are 2657773 shuffled FANTOM enhancers. \n",
    "\n",
    "    cut -f 4 /dors/capra_lab/projects/enhancer_ages/fantom/data/non-genic/shuffle_syn_breaks/no-exon_shuf-all_fantom_enh_112_tissues-*_age_breaks.bed | sort | uniq | wc -l\n",
    "    \n",
    "\n",
    "shuffled complex N = 1129917 (42.5% of shuffled dataset)\n",
    "\n",
    "\n",
    "     cut -f 4,9 /dors/capra_lab/projects/enhancer_ages/fantom/data/non-genic/shuffle_syn_breaks/no-exon_shuf-all_fantom_enh_112_tissues-*_age_breaks.bed | sort | uniq  | cut -f 2 | sort | uniq -c"
   ]
  },
  {
   "cell_type": "markdown",
   "id": "46af2f0f",
   "metadata": {},
   "source": [
    "# get simple and 3+ complex enhancers "
   ]
  },
  {
   "cell_type": "code",
   "execution_count": 6,
   "id": "035b9b89",
   "metadata": {
    "ExecuteTime": {
     "end_time": "2022-05-18T16:15:35.317592Z",
     "start_time": "2022-05-18T16:15:35.212241Z"
    }
   },
   "outputs": [],
   "source": [
    "cols =[\"chr_syn\", \"start_syn\", \"end_syn\", \"enh_id\", \n",
    "                      \"chr_enh\", \"start_enh\", \"end_enh\",\n",
    "                      \"seg_index\", \"core_remodeling\", \"core\",\"mrca\",]\n",
    "\n",
    "breaks = pd.read_csv(BREAKS, sep = '\\t', header = None, names = cols)"
   ]
  },
  {
   "cell_type": "markdown",
   "id": "b4be01c3",
   "metadata": {
    "ExecuteTime": {
     "end_time": "2022-05-16T17:44:01.062996Z",
     "start_time": "2022-05-16T17:44:00.934918Z"
    }
   },
   "source": [
    "## calculate enhancer length"
   ]
  },
  {
   "cell_type": "code",
   "execution_count": 7,
   "id": "d6e90826",
   "metadata": {
    "ExecuteTime": {
     "end_time": "2022-05-18T16:15:36.913889Z",
     "start_time": "2022-05-18T16:15:36.893575Z"
    }
   },
   "outputs": [],
   "source": [
    "breaks[\"enh_len\"] = breaks['end_enh']-breaks[\"start_enh\"]"
   ]
  },
  {
   "cell_type": "markdown",
   "id": "983e1683",
   "metadata": {
    "ExecuteTime": {
     "end_time": "2022-05-16T17:44:01.062996Z",
     "start_time": "2022-05-16T17:44:00.934918Z"
    }
   },
   "source": [
    "## retrieve enh_ids"
   ]
  },
  {
   "cell_type": "code",
   "execution_count": 8,
   "id": "1c8eaf42",
   "metadata": {
    "ExecuteTime": {
     "end_time": "2022-05-18T16:15:37.647309Z",
     "start_time": "2022-05-18T16:15:37.617764Z"
    }
   },
   "outputs": [
    {
     "name": "stdout",
     "output_type": "stream",
     "text": [
      "1334 19767\n"
     ]
    }
   ],
   "source": [
    "threeplus = set(breaks.loc[breaks['seg_index']>2, \"enh_id\"]) \n",
    "simple = set(breaks.loc[breaks['core_remodeling']==0, \"enh_id\"])\n",
    "print(len(threeplus), len(simple))"
   ]
  },
  {
   "cell_type": "markdown",
   "id": "9ebfc982",
   "metadata": {
    "ExecuteTime": {
     "end_time": "2022-05-16T17:44:01.062996Z",
     "start_time": "2022-05-16T17:44:00.934918Z"
    }
   },
   "source": [
    "## get dfs for simple and threeplus complex, # specify columns for length matching"
   ]
  },
  {
   "cell_type": "code",
   "execution_count": 9,
   "id": "e2e2c9b5",
   "metadata": {
    "ExecuteTime": {
     "end_time": "2022-05-18T16:15:38.259053Z",
     "start_time": "2022-05-18T16:15:38.208878Z"
    }
   },
   "outputs": [],
   "source": [
    "match_cols = [\"enh_id\", \"enh_len\"]\n",
    "simple_df = breaks.loc[breaks['enh_id'].isin(simple), match_cols].drop_duplicates()\n",
    "threeplus_df = breaks.loc[breaks['enh_id'].isin(threeplus), match_cols].drop_duplicates()"
   ]
  },
  {
   "cell_type": "markdown",
   "id": "7f9c3035",
   "metadata": {},
   "source": [
    "## match simple, complex (3+ segments) on length (rounded to 10 bp)"
   ]
  },
  {
   "cell_type": "code",
   "execution_count": 10,
   "id": "977363d1",
   "metadata": {
    "ExecuteTime": {
     "end_time": "2022-05-18T16:15:39.240258Z",
     "start_time": "2022-05-18T16:15:38.806444Z"
    }
   },
   "outputs": [
    {
     "name": "stdout",
     "output_type": "stream",
     "text": [
      "['enh_id', 'enh_len']\n",
      "1104 2096\n"
     ]
    }
   ],
   "source": [
    "matched_three_ids, matched_simple_ids = match_seq_lengths.match_len(threeplus_df, simple_df, 10, match_cols)\n",
    "\n",
    "print(len(set(matched_three_ids)), len(set(matched_simple_ids)))"
   ]
  },
  {
   "cell_type": "markdown",
   "id": "a5e2a6ff",
   "metadata": {},
   "source": [
    "# evaluate edge v. center effects of complex and simple windows. "
   ]
  },
  {
   "cell_type": "code",
   "execution_count": 11,
   "id": "fedc31ad",
   "metadata": {
    "ExecuteTime": {
     "end_time": "2022-05-18T16:15:41.942158Z",
     "start_time": "2022-05-18T16:15:39.502469Z"
    }
   },
   "outputs": [
    {
     "name": "stderr",
     "output_type": "stream",
     "text": [
      "/home/fongsl/.conda/envs/sfenv/lib/python3.6/site-packages/IPython/core/interactiveshell.py:3072: DtypeWarning: Columns (12) have mixed types.Specify dtype option on import or set low_memory=False.\n",
      "  interactivity=interactivity, compiler=compiler, result=result)\n"
     ]
    }
   ],
   "source": [
    "cols = ['chr_win', 'start_win', \"end_win\", \"order_window\", \n",
    "        \"chr_enh\", \"start_enh\", \"end_enh\", \"mrca\", \"enh_id\", \n",
    "        \"chr_lin\", \"start_lin\", \"end_lin\", \"lin_score\", \"bp_overlap\"\n",
    "       ]\n",
    "\n",
    "simple = pd.read_csv(SIMPLE_WINDOWS_LINSIGHT, sep = '\\t', header = None, names = cols)\n",
    "complex_ = pd.read_csv(COMPLEX_WINDOWS_LINSIGHT, sep = '\\t', header = None, names = cols)"
   ]
  },
  {
   "cell_type": "markdown",
   "id": "2e191e36",
   "metadata": {
    "ExecuteTime": {
     "end_time": "2022-05-16T17:51:54.771524Z",
     "start_time": "2022-05-16T17:51:54.766578Z"
    }
   },
   "source": [
    "## distinguish between simple and complex"
   ]
  },
  {
   "cell_type": "code",
   "execution_count": 12,
   "id": "4eb4dfc7",
   "metadata": {
    "ExecuteTime": {
     "end_time": "2022-05-18T16:15:41.954495Z",
     "start_time": "2022-05-18T16:15:41.944743Z"
    }
   },
   "outputs": [],
   "source": [
    "simple[\"core_remodeling\"], complex_[\"core_remodeling\"] = 0, 1"
   ]
  },
  {
   "cell_type": "markdown",
   "id": "3d00bda5",
   "metadata": {},
   "source": [
    "## subset dataframe into matched enhancers "
   ]
  },
  {
   "cell_type": "code",
   "execution_count": 13,
   "id": "0d847bf8",
   "metadata": {
    "ExecuteTime": {
     "end_time": "2022-05-18T16:15:42.203051Z",
     "start_time": "2022-05-18T16:15:41.956804Z"
    }
   },
   "outputs": [
    {
     "name": "stdout",
     "output_type": "stream",
     "text": [
      "2065 1104\n"
     ]
    }
   ],
   "source": [
    "# subset simple_df by length matched enhancers\n",
    "simple_df_matched = simple.loc[simple['enh_id'].isin(matched_simple_ids)]\n",
    "\n",
    "# subset threeplus df by length matched enhancers\n",
    "threeplus_df_matched = complex_.loc[complex_['enh_id'].isin(matched_three_ids)]\n",
    "\n",
    "print(len(simple_df_matched[\"enh_id\"].unique()), len(threeplus_df_matched[\"enh_id\"].unique()))"
   ]
  },
  {
   "cell_type": "code",
   "execution_count": null,
   "id": "b2d6b1ef",
   "metadata": {},
   "outputs": [],
   "source": [
    "import inspect as i\n",
    "import sys\n",
    "sys.stdout.write(i.getsource(calculate_mean_windowlinsight))"
   ]
  },
  {
   "cell_type": "markdown",
   "id": "f15b71c0",
   "metadata": {},
   "source": [
    "## calculate weighted average linsight score "
   ]
  },
  {
   "cell_type": "code",
   "execution_count": 14,
   "id": "cc1ed863",
   "metadata": {
    "ExecuteTime": {
     "end_time": "2022-05-18T16:17:44.303073Z",
     "start_time": "2022-05-18T16:15:48.854031Z"
    }
   },
   "outputs": [
    {
     "name": "stderr",
     "output_type": "stream",
     "text": [
      "/home/fongsl/.conda/envs/sfenv/lib/python3.6/site-packages/ipykernel_launcher.py:27: SettingWithCopyWarning: \n",
      "A value is trying to be set on a copy of a slice from a DataFrame.\n",
      "Try using .loc[row_indexer,col_indexer] = value instead\n",
      "\n",
      "See the caveats in the documentation: https://pandas.pydata.org/pandas-docs/stable/user_guide/indexing.html#returning-a-view-versus-a-copy\n"
     ]
    }
   ],
   "source": [
    "simple_weighted = calculate_mean_windowlinsight(simple_df_matched, matched_simple_ids)\n",
    "\n",
    "complex_weighted = calculate_mean_windowlinsight(threeplus_df_matched, matched_three_ids)"
   ]
  },
  {
   "cell_type": "code",
   "execution_count": 15,
   "id": "e3081b3a",
   "metadata": {
    "ExecuteTime": {
     "end_time": "2022-05-18T16:17:44.403318Z",
     "start_time": "2022-05-18T16:17:44.306505Z"
    }
   },
   "outputs": [],
   "source": [
    "simple_weighted = pd.merge(simple_weighted, breaks.groupby(\"enh_id\")[\"mrca\"].max().reset_index(), how = \"left\")\n",
    "complex_weighted = pd.merge(complex_weighted, breaks.groupby(\"enh_id\")[\"mrca\"].max().reset_index(), how = \"left\")"
   ]
  },
  {
   "cell_type": "markdown",
   "id": "62721bd6",
   "metadata": {},
   "source": [
    "## remove the last bin (not same window size) as other bins"
   ]
  },
  {
   "cell_type": "code",
   "execution_count": 16,
   "id": "f3f85e03",
   "metadata": {
    "ExecuteTime": {
     "end_time": "2022-05-18T16:17:44.417130Z",
     "start_time": "2022-05-18T16:17:44.405893Z"
    }
   },
   "outputs": [],
   "source": [
    "simple_weighted = simple_weighted.loc[simple_weighted[\"order_window\"]!=11].reset_index()\n",
    "complex_weighted = complex_weighted.loc[complex_weighted[\"order_window\"]!=11].reset_index()"
   ]
  },
  {
   "cell_type": "code",
   "execution_count": 17,
   "id": "d631daed",
   "metadata": {
    "ExecuteTime": {
     "end_time": "2022-05-18T16:17:44.440809Z",
     "start_time": "2022-05-18T16:17:44.419468Z"
    }
   },
   "outputs": [
    {
     "data": {
      "text/html": [
       "<div>\n",
       "<style scoped>\n",
       "    .dataframe tbody tr th:only-of-type {\n",
       "        vertical-align: middle;\n",
       "    }\n",
       "\n",
       "    .dataframe tbody tr th {\n",
       "        vertical-align: top;\n",
       "    }\n",
       "\n",
       "    .dataframe thead th {\n",
       "        text-align: right;\n",
       "    }\n",
       "</style>\n",
       "<table border=\"1\" class=\"dataframe\">\n",
       "  <thead>\n",
       "    <tr style=\"text-align: right;\">\n",
       "      <th></th>\n",
       "      <th>index</th>\n",
       "      <th>core_remodeling</th>\n",
       "      <th>order_window</th>\n",
       "      <th>enh_id</th>\n",
       "      <th>mrca</th>\n",
       "      <th>win_len</th>\n",
       "      <th>lin_x_overlap</th>\n",
       "      <th>mean_lin</th>\n",
       "    </tr>\n",
       "  </thead>\n",
       "  <tbody>\n",
       "    <tr>\n",
       "      <th>0</th>\n",
       "      <td>0</td>\n",
       "      <td>1</td>\n",
       "      <td>1</td>\n",
       "      <td>chr10:6389510-6390540</td>\n",
       "      <td>0.38</td>\n",
       "      <td>94.0</td>\n",
       "      <td>9.751226</td>\n",
       "      <td>0.103736</td>\n",
       "    </tr>\n",
       "    <tr>\n",
       "      <th>1</th>\n",
       "      <td>1</td>\n",
       "      <td>1</td>\n",
       "      <td>2</td>\n",
       "      <td>chr10:6389510-6390540</td>\n",
       "      <td>0.38</td>\n",
       "      <td>94.0</td>\n",
       "      <td>6.995640</td>\n",
       "      <td>0.074422</td>\n",
       "    </tr>\n",
       "    <tr>\n",
       "      <th>2</th>\n",
       "      <td>2</td>\n",
       "      <td>1</td>\n",
       "      <td>3</td>\n",
       "      <td>chr10:6389510-6390540</td>\n",
       "      <td>0.38</td>\n",
       "      <td>94.0</td>\n",
       "      <td>6.998770</td>\n",
       "      <td>0.074455</td>\n",
       "    </tr>\n",
       "    <tr>\n",
       "      <th>3</th>\n",
       "      <td>3</td>\n",
       "      <td>1</td>\n",
       "      <td>4</td>\n",
       "      <td>chr10:6389510-6390540</td>\n",
       "      <td>0.38</td>\n",
       "      <td>94.0</td>\n",
       "      <td>6.432513</td>\n",
       "      <td>0.068431</td>\n",
       "    </tr>\n",
       "    <tr>\n",
       "      <th>4</th>\n",
       "      <td>4</td>\n",
       "      <td>1</td>\n",
       "      <td>5</td>\n",
       "      <td>chr10:6389510-6390540</td>\n",
       "      <td>0.38</td>\n",
       "      <td>94.0</td>\n",
       "      <td>6.094921</td>\n",
       "      <td>0.064840</td>\n",
       "    </tr>\n",
       "  </tbody>\n",
       "</table>\n",
       "</div>"
      ],
      "text/plain": [
       "   index  core_remodeling  order_window                 enh_id  mrca  win_len  \\\n",
       "0      0                1             1  chr10:6389510-6390540  0.38     94.0   \n",
       "1      1                1             2  chr10:6389510-6390540  0.38     94.0   \n",
       "2      2                1             3  chr10:6389510-6390540  0.38     94.0   \n",
       "3      3                1             4  chr10:6389510-6390540  0.38     94.0   \n",
       "4      4                1             5  chr10:6389510-6390540  0.38     94.0   \n",
       "\n",
       "   lin_x_overlap  mean_lin  \n",
       "0       9.751226  0.103736  \n",
       "1       6.995640  0.074422  \n",
       "2       6.998770  0.074455  \n",
       "3       6.432513  0.068431  \n",
       "4       6.094921  0.064840  "
      ]
     },
     "execution_count": 17,
     "metadata": {},
     "output_type": "execute_result"
    }
   ],
   "source": [
    "complex_weighted.head()"
   ]
  },
  {
   "cell_type": "markdown",
   "id": "88af8233",
   "metadata": {},
   "source": [
    "## combine simple and complex weighted LINSIGHT scores"
   ]
  },
  {
   "cell_type": "code",
   "execution_count": 18,
   "id": "956db1ad",
   "metadata": {
    "ExecuteTime": {
     "end_time": "2022-05-18T16:17:44.452423Z",
     "start_time": "2022-05-18T16:17:44.443094Z"
    }
   },
   "outputs": [],
   "source": [
    "weighted = pd.concat([simple_weighted, complex_weighted])\n",
    "weighted[\"mrca\"] = weighted[\"mrca\"].round(3)"
   ]
  },
  {
   "cell_type": "markdown",
   "id": "53ff1eea",
   "metadata": {},
   "source": [
    "## add taxon information"
   ]
  },
  {
   "cell_type": "code",
   "execution_count": 19,
   "id": "6f6c457b",
   "metadata": {
    "ExecuteTime": {
     "end_time": "2022-05-18T16:17:44.490925Z",
     "start_time": "2022-05-18T16:17:44.454685Z"
    }
   },
   "outputs": [
    {
     "data": {
      "text/html": [
       "<div>\n",
       "<style scoped>\n",
       "    .dataframe tbody tr th:only-of-type {\n",
       "        vertical-align: middle;\n",
       "    }\n",
       "\n",
       "    .dataframe tbody tr th {\n",
       "        vertical-align: top;\n",
       "    }\n",
       "\n",
       "    .dataframe thead th {\n",
       "        text-align: right;\n",
       "    }\n",
       "</style>\n",
       "<table border=\"1\" class=\"dataframe\">\n",
       "  <thead>\n",
       "    <tr style=\"text-align: right;\">\n",
       "      <th></th>\n",
       "      <th>index</th>\n",
       "      <th>core_remodeling</th>\n",
       "      <th>order_window</th>\n",
       "      <th>enh_id</th>\n",
       "      <th>mrca</th>\n",
       "      <th>win_len</th>\n",
       "      <th>lin_x_overlap</th>\n",
       "      <th>mean_lin</th>\n",
       "      <th>taxon</th>\n",
       "      <th>mrca_2</th>\n",
       "      <th>taxon2</th>\n",
       "    </tr>\n",
       "  </thead>\n",
       "  <tbody>\n",
       "    <tr>\n",
       "      <th>0</th>\n",
       "      <td>0</td>\n",
       "      <td>0</td>\n",
       "      <td>1</td>\n",
       "      <td>chr12:129301742-129302776</td>\n",
       "      <td>0.175</td>\n",
       "      <td>94.0</td>\n",
       "      <td>7.086833</td>\n",
       "      <td>0.075392</td>\n",
       "      <td>Eutheria</td>\n",
       "      <td>0.175</td>\n",
       "      <td>Eutheria (105)</td>\n",
       "    </tr>\n",
       "    <tr>\n",
       "      <th>1</th>\n",
       "      <td>1</td>\n",
       "      <td>0</td>\n",
       "      <td>2</td>\n",
       "      <td>chr12:129301742-129302776</td>\n",
       "      <td>0.175</td>\n",
       "      <td>94.0</td>\n",
       "      <td>7.376720</td>\n",
       "      <td>0.078476</td>\n",
       "      <td>Eutheria</td>\n",
       "      <td>0.175</td>\n",
       "      <td>Eutheria (105)</td>\n",
       "    </tr>\n",
       "    <tr>\n",
       "      <th>2</th>\n",
       "      <td>2</td>\n",
       "      <td>0</td>\n",
       "      <td>3</td>\n",
       "      <td>chr12:129301742-129302776</td>\n",
       "      <td>0.175</td>\n",
       "      <td>94.0</td>\n",
       "      <td>7.613051</td>\n",
       "      <td>0.080990</td>\n",
       "      <td>Eutheria</td>\n",
       "      <td>0.175</td>\n",
       "      <td>Eutheria (105)</td>\n",
       "    </tr>\n",
       "    <tr>\n",
       "      <th>3</th>\n",
       "      <td>3</td>\n",
       "      <td>0</td>\n",
       "      <td>4</td>\n",
       "      <td>chr12:129301742-129302776</td>\n",
       "      <td>0.175</td>\n",
       "      <td>94.0</td>\n",
       "      <td>6.971068</td>\n",
       "      <td>0.074160</td>\n",
       "      <td>Eutheria</td>\n",
       "      <td>0.175</td>\n",
       "      <td>Eutheria (105)</td>\n",
       "    </tr>\n",
       "    <tr>\n",
       "      <th>4</th>\n",
       "      <td>4</td>\n",
       "      <td>0</td>\n",
       "      <td>5</td>\n",
       "      <td>chr12:129301742-129302776</td>\n",
       "      <td>0.175</td>\n",
       "      <td>94.0</td>\n",
       "      <td>7.461268</td>\n",
       "      <td>0.079375</td>\n",
       "      <td>Eutheria</td>\n",
       "      <td>0.175</td>\n",
       "      <td>Eutheria (105)</td>\n",
       "    </tr>\n",
       "  </tbody>\n",
       "</table>\n",
       "</div>"
      ],
      "text/plain": [
       "   index  core_remodeling  order_window                     enh_id   mrca  \\\n",
       "0      0                0             1  chr12:129301742-129302776  0.175   \n",
       "1      1                0             2  chr12:129301742-129302776  0.175   \n",
       "2      2                0             3  chr12:129301742-129302776  0.175   \n",
       "3      3                0             4  chr12:129301742-129302776  0.175   \n",
       "4      4                0             5  chr12:129301742-129302776  0.175   \n",
       "\n",
       "   win_len  lin_x_overlap  mean_lin     taxon  mrca_2          taxon2  \n",
       "0     94.0       7.086833  0.075392  Eutheria   0.175  Eutheria (105)  \n",
       "1     94.0       7.376720  0.078476  Eutheria   0.175  Eutheria (105)  \n",
       "2     94.0       7.613051  0.080990  Eutheria   0.175  Eutheria (105)  \n",
       "3     94.0       6.971068  0.074160  Eutheria   0.175  Eutheria (105)  \n",
       "4     94.0       7.461268  0.079375  Eutheria   0.175  Eutheria (105)  "
      ]
     },
     "execution_count": 19,
     "metadata": {},
     "output_type": "execute_result"
    }
   ],
   "source": [
    "weighted = pd.merge(weighted, syn_gen_background.load_syn_gen_bkgd(\"hg19\"), how = \"left\")\n",
    "\n",
    "weighted.head()"
   ]
  },
  {
   "cell_type": "code",
   "execution_count": 34,
   "id": "3cdb839d",
   "metadata": {
    "ExecuteTime": {
     "end_time": "2022-05-18T16:30:07.620000Z",
     "start_time": "2022-05-18T16:30:04.704547Z"
    }
   },
   "outputs": [
    {
     "data": {
      "image/png": "[encoded data removed]",
      "text/plain": [
       "<Figure size 432x432 with 1 Axes>"
      ]
     },
     "metadata": {
      "needs_background": "light"
     },
     "output_type": "display_data"
    }
   ],
   "source": [
    "x = \"order_window\"\n",
    "y = \"mean_lin\"\n",
    "data=weighted\n",
    "hue = \"core_remodeling\"\n",
    "fig, ax = plt.subplots(figsize = (6,6))\n",
    "sns.lineplot(x=x, y=y, data=data, hue=hue, ax=ax, estimator = np.median,\n",
    "            #join = False\n",
    "           )\n",
    "ax.set(\n",
    "       xlabel = \"relative bin order\", ylabel = \"LINSIGHT weighted average per bin\",\n",
    "    ylim = (0.07, 0.1)\n",
    "        )\n",
    "simplen, complexn = data[[\"core_remodeling\", 'enh_id']].drop_duplicates().groupby(\"core_remodeling\")[\"enh_id\"].count().reset_index()[\"enh_id\"]\n",
    "ax.legend([f\"simple n={simplen}\", f\"complex n={complexn}\"], loc = \"lower right\")\n",
    "#ax.axvline((int(WINDOW_SIZE)/2), ls=\"--\")\n",
    "ax.axvline(4, ls=\"--\")\n",
    "ax.axvline(7, ls=\"--\")\n",
    "#ax.axhline(bin_counts_matched[y].mean(), ls=\"--\")\n",
    "#ax.axhline(simple_df_matched[y].mean(), ls = \"--\" ,color =\"blue\")\n",
    "#ax.axhline(threeplus_df_matched[y].mean(), ls = \"--\" ,color =\"orange\")\n",
    "\n",
    "\n",
    "out = os.path.join(RE, \"LINSIGHT_edge_effects.pdf\")\n",
    "plt.savefig(out, bbox_inches = 'tight')\n"
   ]
  },
  {
   "cell_type": "code",
   "execution_count": 36,
   "id": "cc6a91ee",
   "metadata": {
    "ExecuteTime": {
     "end_time": "2022-05-18T16:33:14.623294Z",
     "start_time": "2022-05-18T16:33:14.595267Z"
    }
   },
   "outputs": [
    {
     "data": {
      "text/plain": [
       "count    3171.000000\n",
       "mean       41.674866\n",
       "std        16.738966\n",
       "min         7.000000\n",
       "25%        31.000000\n",
       "50%        37.000000\n",
       "75%        49.000000\n",
       "max       132.000000\n",
       "Name: win_len, dtype: float64"
      ]
     },
     "execution_count": 36,
     "metadata": {},
     "output_type": "execute_result"
    }
   ],
   "source": [
    "weighted[[\"enh_id\", \"win_len\"]].drop_duplicates().win_len.describe()"
   ]
  },
  {
   "cell_type": "code",
   "execution_count": 26,
   "id": "bee699c2",
   "metadata": {
    "ExecuteTime": {
     "end_time": "2022-05-18T16:26:04.303088Z",
     "start_time": "2022-05-18T16:26:04.272887Z"
    }
   },
   "outputs": [],
   "source": [
    "simple_age = data.loc[(data[\"core_remodeling\"]==0)]\n",
    "complex_age = data.loc[(data[\"core_remodeling\"]==1)]\n",
    "\n",
    "# compare outer v. inner simple\n",
    "#print(\"\\nsimple outer v. inner\")\n",
    "simple_stats = outer_v_inner_ages(simple_age)\n",
    "#print(\"\\ncomplex outer v. inner\")\n",
    "\n",
    "# compare outer v. inner complex\n",
    "complex_stats = outer_v_inner_ages(complex_age)"
   ]
  },
  {
   "cell_type": "code",
   "execution_count": 27,
   "id": "b2098b89",
   "metadata": {
    "ExecuteTime": {
     "end_time": "2022-05-18T16:26:08.332197Z",
     "start_time": "2022-05-18T16:26:08.323931Z"
    }
   },
   "outputs": [
    {
     "data": {
      "text/plain": [
       "[-10.40556261875258, 2.8106622635478134e-25, 0.081, 0.088, 0.101, 0.114]"
      ]
     },
     "execution_count": 27,
     "metadata": {},
     "output_type": "execute_result"
    }
   ],
   "source": [
    "simple_stats"
   ]
  },
  {
   "cell_type": "markdown",
   "id": "def09113",
   "metadata": {
    "ExecuteTime": {
     "end_time": "2022-05-16T20:42:52.159309Z",
     "start_time": "2022-05-16T20:42:52.149140Z"
    }
   },
   "source": [
    "## functions for comparing inner and outer LINSIGHT scores"
   ]
  },
  {
   "cell_type": "code",
   "execution_count": 24,
   "id": "4ae44eb1",
   "metadata": {
    "ExecuteTime": {
     "end_time": "2022-05-18T16:26:00.192215Z",
     "start_time": "2022-05-18T16:26:00.179312Z"
    }
   },
   "outputs": [],
   "source": [
    "def outer_v_inner_ages(df):\n",
    "    outer_bins = [1,2,3,8,9,10]\n",
    "    inner_bins = [4,5,6,7]\n",
    "    \n",
    "    outer = df.loc[df[\"order_window\"].isin(outer_bins), \"mean_lin\"]\n",
    "    inner = df.loc[df[\"order_window\"].isin(inner_bins), \"mean_lin\"]\n",
    "    \n",
    "    stat_t, p =stats.ttest_ind(outer, inner, equal_var = False)\n",
    "    \n",
    "    outer_med, inner_med = round(np.median(outer), 3), round(np.median(inner),3)\n",
    "    outer_std, inner_std = round(np.std(outer), 3), round(np.std(inner),3)\n",
    "    \n",
    "    return [stat_t, p, outer_med, inner_med, outer_std, inner_std]"
   ]
  },
  {
   "cell_type": "markdown",
   "id": "aa437f18",
   "metadata": {},
   "source": [
    "## function for comparing inner linsight scores between simple and complex. "
   ]
  },
  {
   "cell_type": "code",
   "execution_count": 25,
   "id": "e25af393",
   "metadata": {
    "ExecuteTime": {
     "end_time": "2022-05-18T16:26:02.259495Z",
     "start_time": "2022-05-18T16:26:02.246645Z"
    }
   },
   "outputs": [],
   "source": [
    "def arch_v_inner_ages(df1, df2):\n",
    "    outer_bins = [1,2,3,8,9,10]\n",
    "    inner_bins = [4,5,6,7]\n",
    "    \n",
    "    df1_inner = df1.loc[df1[\"order_window\"].isin(inner_bins), \"mean_lin\"]\n",
    "    df2_inner = df2.loc[df2[\"order_window\"].isin(inner_bins), \"mean_lin\"]\n",
    "\n",
    "    stat_t, p = stats.ttest_ind(df1_inner, df2_inner, equal_var = False)\n",
    "    \n",
    "    med1, med2 = round(np.median(df1_inner), 3), round(np.median(df2_inner),3)\n",
    "    std1, std2 = round(np.std(df1_inner), 3), round(np.std(df2_inner),3)\n",
    "    \n",
    "    return [stat_t, p,  med1, med2, std1, std2]"
   ]
  },
  {
   "cell_type": "markdown",
   "id": "2b43f162",
   "metadata": {},
   "source": [
    "# plot age-stratified simple and complex enhancers"
   ]
  },
  {
   "cell_type": "code",
   "execution_count": null,
   "id": "2541c056",
   "metadata": {
    "scrolled": false
   },
   "outputs": [],
   "source": [
    "ages = [0.957, 0.656, 0.49 , 0.38 ,0.308, 0.175, 0.152, 0.131]#,0.126, 0.0]\n",
    "results = {}\n",
    "\n",
    "\n",
    "fig, ax_ = plt.subplots(ncols = 4, nrows = 2, figsize = (32,16))\n",
    "row = 0\n",
    "\n",
    "for i, mrca in enumerate(ages):\n",
    "    if i<4:\n",
    "        ax = ax_[row][i]\n",
    "    elif i%4 ==0:\n",
    "        row = 1\n",
    "        ax = ax_[row][i-4]\n",
    "    else:\n",
    "        ax = ax_[row][i-4]\n",
    "    #print(\"\\n\\n\", mrca)\n",
    "    if mrca !=0:\n",
    "        x = \"order_window\"\n",
    "        y = \"mean_lin\"\n",
    "        hue = \"core_remodeling\"\n",
    "        data = weighted.loc[weighted[\"mrca\"]==mrca].reset_index()\n",
    "        title = data[\"taxon2\"].iloc[0]\n",
    "        \n",
    "        sns.lineplot(x=x,y=y,data=data, hue=hue, ax=ax, estimator=np.median)\n",
    "\n",
    "        \n",
    "        simplen, complexn = data[[\"core_remodeling\", 'enh_id']].drop_duplicates().groupby(\"core_remodeling\")[\"enh_id\"].count().reset_index()[\"enh_id\"]\n",
    "        ax.legend([f\"simple n={simplen}\", f\"complex n={complexn}\"], loc = \"upper right\")\n",
    "        ax.set(xlabel=f\"bin order\",\n",
    "              ylabel = \"LINSIGHT (weighted average per bin)\",\n",
    "               ylim =(0.05, 0.5), \n",
    "              title = title)\n",
    "        ax.axvline(4, ls = \"--\")\n",
    "        ax.axvline(7, ls = \"--\")\n",
    "   \n",
    "    simple_age = data.loc[(data[\"core_remodeling\"]==0)]\n",
    "    complex_age = data.loc[(data[\"core_remodeling\"]==1)]\n",
    "    \n",
    "    # compare outer v. inner simple\n",
    "    #print(\"\\nsimple outer v. inner\")\n",
    "    simple_stats = outer_v_inner_ages(simple_age)\n",
    "    #print(\"\\ncomplex outer v. inner\")\n",
    "    \n",
    "    # compare outer v. inner complex\n",
    "    complex_stats = outer_v_inner_ages(complex_age)\n",
    "    #print(\"\\nsimple v complex inners\")\n",
    "    \n",
    "    newdf = pd.DataFrame({\n",
    "        \"mrca_2\":[mrca, mrca], \n",
    "        \"taxon2\":[title, title], \n",
    "        \"arch\":[\"simple\", \"complex\"], \n",
    "        \"Welch's stats\":[simple_stats[0], complex_stats[0]], \n",
    "        \"Welch's p\":[simple_stats[1], complex_stats[1]], \n",
    "        \"median outer LINSIGHT\":[simple_stats[2], complex_stats[2]],\n",
    "        \"median inner LINSIGHT\":[simple_stats[3], complex_stats[3]],\n",
    "        \"std outer LINSIGHT\":[simple_stats[4], complex_stats[4]],\n",
    "        \"std inner LINSIGHT\":[simple_stats[5], complex_stats[5]],\n",
    "        \"n\":[simplen, complexn]\n",
    "           })\n",
    "    results[mrca] = newdf\n",
    "    # compare inner simple v. complex\n",
    "    arch_v_inner_ages(simple_age, complex_age)\n",
    "out = os.path.join(RE, \"LINSIGHT_edge_effects-AgeStratified.pdf\")\n",
    "plt.savefig(out)"
   ]
  },
  {
   "cell_type": "code",
   "execution_count": null,
   "id": "222dd2b5",
   "metadata": {},
   "outputs": [],
   "source": [
    "result_stats = pd.concat(results.values())\n",
    "out = os.path.join(RE, \"LINSIGHT_edge_effects-AgeStratified.tsv\")\n",
    "result_stats.to_csv(out, sep = '\\t', index = False)"
   ]
  },
  {
   "cell_type": "code",
   "execution_count": null,
   "id": "b42b3138",
   "metadata": {},
   "outputs": [],
   "source": []
  }
 ],
 "metadata": {
  "kernelspec": {
   "display_name": "Python (sfenv)",
   "language": "python",
   "name": "sfenv"
  },
  "language_info": {
   "codemirror_mode": {
    "name": "ipython",
    "version": 3
   },
   "file_extension": ".py",
   "mimetype": "text/x-python",
   "name": "python",
   "nbconvert_exporter": "python",
   "pygments_lexer": "ipython3",
   "version": "3.6.5"
  },
  "toc": {
   "base_numbering": 1,
   "nav_menu": {},
   "number_sections": true,
   "sideBar": true,
   "skip_h1_title": false,
   "title_cell": "Table of Contents",
   "title_sidebar": "Contents",
   "toc_cell": false,
   "toc_position": {},
   "toc_section_display": true,
   "toc_window_display": false
  }
 },
 "nbformat": 4,
 "nbformat_minor": 5
}
