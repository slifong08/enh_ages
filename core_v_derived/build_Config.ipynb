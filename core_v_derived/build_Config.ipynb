{
 "cells": [
  {
   "cell_type": "code",
   "execution_count": 1,
   "id": "dd76749e",
   "metadata": {
    "ExecuteTime": {
     "end_time": "2021-12-23T19:40:58.266586Z",
     "start_time": "2021-12-23T19:40:58.246707Z"
    }
   },
   "outputs": [],
   "source": [
    "import configparser\n",
    "import os\n",
    "import subprocess"
   ]
  },
  {
   "cell_type": "code",
   "execution_count": 2,
   "id": "561dccb5",
   "metadata": {
    "ExecuteTime": {
     "end_time": "2021-12-23T19:40:58.276760Z",
     "start_time": "2021-12-23T19:40:58.271280Z"
    }
   },
   "outputs": [],
   "source": [
    "configfile_name = \"config_landscape.ini\""
   ]
  },
  {
   "cell_type": "code",
   "execution_count": 3,
   "id": "0503e86d",
   "metadata": {
    "ExecuteTime": {
     "end_time": "2021-12-23T19:40:58.288205Z",
     "start_time": "2021-12-23T19:40:58.283064Z"
    }
   },
   "outputs": [],
   "source": [
    "# Add content to the file\n",
    "config = configparser.ConfigParser(allow_no_value=True)"
   ]
  },
  {
   "cell_type": "code",
   "execution_count": 4,
   "id": "a99a3b88",
   "metadata": {
    "ExecuteTime": {
     "end_time": "2021-12-23T19:40:58.311525Z",
     "start_time": "2021-12-23T19:40:58.292890Z"
    }
   },
   "outputs": [
    {
     "data": {
      "text/plain": [
       "'/gpfs51/dors2/capra_lab/users/fongsl/enh_ages/landscape'"
      ]
     },
     "execution_count": 4,
     "metadata": {},
     "output_type": "execute_result"
    }
   ],
   "source": [
    "os.getcwd()"
   ]
  },
  {
   "cell_type": "markdown",
   "id": "692e4347",
   "metadata": {},
   "source": [
    "# Paths "
   ]
  },
  {
   "cell_type": "code",
   "execution_count": 5,
   "id": "06c394dc",
   "metadata": {
    "ExecuteTime": {
     "end_time": "2021-12-23T19:40:58.320054Z",
     "start_time": "2021-12-23T19:40:58.314415Z"
    }
   },
   "outputs": [],
   "source": [
    "PROJECT_PATH = \"/dors/capra_lab/projects/enhancer_ages/\"\n",
    "DORS_PATH = \"/dors/capra_lab/data/\"\n",
    "BIN_PATH = \"/dors/capra_lab/users/fongsl/enh_ages/landscape/\"\n",
    "config[\"PATHS\"] = {\n",
    "    'PROJECT': PROJECT_PATH,\n",
    "    \"DORS\": DORS_PATH,\n",
    "    \"BIN\":BIN_PATH,\n",
    "}"
   ]
  },
  {
   "cell_type": "code",
   "execution_count": 6,
   "id": "200f28ae",
   "metadata": {
    "ExecuteTime": {
     "end_time": "2021-12-23T19:40:58.328103Z",
     "start_time": "2021-12-23T19:40:58.323133Z"
    }
   },
   "outputs": [],
   "source": [
    "config.add_section(\"MATPLOTLIB\")\n",
    "config[\"MATPLOTLIB\"][\"MODULE\"] = os.path.join(BIN_PATH, \"config_plot.py\")"
   ]
  },
  {
   "cell_type": "markdown",
   "id": "9fff09fe",
   "metadata": {},
   "source": [
    "## ENCODE paths "
   ]
  },
  {
   "cell_type": "code",
   "execution_count": 7,
   "id": "30421f08",
   "metadata": {
    "ExecuteTime": {
     "end_time": "2021-12-23T19:40:58.336042Z",
     "start_time": "2021-12-23T19:40:58.331052Z"
    }
   },
   "outputs": [],
   "source": [
    "ENHBASE = os.path.join(PROJECT_PATH, \"encode/data/\")\n",
    "ENCODEPATH = os.path.join(DORS_PATH, \"encode/encode3_hg38/TF/\")"
   ]
  },
  {
   "cell_type": "markdown",
   "id": "a2125c1b",
   "metadata": {},
   "source": [
    "# FANTOM fraction, length, and age enrichment "
   ]
  },
  {
   "cell_type": "code",
   "execution_count": 8,
   "id": "4a0b2686",
   "metadata": {
    "ExecuteTime": {
     "end_time": "2021-12-23T19:40:58.348745Z",
     "start_time": "2021-12-23T19:40:58.340542Z"
    }
   },
   "outputs": [],
   "source": [
    "FANTOMPATH = os.path.join(PROJECT_PATH, \"fantom\")\n",
    "FANTOM_BIN = os.path.join(BIN_PATH, \"fantom_hg19\")\n",
    "FANTOMDATA = os.path.join(FANTOMPATH, \"data\", \"non-genic\", \"no-exon_all_fantom_enh\",)\n",
    "GENOME_BUILD = \"hg19\"\n",
    "FANTOMFILE = os.path.join( FANTOMDATA, \"ages\", \"syn_breaks_no-exon_all_fantom_enh_ages.bed\")\n",
    "\n",
    "config[\"FANTOM\"]={\n",
    "    \"GENOME_BUILD\": GENOME_BUILD,\n",
    "    \"DATA_PATH\": FANTOMDATA, \n",
    "    \"DATA_FILE\": FANTOMFILE,\n",
    "    \"SAMPLE_ID\": f\"all_fanton_enh_{GENOME_BUILD}\",\n",
    "    \"RESULTS\":os.path.join(FANTOMPATH, \"results\"),\n",
    "    \"BIN_PATH\": FANTOM_BIN, \n",
    "    \n",
    "}"
   ]
  },
  {
   "cell_type": "markdown",
   "id": "0c47458e",
   "metadata": {},
   "source": [
    "# cCRE fraction, length, and age enrichment "
   ]
  },
  {
   "cell_type": "code",
   "execution_count": 9,
   "id": "876b3045",
   "metadata": {
    "ExecuteTime": {
     "end_time": "2021-12-23T19:40:58.359361Z",
     "start_time": "2021-12-23T19:40:58.351734Z"
    }
   },
   "outputs": [],
   "source": [
    "CLs = [\"HepG2\", \"K562\"]\n",
    "\n",
    "for CL in CLs:\n",
    "    GENOME_BUILD = \"hg38\"\n",
    "    BIN_PATH = os.path.join(BIN_PATH, f\"/ENCODE3_cCRE/{CL}\")  # path to scripts \n",
    "    \n",
    "    cCREPATH = f\"/dors/capra_lab/projects/enhancer_ages/encode/data/ELS_combined_{CL}/ages/\"\n",
    "    cCREFILE = os.path.join(cCREPATH, f\"syn_breaks_ELS_combined_{CL}_ages.bed\")\n",
    "\n",
    "    SHUFPATH = f\"/dors/capra_lab/projects/enhancer_ages/encode/data/ELS_combined_{CL}/shuffle/ages/\"\n",
    "    SHUFFILE = os.path.join(SHUFPATH, f\"syn_breaks_shuf-ELS_combined_{CL}.bed\")\n",
    "    RE = f\"/dors/capra_lab/projects/enhancer_ages/landscape/results/cCRE/{CL}/\"\n",
    "\n",
    "\n",
    "    config[f\"ENCODE_{CL}_FEATURES\"] = {\n",
    "                                        \"BIN\": os.path.join(BIN_PATH, f\"Figure2_AB_Figure1-{CL}_cCRE.ipynb\"),\n",
    "                                        \"DATA_PATH\":cCREPATH,\n",
    "                                        \"DATA_FILE\": cCREFILE, \n",
    "                                        \"SHUFFLE_PATH\":SHUFPATH, \n",
    "                                        \"SHUFFLE_FILE\": SHUFFILE, \n",
    "                                        \"RESULTS\":RE, \n",
    "                                        \"STAT_FILE\":  os.path.join(RE, f\"stat_{CL}_features.txt\"),\n",
    "                                        \"GENOME_BUILD\": GENOME_BUILD\n",
    "                                        }   "
   ]
  },
  {
   "cell_type": "markdown",
   "id": "96795a3d",
   "metadata": {},
   "source": [
    "# Zero TFBS overlap v. Non-zero TFBS overlap"
   ]
  },
  {
   "cell_type": "code",
   "execution_count": 10,
   "id": "61a74929",
   "metadata": {
    "ExecuteTime": {
     "end_time": "2021-12-23T19:40:58.365044Z",
     "start_time": "2021-12-23T19:40:58.361301Z"
    }
   },
   "outputs": [],
   "source": [
    " config[\"ZEROS\"] = {\n",
    "                    \"RESULTS_HepG2\": os.path.join(PROJECT_PATH, \"landscape/results/cCRE_x_tfbs_encode3/HepG2/\"),\n",
    "                     \"RESULTS_K562\": os.path.join(PROJECT_PATH, \"landscape/results/cCRE_x_tfbs_encode3/K562/\"),\n",
    "                    #\"K562\":\n",
    "                    #\"BIN\":\n",
    "                     }"
   ]
  },
  {
   "cell_type": "code",
   "execution_count": 11,
   "id": "c7f61692",
   "metadata": {
    "ExecuteTime": {
     "end_time": "2021-12-23T19:40:58.370803Z",
     "start_time": "2021-12-23T19:40:58.367383Z"
    }
   },
   "outputs": [],
   "source": [
    "config[\"ENCODE\"] = {\n",
    "                    \"#\":\"Paths to  encode cCREs, encode TFs\",\n",
    "                   \"PATH_CCRE\":ENHBASE,\n",
    "                    \"PATH_TF\":ENCODEPATH, \n",
    "}"
   ]
  },
  {
   "cell_type": "markdown",
   "id": "0cd954cf",
   "metadata": {},
   "source": [
    "# HepG2 TFBS density "
   ]
  },
  {
   "cell_type": "code",
   "execution_count": 12,
   "id": "653ba09b",
   "metadata": {
    "ExecuteTime": {
     "end_time": "2021-12-23T19:40:58.380052Z",
     "start_time": "2021-12-23T19:40:58.373227Z"
    }
   },
   "outputs": [],
   "source": [
    "CL = \"HepG2\"\n",
    "BIN_PATH = os.path.join(BIN_PATH, f\"/ENCODE3_cCRE/{CL}\")  # path to scripts \n",
    "\n",
    "COMMENT = f\"Path to {CL} cCREs,\\\n",
    "    TFBS_DENSITY_CORE_V_DERIVED evaluates TFBS in {CL} TFBS density (Figure 4B),\\\n",
    "    TFBS_ENRICHMENT looks at enrichment of TFBS in core v. derived sequences of the same age (Figure 4c)\"\n",
    "\n",
    "\n",
    "config[f\"ENCODE_{CL}_TFBS\"] = {\n",
    "                            \"#\": COMMENT, \n",
    "                            \"BIN\": BIN_PATH, \n",
    "                            \"RESULTS\": os.path.join(PROJECT_PATH, f\"landscape/results/cCRE_x_tfbs_encode3/{CL}/\"),\n",
    "                            \"RESULTS_DATA\": os.path.join(PROJECT_PATH, f\"landscape/results/cCRE_x_tfbs_encode3/{CL}/data/\"),\n",
    "                            \"TFBS_DENSITY_CORE_V_DERIVED\": os.path.join(BIN_PATH, f\"Fig4AB-TFBS_density_{CL}.ipynb\"),\n",
    "                            \"TFBS_ENRICHMENT\": os.path.join(BIN_PATH, \"Fig4C_core_v_der_TFBS_enrichment.ipynb\")\n",
    "                            #\"# script that generates figure 4B\"\n",
    "                        }"
   ]
  },
  {
   "cell_type": "markdown",
   "id": "fc699929",
   "metadata": {},
   "source": [
    "# K562 TFBS density"
   ]
  },
  {
   "cell_type": "code",
   "execution_count": 13,
   "id": "b0062618",
   "metadata": {
    "ExecuteTime": {
     "end_time": "2021-12-23T19:40:58.388572Z",
     "start_time": "2021-12-23T19:40:58.382360Z"
    }
   },
   "outputs": [],
   "source": [
    "CL = \"K562\"\n",
    "BIN_PATH = os.path.join(BIN_PATH, f\"/ENCODE3_cCRE/{CL}\")  # path to scripts \n",
    "\n",
    "\n",
    "config[f\"ENCODE_{CL}_TFBS\"] = {\n",
    "                            \"#\": f\"Path to {CL} cCREs,\\\n",
    "                            TFBS_DENSITY_CORE_V_DERIVED evaluates TFBS in {CL} TFBS density (Figure 4B),\\\n",
    "                            TFBS_ENRICHMENT looks at enrichment of TFBS in core v. derived sequences of the same age (Figure 4c)\", \n",
    "                            \"BIN\": BIN_PATH, \n",
    "                            \"RESULTS\": os.path.join(PROJECT_PATH, f\"landscape/results/cCRE_x_tfbs_encode3/{CL}/\"),\n",
    "                            \"RESULTS_DATA\": os.path.join(PROJECT_PATH, f\"landscape/results/cCRE_x_tfbs_encode3/{CL}/data/\"),\n",
    "                            \"TFBS_DENSITY_CORE_V_DERIVED\": os.path.join(BIN_PATH, f\"Fig4AB-TFBS_density_{CL}.ipynb\"),\n",
    "                            \"TFBS_ENRICHMENT\": os.path.join(BIN_PATH, \"Fig4C_core_v_der_TFBS_enrichment.ipynb\")\n",
    "                            #\"# script that generates figure 4B\"\n",
    "}"
   ]
  },
  {
   "cell_type": "markdown",
   "id": "e5bec627",
   "metadata": {},
   "source": [
    "# Ernst 2016"
   ]
  },
  {
   "cell_type": "code",
   "execution_count": 14,
   "id": "d095c255",
   "metadata": {
    "ExecuteTime": {
     "end_time": "2021-12-23T19:40:58.394992Z",
     "start_time": "2021-12-23T19:40:58.390784Z"
    }
   },
   "outputs": [],
   "source": [
    "BIN_PATH = os.path.join(BIN_PATH, \"ernst_2016\")  # path to scripts \n",
    "\n",
    "config[\"MPRA\"]={\n",
    "                \"BIN\": os.path.join(BIN_PATH, \"figure5_activity.ipynb\")\n",
    "}"
   ]
  },
  {
   "cell_type": "markdown",
   "id": "dd3b261a",
   "metadata": {},
   "source": [
    "# GC_CONTENT "
   ]
  },
  {
   "cell_type": "code",
   "execution_count": 15,
   "id": "9a19e2e2",
   "metadata": {
    "ExecuteTime": {
     "end_time": "2021-12-23T19:40:58.401041Z",
     "start_time": "2021-12-23T19:40:58.397447Z"
    }
   },
   "outputs": [],
   "source": [
    "config[\"GC_CONTENT\"] ={\n",
    "                        \"FANTOM\": os.path.join(FANTOM_BIN, \"FigS-GC_content.ipynb\")\n",
    "}"
   ]
  },
  {
   "cell_type": "code",
   "execution_count": 16,
   "id": "a462b2c6",
   "metadata": {
    "ExecuteTime": {
     "end_time": "2021-12-23T19:40:58.407921Z",
     "start_time": "2021-12-23T19:40:58.403257Z"
    }
   },
   "outputs": [],
   "source": [
    "with open(configfile_name, 'w') as configfile:\n",
    "    config.write(configfile)\n",
    "    configfile.close()"
   ]
  },
  {
   "cell_type": "code",
   "execution_count": 17,
   "id": "238d8135",
   "metadata": {
    "ExecuteTime": {
     "end_time": "2021-12-23T19:41:00.234402Z",
     "start_time": "2021-12-23T19:40:58.409660Z"
    }
   },
   "outputs": [
    {
     "data": {
      "text/plain": [
       "255"
      ]
     },
     "execution_count": 17,
     "metadata": {},
     "output_type": "execute_result"
    }
   ],
   "source": [
    "NAME= \"make_table\"\n",
    "cmd = f\"jupyter nbconvert --to script {NAME}.ipynb\"\n",
    "subprocess.call(cmd, shell = True)"
   ]
  }
 ],
 "metadata": {
  "kernelspec": {
   "display_name": "Python (sfenv)",
   "language": "python",
   "name": "sfenv"
  },
  "language_info": {
   "codemirror_mode": {
    "name": "ipython",
    "version": 3
   },
   "file_extension": ".py",
   "mimetype": "text/x-python",
   "name": "python",
   "nbconvert_exporter": "python",
   "pygments_lexer": "ipython3",
   "version": "3.6.6"
  },
  "toc": {
   "base_numbering": 1,
   "nav_menu": {},
   "number_sections": true,
   "sideBar": true,
   "skip_h1_title": false,
   "title_cell": "Table of Contents",
   "title_sidebar": "Contents",
   "toc_cell": false,
   "toc_position": {},
   "toc_section_display": true,
   "toc_window_display": false
  }
 },
 "nbformat": 4,
 "nbformat_minor": 5
}
