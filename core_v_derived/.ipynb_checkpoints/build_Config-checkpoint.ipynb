{
 "cells": [
  {
   "cell_type": "code",
   "execution_count": 1,
   "id": "dd76749e",
   "metadata": {
    "ExecuteTime": {
     "end_time": "2021-12-22T00:42:34.307158Z",
     "start_time": "2021-12-22T00:42:34.288296Z"
    }
   },
   "outputs": [],
   "source": [
    "import configparser\n",
    "import os\n",
    "import subprocess"
   ]
  },
  {
   "cell_type": "code",
   "execution_count": 2,
   "id": "561dccb5",
   "metadata": {
    "ExecuteTime": {
     "end_time": "2021-12-22T00:42:34.327152Z",
     "start_time": "2021-12-22T00:42:34.310634Z"
    }
   },
   "outputs": [],
   "source": [
    "configfile_name = \"config_landscape.ini\""
   ]
  },
  {
   "cell_type": "code",
   "execution_count": 3,
   "id": "0503e86d",
   "metadata": {
    "ExecuteTime": {
     "end_time": "2021-12-22T00:42:34.339102Z",
     "start_time": "2021-12-22T00:42:34.332904Z"
    }
   },
   "outputs": [],
   "source": [
    "# Add content to the file\n",
    "config = configparser.ConfigParser(allow_no_value=True)"
   ]
  },
  {
   "cell_type": "markdown",
   "id": "692e4347",
   "metadata": {},
   "source": [
    "# Paths "
   ]
  },
  {
   "cell_type": "code",
   "execution_count": 4,
   "id": "06c394dc",
   "metadata": {
    "ExecuteTime": {
     "end_time": "2021-12-22T00:42:34.348107Z",
     "start_time": "2021-12-22T00:42:34.342331Z"
    }
   },
   "outputs": [],
   "source": [
    "PROJECT_PATH = \"/dors/capra_lab/projects/enhancer_ages/\"\n",
    "DORS_PATH = \"/dors/capra_lab/data/\"\n",
    "BIN_PATH = \"/dors/capra_lab/users/fongsl/enh_ages/landscape/\"\n",
    "config[\"PATHS\"] = {\n",
    "    'PROJECT': PROJECT_PATH,\n",
    "    \"DORS\": DORS_PATH,\n",
    "    \"BIN\":BIN_PATH,\n",
    "}"
   ]
  },
  {
   "cell_type": "code",
   "execution_count": 5,
   "id": "200f28ae",
   "metadata": {
    "ExecuteTime": {
     "end_time": "2021-12-22T00:42:34.356566Z",
     "start_time": "2021-12-22T00:42:34.351278Z"
    }
   },
   "outputs": [],
   "source": [
    "config.add_section(\"MATPLOTLIB\")\n",
    "config[\"MATPLOTLIB\"] [\"MODULE\"] = os.path.join(BIN_PATH, \"config_plot.py\")"
   ]
  },
  {
   "cell_type": "markdown",
   "id": "dda32baf",
   "metadata": {},
   "source": [
    "## ENCODE paths "
   ]
  },
  {
   "cell_type": "code",
   "execution_count": 6,
   "id": "c7f8b0f9",
   "metadata": {
    "ExecuteTime": {
     "end_time": "2021-12-22T00:42:34.364513Z",
     "start_time": "2021-12-22T00:42:34.359586Z"
    }
   },
   "outputs": [],
   "source": [
    "ENHBASE = os.path.join(PROJECT_PATH, \"encode/data/\")\n",
    "ENCODEPATH = os.path.join(DORS_PATH, \"encode/encode3_hg38/TF/\")"
   ]
  },
  {
   "cell_type": "markdown",
   "id": "96795a3d",
   "metadata": {},
   "source": [
    "# Zero TFBS overlap v. Non-zero TFBS overlap"
   ]
  },
  {
   "cell_type": "code",
   "execution_count": 7,
   "id": "61a74929",
   "metadata": {
    "ExecuteTime": {
     "end_time": "2021-12-22T00:42:34.372308Z",
     "start_time": "2021-12-22T00:42:34.367515Z"
    }
   },
   "outputs": [],
   "source": [
    " config[\"ZEROS\"] = {\n",
    " \n",
    "                    \n",
    "                    \"RESULTS_DATA\": os.path.join(PROJECT_PATH, \"landscape/results/cCRE_x_tfbs_encode3/HepG2/pdf/data/\"),\n",
    "                    #\"K562\":\n",
    "                    #\"BIN\":\n",
    "                     }"
   ]
  },
  {
   "cell_type": "code",
   "execution_count": 8,
   "id": "75b35ebe",
   "metadata": {
    "ExecuteTime": {
     "end_time": "2021-12-22T00:42:34.395982Z",
     "start_time": "2021-12-22T00:42:34.376096Z"
    }
   },
   "outputs": [],
   "source": [
    "config[\"ENCODE\"] = {\n",
    "                    \"#\":\"Paths to  encode cCREs, encode TFs\",\n",
    "                   \"PATH_CCRE\":ENHBASE,\n",
    "                    \"PATH_TF\":ENCODEPATH, \n",
    "}"
   ]
  },
  {
   "cell_type": "code",
   "execution_count": 9,
   "id": "c47c52c4",
   "metadata": {
    "ExecuteTime": {
     "end_time": "2021-12-22T00:42:34.403200Z",
     "start_time": "2021-12-22T00:42:34.398019Z"
    }
   },
   "outputs": [],
   "source": [
    "CL = \"HepG2\"\n",
    "BIN_PATH = os.path.join(BIN_PATH, f\"/ENCODE3_cCRE/{CL}\")  # path to scripts \n",
    "\n",
    "\n",
    "config[f\"ENCODE_{CL}\"] = {\n",
    "    \"#\": f\"Path to {CL} cCREs,TFBS_DENSITY_CORE_V_DERIVED evaluates TFBS in {CL} TFBS density (Figure 4)\", \n",
    "    \"BIN\": BIN_PATH, \n",
    "    \"RESULTS\": os.path.join(PROJECT_PATH, f\"landscape/results/cCRE_x_tfbs_encode3/{CL}/\"),\n",
    "    \"RESULTS_DATA\": os.path.join(PROJECT_PATH, f\"landscape/results/cCRE_x_tfbs_encode3/{CL}/data/\"),\n",
    "    \"TFBS_DENSITY_CORE_V_DERIVED\": os.path.join(BIN_PATH, f\"Fig4B-TFBS_density_{CL}\")\n",
    "    #\"# script that generates figure 4B\"\n",
    "}"
   ]
  },
  {
   "cell_type": "code",
   "execution_count": 10,
   "id": "a462b2c6",
   "metadata": {
    "ExecuteTime": {
     "end_time": "2021-12-22T00:42:34.409875Z",
     "start_time": "2021-12-22T00:42:34.405439Z"
    }
   },
   "outputs": [],
   "source": [
    "with open(configfile_name, 'w') as configfile:\n",
    "    config.write(configfile)\n",
    "    configfile.close()"
   ]
  },
  {
   "cell_type": "code",
   "execution_count": 11,
   "id": "238d8135",
   "metadata": {
    "ExecuteTime": {
     "end_time": "2021-12-22T00:42:36.167576Z",
     "start_time": "2021-12-22T00:42:34.411846Z"
    }
   },
   "outputs": [
    {
     "data": {
      "text/plain": [
       "255"
      ]
     },
     "execution_count": 11,
     "metadata": {},
     "output_type": "execute_result"
    }
   ],
   "source": [
    "NAME= \"make_table\"\n",
    "cmd = f\"jupyter nbconvert --to script {NAME}.ipynb\"\n",
    "subprocess.call(cmd, shell = True)"
   ]
  }
 ],
 "metadata": {
  "kernelspec": {
   "display_name": "Python (sfenv)",
   "language": "python",
   "name": "sfenv"
  },
  "language_info": {
   "codemirror_mode": {
    "name": "ipython",
    "version": 3
   },
   "file_extension": ".py",
   "mimetype": "text/x-python",
   "name": "python",
   "nbconvert_exporter": "python",
   "pygments_lexer": "ipython3",
   "version": "3.6.6"
  },
  "toc": {
   "base_numbering": 1,
   "nav_menu": {},
   "number_sections": true,
   "sideBar": true,
   "skip_h1_title": false,
   "title_cell": "Table of Contents",
   "title_sidebar": "Contents",
   "toc_cell": false,
   "toc_position": {},
   "toc_section_display": true,
   "toc_window_display": false
  }
 },
 "nbformat": 4,
 "nbformat_minor": 5
}
