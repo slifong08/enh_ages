{
 "cells": [
  {
   "cell_type": "code",
   "execution_count": null,
   "id": "97a80995",
   "metadata": {},
   "outputs": [],
   "source": [
    "import configparser\n",
    "import os\n",
    "import subprocess\n",
    "\n",
    "configfile_name = \"config_landscape.ini\"\n",
    "\n",
    "# Add content to the file\n",
    "config = configparser.ConfigParser()\n",
    "\n",
    "# hard-coded parameters\n",
    "RESOLUTION = \"bin\" # region\n",
    "COMBINED_ACTIVITY = \"SILENT_ACTIVE\"  #COMBINATIONS = [None , \"SILENT_ACTIVE\" , \"SILENT_NEUTRAL\"]\n",
    "COMBINE = f\"combine_{COMBINED_ACTIVITY}_{RESOLUTION}\"\n",
    "MSA = \"30\"\n",
    "MSAWAY = MSA + \"way\"\n",
    "SEQ_ID_CUTOFF = 0.9\n",
    "GENOME_BUILD = \"hg38\"\n",
    "\n",
    "config[\"PARAMS\"] = {\n",
    "                    \"COMBINED_ACTIVITY\":COMBINED_ACTIVITY,\n",
    "                    \"COMBINE\":COMBINE,\n",
    "                    \"MSAWAY\" : MSAWAY,\n",
    "                    \"MSA\": MSA, \n",
    "                    \"RESOLUTION\":RESOLUTION,\n",
    "                    \"SEQ_ID_CUTOFF\":SEQ_ID_CUTOFF,\n",
    "                    \"GENOME_BUILD\": GENOME_BUILD,\n",
    "                    }\n",
    "\n",
    "with open(configfile_name, 'w') as configfile:\n",
    "    config.write(configfile)\n",
    "    configfile.close()"
   ]
  }
 ],
 "metadata": {
  "kernelspec": {
   "display_name": "Python (sfenv)",
   "language": "python",
   "name": "sfenv"
  },
  "language_info": {
   "codemirror_mode": {
    "name": "ipython",
    "version": 3
   },
   "file_extension": ".py",
   "mimetype": "text/x-python",
   "name": "python",
   "nbconvert_exporter": "python",
   "pygments_lexer": "ipython3",
   "version": "3.6.6"
  },
  "toc": {
   "base_numbering": 1,
   "nav_menu": {},
   "number_sections": true,
   "sideBar": true,
   "skip_h1_title": false,
   "title_cell": "Table of Contents",
   "title_sidebar": "Contents",
   "toc_cell": false,
   "toc_position": {},
   "toc_section_display": true,
   "toc_window_display": false
  }
 },
 "nbformat": 4,
 "nbformat_minor": 5
}
