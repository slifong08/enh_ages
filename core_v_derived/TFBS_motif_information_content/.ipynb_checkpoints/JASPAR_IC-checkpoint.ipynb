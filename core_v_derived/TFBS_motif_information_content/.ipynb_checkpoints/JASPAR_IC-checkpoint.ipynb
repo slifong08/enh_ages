{
 "cells": [
  {
   "cell_type": "code",
   "execution_count": 1,
   "id": "5fc80eac",
   "metadata": {
    "ExecuteTime": {
     "end_time": "2022-05-13T21:38:49.046390Z",
     "start_time": "2022-05-13T21:38:48.023306Z"
    }
   },
   "outputs": [],
   "source": [
    "import configparser\n",
    "import glob\n",
    "import matplotlib.pyplot as plt\n",
    "import numpy as np\n",
    "import os\n",
    "import pandas as pd\n",
    "from scipy import stats\n",
    "import seaborn as sns\n",
    "import subprocess\n",
    "import sys\n",
    "\n",
    "sys.path.append(\"/dors/capra_lab/users/fongsl/tools/py_\")\n",
    "import config_readwrite as crw\n",
    "import plot_params as pp\n",
    "\n",
    "name = \"/dors/capra_lab/users/fongsl/enh_ages/core_v_derived/config_landscape\"\n",
    "config, configfilename = crw.read_config(name)"
   ]
  },
  {
   "cell_type": "code",
   "execution_count": 2,
   "id": "60aa17bb",
   "metadata": {
    "ExecuteTime": {
     "end_time": "2022-05-13T21:38:49.056831Z",
     "start_time": "2022-05-13T21:38:49.049229Z"
    }
   },
   "outputs": [],
   "source": [
    "JASPAR = config[\"TFBS_IC\"][\"JASPAR_MEME\"]\n",
    "HEPG2 = config[\"ENCODE_HepG2_TFBS\"]['OR_reassigned']\n",
    "K562 = config[\"ENCODE_K562_TFBS\"]['OR_reassigned']\n",
    "\n",
    "RE_HEPG2 = config[\"ENCODE_HepG2_TFBS\"][\"results\"]\n",
    "RE_K562 = config[\"ENCODE_K562_TFBS\"][\"results\"]"
   ]
  },
  {
   "cell_type": "code",
   "execution_count": 3,
   "id": "6932812d",
   "metadata": {
    "ExecuteTime": {
     "end_time": "2022-05-13T21:38:49.166076Z",
     "start_time": "2022-05-13T21:38:49.158511Z"
    }
   },
   "outputs": [],
   "source": [
    "def motif_info(line):\n",
    "    \n",
    "    # motif info from str formatting\n",
    "    motif_id, motif_name = line.split(\" \")[1:]\n",
    "        \n",
    "    motif_array = np.array([0.00001, 0.00001, 0.00001, 0.00001])\n",
    "    \n",
    "    return motif_id, motif_name.strip(\"\\n\"), motif_array"
   ]
  },
  {
   "cell_type": "code",
   "execution_count": 4,
   "id": "ad7917a7",
   "metadata": {
    "ExecuteTime": {
     "end_time": "2022-05-13T21:38:49.924182Z",
     "start_time": "2022-05-13T21:38:49.917339Z"
    }
   },
   "outputs": [],
   "source": [
    "def lineTolist(line):\n",
    "    \n",
    "    a = ((line.strip(\"\\n\")).split(\" \"))  # str formatting. Remove \"\\n\" and split on whitespace\n",
    "    a = [float(i) for i in a if i]  # remove items in list w whitespace. \n",
    "\n",
    "    return a  # return list"
   ]
  },
  {
   "cell_type": "code",
   "execution_count": 5,
   "id": "95bd8165",
   "metadata": {
    "ExecuteTime": {
     "end_time": "2022-05-13T21:38:50.454189Z",
     "start_time": "2022-05-13T21:38:50.444289Z"
    }
   },
   "outputs": [],
   "source": [
    "def quantify_infoContent(motif_array):\n",
    "    \n",
    "    #nrows = motif_array.shape[0]\n",
    "    \n",
    "    bkgd = [0.3, 0.2, 0.2, 0.3]\n",
    "\n",
    "    # quantify information content. \n",
    "\n",
    "    info_content = 0\n",
    "    for position in motif_array[1:]:\n",
    "\n",
    "        for i, pb in enumerate(position):\n",
    "            pb = pb +0.000001\n",
    "            qb = bkgd[i]\n",
    "            info_content = info_content + pb*np.log2((pb/qb))\n",
    "\n",
    "#    print(info_content)\n",
    "    #info_content = stats.entropy(motif_array, bkgd)\n",
    "    \n",
    "    return info_content"
   ]
  },
  {
   "cell_type": "code",
   "execution_count": 6,
   "id": "e80c71d8",
   "metadata": {
    "ExecuteTime": {
     "end_time": "2022-05-13T21:38:51.494676Z",
     "start_time": "2022-05-13T21:38:51.056541Z"
    }
   },
   "outputs": [
    {
     "name": "stdout",
     "output_type": "stream",
     "text": [
      "Arnt 11.665308444195569\n",
      "Ahr::Arnt 10.46447174863189\n",
      "Ddit3::Cebpa 11.885031235105615\n",
      "NFIL3 12.948851855200521\n",
      "Mecom 16.52225098923505\n",
      "FOXF2 13.934961001204831\n",
      "FOXD1 11.108849093696412\n",
      "Gfi1 9.124356631725473\n",
      "Foxq1 12.476493274839225\n",
      "Foxd3 11.356392090669683\n",
      "IRF2 20.73779233334891\n",
      "MZF1 9.551717739690694\n",
      "MZF1(var.2) 10.2064291780543\n",
      "MAX::MYC 15.215324884769055\n",
      "Nkx2-5 7.322949012406924\n",
      "PPARG 21.225306585383073\n",
      "Pax2 6.516697899048309\n",
      "Pax6 13.652162513110559\n",
      "PBX1 13.661590719776804\n",
      "RORA 13.039342864814458\n",
      "RORA(var.2) 16.764275255025787\n",
      "RREB1 24.302505558861863\n",
      "RXRA::VDR 21.126378290617367\n",
      "SOX9 8.597181582064362\n",
      "Sox17 10.153395802030346\n",
      "SPIB 9.128775542166524\n",
      "SRY 8.079031133982642\n",
      "Sox5 9.803123906358588\n",
      "MAFG::NFE2L1 7.839402959132655\n",
      "TAL1::TCF3 14.090874918452338\n",
      "Hand1::Tcf3 10.478230339940863\n",
      "REL 11.15319179305435\n",
      "RELA 15.440937450368434\n",
      "TBP 9.44605175131067\n",
      "HLTF 7.161329568427634\n",
      "Spz1 12.473952217849122\n",
      "NR1H2::RXRA 27.82815544766774\n",
      "Znf423 19.935241446147305\n",
      "NFIC::TLX1 20.88103768175943\n",
      "Nobox 8.684932550077399\n",
      "ZNF354C 9.536642006119212\n",
      "Lhx3 13.928802668162234\n",
      "CTCF 19.374944539803522\n",
      "Pou5f1::Sox2 13.562849351679494\n",
      "EWSR1-FLI1 33.97477695246796\n",
      "Gabpa 14.60749994570449\n",
      "REST 24.926584072433418\n",
      "RUNX1 10.735521780481534\n",
      "Foxa2 12.323225062096066\n",
      "Pparg::Rxra 12.515400638985154\n",
      "Arid3a 8.53453556378859\n",
      "NFATC2 9.434634571449381\n",
      "INSM1 16.384667079428638\n",
      "HOXA5 8.148508807255833\n",
      "RARA::RXRA 16.848045330563444\n",
      "NR4A2 10.361467615582638\n",
      "PLAG1 22.201097552069054\n",
      "Nr2e3 11.712853136672633\n",
      "ARNT::HIF1A 10.712042760632816\n",
      "Zfx 15.576523114280953\n",
      "Stat5a::Stat5b 13.007240091778998\n",
      "Stat4 13.443855552168188\n",
      "STAT1::STAT2 15.713732432103932\n",
      "SP2 16.515189104690545\n",
      "Sox6 12.914421277889508\n",
      "Sox3 12.759741169493234\n",
      "SMAD2::SMAD3::SMAD4 14.514267831081934\n",
      "Rfx1 16.039327849119665\n",
      "POU2F2 13.8887967234972\n",
      "NRF1 16.61597308686694\n",
      "Nr5a2 15.54865745823455\n",
      "NR2C2 17.467542049341315\n",
      "Nkx2-5(var.2) 13.157156753412625\n",
      "NFYB 14.937733969099327\n",
      "MAF::NFE2 17.443173607302974\n",
      "Myog 14.212858819426762\n",
      "Myod1 14.248707894954826\n",
      "MEF2C 12.554398041333288\n",
      "Nr1h3::Rxra 14.126126319682943\n",
      "Klf1 14.98033709658386\n",
      "JUND(var.2) 14.524116668838383\n",
      "JUND 14.638480551929415\n",
      "JUNB 13.956001908970785\n",
      "JUN(var.2) 13.74318758620283\n",
      "JUN 14.601554131481702\n",
      "Hoxc9 12.81310987999739\n",
      "HNF4G 13.752307360848235\n",
      "Gfi1b 13.289850746238518\n",
      "Gata4 12.920463472504045\n",
      "Foxo1 12.69266490325223\n",
      "FOXH1 13.448782486589653\n",
      "FOSL2 14.1870573346432\n",
      "FOSL1 14.456949623613244\n",
      "FOS 13.463167415847504\n",
      "E2F6 14.906922951220396\n",
      "E2F4 14.97554563737315\n",
      "DUX4 13.651575132650146\n",
      "Crx 12.63740988321392\n",
      "CDX2 12.729289100513178\n",
      "Bcl6 13.524310567022654\n",
      "BATF::JUN 13.111920790337347\n",
      "Stat6 13.68160218864106\n",
      "Tcf12 14.107070449524304\n",
      "TCF7L2 13.065976475933606\n",
      "ZBTB33 15.734938956319798\n",
      "ZNF263 17.877729827765467\n",
      "CEBPA 12.659834613660715\n",
      "ELK4 14.243177272102137\n",
      "ESR2 14.274043834173472\n",
      "FOXA1 12.752854988335242\n",
      "Gata1 12.96896754723913\n",
      "IRF1 16.811699520073386\n",
      "Nfe2l2 16.28154190253189\n",
      "Sox2 13.466099634389376\n",
      "SP1 15.643142052977227\n",
      "STAT1 14.355584665715288\n",
      "STAT3 12.95984760317269\n",
      "GATA1::TAL1 14.23860753563238\n",
      "USF1 14.221260110468407\n",
      "YY1 14.90088254278283\n",
      "Bach1::Mafk 19.18653532581558\n",
      "FOXP2 12.870927522688014\n",
      "Hoxa9 12.94146095725689\n",
      "SREBF1 14.214446065470797\n",
      "SREBF2 14.084825479074002\n",
      "THAP1 7.374991970866756\n",
      "KLF5 14.86297558246471\n",
      "Arid3b 8.396466754422727\n",
      "Arid5a 8.953468399015952\n",
      "Arntl 11.811380683082604\n",
      "Atf1 10.64035200699186\n",
      "Atf3 11.71090775228373\n",
      "NFAT5 9.467233463031707\n",
      "Bhlha15 11.845576049192013\n",
      "Creb3l2 13.917043496926835\n",
      "Crem 12.250043126358106\n",
      "DMRT3 10.555711037596287\n",
      "Dux 11.280697903184667\n",
      "EMX1 6.942184149670014\n",
      "FOXG1 12.290448908770513\n",
      "Foxj2 10.831276857395975\n",
      "Gmeb1 9.070755548954446\n",
      "Hes1 6.5638950804379785\n",
      "Hes2 8.933317369888123\n",
      "Id2 13.470525279385662\n",
      "LBX1 9.166455125976245\n",
      "LIN54 9.923523068090573\n",
      "mix-a 10.897174220843844\n",
      "Mlxip 13.349876893354098\n",
      "Neurog1 7.0512270117153895\n",
      "NFATC1 7.816006130112057\n",
      "NFATC3 8.44271251933297\n",
      "Npas2 12.329684636445146\n",
      "Pou2f3 13.841013407774996\n",
      "POU6F1 8.687996162847428\n",
      "Rhox11 11.815156131518856\n",
      "SHOX 6.427478382115085\n",
      "Six3 14.651276063859507\n",
      "Tcfl5 7.33919823162023\n",
      "Twist2 11.77346933826055\n",
      "ALX3 6.434283827820385\n",
      "Ar 19.360737261659107\n",
      "BARHL2 7.876720385410373\n",
      "BHLHE41 16.301186810316295\n",
      "CENPB 15.019555721520419\n",
      "CREB3 16.376060160031898\n",
      "DBP 12.810038812694163\n",
      "EBF1 16.960948123447853\n",
      "EHF 15.310830512297859\n",
      "ELF3 17.809188774931904\n",
      "ELF4 16.963687744685902\n",
      "ELF5 10.817581993780378\n",
      "EN1 8.430176032858954\n",
      "EN2 8.261111345737131\n",
      "Esrrg 13.22181223933444\n",
      "ESX1 6.462526494485291\n",
      "ETV6 13.083849565627505\n",
      "FLI1 13.837342256145906\n",
      "FOXI1 10.874233719070723\n",
      "FOXL1 9.706138473906426\n",
      "FOXO3 12.559177142240575\n",
      "GCM1 14.110848069933692\n",
      "GRHL1 13.919496129526145\n",
      "GSC 9.414597911075079\n",
      "HEY2 13.272844726773329\n",
      "HINFP 14.954545848222784\n",
      "HLF 11.07227967530647\n",
      "HNF1A 13.92656534361278\n",
      "HNF1B 14.403794476807283\n",
      "HOXA13 10.146032510176504\n",
      "HOXC11 11.91875877460064\n",
      "HSF1 18.144296409783795\n",
      "IRF8 22.51002942729602\n",
      "IRF9 24.540545731256046\n",
      "ISX 9.428916460180766\n",
      "JDP2 14.63473817586671\n",
      "JDP2(var.2) 17.73518144235367\n",
      "KLF13 21.8352899390788\n",
      "LHX6 9.962067978781178\n",
      "MAFG 16.2336340302664\n",
      "MEF2B 17.00720431088422\n",
      "MEOX1 8.877604001914877\n",
      "MIXL1 6.271138626851473\n",
      "MLX 14.975503830354608\n",
      "MLXIPL 13.100491151454895\n",
      "MSC 14.929635135864583\n",
      "MSX1 7.903126019499818\n",
      "MYF6 14.326004882650698\n",
      "NEUROD2 10.86721004322305\n",
      "NEUROG2 14.20550860653011\n",
      "NFIA 12.432940782062094\n",
      "NFIX 8.440862177009613\n",
      "NHLH1 14.556100493964534\n",
      "NKX2-3 11.060712537110396\n",
      "NKX2-8 9.178255867487389\n",
      "NKX6-1 8.019209287369431\n",
      "NKX6-2 6.096070578699846\n",
      "Nr2e1 10.583990115953663\n",
      "Nr2f6 18.562515490539\n",
      "OLIG2 12.510452135855859\n",
      "ONECUT1 14.585870767890068\n",
      "PAX4 8.532991893085745\n",
      "PAX7 14.723466801676533\n",
      "Phox2b 11.161517095963848\n",
      "Pitx1 8.152608738222458\n",
      "POU4F2 18.95946490391078\n",
      "Prrx2 5.880849608915701\n",
      "RUNX3 11.835919124827752\n",
      "Rxra 23.136338176039377\n",
      "SP4 22.076353839440912\n",
      "SPDEF 15.105468782912556\n",
      "SPI1 20.974023276349886\n",
      "SPIC 12.91499077975219\n",
      "SRF 20.693227047233737\n",
      "T 19.134492127529835\n",
      "TBX2 10.201951114332731\n",
      "TBX20 13.718401641931193\n",
      "TBX21 13.42619167909008\n",
      "TEAD1 9.341059370963919\n",
      "TFAP4 14.253496173175748\n",
      "TFCP2 11.744317157074244\n",
      "TFEB 11.950193848566833\n",
      "ZBTB7B 15.37070467271824\n",
      "ZBTB7C 11.81477287173318\n",
      "ZIC1 21.339845055375886\n",
      "ZIC3 19.92521383569314\n",
      "ZBTB18 15.496749068219195\n",
      "LBX2 6.6782852826953105\n",
      "LHX2 9.43034621096975\n",
      "LHX9 6.93257583825697\n",
      "LMX1A 6.563581774892842\n",
      "LMX1B 5.483019331670462\n",
      "Lhx4 7.143787612921328\n",
      "Lhx8 8.174899363629631\n",
      "MEOX2 6.532631345176773\n",
      "MNX1 7.485729643270833\n",
      "MSX2 9.102320417190267\n",
      "Msx3 8.919797131835491\n",
      "NKX3-2 9.953211770594633\n",
      "NOTO 8.650307029012831\n",
      "Nkx3-1 11.051490554535958\n",
      "OTX1 9.149735539250244\n",
      "OTX2 8.897061769178034\n",
      "PDX1 8.918433378993244\n",
      "PHOX2A 10.23446099736075\n",
      "PITX3 8.713495850914297\n",
      "PROP1 12.767632094315253\n",
      "PRRX1 7.134893099678151\n",
      "RAX2 6.189476819906817\n",
      "RAX 8.428141262003214\n",
      "RHOXF1 8.15133569754062\n",
      "Shox2 8.161740328901853\n",
      "UNCX 6.030213846401175\n",
      "VAX1 5.9285866641230145\n",
      "VAX2 6.43116296000826\n",
      "VENTX 10.345609308448209\n",
      "VSX1 7.006608821018928\n",
      "VSX2 8.063869919654357\n",
      "ESR1 23.664259568770973\n",
      "ESRRB 16.16940231803526\n",
      "Esrra 17.51676529231999\n",
      "Hnf4a 22.162467400063107\n",
      "NR2F1 13.990094556561836\n",
      "NR3C1 19.292345985994103\n",
      "NR3C2 19.20150348346824\n",
      "Nr2f6(var.2) 25.253730638728836\n",
      "RARA 27.948831951629995\n",
      "RARA(var.2) 23.269883996641017\n",
      "BCL6B 29.12552440441276\n",
      "EGR2 17.170703930915817\n",
      "EGR3 20.294181729507763\n",
      "EGR4 15.6548730961268\n",
      "GLI2 15.310475172841162\n",
      "GLIS1 27.65714479691614\n",
      "GLIS2 19.3435765723691\n",
      "GLIS3 22.924028219677304\n",
      "HIC2 9.401890417852972\n",
      "Hic1 10.290947990421373\n",
      "KLF14 18.000685099761107\n",
      "KLF16 15.31317896805959\n",
      "Klf12 18.412453688669398\n",
      "SCRT1 18.284274578099453\n",
      "SCRT2 18.483598318691243\n",
      "SNAI2 10.05703868875904\n",
      "SP3 12.09333864400503\n",
      "SP8 13.922584200767394\n",
      "YY2 12.304945303692143\n",
      "ZBED1 19.321466677474902\n",
      "ZIC4 15.962604781452596\n",
      "ZNF143 22.48149188207691\n",
      "ZNF410 23.849230050418093\n",
      "ZNF740 14.59026252670254\n",
      "CUX1 10.58792406688583\n",
      "CUX2 10.697003058182757\n",
      "ONECUT2 14.014990545486764\n",
      "ONECUT3 14.962097445672724\n",
      "E2F3 21.5301163319234\n",
      "E2F7 24.190031291301867\n",
      "ELF1 16.957484643080342\n",
      "ELK3 12.404064837458506\n",
      "ERF 13.443256933143386\n",
      "ERG 12.311000936988465\n",
      "ETS1 12.715462361702597\n",
      "ETV1 11.389726723792688\n",
      "ETV2 14.78681561316172\n",
      "ETV3 12.18619325320333\n",
      "ETV4 11.191567894310166\n",
      "ETV5 10.180861988365107\n",
      "FEV 12.247742060902889\n",
      "GATA5 7.815489021555189\n",
      "GCM2 11.938350648676055\n",
      "LEF1 17.039300714814377\n",
      "Tcf7 16.180335400393588\n"
     ]
    },
    {
     "name": "stdout",
     "output_type": "stream",
     "text": [
      "HSF2 16.568375368468608\n",
      "HSF4 13.390085531840937\n",
      "IRF7 17.011145711979683\n",
      "MEF2A 15.50738858469021\n",
      "MEF2D 16.923630969915664\n",
      "MEIS1 7.954664011129489\n",
      "MEIS2 11.221135173629037\n",
      "MEIS3 9.172796759327221\n",
      "MYBL1 15.475763320583546\n",
      "MYBL2 17.031279362737635\n",
      "NFKB1 22.141277304652487\n",
      "NFKB2 18.153466067940123\n",
      "PAX1 20.80031198817228\n",
      "PAX3 13.672051268827206\n",
      "PAX9 23.490373269817322\n",
      "PKNOX1 21.739532035128445\n",
      "PKNOX2 21.5325590922821\n",
      "POU1F1 13.331223523515543\n",
      "POU2F1 10.64102830160078\n",
      "POU3F1 10.385955287214813\n",
      "POU3F2 12.181133453524781\n",
      "POU3F3 11.652482808980873\n",
      "POU3F4 12.152862916901617\n",
      "POU4F1 11.202244426744963\n",
      "POU4F3 11.934716744546945\n",
      "POU5F1B 9.37019262331897\n",
      "POU6F2 10.748190429345266\n",
      "PROX1 17.02627405178354\n",
      "RFX2 20.789239748595808\n",
      "SMAD3 15.734250016576595\n",
      "TGIF1 22.58015286421025\n",
      "TGIF2 18.645181060189373\n",
      "RFX3 17.39667020738161\n",
      "RFX4 15.994275166829592\n",
      "RFX5 21.049449137703316\n",
      "RUNX2 11.824085994165914\n",
      "EOMES 12.266342242093216\n",
      "MGA 11.1384335921182\n",
      "TBR1 12.34026944716356\n",
      "TBX15 13.58272944292946\n",
      "TBX19 17.27486151547983\n",
      "TBX1 13.021603813618718\n",
      "TBX4 10.122601658977759\n",
      "TBX5 8.826735210244752\n",
      "TEAD3 11.4733487762319\n",
      "TEAD4 9.145119395183384\n",
      "TFAP2A(var.2) 12.860957812553583\n",
      "TFAP2A 12.951835157987448\n",
      "TFAP2B 12.79412516167419\n",
      "TFAP2B(var.2) 14.359508974640285\n",
      "TFAP2B(var.3) 16.544014209565542\n",
      "TFAP2C 12.36327348691187\n",
      "TFAP2C(var.2) 13.053617676518227\n",
      "TFAP2C(var.3) 16.877077446273006\n",
      "Ascl2 13.637812779865456\n",
      "Atoh1 11.165708086801276\n",
      "BHLHE40 13.610464574948931\n",
      "BHLHE23 14.256764345636844\n",
      "BHLHE22 12.727996711724943\n",
      "CLOCK 12.305379570192821\n",
      "FIGLA 10.94848850542481\n",
      "HES5 20.301292814771582\n",
      "HES7 21.7272474506458\n",
      "HEY1 13.659403730684755\n",
      "ID4 12.455215272965528\n",
      "MAX 12.344049144010983\n",
      "MNT 12.034049755086796\n",
      "OLIG1 14.042433174682797\n",
      "OLIG3 11.052001831233971\n",
      "SREBF2(var.2) 15.692716000119297\n",
      "Srebf1(var.2) 15.217936827016846\n",
      "TCF3 12.346716116599685\n",
      "TCF4 12.911218920506746\n",
      "Tcf21 18.300872347546488\n",
      "ATF4 15.428178092590914\n",
      "ATF7 17.379272248393097\n",
      "BATF3 23.325847936371133\n",
      "CEBPB 12.569360834085721\n",
      "CEBPD 12.97749100581839\n",
      "CEBPE 11.459528711859571\n",
      "CEBPG 14.523850922719234\n",
      "CREB3L1 18.26349552422941\n",
      "Creb5 16.18267361643196\n",
      "Mafb 11.197545720371426\n",
      "NFE2 16.720014513835466\n",
      "NRL 8.291555609014782\n",
      "TEF 13.620414618170356\n",
      "XBP1 16.113165449327962\n",
      "FOXB1 10.590389305220679\n",
      "FOXC1 10.296664088628807\n",
      "FOXC2 10.079033960529452\n",
      "FOXD2 7.846907339983306\n",
      "FOXO4 9.9191900865075\n",
      "FOXO6 11.292114304824125\n",
      "FOXP3 7.949227119986773\n",
      "Foxj3 12.12397883653768\n",
      "Alx4 12.479555587496439\n",
      "Alx1 12.435449213536941\n",
      "RXRB 23.64356024801154\n",
      "RXRG 22.777622523880833\n",
      "Rarb 26.008804640200687\n",
      "Rarb(var.2) 24.956627635428898\n",
      "Rarg 24.53814631641364\n",
      "Rarg(var.2) 25.957992462056662\n",
      "TP63 24.24144750200922\n",
      "TP53 21.48249891792622\n",
      "TP73 17.946083255010294\n",
      "GMEB2 9.712072757734353\n",
      "MTF1 21.470354784491153\n",
      "E2F1 13.97073886968701\n",
      "E2F2 23.260473832434222\n",
      "E2F8 21.361146851916548\n",
      "SOX21 22.08673645484654\n",
      "SOX4 26.851447905599144\n",
      "SOX8 27.749208042738637\n",
      "Sox11 25.76629279252672\n",
      "Sox1 19.630847924323554\n",
      "TFEC 11.05621144447256\n",
      "TFAP2A(var.3) 16.487952924652852\n",
      "ELK1 15.072654085888587\n",
      "HOXD12 13.474405644646055\n",
      "Arx 13.05534162210915\n",
      "BARX1 8.198684363074669\n",
      "BSX 7.865933362570825\n",
      "Barhl1 6.205132138862801\n",
      "CDX1 8.176272051375568\n",
      "Dlx1 6.19484208625783\n",
      "Dlx3 6.108326296504228\n",
      "Dlx4 6.652389387645993\n",
      "DLX6 7.323737007769619\n",
      "Dmbx1 12.41991645354042\n",
      "DUXA 11.457118610275307\n",
      "Dlx2 7.955795964963776\n",
      "EMX2 9.36548724825584\n",
      "EVX1 7.129312218688713\n",
      "EVX2 7.194784575926628\n",
      "GBX1 10.095477939288177\n",
      "GBX2 9.145369874893403\n",
      "GSC2 7.650219641481078\n",
      "GSX1 5.51571331083666\n",
      "GSX2 5.357546825884748\n",
      "HESX1 9.718199037421034\n",
      "HMBOX1 9.04260599300319\n",
      "Hmx1 12.935374607661338\n",
      "Hmx2 13.24892383381988\n",
      "Hmx3 12.760615949491122\n",
      "HOXA10 7.985706679759018\n",
      "HOXA2 7.309190661088408\n",
      "HOXB13 11.13270024180745\n",
      "HOXB2 6.448075529720761\n",
      "HOXB3 6.857476505603893\n",
      "Hoxb5 11.58986472897523\n",
      "HOXC10 10.083277336595355\n",
      "HOXC12 13.697791664652442\n",
      "HOXC13 13.570794242014452\n",
      "HOXD11 11.384058545473112\n",
      "HOXD13 10.962970821268762\n",
      "Hoxd8 10.802732794689062\n",
      "Hoxa11 10.698471803241812\n",
      "Hoxd3 10.577179948283977\n",
      "Hoxd9 7.889723767948195\n",
      "ISL2 7.12443834067795\n",
      "ASCL1 14.605942840118411\n",
      "BACH2 14.868278270217631\n",
      "CREB1 12.193303086206557\n",
      "CTCFL 17.059129602105777\n",
      "FOXK1 10.962284155644813\n",
      "FOXK2 9.68686733815504\n",
      "FOXP1 11.15703394602553\n",
      "GATA2 10.13345563036165\n",
      "GATA6 11.09893182756938\n",
      "GRHL2 11.815626019856417\n",
      "HIF1A 11.321778841927918\n",
      "KLF4 12.135048575707932\n",
      "KLF9 14.730939591944477\n",
      "MAFF 15.740663943721298\n",
      "MAFK 16.32818079224145\n",
      "MITF 15.03360576990283\n",
      "MXI1 13.018761847584228\n",
      "MYC 12.677255660310331\n",
      "MYB 11.56826710256249\n",
      "MYCN 13.464184850000441\n",
      "NEUROD1 12.780663066737274\n",
      "NFIC 11.076687723099372\n",
      "NFYA 12.40932443192885\n",
      "NR1H4 10.666467678113138\n",
      "NR2F2 11.139468024573016\n",
      "NR4A1 12.437881028205705\n",
      "PAX5 12.431983537503216\n",
      "PBX2 11.688105402865709\n",
      "PBX3 13.919482100640078\n",
      "POU5F1 9.35535960982394\n",
      "PRDM1 12.761919311061911\n",
      "RBPJ 11.70212226892658\n",
      "RELB 10.721466424444605\n",
      "SIX1 11.735860300754162\n",
      "SIX2 12.96988467818756\n",
      "SOX10 10.833073898422967\n",
      "SOX13 9.889662178561634\n",
      "TEAD2 11.294162215785137\n",
      "TFDP1 12.799695728298962\n",
      "TWIST1 11.715587215114995\n",
      "USF2 15.618583442396313\n",
      "ZBTB7A 12.97473479445367\n",
      "ZEB1 12.323876811836687\n",
      "ZNF24 16.442817267208586\n",
      "ZNF384 11.016600883278848\n",
      "ZNF282 21.56020626462043\n",
      "ZSCAN4 21.37672272392893\n",
      "GATA3 9.21138453365128\n",
      "FOS::JUN 11.541897704595847\n",
      "FOS::JUN(var.2) 10.373446250657143\n",
      "FOSB::JUN 12.770142369155707\n",
      "FOSL1::JUN 12.111897559069467\n",
      "FOSL1::JUN(var.2) 10.122328987944977\n",
      "FOSL2::JUN 12.000123767698993\n",
      "FOSL2::JUN(var.2) 13.085102305133187\n",
      "JUN::JUNB 9.589613330940637\n",
      "JUN::JUNB(var.2) 11.082755741483416\n",
      "FOS::JUNB 12.949392434581515\n",
      "FOSB::JUNB 12.484286891215286\n",
      "FOSB::JUNB(var.2) 11.108621717868077\n",
      "FOSL1::JUNB 8.952196770959663\n",
      "FOSL2::JUNB 12.652697637070432\n",
      "FOSL2::JUNB(var.2) 13.39343416900268\n",
      "JUNB(var.2) 8.928441656668339\n",
      "FOS::JUND 13.285020823049358\n",
      "FOSL1::JUND 7.1608449447175015\n",
      "FOSL1::JUND(var.2) 7.3641130560463655\n",
      "FOSL2::JUND 12.739212940473928\n",
      "FOSL2::JUND(var.2) 13.388458232490018\n",
      "NR1A4::RXRA 13.487567744660707\n",
      "NR4A2::RXRA 15.342582027296503\n",
      "PPARA::RXRA 12.553360846118553\n",
      "RARA::RXRG 14.396656514029733\n",
      "RORB 9.21635166401571\n",
      "RORC 9.769481963125667\n",
      "SOX15 8.680941796646584\n",
      "TFE3 11.606999885075682\n",
      "VDR 7.614943859650819\n",
      "Smad4 12.04163275872121\n",
      "EGR1 21.435708770774113\n",
      "IRF3 24.066395824781452\n",
      "IRF4 23.26002414800465\n",
      "IRF5 15.597258231172411\n",
      "TCF7L1 16.11180317535402\n"
     ]
    }
   ],
   "source": [
    "stop = 2\n",
    "\n",
    "info = {} # collect information content\n",
    "\n",
    "with open(JASPAR, \"r\") as reader:\n",
    "    r = reader.readlines()\n",
    "    val = 0\n",
    "\n",
    "    for line in r:\n",
    "        \n",
    "        if \"MOTIF\" in line:\n",
    "            \n",
    "            motif_id, motif_name, motif_array = motif_info(line)\n",
    "            \n",
    "            val +=1\n",
    "        \n",
    "        elif \"letter-probability\" in line:\n",
    "            continue\n",
    "            \n",
    "        elif \"URL\" in line:  # calculate information content\n",
    "            \n",
    "            info_content = quantify_infoContent(motif_array)\n",
    "            \n",
    "            info[motif_name] = info_content\n",
    "\n",
    "            print(motif_name, info_content)\n",
    "            #if val ==stop:\n",
    "             #   break\n",
    "        \n",
    "        # for lines w/ no information to parse\n",
    "        elif val<1 or line == \"\\n\":\n",
    "            \n",
    "            continue\n",
    "            \n",
    "        else:\n",
    "            # format line from str to line_list\n",
    "            line_list = lineTolist(line)\n",
    "            \n",
    "            # add line to the motif array \n",
    "            motif_array = np.vstack([motif_array, line_list])"
   ]
  },
  {
   "cell_type": "markdown",
   "id": "a8d0642c",
   "metadata": {},
   "source": [
    "# Information content x HepG2 TF ChIP-seq OR enrichment "
   ]
  },
  {
   "cell_type": "code",
   "execution_count": 7,
   "id": "3a47adf7",
   "metadata": {
    "ExecuteTime": {
     "end_time": "2022-05-13T21:38:54.697885Z",
     "start_time": "2022-05-13T21:38:54.687416Z"
    }
   },
   "outputs": [],
   "source": [
    "def make_ic_df(key, arch, info):\n",
    "    \n",
    "    newdf = pd.DataFrame({\n",
    "                            \"tf\":[key], \n",
    "                            \"arch\":[arch], \n",
    "                            \"IC\":[info[key]],\n",
    "                           })\n",
    "    \n",
    "    return newdf"
   ]
  },
  {
   "cell_type": "code",
   "execution_count": 8,
   "id": "bdd521d1",
   "metadata": {
    "ExecuteTime": {
     "end_time": "2022-05-13T21:38:57.740153Z",
     "start_time": "2022-05-13T21:38:57.731417Z"
    }
   },
   "outputs": [],
   "source": [
    "def get_tfChIP_sets(df):\n",
    "    \n",
    "    core_tfs, der_tfs = set(df.loc[df.OR <1, \"tf\"]), set(df.loc[df.OR >1, \"tf\"])\n",
    "\n",
    "    print(\"core ChIP n=\", len(core_tfs), \"\\nder ChIP n=\", len(der_tfs))\n",
    "\n",
    "    return core_tfs, der_tfs"
   ]
  },
  {
   "cell_type": "code",
   "execution_count": 9,
   "id": "638fd30b",
   "metadata": {
    "ExecuteTime": {
     "end_time": "2022-05-13T21:38:58.319996Z",
     "start_time": "2022-05-13T21:38:58.307164Z"
    }
   },
   "outputs": [],
   "source": [
    "def welchs_test(resultsDict):\n",
    "   \n",
    "    der_IC = list(resultsDict.loc[resultsDict[\"arch\"] ==\"der\", \"IC\"])\n",
    "    core_IC = list(resultsDict.loc[resultsDict[\"arch\"] !=\"der\", \"IC\"])\n",
    "    \n",
    "    # Welch's test: equal_var = False, \n",
    "    s, p = stats.ttest_ind(der_IC, core_IC, equal_var = False)\n",
    "    print(\"Welch's test stat=\", s,\"p=\", p)\n",
    "    \n",
    "    return s,p"
   ]
  },
  {
   "cell_type": "code",
   "execution_count": 10,
   "id": "80ed07c8",
   "metadata": {
    "ExecuteTime": {
     "end_time": "2022-05-13T21:38:58.853073Z",
     "start_time": "2022-05-13T21:38:58.844395Z"
    }
   },
   "outputs": [],
   "source": [
    "def do_stats(resultsDf):\n",
    "    print(\"TF ChIP w JASPAR motif\", resultsDf.groupby(\"arch\")[\"tf\"].count(), \"\\n\\n\")\n",
    "\n",
    "    print(resultsDf.groupby(\"arch\")[\"IC\"].describe())"
   ]
  },
  {
   "cell_type": "code",
   "execution_count": 11,
   "id": "9bf6dea4",
   "metadata": {
    "ExecuteTime": {
     "end_time": "2022-05-13T21:38:59.364871Z",
     "start_time": "2022-05-13T21:38:59.355097Z"
    }
   },
   "outputs": [],
   "source": [
    "def annotate_boxplot_count(data, x, y, ax):\n",
    "    stat_data = data.groupby(x)[y].describe().reset_index()\n",
    "    for i, l in enumerate(stat_data[\"count\"]):\n",
    "        print(i, l, data[y].iloc[i])\n",
    "    \n",
    "        ax.annotate(int(l), (i-0.01, int(stat_data[\"50%\"].iloc[i])+0.1) )"
   ]
  },
  {
   "cell_type": "markdown",
   "id": "46e2bf4a",
   "metadata": {},
   "source": [
    "## get JASPAR TF names"
   ]
  },
  {
   "cell_type": "code",
   "execution_count": 12,
   "id": "0f05a3ad",
   "metadata": {
    "ExecuteTime": {
     "end_time": "2022-05-13T21:39:00.996925Z",
     "start_time": "2022-05-13T21:39:00.986382Z"
    }
   },
   "outputs": [],
   "source": [
    "keys = info.keys()  # list of JASPAR TFs"
   ]
  },
  {
   "cell_type": "markdown",
   "id": "cc5524eb",
   "metadata": {},
   "source": [
    "## load HepG2 TF ChIP-seq enrichment. "
   ]
  },
  {
   "cell_type": "code",
   "execution_count": 41,
   "id": "8e422304",
   "metadata": {
    "ExecuteTime": {
     "end_time": "2022-05-13T22:07:20.605921Z",
     "start_time": "2022-05-13T22:07:20.538893Z"
    },
    "code_folding": []
   },
   "outputs": [
    {
     "name": "stderr",
     "output_type": "stream",
     "text": [
      "/home/fongsl/.conda/envs/sfenv/lib/python3.6/site-packages/ipykernel_launcher.py:12: SettingWithCopyWarning: \n",
      "A value is trying to be set on a copy of a slice from a DataFrame.\n",
      "Try using .loc[row_indexer,col_indexer] = value instead\n",
      "\n",
      "See the caveats in the documentation: https://pandas.pydata.org/pandas-docs/stable/user_guide/indexing.html#returning-a-view-versus-a-copy\n",
      "  if sys.path[0] == '':\n",
      "/home/fongsl/.local/lib/python3.6/site-packages/pandas/core/indexing.py:1763: SettingWithCopyWarning: \n",
      "A value is trying to be set on a copy of a slice from a DataFrame.\n",
      "Try using .loc[row_indexer,col_indexer] = value instead\n",
      "\n",
      "See the caveats in the documentation: https://pandas.pydata.org/pandas-docs/stable/user_guide/indexing.html#returning-a-view-versus-a-copy\n",
      "  isetter(loc, value)\n"
     ]
    }
   ],
   "source": [
    "OR = pd.read_csv(HEPG2, sep = '\\t')\n",
    "\n",
    "sig = OR.loc[\n",
    "            (OR[\"arch\"] == \"complex_derived_v_complex_core\") &\n",
    "            (OR[\"universe\"]== \"TFBS\")&\n",
    "            (OR[\"reject_null\"]==True)\n",
    "            ]\n",
    "allOR = OR.loc[\n",
    "            (OR[\"arch\"] == \"complex_derived_v_complex_core\") &\n",
    "            (OR[\"universe\"]== \"TFBS\")\n",
    "            ]\n",
    "allOR[\"arch\"] = \"der\"\n",
    "allOR.loc[allOR[\"OR\"]<1, \"arch\"] = \"core\""
   ]
  },
  {
   "cell_type": "code",
   "execution_count": 42,
   "id": "ccaa0114",
   "metadata": {
    "ExecuteTime": {
     "end_time": "2022-05-13T22:07:21.215789Z",
     "start_time": "2022-05-13T22:07:21.174913Z"
    }
   },
   "outputs": [
    {
     "data": {
      "text/html": [
       "<div>\n",
       "<style scoped>\n",
       "    .dataframe tbody tr th:only-of-type {\n",
       "        vertical-align: middle;\n",
       "    }\n",
       "\n",
       "    .dataframe tbody tr th {\n",
       "        vertical-align: top;\n",
       "    }\n",
       "\n",
       "    .dataframe thead th {\n",
       "        text-align: right;\n",
       "    }\n",
       "</style>\n",
       "<table border=\"1\" class=\"dataframe\">\n",
       "  <thead>\n",
       "    <tr style=\"text-align: right;\">\n",
       "      <th></th>\n",
       "      <th>OR</th>\n",
       "      <th>P</th>\n",
       "      <th>a</th>\n",
       "      <th>b</th>\n",
       "      <th>c</th>\n",
       "      <th>ci_lower</th>\n",
       "      <th>ci_upper</th>\n",
       "      <th>comparison_name</th>\n",
       "      <th>d</th>\n",
       "      <th>universe</th>\n",
       "      <th>reject_null</th>\n",
       "      <th>FDR_P</th>\n",
       "      <th>arch</th>\n",
       "      <th>tf</th>\n",
       "      <th>log2</th>\n",
       "      <th>taxon2</th>\n",
       "    </tr>\n",
       "  </thead>\n",
       "  <tbody>\n",
       "    <tr>\n",
       "      <th>0</th>\n",
       "      <td>1.008310</td>\n",
       "      <td>0.879902</td>\n",
       "      <td>816.0</td>\n",
       "      <td>39680.0</td>\n",
       "      <td>793.0</td>\n",
       "      <td>0.913516</td>\n",
       "      <td>1.112939</td>\n",
       "      <td>TFAP4-complex_derived_v_complex_core-TFBS</td>\n",
       "      <td>38882.0</td>\n",
       "      <td>TFBS</td>\n",
       "      <td>False</td>\n",
       "      <td>0.905782</td>\n",
       "      <td>complex_derived_v_complex_core</td>\n",
       "      <td>TFAP4</td>\n",
       "      <td>0.011939</td>\n",
       "      <td>Eutheria</td>\n",
       "    </tr>\n",
       "    <tr>\n",
       "      <th>1</th>\n",
       "      <td>0.861237</td>\n",
       "      <td>0.002967</td>\n",
       "      <td>768.0</td>\n",
       "      <td>39728.0</td>\n",
       "      <td>871.0</td>\n",
       "      <td>0.780824</td>\n",
       "      <td>0.949932</td>\n",
       "      <td>TCF7-complex_derived_v_complex_core-TFBS</td>\n",
       "      <td>38804.0</td>\n",
       "      <td>TFBS</td>\n",
       "      <td>True</td>\n",
       "      <td>0.008653</td>\n",
       "      <td>complex_derived_v_complex_core</td>\n",
       "      <td>TCF7</td>\n",
       "      <td>-0.215517</td>\n",
       "      <td>Eutheria</td>\n",
       "    </tr>\n",
       "    <tr>\n",
       "      <th>2</th>\n",
       "      <td>1.090976</td>\n",
       "      <td>0.237403</td>\n",
       "      <td>415.0</td>\n",
       "      <td>40081.0</td>\n",
       "      <td>373.0</td>\n",
       "      <td>0.947946</td>\n",
       "      <td>1.255588</td>\n",
       "      <td>MNT-complex_derived_v_complex_core-TFBS</td>\n",
       "      <td>39302.0</td>\n",
       "      <td>TFBS</td>\n",
       "      <td>False</td>\n",
       "      <td>0.383497</td>\n",
       "      <td>complex_derived_v_complex_core</td>\n",
       "      <td>MNT</td>\n",
       "      <td>0.125620</td>\n",
       "      <td>Eutheria</td>\n",
       "    </tr>\n",
       "    <tr>\n",
       "      <th>3</th>\n",
       "      <td>0.877278</td>\n",
       "      <td>0.000386</td>\n",
       "      <td>1457.0</td>\n",
       "      <td>39039.0</td>\n",
       "      <td>1619.0</td>\n",
       "      <td>0.816195</td>\n",
       "      <td>0.942932</td>\n",
       "      <td>FOXA1-complex_derived_v_complex_core-TFBS</td>\n",
       "      <td>38056.0</td>\n",
       "      <td>TFBS</td>\n",
       "      <td>True</td>\n",
       "      <td>0.001761</td>\n",
       "      <td>complex_derived_v_complex_core</td>\n",
       "      <td>FOXA1</td>\n",
       "      <td>-0.188894</td>\n",
       "      <td>Eutheria</td>\n",
       "    </tr>\n",
       "    <tr>\n",
       "      <th>4</th>\n",
       "      <td>0.840355</td>\n",
       "      <td>0.000002</td>\n",
       "      <td>1423.0</td>\n",
       "      <td>39073.0</td>\n",
       "      <td>1648.0</td>\n",
       "      <td>0.781728</td>\n",
       "      <td>0.903379</td>\n",
       "      <td>FOXA2-complex_derived_v_complex_core-TFBS</td>\n",
       "      <td>38027.0</td>\n",
       "      <td>TFBS</td>\n",
       "      <td>True</td>\n",
       "      <td>0.000037</td>\n",
       "      <td>complex_derived_v_complex_core</td>\n",
       "      <td>FOXA2</td>\n",
       "      <td>-0.250928</td>\n",
       "      <td>Eutheria</td>\n",
       "    </tr>\n",
       "  </tbody>\n",
       "</table>\n",
       "</div>"
      ],
      "text/plain": [
       "         OR         P       a        b       c  ci_lower  ci_upper  \\\n",
       "0  1.008310  0.879902   816.0  39680.0   793.0  0.913516  1.112939   \n",
       "1  0.861237  0.002967   768.0  39728.0   871.0  0.780824  0.949932   \n",
       "2  1.090976  0.237403   415.0  40081.0   373.0  0.947946  1.255588   \n",
       "3  0.877278  0.000386  1457.0  39039.0  1619.0  0.816195  0.942932   \n",
       "4  0.840355  0.000002  1423.0  39073.0  1648.0  0.781728  0.903379   \n",
       "\n",
       "                             comparison_name        d universe  reject_null  \\\n",
       "0  TFAP4-complex_derived_v_complex_core-TFBS  38882.0     TFBS        False   \n",
       "1   TCF7-complex_derived_v_complex_core-TFBS  38804.0     TFBS         True   \n",
       "2    MNT-complex_derived_v_complex_core-TFBS  39302.0     TFBS        False   \n",
       "3  FOXA1-complex_derived_v_complex_core-TFBS  38056.0     TFBS         True   \n",
       "4  FOXA2-complex_derived_v_complex_core-TFBS  38027.0     TFBS         True   \n",
       "\n",
       "      FDR_P                            arch     tf      log2    taxon2  \n",
       "0  0.905782  complex_derived_v_complex_core  TFAP4  0.011939  Eutheria  \n",
       "1  0.008653  complex_derived_v_complex_core   TCF7 -0.215517  Eutheria  \n",
       "2  0.383497  complex_derived_v_complex_core    MNT  0.125620  Eutheria  \n",
       "3  0.001761  complex_derived_v_complex_core  FOXA1 -0.188894  Eutheria  \n",
       "4  0.000037  complex_derived_v_complex_core  FOXA2 -0.250928  Eutheria  "
      ]
     },
     "execution_count": 42,
     "metadata": {},
     "output_type": "execute_result"
    }
   ],
   "source": [
    "OR.head()"
   ]
  },
  {
   "cell_type": "markdown",
   "id": "04afb32a",
   "metadata": {},
   "source": [
    "## get info content for motifs w/ significant tfs in core/derived"
   ]
  },
  {
   "cell_type": "code",
   "execution_count": 43,
   "id": "9ebd0d73",
   "metadata": {
    "ExecuteTime": {
     "end_time": "2022-05-13T22:07:22.287397Z",
     "start_time": "2022-05-13T22:07:22.225252Z"
    }
   },
   "outputs": [
    {
     "name": "stdout",
     "output_type": "stream",
     "text": [
      "core ChIP n= 23 \n",
      "der ChIP n= 36\n",
      "Welch's test stat= 2.376632074963569 p= 0.03428861508260724\n"
     ]
    },
    {
     "data": {
      "text/plain": [
       "(2.376632074963569, 0.03428861508260724)"
      ]
     },
     "execution_count": 43,
     "metadata": {},
     "output_type": "execute_result"
    }
   ],
   "source": [
    "\"\"\"\n",
    "1. get sets of sig. enriched core, derived tf names \n",
    "2. make dictionary object to collect information content linked to TFs in core/derived\n",
    "3. per core/derived test, for each TF\n",
    "4. make a unique key of ARCH + TF name\n",
    "5. make a dataframe with the TF, architecture label, and information content value. \n",
    "6. add to dictionary.\n",
    "7. concat dictionary values (dataframes)\n",
    "8. Welch's test for significant differences in information content between core and derived motifs. \n",
    "\"\"\"\n",
    "\n",
    "#1\n",
    "core_tfs, der_tfs = get_tfChIP_sets(sig)\n",
    "\n",
    "#2\n",
    "collection_dict = {}\n",
    "\n",
    "sig_tfsets = [(\"der\", der_tfs), (\"core\", core_tfs)]\n",
    "\n",
    "#3\n",
    "for arch, tfset in sig_tfsets:\n",
    "    \n",
    "    for key in tfset:\n",
    "    \n",
    "        if key in keys:\n",
    "            \n",
    "            #4 make a unique key\n",
    "            # bc some TFs are enriched in cores for some ages and derived for other ages (e.g. SP1)\n",
    "            uniqueKey = arch+\"-\"+key  \n",
    "            \n",
    "            #5\n",
    "            newdf = make_ic_df(key, arch, info)\n",
    "            \n",
    "            #6\n",
    "            collection_dict[uniqueKey] = newdf\n",
    "\n",
    "#7\n",
    "sig_results = pd.concat(collection_dict.values())\n",
    "\n",
    "#8 Do welch's test to evaluate significance\n",
    "welchs_test(sig_results)"
   ]
  },
  {
   "cell_type": "code",
   "execution_count": 44,
   "id": "da22c608",
   "metadata": {
    "ExecuteTime": {
     "end_time": "2022-05-13T22:07:22.863426Z",
     "start_time": "2022-05-13T22:07:22.825128Z"
    }
   },
   "outputs": [
    {
     "name": "stdout",
     "output_type": "stream",
     "text": [
      "TF ChIP w JASPAR motif arch\n",
      "core    9\n",
      "der     7\n",
      "Name: tf, dtype: int64 \n",
      "\n",
      "\n",
      "      count       mean       std        min        25%        50%        75%  \\\n",
      "arch                                                                           \n",
      "core    9.0  12.486972  2.269779   9.686867  11.016601  12.569361  13.926565   \n",
      "der     7.0  15.341333  2.467784  12.344049  13.597997  14.900883  16.786729   \n",
      "\n",
      "            max  \n",
      "arch             \n",
      "core  15.740664  \n",
      "der   19.374945  \n"
     ]
    }
   ],
   "source": [
    "do_stats(sig_results)"
   ]
  },
  {
   "cell_type": "markdown",
   "id": "b519793e",
   "metadata": {},
   "source": [
    "## all tfs enriched in core/derived\n"
   ]
  },
  {
   "cell_type": "code",
   "execution_count": 45,
   "id": "4022c98a",
   "metadata": {
    "ExecuteTime": {
     "end_time": "2022-05-13T22:07:24.628943Z",
     "start_time": "2022-05-13T22:07:24.506320Z"
    }
   },
   "outputs": [
    {
     "name": "stdout",
     "output_type": "stream",
     "text": [
      "core ChIP n= 101 \n",
      "der ChIP n= 105\n",
      "Welch's test stat= -0.31198145447478437 p= 0.7561662362675851\n"
     ]
    },
    {
     "data": {
      "text/plain": [
       "(-0.31198145447478437, 0.7561662362675851)"
      ]
     },
     "execution_count": 45,
     "metadata": {},
     "output_type": "execute_result"
    }
   ],
   "source": [
    "\"\"\"\n",
    "1. get sets of sig. enriched core, derived tf names \n",
    "2. make dictionary object to collect information content linked to TFs in core/derived\n",
    "3. per core/derived test, for each TF\n",
    "4. make a unique key of ARCH + TF name\n",
    "5. make a dataframe with the TF, architecture label, and information content value. \n",
    "6. add to dictionary.\n",
    "7. concat dictionary values (dataframes)\n",
    "8. Welch's test for significant differences in information content between core and derived motifs. \n",
    "\"\"\"\n",
    "\n",
    "#1\n",
    "core_tfs, der_tfs = get_tfChIP_sets(allOR)\n",
    "\n",
    "#2\n",
    "collection_dict = {}\n",
    "\n",
    "tfsets = [(\"der\", der_tfs), (\"core\", core_tfs)]\n",
    "\n",
    "#3\n",
    "for arch, tfset in tfsets:\n",
    "    \n",
    "    for key in tfset:\n",
    "    \n",
    "        if key in keys:\n",
    "            \n",
    "            #4 make a unique key\n",
    "            # bc some TFs are enriched in cores for some ages and derived for other ages (e.g. SP1)\n",
    "            uniqueKey = arch+\"-\"+key  \n",
    "            \n",
    "            #5\n",
    "            newdf = make_ic_df(key, arch, info)\n",
    "            \n",
    "            #6\n",
    "            collection_dict[uniqueKey] = newdf\n",
    "\n",
    "#7\n",
    "results = pd.concat(collection_dict.values())\n",
    "\n",
    "#8 Do welch's test to evaluate significance\n",
    "welchs_test(results)"
   ]
  },
  {
   "cell_type": "code",
   "execution_count": 46,
   "id": "dcfd0c7a",
   "metadata": {
    "ExecuteTime": {
     "end_time": "2022-05-13T22:07:25.177607Z",
     "start_time": "2022-05-13T22:07:25.139401Z"
    }
   },
   "outputs": [
    {
     "name": "stdout",
     "output_type": "stream",
     "text": [
      "TF ChIP w JASPAR motif arch\n",
      "core    29\n",
      "der     32\n",
      "Name: tf, dtype: int64 \n",
      "\n",
      "\n",
      "      count       mean       std       min        25%        50%        75%  \\\n",
      "arch                                                                          \n",
      "core   29.0  14.629483  3.321230  9.686867  12.569361  14.221260  16.328181   \n",
      "der    32.0  14.364236  3.310463  9.446052  12.306363  14.056811  15.887543   \n",
      "\n",
      "            max  \n",
      "arch             \n",
      "core  24.926584  \n",
      "der   24.926584  \n"
     ]
    }
   ],
   "source": [
    "do_stats(results)"
   ]
  },
  {
   "cell_type": "code",
   "execution_count": 47,
   "id": "e3b3c1b6",
   "metadata": {
    "ExecuteTime": {
     "end_time": "2022-05-13T22:07:25.923206Z",
     "start_time": "2022-05-13T22:07:25.902001Z"
    }
   },
   "outputs": [
    {
     "data": {
      "text/html": [
       "<div>\n",
       "<style scoped>\n",
       "    .dataframe tbody tr th:only-of-type {\n",
       "        vertical-align: middle;\n",
       "    }\n",
       "\n",
       "    .dataframe tbody tr th {\n",
       "        vertical-align: top;\n",
       "    }\n",
       "\n",
       "    .dataframe thead th {\n",
       "        text-align: right;\n",
       "    }\n",
       "</style>\n",
       "<table border=\"1\" class=\"dataframe\">\n",
       "  <thead>\n",
       "    <tr style=\"text-align: right;\">\n",
       "      <th></th>\n",
       "      <th>tf</th>\n",
       "      <th>arch</th>\n",
       "      <th>IC</th>\n",
       "    </tr>\n",
       "  </thead>\n",
       "  <tbody>\n",
       "    <tr>\n",
       "      <th>0</th>\n",
       "      <td>USF1</td>\n",
       "      <td>der</td>\n",
       "      <td>14.221260</td>\n",
       "    </tr>\n",
       "    <tr>\n",
       "      <th>0</th>\n",
       "      <td>CTCF</td>\n",
       "      <td>der</td>\n",
       "      <td>19.374945</td>\n",
       "    </tr>\n",
       "    <tr>\n",
       "      <th>0</th>\n",
       "      <td>ZBTB7A</td>\n",
       "      <td>der</td>\n",
       "      <td>12.974735</td>\n",
       "    </tr>\n",
       "    <tr>\n",
       "      <th>0</th>\n",
       "      <td>MAX</td>\n",
       "      <td>der</td>\n",
       "      <td>12.344049</td>\n",
       "    </tr>\n",
       "    <tr>\n",
       "      <th>0</th>\n",
       "      <td>ELF1</td>\n",
       "      <td>der</td>\n",
       "      <td>16.957485</td>\n",
       "    </tr>\n",
       "    <tr>\n",
       "      <th>0</th>\n",
       "      <td>YY1</td>\n",
       "      <td>der</td>\n",
       "      <td>14.900883</td>\n",
       "    </tr>\n",
       "    <tr>\n",
       "      <th>0</th>\n",
       "      <td>NRF1</td>\n",
       "      <td>der</td>\n",
       "      <td>16.615973</td>\n",
       "    </tr>\n",
       "    <tr>\n",
       "      <th>0</th>\n",
       "      <td>MAFF</td>\n",
       "      <td>core</td>\n",
       "      <td>15.740664</td>\n",
       "    </tr>\n",
       "    <tr>\n",
       "      <th>0</th>\n",
       "      <td>SOX13</td>\n",
       "      <td>core</td>\n",
       "      <td>9.889662</td>\n",
       "    </tr>\n",
       "    <tr>\n",
       "      <th>0</th>\n",
       "      <td>FOXA1</td>\n",
       "      <td>core</td>\n",
       "      <td>12.752855</td>\n",
       "    </tr>\n",
       "    <tr>\n",
       "      <th>0</th>\n",
       "      <td>CEBPB</td>\n",
       "      <td>core</td>\n",
       "      <td>12.569361</td>\n",
       "    </tr>\n",
       "    <tr>\n",
       "      <th>0</th>\n",
       "      <td>ZNF384</td>\n",
       "      <td>core</td>\n",
       "      <td>11.016601</td>\n",
       "    </tr>\n",
       "    <tr>\n",
       "      <th>0</th>\n",
       "      <td>HNF1A</td>\n",
       "      <td>core</td>\n",
       "      <td>13.926565</td>\n",
       "    </tr>\n",
       "    <tr>\n",
       "      <th>0</th>\n",
       "      <td>FOXK2</td>\n",
       "      <td>core</td>\n",
       "      <td>9.686867</td>\n",
       "    </tr>\n",
       "    <tr>\n",
       "      <th>0</th>\n",
       "      <td>FOXP1</td>\n",
       "      <td>core</td>\n",
       "      <td>11.157034</td>\n",
       "    </tr>\n",
       "    <tr>\n",
       "      <th>0</th>\n",
       "      <td>SP1</td>\n",
       "      <td>core</td>\n",
       "      <td>15.643142</td>\n",
       "    </tr>\n",
       "  </tbody>\n",
       "</table>\n",
       "</div>"
      ],
      "text/plain": [
       "       tf  arch         IC\n",
       "0    USF1   der  14.221260\n",
       "0    CTCF   der  19.374945\n",
       "0  ZBTB7A   der  12.974735\n",
       "0     MAX   der  12.344049\n",
       "0    ELF1   der  16.957485\n",
       "0     YY1   der  14.900883\n",
       "0    NRF1   der  16.615973\n",
       "0    MAFF  core  15.740664\n",
       "0   SOX13  core   9.889662\n",
       "0   FOXA1  core  12.752855\n",
       "0   CEBPB  core  12.569361\n",
       "0  ZNF384  core  11.016601\n",
       "0   HNF1A  core  13.926565\n",
       "0   FOXK2  core   9.686867\n",
       "0   FOXP1  core  11.157034\n",
       "0     SP1  core  15.643142"
      ]
     },
     "execution_count": 47,
     "metadata": {},
     "output_type": "execute_result"
    }
   ],
   "source": [
    "sig_results"
   ]
  },
  {
   "cell_type": "code",
   "execution_count": 48,
   "id": "65908bf5",
   "metadata": {
    "ExecuteTime": {
     "end_time": "2022-05-13T22:07:31.727732Z",
     "start_time": "2022-05-13T22:07:31.662340Z"
    }
   },
   "outputs": [],
   "source": [
    "# consider sequence enrichment in each category. \n",
    "\n",
    "taxon_results = pd.merge(allOR[[\"tf\", \"arch\", \"taxon2\"]].drop_duplicates(), results).drop_duplicates()\n",
    "\n",
    "\n",
    "# count the number of taxons where an architecture is enriched. \n",
    "counts = (taxon_results.groupby([\"tf\", \"arch\"])[\"taxon2\"].count().reset_index())\n",
    "\n",
    "# find the architecture with the most enrichments\n",
    "max_counts = counts.groupby('tf')[\"taxon2\"].max().reset_index()\n",
    "\n",
    "# add back the architecture identity\n",
    "max_counts = pd.merge(max_counts, counts, how = \"left\")\n",
    "\n",
    "# add back the tf and information content. \n",
    "max_counts = pd.merge(max_counts, taxon_results[[\"tf\", \"IC\"]], how = \"left\").drop_duplicates()"
   ]
  },
  {
   "cell_type": "code",
   "execution_count": 49,
   "id": "e3ccb7f4",
   "metadata": {
    "ExecuteTime": {
     "end_time": "2022-05-13T22:07:34.359205Z",
     "start_time": "2022-05-13T22:07:33.759594Z"
    }
   },
   "outputs": [
    {
     "name": "stderr",
     "output_type": "stream",
     "text": [
      "No handles with labels found to put in legend.\n"
     ]
    },
    {
     "name": "stdout",
     "output_type": "stream",
     "text": [
      "0 9.0 14.221260110468407\n",
      "1 7.0 19.374944539803522\n",
      "0 16.0 17.379272248393097\n",
      "1 16.0 13.610464574948931\n"
     ]
    },
    {
     "data": {
      "image/png": "[encoded data removed]",
      "text/plain": [
       "<Figure size 864x432 with 2 Axes>"
      ]
     },
     "metadata": {
      "needs_background": "light"
     },
     "output_type": "display_data"
    }
   ],
   "source": [
    "pp.fonts()\n",
    "cell_line = 'HepG2'\n",
    "x=\"arch\"\n",
    "y=\"IC\"\n",
    "order = [\"core\", \"der\"]\n",
    "fig, (ax1, ax2) = plt.subplots(ncols=2, figsize = (12,6))\n",
    "\n",
    "# plot sig ChIP TF motif IC \n",
    "data=sig_results\n",
    "sns.boxplot(x=x,y=y,data=data, order=order, ax=ax1)\n",
    "ax1.set(title=f\"{cell_line} TF motifs\\nsignificantly enriched ChIP-seq\")\n",
    "annotate_boxplot_count(data, x, y, ax1)\n",
    "\n",
    "# plot all ChIP TF motif IC \n",
    "\n",
    "data=max_counts\n",
    "#taxon_order = [ 'Vertebrata', 'Amniota',  'Mammalia','Theria','Eutheria', 'Boreoeutheria', 'Primate']\n",
    "sns.boxplot(x=x,y=y,data=data, order=order, ax=ax2)\n",
    "ax2.set(title=f\"{cell_line} TF motifs\\nall ChIP-seq\")\n",
    "ax2.legend(bbox_to_anchor = (1,1)).remove()\n",
    "#ax2.set_xticklabels(ax2.get_xticklabels(), rotation = 60, horizontalalignment = \"right\")\n",
    "\n",
    "stat_data = data.groupby([x])[y].describe().reset_index()\n",
    "\n",
    "for i, l in enumerate(stat_data[\"count\"]):\n",
    "    print(i, l, data[y].iloc[i])\n",
    "\n",
    "    ax2.annotate(int(l), (i-0.1, int(stat_data[\"50%\"].iloc[i])+0.1) )\n",
    "\n",
    "out = os.path.join(RE_HEPG2, f\"{cell_line}_TFBS_ChIP-seq_JASPAR_information_content.pdf\")\n",
    "plt.savefig(out, bbox_inches = 'tight')"
   ]
  },
  {
   "cell_type": "code",
   "execution_count": 28,
   "id": "1bfeb1b2",
   "metadata": {
    "ExecuteTime": {
     "end_time": "2022-05-13T21:41:42.973110Z",
     "start_time": "2022-05-13T21:41:42.945497Z"
    }
   },
   "outputs": [
    {
     "data": {
      "text/html": [
       "<div>\n",
       "<style scoped>\n",
       "    .dataframe tbody tr th:only-of-type {\n",
       "        vertical-align: middle;\n",
       "    }\n",
       "\n",
       "    .dataframe tbody tr th {\n",
       "        vertical-align: top;\n",
       "    }\n",
       "\n",
       "    .dataframe thead th {\n",
       "        text-align: right;\n",
       "    }\n",
       "</style>\n",
       "<table border=\"1\" class=\"dataframe\">\n",
       "  <thead>\n",
       "    <tr style=\"text-align: right;\">\n",
       "      <th></th>\n",
       "      <th>arch</th>\n",
       "      <th>count</th>\n",
       "      <th>mean</th>\n",
       "      <th>std</th>\n",
       "      <th>min</th>\n",
       "      <th>25%</th>\n",
       "      <th>50%</th>\n",
       "      <th>75%</th>\n",
       "      <th>max</th>\n",
       "    </tr>\n",
       "  </thead>\n",
       "  <tbody>\n",
       "    <tr>\n",
       "      <th>0</th>\n",
       "      <td>core</td>\n",
       "      <td>16.0</td>\n",
       "      <td>13.571357</td>\n",
       "      <td>2.116933</td>\n",
       "      <td>9.889662</td>\n",
       "      <td>12.224913</td>\n",
       "      <td>13.839436</td>\n",
       "      <td>14.889646</td>\n",
       "      <td>17.379272</td>\n",
       "    </tr>\n",
       "    <tr>\n",
       "      <th>1</th>\n",
       "      <td>der</td>\n",
       "      <td>16.0</td>\n",
       "      <td>15.157116</td>\n",
       "      <td>4.102000</td>\n",
       "      <td>9.446052</td>\n",
       "      <td>12.306363</td>\n",
       "      <td>14.561071</td>\n",
       "      <td>16.701351</td>\n",
       "      <td>24.926584</td>\n",
       "    </tr>\n",
       "  </tbody>\n",
       "</table>\n",
       "</div>"
      ],
      "text/plain": [
       "   arch  count       mean       std       min        25%        50%  \\\n",
       "0  core   16.0  13.571357  2.116933  9.889662  12.224913  13.839436   \n",
       "1   der   16.0  15.157116  4.102000  9.446052  12.306363  14.561071   \n",
       "\n",
       "         75%        max  \n",
       "0  14.889646  17.379272  \n",
       "1  16.701351  24.926584  "
      ]
     },
     "execution_count": 28,
     "metadata": {},
     "output_type": "execute_result"
    }
   ],
   "source": [
    "stat_data "
   ]
  },
  {
   "cell_type": "code",
   "execution_count": 50,
   "id": "94b4d9b4",
   "metadata": {
    "ExecuteTime": {
     "end_time": "2022-05-13T22:07:39.077391Z",
     "start_time": "2022-05-13T22:07:39.032069Z"
    }
   },
   "outputs": [
    {
     "name": "stdout",
     "output_type": "stream",
     "text": [
      "TF ChIP w JASPAR motif arch\n",
      "core    16\n",
      "der     16\n",
      "Name: tf, dtype: int64 \n",
      "\n",
      "\n",
      "      count       mean       std       min        25%        50%        75%  \\\n",
      "arch                                                                          \n",
      "core   16.0  13.571357  2.116933  9.889662  12.224913  13.839436  14.889646   \n",
      "der    16.0  15.157116  4.102000  9.446052  12.306363  14.561071  16.701351   \n",
      "\n",
      "            max  \n",
      "arch             \n",
      "core  17.379272  \n",
      "der   24.926584  \n",
      "Welch's test stat= 1.3741300894677297 p= 0.18295957409574687\n"
     ]
    },
    {
     "data": {
      "text/plain": [
       "(None, (1.3741300894677297, 0.18295957409574687))"
      ]
     },
     "execution_count": 50,
     "metadata": {},
     "output_type": "execute_result"
    }
   ],
   "source": [
    "do_stats(max_counts), welchs_test(max_counts)"
   ]
  },
  {
   "cell_type": "markdown",
   "id": "094df49d",
   "metadata": {},
   "source": [
    "### SP1 overlaps both core and derived regions "
   ]
  },
  {
   "cell_type": "code",
   "execution_count": 29,
   "id": "cd123a79",
   "metadata": {
    "ExecuteTime": {
     "end_time": "2022-05-13T21:41:45.074458Z",
     "start_time": "2022-05-13T21:41:45.030068Z"
    }
   },
   "outputs": [
    {
     "data": {
      "text/html": [
       "<div>\n",
       "<style scoped>\n",
       "    .dataframe tbody tr th:only-of-type {\n",
       "        vertical-align: middle;\n",
       "    }\n",
       "\n",
       "    .dataframe tbody tr th {\n",
       "        vertical-align: top;\n",
       "    }\n",
       "\n",
       "    .dataframe thead th {\n",
       "        text-align: right;\n",
       "    }\n",
       "</style>\n",
       "<table border=\"1\" class=\"dataframe\">\n",
       "  <thead>\n",
       "    <tr style=\"text-align: right;\">\n",
       "      <th></th>\n",
       "      <th>OR</th>\n",
       "      <th>P</th>\n",
       "      <th>a</th>\n",
       "      <th>b</th>\n",
       "      <th>c</th>\n",
       "      <th>ci_lower</th>\n",
       "      <th>ci_upper</th>\n",
       "      <th>comparison_name</th>\n",
       "      <th>d</th>\n",
       "      <th>universe</th>\n",
       "      <th>reject_null</th>\n",
       "      <th>FDR_P</th>\n",
       "      <th>arch</th>\n",
       "      <th>tf</th>\n",
       "      <th>log2</th>\n",
       "      <th>taxon2</th>\n",
       "    </tr>\n",
       "  </thead>\n",
       "  <tbody>\n",
       "    <tr>\n",
       "      <th>43</th>\n",
       "      <td>0.884907</td>\n",
       "      <td>0.002769</td>\n",
       "      <td>1185.0</td>\n",
       "      <td>39311.0</td>\n",
       "      <td>1307.0</td>\n",
       "      <td>0.816981</td>\n",
       "      <td>0.958481</td>\n",
       "      <td>SP1-complex_derived_v_complex_core-TFBS</td>\n",
       "      <td>38368.0</td>\n",
       "      <td>TFBS</td>\n",
       "      <td>True</td>\n",
       "      <td>0.008306</td>\n",
       "      <td>core</td>\n",
       "      <td>SP1</td>\n",
       "      <td>-0.176402</td>\n",
       "      <td>Eutheria</td>\n",
       "    </tr>\n",
       "    <tr>\n",
       "      <th>1347</th>\n",
       "      <td>1.045292</td>\n",
       "      <td>0.633026</td>\n",
       "      <td>129.0</td>\n",
       "      <td>5253.0</td>\n",
       "      <td>1180.0</td>\n",
       "      <td>0.869649</td>\n",
       "      <td>1.256409</td>\n",
       "      <td>SP1-complex_derived_v_complex_core-TFBS</td>\n",
       "      <td>50227.0</td>\n",
       "      <td>TFBS</td>\n",
       "      <td>False</td>\n",
       "      <td>0.886600</td>\n",
       "      <td>der</td>\n",
       "      <td>SP1</td>\n",
       "      <td>0.063906</td>\n",
       "      <td>Vertebrata</td>\n",
       "    </tr>\n",
       "    <tr>\n",
       "      <th>2676</th>\n",
       "      <td>0.992955</td>\n",
       "      <td>0.898340</td>\n",
       "      <td>586.0</td>\n",
       "      <td>23327.0</td>\n",
       "      <td>1179.0</td>\n",
       "      <td>0.898190</td>\n",
       "      <td>1.097718</td>\n",
       "      <td>SP1-complex_derived_v_complex_core-TFBS</td>\n",
       "      <td>46602.0</td>\n",
       "      <td>TFBS</td>\n",
       "      <td>False</td>\n",
       "      <td>0.932562</td>\n",
       "      <td>core</td>\n",
       "      <td>SP1</td>\n",
       "      <td>-0.010200</td>\n",
       "      <td>Amniota</td>\n",
       "    </tr>\n",
       "    <tr>\n",
       "      <th>3947</th>\n",
       "      <td>0.979657</td>\n",
       "      <td>0.757272</td>\n",
       "      <td>454.0</td>\n",
       "      <td>15449.0</td>\n",
       "      <td>657.0</td>\n",
       "      <td>0.867682</td>\n",
       "      <td>1.106082</td>\n",
       "      <td>SP1-complex_derived_v_complex_core-TFBS</td>\n",
       "      <td>21902.0</td>\n",
       "      <td>TFBS</td>\n",
       "      <td>False</td>\n",
       "      <td>0.856047</td>\n",
       "      <td>core</td>\n",
       "      <td>SP1</td>\n",
       "      <td>-0.029652</td>\n",
       "      <td>Theria</td>\n",
       "    </tr>\n",
       "    <tr>\n",
       "      <th>5214</th>\n",
       "      <td>0.856439</td>\n",
       "      <td>0.124647</td>\n",
       "      <td>150.0</td>\n",
       "      <td>5541.0</td>\n",
       "      <td>358.0</td>\n",
       "      <td>0.705893</td>\n",
       "      <td>1.039093</td>\n",
       "      <td>SP1-complex_derived_v_complex_core-TFBS</td>\n",
       "      <td>11326.0</td>\n",
       "      <td>TFBS</td>\n",
       "      <td>False</td>\n",
       "      <td>0.239450</td>\n",
       "      <td>core</td>\n",
       "      <td>SP1</td>\n",
       "      <td>-0.223577</td>\n",
       "      <td>Mammalia</td>\n",
       "    </tr>\n",
       "    <tr>\n",
       "      <th>6384</th>\n",
       "      <td>0.947062</td>\n",
       "      <td>0.576384</td>\n",
       "      <td>432.0</td>\n",
       "      <td>12985.0</td>\n",
       "      <td>135.0</td>\n",
       "      <td>0.778047</td>\n",
       "      <td>1.152793</td>\n",
       "      <td>SP1-complex_derived_v_complex_core-TFBS</td>\n",
       "      <td>3843.0</td>\n",
       "      <td>TFBS</td>\n",
       "      <td>False</td>\n",
       "      <td>1.000000</td>\n",
       "      <td>core</td>\n",
       "      <td>SP1</td>\n",
       "      <td>-0.078469</td>\n",
       "      <td>Boreoeutheria</td>\n",
       "    </tr>\n",
       "    <tr>\n",
       "      <th>7499</th>\n",
       "      <td>0.765705</td>\n",
       "      <td>0.545625</td>\n",
       "      <td>246.0</td>\n",
       "      <td>7068.0</td>\n",
       "      <td>1.0</td>\n",
       "      <td>0.102797</td>\n",
       "      <td>5.703514</td>\n",
       "      <td>SP1-complex_derived_v_complex_core-TFBS</td>\n",
       "      <td>22.0</td>\n",
       "      <td>TFBS</td>\n",
       "      <td>False</td>\n",
       "      <td>1.000000</td>\n",
       "      <td>core</td>\n",
       "      <td>SP1</td>\n",
       "      <td>-0.385140</td>\n",
       "      <td>Primate</td>\n",
       "    </tr>\n",
       "  </tbody>\n",
       "</table>\n",
       "</div>"
      ],
      "text/plain": [
       "            OR         P       a        b       c  ci_lower  ci_upper  \\\n",
       "43    0.884907  0.002769  1185.0  39311.0  1307.0  0.816981  0.958481   \n",
       "1347  1.045292  0.633026   129.0   5253.0  1180.0  0.869649  1.256409   \n",
       "2676  0.992955  0.898340   586.0  23327.0  1179.0  0.898190  1.097718   \n",
       "3947  0.979657  0.757272   454.0  15449.0   657.0  0.867682  1.106082   \n",
       "5214  0.856439  0.124647   150.0   5541.0   358.0  0.705893  1.039093   \n",
       "6384  0.947062  0.576384   432.0  12985.0   135.0  0.778047  1.152793   \n",
       "7499  0.765705  0.545625   246.0   7068.0     1.0  0.102797  5.703514   \n",
       "\n",
       "                              comparison_name        d universe  reject_null  \\\n",
       "43    SP1-complex_derived_v_complex_core-TFBS  38368.0     TFBS         True   \n",
       "1347  SP1-complex_derived_v_complex_core-TFBS  50227.0     TFBS        False   \n",
       "2676  SP1-complex_derived_v_complex_core-TFBS  46602.0     TFBS        False   \n",
       "3947  SP1-complex_derived_v_complex_core-TFBS  21902.0     TFBS        False   \n",
       "5214  SP1-complex_derived_v_complex_core-TFBS  11326.0     TFBS        False   \n",
       "6384  SP1-complex_derived_v_complex_core-TFBS   3843.0     TFBS        False   \n",
       "7499  SP1-complex_derived_v_complex_core-TFBS     22.0     TFBS        False   \n",
       "\n",
       "         FDR_P  arch   tf      log2         taxon2  \n",
       "43    0.008306  core  SP1 -0.176402       Eutheria  \n",
       "1347  0.886600   der  SP1  0.063906     Vertebrata  \n",
       "2676  0.932562  core  SP1 -0.010200        Amniota  \n",
       "3947  0.856047  core  SP1 -0.029652         Theria  \n",
       "5214  0.239450  core  SP1 -0.223577       Mammalia  \n",
       "6384  1.000000  core  SP1 -0.078469  Boreoeutheria  \n",
       "7499  1.000000  core  SP1 -0.385140        Primate  "
      ]
     },
     "execution_count": 29,
     "metadata": {},
     "output_type": "execute_result"
    }
   ],
   "source": [
    "allOR.loc[allOR[\"tf\"]==\"SP1\"]"
   ]
  },
  {
   "cell_type": "markdown",
   "id": "6e8bd7a3",
   "metadata": {},
   "source": [
    "# k562"
   ]
  },
  {
   "cell_type": "code",
   "execution_count": 30,
   "id": "fdbb1793",
   "metadata": {
    "ExecuteTime": {
     "end_time": "2022-05-13T21:41:47.287595Z",
     "start_time": "2022-05-13T21:41:47.125779Z"
    }
   },
   "outputs": [
    {
     "name": "stderr",
     "output_type": "stream",
     "text": [
      "/home/fongsl/.conda/envs/sfenv/lib/python3.6/site-packages/ipykernel_launcher.py:13: SettingWithCopyWarning: \n",
      "A value is trying to be set on a copy of a slice from a DataFrame.\n",
      "Try using .loc[row_indexer,col_indexer] = value instead\n",
      "\n",
      "See the caveats in the documentation: https://pandas.pydata.org/pandas-docs/stable/user_guide/indexing.html#returning-a-view-versus-a-copy\n",
      "  del sys.path[0]\n",
      "/home/fongsl/.local/lib/python3.6/site-packages/pandas/core/indexing.py:1763: SettingWithCopyWarning: \n",
      "A value is trying to be set on a copy of a slice from a DataFrame.\n",
      "Try using .loc[row_indexer,col_indexer] = value instead\n",
      "\n",
      "See the caveats in the documentation: https://pandas.pydata.org/pandas-docs/stable/user_guide/indexing.html#returning-a-view-versus-a-copy\n",
      "  isetter(loc, value)\n"
     ]
    }
   ],
   "source": [
    "OR = pd.read_csv(K562, sep = '\\t')\n",
    "\n",
    "sig = OR.loc[\n",
    "            (OR[\"arch\"] == \"complex_derived_v_complex_core\") &\n",
    "            (OR[\"universe\"]== \"TFBS\")&\n",
    "            (OR[\"reject_null\"]==True)\n",
    "            ]\n",
    "allOR = OR.loc[\n",
    "            (OR[\"arch\"] == \"complex_derived_v_complex_core\") &\n",
    "            (OR[\"universe\"]== \"TFBS\")\n",
    "            ]\n",
    "\n",
    "allOR[\"arch\"] = \"der\"\n",
    "allOR.loc[allOR[\"OR\"]<1, \"arch\"] = \"core\""
   ]
  },
  {
   "cell_type": "markdown",
   "id": "46272a7d",
   "metadata": {},
   "source": [
    "## sig tfs"
   ]
  },
  {
   "cell_type": "code",
   "execution_count": 31,
   "id": "815142a1",
   "metadata": {
    "ExecuteTime": {
     "end_time": "2022-05-13T21:41:48.910189Z",
     "start_time": "2022-05-13T21:41:48.858638Z"
    }
   },
   "outputs": [
    {
     "name": "stdout",
     "output_type": "stream",
     "text": [
      "core ChIP n= 26 \n",
      "der ChIP n= 29\n",
      "Welch's test stat= 1.1983520851073317 p= 0.2625774483381045\n"
     ]
    },
    {
     "data": {
      "text/plain": [
       "(1.1983520851073317, 0.2625774483381045)"
      ]
     },
     "execution_count": 31,
     "metadata": {},
     "output_type": "execute_result"
    }
   ],
   "source": [
    "\"\"\"\n",
    "1. get sets of sig. enriched core, derived tf names \n",
    "2. make dictionary object to collect information content linked to TFs in core/derived\n",
    "3. per core/derived test, for each TF\n",
    "4. make a unique key of ARCH + TF name\n",
    "5. make a dataframe with the TF, architecture label, and information content value. \n",
    "6. add to dictionary.\n",
    "7. concat dictionary values (dataframes)\n",
    "8. Welch's test for significant differences in information content between core and derived motifs. \n",
    "\"\"\"\n",
    "\n",
    "#1\n",
    "core_tfs, der_tfs = get_tfChIP_sets(sig)\n",
    "\n",
    "#2\n",
    "collection_dict = {}\n",
    "\n",
    "sig_tfsets = [(\"der\", der_tfs), (\"core\", core_tfs)]\n",
    "\n",
    "#3\n",
    "for arch, tfset in sig_tfsets:\n",
    "    \n",
    "    for key in tfset:\n",
    "    \n",
    "        if key in keys:\n",
    "            \n",
    "            #4 make a unique key\n",
    "            # bc some TFs are enriched in cores for some ages and derived for other ages (e.g. SP1)\n",
    "            uniqueKey = arch+\"-\"+key  \n",
    "            \n",
    "            #5\n",
    "            newdf = make_ic_df(key, arch, info)\n",
    "            \n",
    "            #6\n",
    "            collection_dict[uniqueKey] = newdf\n",
    "\n",
    "#7\n",
    "sig_results = pd.concat(collection_dict.values())\n",
    "\n",
    "#8 Do welch's test to evaluate significance\n",
    "welchs_test(sig_results)"
   ]
  },
  {
   "cell_type": "code",
   "execution_count": 32,
   "id": "5c5b4759",
   "metadata": {
    "ExecuteTime": {
     "end_time": "2022-05-13T21:41:52.090176Z",
     "start_time": "2022-05-13T21:41:52.052230Z"
    }
   },
   "outputs": [
    {
     "name": "stdout",
     "output_type": "stream",
     "text": [
      "TF ChIP w JASPAR motif arch\n",
      "core    4\n",
      "der     7\n",
      "Name: tf, dtype: int64 \n",
      "\n",
      "\n",
      "      count       mean       std        min        25%        50%        75%  \\\n",
      "arch                                                                           \n",
      "core    4.0  14.421750  2.380573  11.016601  13.705316  15.171109  15.887543   \n",
      "der     7.0  16.601944  3.640354  12.715462  14.023694  15.643142  19.123704   \n",
      "\n",
      "            max  \n",
      "arch             \n",
      "core  16.328181  \n",
      "der   21.560206  \n"
     ]
    }
   ],
   "source": [
    "do_stats(sig_results)"
   ]
  },
  {
   "cell_type": "markdown",
   "id": "2d3603a7",
   "metadata": {},
   "source": [
    "## all tfs"
   ]
  },
  {
   "cell_type": "code",
   "execution_count": 33,
   "id": "520b4170",
   "metadata": {
    "ExecuteTime": {
     "end_time": "2022-05-13T21:41:54.252325Z",
     "start_time": "2022-05-13T21:41:54.015310Z"
    }
   },
   "outputs": [
    {
     "name": "stdout",
     "output_type": "stream",
     "text": [
      "core ChIP n= 229 \n",
      "der ChIP n= 230\n",
      "Welch's test stat= -0.05308397887408403 p= 0.9577446775937761\n"
     ]
    },
    {
     "data": {
      "text/plain": [
       "(-0.05308397887408403, 0.9577446775937761)"
      ]
     },
     "execution_count": 33,
     "metadata": {},
     "output_type": "execute_result"
    }
   ],
   "source": [
    "\"\"\"\n",
    "1. get sets of sig. enriched core, derived tf names \n",
    "2. make dictionary object to collect information content linked to TFs in core/derived\n",
    "3. per core/derived test, for each TF\n",
    "4. make a unique key of ARCH + TF name\n",
    "5. make a dataframe with the TF, architecture label, and information content value. \n",
    "6. add to dictionary.\n",
    "7. concat dictionary values (dataframes)\n",
    "8. Welch's test for significant differences in information content between core and derived motifs. \n",
    "\"\"\"\n",
    "\n",
    "#1\n",
    "core_tfs, der_tfs = get_tfChIP_sets(allOR)\n",
    "\n",
    "#2\n",
    "collection_dict = {}\n",
    "\n",
    "tfsets = [(\"der\", der_tfs), (\"core\", core_tfs)]\n",
    "\n",
    "#3\n",
    "for arch, tfset in tfsets:\n",
    "    \n",
    "    for key in tfset:\n",
    "    \n",
    "        if key in keys:\n",
    "            \n",
    "            #4 make a unique key\n",
    "            # bc some TFs are enriched in cores for some ages and derived for other ages (e.g. SP1)\n",
    "            uniqueKey = arch+\"-\"+key  \n",
    "            \n",
    "            #5\n",
    "            newdf = make_ic_df(key, arch, info)\n",
    "            \n",
    "            #6\n",
    "            collection_dict[uniqueKey] = newdf\n",
    "\n",
    "#7\n",
    "results = pd.concat(collection_dict.values())\n",
    "\n",
    "#8 Do welch's test to evaluate significance\n",
    "welchs_test(results)"
   ]
  },
  {
   "cell_type": "code",
   "execution_count": 34,
   "id": "a712fe46",
   "metadata": {
    "ExecuteTime": {
     "end_time": "2022-05-13T21:41:57.908234Z",
     "start_time": "2022-05-13T21:41:57.870443Z"
    }
   },
   "outputs": [
    {
     "name": "stdout",
     "output_type": "stream",
     "text": [
      "TF ChIP w JASPAR motif arch\n",
      "core    68\n",
      "der     67\n",
      "Name: tf, dtype: int64 \n",
      "\n",
      "\n",
      "      count       mean       std       min        25%        50%        75%  \\\n",
      "arch                                                                          \n",
      "core   68.0  15.078302  3.893365  7.374992  12.650282  14.903903  16.980586   \n",
      "der    67.0  15.042641  3.911544  7.374992  12.623308  14.900883  16.960586   \n",
      "\n",
      "            max  \n",
      "arch             \n",
      "core  24.926584  \n",
      "der   24.926584  \n"
     ]
    }
   ],
   "source": [
    "do_stats(results)"
   ]
  },
  {
   "cell_type": "code",
   "execution_count": 35,
   "id": "14b2111a",
   "metadata": {
    "ExecuteTime": {
     "end_time": "2022-05-13T21:41:59.282806Z",
     "start_time": "2022-05-13T21:41:58.411408Z"
    }
   },
   "outputs": [
    {
     "name": "stdout",
     "output_type": "stream",
     "text": [
      "0 4.0 16.811699520073386\n",
      "1 7.0 15.072654085888587\n",
      "0 68.0 15.740663943721298\n",
      "1 67.0 8.44271251933297\n"
     ]
    },
    {
     "data": {
      "image/png": "[encoded data removed]",
      "text/plain": [
       "<Figure size 864x432 with 2 Axes>"
      ]
     },
     "metadata": {
      "needs_background": "light"
     },
     "output_type": "display_data"
    }
   ],
   "source": [
    "pp.fonts()\n",
    "cell_line = 'K562'\n",
    "x=\"arch\"\n",
    "y=\"IC\"\n",
    "order = [\"core\", \"der\"]\n",
    "fig, (ax1, ax2) = plt.subplots(ncols=2, figsize = (12,6))\n",
    "\n",
    "# plot sig ChIP TF motif IC \n",
    "data=sig_results\n",
    "sns.boxplot(x=x,y=y,data=data, order=order, ax=ax1)\n",
    "ax1.set(title=f\"{cell_line} TF motifs\\nsignificantly enriched ChIP-seq\")\n",
    "annotate_boxplot_count(data, x, y, ax1)\n",
    "\n",
    "# plot all ChIP TF motif IC \n",
    "data=results\n",
    "sns.boxplot(x=x,y=y,data=data,order=order, ax=ax2)\n",
    "ax2.set(title=f\"{cell_line} TF motifs\\nall ChIP-seq\")\n",
    "annotate_boxplot_count(data, x, y, ax2)\n",
    "\n",
    "out = os.path.join(RE_K562, f\"{cell_line}_TFBS_ChIP-seq_JASPAR_information_content.pdf\")\n",
    "plt.savefig(out, bbox_inches = 'tight')"
   ]
  },
  {
   "cell_type": "code",
   "execution_count": 37,
   "id": "7a05bef4",
   "metadata": {
    "ExecuteTime": {
     "end_time": "2022-05-13T21:42:31.268728Z",
     "start_time": "2022-05-13T21:42:31.203863Z"
    }
   },
   "outputs": [],
   "source": [
    "# consider sequence enrichment in each category. \n",
    "\n",
    "taxon_results = pd.merge(allOR[[\"tf\", \"arch\", \"taxon2\"]].drop_duplicates(), results).drop_duplicates()\n",
    "\n",
    "\n",
    "# count the number of taxons where an architecture is enriched. \n",
    "counts = (taxon_results.groupby([\"tf\", \"arch\"])[\"taxon2\"].count().reset_index())\n",
    "\n",
    "# find the architecture with the most enrichments\n",
    "max_counts = counts.groupby('tf')[\"taxon2\"].max().reset_index()\n",
    "\n",
    "# add back the architecture identity\n",
    "max_counts = pd.merge(max_counts, counts, how = \"left\")\n",
    "\n",
    "# add back the tf and information content. \n",
    "max_counts = pd.merge(max_counts, taxon_results[[\"tf\", \"IC\"]], how = \"left\").drop_duplicates()"
   ]
  },
  {
   "cell_type": "code",
   "execution_count": 38,
   "id": "ca65c943",
   "metadata": {
    "ExecuteTime": {
     "end_time": "2022-05-13T21:42:32.811269Z",
     "start_time": "2022-05-13T21:42:32.214111Z"
    }
   },
   "outputs": [
    {
     "name": "stdout",
     "output_type": "stream",
     "text": [
      "0 4.0 16.811699520073386\n",
      "1 7.0 15.072654085888587\n",
      "0 39.0 15.428178092590914\n",
      "1 31.0 17.379272248393097\n"
     ]
    },
    {
     "data": {
      "image/png": "[encoded data removed]",
      "text/plain": [
       "<Figure size 864x432 with 2 Axes>"
      ]
     },
     "metadata": {
      "needs_background": "light"
     },
     "output_type": "display_data"
    }
   ],
   "source": [
    "pp.fonts()\n",
    "cell_line = 'K562'\n",
    "x=\"arch\"\n",
    "y=\"IC\"\n",
    "order = [\"core\", \"der\"]\n",
    "fig, (ax1, ax2) = plt.subplots(ncols=2, figsize = (12,6))\n",
    "\n",
    "# plot sig ChIP TF motif IC \n",
    "data=sig_results\n",
    "sns.boxplot(x=x,y=y,data=data, order=order, ax=ax1)\n",
    "ax1.set(title=f\"{cell_line} TF motifs\\nsignificantly enriched ChIP-seq\")\n",
    "annotate_boxplot_count(data, x, y, ax1)\n",
    "\n",
    "# plot all ChIP TF motif IC \n",
    "data=max_counts\n",
    "sns.boxplot(x=x,y=y,data=data,order=order, ax=ax2)\n",
    "ax2.set(title=f\"{cell_line} TF motifs\\nall ChIP-seq\")\n",
    "annotate_boxplot_count(data, x, y, ax2)\n",
    "\n",
    "out = os.path.join(RE_K562, f\"{cell_line}_TFBS_ChIP-seq_JASPAR_information_content.pdf\")\n",
    "plt.savefig(out, bbox_inches = 'tight')"
   ]
  },
  {
   "cell_type": "code",
   "execution_count": 39,
   "id": "b698953d",
   "metadata": {
    "ExecuteTime": {
     "end_time": "2022-05-13T22:05:21.444813Z",
     "start_time": "2022-05-13T22:05:21.405357Z"
    }
   },
   "outputs": [
    {
     "name": "stdout",
     "output_type": "stream",
     "text": [
      "TF ChIP w JASPAR motif arch\n",
      "core    39\n",
      "der     31\n",
      "Name: tf, dtype: int64 \n",
      "\n",
      "\n",
      "      count       mean       std       min        25%        50%        75%  \\\n",
      "arch                                                                          \n",
      "core   39.0  14.713525  4.121563  8.442713  11.180302  14.456950  17.035290   \n",
      "der    31.0  15.568484  3.454112  7.374992  13.504428  15.428178  16.713836   \n",
      "\n",
      "            max  \n",
      "arch             \n",
      "core  24.926584  \n",
      "der   22.481492  \n"
     ]
    }
   ],
   "source": [
    "do_stats(max_counts), welchs_test(max_counts)"
   ]
  },
  {
   "cell_type": "code",
   "execution_count": 40,
   "id": "da590217",
   "metadata": {
    "ExecuteTime": {
     "end_time": "2022-05-13T22:06:37.154479Z",
     "start_time": "2022-05-13T22:06:37.137278Z"
    }
   },
   "outputs": [
    {
     "name": "stdout",
     "output_type": "stream",
     "text": [
      "Welch's test stat= 0.9438920778579815 p= 0.3485770196334782\n"
     ]
    },
    {
     "data": {
      "text/plain": [
       "(0.9438920778579815, 0.3485770196334782)"
      ]
     },
     "execution_count": 40,
     "metadata": {},
     "output_type": "execute_result"
    }
   ],
   "source": []
  },
  {
   "cell_type": "code",
   "execution_count": null,
   "id": "ed39f1c5",
   "metadata": {},
   "outputs": [],
   "source": []
  }
 ],
 "metadata": {
  "kernelspec": {
   "display_name": "Python (sfenv)",
   "language": "python",
   "name": "sfenv"
  },
  "language_info": {
   "codemirror_mode": {
    "name": "ipython",
    "version": 3
   },
   "file_extension": ".py",
   "mimetype": "text/x-python",
   "name": "python",
   "nbconvert_exporter": "python",
   "pygments_lexer": "ipython3",
   "version": "3.6.5"
  },
  "toc": {
   "base_numbering": 1,
   "nav_menu": {},
   "number_sections": true,
   "sideBar": true,
   "skip_h1_title": false,
   "title_cell": "Table of Contents",
   "title_sidebar": "Contents",
   "toc_cell": false,
   "toc_position": {},
   "toc_section_display": true,
   "toc_window_display": false
  }
 },
 "nbformat": 4,
 "nbformat_minor": 5
}
